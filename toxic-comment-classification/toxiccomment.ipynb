{
 "cells": [
  {
   "cell_type": "markdown",
   "metadata": {
    "id": "Hyxdr3qvgiWV"
   },
   "source": [
    "# Классификация токсичных комментариев"
   ]
  },
  {
   "cell_type": "markdown",
   "metadata": {
    "id": "45BqBIC1gxhB"
   },
   "source": [
    "Необходимо обучить модель классифицировать комментарии на позитивные и негативные. В распоряжении набор данных с разметкой о токсичности правок.\n",
    "\n",
    "Критерии: метрика качества *F1* не меньше 0.75.\n",
    "\n",
    "**Описание данных**\n",
    "\n",
    "Столбец *text* содержит текст комментария, а *toxic* — целевой признак."
   ]
  },
  {
   "cell_type": "markdown",
   "metadata": {
    "id": "6aZ4hIPUhyq7"
   },
   "source": [
    "## Подготовка данных"
   ]
  },
  {
   "cell_type": "code",
   "execution_count": null,
   "metadata": {
    "colab": {
     "base_uri": "https://localhost:8080/"
    },
    "execution": {
     "iopub.execute_input": "2024-01-30T21:38:52.253880Z",
     "iopub.status.busy": "2024-01-30T21:38:52.253480Z",
     "iopub.status.idle": "2024-01-30T21:38:52.299268Z",
     "shell.execute_reply": "2024-01-30T21:38:52.298441Z",
     "shell.execute_reply.started": "2024-01-30T21:38:52.253852Z"
    },
    "id": "tLEtsSKAGzcW",
    "outputId": "b0b2ca4b-c93f-4b36-9e55-eb180266de8e",
    "tags": []
   },
   "outputs": [
    {
     "name": "stderr",
     "output_type": "stream",
     "text": [
      "[nltk_data] Downloading package stopwords to /root/nltk_data...\n",
      "[nltk_data]   Package stopwords is already up-to-date!\n"
     ]
    },
    {
     "data": {
      "text/plain": [
       "device(type='cuda', index=0)"
      ]
     },
     "execution_count": 51,
     "metadata": {},
     "output_type": "execute_result"
    }
   ],
   "source": [
    "from io import BytesIO\n",
    "import requests\n",
    "from tqdm import notebook\n",
    "import re\n",
    "from collections import defaultdict, Counter\n",
    "\n",
    "import pandas as pd\n",
    "import numpy as np\n",
    "import matplotlib.pyplot as plt\n",
    "import seaborn as sns\n",
    "\n",
    "import nltk\n",
    "from nltk.corpus import stopwords\n",
    "\n",
    "from sklearn.linear_model import LogisticRegression\n",
    "from sklearn.model_selection import cross_val_score, train_test_split, GridSearchCV, KFold\n",
    "from sklearn.metrics import f1_score\n",
    "from sklearn.dummy import DummyClassifier\n",
    "from sklearn.utils.class_weight import compute_class_weight\n",
    "from imblearn.pipeline import Pipeline, make_pipeline\n",
    "from imblearn.over_sampling import RandomOverSampler, SMOTE\n",
    "\n",
    "import transformers\n",
    "from transformers import AutoTokenizer, AutoModel, AdamW, get_linear_schedule_with_warmup\n",
    "\n",
    "import torch\n",
    "from torcheval.metrics import BinaryF1Score, BinaryAccuracy\n",
    "from torch import nn, optim\n",
    "from torch.utils.data import Dataset, DataLoader\n",
    "import torch.nn.functional as F\n",
    "from torchsampler import ImbalancedDatasetSampler\n",
    "\n",
    "import optuna\n",
    "\n",
    "\n",
    "RANDOM_STATE = 1\n",
    "np.random.seed(RANDOM_STATE)\n",
    "torch.manual_seed(RANDOM_STATE)\n",
    "\n",
    "nltk.download('stopwords')\n",
    "\n",
    "device = torch.device(\"cuda:0\" if torch.cuda.is_available() else \"cpu\")\n",
    "device"
   ]
  },
  {
   "cell_type": "code",
   "execution_count": null,
   "metadata": {
    "execution": {
     "iopub.execute_input": "2024-01-30T13:54:38.943008Z",
     "iopub.status.busy": "2024-01-30T13:54:38.942370Z",
     "iopub.status.idle": "2024-01-30T13:54:38.946497Z",
     "shell.execute_reply": "2024-01-30T13:54:38.945832Z",
     "shell.execute_reply.started": "2024-01-30T13:54:38.942977Z"
    },
    "id": "Ampy204kEs3E",
    "tags": []
   },
   "outputs": [],
   "source": [
    "import warnings\n",
    "\n",
    "\n",
    "warnings.filterwarnings('ignore')"
   ]
  },
  {
   "cell_type": "markdown",
   "metadata": {
    "id": "ZsqAbER78wz8"
   },
   "source": [
    "### Загрузка и изучение"
   ]
  },
  {
   "cell_type": "code",
   "execution_count": null,
   "metadata": {
    "execution": {
     "iopub.execute_input": "2024-01-30T13:54:45.536291Z",
     "iopub.status.busy": "2024-01-30T13:54:45.535883Z",
     "iopub.status.idle": "2024-01-30T13:54:58.571053Z",
     "shell.execute_reply": "2024-01-30T13:54:58.570368Z",
     "shell.execute_reply.started": "2024-01-30T13:54:45.536262Z"
    },
    "id": "EkskwKuIKxFn",
    "tags": []
   },
   "outputs": [],
   "source": [
    "url = 'https://docs.google.com/spreadsheets/d/1lkNJQ5n2H_V5jQOPaOiw_Tcp5dAnCODW1wQCzLbveHY/edit?usp=drive_link'\n",
    "spreadsheet_id = url.split('/')[-2]\n",
    "file_name = 'https://docs.google.com/spreadsheets/d/{}/export?format=csv'.format(spreadsheet_id)\n",
    "r = requests.get(file_name)\n",
    "df = pd.read_csv(BytesIO(r.content), index_col=[0])"
   ]
  },
  {
   "cell_type": "code",
   "execution_count": null,
   "metadata": {
    "colab": {
     "base_uri": "https://localhost:8080/",
     "height": 206
    },
    "execution": {
     "iopub.execute_input": "2024-01-30T13:54:58.572802Z",
     "iopub.status.busy": "2024-01-30T13:54:58.572354Z",
     "iopub.status.idle": "2024-01-30T13:54:58.586746Z",
     "shell.execute_reply": "2024-01-30T13:54:58.585918Z",
     "shell.execute_reply.started": "2024-01-30T13:54:58.572771Z"
    },
    "id": "kbdv7smWLRRq",
    "outputId": "d502ba88-0882-4a53-e23c-bd7e0d0f0cad",
    "tags": []
   },
   "outputs": [
    {
     "data": {
      "text/html": [
       "\n",
       "  <div id=\"df-18ada4f4-293a-44b6-870d-80f085315575\" class=\"colab-df-container\">\n",
       "    <div>\n",
       "<style scoped>\n",
       "    .dataframe tbody tr th:only-of-type {\n",
       "        vertical-align: middle;\n",
       "    }\n",
       "\n",
       "    .dataframe tbody tr th {\n",
       "        vertical-align: top;\n",
       "    }\n",
       "\n",
       "    .dataframe thead th {\n",
       "        text-align: right;\n",
       "    }\n",
       "</style>\n",
       "<table border=\"1\" class=\"dataframe\">\n",
       "  <thead>\n",
       "    <tr style=\"text-align: right;\">\n",
       "      <th></th>\n",
       "      <th>text</th>\n",
       "      <th>toxic</th>\n",
       "    </tr>\n",
       "  </thead>\n",
       "  <tbody>\n",
       "    <tr>\n",
       "      <th>0</th>\n",
       "      <td>Explanation\\nWhy the edits made under my usern...</td>\n",
       "      <td>0</td>\n",
       "    </tr>\n",
       "    <tr>\n",
       "      <th>1</th>\n",
       "      <td>D'aww! He matches this background colour I'm s...</td>\n",
       "      <td>0</td>\n",
       "    </tr>\n",
       "    <tr>\n",
       "      <th>2</th>\n",
       "      <td>Hey man, I'm really not trying to edit war. It...</td>\n",
       "      <td>0</td>\n",
       "    </tr>\n",
       "    <tr>\n",
       "      <th>3</th>\n",
       "      <td>\"\\nMore\\nI can't make any real suggestions on ...</td>\n",
       "      <td>0</td>\n",
       "    </tr>\n",
       "    <tr>\n",
       "      <th>4</th>\n",
       "      <td>You, sir, are my hero. Any chance you remember...</td>\n",
       "      <td>0</td>\n",
       "    </tr>\n",
       "  </tbody>\n",
       "</table>\n",
       "</div>\n",
       "    <div class=\"colab-df-buttons\">\n",
       "\n",
       "  <div class=\"colab-df-container\">\n",
       "    <button class=\"colab-df-convert\" onclick=\"convertToInteractive('df-18ada4f4-293a-44b6-870d-80f085315575')\"\n",
       "            title=\"Convert this dataframe to an interactive table.\"\n",
       "            style=\"display:none;\">\n",
       "\n",
       "  <svg xmlns=\"http://www.w3.org/2000/svg\" height=\"24px\" viewBox=\"0 -960 960 960\">\n",
       "    <path d=\"M120-120v-720h720v720H120Zm60-500h600v-160H180v160Zm220 220h160v-160H400v160Zm0 220h160v-160H400v160ZM180-400h160v-160H180v160Zm440 0h160v-160H620v160ZM180-180h160v-160H180v160Zm440 0h160v-160H620v160Z\"/>\n",
       "  </svg>\n",
       "    </button>\n",
       "\n",
       "  <style>\n",
       "    .colab-df-container {\n",
       "      display:flex;\n",
       "      gap: 12px;\n",
       "    }\n",
       "\n",
       "    .colab-df-convert {\n",
       "      background-color: #E8F0FE;\n",
       "      border: none;\n",
       "      border-radius: 50%;\n",
       "      cursor: pointer;\n",
       "      display: none;\n",
       "      fill: #1967D2;\n",
       "      height: 32px;\n",
       "      padding: 0 0 0 0;\n",
       "      width: 32px;\n",
       "    }\n",
       "\n",
       "    .colab-df-convert:hover {\n",
       "      background-color: #E2EBFA;\n",
       "      box-shadow: 0px 1px 2px rgba(60, 64, 67, 0.3), 0px 1px 3px 1px rgba(60, 64, 67, 0.15);\n",
       "      fill: #174EA6;\n",
       "    }\n",
       "\n",
       "    .colab-df-buttons div {\n",
       "      margin-bottom: 4px;\n",
       "    }\n",
       "\n",
       "    [theme=dark] .colab-df-convert {\n",
       "      background-color: #3B4455;\n",
       "      fill: #D2E3FC;\n",
       "    }\n",
       "\n",
       "    [theme=dark] .colab-df-convert:hover {\n",
       "      background-color: #434B5C;\n",
       "      box-shadow: 0px 1px 3px 1px rgba(0, 0, 0, 0.15);\n",
       "      filter: drop-shadow(0px 1px 2px rgba(0, 0, 0, 0.3));\n",
       "      fill: #FFFFFF;\n",
       "    }\n",
       "  </style>\n",
       "\n",
       "    <script>\n",
       "      const buttonEl =\n",
       "        document.querySelector('#df-18ada4f4-293a-44b6-870d-80f085315575 button.colab-df-convert');\n",
       "      buttonEl.style.display =\n",
       "        google.colab.kernel.accessAllowed ? 'block' : 'none';\n",
       "\n",
       "      async function convertToInteractive(key) {\n",
       "        const element = document.querySelector('#df-18ada4f4-293a-44b6-870d-80f085315575');\n",
       "        const dataTable =\n",
       "          await google.colab.kernel.invokeFunction('convertToInteractive',\n",
       "                                                    [key], {});\n",
       "        if (!dataTable) return;\n",
       "\n",
       "        const docLinkHtml = 'Like what you see? Visit the ' +\n",
       "          '<a target=\"_blank\" href=https://colab.research.google.com/notebooks/data_table.ipynb>data table notebook</a>'\n",
       "          + ' to learn more about interactive tables.';\n",
       "        element.innerHTML = '';\n",
       "        dataTable['output_type'] = 'display_data';\n",
       "        await google.colab.output.renderOutput(dataTable, element);\n",
       "        const docLink = document.createElement('div');\n",
       "        docLink.innerHTML = docLinkHtml;\n",
       "        element.appendChild(docLink);\n",
       "      }\n",
       "    </script>\n",
       "  </div>\n",
       "\n",
       "\n",
       "<div id=\"df-615d641d-a406-4701-97a8-530566c425ad\">\n",
       "  <button class=\"colab-df-quickchart\" onclick=\"quickchart('df-615d641d-a406-4701-97a8-530566c425ad')\"\n",
       "            title=\"Suggest charts\"\n",
       "            style=\"display:none;\">\n",
       "\n",
       "<svg xmlns=\"http://www.w3.org/2000/svg\" height=\"24px\"viewBox=\"0 0 24 24\"\n",
       "     width=\"24px\">\n",
       "    <g>\n",
       "        <path d=\"M19 3H5c-1.1 0-2 .9-2 2v14c0 1.1.9 2 2 2h14c1.1 0 2-.9 2-2V5c0-1.1-.9-2-2-2zM9 17H7v-7h2v7zm4 0h-2V7h2v10zm4 0h-2v-4h2v4z\"/>\n",
       "    </g>\n",
       "</svg>\n",
       "  </button>\n",
       "\n",
       "<style>\n",
       "  .colab-df-quickchart {\n",
       "      --bg-color: #E8F0FE;\n",
       "      --fill-color: #1967D2;\n",
       "      --hover-bg-color: #E2EBFA;\n",
       "      --hover-fill-color: #174EA6;\n",
       "      --disabled-fill-color: #AAA;\n",
       "      --disabled-bg-color: #DDD;\n",
       "  }\n",
       "\n",
       "  [theme=dark] .colab-df-quickchart {\n",
       "      --bg-color: #3B4455;\n",
       "      --fill-color: #D2E3FC;\n",
       "      --hover-bg-color: #434B5C;\n",
       "      --hover-fill-color: #FFFFFF;\n",
       "      --disabled-bg-color: #3B4455;\n",
       "      --disabled-fill-color: #666;\n",
       "  }\n",
       "\n",
       "  .colab-df-quickchart {\n",
       "    background-color: var(--bg-color);\n",
       "    border: none;\n",
       "    border-radius: 50%;\n",
       "    cursor: pointer;\n",
       "    display: none;\n",
       "    fill: var(--fill-color);\n",
       "    height: 32px;\n",
       "    padding: 0;\n",
       "    width: 32px;\n",
       "  }\n",
       "\n",
       "  .colab-df-quickchart:hover {\n",
       "    background-color: var(--hover-bg-color);\n",
       "    box-shadow: 0 1px 2px rgba(60, 64, 67, 0.3), 0 1px 3px 1px rgba(60, 64, 67, 0.15);\n",
       "    fill: var(--button-hover-fill-color);\n",
       "  }\n",
       "\n",
       "  .colab-df-quickchart-complete:disabled,\n",
       "  .colab-df-quickchart-complete:disabled:hover {\n",
       "    background-color: var(--disabled-bg-color);\n",
       "    fill: var(--disabled-fill-color);\n",
       "    box-shadow: none;\n",
       "  }\n",
       "\n",
       "  .colab-df-spinner {\n",
       "    border: 2px solid var(--fill-color);\n",
       "    border-color: transparent;\n",
       "    border-bottom-color: var(--fill-color);\n",
       "    animation:\n",
       "      spin 1s steps(1) infinite;\n",
       "  }\n",
       "\n",
       "  @keyframes spin {\n",
       "    0% {\n",
       "      border-color: transparent;\n",
       "      border-bottom-color: var(--fill-color);\n",
       "      border-left-color: var(--fill-color);\n",
       "    }\n",
       "    20% {\n",
       "      border-color: transparent;\n",
       "      border-left-color: var(--fill-color);\n",
       "      border-top-color: var(--fill-color);\n",
       "    }\n",
       "    30% {\n",
       "      border-color: transparent;\n",
       "      border-left-color: var(--fill-color);\n",
       "      border-top-color: var(--fill-color);\n",
       "      border-right-color: var(--fill-color);\n",
       "    }\n",
       "    40% {\n",
       "      border-color: transparent;\n",
       "      border-right-color: var(--fill-color);\n",
       "      border-top-color: var(--fill-color);\n",
       "    }\n",
       "    60% {\n",
       "      border-color: transparent;\n",
       "      border-right-color: var(--fill-color);\n",
       "    }\n",
       "    80% {\n",
       "      border-color: transparent;\n",
       "      border-right-color: var(--fill-color);\n",
       "      border-bottom-color: var(--fill-color);\n",
       "    }\n",
       "    90% {\n",
       "      border-color: transparent;\n",
       "      border-bottom-color: var(--fill-color);\n",
       "    }\n",
       "  }\n",
       "</style>\n",
       "\n",
       "  <script>\n",
       "    async function quickchart(key) {\n",
       "      const quickchartButtonEl =\n",
       "        document.querySelector('#' + key + ' button');\n",
       "      quickchartButtonEl.disabled = true;  // To prevent multiple clicks.\n",
       "      quickchartButtonEl.classList.add('colab-df-spinner');\n",
       "      try {\n",
       "        const charts = await google.colab.kernel.invokeFunction(\n",
       "            'suggestCharts', [key], {});\n",
       "      } catch (error) {\n",
       "        console.error('Error during call to suggestCharts:', error);\n",
       "      }\n",
       "      quickchartButtonEl.classList.remove('colab-df-spinner');\n",
       "      quickchartButtonEl.classList.add('colab-df-quickchart-complete');\n",
       "    }\n",
       "    (() => {\n",
       "      let quickchartButtonEl =\n",
       "        document.querySelector('#df-615d641d-a406-4701-97a8-530566c425ad button');\n",
       "      quickchartButtonEl.style.display =\n",
       "        google.colab.kernel.accessAllowed ? 'block' : 'none';\n",
       "    })();\n",
       "  </script>\n",
       "</div>\n",
       "    </div>\n",
       "  </div>\n"
      ],
      "text/plain": [
       "                                                text  toxic\n",
       "0  Explanation\\nWhy the edits made under my usern...      0\n",
       "1  D'aww! He matches this background colour I'm s...      0\n",
       "2  Hey man, I'm really not trying to edit war. It...      0\n",
       "3  \"\\nMore\\nI can't make any real suggestions on ...      0\n",
       "4  You, sir, are my hero. Any chance you remember...      0"
      ]
     },
     "execution_count": 176,
     "metadata": {},
     "output_type": "execute_result"
    }
   ],
   "source": [
    "data = df.copy()\n",
    "data.head()"
   ]
  },
  {
   "cell_type": "code",
   "execution_count": null,
   "metadata": {
    "colab": {
     "base_uri": "https://localhost:8080/",
     "height": 363
    },
    "execution": {
     "iopub.execute_input": "2024-01-30T10:23:56.562645Z",
     "iopub.status.busy": "2024-01-30T10:23:56.561985Z",
     "iopub.status.idle": "2024-01-30T10:23:56.574826Z",
     "shell.execute_reply": "2024-01-30T10:23:56.574200Z",
     "shell.execute_reply.started": "2024-01-30T10:23:56.562606Z"
    },
    "id": "8_lSx_wFh5w_",
    "outputId": "811141ac-5267-4dfd-e40f-a0236315058d",
    "tags": []
   },
   "outputs": [
    {
     "data": {
      "text/html": [
       "<div>\n",
       "<style scoped>\n",
       "    .dataframe tbody tr th:only-of-type {\n",
       "        vertical-align: middle;\n",
       "    }\n",
       "\n",
       "    .dataframe tbody tr th {\n",
       "        vertical-align: top;\n",
       "    }\n",
       "\n",
       "    .dataframe thead th {\n",
       "        text-align: right;\n",
       "    }\n",
       "</style>\n",
       "<table border=\"1\" class=\"dataframe\">\n",
       "  <thead>\n",
       "    <tr style=\"text-align: right;\">\n",
       "      <th></th>\n",
       "      <th>text</th>\n",
       "      <th>toxic</th>\n",
       "    </tr>\n",
       "  </thead>\n",
       "  <tbody>\n",
       "    <tr>\n",
       "      <th>153584</th>\n",
       "      <td>bite me \\n\\nthat is all.  cunt198.111.56.230</td>\n",
       "      <td>1</td>\n",
       "    </tr>\n",
       "    <tr>\n",
       "      <th>32376</th>\n",
       "      <td>\"\\n\\nActually, im certain this will be the las...</td>\n",
       "      <td>0</td>\n",
       "    </tr>\n",
       "    <tr>\n",
       "      <th>38704</th>\n",
       "      <td>\"\\n\\nI protest not for the sake of arguing but...</td>\n",
       "      <td>0</td>\n",
       "    </tr>\n",
       "    <tr>\n",
       "      <th>38018</th>\n",
       "      <td>It also just now occurs to me I didn't mention...</td>\n",
       "      <td>0</td>\n",
       "    </tr>\n",
       "    <tr>\n",
       "      <th>72036</th>\n",
       "      <td>Keep There's an entire category for US weekday...</td>\n",
       "      <td>0</td>\n",
       "    </tr>\n",
       "    <tr>\n",
       "      <th>83899</th>\n",
       "      <td>I read this book shortly after it came out...I...</td>\n",
       "      <td>0</td>\n",
       "    </tr>\n",
       "    <tr>\n",
       "      <th>140748</th>\n",
       "      <td>William M. Connolley I have seen what has happ...</td>\n",
       "      <td>0</td>\n",
       "    </tr>\n",
       "    <tr>\n",
       "      <th>56245</th>\n",
       "      <td>2007 (UTC)\\n\\nYour continued rudeness and fail...</td>\n",
       "      <td>1</td>\n",
       "    </tr>\n",
       "    <tr>\n",
       "      <th>157693</th>\n",
       "      <td>\"\\n\\n Fullmetal Particle Man \\n\\nAnother Youtu...</td>\n",
       "      <td>0</td>\n",
       "    </tr>\n",
       "    <tr>\n",
       "      <th>21</th>\n",
       "      <td>\"\\nGood to know. About me, yeah, I'm studying ...</td>\n",
       "      <td>0</td>\n",
       "    </tr>\n",
       "  </tbody>\n",
       "</table>\n",
       "</div>"
      ],
      "text/plain": [
       "                                                     text  toxic\n",
       "153584       bite me \\n\\nthat is all.  cunt198.111.56.230      1\n",
       "32376   \"\\n\\nActually, im certain this will be the las...      0\n",
       "38704   \"\\n\\nI protest not for the sake of arguing but...      0\n",
       "38018   It also just now occurs to me I didn't mention...      0\n",
       "72036   Keep There's an entire category for US weekday...      0\n",
       "83899   I read this book shortly after it came out...I...      0\n",
       "140748  William M. Connolley I have seen what has happ...      0\n",
       "56245   2007 (UTC)\\n\\nYour continued rudeness and fail...      1\n",
       "157693  \"\\n\\n Fullmetal Particle Man \\n\\nAnother Youtu...      0\n",
       "21      \"\\nGood to know. About me, yeah, I'm studying ...      0"
      ]
     },
     "execution_count": 13,
     "metadata": {},
     "output_type": "execute_result"
    }
   ],
   "source": [
    "data.sample(10)"
   ]
  },
  {
   "cell_type": "code",
   "execution_count": null,
   "metadata": {
    "colab": {
     "base_uri": "https://localhost:8080/"
    },
    "execution": {
     "iopub.execute_input": "2024-01-30T10:23:56.575958Z",
     "iopub.status.busy": "2024-01-30T10:23:56.575674Z",
     "iopub.status.idle": "2024-01-30T10:23:56.617427Z",
     "shell.execute_reply": "2024-01-30T10:23:56.616619Z",
     "shell.execute_reply.started": "2024-01-30T10:23:56.575936Z"
    },
    "id": "gDrL0vHqh9Dg",
    "outputId": "f186e2ab-64bc-4b91-a7f7-309b7146ee28",
    "tags": []
   },
   "outputs": [
    {
     "name": "stdout",
     "output_type": "stream",
     "text": [
      "<class 'pandas.core.frame.DataFrame'>\n",
      "Int64Index: 159292 entries, 0 to 159450\n",
      "Data columns (total 2 columns):\n",
      " #   Column  Non-Null Count   Dtype \n",
      "---  ------  --------------   ----- \n",
      " 0   text    159292 non-null  object\n",
      " 1   toxic   159292 non-null  int64 \n",
      "dtypes: int64(1), object(1)\n",
      "memory usage: 3.6+ MB\n"
     ]
    }
   ],
   "source": [
    "data.info()"
   ]
  },
  {
   "cell_type": "code",
   "execution_count": null,
   "metadata": {
    "execution": {
     "iopub.execute_input": "2024-01-30T13:54:58.587997Z",
     "iopub.status.busy": "2024-01-30T13:54:58.587668Z",
     "iopub.status.idle": "2024-01-30T13:54:58.591842Z",
     "shell.execute_reply": "2024-01-30T13:54:58.590982Z",
     "shell.execute_reply.started": "2024-01-30T13:54:58.587973Z"
    },
    "id": "MNvouusLLDrd",
    "tags": []
   },
   "outputs": [],
   "source": [
    "data.reset_index(drop=True, inplace=True)"
   ]
  },
  {
   "cell_type": "markdown",
   "metadata": {
    "id": "meo3jmvGiGFJ"
   },
   "source": [
    "**Пропуски отсутствуют.**"
   ]
  },
  {
   "cell_type": "code",
   "execution_count": null,
   "metadata": {
    "colab": {
     "base_uri": "https://localhost:8080/"
    },
    "execution": {
     "iopub.execute_input": "2024-01-30T10:23:56.626632Z",
     "iopub.status.busy": "2024-01-30T10:23:56.626328Z",
     "iopub.status.idle": "2024-01-30T10:23:56.633938Z",
     "shell.execute_reply": "2024-01-30T10:23:56.633270Z",
     "shell.execute_reply.started": "2024-01-30T10:23:56.626611Z"
    },
    "id": "77YyLKM1wlMI",
    "outputId": "f480af0a-a5cd-4693-b8a5-ae360af53a54",
    "tags": []
   },
   "outputs": [
    {
     "data": {
      "text/plain": [
       "0    0.898388\n",
       "1    0.101612\n",
       "Name: toxic, dtype: float64"
      ]
     },
     "execution_count": 16,
     "metadata": {},
     "output_type": "execute_result"
    }
   ],
   "source": [
    "balance = data['toxic'].value_counts() / data.shape[0]\n",
    "balance"
   ]
  },
  {
   "cell_type": "code",
   "execution_count": null,
   "metadata": {
    "colab": {
     "base_uri": "https://localhost:8080/",
     "height": 452
    },
    "execution": {
     "iopub.execute_input": "2024-01-30T10:23:56.635166Z",
     "iopub.status.busy": "2024-01-30T10:23:56.634823Z",
     "iopub.status.idle": "2024-01-30T10:23:56.776334Z",
     "shell.execute_reply": "2024-01-30T10:23:56.775626Z",
     "shell.execute_reply.started": "2024-01-30T10:23:56.635143Z"
    },
    "id": "lLWBB7GaGYA6",
    "outputId": "09cbc4ab-02e7-427f-82d6-fd24013f3f3b",
    "tags": []
   },
   "outputs": [
    {
     "data": {
      "image/png": "[encoded data removed]",
      "text/plain": [
       "<Figure size 640x480 with 1 Axes>"
      ]
     },
     "metadata": {},
     "output_type": "display_data"
    }
   ],
   "source": [
    "plt.bar(x=balance.index, height=balance, color=['lightblue', 'lightcoral'], tick_label=balance.index)\n",
    "plt.title('Class distribution')\n",
    "plt.grid()\n",
    "plt.show()"
   ]
  },
  {
   "cell_type": "markdown",
   "metadata": {
    "id": "ygTH-pX9iJ9M"
   },
   "source": [
    "**Есть дисбаланс классов.**"
   ]
  },
  {
   "cell_type": "markdown",
   "metadata": {
    "id": "qM0JcPpF1XUm"
   },
   "source": [
    "**Посмотрим на количество слов в комментариях**"
   ]
  },
  {
   "cell_type": "code",
   "execution_count": null,
   "metadata": {
    "execution": {
     "iopub.execute_input": "2024-01-30T10:23:56.777606Z",
     "iopub.status.busy": "2024-01-30T10:23:56.777305Z",
     "iopub.status.idle": "2024-01-30T10:23:56.782423Z",
     "shell.execute_reply": "2024-01-30T10:23:56.781729Z",
     "shell.execute_reply.started": "2024-01-30T10:23:56.777583Z"
    },
    "id": "qVkXiH3JGZLc",
    "tags": []
   },
   "outputs": [],
   "source": [
    "def analyze_words_number(data):\n",
    "    text_len = data.apply(lambda x: len(x.split())).values\n",
    "    print(f'Max number of word: {text_len.max()}\\n')\n",
    "    print('Text with max len')\n",
    "    print(np.argmax(text_len))\n",
    "\n",
    "    fig, (ax1, ax2) = plt.subplots(1, 2, figsize=(18, 6))\n",
    "    fig.suptitle('Number of words in text')\n",
    "    sns.distplot(text_len, bins=100, ax=ax1)\n",
    "    sns.boxplot(text_len, ax=ax2)\n",
    "    ax1.grid()\n",
    "    ax2.grid()\n",
    "    plt.show()"
   ]
  },
  {
   "cell_type": "code",
   "execution_count": null,
   "metadata": {
    "colab": {
     "base_uri": "https://localhost:8080/",
     "height": 651
    },
    "execution": {
     "iopub.execute_input": "2024-01-30T10:23:56.784647Z",
     "iopub.status.busy": "2024-01-30T10:23:56.784332Z",
     "iopub.status.idle": "2024-01-30T10:23:58.769857Z",
     "shell.execute_reply": "2024-01-30T10:23:58.768904Z",
     "shell.execute_reply.started": "2024-01-30T10:23:56.784624Z"
    },
    "id": "LIKv-VBfM9bi",
    "outputId": "28a6cef1-656d-4bcd-abe2-480e82a8d5e6",
    "tags": []
   },
   "outputs": [
    {
     "name": "stdout",
     "output_type": "stream",
     "text": [
      "Max number of word: 1411\n",
      "\n",
      "Text with max len\n",
      "140651\n"
     ]
    },
    {
     "data": {
      "image/png": "[encoded data removed]",
      "text/plain": [
       "<Figure size 1800x600 with 2 Axes>"
      ]
     },
     "metadata": {},
     "output_type": "display_data"
    }
   ],
   "source": [
    "analyze_words_number(data['text'])"
   ]
  },
  {
   "cell_type": "code",
   "execution_count": null,
   "metadata": {
    "colab": {
     "base_uri": "https://localhost:8080/",
     "height": 122
    },
    "execution": {
     "iopub.execute_input": "2024-01-30T10:23:58.771170Z",
     "iopub.status.busy": "2024-01-30T10:23:58.770839Z",
     "iopub.status.idle": "2024-01-30T10:23:58.775842Z",
     "shell.execute_reply": "2024-01-30T10:23:58.775145Z",
     "shell.execute_reply.started": "2024-01-30T10:23:58.771146Z"
    },
    "id": "OjpVYpOWNSJW",
    "outputId": "e52637cf-fb59-4c1c-fe74-49a638ebc9cb",
    "tags": []
   },
   "outputs": [
    {
     "data": {
      "text/plain": [
       "'I AM AN LOSER ==== I AM AN LOSER == == I AM AN LOSER ==== I AM AN LOSER == == I AM AN LOSER ==== I AM AN LOSER == == I AM AN LOSER ==== I AM AN LOSER == == I AM AN LOSER ==== I AM AN LOSER == == I AM AN LOSER ==== I AM AN LOSER == == I AM AN LOSER ==== I AM AN LOSER == == I AM AN LOSER ==== I AM AN LOSER == == I AM AN LOSER ==== I AM AN LOSER == == I AM AN LOSER ==== I AM AN LOSER == == I AM AN LOSER ==== I AM AN LOSER == == I AM AN LOSER ==== I AM AN LOSER == == I AM AN LOSER ==== I AM AN LOSER == == I AM AN LOSER ==== I AM AN LOSER == == I AM AN LOSER ==== I AM AN LOSER == == I AM AN LOSER ==== I AM AN LOSER == == I AM AN LOSER ==== I AM AN LOSER == == I AM AN LOSER ==== I AM AN LOSER == == I AM AN LOSER ==== I AM AN LOSER == == I AM AN LOSER ==== I AM AN LOSER == == I AM AN LOSER ==== I AM AN LOSER == == I AM AN LOSER ==== I AM AN LOSER == == I AM AN LOSER ==== I AM AN LOSER == == I AM AN LOSER ==== I AM AN LOSER == == I AM AN LOSER ==== I AM AN LOSER == == I AM AN LOSER ==== I AM AN LOSER == == I AM AN LOSER ==== I AM AN LOSER == == I AM AN LOSER ==== I AM AN LOSER == == I AM AN LOSER ==== I AM AN LOSER == == I AM AN LOSER ==== I AM AN LOSER == == I AM AN LOSER ==== I AM AN LOSER == == I AM AN LOSER ==== I AM AN LOSER == == I AM AN LOSER ==== I AM AN LOSER == == I AM AN LOSER ==== I AM AN LOSER == == I AM AN LOSER ==== I AM AN LOSER == == I AM AN LOSER ==== I AM AN LOSER == == I AM AN LOSER ==== I AM AN LOSER == == I AM AN LOSER ==== I AM AN LOSER == == I AM AN LOSER ==== I AM AN LOSER == == I AM AN LOSER ==== I AM AN LOSER == == I AM AN LOSER ==== I AM AN LOSER == == I AM AN LOSER ==== I AM AN LOSER == == I AM AN LOSER ==== I AM AN LOSER == == I AM AN LOSER ==== I AM AN LOSER == == I AM AN LOSER ==== I AM AN LOSER == == I AM AN LOSER ==== I AM AN LOSER == == I AM AN LOSER ==== I AM AN LOSER == == I AM AN LOSER ==== I AM AN LOSER == == I AM AN LOSER ==== I AM AN LOSER == == I AM AN LOSER ==== I AM AN LOSER == == I AM AN LOSER ==== I AM AN LOSER == == I AM AN LOSER ==== I AM AN LOSER == == I AM AN LOSER ==== I AM AN LOSER == == I AM AN LOSER ==== I AM AN LOSER == == I AM AN LOSER ==== I AM AN LOSER == == I AM AN LOSER ==== I AM AN LOSER == == I AM AN LOSER ==== I AM AN LOSER == == I AM AN LOSER ==== I AM AN LOSER == == I AM AN LOSER ==== I AM AN LOSER == == I AM AN LOSER ==== I AM AN LOSER == == I AM AN LOSER ==== I AM AN LOSER == == I AM AN LOSER ==== I AM AN LOSER == == I AM AN LOSER ==== I AM AN LOSER == == I AM AN LOSER ==== I AM AN LOSER == == I AM AN LOSER ==== I AM AN LOSER == == I AM AN LOSER ==== I AM AN LOSER == == I AM AN LOSER ==== I AM AN LOSER == == I AM AN LOSER ==== I AM AN LOSER == == I AM AN LOSER ==== I AM AN LOSER == == I AM AN LOSER ==== I AM AN LOSER == == I AM AN LOSER ==== I AM AN LOSER == == I AM AN LOSER ==== I AM AN LOSER == == I AM AN LOSER ==== I AM AN LOSER == == I AM AN LOSER ==== I AM AN LOSER == == I AM AN LOSER ==== I AM AN LOSER == == I AM AN LOSER ==== I AM AN LOSER == == I AM AN LOSER ==== I AM AN LOSER == == I AM AN LOSER ==== I AM AN LOSER == == I AM AN LOSER ==== I AM AN LOSER == == I AM AN LOSER ==== I AM AN LOSER == == I AM AN LOSER ==== I AM AN LOSER == == I AM AN LOSER ==== I AM AN LOSER == == I AM AN LOSER ==== I AM AN LOSER == == I AM AN LOSER ==== I AM AN LOSER == == I AM AN LOSER ==== I AM AN LOSER == == I AM AN LOSER ==== I AM AN LOSER == == I AM AN LOSER ==== I AM AN LOSER == == I AM AN LOSER ==== I AM AN LOSER == == I AM AN LOSER ==== I AM AN LOSER == == I AM AN LOSER ==== I AM AN LOSER == == I AM AN LOSER ==== I AM AN LOSER == == I AM AN LOSER ==== I AM AN LOSER == == I AM AN LOSER ==== I AM AN LOSER == == I AM AN LOSER ==== I AM AN LOSER == == I AM AN LOSER ==== I AM AN LOSER == == I AM AN LOSER ==== I AM AN LOSER == == I AM AN LOSER ==== I AM AN LOSER == == I AM AN LOSER ==== I AM AN LOSER == == I AM AN LOSER ==== I AM AN LOSER == == I AM AN LOSER ==== I AM AN LOSER == == I AM AN LOSER ==== I AM AN LOSER == == I AM AN LOSER ==== I AM AN LOSER == == I AM AN LOSER ==== I AM AN LOSER == == I AM AN LOSER ==== I AM AN LOSER == == I AM AN LOSER ==== I AM AN LOSER == == I AM AN LOSER ==== I AM AN LOSER == == I AM AN LOSER ==== I AM AN LOSER == == I AM AN LOSER ==== I AM AN LOSER == == I AM AN LOSER ==== I AM AN LOSER == == I AM AN LOSER ==== I AM AN LOSER == == I AM AN LOSER ==== I AM AN LOSER == == I AM AN LOSER ==== I AM AN LOSER == == I AM AN LOSER ==== I AM AN LOSER == == I AM AN LOSER ==== I AM AN LOSER == == I AM AN LOSER ==== I AM AN LOSER == == I AM AN LOSER ==== I AM AN LOSER == == I AM AN LOSER ==== I AM AN LOSER == == I AM AN LOSER ==== I AM AN LOSER == == I AM AN LOSER ==== I AM AN LOSER == == I AM AN LOSER ==== I AM AN LOSER == == I AM AN LOSER ==== I AM AN LOSER == == I AM AN LOSER ==== I AM AN LOSER == == I AM AN LOSER ==== I AM AN LOSER == == I AM AN LOSER ==== I AM AN LOSER == == I AM AN LOSER ==== I AM AN LOSER == == I AM AN LOSER ==== I AM AN LOSER == == I AM AN LOSER ==== I AM AN LOSER == == I AM AN LOSER ==== I AM AN LOSER == == I AM AN'"
      ]
     },
     "execution_count": 20,
     "metadata": {},
     "output_type": "execute_result"
    }
   ],
   "source": [
    "data['text'][140651]"
   ]
  },
  {
   "cell_type": "markdown",
   "metadata": {
    "id": "vkmIlLy341IP"
   },
   "source": [
    "**Обработаем комментарии**"
   ]
  },
  {
   "cell_type": "code",
   "execution_count": null,
   "metadata": {
    "execution": {
     "iopub.execute_input": "2024-01-30T13:54:58.593745Z",
     "iopub.status.busy": "2024-01-30T13:54:58.593428Z",
     "iopub.status.idle": "2024-01-30T13:54:58.598320Z",
     "shell.execute_reply": "2024-01-30T13:54:58.597409Z",
     "shell.execute_reply.started": "2024-01-30T13:54:58.593722Z"
    },
    "id": "fQ_imgpgqhcx",
    "tags": []
   },
   "outputs": [],
   "source": [
    "def preprocess_text(text):\n",
    "    '''Preprocesses text: remove urls, punctuations (except '!?) and extra spaces, convert to lower case'''\n",
    "\n",
    "    text = text.lower()                               # Convert to lowercase\n",
    "    text = re.sub(r\"https?://\\S+|www\\.\\S+\", \"\", text) # Remove URLs\n",
    "    text = re.sub(r\"[^a-z\\s\\'?!]\", \" \", text)         # Remove unwanted characters\n",
    "    text = re.sub(r\"\\s+\", \" \", text).strip()          # Remove extra spaces\n",
    "\n",
    "    return text"
   ]
  },
  {
   "cell_type": "code",
   "execution_count": null,
   "metadata": {
    "execution": {
     "iopub.execute_input": "2024-01-30T13:54:58.600110Z",
     "iopub.status.busy": "2024-01-30T13:54:58.599555Z",
     "iopub.status.idle": "2024-01-30T13:55:04.130223Z",
     "shell.execute_reply": "2024-01-30T13:55:04.129497Z",
     "shell.execute_reply.started": "2024-01-30T13:54:58.600072Z"
    },
    "id": "sPNrGUUN5-KF",
    "tags": []
   },
   "outputs": [],
   "source": [
    "data['text'] = data['text'].apply(preprocess_text)"
   ]
  },
  {
   "cell_type": "code",
   "execution_count": null,
   "metadata": {
    "execution": {
     "iopub.execute_input": "2024-01-30T10:24:19.815811Z",
     "iopub.status.busy": "2024-01-30T10:24:19.815389Z",
     "iopub.status.idle": "2024-01-30T10:24:19.820458Z",
     "shell.execute_reply": "2024-01-30T10:24:19.819686Z",
     "shell.execute_reply.started": "2024-01-30T10:24:19.815774Z"
    },
    "id": "J0us8CXgWUG-",
    "tags": []
   },
   "outputs": [],
   "source": [
    "def remove_stopwords(text):\n",
    "    stop = stopwords.words('english') + ['u', 'im']\n",
    "    return ' '.join(word for word in text.split() if word not in stop)"
   ]
  },
  {
   "cell_type": "code",
   "execution_count": null,
   "metadata": {
    "execution": {
     "iopub.execute_input": "2024-01-30T10:24:19.821855Z",
     "iopub.status.busy": "2024-01-30T10:24:19.821566Z",
     "iopub.status.idle": "2024-01-30T10:24:49.426528Z",
     "shell.execute_reply": "2024-01-30T10:24:49.425792Z",
     "shell.execute_reply.started": "2024-01-30T10:24:19.821831Z"
    },
    "id": "3I7pmI4WXv-E",
    "tags": []
   },
   "outputs": [],
   "source": [
    "data_without_stop_words = data['text'].apply(remove_stopwords)"
   ]
  },
  {
   "cell_type": "markdown",
   "metadata": {
    "id": "eaZeGONVEs3G"
   },
   "source": [
    "**Посмотрим какие слова встречаются чаще всего среди всех комментариев и отдельно среди токсичных**"
   ]
  },
  {
   "cell_type": "code",
   "execution_count": null,
   "metadata": {
    "execution": {
     "iopub.execute_input": "2024-01-30T10:24:49.429135Z",
     "iopub.status.busy": "2024-01-30T10:24:49.428643Z",
     "iopub.status.idle": "2024-01-30T10:24:57.835253Z",
     "shell.execute_reply": "2024-01-30T10:24:57.834592Z",
     "shell.execute_reply.started": "2024-01-30T10:24:49.429096Z"
    },
    "id": "ayaIheQ9Es3G",
    "tags": []
   },
   "outputs": [],
   "source": [
    "number_words = Counter()\n",
    "for arr in data['text'].str.split().values:\n",
    "    number_words.update(Counter(arr))\n",
    "\n",
    "number_words_without_stop = Counter()\n",
    "for arr in data_without_stop_words.str.split().values:\n",
    "    number_words_without_stop.update(Counter(arr))\n",
    "\n",
    "number_words_toxic = Counter()\n",
    "for arr in data[data['toxic'] == 1]['text'].str.split().values:\n",
    "    number_words_toxic.update(Counter(arr))\n",
    "\n",
    "number_words_toxic_without_stop = Counter()\n",
    "for arr in data_without_stop_words[data['toxic'] == 1].str.split().values:\n",
    "    number_words_toxic_without_stop.update(Counter(arr))"
   ]
  },
  {
   "cell_type": "code",
   "execution_count": null,
   "metadata": {
    "execution": {
     "iopub.execute_input": "2024-01-30T10:24:57.836600Z",
     "iopub.status.busy": "2024-01-30T10:24:57.836249Z",
     "iopub.status.idle": "2024-01-30T10:24:57.841034Z",
     "shell.execute_reply": "2024-01-30T10:24:57.840333Z",
     "shell.execute_reply.started": "2024-01-30T10:24:57.836577Z"
    },
    "id": "SsoqLVFsEs3G",
    "tags": []
   },
   "outputs": [],
   "source": [
    "def create_table(*args):\n",
    "    data = []\n",
    "    for col in args:\n",
    "        words_number = []\n",
    "        for word, num in col.most_common(20):\n",
    "            words_number.append(word)\n",
    "        data.append(words_number)\n",
    "    return pd.DataFrame(list(zip(*data)), columns=['number_words', 'number_words_without_stop', 'number_words_toxic', 'number_words_toxic_without_stop'])"
   ]
  },
  {
   "cell_type": "code",
   "execution_count": null,
   "metadata": {
    "colab": {
     "base_uri": "https://localhost:8080/",
     "height": 677
    },
    "execution": {
     "iopub.execute_input": "2024-01-30T10:24:57.842268Z",
     "iopub.status.busy": "2024-01-30T10:24:57.841982Z",
     "iopub.status.idle": "2024-01-30T10:24:57.931248Z",
     "shell.execute_reply": "2024-01-30T10:24:57.930301Z",
     "shell.execute_reply.started": "2024-01-30T10:24:57.842245Z"
    },
    "id": "imQNng2NEs3G",
    "outputId": "8ac45a0a-f4c0-42a3-d141-c1cd0477fe5e",
    "tags": []
   },
   "outputs": [
    {
     "data": {
      "text/html": [
       "\n",
       "  <div id=\"df-01d74ac5-7c63-4c67-b79c-99250431fc0d\" class=\"colab-df-container\">\n",
       "    <div>\n",
       "<style scoped>\n",
       "    .dataframe tbody tr th:only-of-type {\n",
       "        vertical-align: middle;\n",
       "    }\n",
       "\n",
       "    .dataframe tbody tr th {\n",
       "        vertical-align: top;\n",
       "    }\n",
       "\n",
       "    .dataframe thead th {\n",
       "        text-align: right;\n",
       "    }\n",
       "</style>\n",
       "<table border=\"1\" class=\"dataframe\">\n",
       "  <thead>\n",
       "    <tr style=\"text-align: right;\">\n",
       "      <th></th>\n",
       "      <th>number_words</th>\n",
       "      <th>number_words_without_stop</th>\n",
       "      <th>number_words_toxic</th>\n",
       "      <th>number_words_toxic_without_stop</th>\n",
       "    </tr>\n",
       "  </thead>\n",
       "  <tbody>\n",
       "    <tr>\n",
       "      <th>0</th>\n",
       "      <td>the</td>\n",
       "      <td>article</td>\n",
       "      <td>you</td>\n",
       "      <td>fuck</td>\n",
       "    </tr>\n",
       "    <tr>\n",
       "      <th>1</th>\n",
       "      <td>to</td>\n",
       "      <td>page</td>\n",
       "      <td>the</td>\n",
       "      <td>like</td>\n",
       "    </tr>\n",
       "    <tr>\n",
       "      <th>2</th>\n",
       "      <td>of</td>\n",
       "      <td>wikipedia</td>\n",
       "      <td>i</td>\n",
       "      <td>shit</td>\n",
       "    </tr>\n",
       "    <tr>\n",
       "      <th>3</th>\n",
       "      <td>and</td>\n",
       "      <td>talk</td>\n",
       "      <td>a</td>\n",
       "      <td>fucking</td>\n",
       "    </tr>\n",
       "    <tr>\n",
       "      <th>4</th>\n",
       "      <td>a</td>\n",
       "      <td>please</td>\n",
       "      <td>to</td>\n",
       "      <td>nigger</td>\n",
       "    </tr>\n",
       "    <tr>\n",
       "      <th>5</th>\n",
       "      <td>i</td>\n",
       "      <td>would</td>\n",
       "      <td>and</td>\n",
       "      <td>wikipedia</td>\n",
       "    </tr>\n",
       "    <tr>\n",
       "      <th>6</th>\n",
       "      <td>you</td>\n",
       "      <td>one</td>\n",
       "      <td>is</td>\n",
       "      <td>suck</td>\n",
       "    </tr>\n",
       "    <tr>\n",
       "      <th>7</th>\n",
       "      <td>is</td>\n",
       "      <td>like</td>\n",
       "      <td>of</td>\n",
       "      <td>go</td>\n",
       "    </tr>\n",
       "    <tr>\n",
       "      <th>8</th>\n",
       "      <td>that</td>\n",
       "      <td>see</td>\n",
       "      <td>your</td>\n",
       "      <td>hate</td>\n",
       "    </tr>\n",
       "    <tr>\n",
       "      <th>9</th>\n",
       "      <td>in</td>\n",
       "      <td>also</td>\n",
       "      <td>fuck</td>\n",
       "      <td>ass</td>\n",
       "    </tr>\n",
       "    <tr>\n",
       "      <th>10</th>\n",
       "      <td>it</td>\n",
       "      <td>think</td>\n",
       "      <td>are</td>\n",
       "      <td>get</td>\n",
       "    </tr>\n",
       "    <tr>\n",
       "      <th>11</th>\n",
       "      <td>for</td>\n",
       "      <td>know</td>\n",
       "      <td>that</td>\n",
       "      <td>know</td>\n",
       "    </tr>\n",
       "    <tr>\n",
       "      <th>12</th>\n",
       "      <td>this</td>\n",
       "      <td>edit</td>\n",
       "      <td>it</td>\n",
       "      <td>page</td>\n",
       "    </tr>\n",
       "    <tr>\n",
       "      <th>13</th>\n",
       "      <td>not</td>\n",
       "      <td>i'm</td>\n",
       "      <td>in</td>\n",
       "      <td>fat</td>\n",
       "    </tr>\n",
       "    <tr>\n",
       "      <th>14</th>\n",
       "      <td>on</td>\n",
       "      <td>people</td>\n",
       "      <td>my</td>\n",
       "      <td>die</td>\n",
       "    </tr>\n",
       "    <tr>\n",
       "      <th>15</th>\n",
       "      <td>be</td>\n",
       "      <td>use</td>\n",
       "      <td>this</td>\n",
       "      <td>people</td>\n",
       "    </tr>\n",
       "    <tr>\n",
       "      <th>16</th>\n",
       "      <td>as</td>\n",
       "      <td>articles</td>\n",
       "      <td>me</td>\n",
       "      <td>gay</td>\n",
       "    </tr>\n",
       "    <tr>\n",
       "      <th>17</th>\n",
       "      <td>have</td>\n",
       "      <td>may</td>\n",
       "      <td>not</td>\n",
       "      <td>faggot</td>\n",
       "    </tr>\n",
       "    <tr>\n",
       "      <th>18</th>\n",
       "      <td>are</td>\n",
       "      <td>time</td>\n",
       "      <td>on</td>\n",
       "      <td>moron</td>\n",
       "    </tr>\n",
       "    <tr>\n",
       "      <th>19</th>\n",
       "      <td>your</td>\n",
       "      <td>user</td>\n",
       "      <td>for</td>\n",
       "      <td>hi</td>\n",
       "    </tr>\n",
       "  </tbody>\n",
       "</table>\n",
       "</div>\n",
       "    <div class=\"colab-df-buttons\">\n",
       "\n",
       "  <div class=\"colab-df-container\">\n",
       "    <button class=\"colab-df-convert\" onclick=\"convertToInteractive('df-01d74ac5-7c63-4c67-b79c-99250431fc0d')\"\n",
       "            title=\"Convert this dataframe to an interactive table.\"\n",
       "            style=\"display:none;\">\n",
       "\n",
       "  <svg xmlns=\"http://www.w3.org/2000/svg\" height=\"24px\" viewBox=\"0 -960 960 960\">\n",
       "    <path d=\"M120-120v-720h720v720H120Zm60-500h600v-160H180v160Zm220 220h160v-160H400v160Zm0 220h160v-160H400v160ZM180-400h160v-160H180v160Zm440 0h160v-160H620v160ZM180-180h160v-160H180v160Zm440 0h160v-160H620v160Z\"/>\n",
       "  </svg>\n",
       "    </button>\n",
       "\n",
       "  <style>\n",
       "    .colab-df-container {\n",
       "      display:flex;\n",
       "      gap: 12px;\n",
       "    }\n",
       "\n",
       "    .colab-df-convert {\n",
       "      background-color: #E8F0FE;\n",
       "      border: none;\n",
       "      border-radius: 50%;\n",
       "      cursor: pointer;\n",
       "      display: none;\n",
       "      fill: #1967D2;\n",
       "      height: 32px;\n",
       "      padding: 0 0 0 0;\n",
       "      width: 32px;\n",
       "    }\n",
       "\n",
       "    .colab-df-convert:hover {\n",
       "      background-color: #E2EBFA;\n",
       "      box-shadow: 0px 1px 2px rgba(60, 64, 67, 0.3), 0px 1px 3px 1px rgba(60, 64, 67, 0.15);\n",
       "      fill: #174EA6;\n",
       "    }\n",
       "\n",
       "    .colab-df-buttons div {\n",
       "      margin-bottom: 4px;\n",
       "    }\n",
       "\n",
       "    [theme=dark] .colab-df-convert {\n",
       "      background-color: #3B4455;\n",
       "      fill: #D2E3FC;\n",
       "    }\n",
       "\n",
       "    [theme=dark] .colab-df-convert:hover {\n",
       "      background-color: #434B5C;\n",
       "      box-shadow: 0px 1px 3px 1px rgba(0, 0, 0, 0.15);\n",
       "      filter: drop-shadow(0px 1px 2px rgba(0, 0, 0, 0.3));\n",
       "      fill: #FFFFFF;\n",
       "    }\n",
       "  </style>\n",
       "\n",
       "    <script>\n",
       "      const buttonEl =\n",
       "        document.querySelector('#df-01d74ac5-7c63-4c67-b79c-99250431fc0d button.colab-df-convert');\n",
       "      buttonEl.style.display =\n",
       "        google.colab.kernel.accessAllowed ? 'block' : 'none';\n",
       "\n",
       "      async function convertToInteractive(key) {\n",
       "        const element = document.querySelector('#df-01d74ac5-7c63-4c67-b79c-99250431fc0d');\n",
       "        const dataTable =\n",
       "          await google.colab.kernel.invokeFunction('convertToInteractive',\n",
       "                                                    [key], {});\n",
       "        if (!dataTable) return;\n",
       "\n",
       "        const docLinkHtml = 'Like what you see? Visit the ' +\n",
       "          '<a target=\"_blank\" href=https://colab.research.google.com/notebooks/data_table.ipynb>data table notebook</a>'\n",
       "          + ' to learn more about interactive tables.';\n",
       "        element.innerHTML = '';\n",
       "        dataTable['output_type'] = 'display_data';\n",
       "        await google.colab.output.renderOutput(dataTable, element);\n",
       "        const docLink = document.createElement('div');\n",
       "        docLink.innerHTML = docLinkHtml;\n",
       "        element.appendChild(docLink);\n",
       "      }\n",
       "    </script>\n",
       "  </div>\n",
       "\n",
       "\n",
       "<div id=\"df-6841f046-5b22-4737-94f4-d16ff9d360b3\">\n",
       "  <button class=\"colab-df-quickchart\" onclick=\"quickchart('df-6841f046-5b22-4737-94f4-d16ff9d360b3')\"\n",
       "            title=\"Suggest charts\"\n",
       "            style=\"display:none;\">\n",
       "\n",
       "<svg xmlns=\"http://www.w3.org/2000/svg\" height=\"24px\"viewBox=\"0 0 24 24\"\n",
       "     width=\"24px\">\n",
       "    <g>\n",
       "        <path d=\"M19 3H5c-1.1 0-2 .9-2 2v14c0 1.1.9 2 2 2h14c1.1 0 2-.9 2-2V5c0-1.1-.9-2-2-2zM9 17H7v-7h2v7zm4 0h-2V7h2v10zm4 0h-2v-4h2v4z\"/>\n",
       "    </g>\n",
       "</svg>\n",
       "  </button>\n",
       "\n",
       "<style>\n",
       "  .colab-df-quickchart {\n",
       "      --bg-color: #E8F0FE;\n",
       "      --fill-color: #1967D2;\n",
       "      --hover-bg-color: #E2EBFA;\n",
       "      --hover-fill-color: #174EA6;\n",
       "      --disabled-fill-color: #AAA;\n",
       "      --disabled-bg-color: #DDD;\n",
       "  }\n",
       "\n",
       "  [theme=dark] .colab-df-quickchart {\n",
       "      --bg-color: #3B4455;\n",
       "      --fill-color: #D2E3FC;\n",
       "      --hover-bg-color: #434B5C;\n",
       "      --hover-fill-color: #FFFFFF;\n",
       "      --disabled-bg-color: #3B4455;\n",
       "      --disabled-fill-color: #666;\n",
       "  }\n",
       "\n",
       "  .colab-df-quickchart {\n",
       "    background-color: var(--bg-color);\n",
       "    border: none;\n",
       "    border-radius: 50%;\n",
       "    cursor: pointer;\n",
       "    display: none;\n",
       "    fill: var(--fill-color);\n",
       "    height: 32px;\n",
       "    padding: 0;\n",
       "    width: 32px;\n",
       "  }\n",
       "\n",
       "  .colab-df-quickchart:hover {\n",
       "    background-color: var(--hover-bg-color);\n",
       "    box-shadow: 0 1px 2px rgba(60, 64, 67, 0.3), 0 1px 3px 1px rgba(60, 64, 67, 0.15);\n",
       "    fill: var(--button-hover-fill-color);\n",
       "  }\n",
       "\n",
       "  .colab-df-quickchart-complete:disabled,\n",
       "  .colab-df-quickchart-complete:disabled:hover {\n",
       "    background-color: var(--disabled-bg-color);\n",
       "    fill: var(--disabled-fill-color);\n",
       "    box-shadow: none;\n",
       "  }\n",
       "\n",
       "  .colab-df-spinner {\n",
       "    border: 2px solid var(--fill-color);\n",
       "    border-color: transparent;\n",
       "    border-bottom-color: var(--fill-color);\n",
       "    animation:\n",
       "      spin 1s steps(1) infinite;\n",
       "  }\n",
       "\n",
       "  @keyframes spin {\n",
       "    0% {\n",
       "      border-color: transparent;\n",
       "      border-bottom-color: var(--fill-color);\n",
       "      border-left-color: var(--fill-color);\n",
       "    }\n",
       "    20% {\n",
       "      border-color: transparent;\n",
       "      border-left-color: var(--fill-color);\n",
       "      border-top-color: var(--fill-color);\n",
       "    }\n",
       "    30% {\n",
       "      border-color: transparent;\n",
       "      border-left-color: var(--fill-color);\n",
       "      border-top-color: var(--fill-color);\n",
       "      border-right-color: var(--fill-color);\n",
       "    }\n",
       "    40% {\n",
       "      border-color: transparent;\n",
       "      border-right-color: var(--fill-color);\n",
       "      border-top-color: var(--fill-color);\n",
       "    }\n",
       "    60% {\n",
       "      border-color: transparent;\n",
       "      border-right-color: var(--fill-color);\n",
       "    }\n",
       "    80% {\n",
       "      border-color: transparent;\n",
       "      border-right-color: var(--fill-color);\n",
       "      border-bottom-color: var(--fill-color);\n",
       "    }\n",
       "    90% {\n",
       "      border-color: transparent;\n",
       "      border-bottom-color: var(--fill-color);\n",
       "    }\n",
       "  }\n",
       "</style>\n",
       "\n",
       "  <script>\n",
       "    async function quickchart(key) {\n",
       "      const quickchartButtonEl =\n",
       "        document.querySelector('#' + key + ' button');\n",
       "      quickchartButtonEl.disabled = true;  // To prevent multiple clicks.\n",
       "      quickchartButtonEl.classList.add('colab-df-spinner');\n",
       "      try {\n",
       "        const charts = await google.colab.kernel.invokeFunction(\n",
       "            'suggestCharts', [key], {});\n",
       "      } catch (error) {\n",
       "        console.error('Error during call to suggestCharts:', error);\n",
       "      }\n",
       "      quickchartButtonEl.classList.remove('colab-df-spinner');\n",
       "      quickchartButtonEl.classList.add('colab-df-quickchart-complete');\n",
       "    }\n",
       "    (() => {\n",
       "      let quickchartButtonEl =\n",
       "        document.querySelector('#df-6841f046-5b22-4737-94f4-d16ff9d360b3 button');\n",
       "      quickchartButtonEl.style.display =\n",
       "        google.colab.kernel.accessAllowed ? 'block' : 'none';\n",
       "    })();\n",
       "  </script>\n",
       "</div>\n",
       "    </div>\n",
       "  </div>\n"
      ],
      "text/plain": [
       "   number_words number_words_without_stop number_words_toxic  \\\n",
       "0           the                   article                you   \n",
       "1            to                      page                the   \n",
       "2            of                 wikipedia                  i   \n",
       "3           and                      talk                  a   \n",
       "4             a                    please                 to   \n",
       "5             i                     would                and   \n",
       "6           you                       one                 is   \n",
       "7            is                      like                 of   \n",
       "8          that                       see               your   \n",
       "9            in                      also               fuck   \n",
       "10           it                     think                are   \n",
       "11          for                      know               that   \n",
       "12         this                      edit                 it   \n",
       "13          not                       i'm                 in   \n",
       "14           on                    people                 my   \n",
       "15           be                       use               this   \n",
       "16           as                  articles                 me   \n",
       "17         have                       may                not   \n",
       "18          are                      time                 on   \n",
       "19         your                      user                for   \n",
       "\n",
       "   number_words_toxic_without_stop  \n",
       "0                             fuck  \n",
       "1                             like  \n",
       "2                             shit  \n",
       "3                          fucking  \n",
       "4                           nigger  \n",
       "5                        wikipedia  \n",
       "6                             suck  \n",
       "7                               go  \n",
       "8                             hate  \n",
       "9                              ass  \n",
       "10                             get  \n",
       "11                            know  \n",
       "12                            page  \n",
       "13                             fat  \n",
       "14                             die  \n",
       "15                          people  \n",
       "16                             gay  \n",
       "17                          faggot  \n",
       "18                           moron  \n",
       "19                              hi  "
      ]
     },
     "execution_count": 185,
     "metadata": {},
     "output_type": "execute_result"
    }
   ],
   "source": [
    "create_table(number_words, number_words_without_stop, number_words_toxic, number_words_toxic_without_stop)"
   ]
  },
  {
   "cell_type": "markdown",
   "metadata": {
    "id": "8apBFzm1Es3G"
   },
   "source": [
    "**Как и ожидалось в комментариях без стопслов в топе по количеству употребления множество нецензурной лексики, но интересно еще и то, что в этих же комментариях со стопсловами наиболее часто использовалось слово you (рус. ты). Удалять стопслова из датасета не будем, так как так мы потеряем информацию и ухудшим результаты BERT**"
   ]
  },
  {
   "cell_type": "markdown",
   "metadata": {
    "id": "oPshRqNECEg7"
   },
   "source": [
    "**Посмотрим сколько раз повторяются уникальные слова в каждом отдельном комментарии**"
   ]
  },
  {
   "cell_type": "code",
   "execution_count": null,
   "metadata": {
    "execution": {
     "iopub.execute_input": "2024-01-30T10:24:57.932768Z",
     "iopub.status.busy": "2024-01-30T10:24:57.932293Z",
     "iopub.status.idle": "2024-01-30T10:24:57.936665Z",
     "shell.execute_reply": "2024-01-30T10:24:57.935832Z",
     "shell.execute_reply.started": "2024-01-30T10:24:57.932736Z"
    },
    "id": "6A5UBeCF7Mvt",
    "tags": []
   },
   "outputs": [],
   "source": [
    "def count_words(text):\n",
    "    _, counts = np.unique(text.split(), return_counts=True)\n",
    "    return counts"
   ]
  },
  {
   "cell_type": "code",
   "execution_count": null,
   "metadata": {
    "execution": {
     "iopub.execute_input": "2024-01-30T10:24:57.938326Z",
     "iopub.status.busy": "2024-01-30T10:24:57.937801Z",
     "iopub.status.idle": "2024-01-30T10:25:04.056951Z",
     "shell.execute_reply": "2024-01-30T10:25:04.056263Z",
     "shell.execute_reply.started": "2024-01-30T10:24:57.938287Z"
    },
    "id": "ZHdK8nfJ-L7p",
    "tags": []
   },
   "outputs": [],
   "source": [
    "unique_words_number = np.concatenate(data['text'].apply(count_words).values)"
   ]
  },
  {
   "cell_type": "code",
   "execution_count": null,
   "metadata": {
    "colab": {
     "base_uri": "https://localhost:8080/",
     "height": 580
    },
    "execution": {
     "iopub.execute_input": "2024-01-30T10:25:04.059049Z",
     "iopub.status.busy": "2024-01-30T10:25:04.058685Z",
     "iopub.status.idle": "2024-01-30T10:25:18.298492Z",
     "shell.execute_reply": "2024-01-30T10:25:18.297656Z",
     "shell.execute_reply.started": "2024-01-30T10:25:04.059022Z"
    },
    "id": "4sbpEtCM-Lat",
    "outputId": "4b82246e-fc8c-492c-f44c-9a2fba80afb6",
    "tags": []
   },
   "outputs": [
    {
     "data": {
      "image/png": "[encoded data removed]",
      "text/plain": [
       "<Figure size 700x700 with 1 Axes>"
      ]
     },
     "metadata": {},
     "output_type": "display_data"
    }
   ],
   "source": [
    "fig, ax = plt.subplots(figsize=(7, 7))\n",
    "sns.boxplot(unique_words_number)\n",
    "plt.show()"
   ]
  },
  {
   "cell_type": "code",
   "execution_count": null,
   "metadata": {
    "colab": {
     "base_uri": "https://localhost:8080/"
    },
    "execution": {
     "iopub.execute_input": "2024-01-30T10:25:18.300716Z",
     "iopub.status.busy": "2024-01-30T10:25:18.300402Z",
     "iopub.status.idle": "2024-01-30T10:25:18.361627Z",
     "shell.execute_reply": "2024-01-30T10:25:18.360675Z",
     "shell.execute_reply.started": "2024-01-30T10:25:18.300691Z"
    },
    "id": "d9w6PqKPABj4",
    "outputId": "94246cb2-7757-4680-bfa6-c01ba6c955ec",
    "tags": []
   },
   "outputs": [
    {
     "data": {
      "text/plain": [
       "84.0"
      ]
     },
     "execution_count": 189,
     "metadata": {},
     "output_type": "execute_result"
    }
   ],
   "source": [
    "np.quantile(unique_words_number, 0.9999)"
   ]
  },
  {
   "cell_type": "markdown",
   "metadata": {
    "id": "EBgFqQNFDXev"
   },
   "source": [
    "**99.99% слов в комментариях повторяются не больше, чем 84 раза. Удалим все повторения больше этого**"
   ]
  },
  {
   "cell_type": "code",
   "execution_count": null,
   "metadata": {
    "execution": {
     "iopub.execute_input": "2024-01-30T13:55:10.125374Z",
     "iopub.status.busy": "2024-01-30T13:55:10.124903Z",
     "iopub.status.idle": "2024-01-30T13:55:10.130718Z",
     "shell.execute_reply": "2024-01-30T13:55:10.129669Z",
     "shell.execute_reply.started": "2024-01-30T13:55:10.125339Z"
    },
    "id": "KVLLFhGQDWuM",
    "tags": []
   },
   "outputs": [],
   "source": [
    "def remove_duplicated(text, max_occurrences=84):\n",
    "    \"\"\"Removes repeated words in a text, keeping up to max_occurrences of each word.\"\"\"\n",
    "    words = text.split()\n",
    "    unique_words = []\n",
    "    word_counts = {}\n",
    "\n",
    "    for word in words:\n",
    "        word_counts[word] = word_counts.get(word, 0) + 1\n",
    "        if word_counts[word] <= max_occurrences:\n",
    "            unique_words.append(word)\n",
    "\n",
    "    return ' '.join(unique_words)"
   ]
  },
  {
   "cell_type": "code",
   "execution_count": null,
   "metadata": {
    "execution": {
     "iopub.execute_input": "2024-01-30T13:55:11.311222Z",
     "iopub.status.busy": "2024-01-30T13:55:11.310564Z",
     "iopub.status.idle": "2024-01-30T13:55:14.828630Z",
     "shell.execute_reply": "2024-01-30T13:55:14.827917Z",
     "shell.execute_reply.started": "2024-01-30T13:55:11.311193Z"
    },
    "id": "UDewX9-VFPGm",
    "tags": []
   },
   "outputs": [],
   "source": [
    "data['text'] = data['text'].apply(remove_duplicated)"
   ]
  },
  {
   "cell_type": "code",
   "execution_count": null,
   "metadata": {
    "colab": {
     "base_uri": "https://localhost:8080/",
     "height": 580
    },
    "execution": {
     "iopub.execute_input": "2024-01-30T10:25:47.332910Z",
     "iopub.status.busy": "2024-01-30T10:25:47.332442Z",
     "iopub.status.idle": "2024-01-30T10:26:07.525314Z",
     "shell.execute_reply": "2024-01-30T10:26:07.524426Z",
     "shell.execute_reply.started": "2024-01-30T10:25:47.332873Z"
    },
    "id": "63T_d03JFjwM",
    "outputId": "f4cc1f96-f806-4051-c71e-c4c1089b2405",
    "tags": []
   },
   "outputs": [
    {
     "data": {
      "image/png": "[encoded data removed]",
      "text/plain": [
       "<Figure size 700x700 with 1 Axes>"
      ]
     },
     "metadata": {},
     "output_type": "display_data"
    }
   ],
   "source": [
    "unique_words_number = np.concatenate(data['text'].apply(count_words).values)\n",
    "\n",
    "fig, ax = plt.subplots(figsize=(7, 7))\n",
    "sns.boxplot(unique_words_number)\n",
    "plt.show()"
   ]
  },
  {
   "cell_type": "code",
   "execution_count": null,
   "metadata": {
    "colab": {
     "base_uri": "https://localhost:8080/",
     "height": 651
    },
    "execution": {
     "iopub.execute_input": "2024-01-30T10:26:07.526680Z",
     "iopub.status.busy": "2024-01-30T10:26:07.526352Z",
     "iopub.status.idle": "2024-01-30T10:26:09.469411Z",
     "shell.execute_reply": "2024-01-30T10:26:09.468495Z",
     "shell.execute_reply.started": "2024-01-30T10:26:07.526656Z"
    },
    "id": "xkUaypXSGLvI",
    "outputId": "3e8eba3d-4cc4-4df9-97c8-21641dfbbeb3",
    "tags": []
   },
   "outputs": [
    {
     "name": "stdout",
     "output_type": "stream",
     "text": [
      "Max number of word: 970\n",
      "\n",
      "Text with max len\n",
      "67715\n"
     ]
    },
    {
     "data": {
      "image/png": "[encoded data removed]",
      "text/plain": [
       "<Figure size 1800x600 with 2 Axes>"
      ]
     },
     "metadata": {},
     "output_type": "display_data"
    }
   ],
   "source": [
    "analyze_words_number(data['text'])"
   ]
  },
  {
   "cell_type": "code",
   "execution_count": null,
   "metadata": {
    "colab": {
     "base_uri": "https://localhost:8080/",
     "height": 122
    },
    "execution": {
     "iopub.execute_input": "2024-01-30T10:26:14.836915Z",
     "iopub.status.busy": "2024-01-30T10:26:14.836501Z",
     "iopub.status.idle": "2024-01-30T10:26:14.841944Z",
     "shell.execute_reply": "2024-01-30T10:26:14.841268Z",
     "shell.execute_reply.started": "2024-01-30T10:26:14.836882Z"
    },
    "id": "J8QSHADdHwh7",
    "outputId": "fd53e1f2-fa6c-4b29-96b0-4ff30a398183",
    "tags": []
   },
   "outputs": [
    {
     "data": {
      "application/vnd.google.colaboratory.intrinsic+json": {
       "type": "string"
      },
      "text/plain": [
       "\"unblock everybodee im traviaan the nightmare d ive been busy irl so i havent been able to get to the computer much i hope you can understand now back to the task at hand now ive figured you all out kindness is the only way to win you over d kindness you shall get my fellow gentlemen ahh now you're really showing the love here and not a single piece of that wikipedia isn't the place for you mumbo jumbo guess travian is not the only one who has changed his attitude a bit now eh? d travian is glad hes glad i wasnt aggressive really not in the unblock requests anyway the rest was for pure unadulterated fun believe it or not but we will get to that part in a minute k? oh really? nothing i say huh? travian is sad so sad but he'll survive no not really it all stemmed from one thing to another you will see ill try to make you understand this in a most less confusing way as possible k? im reading it as we speak ill be on it in a few secs this reply is to jbw the following is to my fellow blockee magog yes you may make some suggestions my fellow gentleman d you may be happy to know that ive read them even before i joined wiki and ive read them just now just because you asked so nicely here are the replys in an orderly fashion please take the time to read it my dear sir i understand the battleground thing was just a show of enthusiasm we'll get to that in a minute now i dont have a mother or parents for that matter but i know where you are getting at dont try to hurt other peoples feelings or as you may put it or potty it dont be a potty mouth now this is the part travian has a little problem with i feel that you should have been a wee bit more lenient with me on my first block not this one you should have warned me before blocking since it was my first time anyway but i guess blocking all those other vandals has some kind of a ptsd effect on wiki admins dont worry ill make the explanation short please tolerate travian he only made reverts he was warned only once for reverting times and at that time he didnt check his talk page so he didnt know if he had a warning as he was busy browsing but that wasnt a violation it was a fair warning no doubt but at that exact time i was going to modify my th edit it was not a revert so naturally i wouldnt be able to see the warning i only saw the orange message after i finished editing and saved the page after i did that i got another warning only it wasnt a warning it said that i have been reported for editting times boy did i wish it was a warning though p now i felt that i deserved a warning before i got blocked a warning by you yourself we are all guys here arent we even though im i still do count d my point is we are all reasonable men here i would have stopped had i known that i was doing harm and not the good i envisioned so please i would like to ask you tolerate me of you will ill talk more about this below oh i humbly apologize but its just that that situation was unique that particular user wasnt going to listen anyway but believe me another user spoke to him giving a link to disprove his point but he kept insisting he was right i assumed good faith in that had he seen that link he would not have continued with his points as he had been reverted by many others before too but i was clearly wrong on that part so i reverted his edits and he kept reverting mine so i posted a comment on his talk page only to get insulted i would have welcomed him with the welcome to wikipedia thingy with the pretty pictures but alas i had no knowledge of how to do that but i did make a little mistake though that comment i made may have been a bit personal but it was not an attack no was it insulting but it was accurate notheless and when he insulted me back i thought of ignoring him but knowing that he could easily be aggravated i just couldn't pass this offer up just for the giggles but i know when im guilty regardless of reason if you may ask why i did it i would answer with idiftl d mastodon lol thats funny did you know scientists are running an extinct cloning program? so the mastodons might indeed be coming back oh no no my fellow editor you got it all wrong i wasnt really angry i did it for the laughs it was funny even if it was a little bit after all creating a page with hairy monkey balls did make me giggle p i hope someone besides me got some laughs but alas i know when ive done something bad read the in a nutshell part for details of you are confused yes ive read them now i cant guarantee that but i promise i will not be a potty mouth k? i cannot guarantee the other part because i may accidentaly edit times in a row but i want you to be a bit lenient with me on this last part now ive seen people right here on wiki who made more than reverts not get immediately bloc\""
      ]
     },
     "execution_count": 194,
     "metadata": {},
     "output_type": "execute_result"
    }
   ],
   "source": [
    "data['text'][67715]"
   ]
  },
  {
   "cell_type": "markdown",
   "metadata": {
    "id": "Tu6oCnLI0Udz"
   },
   "source": [
    "### Embeddings from BERT"
   ]
  },
  {
   "cell_type": "markdown",
   "metadata": {
    "id": "UHzMzRqfjF-Q"
   },
   "source": [
    "**Воспользуемся предобученным BERT для создания эмбеддингов, а обучать на них будем Logistic Regression и Pytorch Sequential**"
   ]
  },
  {
   "cell_type": "code",
   "execution_count": null,
   "metadata": {
    "execution": {
     "iopub.execute_input": "2024-01-30T13:55:15.456840Z",
     "iopub.status.busy": "2024-01-30T13:55:15.456458Z",
     "iopub.status.idle": "2024-01-30T13:55:15.460290Z",
     "shell.execute_reply": "2024-01-30T13:55:15.459489Z",
     "shell.execute_reply.started": "2024-01-30T13:55:15.456811Z"
    },
    "id": "JDr8zpchnK2L",
    "tags": []
   },
   "outputs": [],
   "source": [
    "PRE_TRAINED_MODEL_NAME = 'unitary/toxic-bert'"
   ]
  },
  {
   "cell_type": "code",
   "execution_count": null,
   "metadata": {
    "execution": {
     "iopub.execute_input": "2024-01-30T13:55:16.253317Z",
     "iopub.status.busy": "2024-01-30T13:55:16.252725Z",
     "iopub.status.idle": "2024-01-30T13:55:19.018280Z",
     "shell.execute_reply": "2024-01-30T13:55:19.017448Z",
     "shell.execute_reply.started": "2024-01-30T13:55:16.253286Z"
    },
    "id": "yia7M5EFWqW6",
    "tags": []
   },
   "outputs": [],
   "source": [
    "tokenizer = AutoTokenizer.from_pretrained(PRE_TRAINED_MODEL_NAME, do_lower_case=True)\n",
    "bert_model = AutoModel.from_pretrained(PRE_TRAINED_MODEL_NAME)"
   ]
  },
  {
   "cell_type": "code",
   "execution_count": null,
   "metadata": {
    "colab": {
     "base_uri": "https://localhost:8080/"
    },
    "execution": {
     "iopub.execute_input": "2024-01-30T10:27:11.865448Z",
     "iopub.status.busy": "2024-01-30T10:27:11.864928Z",
     "iopub.status.idle": "2024-01-30T10:27:52.175071Z",
     "shell.execute_reply": "2024-01-30T10:27:52.174392Z",
     "shell.execute_reply.started": "2024-01-30T10:27:11.865410Z"
    },
    "id": "7TXiMSleSNXm",
    "outputId": "419f8086-92dc-4945-a801-7f8f55ab1a97",
    "tags": []
   },
   "outputs": [
    {
     "name": "stderr",
     "output_type": "stream",
     "text": [
      "Token indices sequence length is longer than the specified maximum sequence length for this model (545 > 512). Running this sequence through the model will result in indexing errors\n"
     ]
    }
   ],
   "source": [
    "token_lens = []\n",
    "\n",
    "for txt in data['text']:\n",
    "    tokens = tokenizer.encode(txt)\n",
    "    token_lens.append(len(tokens))"
   ]
  },
  {
   "cell_type": "code",
   "execution_count": null,
   "metadata": {
    "colab": {
     "base_uri": "https://localhost:8080/",
     "height": 449
    },
    "execution": {
     "iopub.execute_input": "2024-01-30T10:27:52.176359Z",
     "iopub.status.busy": "2024-01-30T10:27:52.176035Z",
     "iopub.status.idle": "2024-01-30T10:27:52.947199Z",
     "shell.execute_reply": "2024-01-30T10:27:52.946385Z",
     "shell.execute_reply.started": "2024-01-30T10:27:52.176335Z"
    },
    "id": "gOhRlmuoSaHj",
    "outputId": "f6a623ab-ccb9-4b22-9330-167fa64b9923",
    "tags": []
   },
   "outputs": [
    {
     "data": {
      "image/png": "[encoded data removed]",
      "text/plain": [
       "<Figure size 640x480 with 1 Axes>"
      ]
     },
     "metadata": {},
     "output_type": "display_data"
    }
   ],
   "source": [
    "sns.distplot(token_lens)\n",
    "plt.xlabel('Token count')\n",
    "plt.xticks(range(0, 5001, 500))\n",
    "plt.show()"
   ]
  },
  {
   "cell_type": "markdown",
   "metadata": {
    "id": "gX2NuroCEs3I"
   },
   "source": [
    "**В каких-то комментариях почти 5000 токенов, но большая часть имеет меньше 500, BERT рассчитан максимум на 512 токенов у одного объекта, поэтому будем ограничивать этим**\n",
    "\n",
    "**Загрузим комментарии в torch.Dataset и воспользуемся torch.DataLoader для создания эмбеддингов по батчам. Эмбеддинги сохраним в список. Мы будем использовать \\[CLS\\] hidden state**"
   ]
  },
  {
   "cell_type": "code",
   "execution_count": null,
   "metadata": {
    "execution": {
     "iopub.execute_input": "2024-01-30T13:55:39.283253Z",
     "iopub.status.busy": "2024-01-30T13:55:39.282855Z",
     "iopub.status.idle": "2024-01-30T13:55:39.631508Z",
     "shell.execute_reply": "2024-01-30T13:55:39.630788Z",
     "shell.execute_reply.started": "2024-01-30T13:55:39.283223Z"
    },
    "id": "fAHtBSnip5DA",
    "tags": []
   },
   "outputs": [],
   "source": [
    "bert_model = bert_model.to(device)"
   ]
  },
  {
   "cell_type": "code",
   "execution_count": null,
   "metadata": {
    "execution": {
     "iopub.execute_input": "2024-01-30T13:55:40.795401Z",
     "iopub.status.busy": "2024-01-30T13:55:40.795011Z",
     "iopub.status.idle": "2024-01-30T13:55:40.801285Z",
     "shell.execute_reply": "2024-01-30T13:55:40.800292Z",
     "shell.execute_reply.started": "2024-01-30T13:55:40.795372Z"
    },
    "id": "ESAiJtgBczfz",
    "tags": []
   },
   "outputs": [],
   "source": [
    "class TextDataset(Dataset):\n",
    "\n",
    "    def __init__(self, texts, targets, tokenizer, max_len):\n",
    "        self.texts = texts\n",
    "        self.targets = targets\n",
    "        self.tokenizer = tokenizer\n",
    "        self.max_len = max_len\n",
    "\n",
    "    def __len__(self):\n",
    "        return len(self.texts)\n",
    "\n",
    "    def __getitem__(self, item):\n",
    "        text = self.texts[item]\n",
    "        target = self.targets[item]\n",
    "        # create tokens\n",
    "        encoding = self.tokenizer(\n",
    "            text,\n",
    "            add_special_tokens=True,\n",
    "            max_length=self.max_len,\n",
    "            padding='max_length',\n",
    "            truncation=True,\n",
    "            return_attention_mask=True,\n",
    "            return_tensors='pt',\n",
    "        )\n",
    "\n",
    "        return {\n",
    "            'input_ids': encoding['input_ids'].flatten(),\n",
    "            'attention_mask': encoding['attention_mask'].flatten(),\n",
    "            'targets': target\n",
    "        }"
   ]
  },
  {
   "cell_type": "code",
   "execution_count": null,
   "metadata": {
    "execution": {
     "iopub.execute_input": "2024-01-30T13:55:42.076344Z",
     "iopub.status.busy": "2024-01-30T13:55:42.075936Z",
     "iopub.status.idle": "2024-01-30T13:55:42.080609Z",
     "shell.execute_reply": "2024-01-30T13:55:42.079753Z",
     "shell.execute_reply.started": "2024-01-30T13:55:42.076318Z"
    },
    "id": "CmoVEMd5fZfB",
    "tags": []
   },
   "outputs": [],
   "source": [
    "def create_data_loader(data, tokenizer, max_len, batch_size):\n",
    "\n",
    "    ds = TextDataset(\n",
    "        texts=data['text'].values,\n",
    "        targets=data['toxic'].values,\n",
    "        tokenizer=tokenizer,\n",
    "        max_len=max_len,\n",
    "    )\n",
    "\n",
    "    return DataLoader(\n",
    "        ds,\n",
    "        batch_size=batch_size,\n",
    "    )"
   ]
  },
  {
   "cell_type": "code",
   "execution_count": null,
   "metadata": {
    "execution": {
     "iopub.execute_input": "2024-01-30T13:55:44.440970Z",
     "iopub.status.busy": "2024-01-30T13:55:44.440565Z",
     "iopub.status.idle": "2024-01-30T13:55:44.506460Z",
     "shell.execute_reply": "2024-01-30T13:55:44.505739Z",
     "shell.execute_reply.started": "2024-01-30T13:55:44.440942Z"
    },
    "id": "GvoF5BkvBCBi",
    "tags": []
   },
   "outputs": [],
   "source": [
    "BATCH_SIZE = 16\n",
    "MAX_LEN = 512\n",
    "# divide dataset to train and test\n",
    "train, test = train_test_split(data, test_size=0.1, stratify=data['toxic'], random_state=RANDOM_STATE)\n",
    "\n",
    "dataloader_train = create_data_loader(train, tokenizer, MAX_LEN, BATCH_SIZE)\n",
    "dataloader_test = create_data_loader(test, tokenizer, MAX_LEN, BATCH_SIZE)\n",
    "\n",
    "embeddings_train = []\n",
    "targets_train = []\n",
    "embeddings_test = []\n",
    "targets_test = []"
   ]
  },
  {
   "cell_type": "code",
   "execution_count": null,
   "metadata": {
    "colab": {
     "base_uri": "https://localhost:8080/",
     "height": 81,
     "referenced_widgets": [
      "ccf9a41a100144d1bae86665899bf4d7",
      "b4ab625b12eb439d8a2e776a4dec377d",
      "cfa009d5f567477381ec6ad5ef656239",
      "f881c80fc128475c9dc95fea0b3fa0bf",
      "4ee8d3e143ab4096900bf6ed372da6ce",
      "df9649359b4146ed94a8789f8968b4a6",
      "311198ad950c4348867e656ca5314812",
      "c94fddc76a9341cc97d87ea43edaa8fb",
      "ab29c0e913e94ca49da2614203419166",
      "56988e12342843f794c524ad9d5845d4",
      "9816e42f89de4fe8b47da035adb8ebce",
      "1976668374f9444fa2d9dff42950da83",
      "86d1f71d507f40ffaff029871a6bad6d",
      "023de29781014915adccdc4854397ea5",
      "3a4ab6782cb643ae8c904170e4a1ff87",
      "541f634127504c71b7831f660c6eb7fe",
      "b6fb520a8cc146aa86817cd6fbf34ad1",
      "037a96f8803445be8d4309c2d9abeebc",
      "8b387572e9df4f1288ebf52822b11364",
      "4d567d6196e6462b875b4e4d8ccf96f2",
      "c7d1ab8d9c634f55a84ff676be11987b",
      "688699db137544ceb36c0157e1d70f30"
     ]
    },
    "execution": {
     "iopub.execute_input": "2024-01-30T13:55:51.753767Z",
     "iopub.status.busy": "2024-01-30T13:55:51.753049Z",
     "iopub.status.idle": "2024-01-30T15:14:39.806263Z",
     "shell.execute_reply": "2024-01-30T15:14:39.805495Z",
     "shell.execute_reply.started": "2024-01-30T13:55:51.753735Z"
    },
    "id": "5VM6Kt7Iw5kC",
    "outputId": "278ad3de-7504-4f30-a448-db8e86b69c1d",
    "tags": []
   },
   "outputs": [
    {
     "data": {
      "application/vnd.jupyter.widget-view+json": {
       "model_id": "ccf9a41a100144d1bae86665899bf4d7",
       "version_major": 2,
       "version_minor": 0
      },
      "text/plain": [
       "  0%|          | 0/8961 [00:00<?, ?it/s]"
      ]
     },
     "metadata": {},
     "output_type": "display_data"
    },
    {
     "data": {
      "application/vnd.jupyter.widget-view+json": {
       "model_id": "1976668374f9444fa2d9dff42950da83",
       "version_major": 2,
       "version_minor": 0
      },
      "text/plain": [
       "  0%|          | 0/996 [00:00<?, ?it/s]"
      ]
     },
     "metadata": {},
     "output_type": "display_data"
    }
   ],
   "source": [
    "for d in notebook.tqdm(dataloader_train):\n",
    "    input_ids = d['input_ids'].to(device)\n",
    "    attention_mask = d['attention_mask'].to(device)\n",
    "    targets = d['targets']\n",
    "\n",
    "    with torch.no_grad():\n",
    "        batch_embeddings = bert_model(input_ids, attention_mask=attention_mask)\n",
    "\n",
    "    embeddings_train.append(batch_embeddings[0][:,0,:].to('cpu').numpy())\n",
    "    targets_train.append(targets)\n",
    "\n",
    "for d in notebook.tqdm(dataloader_test):\n",
    "    input_ids = d['input_ids'].to(device)\n",
    "    attention_mask = d['attention_mask'].to(device)\n",
    "    targets = d['targets']\n",
    "\n",
    "    with torch.no_grad():\n",
    "        batch_embeddings = bert_model(input_ids, attention_mask=attention_mask)\n",
    "\n",
    "    embeddings_test.append(batch_embeddings[0][:,0,:].to('cpu').numpy())\n",
    "    targets_test.append(targets)"
   ]
  },
  {
   "cell_type": "code",
   "execution_count": null,
   "metadata": {
    "execution": {
     "iopub.execute_input": "2024-01-30T15:18:29.879354Z",
     "iopub.status.busy": "2024-01-30T15:18:29.878955Z",
     "iopub.status.idle": "2024-01-30T15:18:29.883693Z",
     "shell.execute_reply": "2024-01-30T15:18:29.882860Z",
     "shell.execute_reply.started": "2024-01-30T15:18:29.879327Z"
    },
    "id": "2GiDrvzsFONF",
    "tags": []
   },
   "outputs": [],
   "source": [
    "del bert_model, input_ids, attention_mask"
   ]
  },
  {
   "cell_type": "code",
   "execution_count": null,
   "metadata": {
    "execution": {
     "iopub.execute_input": "2024-01-30T15:14:39.808434Z",
     "iopub.status.busy": "2024-01-30T15:14:39.808003Z",
     "iopub.status.idle": "2024-01-30T15:14:40.024921Z",
     "shell.execute_reply": "2024-01-30T15:14:40.024182Z",
     "shell.execute_reply.started": "2024-01-30T15:14:39.808395Z"
    },
    "id": "dcRx3E5UGYA8",
    "tags": []
   },
   "outputs": [],
   "source": [
    "X_train = np.concatenate(embeddings_train)\n",
    "X_test = np.concatenate(embeddings_test)\n",
    "y_train = np.concatenate(targets_train)\n",
    "y_test = np.concatenate(targets_test)"
   ]
  },
  {
   "cell_type": "markdown",
   "metadata": {
    "id": "rCzyVl7_LH7V"
   },
   "source": [
    "### Вывод"
   ]
  },
  {
   "cell_type": "markdown",
   "metadata": {
    "id": "Pz7eG3PTGYBB"
   },
   "source": [
    " - Во время подготовки данных был выявлен дисбаланс классов.\n",
    " - Текст комментариев обработан: удалены ссылки, все символы (кроме '!?), текст приведен к нижнему регистру, удалены лишние пробельные символы\n",
    " - Удалены повторения слов в одном комментарии превышающие 84 раза (99.99% слов в комментариях повторяются меньшее количество раз, при этом есть комментарии с многократным повтоением одной фразы)\n",
    " - Датасет разделен на обучающий и тестовый в соотношении 9:1\n",
    " - Созданы эмбеддинги для дальнейшей классификации с помощью предобученной модели 'unitary/toxic-bert'"
   ]
  },
  {
   "cell_type": "markdown",
   "metadata": {
    "id": "SNyNaQnWki5R"
   },
   "source": [
    "## Обучение"
   ]
  },
  {
   "cell_type": "markdown",
   "metadata": {
    "id": "dL4gJIdsknra"
   },
   "source": [
    "### LogisticRegression"
   ]
  },
  {
   "cell_type": "markdown",
   "metadata": {
    "id": "RZT_SMt8C6Fr"
   },
   "source": [
    "#### Oversample"
   ]
  },
  {
   "cell_type": "markdown",
   "metadata": {
    "id": "G_Fseb4QGYBB"
   },
   "source": [
    "**Для обучения и валидации моделей воспользуемся средствами библиотеки** `imblearn`**: Pipeline и оверсемплером SMOTE, чтобы избавиться от дисбаланса классов во время обучения.**"
   ]
  },
  {
   "cell_type": "code",
   "execution_count": null,
   "metadata": {
    "execution": {
     "iopub.execute_input": "2024-01-30T21:46:57.297525Z",
     "iopub.status.busy": "2024-01-30T21:46:57.297128Z",
     "iopub.status.idle": "2024-01-30T21:46:57.302150Z",
     "shell.execute_reply": "2024-01-30T21:46:57.301335Z",
     "shell.execute_reply.started": "2024-01-30T21:46:57.297496Z"
    },
    "id": "19xdM0XlGYBB",
    "tags": []
   },
   "outputs": [],
   "source": [
    "# create pipeline with over-sampler and model\n",
    "log_pipeline = Pipeline([['smote', SMOTE(random_state=RANDOM_STATE)],\n",
    "                        ['log', LogisticRegression(random_state=RANDOM_STATE)]],\n",
    "                       )\n",
    "# cv splitter\n",
    "kf = KFold(n_splits=5, shuffle=False)\n",
    "param_log = {'log__C': np.logspace(-3, 3, 7)}\n",
    "\n",
    "grid_log_SMOTE = GridSearchCV(log_pipeline, param_log, cv=kf, scoring='f1')"
   ]
  },
  {
   "cell_type": "code",
   "execution_count": null,
   "metadata": {
    "colab": {
     "base_uri": "https://localhost:8080/",
     "height": 152
    },
    "execution": {
     "iopub.execute_input": "2024-01-30T21:47:00.988934Z",
     "iopub.status.busy": "2024-01-30T21:47:00.988542Z"
    },
    "id": "nJRsBI2zmzB_",
    "outputId": "8d9dd7f4-34f7-4f13-9793-77c4f641dc67",
    "tags": []
   },
   "outputs": [
    {
     "data": {
      "text/html": [
       "<style>#sk-container-id-2 {color: black;background-color: white;}#sk-container-id-2 pre{padding: 0;}#sk-container-id-2 div.sk-toggleable {background-color: white;}#sk-container-id-2 label.sk-toggleable__label {cursor: pointer;display: block;width: 100%;margin-bottom: 0;padding: 0.3em;box-sizing: border-box;text-align: center;}#sk-container-id-2 label.sk-toggleable__label-arrow:before {content: \"▸\";float: left;margin-right: 0.25em;color: #696969;}#sk-container-id-2 label.sk-toggleable__label-arrow:hover:before {color: black;}#sk-container-id-2 div.sk-estimator:hover label.sk-toggleable__label-arrow:before {color: black;}#sk-container-id-2 div.sk-toggleable__content {max-height: 0;max-width: 0;overflow: hidden;text-align: left;background-color: #f0f8ff;}#sk-container-id-2 div.sk-toggleable__content pre {margin: 0.2em;color: black;border-radius: 0.25em;background-color: #f0f8ff;}#sk-container-id-2 input.sk-toggleable__control:checked~div.sk-toggleable__content {max-height: 200px;max-width: 100%;overflow: auto;}#sk-container-id-2 input.sk-toggleable__control:checked~label.sk-toggleable__label-arrow:before {content: \"▾\";}#sk-container-id-2 div.sk-estimator input.sk-toggleable__control:checked~label.sk-toggleable__label {background-color: #d4ebff;}#sk-container-id-2 div.sk-label input.sk-toggleable__control:checked~label.sk-toggleable__label {background-color: #d4ebff;}#sk-container-id-2 input.sk-hidden--visually {border: 0;clip: rect(1px 1px 1px 1px);clip: rect(1px, 1px, 1px, 1px);height: 1px;margin: -1px;overflow: hidden;padding: 0;position: absolute;width: 1px;}#sk-container-id-2 div.sk-estimator {font-family: monospace;background-color: #f0f8ff;border: 1px dotted black;border-radius: 0.25em;box-sizing: border-box;margin-bottom: 0.5em;}#sk-container-id-2 div.sk-estimator:hover {background-color: #d4ebff;}#sk-container-id-2 div.sk-parallel-item::after {content: \"\";width: 100%;border-bottom: 1px solid gray;flex-grow: 1;}#sk-container-id-2 div.sk-label:hover label.sk-toggleable__label {background-color: #d4ebff;}#sk-container-id-2 div.sk-serial::before {content: \"\";position: absolute;border-left: 1px solid gray;box-sizing: border-box;top: 0;bottom: 0;left: 50%;z-index: 0;}#sk-container-id-2 div.sk-serial {display: flex;flex-direction: column;align-items: center;background-color: white;padding-right: 0.2em;padding-left: 0.2em;position: relative;}#sk-container-id-2 div.sk-item {position: relative;z-index: 1;}#sk-container-id-2 div.sk-parallel {display: flex;align-items: stretch;justify-content: center;background-color: white;position: relative;}#sk-container-id-2 div.sk-item::before, #sk-container-id-2 div.sk-parallel-item::before {content: \"\";position: absolute;border-left: 1px solid gray;box-sizing: border-box;top: 0;bottom: 0;left: 50%;z-index: -1;}#sk-container-id-2 div.sk-parallel-item {display: flex;flex-direction: column;z-index: 1;position: relative;background-color: white;}#sk-container-id-2 div.sk-parallel-item:first-child::after {align-self: flex-end;width: 50%;}#sk-container-id-2 div.sk-parallel-item:last-child::after {align-self: flex-start;width: 50%;}#sk-container-id-2 div.sk-parallel-item:only-child::after {width: 0;}#sk-container-id-2 div.sk-dashed-wrapped {border: 1px dashed gray;margin: 0 0.4em 0.5em 0.4em;box-sizing: border-box;padding-bottom: 0.4em;background-color: white;}#sk-container-id-2 div.sk-label label {font-family: monospace;font-weight: bold;display: inline-block;line-height: 1.2em;}#sk-container-id-2 div.sk-label-container {text-align: center;}#sk-container-id-2 div.sk-container {/* jupyter's `normalize.less` sets `[hidden] { display: none; }` but bootstrap.min.css set `[hidden] { display: none !important; }` so we also need the `!important` here to be able to override the default hidden behavior on the sphinx rendered scikit-learn.org. See: https://github.com/scikit-learn/scikit-learn/issues/21755 */display: inline-block !important;position: relative;}#sk-container-id-2 div.sk-text-repr-fallback {display: none;}</style><div id=\"sk-container-id-2\" class=\"sk-top-container\"><div class=\"sk-text-repr-fallback\"><pre>GridSearchCV(cv=KFold(n_splits=5, random_state=None, shuffle=False),\n",
       "             estimator=Pipeline(steps=[[&#x27;smote&#x27;, SMOTE(random_state=1)],\n",
       "                                       [&#x27;log&#x27;,\n",
       "                                        LogisticRegression(random_state=1)]]),\n",
       "             param_grid={&#x27;log__C&#x27;: array([1.e-03, 1.e-02, 1.e-01, 1.e+00, 1.e+01, 1.e+02, 1.e+03])},\n",
       "             scoring=&#x27;f1&#x27;)</pre><b>In a Jupyter environment, please rerun this cell to show the HTML representation or trust the notebook. <br />On GitHub, the HTML representation is unable to render, please try loading this page with nbviewer.org.</b></div><div class=\"sk-container\" hidden><div class=\"sk-item sk-dashed-wrapped\"><div class=\"sk-label-container\"><div class=\"sk-label sk-toggleable\"><input class=\"sk-toggleable__control sk-hidden--visually\" id=\"sk-estimator-id-4\" type=\"checkbox\" ><label for=\"sk-estimator-id-4\" class=\"sk-toggleable__label sk-toggleable__label-arrow\">GridSearchCV</label><div class=\"sk-toggleable__content\"><pre>GridSearchCV(cv=KFold(n_splits=5, random_state=None, shuffle=False),\n",
       "             estimator=Pipeline(steps=[[&#x27;smote&#x27;, SMOTE(random_state=1)],\n",
       "                                       [&#x27;log&#x27;,\n",
       "                                        LogisticRegression(random_state=1)]]),\n",
       "             param_grid={&#x27;log__C&#x27;: array([1.e-03, 1.e-02, 1.e-01, 1.e+00, 1.e+01, 1.e+02, 1.e+03])},\n",
       "             scoring=&#x27;f1&#x27;)</pre></div></div></div><div class=\"sk-parallel\"><div class=\"sk-parallel-item\"><div class=\"sk-item\"><div class=\"sk-label-container\"><div class=\"sk-label sk-toggleable\"><input class=\"sk-toggleable__control sk-hidden--visually\" id=\"sk-estimator-id-5\" type=\"checkbox\" ><label for=\"sk-estimator-id-5\" class=\"sk-toggleable__label sk-toggleable__label-arrow\">estimator: Pipeline</label><div class=\"sk-toggleable__content\"><pre>Pipeline(steps=[[&#x27;smote&#x27;, SMOTE(random_state=1)],\n",
       "                [&#x27;log&#x27;, LogisticRegression(random_state=1)]])</pre></div></div></div><div class=\"sk-serial\"><div class=\"sk-item\"><div class=\"sk-serial\"><div class=\"sk-item\"><div class=\"sk-estimator sk-toggleable\"><input class=\"sk-toggleable__control sk-hidden--visually\" id=\"sk-estimator-id-6\" type=\"checkbox\" ><label for=\"sk-estimator-id-6\" class=\"sk-toggleable__label sk-toggleable__label-arrow\">SMOTE</label><div class=\"sk-toggleable__content\"><pre>SMOTE(random_state=1)</pre></div></div></div><div class=\"sk-item\"><div class=\"sk-estimator sk-toggleable\"><input class=\"sk-toggleable__control sk-hidden--visually\" id=\"sk-estimator-id-7\" type=\"checkbox\" ><label for=\"sk-estimator-id-7\" class=\"sk-toggleable__label sk-toggleable__label-arrow\">LogisticRegression</label><div class=\"sk-toggleable__content\"><pre>LogisticRegression(random_state=1)</pre></div></div></div></div></div></div></div></div></div></div></div></div>"
      ],
      "text/plain": [
       "GridSearchCV(cv=KFold(n_splits=5, random_state=None, shuffle=False),\n",
       "             estimator=Pipeline(steps=[['smote', SMOTE(random_state=1)],\n",
       "                                       ['log',\n",
       "                                        LogisticRegression(random_state=1)]]),\n",
       "             param_grid={'log__C': array([1.e-03, 1.e-02, 1.e-01, 1.e+00, 1.e+01, 1.e+02, 1.e+03])},\n",
       "             scoring='f1')"
      ]
     },
     "execution_count": 206,
     "metadata": {},
     "output_type": "execute_result"
    }
   ],
   "source": [
    "grid_log_SMOTE.fit(X_train, y_train)"
   ]
  },
  {
   "cell_type": "code",
   "execution_count": null,
   "metadata": {
    "colab": {
     "base_uri": "https://localhost:8080/"
    },
    "execution": {
     "iopub.execute_input": "2024-01-30T21:41:18.163771Z",
     "iopub.status.busy": "2024-01-30T21:41:18.163474Z",
     "iopub.status.idle": "2024-01-30T21:41:18.167185Z",
     "shell.execute_reply": "2024-01-30T21:41:18.166579Z",
     "shell.execute_reply.started": "2024-01-30T21:41:18.163748Z"
    },
    "id": "U4tBpbVuO4CF",
    "outputId": "c5aff3c8-a04b-4df7-90bd-63c125127078",
    "tags": []
   },
   "outputs": [
    {
     "name": "stdout",
     "output_type": "stream",
     "text": [
      "F1: 0.8957634553254137\n",
      "Best params: {'log__C': 1000.0}\n"
     ]
    }
   ],
   "source": [
    "print(f'F1: {grid_log_SMOTE.best_score_}\\n'\n",
    "      f'Best params: {grid_log_SMOTE.best_params_}'\n",
    ")"
   ]
  },
  {
   "cell_type": "markdown",
   "metadata": {
    "id": "D_xKJM_cC_29"
   },
   "source": [
    "#### Without Oversample"
   ]
  },
  {
   "cell_type": "markdown",
   "metadata": {
    "id": "nnBGXB-PDykA"
   },
   "source": [
    "**Попробуем также обучить логистическую регрессию без SMOTE**"
   ]
  },
  {
   "cell_type": "code",
   "execution_count": null,
   "metadata": {
    "id": "MgAZ_BQpC-Fy"
   },
   "outputs": [],
   "source": [
    "log = LogisticRegression(random_state=RANDOM_STATE)\n",
    "kf = KFold(n_splits=5, shuffle=False)\n",
    "param_log = {'C': np.logspace(-3, 3, 7)}\n",
    "\n",
    "grid_log = GridSearchCV(log, param_log, cv=kf, scoring='f1')"
   ]
  },
  {
   "cell_type": "code",
   "execution_count": null,
   "metadata": {
    "colab": {
     "base_uri": "https://localhost:8080/",
     "height": 118
    },
    "id": "5qcIO4dcDfam",
    "outputId": "8b305e68-1857-48b6-ce2d-53bd14d7b8b2"
   },
   "outputs": [
    {
     "data": {
      "text/html": [
       "<style>#sk-container-id-3 {color: black;background-color: white;}#sk-container-id-3 pre{padding: 0;}#sk-container-id-3 div.sk-toggleable {background-color: white;}#sk-container-id-3 label.sk-toggleable__label {cursor: pointer;display: block;width: 100%;margin-bottom: 0;padding: 0.3em;box-sizing: border-box;text-align: center;}#sk-container-id-3 label.sk-toggleable__label-arrow:before {content: \"▸\";float: left;margin-right: 0.25em;color: #696969;}#sk-container-id-3 label.sk-toggleable__label-arrow:hover:before {color: black;}#sk-container-id-3 div.sk-estimator:hover label.sk-toggleable__label-arrow:before {color: black;}#sk-container-id-3 div.sk-toggleable__content {max-height: 0;max-width: 0;overflow: hidden;text-align: left;background-color: #f0f8ff;}#sk-container-id-3 div.sk-toggleable__content pre {margin: 0.2em;color: black;border-radius: 0.25em;background-color: #f0f8ff;}#sk-container-id-3 input.sk-toggleable__control:checked~div.sk-toggleable__content {max-height: 200px;max-width: 100%;overflow: auto;}#sk-container-id-3 input.sk-toggleable__control:checked~label.sk-toggleable__label-arrow:before {content: \"▾\";}#sk-container-id-3 div.sk-estimator input.sk-toggleable__control:checked~label.sk-toggleable__label {background-color: #d4ebff;}#sk-container-id-3 div.sk-label input.sk-toggleable__control:checked~label.sk-toggleable__label {background-color: #d4ebff;}#sk-container-id-3 input.sk-hidden--visually {border: 0;clip: rect(1px 1px 1px 1px);clip: rect(1px, 1px, 1px, 1px);height: 1px;margin: -1px;overflow: hidden;padding: 0;position: absolute;width: 1px;}#sk-container-id-3 div.sk-estimator {font-family: monospace;background-color: #f0f8ff;border: 1px dotted black;border-radius: 0.25em;box-sizing: border-box;margin-bottom: 0.5em;}#sk-container-id-3 div.sk-estimator:hover {background-color: #d4ebff;}#sk-container-id-3 div.sk-parallel-item::after {content: \"\";width: 100%;border-bottom: 1px solid gray;flex-grow: 1;}#sk-container-id-3 div.sk-label:hover label.sk-toggleable__label {background-color: #d4ebff;}#sk-container-id-3 div.sk-serial::before {content: \"\";position: absolute;border-left: 1px solid gray;box-sizing: border-box;top: 0;bottom: 0;left: 50%;z-index: 0;}#sk-container-id-3 div.sk-serial {display: flex;flex-direction: column;align-items: center;background-color: white;padding-right: 0.2em;padding-left: 0.2em;position: relative;}#sk-container-id-3 div.sk-item {position: relative;z-index: 1;}#sk-container-id-3 div.sk-parallel {display: flex;align-items: stretch;justify-content: center;background-color: white;position: relative;}#sk-container-id-3 div.sk-item::before, #sk-container-id-3 div.sk-parallel-item::before {content: \"\";position: absolute;border-left: 1px solid gray;box-sizing: border-box;top: 0;bottom: 0;left: 50%;z-index: -1;}#sk-container-id-3 div.sk-parallel-item {display: flex;flex-direction: column;z-index: 1;position: relative;background-color: white;}#sk-container-id-3 div.sk-parallel-item:first-child::after {align-self: flex-end;width: 50%;}#sk-container-id-3 div.sk-parallel-item:last-child::after {align-self: flex-start;width: 50%;}#sk-container-id-3 div.sk-parallel-item:only-child::after {width: 0;}#sk-container-id-3 div.sk-dashed-wrapped {border: 1px dashed gray;margin: 0 0.4em 0.5em 0.4em;box-sizing: border-box;padding-bottom: 0.4em;background-color: white;}#sk-container-id-3 div.sk-label label {font-family: monospace;font-weight: bold;display: inline-block;line-height: 1.2em;}#sk-container-id-3 div.sk-label-container {text-align: center;}#sk-container-id-3 div.sk-container {/* jupyter's `normalize.less` sets `[hidden] { display: none; }` but bootstrap.min.css set `[hidden] { display: none !important; }` so we also need the `!important` here to be able to override the default hidden behavior on the sphinx rendered scikit-learn.org. See: https://github.com/scikit-learn/scikit-learn/issues/21755 */display: inline-block !important;position: relative;}#sk-container-id-3 div.sk-text-repr-fallback {display: none;}</style><div id=\"sk-container-id-3\" class=\"sk-top-container\"><div class=\"sk-text-repr-fallback\"><pre>GridSearchCV(cv=KFold(n_splits=5, random_state=None, shuffle=False),\n",
       "             estimator=LogisticRegression(random_state=1),\n",
       "             param_grid={&#x27;C&#x27;: array([1.e-03, 1.e-02, 1.e-01, 1.e+00, 1.e+01, 1.e+02, 1.e+03])},\n",
       "             scoring=&#x27;f1&#x27;)</pre><b>In a Jupyter environment, please rerun this cell to show the HTML representation or trust the notebook. <br />On GitHub, the HTML representation is unable to render, please try loading this page with nbviewer.org.</b></div><div class=\"sk-container\" hidden><div class=\"sk-item sk-dashed-wrapped\"><div class=\"sk-label-container\"><div class=\"sk-label sk-toggleable\"><input class=\"sk-toggleable__control sk-hidden--visually\" id=\"sk-estimator-id-8\" type=\"checkbox\" ><label for=\"sk-estimator-id-8\" class=\"sk-toggleable__label sk-toggleable__label-arrow\">GridSearchCV</label><div class=\"sk-toggleable__content\"><pre>GridSearchCV(cv=KFold(n_splits=5, random_state=None, shuffle=False),\n",
       "             estimator=LogisticRegression(random_state=1),\n",
       "             param_grid={&#x27;C&#x27;: array([1.e-03, 1.e-02, 1.e-01, 1.e+00, 1.e+01, 1.e+02, 1.e+03])},\n",
       "             scoring=&#x27;f1&#x27;)</pre></div></div></div><div class=\"sk-parallel\"><div class=\"sk-parallel-item\"><div class=\"sk-item\"><div class=\"sk-label-container\"><div class=\"sk-label sk-toggleable\"><input class=\"sk-toggleable__control sk-hidden--visually\" id=\"sk-estimator-id-9\" type=\"checkbox\" ><label for=\"sk-estimator-id-9\" class=\"sk-toggleable__label sk-toggleable__label-arrow\">estimator: LogisticRegression</label><div class=\"sk-toggleable__content\"><pre>LogisticRegression(random_state=1)</pre></div></div></div><div class=\"sk-serial\"><div class=\"sk-item\"><div class=\"sk-estimator sk-toggleable\"><input class=\"sk-toggleable__control sk-hidden--visually\" id=\"sk-estimator-id-10\" type=\"checkbox\" ><label for=\"sk-estimator-id-10\" class=\"sk-toggleable__label sk-toggleable__label-arrow\">LogisticRegression</label><div class=\"sk-toggleable__content\"><pre>LogisticRegression(random_state=1)</pre></div></div></div></div></div></div></div></div></div></div>"
      ],
      "text/plain": [
       "GridSearchCV(cv=KFold(n_splits=5, random_state=None, shuffle=False),\n",
       "             estimator=LogisticRegression(random_state=1),\n",
       "             param_grid={'C': array([1.e-03, 1.e-02, 1.e-01, 1.e+00, 1.e+01, 1.e+02, 1.e+03])},\n",
       "             scoring='f1')"
      ]
     },
     "execution_count": 209,
     "metadata": {},
     "output_type": "execute_result"
    }
   ],
   "source": [
    "grid_log.fit(X_train, y_train)"
   ]
  },
  {
   "cell_type": "code",
   "execution_count": null,
   "metadata": {
    "colab": {
     "base_uri": "https://localhost:8080/"
    },
    "id": "g_ONXgzHDgk3",
    "outputId": "8c12e685-c7db-4278-a4be-f1a9024d0cc0"
   },
   "outputs": [
    {
     "name": "stdout",
     "output_type": "stream",
     "text": [
      "F1: 0.9262896874553004\n",
      "Best params: {'C': 0.1}\n"
     ]
    }
   ],
   "source": [
    "print(f'F1: {grid_log.best_score_}\\n'\n",
    "      f'Best params: {grid_log.best_params_}'\n",
    ")"
   ]
  },
  {
   "cell_type": "markdown",
   "metadata": {
    "id": "G8hBa2ZZcuqu"
   },
   "source": [
    "### Pytorch"
   ]
  },
  {
   "cell_type": "code",
   "execution_count": null,
   "metadata": {
    "colab": {
     "base_uri": "https://localhost:8080/"
    },
    "execution": {
     "iopub.execute_input": "2024-01-30T20:40:30.015851Z",
     "iopub.status.busy": "2024-01-30T20:40:30.015454Z",
     "iopub.status.idle": "2024-01-30T20:40:30.312390Z",
     "shell.execute_reply": "2024-01-30T20:40:30.311468Z",
     "shell.execute_reply.started": "2024-01-30T20:40:30.015824Z"
    },
    "id": "wCmLH-3tbpJP",
    "outputId": "ac92a4da-ff86-497d-8fc8-d5438fce8b0d",
    "tags": []
   },
   "outputs": [
    {
     "data": {
      "text/plain": [
       "653"
      ]
     },
     "execution_count": 212,
     "metadata": {},
     "output_type": "execute_result"
    }
   ],
   "source": [
    "import gc\n",
    "\n",
    "\n",
    "torch.cuda.empty_cache()\n",
    "gc.collect()"
   ]
  },
  {
   "cell_type": "markdown",
   "metadata": {
    "id": "cKGvRAwpEE7T"
   },
   "source": [
    "**Разделим обучающую выборку на обучающую и валидационную для обучения нейронной сети**"
   ]
  },
  {
   "cell_type": "code",
   "execution_count": null,
   "metadata": {
    "execution": {
     "iopub.execute_input": "2024-01-30T20:39:45.815722Z",
     "iopub.status.busy": "2024-01-30T20:39:45.815338Z",
     "iopub.status.idle": "2024-01-30T20:39:45.969077Z",
     "shell.execute_reply": "2024-01-30T20:39:45.968321Z",
     "shell.execute_reply.started": "2024-01-30T20:39:45.815694Z"
    },
    "id": "GycQ7g5wBCBl",
    "tags": []
   },
   "outputs": [],
   "source": [
    "X_train_torch, X_val, y_train_torch, y_val = train_test_split(X_train, y_train, test_size=0.1, stratify=y_train, random_state=RANDOM_STATE)"
   ]
  },
  {
   "cell_type": "markdown",
   "metadata": {
    "id": "OBwJVCkQENDe"
   },
   "source": [
    "**Посчитаем веса для 0 и 1 классов**"
   ]
  },
  {
   "cell_type": "code",
   "execution_count": null,
   "metadata": {
    "colab": {
     "base_uri": "https://localhost:8080/"
    },
    "execution": {
     "iopub.execute_input": "2024-01-30T21:26:17.205555Z",
     "iopub.status.busy": "2024-01-30T21:26:17.205140Z",
     "iopub.status.idle": "2024-01-30T21:26:17.233131Z",
     "shell.execute_reply": "2024-01-30T21:26:17.232440Z",
     "shell.execute_reply.started": "2024-01-30T21:26:17.205527Z"
    },
    "id": "lpZjw2dTgIXF",
    "outputId": "de53e25b-ac5e-4281-f622-ee9c019b41b7",
    "tags": []
   },
   "outputs": [
    {
     "data": {
      "text/plain": [
       "tensor([0.5566, 4.9208], device='cuda:0')"
      ]
     },
     "execution_count": 214,
     "metadata": {},
     "output_type": "execute_result"
    }
   ],
   "source": [
    "class_wts = compute_class_weight('balanced', classes=np.unique(y_train), y=y_train)\n",
    "weights= torch.tensor(class_wts, dtype=torch.float)\n",
    "weights = weights.to(device)\n",
    "weights"
   ]
  },
  {
   "cell_type": "code",
   "execution_count": null,
   "metadata": {
    "execution": {
     "iopub.execute_input": "2024-01-30T15:23:15.541634Z",
     "iopub.status.busy": "2024-01-30T15:23:15.540942Z",
     "iopub.status.idle": "2024-01-30T15:23:15.545982Z",
     "shell.execute_reply": "2024-01-30T15:23:15.545342Z",
     "shell.execute_reply.started": "2024-01-30T15:23:15.541602Z"
    },
    "id": "aeUp8tYeBCBl",
    "tags": []
   },
   "outputs": [],
   "source": [
    "class TextDataset(Dataset):\n",
    "\n",
    "    def __init__(self, texts, targets):\n",
    "        self.texts = texts\n",
    "        self.targets = targets\n",
    "\n",
    "    def __len__(self):\n",
    "        return len(self.texts)\n",
    "\n",
    "    def __getitem__(self, item):\n",
    "        text = self.texts[item]\n",
    "        target = self.targets[item]\n",
    "\n",
    "        return {\n",
    "            'texts': torch.tensor(text),\n",
    "            'targets': torch.tensor(target, dtype=torch.float64)\n",
    "        }\n",
    "    def get_labels(self):\n",
    "        return torch.tensor(self.targets, dtype=torch.float64)"
   ]
  },
  {
   "cell_type": "code",
   "execution_count": null,
   "metadata": {
    "execution": {
     "iopub.execute_input": "2024-01-30T15:23:20.565846Z",
     "iopub.status.busy": "2024-01-30T15:23:20.565466Z",
     "iopub.status.idle": "2024-01-30T15:23:20.569726Z",
     "shell.execute_reply": "2024-01-30T15:23:20.569068Z",
     "shell.execute_reply.started": "2024-01-30T15:23:20.565818Z"
    },
    "id": "zZ4NoG_7BCBl",
    "tags": []
   },
   "outputs": [],
   "source": [
    "def create_data_loader(texts, targets, batch_size, sampler=False):\n",
    "\n",
    "    ds = TextDataset(\n",
    "        texts=texts,\n",
    "        targets=targets,\n",
    "    )\n",
    "    if sampler:\n",
    "        sampler = ImbalancedDatasetSampler(ds)\n",
    "    else:\n",
    "        sampler = None\n",
    "\n",
    "    return DataLoader(\n",
    "        ds,\n",
    "        batch_size=batch_size,\n",
    "        sampler=sampler,\n",
    "    )"
   ]
  },
  {
   "cell_type": "markdown",
   "metadata": {
    "id": "IiEUEulzEYPi"
   },
   "source": [
    "**Воспользуемся FocalLoss как функцией ошибки для обучения модели, так как у нас имеется дизбаланс классов, а эта функция помогает с ним бороться**"
   ]
  },
  {
   "cell_type": "code",
   "execution_count": null,
   "metadata": {
    "execution": {
     "iopub.execute_input": "2024-01-30T16:38:01.101108Z",
     "iopub.status.busy": "2024-01-30T16:38:01.100710Z",
     "iopub.status.idle": "2024-01-30T16:38:01.105965Z",
     "shell.execute_reply": "2024-01-30T16:38:01.105152Z",
     "shell.execute_reply.started": "2024-01-30T16:38:01.101081Z"
    },
    "id": "gve4INdxF2LW",
    "tags": []
   },
   "outputs": [],
   "source": [
    "class FocalLoss(nn.Module):\n",
    "\n",
    "    def __init__(self, weight=None,\n",
    "                 gamma=2., reduction='mean'):\n",
    "        nn.Module.__init__(self)\n",
    "        self.weight = weight\n",
    "        self.gamma = gamma\n",
    "        self.reduction = reduction\n",
    "\n",
    "    def forward(self, input_tensor, target_tensor):\n",
    "        log_prob = F.log_softmax(input_tensor, dim=-1)\n",
    "        prob = torch.exp(log_prob)\n",
    "        return F.nll_loss(\n",
    "            ((1 - prob) ** self.gamma) * log_prob,\n",
    "            target_tensor,\n",
    "            weight=self.weight,\n",
    "            reduction = self.reduction\n",
    "        )"
   ]
  },
  {
   "cell_type": "code",
   "execution_count": null,
   "metadata": {
    "execution": {
     "iopub.execute_input": "2024-01-30T16:56:14.163711Z",
     "iopub.status.busy": "2024-01-30T16:56:14.163319Z",
     "iopub.status.idle": "2024-01-30T16:56:14.169924Z",
     "shell.execute_reply": "2024-01-30T16:56:14.169118Z",
     "shell.execute_reply.started": "2024-01-30T16:56:14.163681Z"
    },
    "id": "aDZfrcU1p_2Y",
    "tags": []
   },
   "outputs": [],
   "source": [
    "def train_epoch(\n",
    "    model,\n",
    "    data_loader,\n",
    "    loss_fn,\n",
    "    optimizer,\n",
    "    device,\n",
    "    scheduler,\n",
    "    f1_score,\n",
    "    acc\n",
    "):\n",
    "    model.train()\n",
    "\n",
    "    losses = []\n",
    "\n",
    "    for d in notebook.tqdm(data_loader):\n",
    "        inputs = d[\"texts\"].to(device)\n",
    "        targets = d[\"targets\"]\n",
    "        targets = targets.type(torch.LongTensor).to(device)\n",
    "\n",
    "        outputs = model(inputs)\n",
    "\n",
    "        loss = loss_fn(outputs, targets)\n",
    "        losses.append(loss.item())\n",
    "\n",
    "        # get predictions\n",
    "        prediction = F.softmax(outputs, dim=1)[:, 1].flatten()\n",
    "        # update f1 and accuracy\n",
    "        f1_score.update(prediction, targets)\n",
    "        acc.update(prediction, targets)\n",
    "\n",
    "        loss.backward()\n",
    "        nn.utils.clip_grad_norm_(model.parameters(), max_norm=1.0)\n",
    "        optimizer.step()\n",
    "        scheduler.step()\n",
    "        optimizer.zero_grad()\n",
    "    # compute f1 and accuracy\n",
    "    epoch_f1_score = f1_score.compute()\n",
    "    f1_score.reset()\n",
    "    epoch_acc = acc.compute()\n",
    "    acc.reset()\n",
    "\n",
    "    return epoch_f1_score, epoch_acc, np.mean(losses)"
   ]
  },
  {
   "cell_type": "code",
   "execution_count": null,
   "metadata": {
    "execution": {
     "iopub.execute_input": "2024-01-30T16:56:18.611300Z",
     "iopub.status.busy": "2024-01-30T16:56:18.610904Z",
     "iopub.status.idle": "2024-01-30T16:56:18.616876Z",
     "shell.execute_reply": "2024-01-30T16:56:18.616098Z",
     "shell.execute_reply.started": "2024-01-30T16:56:18.611272Z"
    },
    "id": "Cc6EKpwZtXjO",
    "tags": []
   },
   "outputs": [],
   "source": [
    "def eval_model(\n",
    "    model,\n",
    "    data_loader,\n",
    "    loss_fn,\n",
    "    device,\n",
    "    f1_score,\n",
    "    acc,\n",
    "):\n",
    "    model.eval()\n",
    "\n",
    "    losses = []\n",
    "\n",
    "    with torch.no_grad():\n",
    "        for d in data_loader:\n",
    "            inputs = d[\"texts\"].to(device)\n",
    "            targets = d[\"targets\"]\n",
    "            targets = targets.type(torch.LongTensor).to(device)\n",
    "\n",
    "            outputs = model(inputs)\n",
    "\n",
    "            loss = loss_fn(outputs, targets)\n",
    "            losses.append(loss.item())\n",
    "\n",
    "            # get predictions\n",
    "            prediction = F.softmax(outputs, dim=1)[:, 1].flatten()\n",
    "            # update f1 and accuracy\n",
    "            f1_score.update(prediction, targets)\n",
    "            acc.update(prediction, targets)\n",
    "    # compute f1 and accuracy\n",
    "    eval_f1_score = f1_score.compute()\n",
    "    f1_score.reset()\n",
    "    epoch_acc = acc.compute()\n",
    "    acc.reset()\n",
    "\n",
    "    return eval_f1_score, epoch_acc, np.mean(losses)"
   ]
  },
  {
   "cell_type": "markdown",
   "metadata": {
    "id": "_c1aTL5bErdR"
   },
   "source": [
    "**Используем средства библиотеки Optuna для подбора гиперпараметров**"
   ]
  },
  {
   "cell_type": "code",
   "execution_count": null,
   "metadata": {
    "execution": {
     "iopub.execute_input": "2024-01-30T16:56:23.737751Z",
     "iopub.status.busy": "2024-01-30T16:56:23.737343Z",
     "iopub.status.idle": "2024-01-30T16:56:23.742589Z",
     "shell.execute_reply": "2024-01-30T16:56:23.741788Z",
     "shell.execute_reply.started": "2024-01-30T16:56:23.737723Z"
    },
    "id": "9KRC_DwcBCBm",
    "tags": []
   },
   "outputs": [],
   "source": [
    "def create_model(trial, in_size):\n",
    "    n_layers = trial.suggest_int(\"n_layers\", 1, 3)\n",
    "\n",
    "    layers = []\n",
    "    for i in range(n_layers):\n",
    "        n_units = trial.suggest_int(f\"n_units_l{i}\", 4, 512, log=True)\n",
    "        dr = trial.suggest_float(\"dr\", 0.1, 0.5, step=0.1)\n",
    "        layers.append(nn.Linear(in_size, n_units))\n",
    "        layers.append(nn.ReLU())\n",
    "        layers.append(nn.Dropout(dr))\n",
    "        in_size = n_units\n",
    "    layers.append(nn.Linear(in_size, 2))\n",
    "\n",
    "    return nn.Sequential(*layers)"
   ]
  },
  {
   "cell_type": "code",
   "execution_count": null,
   "metadata": {
    "execution": {
     "iopub.execute_input": "2024-01-30T17:00:03.701775Z",
     "iopub.status.busy": "2024-01-30T17:00:03.701385Z",
     "iopub.status.idle": "2024-01-30T17:00:03.708761Z",
     "shell.execute_reply": "2024-01-30T17:00:03.708093Z",
     "shell.execute_reply.started": "2024-01-30T17:00:03.701749Z"
    },
    "id": "aO7EF3Vuc4jV",
    "tags": []
   },
   "outputs": [],
   "source": [
    "def objective(trial):\n",
    "    sampler = trial.suggest_categorical(\"sampler\", [True, False])\n",
    "    batch_size = trial.suggest_categorical(\"batch_size\", [8, 16, 32])\n",
    "    epochs = trial.suggest_categorical(\"epochs\", [2, 3])\n",
    "    lr = trial.suggest_float(\"lr\", 5e-6, 5e-4, log=True)\n",
    "    gamma = trial.suggest_categorical(\"gamma\", [0, 0.5, 1, 2, 3])\n",
    "    weight = trial.suggest_categorical(\"weight\", [True, False])\n",
    "\n",
    "    train_data_loader = create_data_loader(X_train_torch, y_train_torch, batch_size,\n",
    "                                           sampler=sampler,\n",
    "                                           )\n",
    "    val_data_loader = create_data_loader(X_val, y_val, batch_size)\n",
    "\n",
    "    model = create_model(trial, 768).to(device)\n",
    "    optimizer = AdamW(model.parameters(), lr=lr, correct_bias=False)\n",
    "    total_steps = len(train_data_loader) * epochs\n",
    "\n",
    "    scheduler = get_linear_schedule_with_warmup(\n",
    "        optimizer,\n",
    "        num_warmup_steps=0,\n",
    "        num_training_steps=total_steps\n",
    "    )\n",
    "\n",
    "    if weight:\n",
    "        loss_fn = FocalLoss(weight=weights, gamma=gamma).to(device)\n",
    "    else:\n",
    "        loss_fn = FocalLoss(weight=None, gamma=gamma).to(device)\n",
    "\n",
    "    f1_score = BinaryF1Score().to(device)\n",
    "    acc = BinaryAccuracy().to(device)\n",
    "\n",
    "\n",
    "    for epoch in range(epochs):\n",
    "\n",
    "        train_f1, train_acc, train_loss = train_epoch(\n",
    "            model,\n",
    "            train_data_loader,\n",
    "            loss_fn,\n",
    "            optimizer,\n",
    "            device,\n",
    "            scheduler,\n",
    "            f1_score,\n",
    "            acc\n",
    "        )\n",
    "\n",
    "        val_f1, val_acc, val_loss = eval_model(\n",
    "            model,\n",
    "            val_data_loader,\n",
    "            loss_fn,\n",
    "            device,\n",
    "            f1_score,\n",
    "            acc\n",
    "        )\n",
    "    return val_f1"
   ]
  },
  {
   "cell_type": "code",
   "execution_count": null,
   "metadata": {
    "colab": {
     "base_uri": "https://localhost:8080/",
     "referenced_widgets": [
      "d2c2900bf0f5403ea053e217aed150c9",
      "3b305cba8faa4ed499892ac24ed24d15",
      "5d71faf65fb249cc8bc2e3a635535be0",
      "e7a95053b1d54e3793b605afcd7bc434",
      "07c60ba541f446a5bb52a4fdf93c19a3",
      "5bbad666b36044fca1210ead5e28eb66",
      "3a7c59dc408841658d8c13b720ea15bf",
      "573706875ddf4985b66b438de4441b11",
      "6bda3c7357724125853730e537a58ca3",
      "075519d3660b44aab720e76099fc83e8",
      "137bb3743949402f9153bfa1c4650062",
      "b14516fdf6314052a679970b864986bb",
      "2e21c32746b246e89db3300656fed28a",
      "50109aeb2cbb41ad92f4079669af235d",
      "d452b6d3123c476c8fa33e152d17edac",
      "0021a19bc4174127b8b9d8b9d564e922",
      "3b440dc8b1bd45f08e4512b141be6971",
      "aff11448f9d84f21bd5ff1ca3adc7959",
      "f985a2b2a77444c5b9086e828f414a13",
      "b14d36c8463d4126beeae9f349b94c3d",
      "5fa4267ab4e24cd9b0bc9ec6c38b475a",
      "95313d39d4dc4f10ad6be165610a4a29",
      "ec381f081c2f4d1589700c8229ac5fb0",
      "884a820c1e944d59916a424dc19b3a31",
      "83e9e8a0d6b4430ea06f6d82bdbb3e7e",
      "d00f5662bc0a4ad6b866a98c7050777e",
      "567d97b6c00f4ad396884a91977615b9",
      "0c331d41bfb8441987b3815d341d7d3f",
      "a0ffe4c45670419481270f44f4e55208",
      "ef9f97f2d0e941d5bcfd4904a3add066",
      "21e97495671140c087970bdfe1ddfc6f",
      "3c61fc05c788486e8e04907fe4f9f0f9",
      "30f63e2714de4d84b5df8e1fe828e0a7",
      "9a0da9edf6a84db4b2dbcdfa420a901c",
      "50c9cd25c69a4e4ebf424a62a3b37549",
      "958ab6c82e66423ebf958091932990c0",
      "fe8249464b2140fdaeff6458db6f7668",
      "c7fd2e9a27dd4807bd8973849ae4cd18",
      "58354a168ec74d678fd23749cda7bfc2",
      "2fc2d9d1293741f48cc2ba19066f8926",
      "62460d7045a349538c671254cf004963",
      "81f8c528dc7347e18e0683f6548865cf",
      "290ee0602f8c427dbfe735707040ff93",
      "a52df0adc0454535a68d548845f85198",
      "b8fb253f64564377934bb410a651e91d",
      "3f8701b42baa4ba39f71b3b2ab2958a0",
      "ee81ae6a8ecd4dbb85bab38e406499d8",
      "70cadfd96da8488e8d33f66931ad636e",
      "2bf91e3dbdaa4171bc264fa3f1f2fd0c",
      "5e760b3b51dc4a14a0c420ff74e776b5",
      "c1956638f62c484f92ff512e9f77058f",
      "ff4383818fe841feb993097206c845ca",
      "cfbf1688d0a049999509e1870f6af682",
      "073bbcbc8fb04418be6f26f8f0fb7169",
      "4781b1ac5ca3458f98d2c20bfb1a6897",
      "8ac636e1a62d497fa30543a270ac2bf4",
      "1be98981ea114ca99480e5e5fe13fd71",
      "71fd84476c7e48809f5ac373ad0db3b5",
      "9cfc311952704c048f68c76b0660a2e7",
      "84a089e6d67045e08b871c5d500472ab",
      "b7510d483897489295abc847148a2fca",
      "addd167d5a0a490db38c4e106199037a",
      "bd3360f617d449d099cf65dd63f515d8",
      "1cda889e68344f539054b2b42fd35057",
      "5d23ec81178b458eacb46d83832eb858",
      "371adca9a3cc4cb08ad0249cde817e76",
      "31ea9c9c74db4ded9d6cc9b927765885",
      "6e651b095ac545559a135f33e9ad13d6",
      "65331c190048414a8aacaca6e5941440",
      "45c22f1702fd4b7fae64e1dca191b961",
      "599f893a45e64f568c5e1e5c27e22fa1",
      "17bd13c469f04b008a2d34055ef0979c",
      "646c09153bd841078a86a1cb030e3eef",
      "57c1a0c349d64b3c9d894c82342fc10f",
      "60b542918398437d9098736c8cdab0a1",
      "1abd1a8ac2e04d9d9d8844dae4963985",
      "0e3d2cb3ead749bd994afe221019c429",
      "3ca696342ffc4c9fabb7e939efb1f44f",
      "1e9fbf8cc69f46dca68a9eedcad887f4",
      "144419e812114fd7b7b23c4cb6e1b129",
      "9d05d891c1f34e9f85a80f9ab462841f",
      "9e6e9953228a47aa995993ca2655f55f",
      "de7ce82f38664ea1bf8c984283b84761",
      "a932acf72e6546a591d2b949f4c8dc19",
      "1fe0e243d0e74f2c9cb5ac0de2dc6ffc",
      "e783edf8556648139a18348cc3659db5",
      "75b8d602b2344400a6c2a80e01be2b2d",
      "c7fb990ad17d4d9ba3c7ec483aa2627c",
      "968a73fc8f3a41d689f44966d19d59b4",
      "4e110720bbed46389a6c5092b194f999",
      "36fe9b3bebb04bf58acce1145aa217dc",
      "c4e139fb83424320a3b675d6b7e3326f",
      "837119df8b1649b2bcc535d4a85e3b9f",
      "6da3187730a9410daa5f81b555445118",
      "c475d326b2b8466b9dd689f073cddbc6",
      "d40a14f76e064761809e82defc54890e",
      "9a6e0c36d8c64c2a87544ae93963bda0",
      "f2c15fdf7184467dbaf3a3156f1d45c8",
      "c22248e8ad15404c9af40eb4718d4392",
      "4f7841d121a243f889c2527e3acabd5b",
      "9761e95f14914df6ae320f94408e46ef",
      "cda8cab8395045b587521478cb856784",
      "0a798cca5c7845989b28602e335057ae",
      "e91c77f0efbd470f89d7828951d4124c",
      "b242334a7997406e895f77c1a2e05be3",
      "4c9fef22d2674a5e812387617118fbd9",
      "e296d2279cf94925b67d66dcdd10ef8f",
      "cb5bef668cfb44b7ad0587906bb7d974",
      "2b14c2fb4a034621858e776a5d8f99d2",
      "a8661b4f6baa44fa942331517215b8fa",
      "607b932434be4cb8a47d1203e1dd2f9a",
      "54e2d5aba60a4bfcbeabd7f8f1c37383",
      "42d34d3e2c8740d5b1811e7a2662d1e8",
      "3a2cbff64047446e9e7c1c376bc9db2c",
      "90d5ef98bae94956a14c659862b1d8ca",
      "846b65323a1d41a7adb6045e9c73a03c",
      "37e71820564348f69f00374849612ef0",
      "f945dc9fba49426c86d8955f7d17510f",
      "4d7610663b2244d4abdcb8589d8dbf38",
      "f6090cdaa5874af8aab0af69751a6a1c",
      "305bf40ad8ef473582ad7248390965cb",
      "9dbc338ba0154a679c97abedac1b986b",
      "3bebf89798ec440ab9cd6847ff15ddb1",
      "548dd7b3443441919cca889261a87228",
      "b285ab26e7ad46aea23aea768f9434e6",
      "15eef3d32d7e43b3bd0bddd79419801f",
      "671f859d8c374c5faa2b7a6cc05a89e1",
      "67cffb9b004f4e168710a7ca4e487d26",
      "6d97a469dcf64e7a9dd0f6ce5cbf9247",
      "1acd7e784f0142fa91b9a155fcc7b429",
      "2fef89e33fa54e0087ef845e9c924727",
      "653f7b656aa941388b8bfdf8bc764bbc",
      "928fdba7ccef41c5927b93b5dbb193d7",
      "cadfd58c0c1f465eae561b2ad3127f9c",
      "161aff9c39cb47fda39f871a84997580",
      "5b07e9a23ec5486294c4bef707ac67bc",
      "9d7a3e43e1714b90b6df1ee5aa2c6767",
      "6fe1b47529964a62ac6219e1d7028525",
      "6d92e66faef649d788fbe8218e53249a",
      "f4b600d512394f9781068704fc88771b",
      "f68964aa6eff4299bfdbc522070eedbc",
      "fe362bb4958c4c8eaf13716bef66859e",
      "7142897a07d44e8fb58e853b5fa991b3",
      "cc051f3697034fd8b00705791ac43846",
      "f84741abc336416099b895e4d5c88444",
      "81bed2c9bba64d19aac4ce4c71a5325b",
      "dd458c94f2b24b57b75e4c3f2e377e77",
      "a2270725bdc845e69648ae22ee3dfe8c",
      "24cb9dd89b2c479e902a7301496f7ebb",
      "6814eb2e94d442828595add90242fa8c",
      "39d7a6352a9c4c4d999a2c85a33576b8",
      "d4f2367b51fb4177b3c6cf2fac9cfbbc",
      "7d2d9d4330ad49ceb5c109e17e1e5878",
      "1dd592f2e01044b68ccf18f1484be65e",
      "22eac6bd77174e6dab562f5fee923163",
      "a4344a0d419c4879bcd08b034a2cda8d",
      "9da8e15ded99455cac9870cd7063eb3a",
      "5767f2c6ed0d47c68202cf59270c6bf4",
      "7e4f8261d7f94d4186d0d74fcae050a1",
      "347fd64de5db4499993591328d2feab6",
      "6c326f577eef4547bd51e4501239022f",
      "c08f155bdfb44b7b9dad71d733705949",
      "8f96c0eb687a4843b67e8055498f980d",
      "d9cefed3b42c43089479241ce8512204",
      "3515aa31b4c54d08afa0f91365f42507",
      "56c2c34e007c4e5b9626a92fc596395d",
      "18d6f28711bb4945a02d47fdf4983a36",
      "eaa7d6f0ec2548e991464f0473ee6da6",
      "6a674e0594b540fa8e1807db26a6fea7",
      "f70630be6a054469957c4f3a3b6d1176",
      "ed054a73a1824f0a8c5ccdfed454205e",
      "8c5f8acaa90d45639955d4757bec0df2",
      "ebb4c6cbce9c44eca17497fd590babba",
      "508eb324b0b145198297de47b54fb73e",
      "d7684123b8b542349fa56da620574333",
      "6c8dba5ee0864319aae0f4e132252f38",
      "6c7a933fdea746868c2988934cd700cc",
      "7d640e29d3d0464cae82f1c66f60ec6d",
      "59ef5c8e0d294df5856f97b2293c4288",
      "5de5ae7b43ab4ab0b646a810a9ff8645",
      "a9aaffc000f944bf84e7c43bcf01ec9f",
      "47dab89f73084081b7e0a1098e948ddc",
      "b3d1fff8e77c4ab088b4f9dd7cd8f5ae",
      "696e3a71e394445ea01286a4fe730adf",
      "604c93f2c7264f04b5476ac5875044b8",
      "b2f916db134645c78adc2d395a956545",
      "441e306b6ed84f7a93d76773d9fd574a",
      "cd2e28bb36b24471a3d3569110a260da",
      "1ddeef195c544915bbe5546dab89bfd4",
      "7d8d679641aa43d888344ba6d36dad70",
      "4e48f5ab3ce54a608b990610da01db87",
      "dd6f5671b8974bd18992d54293118737",
      "e8a95327192f40fdb24b60dd93413267",
      "fba47c73a94341f68628de78d4ac6f6c",
      "082058f178164e9ab7750ab86de73953",
      "c1d41618ceb841938aef54bc1df0e3f1",
      "3522c18b271b4bffa65443cb059da97f",
      "5b7db3da3fba4d648bfe429149b73a0a",
      "2e75b04916cb409bacc8a5f3ca0b5f08",
      "54e4beb6262a484ca1c9cee872d42986",
      "985d499a9399454681a78dae720ae5f7",
      "1f22a717266c470f8d016559eb18da35",
      "59b3f561344f49c69ece243983402cc2",
      "0d022d4da6d7473cb53b2f420f1d12c1",
      "344d2c5472434a6382facd0811fc9a6b",
      "2048fe0b95494c08a9d48fd01ce401e6",
      "0330d50c9b8f4dada725e768c0e6e011",
      "8ab3c7fbd879407bafe5cca3db2f224c",
      "7d5520dba565494eba091bfefc430bd7",
      "da1ef3ddf8e64b239ef54764dddc6675",
      "d438317ea4624a73a812aa4469bfbe9d",
      "1a2f8df2d78d4e5f9e3994c9e4378a61",
      "49224f067de248d3be6c52a7dc0d7820",
      "be947d6754b8488b9270e3f2fbc83049",
      "821b87d78eee472d96e7c4cc24a78d85",
      "6cd37b9a86284f8fa0a11d1ee70fb772",
      "21db121909d64eb2959f399e9583bc21",
      "46987b7387104e69b7c75d9c1c2547b0",
      "6a0bc2633fe74070a0a58beca1664a15",
      "e609913223784716a1540716987e7f66",
      "d57d832325b7437d92a0b23bf291e8b8",
      "e08fbe01b0864a7f827c87ecfb02d91c",
      "a2e7288948824a56aa9685055a660398",
      "87197c8b9ae54b0cab4881701e0424d8",
      "d26c3070041b4c2380a38d1af8b3d2f1",
      "544672ab9abb482fa247d14647a14426",
      "8ecfc9c32d6e4ed8b342a28bedf1b4dd",
      "31d06e11f221437fbcdde8d36d481b7e",
      "0b6263a5be334a6dbd20aff99d07bd05",
      "cc258e60be2340fba3c926735d2f84c1",
      "d82453e1b44c40ad8197d80b92180182",
      "0854ab8d520a4d808596c68c9f039f81",
      "2eba413f9a7c4c8398a6ab6889a6a4f4",
      "60a4527ea4fd4ac2b019c083932835f5",
      "2479b502ce8443d195b4612e7668cdf8",
      "f9a69ff4889847778231a43f65bf5afa",
      "87b8be1ddeba4b298ef0143499f2f59e",
      "fbca300632f1448282915fa45ec410f4",
      "f758907cd3a54647a3ea7629417cdfe3",
      "7abf3e85cff04df9a86d8929d862bdf7",
      "fd445b5c77e045d3b135823dad689aae",
      "c4e312e26d27493cb241042d508a639e",
      "bc4de2595ecc4be8861127b8658063c3",
      "010bfb58a3b5476095526df6feabf4f6",
      "a096f904bfb542f184641daec1115436",
      "24ead9eb59ef4d32baec748496772760",
      "f6baf0a3c5de4b0e93cc12928da9af9b",
      "d20bad2f9fa142c0bc0fab64203fa8b1",
      "8bfb62dab6304a74adcfbd0942cbf585",
      "838875e04ec2479296922d3b1ffe1778",
      "523376c7eda149e1961cf452c1263e67",
      "c34d9ee9d9d14c88aebe2129948b697c",
      "3a2add208416463d81171543601ec9d2",
      "aa086e35a44b48c4b6c0f4c0c072791e",
      "5da185e7ce47411cb115ebeed137a791",
      "b4ee9ff9a0e4484aaedbb799adafd0f7",
      "bd8b850f249f41928e93fe8540572d52",
      "bbdfd48af20b405f9068dbffa8921a55",
      "108f61dd1a4f4257b0add8b6b8c8c96e",
      "5b9f25acce054327bd74e56e82cfa252",
      "b30359c75d404da7926b4a3feb4d3b60",
      "98366286a1dc4582a127ccd2838fda8a",
      "ff8bd82967af4883ae31b3cc258c8880",
      "601e781e4fc54e0da4abaf6cd629af74",
      "cf352e059d174d47b28409df8e20a1f6",
      "024de823115c4683bb70fb65aa070060",
      "8c0de6256e534618bd51a59645b0c3d3",
      "f9977adfcddc454cbe254b1afa1e50fc",
      "3168d422a2aa4247aae63091ca348e11",
      "d1a9e4876ee1434cbc3e5fb48592d633",
      "d57a70790aac46e09c64838650ecc53c",
      "e729b8916eaa4f12a2ddcd48ee6208fd",
      "fe3bb2fa20c04994b57dd99d42a4e7a5",
      "e77a9b6355d7497c83745157b038ed66",
      "ce254ce1e29242469de11f2e399b42dc",
      "4a55d14af192434a92ad0416af222dad",
      "3b2b4cd53bd44ac286c02a48c748d23b",
      "54cd214413a0444ab490db0c232916d2",
      "dab6bcbcf8544dc4a8cdaa22316faca8",
      "407f272942b14a5aaf1f580289d65393",
      "31a8d116566444ad807ea6674e1b99ef",
      "c94d34296c874d0ca165ef9943e149b0",
      "cc0ab3b3c40740aa8bb43016afa18341",
      "f86ab78eec184fcd998c0bcc60ce894e",
      "e38eab85026a446b91486729bb4cf51d",
      "fb2c24851bd445f0b188dd8f35697fdf",
      "9e2008eae78a4f9fba103a5c1345ca0f",
      "d3ae1f188fed4d67af9995876f024cf5",
      "a6adc200d1864b078eb2aaededee7061",
      "7643e416172f4a77b0c0fefe08747576",
      "318504b07af645b19fb26ff6dc74bcb4",
      "71cc191ce90f42febe5cb0e9a3dedb14",
      "f6ebf08f46d9434988da05a3f6a6e8ad",
      "fa0ca6657d394c3eaab6420041a60236",
      "5a82f61462ec4cdcbf409db6bbb666b9",
      "81d6c19fc0f042289981720412344023",
      "1c638f62448146ca806e027248d953be",
      "0a0e7f480be645e18d958e665cff3ec9",
      "3571acbd02064d92ad7a09f11cfcab26",
      "a5ace3b3840f4e679581bd4f9992e458",
      "aeb383e830474203aa88ec231eea6647",
      "d71cf9066ee345ed82bd47a5d628c618",
      "cd004568dca147d2a82c5df05760cfba",
      "3db8419d3aeb469a892abef3ffc5c258",
      "78a19d668bf541f48b7f77370d490946",
      "a814c4467e3f436688093563735e94c2",
      "f1a8b8dca5914d4781b86dc756a9c160",
      "8c00d6187a634682ac034342d1f0f590",
      "a5ebbe8a839641ab8ebb8333046aa5d8",
      "f193353d444b43fda36409b0e9134798",
      "6c3f538dc5804dd790fe0e6d1c9cd7b0",
      "145a47db430b4cc59233fb60f9abd824",
      "3e5f59e29bfa4bb18db58ceaa34e3d5c",
      "f42028bd14044632b8479ff057fc8d85",
      "d9a706776c3b42c3a6e0f1ca721e1885",
      "2d6493d69dea4ede8d4158bc61119c6e",
      "8880a98420e0447496052aa28d46cef4",
      "769fae6b30b74255a051b0078cc85e23",
      "7061f21feec4444880d2d339f8dba8db",
      "bb89630a695a4a30950955dee2503317",
      "912b36fed0b34a46b80b0b1f7350e398",
      "df03a68415a64d9180e2a8f7e160688a",
      "00ec198fa82d4689b729b370dcc19efc",
      "443ed027985046b6bf541bf48d9ef13f",
      "3ef8dd82cdde4c9fab82d7754ea8eae6",
      "be51ffd3f64447e68781504e7ec9b8e4",
      "84c3b7e1ea9244fba8de439e00e6fa88",
      "28496d4481c1473d9a95ca71e6e24503",
      "6f0c1c75f78a47d49f35330174cb9301",
      "9c476b31fb6645bca5d025e38aa7f46a",
      "d975138063f744239931291cb4704472",
      "62bc8a22751e4ce0be58aab779d4d0a6",
      "ac09534dff5c475e827c349bef86d5d9",
      "642206abba6646fa9155944d846c8c71",
      "6b356e4ea18f443b9767c0e4b5627f7e",
      "dde961fe1e194c48ad9dfc074b2672c7",
      "d5c6fb69c2734f5ea71c19afee34b7f1",
      "f210dbe79cb24410af064dfd6ae2daf7",
      "dcaa573427dc4f21bb0a164c5c941af1",
      "5ea9c0b09dc14a2b88ca404347dd54e3",
      "49c12df5917f4b71a7af2fdc7b68341e",
      "7b5b13cc86044de087549e4aefffbfca",
      "312c916d375f4d8d978b68d3996e2833",
      "8800b539954a428791efd35dc5184597",
      "e26c1f08c7054e43b5d8faeb07cd9e6b",
      "cb1f534c3cf246f08e9aa08f2e3f8f74",
      "4e111ac5c2a547a4acb245c73c66b9de",
      "ec6802f2b9704d348fecc9633e2d9103",
      "771b86c33fb54aa5a6a5028f3631fa64",
      "236787d2699747aebd6a938dbda8bee2",
      "b4c141827dfb4692b1784c5e44908b63",
      "5578307d87bf435c90383b0142eaa1bb",
      "20aff47b1149492aaf610e746afeb9af",
      "f2796c85e296413384b3f2c76d002ede",
      "8724a2f93ef2402481b07f58b910c5c1",
      "7d807ce3cbcf4695ab8702b2ae580da1",
      "0b1c67b91902458fb9f98d5ae7e9441b",
      "1384e0d1245b42febff2dedc18962967",
      "ba59dc2e0de24ed3baff23e52ce2d774",
      "3a784073db694a41be341548c4a98fdd",
      "50f459064068424d90c12f4d9fdadd86",
      "56ef3b782c7247618ac414b561ec1fe4",
      "6660cb99133548d5beb2a22e4e98ad30",
      "ca9204425c4c485e9d212265aed5dc8e",
      "88326c7062c54ae8a85f622f18fe28c7",
      "d1af4f95df66479fb15cecefa2809c74",
      "f624edff851d465389a99dff25022d54",
      "14169e7a49554ca088ca7e77cdefc0e4",
      "1f0ec66651cf442da70e403272f2fe5b",
      "030bfc4164cd4d04a544faed8a3d5fe6",
      "62e3f0a12a3f4f439fa3710d1dc50d30",
      "5796f8530f704020b42842c80399838d",
      "006552c7562f4d3ba66214e7cd4487b0",
      "daf243e6cd0c4ad38480a8687c21fb3a",
      "3118250d34994709a4bf583a293ab0cf",
      "2a51d215c18e446a83294c0e8a96d1a3",
      "e816edf3906b4a0988aeafcff842a3f8",
      "eed4c99ecffe4eeb920ece8418468b54",
      "f322e8d5607949dd8ef0c3b8e3e2236f",
      "ee05113c0cd142b3829b85997542d7d4",
      "3753225430044c609e551537603887f0",
      "f2f0ff35676a482d8a6b5fde279669e9",
      "5a6d27b0648d415d8811393ab3abc861",
      "84da0da016484a0888778445f6b28168",
      "a4151384b2914c4384f7b9eeadb0409b",
      "ee8f638322554962a568b65a47020a3d",
      "a832c364a3774dcab9a8df1e985d65c0",
      "f0456327b318496ca0f765d8c28eeb3c",
      "3aa455b628f541428002862c11341621",
      "13b661e7c4a2417f9dfacb42ef3c8261",
      "88e4d44883c145a9adf20b3faf7e4621",
      "7fc03f4b2f4640b3998d89f240794971",
      "b59852b0582548358c12798ca8cd1444",
      "604269ba523a40759829645a736d7f8a",
      "6b9c53017dd34ec093804aaa06dd97ff",
      "9babebf258b149b0bf2f4448fc62dba9",
      "c67611de5a194617a1d858d583c348f4",
      "f6a83a3a093745d9995f388c6119ecb2",
      "6a3c2bc5b81f4bfb800f91aa74c9e2e6",
      "d446a1899cef4744951e54e66706620b",
      "868e2de33a37480497d4da9b478c0aba",
      "ee2c76d2780545bf9fc065ac9f905c76",
      "32148fcfe74d4ee9b14fa81709ee72bb",
      "9aabb983f17f4c969de4df12bb7ebd3e",
      "5ab9113a1f9a44948e14273d47eca64a",
      "7e156a7593cd4ea4b75255d01b8ece71",
      "04bd64d751454497944ff91572ad1197",
      "0ec75de50aeb4a8790325808d7ba4839",
      "3c3c0f1336dd42299462924e02d6d979",
      "c4866bc967e84d65b16667d53576017a",
      "ea23d43783674ee3aecb9a64d93e578d",
      "bac0d7de927c4cac8644b3d8591810a9",
      "3d7e9f7b01f8460da202b5a06593cc26",
      "f5d7a2d4d04d47e9bf31fcf38962e450",
      "03afd2a0669e43eda2c82a89c028fe3a",
      "bbf8e44d3c35405388d7b0227d4cfd3d",
      "9701ffbc589c4e4b8f5c6c8675700970",
      "6a70c8b2f54649568dd8aa4c7af502af",
      "3e00eca7429946a291f1f28ae891da28",
      "40a3e32daeb444ba97a4420e0775353b",
      "454edaa53cb0476e9efba30aeef245f0",
      "cb8fba7cf66b472d8c1e735b7af07279",
      "691b7be49edf4dd480bd4dfe957fcdc4",
      "8138bbc48a1c484dbcd2acc6516a62d8",
      "4a1065a8cfea4f42ac6bf8fb6f784a2e",
      "9521b724aa4c462b83a936792345ec76",
      "639a8aed0ffb4fb9a1966886fa7a56ba",
      "52e2c9ff0c93428b84e21675c196f487",
      "dddf71af636044e397ac556d29a2f33a",
      "c390964972184e3bbb81999bac5410cc",
      "09d8d4f8733f4d1d874c53beebed4257",
      "7a09649a8f184cf2812529355a2a69cb",
      "7afcb382d6164893a232f2645cbf4770",
      "2f7ecd71ac684b53966ad6eb552b793d",
      "41b9d98e1b194621ae8bbe296160dc7e"
     ]
    },
    "execution": {
     "iopub.execute_input": "2024-01-30T17:00:09.324568Z",
     "iopub.status.busy": "2024-01-30T17:00:09.324171Z",
     "iopub.status.idle": "2024-01-30T20:20:51.925172Z",
     "shell.execute_reply": "2024-01-30T20:20:51.924415Z",
     "shell.execute_reply.started": "2024-01-30T17:00:09.324540Z"
    },
    "id": "RZHdb7G0d2j8",
    "jupyter": {
     "outputs_hidden": true
    },
    "outputId": "70aea0a0-32f4-4c23-ffbc-c3f1da25b1cc",
    "tags": []
   },
   "outputs": [
    {
     "name": "stderr",
     "output_type": "stream",
     "text": [
      "[I 2024-01-30 17:00:09,325] A new study created in memory with name: no-name-c56809ff-9393-4add-a861-0d42ce187842\n"
     ]
    },
    {
     "data": {
      "application/vnd.jupyter.widget-view+json": {
       "model_id": "d2c2900bf0f5403ea053e217aed150c9",
       "version_major": 2,
       "version_minor": 0
      },
      "text/plain": [
       "  0%|          | 0/4033 [00:00<?, ?it/s]"
      ]
     },
     "metadata": {},
     "output_type": "display_data"
    },
    {
     "data": {
      "application/vnd.jupyter.widget-view+json": {
       "model_id": "3b305cba8faa4ed499892ac24ed24d15",
       "version_major": 2,
       "version_minor": 0
      },
      "text/plain": [
       "  0%|          | 0/4033 [00:00<?, ?it/s]"
      ]
     },
     "metadata": {},
     "output_type": "display_data"
    },
    {
     "data": {
      "application/vnd.jupyter.widget-view+json": {
       "model_id": "5d71faf65fb249cc8bc2e3a635535be0",
       "version_major": 2,
       "version_minor": 0
      },
      "text/plain": [
       "  0%|          | 0/4033 [00:00<?, ?it/s]"
      ]
     },
     "metadata": {},
     "output_type": "display_data"
    },
    {
     "name": "stderr",
     "output_type": "stream",
     "text": [
      "[I 2024-01-30 17:00:48,277] Trial 0 finished with value: 0.9149965643882751 and parameters: {'sampler': False, 'batch_size': 32, 'epochs': 3, 'lr': 8.278988327863377e-05, 'gamma': 0.5, 'weight': False, 'n_layers': 3, 'n_units_l0': 12, 'dr': 0.1, 'n_units_l1': 308, 'n_units_l2': 62}. Best is trial 0 with value: 0.9149965643882751.\n"
     ]
    },
    {
     "data": {
      "application/vnd.jupyter.widget-view+json": {
       "model_id": "e7a95053b1d54e3793b605afcd7bc434",
       "version_major": 2,
       "version_minor": 0
      },
      "text/plain": [
       "  0%|          | 0/8065 [00:00<?, ?it/s]"
      ]
     },
     "metadata": {},
     "output_type": "display_data"
    },
    {
     "data": {
      "application/vnd.jupyter.widget-view+json": {
       "model_id": "07c60ba541f446a5bb52a4fdf93c19a3",
       "version_major": 2,
       "version_minor": 0
      },
      "text/plain": [
       "  0%|          | 0/8065 [00:00<?, ?it/s]"
      ]
     },
     "metadata": {},
     "output_type": "display_data"
    },
    {
     "name": "stderr",
     "output_type": "stream",
     "text": [
      "[I 2024-01-30 17:01:26,513] Trial 1 finished with value: 0.8729179501533508 and parameters: {'sampler': True, 'batch_size': 16, 'epochs': 2, 'lr': 1.0502294005668056e-05, 'gamma': 2, 'weight': False, 'n_layers': 1, 'n_units_l0': 20, 'dr': 0.5}. Best is trial 0 with value: 0.9149965643882751.\n"
     ]
    },
    {
     "data": {
      "application/vnd.jupyter.widget-view+json": {
       "model_id": "5bbad666b36044fca1210ead5e28eb66",
       "version_major": 2,
       "version_minor": 0
      },
      "text/plain": [
       "  0%|          | 0/4033 [00:00<?, ?it/s]"
      ]
     },
     "metadata": {},
     "output_type": "display_data"
    },
    {
     "data": {
      "application/vnd.jupyter.widget-view+json": {
       "model_id": "3a7c59dc408841658d8c13b720ea15bf",
       "version_major": 2,
       "version_minor": 0
      },
      "text/plain": [
       "  0%|          | 0/4033 [00:00<?, ?it/s]"
      ]
     },
     "metadata": {},
     "output_type": "display_data"
    },
    {
     "name": "stderr",
     "output_type": "stream",
     "text": [
      "[I 2024-01-30 17:01:49,896] Trial 2 finished with value: 0.8817272186279297 and parameters: {'sampler': False, 'batch_size': 32, 'epochs': 2, 'lr': 1.6826065279114723e-05, 'gamma': 3, 'weight': True, 'n_layers': 2, 'n_units_l0': 13, 'dr': 0.2, 'n_units_l1': 222}. Best is trial 0 with value: 0.9149965643882751.\n"
     ]
    },
    {
     "data": {
      "application/vnd.jupyter.widget-view+json": {
       "model_id": "573706875ddf4985b66b438de4441b11",
       "version_major": 2,
       "version_minor": 0
      },
      "text/plain": [
       "  0%|          | 0/16129 [00:00<?, ?it/s]"
      ]
     },
     "metadata": {},
     "output_type": "display_data"
    },
    {
     "data": {
      "application/vnd.jupyter.widget-view+json": {
       "model_id": "6bda3c7357724125853730e537a58ca3",
       "version_major": 2,
       "version_minor": 0
      },
      "text/plain": [
       "  0%|          | 0/16129 [00:00<?, ?it/s]"
      ]
     },
     "metadata": {},
     "output_type": "display_data"
    },
    {
     "data": {
      "application/vnd.jupyter.widget-view+json": {
       "model_id": "075519d3660b44aab720e76099fc83e8",
       "version_major": 2,
       "version_minor": 0
      },
      "text/plain": [
       "  0%|          | 0/16129 [00:00<?, ?it/s]"
      ]
     },
     "metadata": {},
     "output_type": "display_data"
    },
    {
     "name": "stderr",
     "output_type": "stream",
     "text": [
      "[I 2024-01-30 17:03:33,658] Trial 3 finished with value: 0.9033722877502441 and parameters: {'sampler': False, 'batch_size': 8, 'epochs': 3, 'lr': 0.0002191799162022679, 'gamma': 2, 'weight': True, 'n_layers': 1, 'n_units_l0': 135, 'dr': 0.1}. Best is trial 0 with value: 0.9149965643882751.\n"
     ]
    },
    {
     "data": {
      "application/vnd.jupyter.widget-view+json": {
       "model_id": "137bb3743949402f9153bfa1c4650062",
       "version_major": 2,
       "version_minor": 0
      },
      "text/plain": [
       "  0%|          | 0/4033 [00:00<?, ?it/s]"
      ]
     },
     "metadata": {},
     "output_type": "display_data"
    },
    {
     "data": {
      "application/vnd.jupyter.widget-view+json": {
       "model_id": "b14516fdf6314052a679970b864986bb",
       "version_major": 2,
       "version_minor": 0
      },
      "text/plain": [
       "  0%|          | 0/4033 [00:00<?, ?it/s]"
      ]
     },
     "metadata": {},
     "output_type": "display_data"
    },
    {
     "data": {
      "application/vnd.jupyter.widget-view+json": {
       "model_id": "2e21c32746b246e89db3300656fed28a",
       "version_major": 2,
       "version_minor": 0
      },
      "text/plain": [
       "  0%|          | 0/4033 [00:00<?, ?it/s]"
      ]
     },
     "metadata": {},
     "output_type": "display_data"
    },
    {
     "name": "stderr",
     "output_type": "stream",
     "text": [
      "[I 2024-01-30 17:04:11,057] Trial 4 finished with value: 0.8772038221359253 and parameters: {'sampler': True, 'batch_size': 32, 'epochs': 3, 'lr': 8.410370434766547e-05, 'gamma': 2, 'weight': False, 'n_layers': 2, 'n_units_l0': 22, 'dr': 0.1, 'n_units_l1': 306}. Best is trial 0 with value: 0.9149965643882751.\n"
     ]
    },
    {
     "data": {
      "application/vnd.jupyter.widget-view+json": {
       "model_id": "50109aeb2cbb41ad92f4079669af235d",
       "version_major": 2,
       "version_minor": 0
      },
      "text/plain": [
       "  0%|          | 0/4033 [00:00<?, ?it/s]"
      ]
     },
     "metadata": {},
     "output_type": "display_data"
    },
    {
     "data": {
      "application/vnd.jupyter.widget-view+json": {
       "model_id": "d452b6d3123c476c8fa33e152d17edac",
       "version_major": 2,
       "version_minor": 0
      },
      "text/plain": [
       "  0%|          | 0/4033 [00:00<?, ?it/s]"
      ]
     },
     "metadata": {},
     "output_type": "display_data"
    },
    {
     "name": "stderr",
     "output_type": "stream",
     "text": [
      "[I 2024-01-30 17:04:34,555] Trial 5 finished with value: 0.9134184122085571 and parameters: {'sampler': False, 'batch_size': 32, 'epochs': 2, 'lr': 0.00014859191396139664, 'gamma': 0.5, 'weight': False, 'n_layers': 2, 'n_units_l0': 19, 'dr': 0.1, 'n_units_l1': 97}. Best is trial 0 with value: 0.9149965643882751.\n"
     ]
    },
    {
     "data": {
      "application/vnd.jupyter.widget-view+json": {
       "model_id": "0021a19bc4174127b8b9d8b9d564e922",
       "version_major": 2,
       "version_minor": 0
      },
      "text/plain": [
       "  0%|          | 0/4033 [00:00<?, ?it/s]"
      ]
     },
     "metadata": {},
     "output_type": "display_data"
    },
    {
     "data": {
      "application/vnd.jupyter.widget-view+json": {
       "model_id": "3b440dc8b1bd45f08e4512b141be6971",
       "version_major": 2,
       "version_minor": 0
      },
      "text/plain": [
       "  0%|          | 0/4033 [00:00<?, ?it/s]"
      ]
     },
     "metadata": {},
     "output_type": "display_data"
    },
    {
     "data": {
      "application/vnd.jupyter.widget-view+json": {
       "model_id": "aff11448f9d84f21bd5ff1ca3adc7959",
       "version_major": 2,
       "version_minor": 0
      },
      "text/plain": [
       "  0%|          | 0/4033 [00:00<?, ?it/s]"
      ]
     },
     "metadata": {},
     "output_type": "display_data"
    },
    {
     "name": "stderr",
     "output_type": "stream",
     "text": [
      "[I 2024-01-30 17:05:09,745] Trial 6 finished with value: 0.8938670754432678 and parameters: {'sampler': False, 'batch_size': 32, 'epochs': 3, 'lr': 0.0002810392972064126, 'gamma': 2, 'weight': False, 'n_layers': 2, 'n_units_l0': 4, 'dr': 0.5, 'n_units_l1': 17}. Best is trial 0 with value: 0.9149965643882751.\n"
     ]
    },
    {
     "data": {
      "application/vnd.jupyter.widget-view+json": {
       "model_id": "f985a2b2a77444c5b9086e828f414a13",
       "version_major": 2,
       "version_minor": 0
      },
      "text/plain": [
       "  0%|          | 0/16129 [00:00<?, ?it/s]"
      ]
     },
     "metadata": {},
     "output_type": "display_data"
    },
    {
     "data": {
      "application/vnd.jupyter.widget-view+json": {
       "model_id": "b14d36c8463d4126beeae9f349b94c3d",
       "version_major": 2,
       "version_minor": 0
      },
      "text/plain": [
       "  0%|          | 0/16129 [00:00<?, ?it/s]"
      ]
     },
     "metadata": {},
     "output_type": "display_data"
    },
    {
     "data": {
      "application/vnd.jupyter.widget-view+json": {
       "model_id": "5fa4267ab4e24cd9b0bc9ec6c38b475a",
       "version_major": 2,
       "version_minor": 0
      },
      "text/plain": [
       "  0%|          | 0/16129 [00:00<?, ?it/s]"
      ]
     },
     "metadata": {},
     "output_type": "display_data"
    },
    {
     "name": "stderr",
     "output_type": "stream",
     "text": [
      "[I 2024-01-30 17:06:51,405] Trial 7 finished with value: 0.9135475158691406 and parameters: {'sampler': False, 'batch_size': 8, 'epochs': 3, 'lr': 0.00041002222448465825, 'gamma': 0, 'weight': True, 'n_layers': 1, 'n_units_l0': 19, 'dr': 0.2}. Best is trial 0 with value: 0.9149965643882751.\n"
     ]
    },
    {
     "data": {
      "application/vnd.jupyter.widget-view+json": {
       "model_id": "95313d39d4dc4f10ad6be165610a4a29",
       "version_major": 2,
       "version_minor": 0
      },
      "text/plain": [
       "  0%|          | 0/16129 [00:00<?, ?it/s]"
      ]
     },
     "metadata": {},
     "output_type": "display_data"
    },
    {
     "data": {
      "application/vnd.jupyter.widget-view+json": {
       "model_id": "ec381f081c2f4d1589700c8229ac5fb0",
       "version_major": 2,
       "version_minor": 0
      },
      "text/plain": [
       "  0%|          | 0/16129 [00:00<?, ?it/s]"
      ]
     },
     "metadata": {},
     "output_type": "display_data"
    },
    {
     "data": {
      "application/vnd.jupyter.widget-view+json": {
       "model_id": "884a820c1e944d59916a424dc19b3a31",
       "version_major": 2,
       "version_minor": 0
      },
      "text/plain": [
       "  0%|          | 0/16129 [00:00<?, ?it/s]"
      ]
     },
     "metadata": {},
     "output_type": "display_data"
    },
    {
     "name": "stderr",
     "output_type": "stream",
     "text": [
      "[I 2024-01-30 17:09:07,793] Trial 8 finished with value: 0.18450044095516205 and parameters: {'sampler': True, 'batch_size': 8, 'epochs': 3, 'lr': 1.0234206149664177e-05, 'gamma': 0.5, 'weight': True, 'n_layers': 3, 'n_units_l0': 168, 'dr': 0.30000000000000004, 'n_units_l1': 102, 'n_units_l2': 12}. Best is trial 0 with value: 0.9149965643882751.\n"
     ]
    },
    {
     "data": {
      "application/vnd.jupyter.widget-view+json": {
       "model_id": "83e9e8a0d6b4430ea06f6d82bdbb3e7e",
       "version_major": 2,
       "version_minor": 0
      },
      "text/plain": [
       "  0%|          | 0/4033 [00:00<?, ?it/s]"
      ]
     },
     "metadata": {},
     "output_type": "display_data"
    },
    {
     "data": {
      "application/vnd.jupyter.widget-view+json": {
       "model_id": "d00f5662bc0a4ad6b866a98c7050777e",
       "version_major": 2,
       "version_minor": 0
      },
      "text/plain": [
       "  0%|          | 0/4033 [00:00<?, ?it/s]"
      ]
     },
     "metadata": {},
     "output_type": "display_data"
    },
    {
     "data": {
      "application/vnd.jupyter.widget-view+json": {
       "model_id": "567d97b6c00f4ad396884a91977615b9",
       "version_major": 2,
       "version_minor": 0
      },
      "text/plain": [
       "  0%|          | 0/4033 [00:00<?, ?it/s]"
      ]
     },
     "metadata": {},
     "output_type": "display_data"
    },
    {
     "name": "stderr",
     "output_type": "stream",
     "text": [
      "[I 2024-01-30 17:09:48,896] Trial 9 finished with value: 0.7254509329795837 and parameters: {'sampler': True, 'batch_size': 32, 'epochs': 3, 'lr': 0.00023931480243563074, 'gamma': 3, 'weight': True, 'n_layers': 3, 'n_units_l0': 60, 'dr': 0.5, 'n_units_l1': 25, 'n_units_l2': 69}. Best is trial 0 with value: 0.9149965643882751.\n"
     ]
    },
    {
     "data": {
      "application/vnd.jupyter.widget-view+json": {
       "model_id": "0c331d41bfb8441987b3815d341d7d3f",
       "version_major": 2,
       "version_minor": 0
      },
      "text/plain": [
       "  0%|          | 0/8065 [00:00<?, ?it/s]"
      ]
     },
     "metadata": {},
     "output_type": "display_data"
    },
    {
     "data": {
      "application/vnd.jupyter.widget-view+json": {
       "model_id": "a0ffe4c45670419481270f44f4e55208",
       "version_major": 2,
       "version_minor": 0
      },
      "text/plain": [
       "  0%|          | 0/8065 [00:00<?, ?it/s]"
      ]
     },
     "metadata": {},
     "output_type": "display_data"
    },
    {
     "name": "stderr",
     "output_type": "stream",
     "text": [
      "[I 2024-01-30 17:10:36,587] Trial 10 finished with value: 0.9108079671859741 and parameters: {'sampler': False, 'batch_size': 16, 'epochs': 2, 'lr': 3.613689113848659e-05, 'gamma': 1, 'weight': False, 'n_layers': 3, 'n_units_l0': 419, 'dr': 0.4, 'n_units_l1': 6, 'n_units_l2': 235}. Best is trial 0 with value: 0.9149965643882751.\n"
     ]
    },
    {
     "data": {
      "application/vnd.jupyter.widget-view+json": {
       "model_id": "ef9f97f2d0e941d5bcfd4904a3add066",
       "version_major": 2,
       "version_minor": 0
      },
      "text/plain": [
       "  0%|          | 0/16129 [00:00<?, ?it/s]"
      ]
     },
     "metadata": {},
     "output_type": "display_data"
    },
    {
     "data": {
      "application/vnd.jupyter.widget-view+json": {
       "model_id": "21e97495671140c087970bdfe1ddfc6f",
       "version_major": 2,
       "version_minor": 0
      },
      "text/plain": [
       "  0%|          | 0/16129 [00:00<?, ?it/s]"
      ]
     },
     "metadata": {},
     "output_type": "display_data"
    },
    {
     "data": {
      "application/vnd.jupyter.widget-view+json": {
       "model_id": "3c61fc05c788486e8e04907fe4f9f0f9",
       "version_major": 2,
       "version_minor": 0
      },
      "text/plain": [
       "  0%|          | 0/16129 [00:00<?, ?it/s]"
      ]
     },
     "metadata": {},
     "output_type": "display_data"
    },
    {
     "name": "stderr",
     "output_type": "stream",
     "text": [
      "[I 2024-01-30 17:12:18,272] Trial 11 finished with value: 0.9151415228843689 and parameters: {'sampler': False, 'batch_size': 8, 'epochs': 3, 'lr': 0.0004537269697243206, 'gamma': 0, 'weight': True, 'n_layers': 1, 'n_units_l0': 6, 'dr': 0.2}. Best is trial 11 with value: 0.9151415228843689.\n"
     ]
    },
    {
     "data": {
      "application/vnd.jupyter.widget-view+json": {
       "model_id": "30f63e2714de4d84b5df8e1fe828e0a7",
       "version_major": 2,
       "version_minor": 0
      },
      "text/plain": [
       "  0%|          | 0/16129 [00:00<?, ?it/s]"
      ]
     },
     "metadata": {},
     "output_type": "display_data"
    },
    {
     "data": {
      "application/vnd.jupyter.widget-view+json": {
       "model_id": "9a0da9edf6a84db4b2dbcdfa420a901c",
       "version_major": 2,
       "version_minor": 0
      },
      "text/plain": [
       "  0%|          | 0/16129 [00:00<?, ?it/s]"
      ]
     },
     "metadata": {},
     "output_type": "display_data"
    },
    {
     "data": {
      "application/vnd.jupyter.widget-view+json": {
       "model_id": "50c9cd25c69a4e4ebf424a62a3b37549",
       "version_major": 2,
       "version_minor": 0
      },
      "text/plain": [
       "  0%|          | 0/16129 [00:00<?, ?it/s]"
      ]
     },
     "metadata": {},
     "output_type": "display_data"
    },
    {
     "name": "stderr",
     "output_type": "stream",
     "text": [
      "[I 2024-01-30 17:14:01,971] Trial 12 finished with value: 0.9113416075706482 and parameters: {'sampler': False, 'batch_size': 8, 'epochs': 3, 'lr': 4.823546328851888e-05, 'gamma': 0, 'weight': True, 'n_layers': 1, 'n_units_l0': 4, 'dr': 0.2}. Best is trial 11 with value: 0.9151415228843689.\n"
     ]
    },
    {
     "data": {
      "application/vnd.jupyter.widget-view+json": {
       "model_id": "958ab6c82e66423ebf958091932990c0",
       "version_major": 2,
       "version_minor": 0
      },
      "text/plain": [
       "  0%|          | 0/16129 [00:00<?, ?it/s]"
      ]
     },
     "metadata": {},
     "output_type": "display_data"
    },
    {
     "data": {
      "application/vnd.jupyter.widget-view+json": {
       "model_id": "fe8249464b2140fdaeff6458db6f7668",
       "version_major": 2,
       "version_minor": 0
      },
      "text/plain": [
       "  0%|          | 0/16129 [00:00<?, ?it/s]"
      ]
     },
     "metadata": {},
     "output_type": "display_data"
    },
    {
     "data": {
      "application/vnd.jupyter.widget-view+json": {
       "model_id": "c7fd2e9a27dd4807bd8973849ae4cd18",
       "version_major": 2,
       "version_minor": 0
      },
      "text/plain": [
       "  0%|          | 0/16129 [00:00<?, ?it/s]"
      ]
     },
     "metadata": {},
     "output_type": "display_data"
    },
    {
     "name": "stderr",
     "output_type": "stream",
     "text": [
      "[I 2024-01-30 17:16:14,643] Trial 13 finished with value: 0.9164955615997314 and parameters: {'sampler': False, 'batch_size': 8, 'epochs': 3, 'lr': 0.00010184853116155485, 'gamma': 0, 'weight': False, 'n_layers': 3, 'n_units_l0': 8, 'dr': 0.30000000000000004, 'n_units_l1': 483, 'n_units_l2': 4}. Best is trial 13 with value: 0.9164955615997314.\n"
     ]
    },
    {
     "data": {
      "application/vnd.jupyter.widget-view+json": {
       "model_id": "58354a168ec74d678fd23749cda7bfc2",
       "version_major": 2,
       "version_minor": 0
      },
      "text/plain": [
       "  0%|          | 0/16129 [00:00<?, ?it/s]"
      ]
     },
     "metadata": {},
     "output_type": "display_data"
    },
    {
     "data": {
      "application/vnd.jupyter.widget-view+json": {
       "model_id": "2fc2d9d1293741f48cc2ba19066f8926",
       "version_major": 2,
       "version_minor": 0
      },
      "text/plain": [
       "  0%|          | 0/16129 [00:00<?, ?it/s]"
      ]
     },
     "metadata": {},
     "output_type": "display_data"
    },
    {
     "data": {
      "application/vnd.jupyter.widget-view+json": {
       "model_id": "62460d7045a349538c671254cf004963",
       "version_major": 2,
       "version_minor": 0
      },
      "text/plain": [
       "  0%|          | 0/16129 [00:00<?, ?it/s]"
      ]
     },
     "metadata": {},
     "output_type": "display_data"
    },
    {
     "name": "stderr",
     "output_type": "stream",
     "text": [
      "[I 2024-01-30 17:18:11,470] Trial 14 finished with value: 0.9013062715530396 and parameters: {'sampler': False, 'batch_size': 8, 'epochs': 3, 'lr': 0.0004927510573118165, 'gamma': 0, 'weight': False, 'n_layers': 2, 'n_units_l0': 6, 'dr': 0.30000000000000004, 'n_units_l1': 4}. Best is trial 13 with value: 0.9164955615997314.\n"
     ]
    },
    {
     "data": {
      "application/vnd.jupyter.widget-view+json": {
       "model_id": "81f8c528dc7347e18e0683f6548865cf",
       "version_major": 2,
       "version_minor": 0
      },
      "text/plain": [
       "  0%|          | 0/16129 [00:00<?, ?it/s]"
      ]
     },
     "metadata": {},
     "output_type": "display_data"
    },
    {
     "data": {
      "application/vnd.jupyter.widget-view+json": {
       "model_id": "290ee0602f8c427dbfe735707040ff93",
       "version_major": 2,
       "version_minor": 0
      },
      "text/plain": [
       "  0%|          | 0/16129 [00:00<?, ?it/s]"
      ]
     },
     "metadata": {},
     "output_type": "display_data"
    },
    {
     "data": {
      "application/vnd.jupyter.widget-view+json": {
       "model_id": "a52df0adc0454535a68d548845f85198",
       "version_major": 2,
       "version_minor": 0
      },
      "text/plain": [
       "  0%|          | 0/16129 [00:00<?, ?it/s]"
      ]
     },
     "metadata": {},
     "output_type": "display_data"
    },
    {
     "name": "stderr",
     "output_type": "stream",
     "text": [
      "[I 2024-01-30 17:20:24,455] Trial 15 finished with value: 0.9123159050941467 and parameters: {'sampler': False, 'batch_size': 8, 'epochs': 3, 'lr': 0.00012425492586153703, 'gamma': 0, 'weight': True, 'n_layers': 3, 'n_units_l0': 8, 'dr': 0.4, 'n_units_l1': 72, 'n_units_l2': 5}. Best is trial 13 with value: 0.9164955615997314.\n"
     ]
    },
    {
     "data": {
      "application/vnd.jupyter.widget-view+json": {
       "model_id": "b8fb253f64564377934bb410a651e91d",
       "version_major": 2,
       "version_minor": 0
      },
      "text/plain": [
       "  0%|          | 0/16129 [00:00<?, ?it/s]"
      ]
     },
     "metadata": {},
     "output_type": "display_data"
    },
    {
     "data": {
      "application/vnd.jupyter.widget-view+json": {
       "model_id": "3f8701b42baa4ba39f71b3b2ab2958a0",
       "version_major": 2,
       "version_minor": 0
      },
      "text/plain": [
       "  0%|          | 0/16129 [00:00<?, ?it/s]"
      ]
     },
     "metadata": {},
     "output_type": "display_data"
    },
    {
     "data": {
      "application/vnd.jupyter.widget-view+json": {
       "model_id": "ee81ae6a8ecd4dbb85bab38e406499d8",
       "version_major": 2,
       "version_minor": 0
      },
      "text/plain": [
       "  0%|          | 0/16129 [00:00<?, ?it/s]"
      ]
     },
     "metadata": {},
     "output_type": "display_data"
    },
    {
     "name": "stderr",
     "output_type": "stream",
     "text": [
      "[I 2024-01-30 17:22:06,717] Trial 16 finished with value: 0.9139966368675232 and parameters: {'sampler': False, 'batch_size': 8, 'epochs': 3, 'lr': 2.085566153713944e-05, 'gamma': 0, 'weight': True, 'n_layers': 1, 'n_units_l0': 36, 'dr': 0.30000000000000004}. Best is trial 13 with value: 0.9164955615997314.\n"
     ]
    },
    {
     "data": {
      "application/vnd.jupyter.widget-view+json": {
       "model_id": "70cadfd96da8488e8d33f66931ad636e",
       "version_major": 2,
       "version_minor": 0
      },
      "text/plain": [
       "  0%|          | 0/16129 [00:00<?, ?it/s]"
      ]
     },
     "metadata": {},
     "output_type": "display_data"
    },
    {
     "data": {
      "application/vnd.jupyter.widget-view+json": {
       "model_id": "2bf91e3dbdaa4171bc264fa3f1f2fd0c",
       "version_major": 2,
       "version_minor": 0
      },
      "text/plain": [
       "  0%|          | 0/16129 [00:00<?, ?it/s]"
      ]
     },
     "metadata": {},
     "output_type": "display_data"
    },
    {
     "data": {
      "application/vnd.jupyter.widget-view+json": {
       "model_id": "5e760b3b51dc4a14a0c420ff74e776b5",
       "version_major": 2,
       "version_minor": 0
      },
      "text/plain": [
       "  0%|          | 0/16129 [00:00<?, ?it/s]"
      ]
     },
     "metadata": {},
     "output_type": "display_data"
    },
    {
     "name": "stderr",
     "output_type": "stream",
     "text": [
      "[I 2024-01-30 17:24:06,010] Trial 17 finished with value: 0.9119170904159546 and parameters: {'sampler': False, 'batch_size': 8, 'epochs': 3, 'lr': 5.9945743675809435e-06, 'gamma': 1, 'weight': False, 'n_layers': 2, 'n_units_l0': 9, 'dr': 0.4, 'n_units_l1': 13}. Best is trial 13 with value: 0.9164955615997314.\n"
     ]
    },
    {
     "data": {
      "application/vnd.jupyter.widget-view+json": {
       "model_id": "c1956638f62c484f92ff512e9f77058f",
       "version_major": 2,
       "version_minor": 0
      },
      "text/plain": [
       "  0%|          | 0/8065 [00:00<?, ?it/s]"
      ]
     },
     "metadata": {},
     "output_type": "display_data"
    },
    {
     "data": {
      "application/vnd.jupyter.widget-view+json": {
       "model_id": "ff4383818fe841feb993097206c845ca",
       "version_major": 2,
       "version_minor": 0
      },
      "text/plain": [
       "  0%|          | 0/8065 [00:00<?, ?it/s]"
      ]
     },
     "metadata": {},
     "output_type": "display_data"
    },
    {
     "name": "stderr",
     "output_type": "stream",
     "text": [
      "[I 2024-01-30 17:24:43,691] Trial 18 finished with value: 0.873108983039856 and parameters: {'sampler': True, 'batch_size': 16, 'epochs': 2, 'lr': 8.693385387646238e-05, 'gamma': 0, 'weight': False, 'n_layers': 1, 'n_units_l0': 42, 'dr': 0.2}. Best is trial 13 with value: 0.9164955615997314.\n"
     ]
    },
    {
     "data": {
      "application/vnd.jupyter.widget-view+json": {
       "model_id": "cfbf1688d0a049999509e1870f6af682",
       "version_major": 2,
       "version_minor": 0
      },
      "text/plain": [
       "  0%|          | 0/16129 [00:00<?, ?it/s]"
      ]
     },
     "metadata": {},
     "output_type": "display_data"
    },
    {
     "data": {
      "application/vnd.jupyter.widget-view+json": {
       "model_id": "073bbcbc8fb04418be6f26f8f0fb7169",
       "version_major": 2,
       "version_minor": 0
      },
      "text/plain": [
       "  0%|          | 0/16129 [00:00<?, ?it/s]"
      ]
     },
     "metadata": {},
     "output_type": "display_data"
    },
    {
     "data": {
      "application/vnd.jupyter.widget-view+json": {
       "model_id": "4781b1ac5ca3458f98d2c20bfb1a6897",
       "version_major": 2,
       "version_minor": 0
      },
      "text/plain": [
       "  0%|          | 0/16129 [00:00<?, ?it/s]"
      ]
     },
     "metadata": {},
     "output_type": "display_data"
    },
    {
     "name": "stderr",
     "output_type": "stream",
     "text": [
      "[I 2024-01-30 17:26:56,458] Trial 19 finished with value: 0.9146549105644226 and parameters: {'sampler': False, 'batch_size': 8, 'epochs': 3, 'lr': 3.2269287667459154e-05, 'gamma': 0, 'weight': True, 'n_layers': 3, 'n_units_l0': 6, 'dr': 0.2, 'n_units_l1': 452, 'n_units_l2': 4}. Best is trial 13 with value: 0.9164955615997314.\n"
     ]
    },
    {
     "data": {
      "application/vnd.jupyter.widget-view+json": {
       "model_id": "8ac636e1a62d497fa30543a270ac2bf4",
       "version_major": 2,
       "version_minor": 0
      },
      "text/plain": [
       "  0%|          | 0/16129 [00:00<?, ?it/s]"
      ]
     },
     "metadata": {},
     "output_type": "display_data"
    },
    {
     "data": {
      "application/vnd.jupyter.widget-view+json": {
       "model_id": "1be98981ea114ca99480e5e5fe13fd71",
       "version_major": 2,
       "version_minor": 0
      },
      "text/plain": [
       "  0%|          | 0/16129 [00:00<?, ?it/s]"
      ]
     },
     "metadata": {},
     "output_type": "display_data"
    },
    {
     "data": {
      "application/vnd.jupyter.widget-view+json": {
       "model_id": "71fd84476c7e48809f5ac373ad0db3b5",
       "version_major": 2,
       "version_minor": 0
      },
      "text/plain": [
       "  0%|          | 0/16129 [00:00<?, ?it/s]"
      ]
     },
     "metadata": {},
     "output_type": "display_data"
    },
    {
     "name": "stderr",
     "output_type": "stream",
     "text": [
      "[I 2024-01-30 17:28:55,320] Trial 20 finished with value: 0.9143619537353516 and parameters: {'sampler': False, 'batch_size': 8, 'epochs': 3, 'lr': 0.00016677379549461029, 'gamma': 0, 'weight': True, 'n_layers': 2, 'n_units_l0': 104, 'dr': 0.30000000000000004, 'n_units_l1': 40}. Best is trial 13 with value: 0.9164955615997314.\n"
     ]
    },
    {
     "data": {
      "application/vnd.jupyter.widget-view+json": {
       "model_id": "9cfc311952704c048f68c76b0660a2e7",
       "version_major": 2,
       "version_minor": 0
      },
      "text/plain": [
       "  0%|          | 0/4033 [00:00<?, ?it/s]"
      ]
     },
     "metadata": {},
     "output_type": "display_data"
    },
    {
     "data": {
      "application/vnd.jupyter.widget-view+json": {
       "model_id": "84a089e6d67045e08b871c5d500472ab",
       "version_major": 2,
       "version_minor": 0
      },
      "text/plain": [
       "  0%|          | 0/4033 [00:00<?, ?it/s]"
      ]
     },
     "metadata": {},
     "output_type": "display_data"
    },
    {
     "data": {
      "application/vnd.jupyter.widget-view+json": {
       "model_id": "b7510d483897489295abc847148a2fca",
       "version_major": 2,
       "version_minor": 0
      },
      "text/plain": [
       "  0%|          | 0/4033 [00:00<?, ?it/s]"
      ]
     },
     "metadata": {},
     "output_type": "display_data"
    },
    {
     "name": "stderr",
     "output_type": "stream",
     "text": [
      "[I 2024-01-30 17:29:34,120] Trial 21 finished with value: 0.9164941906929016 and parameters: {'sampler': False, 'batch_size': 32, 'epochs': 3, 'lr': 7.799896365311117e-05, 'gamma': 0.5, 'weight': False, 'n_layers': 3, 'n_units_l0': 11, 'dr': 0.1, 'n_units_l1': 195, 'n_units_l2': 30}. Best is trial 13 with value: 0.9164955615997314.\n"
     ]
    },
    {
     "data": {
      "application/vnd.jupyter.widget-view+json": {
       "model_id": "addd167d5a0a490db38c4e106199037a",
       "version_major": 2,
       "version_minor": 0
      },
      "text/plain": [
       "  0%|          | 0/4033 [00:00<?, ?it/s]"
      ]
     },
     "metadata": {},
     "output_type": "display_data"
    },
    {
     "data": {
      "application/vnd.jupyter.widget-view+json": {
       "model_id": "bd3360f617d449d099cf65dd63f515d8",
       "version_major": 2,
       "version_minor": 0
      },
      "text/plain": [
       "  0%|          | 0/4033 [00:00<?, ?it/s]"
      ]
     },
     "metadata": {},
     "output_type": "display_data"
    },
    {
     "data": {
      "application/vnd.jupyter.widget-view+json": {
       "model_id": "1cda889e68344f539054b2b42fd35057",
       "version_major": 2,
       "version_minor": 0
      },
      "text/plain": [
       "  0%|          | 0/4033 [00:00<?, ?it/s]"
      ]
     },
     "metadata": {},
     "output_type": "display_data"
    },
    {
     "name": "stderr",
     "output_type": "stream",
     "text": [
      "[I 2024-01-30 17:30:12,991] Trial 22 finished with value: 0.9119278788566589 and parameters: {'sampler': False, 'batch_size': 32, 'epochs': 3, 'lr': 6.0098693715809365e-05, 'gamma': 0.5, 'weight': False, 'n_layers': 3, 'n_units_l0': 7, 'dr': 0.2, 'n_units_l1': 165, 'n_units_l2': 25}. Best is trial 13 with value: 0.9164955615997314.\n"
     ]
    },
    {
     "data": {
      "application/vnd.jupyter.widget-view+json": {
       "model_id": "5d23ec81178b458eacb46d83832eb858",
       "version_major": 2,
       "version_minor": 0
      },
      "text/plain": [
       "  0%|          | 0/8065 [00:00<?, ?it/s]"
      ]
     },
     "metadata": {},
     "output_type": "display_data"
    },
    {
     "data": {
      "application/vnd.jupyter.widget-view+json": {
       "model_id": "371adca9a3cc4cb08ad0249cde817e76",
       "version_major": 2,
       "version_minor": 0
      },
      "text/plain": [
       "  0%|          | 0/8065 [00:00<?, ?it/s]"
      ]
     },
     "metadata": {},
     "output_type": "display_data"
    },
    {
     "data": {
      "application/vnd.jupyter.widget-view+json": {
       "model_id": "31ea9c9c74db4ded9d6cc9b927765885",
       "version_major": 2,
       "version_minor": 0
      },
      "text/plain": [
       "  0%|          | 0/8065 [00:00<?, ?it/s]"
      ]
     },
     "metadata": {},
     "output_type": "display_data"
    },
    {
     "name": "stderr",
     "output_type": "stream",
     "text": [
      "[I 2024-01-30 17:31:24,216] Trial 23 finished with value: 0.9158620238304138 and parameters: {'sampler': False, 'batch_size': 16, 'epochs': 3, 'lr': 0.00011081662030933613, 'gamma': 0.5, 'weight': False, 'n_layers': 3, 'n_units_l0': 12, 'dr': 0.1, 'n_units_l1': 464, 'n_units_l2': 284}. Best is trial 13 with value: 0.9164955615997314.\n"
     ]
    },
    {
     "data": {
      "application/vnd.jupyter.widget-view+json": {
       "model_id": "6e651b095ac545559a135f33e9ad13d6",
       "version_major": 2,
       "version_minor": 0
      },
      "text/plain": [
       "  0%|          | 0/8065 [00:00<?, ?it/s]"
      ]
     },
     "metadata": {},
     "output_type": "display_data"
    },
    {
     "data": {
      "application/vnd.jupyter.widget-view+json": {
       "model_id": "65331c190048414a8aacaca6e5941440",
       "version_major": 2,
       "version_minor": 0
      },
      "text/plain": [
       "  0%|          | 0/8065 [00:00<?, ?it/s]"
      ]
     },
     "metadata": {},
     "output_type": "display_data"
    },
    {
     "data": {
      "application/vnd.jupyter.widget-view+json": {
       "model_id": "45c22f1702fd4b7fae64e1dca191b961",
       "version_major": 2,
       "version_minor": 0
      },
      "text/plain": [
       "  0%|          | 0/8065 [00:00<?, ?it/s]"
      ]
     },
     "metadata": {},
     "output_type": "display_data"
    },
    {
     "name": "stderr",
     "output_type": "stream",
     "text": [
      "[I 2024-01-30 17:32:36,083] Trial 24 finished with value: 0.916120171546936 and parameters: {'sampler': False, 'batch_size': 16, 'epochs': 3, 'lr': 0.00011942163832828126, 'gamma': 0.5, 'weight': False, 'n_layers': 3, 'n_units_l0': 12, 'dr': 0.1, 'n_units_l1': 492, 'n_units_l2': 502}. Best is trial 13 with value: 0.9164955615997314.\n"
     ]
    },
    {
     "data": {
      "application/vnd.jupyter.widget-view+json": {
       "model_id": "599f893a45e64f568c5e1e5c27e22fa1",
       "version_major": 2,
       "version_minor": 0
      },
      "text/plain": [
       "  0%|          | 0/8065 [00:00<?, ?it/s]"
      ]
     },
     "metadata": {},
     "output_type": "display_data"
    },
    {
     "data": {
      "application/vnd.jupyter.widget-view+json": {
       "model_id": "17bd13c469f04b008a2d34055ef0979c",
       "version_major": 2,
       "version_minor": 0
      },
      "text/plain": [
       "  0%|          | 0/8065 [00:00<?, ?it/s]"
      ]
     },
     "metadata": {},
     "output_type": "display_data"
    },
    {
     "data": {
      "application/vnd.jupyter.widget-view+json": {
       "model_id": "646c09153bd841078a86a1cb030e3eef",
       "version_major": 2,
       "version_minor": 0
      },
      "text/plain": [
       "  0%|          | 0/8065 [00:00<?, ?it/s]"
      ]
     },
     "metadata": {},
     "output_type": "display_data"
    },
    {
     "name": "stderr",
     "output_type": "stream",
     "text": [
      "[I 2024-01-30 17:33:47,272] Trial 25 finished with value: 0.9153128862380981 and parameters: {'sampler': False, 'batch_size': 16, 'epochs': 3, 'lr': 5.3097024940362286e-05, 'gamma': 0.5, 'weight': False, 'n_layers': 3, 'n_units_l0': 29, 'dr': 0.1, 'n_units_l1': 171, 'n_units_l2': 17}. Best is trial 13 with value: 0.9164955615997314.\n"
     ]
    },
    {
     "data": {
      "application/vnd.jupyter.widget-view+json": {
       "model_id": "57c1a0c349d64b3c9d894c82342fc10f",
       "version_major": 2,
       "version_minor": 0
      },
      "text/plain": [
       "  0%|          | 0/8065 [00:00<?, ?it/s]"
      ]
     },
     "metadata": {},
     "output_type": "display_data"
    },
    {
     "data": {
      "application/vnd.jupyter.widget-view+json": {
       "model_id": "60b542918398437d9098736c8cdab0a1",
       "version_major": 2,
       "version_minor": 0
      },
      "text/plain": [
       "  0%|          | 0/8065 [00:00<?, ?it/s]"
      ]
     },
     "metadata": {},
     "output_type": "display_data"
    },
    {
     "data": {
      "application/vnd.jupyter.widget-view+json": {
       "model_id": "1abd1a8ac2e04d9d9d8844dae4963985",
       "version_major": 2,
       "version_minor": 0
      },
      "text/plain": [
       "  0%|          | 0/8065 [00:00<?, ?it/s]"
      ]
     },
     "metadata": {},
     "output_type": "display_data"
    },
    {
     "name": "stderr",
     "output_type": "stream",
     "text": [
      "[I 2024-01-30 17:35:00,584] Trial 26 finished with value: 0.18450044095516205 and parameters: {'sampler': True, 'batch_size': 16, 'epochs': 3, 'lr': 6.91350358697433e-05, 'gamma': 0.5, 'weight': False, 'n_layers': 3, 'n_units_l0': 71, 'dr': 0.30000000000000004, 'n_units_l1': 473, 'n_units_l2': 128}. Best is trial 13 with value: 0.9164955615997314.\n"
     ]
    },
    {
     "data": {
      "application/vnd.jupyter.widget-view+json": {
       "model_id": "0e3d2cb3ead749bd994afe221019c429",
       "version_major": 2,
       "version_minor": 0
      },
      "text/plain": [
       "  0%|          | 0/8065 [00:00<?, ?it/s]"
      ]
     },
     "metadata": {},
     "output_type": "display_data"
    },
    {
     "data": {
      "application/vnd.jupyter.widget-view+json": {
       "model_id": "3ca696342ffc4c9fabb7e939efb1f44f",
       "version_major": 2,
       "version_minor": 0
      },
      "text/plain": [
       "  0%|          | 0/8065 [00:00<?, ?it/s]"
      ]
     },
     "metadata": {},
     "output_type": "display_data"
    },
    {
     "name": "stderr",
     "output_type": "stream",
     "text": [
      "[I 2024-01-30 17:35:48,946] Trial 27 finished with value: 0.18450044095516205 and parameters: {'sampler': False, 'batch_size': 16, 'epochs': 2, 'lr': 3.599779039667094e-05, 'gamma': 0.5, 'weight': False, 'n_layers': 3, 'n_units_l0': 13, 'dr': 0.4, 'n_units_l1': 252, 'n_units_l2': 490}. Best is trial 13 with value: 0.9164955615997314.\n"
     ]
    },
    {
     "data": {
      "application/vnd.jupyter.widget-view+json": {
       "model_id": "1e9fbf8cc69f46dca68a9eedcad887f4",
       "version_major": 2,
       "version_minor": 0
      },
      "text/plain": [
       "  0%|          | 0/4033 [00:00<?, ?it/s]"
      ]
     },
     "metadata": {},
     "output_type": "display_data"
    },
    {
     "data": {
      "application/vnd.jupyter.widget-view+json": {
       "model_id": "144419e812114fd7b7b23c4cb6e1b129",
       "version_major": 2,
       "version_minor": 0
      },
      "text/plain": [
       "  0%|          | 0/4033 [00:00<?, ?it/s]"
      ]
     },
     "metadata": {},
     "output_type": "display_data"
    },
    {
     "data": {
      "application/vnd.jupyter.widget-view+json": {
       "model_id": "9d05d891c1f34e9f85a80f9ab462841f",
       "version_major": 2,
       "version_minor": 0
      },
      "text/plain": [
       "  0%|          | 0/4033 [00:00<?, ?it/s]"
      ]
     },
     "metadata": {},
     "output_type": "display_data"
    },
    {
     "name": "stderr",
     "output_type": "stream",
     "text": [
      "[I 2024-01-30 17:36:29,309] Trial 28 finished with value: 0.9120111465454102 and parameters: {'sampler': False, 'batch_size': 32, 'epochs': 3, 'lr': 0.0001992426186503551, 'gamma': 1, 'weight': False, 'n_layers': 3, 'n_units_l0': 4, 'dr': 0.1, 'n_units_l1': 138, 'n_units_l2': 9}. Best is trial 13 with value: 0.9164955615997314.\n"
     ]
    },
    {
     "data": {
      "application/vnd.jupyter.widget-view+json": {
       "model_id": "9e6e9953228a47aa995993ca2655f55f",
       "version_major": 2,
       "version_minor": 0
      },
      "text/plain": [
       "  0%|          | 0/8065 [00:00<?, ?it/s]"
      ]
     },
     "metadata": {},
     "output_type": "display_data"
    },
    {
     "data": {
      "application/vnd.jupyter.widget-view+json": {
       "model_id": "de7ce82f38664ea1bf8c984283b84761",
       "version_major": 2,
       "version_minor": 0
      },
      "text/plain": [
       "  0%|          | 0/8065 [00:00<?, ?it/s]"
      ]
     },
     "metadata": {},
     "output_type": "display_data"
    },
    {
     "data": {
      "application/vnd.jupyter.widget-view+json": {
       "model_id": "a932acf72e6546a591d2b949f4c8dc19",
       "version_major": 2,
       "version_minor": 0
      },
      "text/plain": [
       "  0%|          | 0/8065 [00:00<?, ?it/s]"
      ]
     },
     "metadata": {},
     "output_type": "display_data"
    },
    {
     "name": "stderr",
     "output_type": "stream",
     "text": [
      "[I 2024-01-30 17:37:41,364] Trial 29 finished with value: 0.915488064289093 and parameters: {'sampler': False, 'batch_size': 16, 'epochs': 3, 'lr': 9.198888110698085e-05, 'gamma': 0.5, 'weight': False, 'n_layers': 3, 'n_units_l0': 15, 'dr': 0.1, 'n_units_l1': 509, 'n_units_l2': 39}. Best is trial 13 with value: 0.9164955615997314.\n"
     ]
    },
    {
     "data": {
      "application/vnd.jupyter.widget-view+json": {
       "model_id": "1fe0e243d0e74f2c9cb5ac0de2dc6ffc",
       "version_major": 2,
       "version_minor": 0
      },
      "text/plain": [
       "  0%|          | 0/4033 [00:00<?, ?it/s]"
      ]
     },
     "metadata": {},
     "output_type": "display_data"
    },
    {
     "data": {
      "application/vnd.jupyter.widget-view+json": {
       "model_id": "e783edf8556648139a18348cc3659db5",
       "version_major": 2,
       "version_minor": 0
      },
      "text/plain": [
       "  0%|          | 0/4033 [00:00<?, ?it/s]"
      ]
     },
     "metadata": {},
     "output_type": "display_data"
    },
    {
     "data": {
      "application/vnd.jupyter.widget-view+json": {
       "model_id": "75b8d602b2344400a6c2a80e01be2b2d",
       "version_major": 2,
       "version_minor": 0
      },
      "text/plain": [
       "  0%|          | 0/4033 [00:00<?, ?it/s]"
      ]
     },
     "metadata": {},
     "output_type": "display_data"
    },
    {
     "name": "stderr",
     "output_type": "stream",
     "text": [
      "[I 2024-01-30 17:38:21,045] Trial 30 finished with value: 0.9163786172866821 and parameters: {'sampler': False, 'batch_size': 32, 'epochs': 3, 'lr': 0.0003246970541892338, 'gamma': 3, 'weight': False, 'n_layers': 3, 'n_units_l0': 30, 'dr': 0.2, 'n_units_l1': 57, 'n_units_l2': 144}. Best is trial 13 with value: 0.9164955615997314.\n"
     ]
    },
    {
     "data": {
      "application/vnd.jupyter.widget-view+json": {
       "model_id": "c7fb990ad17d4d9ba3c7ec483aa2627c",
       "version_major": 2,
       "version_minor": 0
      },
      "text/plain": [
       "  0%|          | 0/4033 [00:00<?, ?it/s]"
      ]
     },
     "metadata": {},
     "output_type": "display_data"
    },
    {
     "data": {
      "application/vnd.jupyter.widget-view+json": {
       "model_id": "968a73fc8f3a41d689f44966d19d59b4",
       "version_major": 2,
       "version_minor": 0
      },
      "text/plain": [
       "  0%|          | 0/4033 [00:00<?, ?it/s]"
      ]
     },
     "metadata": {},
     "output_type": "display_data"
    },
    {
     "data": {
      "application/vnd.jupyter.widget-view+json": {
       "model_id": "4e110720bbed46389a6c5092b194f999",
       "version_major": 2,
       "version_minor": 0
      },
      "text/plain": [
       "  0%|          | 0/4033 [00:00<?, ?it/s]"
      ]
     },
     "metadata": {},
     "output_type": "display_data"
    },
    {
     "name": "stderr",
     "output_type": "stream",
     "text": [
      "[I 2024-01-30 17:39:00,499] Trial 31 finished with value: 0.9151955246925354 and parameters: {'sampler': False, 'batch_size': 32, 'epochs': 3, 'lr': 0.00027382257273241294, 'gamma': 3, 'weight': False, 'n_layers': 3, 'n_units_l0': 9, 'dr': 0.2, 'n_units_l1': 54, 'n_units_l2': 129}. Best is trial 13 with value: 0.9164955615997314.\n"
     ]
    },
    {
     "data": {
      "application/vnd.jupyter.widget-view+json": {
       "model_id": "36fe9b3bebb04bf58acce1145aa217dc",
       "version_major": 2,
       "version_minor": 0
      },
      "text/plain": [
       "  0%|          | 0/4033 [00:00<?, ?it/s]"
      ]
     },
     "metadata": {},
     "output_type": "display_data"
    },
    {
     "data": {
      "application/vnd.jupyter.widget-view+json": {
       "model_id": "c4e139fb83424320a3b675d6b7e3326f",
       "version_major": 2,
       "version_minor": 0
      },
      "text/plain": [
       "  0%|          | 0/4033 [00:00<?, ?it/s]"
      ]
     },
     "metadata": {},
     "output_type": "display_data"
    },
    {
     "data": {
      "application/vnd.jupyter.widget-view+json": {
       "model_id": "837119df8b1649b2bcc535d4a85e3b9f",
       "version_major": 2,
       "version_minor": 0
      },
      "text/plain": [
       "  0%|          | 0/4033 [00:00<?, ?it/s]"
      ]
     },
     "metadata": {},
     "output_type": "display_data"
    },
    {
     "name": "stderr",
     "output_type": "stream",
     "text": [
      "[I 2024-01-30 17:39:40,231] Trial 32 finished with value: 0.9161779880523682 and parameters: {'sampler': False, 'batch_size': 32, 'epochs': 3, 'lr': 0.0003399465099948055, 'gamma': 3, 'weight': False, 'n_layers': 3, 'n_units_l0': 27, 'dr': 0.1, 'n_units_l1': 322, 'n_units_l2': 410}. Best is trial 13 with value: 0.9164955615997314.\n"
     ]
    },
    {
     "data": {
      "application/vnd.jupyter.widget-view+json": {
       "model_id": "6da3187730a9410daa5f81b555445118",
       "version_major": 2,
       "version_minor": 0
      },
      "text/plain": [
       "  0%|          | 0/4033 [00:00<?, ?it/s]"
      ]
     },
     "metadata": {},
     "output_type": "display_data"
    },
    {
     "data": {
      "application/vnd.jupyter.widget-view+json": {
       "model_id": "c475d326b2b8466b9dd689f073cddbc6",
       "version_major": 2,
       "version_minor": 0
      },
      "text/plain": [
       "  0%|          | 0/4033 [00:00<?, ?it/s]"
      ]
     },
     "metadata": {},
     "output_type": "display_data"
    },
    {
     "data": {
      "application/vnd.jupyter.widget-view+json": {
       "model_id": "d40a14f76e064761809e82defc54890e",
       "version_major": 2,
       "version_minor": 0
      },
      "text/plain": [
       "  0%|          | 0/4033 [00:00<?, ?it/s]"
      ]
     },
     "metadata": {},
     "output_type": "display_data"
    },
    {
     "name": "stderr",
     "output_type": "stream",
     "text": [
      "[I 2024-01-30 17:40:20,015] Trial 33 finished with value: 0.9146804809570312 and parameters: {'sampler': False, 'batch_size': 32, 'epochs': 3, 'lr': 0.00035813512746451435, 'gamma': 3, 'weight': False, 'n_layers': 3, 'n_units_l0': 27, 'dr': 0.2, 'n_units_l1': 268, 'n_units_l2': 142}. Best is trial 13 with value: 0.9164955615997314.\n"
     ]
    },
    {
     "data": {
      "application/vnd.jupyter.widget-view+json": {
       "model_id": "9a6e0c36d8c64c2a87544ae93963bda0",
       "version_major": 2,
       "version_minor": 0
      },
      "text/plain": [
       "  0%|          | 0/4033 [00:00<?, ?it/s]"
      ]
     },
     "metadata": {},
     "output_type": "display_data"
    },
    {
     "data": {
      "application/vnd.jupyter.widget-view+json": {
       "model_id": "f2c15fdf7184467dbaf3a3156f1d45c8",
       "version_major": 2,
       "version_minor": 0
      },
      "text/plain": [
       "  0%|          | 0/4033 [00:00<?, ?it/s]"
      ]
     },
     "metadata": {},
     "output_type": "display_data"
    },
    {
     "name": "stderr",
     "output_type": "stream",
     "text": [
      "[I 2024-01-30 17:40:46,568] Trial 34 finished with value: 0.9148352146148682 and parameters: {'sampler': False, 'batch_size': 32, 'epochs': 2, 'lr': 0.0003318029463607853, 'gamma': 3, 'weight': False, 'n_layers': 3, 'n_units_l0': 59, 'dr': 0.1, 'n_units_l1': 122, 'n_units_l2': 215}. Best is trial 13 with value: 0.9164955615997314.\n"
     ]
    },
    {
     "data": {
      "application/vnd.jupyter.widget-view+json": {
       "model_id": "c22248e8ad15404c9af40eb4718d4392",
       "version_major": 2,
       "version_minor": 0
      },
      "text/plain": [
       "  0%|          | 0/4033 [00:00<?, ?it/s]"
      ]
     },
     "metadata": {},
     "output_type": "display_data"
    },
    {
     "data": {
      "application/vnd.jupyter.widget-view+json": {
       "model_id": "4f7841d121a243f889c2527e3acabd5b",
       "version_major": 2,
       "version_minor": 0
      },
      "text/plain": [
       "  0%|          | 0/4033 [00:00<?, ?it/s]"
      ]
     },
     "metadata": {},
     "output_type": "display_data"
    },
    {
     "data": {
      "application/vnd.jupyter.widget-view+json": {
       "model_id": "9761e95f14914df6ae320f94408e46ef",
       "version_major": 2,
       "version_minor": 0
      },
      "text/plain": [
       "  0%|          | 0/4033 [00:00<?, ?it/s]"
      ]
     },
     "metadata": {},
     "output_type": "display_data"
    },
    {
     "name": "stderr",
     "output_type": "stream",
     "text": [
      "[I 2024-01-30 17:41:23,927] Trial 35 finished with value: 0.8793050050735474 and parameters: {'sampler': True, 'batch_size': 32, 'epochs': 3, 'lr': 0.0001949683610799461, 'gamma': 3, 'weight': False, 'n_layers': 2, 'n_units_l0': 24, 'dr': 0.1, 'n_units_l1': 42}. Best is trial 13 with value: 0.9164955615997314.\n"
     ]
    },
    {
     "data": {
      "application/vnd.jupyter.widget-view+json": {
       "model_id": "cda8cab8395045b587521478cb856784",
       "version_major": 2,
       "version_minor": 0
      },
      "text/plain": [
       "  0%|          | 0/4033 [00:00<?, ?it/s]"
      ]
     },
     "metadata": {},
     "output_type": "display_data"
    },
    {
     "data": {
      "application/vnd.jupyter.widget-view+json": {
       "model_id": "0a798cca5c7845989b28602e335057ae",
       "version_major": 2,
       "version_minor": 0
      },
      "text/plain": [
       "  0%|          | 0/4033 [00:00<?, ?it/s]"
      ]
     },
     "metadata": {},
     "output_type": "display_data"
    },
    {
     "data": {
      "application/vnd.jupyter.widget-view+json": {
       "model_id": "e91c77f0efbd470f89d7828951d4124c",
       "version_major": 2,
       "version_minor": 0
      },
      "text/plain": [
       "  0%|          | 0/4033 [00:00<?, ?it/s]"
      ]
     },
     "metadata": {},
     "output_type": "display_data"
    },
    {
     "name": "stderr",
     "output_type": "stream",
     "text": [
      "[I 2024-01-30 17:42:03,473] Trial 36 finished with value: 0.9157458543777466 and parameters: {'sampler': False, 'batch_size': 32, 'epochs': 3, 'lr': 0.00015339492474320874, 'gamma': 3, 'weight': False, 'n_layers': 3, 'n_units_l0': 15, 'dr': 0.2, 'n_units_l1': 315, 'n_units_l2': 74}. Best is trial 13 with value: 0.9164955615997314.\n"
     ]
    },
    {
     "data": {
      "application/vnd.jupyter.widget-view+json": {
       "model_id": "b242334a7997406e895f77c1a2e05be3",
       "version_major": 2,
       "version_minor": 0
      },
      "text/plain": [
       "  0%|          | 0/4033 [00:00<?, ?it/s]"
      ]
     },
     "metadata": {},
     "output_type": "display_data"
    },
    {
     "data": {
      "application/vnd.jupyter.widget-view+json": {
       "model_id": "4c9fef22d2674a5e812387617118fbd9",
       "version_major": 2,
       "version_minor": 0
      },
      "text/plain": [
       "  0%|          | 0/4033 [00:00<?, ?it/s]"
      ]
     },
     "metadata": {},
     "output_type": "display_data"
    },
    {
     "name": "stderr",
     "output_type": "stream",
     "text": [
      "[I 2024-01-30 17:42:29,806] Trial 37 finished with value: 0.9122442603111267 and parameters: {'sampler': False, 'batch_size': 32, 'epochs': 2, 'lr': 2.4301549378452537e-05, 'gamma': 3, 'weight': False, 'n_layers': 3, 'n_units_l0': 34, 'dr': 0.1, 'n_units_l1': 193, 'n_units_l2': 36}. Best is trial 13 with value: 0.9164955615997314.\n"
     ]
    },
    {
     "data": {
      "application/vnd.jupyter.widget-view+json": {
       "model_id": "e296d2279cf94925b67d66dcdd10ef8f",
       "version_major": 2,
       "version_minor": 0
      },
      "text/plain": [
       "  0%|          | 0/4033 [00:00<?, ?it/s]"
      ]
     },
     "metadata": {},
     "output_type": "display_data"
    },
    {
     "data": {
      "application/vnd.jupyter.widget-view+json": {
       "model_id": "cb5bef668cfb44b7ad0587906bb7d974",
       "version_major": 2,
       "version_minor": 0
      },
      "text/plain": [
       "  0%|          | 0/4033 [00:00<?, ?it/s]"
      ]
     },
     "metadata": {},
     "output_type": "display_data"
    },
    {
     "data": {
      "application/vnd.jupyter.widget-view+json": {
       "model_id": "2b14c2fb4a034621858e776a5d8f99d2",
       "version_major": 2,
       "version_minor": 0
      },
      "text/plain": [
       "  0%|          | 0/4033 [00:00<?, ?it/s]"
      ]
     },
     "metadata": {},
     "output_type": "display_data"
    },
    {
     "name": "stderr",
     "output_type": "stream",
     "text": [
      "[I 2024-01-30 17:43:05,152] Trial 38 finished with value: 0.9164628386497498 and parameters: {'sampler': False, 'batch_size': 32, 'epochs': 3, 'lr': 0.0003034387127287537, 'gamma': 2, 'weight': False, 'n_layers': 2, 'n_units_l0': 18, 'dr': 0.30000000000000004, 'n_units_l1': 343}. Best is trial 13 with value: 0.9164955615997314.\n"
     ]
    },
    {
     "data": {
      "application/vnd.jupyter.widget-view+json": {
       "model_id": "a8661b4f6baa44fa942331517215b8fa",
       "version_major": 2,
       "version_minor": 0
      },
      "text/plain": [
       "  0%|          | 0/4033 [00:00<?, ?it/s]"
      ]
     },
     "metadata": {},
     "output_type": "display_data"
    },
    {
     "data": {
      "application/vnd.jupyter.widget-view+json": {
       "model_id": "607b932434be4cb8a47d1203e1dd2f9a",
       "version_major": 2,
       "version_minor": 0
      },
      "text/plain": [
       "  0%|          | 0/4033 [00:00<?, ?it/s]"
      ]
     },
     "metadata": {},
     "output_type": "display_data"
    },
    {
     "data": {
      "application/vnd.jupyter.widget-view+json": {
       "model_id": "54e2d5aba60a4bfcbeabd7f8f1c37383",
       "version_major": 2,
       "version_minor": 0
      },
      "text/plain": [
       "  0%|          | 0/4033 [00:00<?, ?it/s]"
      ]
     },
     "metadata": {},
     "output_type": "display_data"
    },
    {
     "name": "stderr",
     "output_type": "stream",
     "text": [
      "[I 2024-01-30 17:43:42,597] Trial 39 finished with value: 0.8707692623138428 and parameters: {'sampler': True, 'batch_size': 32, 'epochs': 3, 'lr': 6.96993820060253e-05, 'gamma': 2, 'weight': False, 'n_layers': 2, 'n_units_l0': 17, 'dr': 0.30000000000000004, 'n_units_l1': 70}. Best is trial 13 with value: 0.9164955615997314.\n"
     ]
    },
    {
     "data": {
      "application/vnd.jupyter.widget-view+json": {
       "model_id": "42d34d3e2c8740d5b1811e7a2662d1e8",
       "version_major": 2,
       "version_minor": 0
      },
      "text/plain": [
       "  0%|          | 0/4033 [00:00<?, ?it/s]"
      ]
     },
     "metadata": {},
     "output_type": "display_data"
    },
    {
     "data": {
      "application/vnd.jupyter.widget-view+json": {
       "model_id": "3a2cbff64047446e9e7c1c376bc9db2c",
       "version_major": 2,
       "version_minor": 0
      },
      "text/plain": [
       "  0%|          | 0/4033 [00:00<?, ?it/s]"
      ]
     },
     "metadata": {},
     "output_type": "display_data"
    },
    {
     "data": {
      "application/vnd.jupyter.widget-view+json": {
       "model_id": "90d5ef98bae94956a14c659862b1d8ca",
       "version_major": 2,
       "version_minor": 0
      },
      "text/plain": [
       "  0%|          | 0/4033 [00:00<?, ?it/s]"
      ]
     },
     "metadata": {},
     "output_type": "display_data"
    },
    {
     "name": "stderr",
     "output_type": "stream",
     "text": [
      "[I 2024-01-30 17:44:18,017] Trial 40 finished with value: 0.9162966012954712 and parameters: {'sampler': False, 'batch_size': 32, 'epochs': 3, 'lr': 0.00025248154855090716, 'gamma': 2, 'weight': False, 'n_layers': 2, 'n_units_l0': 20, 'dr': 0.30000000000000004, 'n_units_l1': 347}. Best is trial 13 with value: 0.9164955615997314.\n"
     ]
    },
    {
     "data": {
      "application/vnd.jupyter.widget-view+json": {
       "model_id": "846b65323a1d41a7adb6045e9c73a03c",
       "version_major": 2,
       "version_minor": 0
      },
      "text/plain": [
       "  0%|          | 0/4033 [00:00<?, ?it/s]"
      ]
     },
     "metadata": {},
     "output_type": "display_data"
    },
    {
     "data": {
      "application/vnd.jupyter.widget-view+json": {
       "model_id": "37e71820564348f69f00374849612ef0",
       "version_major": 2,
       "version_minor": 0
      },
      "text/plain": [
       "  0%|          | 0/4033 [00:00<?, ?it/s]"
      ]
     },
     "metadata": {},
     "output_type": "display_data"
    },
    {
     "data": {
      "application/vnd.jupyter.widget-view+json": {
       "model_id": "f945dc9fba49426c86d8955f7d17510f",
       "version_major": 2,
       "version_minor": 0
      },
      "text/plain": [
       "  0%|          | 0/4033 [00:00<?, ?it/s]"
      ]
     },
     "metadata": {},
     "output_type": "display_data"
    },
    {
     "name": "stderr",
     "output_type": "stream",
     "text": [
      "[I 2024-01-30 17:44:53,286] Trial 41 finished with value: 0.9149600863456726 and parameters: {'sampler': False, 'batch_size': 32, 'epochs': 3, 'lr': 0.0002512959677257571, 'gamma': 2, 'weight': False, 'n_layers': 2, 'n_units_l0': 23, 'dr': 0.30000000000000004, 'n_units_l1': 357}. Best is trial 13 with value: 0.9164955615997314.\n"
     ]
    },
    {
     "data": {
      "application/vnd.jupyter.widget-view+json": {
       "model_id": "4d7610663b2244d4abdcb8589d8dbf38",
       "version_major": 2,
       "version_minor": 0
      },
      "text/plain": [
       "  0%|          | 0/4033 [00:00<?, ?it/s]"
      ]
     },
     "metadata": {},
     "output_type": "display_data"
    },
    {
     "data": {
      "application/vnd.jupyter.widget-view+json": {
       "model_id": "f6090cdaa5874af8aab0af69751a6a1c",
       "version_major": 2,
       "version_minor": 0
      },
      "text/plain": [
       "  0%|          | 0/4033 [00:00<?, ?it/s]"
      ]
     },
     "metadata": {},
     "output_type": "display_data"
    },
    {
     "data": {
      "application/vnd.jupyter.widget-view+json": {
       "model_id": "305bf40ad8ef473582ad7248390965cb",
       "version_major": 2,
       "version_minor": 0
      },
      "text/plain": [
       "  0%|          | 0/4033 [00:00<?, ?it/s]"
      ]
     },
     "metadata": {},
     "output_type": "display_data"
    },
    {
     "name": "stderr",
     "output_type": "stream",
     "text": [
      "[I 2024-01-30 17:45:28,755] Trial 42 finished with value: 0.9167240262031555 and parameters: {'sampler': False, 'batch_size': 32, 'epochs': 3, 'lr': 0.00020385460331924884, 'gamma': 2, 'weight': False, 'n_layers': 2, 'n_units_l0': 11, 'dr': 0.30000000000000004, 'n_units_l1': 212}. Best is trial 42 with value: 0.9167240262031555.\n"
     ]
    },
    {
     "data": {
      "application/vnd.jupyter.widget-view+json": {
       "model_id": "9dbc338ba0154a679c97abedac1b986b",
       "version_major": 2,
       "version_minor": 0
      },
      "text/plain": [
       "  0%|          | 0/4033 [00:00<?, ?it/s]"
      ]
     },
     "metadata": {},
     "output_type": "display_data"
    },
    {
     "data": {
      "application/vnd.jupyter.widget-view+json": {
       "model_id": "3bebf89798ec440ab9cd6847ff15ddb1",
       "version_major": 2,
       "version_minor": 0
      },
      "text/plain": [
       "  0%|          | 0/4033 [00:00<?, ?it/s]"
      ]
     },
     "metadata": {},
     "output_type": "display_data"
    },
    {
     "data": {
      "application/vnd.jupyter.widget-view+json": {
       "model_id": "548dd7b3443441919cca889261a87228",
       "version_major": 2,
       "version_minor": 0
      },
      "text/plain": [
       "  0%|          | 0/4033 [00:00<?, ?it/s]"
      ]
     },
     "metadata": {},
     "output_type": "display_data"
    },
    {
     "name": "stderr",
     "output_type": "stream",
     "text": [
      "[I 2024-01-30 17:46:03,962] Trial 43 finished with value: 0.9137336015701294 and parameters: {'sampler': False, 'batch_size': 32, 'epochs': 3, 'lr': 0.00013326300327092116, 'gamma': 2, 'weight': False, 'n_layers': 2, 'n_units_l0': 11, 'dr': 0.4, 'n_units_l1': 224}. Best is trial 42 with value: 0.9167240262031555.\n"
     ]
    },
    {
     "data": {
      "application/vnd.jupyter.widget-view+json": {
       "model_id": "b285ab26e7ad46aea23aea768f9434e6",
       "version_major": 2,
       "version_minor": 0
      },
      "text/plain": [
       "  0%|          | 0/4033 [00:00<?, ?it/s]"
      ]
     },
     "metadata": {},
     "output_type": "display_data"
    },
    {
     "data": {
      "application/vnd.jupyter.widget-view+json": {
       "model_id": "15eef3d32d7e43b3bd0bddd79419801f",
       "version_major": 2,
       "version_minor": 0
      },
      "text/plain": [
       "  0%|          | 0/4033 [00:00<?, ?it/s]"
      ]
     },
     "metadata": {},
     "output_type": "display_data"
    },
    {
     "data": {
      "application/vnd.jupyter.widget-view+json": {
       "model_id": "671f859d8c374c5faa2b7a6cc05a89e1",
       "version_major": 2,
       "version_minor": 0
      },
      "text/plain": [
       "  0%|          | 0/4033 [00:00<?, ?it/s]"
      ]
     },
     "metadata": {},
     "output_type": "display_data"
    },
    {
     "name": "stderr",
     "output_type": "stream",
     "text": [
      "[I 2024-01-30 17:46:39,086] Trial 44 finished with value: 0.8987618684768677 and parameters: {'sampler': False, 'batch_size': 32, 'epochs': 3, 'lr': 0.00018249415861694174, 'gamma': 2, 'weight': False, 'n_layers': 2, 'n_units_l0': 5, 'dr': 0.30000000000000004, 'n_units_l1': 221}. Best is trial 42 with value: 0.9167240262031555.\n"
     ]
    },
    {
     "data": {
      "application/vnd.jupyter.widget-view+json": {
       "model_id": "67cffb9b004f4e168710a7ca4e487d26",
       "version_major": 2,
       "version_minor": 0
      },
      "text/plain": [
       "  0%|          | 0/4033 [00:00<?, ?it/s]"
      ]
     },
     "metadata": {},
     "output_type": "display_data"
    },
    {
     "data": {
      "application/vnd.jupyter.widget-view+json": {
       "model_id": "6d97a469dcf64e7a9dd0f6ce5cbf9247",
       "version_major": 2,
       "version_minor": 0
      },
      "text/plain": [
       "  0%|          | 0/4033 [00:00<?, ?it/s]"
      ]
     },
     "metadata": {},
     "output_type": "display_data"
    },
    {
     "data": {
      "application/vnd.jupyter.widget-view+json": {
       "model_id": "1acd7e784f0142fa91b9a155fcc7b429",
       "version_major": 2,
       "version_minor": 0
      },
      "text/plain": [
       "  0%|          | 0/4033 [00:00<?, ?it/s]"
      ]
     },
     "metadata": {},
     "output_type": "display_data"
    },
    {
     "name": "stderr",
     "output_type": "stream",
     "text": [
      "[I 2024-01-30 17:47:14,313] Trial 45 finished with value: 0.9188078045845032 and parameters: {'sampler': False, 'batch_size': 32, 'epochs': 3, 'lr': 0.0004087610961598795, 'gamma': 2, 'weight': False, 'n_layers': 2, 'n_units_l0': 10, 'dr': 0.30000000000000004, 'n_units_l1': 29}. Best is trial 45 with value: 0.9188078045845032.\n"
     ]
    },
    {
     "data": {
      "application/vnd.jupyter.widget-view+json": {
       "model_id": "2fef89e33fa54e0087ef845e9c924727",
       "version_major": 2,
       "version_minor": 0
      },
      "text/plain": [
       "  0%|          | 0/4033 [00:00<?, ?it/s]"
      ]
     },
     "metadata": {},
     "output_type": "display_data"
    },
    {
     "data": {
      "application/vnd.jupyter.widget-view+json": {
       "model_id": "653f7b656aa941388b8bfdf8bc764bbc",
       "version_major": 2,
       "version_minor": 0
      },
      "text/plain": [
       "  0%|          | 0/4033 [00:00<?, ?it/s]"
      ]
     },
     "metadata": {},
     "output_type": "display_data"
    },
    {
     "name": "stderr",
     "output_type": "stream",
     "text": [
      "[I 2024-01-30 17:47:37,763] Trial 46 finished with value: 0.9097902178764343 and parameters: {'sampler': False, 'batch_size': 32, 'epochs': 2, 'lr': 9.75501363996771e-05, 'gamma': 2, 'weight': False, 'n_layers': 2, 'n_units_l0': 9, 'dr': 0.30000000000000004, 'n_units_l1': 20}. Best is trial 45 with value: 0.9188078045845032.\n"
     ]
    },
    {
     "data": {
      "application/vnd.jupyter.widget-view+json": {
       "model_id": "928fdba7ccef41c5927b93b5dbb193d7",
       "version_major": 2,
       "version_minor": 0
      },
      "text/plain": [
       "  0%|          | 0/4033 [00:00<?, ?it/s]"
      ]
     },
     "metadata": {},
     "output_type": "display_data"
    },
    {
     "data": {
      "application/vnd.jupyter.widget-view+json": {
       "model_id": "cadfd58c0c1f465eae561b2ad3127f9c",
       "version_major": 2,
       "version_minor": 0
      },
      "text/plain": [
       "  0%|          | 0/4033 [00:00<?, ?it/s]"
      ]
     },
     "metadata": {},
     "output_type": "display_data"
    },
    {
     "data": {
      "application/vnd.jupyter.widget-view+json": {
       "model_id": "161aff9c39cb47fda39f871a84997580",
       "version_major": 2,
       "version_minor": 0
      },
      "text/plain": [
       "  0%|          | 0/4033 [00:00<?, ?it/s]"
      ]
     },
     "metadata": {},
     "output_type": "display_data"
    },
    {
     "name": "stderr",
     "output_type": "stream",
     "text": [
      "[I 2024-01-30 17:48:14,890] Trial 47 finished with value: 0.8639951348304749 and parameters: {'sampler': True, 'batch_size': 32, 'epochs': 3, 'lr': 0.0004100609900092669, 'gamma': 2, 'weight': False, 'n_layers': 2, 'n_units_l0': 10, 'dr': 0.4, 'n_units_l1': 29}. Best is trial 45 with value: 0.9188078045845032.\n"
     ]
    },
    {
     "data": {
      "application/vnd.jupyter.widget-view+json": {
       "model_id": "5b07e9a23ec5486294c4bef707ac67bc",
       "version_major": 2,
       "version_minor": 0
      },
      "text/plain": [
       "  0%|          | 0/4033 [00:00<?, ?it/s]"
      ]
     },
     "metadata": {},
     "output_type": "display_data"
    },
    {
     "data": {
      "application/vnd.jupyter.widget-view+json": {
       "model_id": "9d7a3e43e1714b90b6df1ee5aa2c6767",
       "version_major": 2,
       "version_minor": 0
      },
      "text/plain": [
       "  0%|          | 0/4033 [00:00<?, ?it/s]"
      ]
     },
     "metadata": {},
     "output_type": "display_data"
    },
    {
     "data": {
      "application/vnd.jupyter.widget-view+json": {
       "model_id": "6fe1b47529964a62ac6219e1d7028525",
       "version_major": 2,
       "version_minor": 0
      },
      "text/plain": [
       "  0%|          | 0/4033 [00:00<?, ?it/s]"
      ]
     },
     "metadata": {},
     "output_type": "display_data"
    },
    {
     "name": "stderr",
     "output_type": "stream",
     "text": [
      "[I 2024-01-30 17:48:46,346] Trial 48 finished with value: 0.910620391368866 and parameters: {'sampler': False, 'batch_size': 32, 'epochs': 3, 'lr': 0.00021713592557178404, 'gamma': 2, 'weight': False, 'n_layers': 1, 'n_units_l0': 7, 'dr': 0.30000000000000004}. Best is trial 45 with value: 0.9188078045845032.\n"
     ]
    },
    {
     "data": {
      "application/vnd.jupyter.widget-view+json": {
       "model_id": "6d92e66faef649d788fbe8218e53249a",
       "version_major": 2,
       "version_minor": 0
      },
      "text/plain": [
       "  0%|          | 0/16129 [00:00<?, ?it/s]"
      ]
     },
     "metadata": {},
     "output_type": "display_data"
    },
    {
     "data": {
      "application/vnd.jupyter.widget-view+json": {
       "model_id": "f4b600d512394f9781068704fc88771b",
       "version_major": 2,
       "version_minor": 0
      },
      "text/plain": [
       "  0%|          | 0/16129 [00:00<?, ?it/s]"
      ]
     },
     "metadata": {},
     "output_type": "display_data"
    },
    {
     "data": {
      "application/vnd.jupyter.widget-view+json": {
       "model_id": "f68964aa6eff4299bfdbc522070eedbc",
       "version_major": 2,
       "version_minor": 0
      },
      "text/plain": [
       "  0%|          | 0/16129 [00:00<?, ?it/s]"
      ]
     },
     "metadata": {},
     "output_type": "display_data"
    },
    {
     "name": "stderr",
     "output_type": "stream",
     "text": [
      "[I 2024-01-30 17:50:45,279] Trial 49 finished with value: 0.9122807383537292 and parameters: {'sampler': False, 'batch_size': 8, 'epochs': 3, 'lr': 0.00048276688208396564, 'gamma': 2, 'weight': False, 'n_layers': 2, 'n_units_l0': 16, 'dr': 0.4, 'n_units_l1': 14}. Best is trial 45 with value: 0.9188078045845032.\n"
     ]
    },
    {
     "data": {
      "application/vnd.jupyter.widget-view+json": {
       "model_id": "fe362bb4958c4c8eaf13716bef66859e",
       "version_major": 2,
       "version_minor": 0
      },
      "text/plain": [
       "  0%|          | 0/4033 [00:00<?, ?it/s]"
      ]
     },
     "metadata": {},
     "output_type": "display_data"
    },
    {
     "data": {
      "application/vnd.jupyter.widget-view+json": {
       "model_id": "7142897a07d44e8fb58e853b5fa991b3",
       "version_major": 2,
       "version_minor": 0
      },
      "text/plain": [
       "  0%|          | 0/4033 [00:00<?, ?it/s]"
      ]
     },
     "metadata": {},
     "output_type": "display_data"
    },
    {
     "data": {
      "application/vnd.jupyter.widget-view+json": {
       "model_id": "cc051f3697034fd8b00705791ac43846",
       "version_major": 2,
       "version_minor": 0
      },
      "text/plain": [
       "  0%|          | 0/4033 [00:00<?, ?it/s]"
      ]
     },
     "metadata": {},
     "output_type": "display_data"
    },
    {
     "name": "stderr",
     "output_type": "stream",
     "text": [
      "[I 2024-01-30 17:51:20,394] Trial 50 finished with value: 0.9052251577377319 and parameters: {'sampler': False, 'batch_size': 32, 'epochs': 3, 'lr': 0.00013754391086636831, 'gamma': 2, 'weight': False, 'n_layers': 2, 'n_units_l0': 5, 'dr': 0.30000000000000004, 'n_units_l1': 88}. Best is trial 45 with value: 0.9188078045845032.\n"
     ]
    },
    {
     "data": {
      "application/vnd.jupyter.widget-view+json": {
       "model_id": "f84741abc336416099b895e4d5c88444",
       "version_major": 2,
       "version_minor": 0
      },
      "text/plain": [
       "  0%|          | 0/4033 [00:00<?, ?it/s]"
      ]
     },
     "metadata": {},
     "output_type": "display_data"
    },
    {
     "data": {
      "application/vnd.jupyter.widget-view+json": {
       "model_id": "81bed2c9bba64d19aac4ce4c71a5325b",
       "version_major": 2,
       "version_minor": 0
      },
      "text/plain": [
       "  0%|          | 0/4033 [00:00<?, ?it/s]"
      ]
     },
     "metadata": {},
     "output_type": "display_data"
    },
    {
     "data": {
      "application/vnd.jupyter.widget-view+json": {
       "model_id": "dd458c94f2b24b57b75e4c3f2e377e77",
       "version_major": 2,
       "version_minor": 0
      },
      "text/plain": [
       "  0%|          | 0/4033 [00:00<?, ?it/s]"
      ]
     },
     "metadata": {},
     "output_type": "display_data"
    },
    {
     "name": "stderr",
     "output_type": "stream",
     "text": [
      "[I 2024-01-30 17:51:55,720] Trial 51 finished with value: 0.9157458543777466 and parameters: {'sampler': False, 'batch_size': 32, 'epochs': 3, 'lr': 0.0003141988390241091, 'gamma': 1, 'weight': False, 'n_layers': 2, 'n_units_l0': 19, 'dr': 0.30000000000000004, 'n_units_l1': 137}. Best is trial 45 with value: 0.9188078045845032.\n"
     ]
    },
    {
     "data": {
      "application/vnd.jupyter.widget-view+json": {
       "model_id": "a2270725bdc845e69648ae22ee3dfe8c",
       "version_major": 2,
       "version_minor": 0
      },
      "text/plain": [
       "  0%|          | 0/4033 [00:00<?, ?it/s]"
      ]
     },
     "metadata": {},
     "output_type": "display_data"
    },
    {
     "data": {
      "application/vnd.jupyter.widget-view+json": {
       "model_id": "24cb9dd89b2c479e902a7301496f7ebb",
       "version_major": 2,
       "version_minor": 0
      },
      "text/plain": [
       "  0%|          | 0/4033 [00:00<?, ?it/s]"
      ]
     },
     "metadata": {},
     "output_type": "display_data"
    },
    {
     "data": {
      "application/vnd.jupyter.widget-view+json": {
       "model_id": "6814eb2e94d442828595add90242fa8c",
       "version_major": 2,
       "version_minor": 0
      },
      "text/plain": [
       "  0%|          | 0/4033 [00:00<?, ?it/s]"
      ]
     },
     "metadata": {},
     "output_type": "display_data"
    },
    {
     "name": "stderr",
     "output_type": "stream",
     "text": [
      "[I 2024-01-30 17:52:31,188] Trial 52 finished with value: 0.915032684803009 and parameters: {'sampler': False, 'batch_size': 32, 'epochs': 3, 'lr': 0.00041731682596816267, 'gamma': 2, 'weight': False, 'n_layers': 2, 'n_units_l0': 479, 'dr': 0.30000000000000004, 'n_units_l1': 29}. Best is trial 45 with value: 0.9188078045845032.\n"
     ]
    },
    {
     "data": {
      "application/vnd.jupyter.widget-view+json": {
       "model_id": "39d7a6352a9c4c4d999a2c85a33576b8",
       "version_major": 2,
       "version_minor": 0
      },
      "text/plain": [
       "  0%|          | 0/4033 [00:00<?, ?it/s]"
      ]
     },
     "metadata": {},
     "output_type": "display_data"
    },
    {
     "data": {
      "application/vnd.jupyter.widget-view+json": {
       "model_id": "d4f2367b51fb4177b3c6cf2fac9cfbbc",
       "version_major": 2,
       "version_minor": 0
      },
      "text/plain": [
       "  0%|          | 0/4033 [00:00<?, ?it/s]"
      ]
     },
     "metadata": {},
     "output_type": "display_data"
    },
    {
     "data": {
      "application/vnd.jupyter.widget-view+json": {
       "model_id": "7d2d9d4330ad49ceb5c109e17e1e5878",
       "version_major": 2,
       "version_minor": 0
      },
      "text/plain": [
       "  0%|          | 0/4033 [00:00<?, ?it/s]"
      ]
     },
     "metadata": {},
     "output_type": "display_data"
    },
    {
     "name": "stderr",
     "output_type": "stream",
     "text": [
      "[I 2024-01-30 17:53:02,586] Trial 53 finished with value: 0.9132867455482483 and parameters: {'sampler': False, 'batch_size': 32, 'epochs': 3, 'lr': 0.00030733152004049834, 'gamma': 2, 'weight': False, 'n_layers': 1, 'n_units_l0': 7, 'dr': 0.2}. Best is trial 45 with value: 0.9188078045845032.\n"
     ]
    },
    {
     "data": {
      "application/vnd.jupyter.widget-view+json": {
       "model_id": "1dd592f2e01044b68ccf18f1484be65e",
       "version_major": 2,
       "version_minor": 0
      },
      "text/plain": [
       "  0%|          | 0/16129 [00:00<?, ?it/s]"
      ]
     },
     "metadata": {},
     "output_type": "display_data"
    },
    {
     "data": {
      "application/vnd.jupyter.widget-view+json": {
       "model_id": "22eac6bd77174e6dab562f5fee923163",
       "version_major": 2,
       "version_minor": 0
      },
      "text/plain": [
       "  0%|          | 0/16129 [00:00<?, ?it/s]"
      ]
     },
     "metadata": {},
     "output_type": "display_data"
    },
    {
     "data": {
      "application/vnd.jupyter.widget-view+json": {
       "model_id": "a4344a0d419c4879bcd08b034a2cda8d",
       "version_major": 2,
       "version_minor": 0
      },
      "text/plain": [
       "  0%|          | 0/16129 [00:00<?, ?it/s]"
      ]
     },
     "metadata": {},
     "output_type": "display_data"
    },
    {
     "name": "stderr",
     "output_type": "stream",
     "text": [
      "[I 2024-01-30 17:55:01,067] Trial 54 finished with value: 0.9169526696205139 and parameters: {'sampler': False, 'batch_size': 8, 'epochs': 3, 'lr': 0.00022528157668617727, 'gamma': 0, 'weight': False, 'n_layers': 2, 'n_units_l0': 311, 'dr': 0.30000000000000004, 'n_units_l1': 387}. Best is trial 45 with value: 0.9188078045845032.\n"
     ]
    },
    {
     "data": {
      "application/vnd.jupyter.widget-view+json": {
       "model_id": "9da8e15ded99455cac9870cd7063eb3a",
       "version_major": 2,
       "version_minor": 0
      },
      "text/plain": [
       "  0%|          | 0/16129 [00:00<?, ?it/s]"
      ]
     },
     "metadata": {},
     "output_type": "display_data"
    },
    {
     "data": {
      "application/vnd.jupyter.widget-view+json": {
       "model_id": "5767f2c6ed0d47c68202cf59270c6bf4",
       "version_major": 2,
       "version_minor": 0
      },
      "text/plain": [
       "  0%|          | 0/16129 [00:00<?, ?it/s]"
      ]
     },
     "metadata": {},
     "output_type": "display_data"
    },
    {
     "data": {
      "application/vnd.jupyter.widget-view+json": {
       "model_id": "7e4f8261d7f94d4186d0d74fcae050a1",
       "version_major": 2,
       "version_minor": 0
      },
      "text/plain": [
       "  0%|          | 0/16129 [00:00<?, ?it/s]"
      ]
     },
     "metadata": {},
     "output_type": "display_data"
    },
    {
     "name": "stderr",
     "output_type": "stream",
     "text": [
      "[I 2024-01-30 17:56:59,859] Trial 55 finished with value: 0.9159068465232849 and parameters: {'sampler': False, 'batch_size': 8, 'epochs': 3, 'lr': 0.00017547115647366084, 'gamma': 0, 'weight': True, 'n_layers': 2, 'n_units_l0': 289, 'dr': 0.30000000000000004, 'n_units_l1': 381}. Best is trial 45 with value: 0.9188078045845032.\n"
     ]
    },
    {
     "data": {
      "application/vnd.jupyter.widget-view+json": {
       "model_id": "347fd64de5db4499993591328d2feab6",
       "version_major": 2,
       "version_minor": 0
      },
      "text/plain": [
       "  0%|          | 0/16129 [00:00<?, ?it/s]"
      ]
     },
     "metadata": {},
     "output_type": "display_data"
    },
    {
     "data": {
      "application/vnd.jupyter.widget-view+json": {
       "model_id": "6c326f577eef4547bd51e4501239022f",
       "version_major": 2,
       "version_minor": 0
      },
      "text/plain": [
       "  0%|          | 0/16129 [00:00<?, ?it/s]"
      ]
     },
     "metadata": {},
     "output_type": "display_data"
    },
    {
     "data": {
      "application/vnd.jupyter.widget-view+json": {
       "model_id": "c08f155bdfb44b7b9dad71d733705949",
       "version_major": 2,
       "version_minor": 0
      },
      "text/plain": [
       "  0%|          | 0/16129 [00:00<?, ?it/s]"
      ]
     },
     "metadata": {},
     "output_type": "display_data"
    },
    {
     "name": "stderr",
     "output_type": "stream",
     "text": [
      "[I 2024-01-30 17:58:58,457] Trial 56 finished with value: 0.9162357449531555 and parameters: {'sampler': False, 'batch_size': 8, 'epochs': 3, 'lr': 0.00010664307416384648, 'gamma': 0, 'weight': False, 'n_layers': 2, 'n_units_l0': 212, 'dr': 0.4, 'n_units_l1': 267}. Best is trial 45 with value: 0.9188078045845032.\n"
     ]
    },
    {
     "data": {
      "application/vnd.jupyter.widget-view+json": {
       "model_id": "8f96c0eb687a4843b67e8055498f980d",
       "version_major": 2,
       "version_minor": 0
      },
      "text/plain": [
       "  0%|          | 0/16129 [00:00<?, ?it/s]"
      ]
     },
     "metadata": {},
     "output_type": "display_data"
    },
    {
     "data": {
      "application/vnd.jupyter.widget-view+json": {
       "model_id": "d9cefed3b42c43089479241ce8512204",
       "version_major": 2,
       "version_minor": 0
      },
      "text/plain": [
       "  0%|          | 0/16129 [00:00<?, ?it/s]"
      ]
     },
     "metadata": {},
     "output_type": "display_data"
    },
    {
     "name": "stderr",
     "output_type": "stream",
     "text": [
      "[I 2024-01-30 18:00:16,753] Trial 57 finished with value: 0.9126682877540588 and parameters: {'sampler': False, 'batch_size': 8, 'epochs': 2, 'lr': 7.290028817203625e-05, 'gamma': 0, 'weight': False, 'n_layers': 2, 'n_units_l0': 13, 'dr': 0.30000000000000004, 'n_units_l1': 10}. Best is trial 45 with value: 0.9188078045845032.\n"
     ]
    },
    {
     "data": {
      "application/vnd.jupyter.widget-view+json": {
       "model_id": "3515aa31b4c54d08afa0f91365f42507",
       "version_major": 2,
       "version_minor": 0
      },
      "text/plain": [
       "  0%|          | 0/16129 [00:00<?, ?it/s]"
      ]
     },
     "metadata": {},
     "output_type": "display_data"
    },
    {
     "data": {
      "application/vnd.jupyter.widget-view+json": {
       "model_id": "56c2c34e007c4e5b9626a92fc596395d",
       "version_major": 2,
       "version_minor": 0
      },
      "text/plain": [
       "  0%|          | 0/16129 [00:00<?, ?it/s]"
      ]
     },
     "metadata": {},
     "output_type": "display_data"
    },
    {
     "data": {
      "application/vnd.jupyter.widget-view+json": {
       "model_id": "18d6f28711bb4945a02d47fdf4983a36",
       "version_major": 2,
       "version_minor": 0
      },
      "text/plain": [
       "  0%|          | 0/16129 [00:00<?, ?it/s]"
      ]
     },
     "metadata": {},
     "output_type": "display_data"
    },
    {
     "name": "stderr",
     "output_type": "stream",
     "text": [
      "[I 2024-01-30 18:02:17,127] Trial 58 finished with value: 0.8847236037254333 and parameters: {'sampler': True, 'batch_size': 8, 'epochs': 3, 'lr': 0.00022641917711767193, 'gamma': 0, 'weight': False, 'n_layers': 2, 'n_units_l0': 8, 'dr': 0.30000000000000004, 'n_units_l1': 372}. Best is trial 45 with value: 0.9188078045845032.\n"
     ]
    },
    {
     "data": {
      "application/vnd.jupyter.widget-view+json": {
       "model_id": "eaa7d6f0ec2548e991464f0473ee6da6",
       "version_major": 2,
       "version_minor": 0
      },
      "text/plain": [
       "  0%|          | 0/16129 [00:00<?, ?it/s]"
      ]
     },
     "metadata": {},
     "output_type": "display_data"
    },
    {
     "data": {
      "application/vnd.jupyter.widget-view+json": {
       "model_id": "6a674e0594b540fa8e1807db26a6fea7",
       "version_major": 2,
       "version_minor": 0
      },
      "text/plain": [
       "  0%|          | 0/16129 [00:00<?, ?it/s]"
      ]
     },
     "metadata": {},
     "output_type": "display_data"
    },
    {
     "data": {
      "application/vnd.jupyter.widget-view+json": {
       "model_id": "f70630be6a054469957c4f3a3b6d1176",
       "version_major": 2,
       "version_minor": 0
      },
      "text/plain": [
       "  0%|          | 0/16129 [00:00<?, ?it/s]"
      ]
     },
     "metadata": {},
     "output_type": "display_data"
    },
    {
     "name": "stderr",
     "output_type": "stream",
     "text": [
      "[I 2024-01-30 18:04:15,474] Trial 59 finished with value: 0.9153689742088318 and parameters: {'sampler': False, 'batch_size': 8, 'epochs': 3, 'lr': 4.346912447021386e-05, 'gamma': 0, 'weight': True, 'n_layers': 2, 'n_units_l0': 119, 'dr': 0.4, 'n_units_l1': 186}. Best is trial 45 with value: 0.9188078045845032.\n"
     ]
    },
    {
     "data": {
      "application/vnd.jupyter.widget-view+json": {
       "model_id": "ed054a73a1824f0a8c5ccdfed454205e",
       "version_major": 2,
       "version_minor": 0
      },
      "text/plain": [
       "  0%|          | 0/16129 [00:00<?, ?it/s]"
      ]
     },
     "metadata": {},
     "output_type": "display_data"
    },
    {
     "data": {
      "application/vnd.jupyter.widget-view+json": {
       "model_id": "8c5f8acaa90d45639955d4757bec0df2",
       "version_major": 2,
       "version_minor": 0
      },
      "text/plain": [
       "  0%|          | 0/16129 [00:00<?, ?it/s]"
      ]
     },
     "metadata": {},
     "output_type": "display_data"
    },
    {
     "data": {
      "application/vnd.jupyter.widget-view+json": {
       "model_id": "ebb4c6cbce9c44eca17497fd590babba",
       "version_major": 2,
       "version_minor": 0
      },
      "text/plain": [
       "  0%|          | 0/16129 [00:00<?, ?it/s]"
      ]
     },
     "metadata": {},
     "output_type": "display_data"
    },
    {
     "name": "stderr",
     "output_type": "stream",
     "text": [
      "[I 2024-01-30 18:06:15,173] Trial 60 finished with value: 0.0 and parameters: {'sampler': False, 'batch_size': 8, 'epochs': 3, 'lr': 0.0001564821870569539, 'gamma': 1, 'weight': False, 'n_layers': 2, 'n_units_l0': 5, 'dr': 0.5, 'n_units_l1': 406}. Best is trial 45 with value: 0.9188078045845032.\n"
     ]
    },
    {
     "data": {
      "application/vnd.jupyter.widget-view+json": {
       "model_id": "508eb324b0b145198297de47b54fb73e",
       "version_major": 2,
       "version_minor": 0
      },
      "text/plain": [
       "  0%|          | 0/4033 [00:00<?, ?it/s]"
      ]
     },
     "metadata": {},
     "output_type": "display_data"
    },
    {
     "data": {
      "application/vnd.jupyter.widget-view+json": {
       "model_id": "d7684123b8b542349fa56da620574333",
       "version_major": 2,
       "version_minor": 0
      },
      "text/plain": [
       "  0%|          | 0/4033 [00:00<?, ?it/s]"
      ]
     },
     "metadata": {},
     "output_type": "display_data"
    },
    {
     "data": {
      "application/vnd.jupyter.widget-view+json": {
       "model_id": "6c8dba5ee0864319aae0f4e132252f38",
       "version_major": 2,
       "version_minor": 0
      },
      "text/plain": [
       "  0%|          | 0/4033 [00:00<?, ?it/s]"
      ]
     },
     "metadata": {},
     "output_type": "display_data"
    },
    {
     "name": "stderr",
     "output_type": "stream",
     "text": [
      "[I 2024-01-30 18:06:50,556] Trial 61 finished with value: 0.9150190949440002 and parameters: {'sampler': False, 'batch_size': 32, 'epochs': 3, 'lr': 0.00037227559061817707, 'gamma': 2, 'weight': False, 'n_layers': 2, 'n_units_l0': 59, 'dr': 0.30000000000000004, 'n_units_l1': 31}. Best is trial 45 with value: 0.9188078045845032.\n"
     ]
    },
    {
     "data": {
      "application/vnd.jupyter.widget-view+json": {
       "model_id": "6c7a933fdea746868c2988934cd700cc",
       "version_major": 2,
       "version_minor": 0
      },
      "text/plain": [
       "  0%|          | 0/4033 [00:00<?, ?it/s]"
      ]
     },
     "metadata": {},
     "output_type": "display_data"
    },
    {
     "data": {
      "application/vnd.jupyter.widget-view+json": {
       "model_id": "7d640e29d3d0464cae82f1c66f60ec6d",
       "version_major": 2,
       "version_minor": 0
      },
      "text/plain": [
       "  0%|          | 0/4033 [00:00<?, ?it/s]"
      ]
     },
     "metadata": {},
     "output_type": "display_data"
    },
    {
     "data": {
      "application/vnd.jupyter.widget-view+json": {
       "model_id": "59ef5c8e0d294df5856f97b2293c4288",
       "version_major": 2,
       "version_minor": 0
      },
      "text/plain": [
       "  0%|          | 0/4033 [00:00<?, ?it/s]"
      ]
     },
     "metadata": {},
     "output_type": "display_data"
    },
    {
     "name": "stderr",
     "output_type": "stream",
     "text": [
      "[I 2024-01-30 18:07:29,813] Trial 62 finished with value: 0.18450044095516205 and parameters: {'sampler': False, 'batch_size': 32, 'epochs': 3, 'lr': 0.00028229306008168873, 'gamma': 0.5, 'weight': False, 'n_layers': 3, 'n_units_l0': 39, 'dr': 0.2, 'n_units_l1': 51, 'n_units_l2': 7}. Best is trial 45 with value: 0.9188078045845032.\n"
     ]
    },
    {
     "data": {
      "application/vnd.jupyter.widget-view+json": {
       "model_id": "5de5ae7b43ab4ab0b646a810a9ff8645",
       "version_major": 2,
       "version_minor": 0
      },
      "text/plain": [
       "  0%|          | 0/16129 [00:00<?, ?it/s]"
      ]
     },
     "metadata": {},
     "output_type": "display_data"
    },
    {
     "data": {
      "application/vnd.jupyter.widget-view+json": {
       "model_id": "a9aaffc000f944bf84e7c43bcf01ec9f",
       "version_major": 2,
       "version_minor": 0
      },
      "text/plain": [
       "  0%|          | 0/16129 [00:00<?, ?it/s]"
      ]
     },
     "metadata": {},
     "output_type": "display_data"
    },
    {
     "data": {
      "application/vnd.jupyter.widget-view+json": {
       "model_id": "47dab89f73084081b7e0a1098e948ddc",
       "version_major": 2,
       "version_minor": 0
      },
      "text/plain": [
       "  0%|          | 0/16129 [00:00<?, ?it/s]"
      ]
     },
     "metadata": {},
     "output_type": "display_data"
    },
    {
     "name": "stderr",
     "output_type": "stream",
     "text": [
      "[I 2024-01-30 18:09:27,408] Trial 63 finished with value: 0.9142266511917114 and parameters: {'sampler': False, 'batch_size': 8, 'epochs': 3, 'lr': 1.1824587272615523e-05, 'gamma': 0, 'weight': False, 'n_layers': 2, 'n_units_l0': 11, 'dr': 0.30000000000000004, 'n_units_l1': 20}. Best is trial 45 with value: 0.9188078045845032.\n"
     ]
    },
    {
     "data": {
      "application/vnd.jupyter.widget-view+json": {
       "model_id": "b3d1fff8e77c4ab088b4f9dd7cd8f5ae",
       "version_major": 2,
       "version_minor": 0
      },
      "text/plain": [
       "  0%|          | 0/4033 [00:00<?, ?it/s]"
      ]
     },
     "metadata": {},
     "output_type": "display_data"
    },
    {
     "data": {
      "application/vnd.jupyter.widget-view+json": {
       "model_id": "696e3a71e394445ea01286a4fe730adf",
       "version_major": 2,
       "version_minor": 0
      },
      "text/plain": [
       "  0%|          | 0/4033 [00:00<?, ?it/s]"
      ]
     },
     "metadata": {},
     "output_type": "display_data"
    },
    {
     "data": {
      "application/vnd.jupyter.widget-view+json": {
       "model_id": "604c93f2c7264f04b5476ac5875044b8",
       "version_major": 2,
       "version_minor": 0
      },
      "text/plain": [
       "  0%|          | 0/4033 [00:00<?, ?it/s]"
      ]
     },
     "metadata": {},
     "output_type": "display_data"
    },
    {
     "name": "stderr",
     "output_type": "stream",
     "text": [
      "[I 2024-01-30 18:10:06,740] Trial 64 finished with value: 0.9113214015960693 and parameters: {'sampler': False, 'batch_size': 32, 'epochs': 3, 'lr': 0.0004981110406274823, 'gamma': 2, 'weight': False, 'n_layers': 3, 'n_units_l0': 49, 'dr': 0.2, 'n_units_l1': 275, 'n_units_l2': 20}. Best is trial 45 with value: 0.9188078045845032.\n"
     ]
    },
    {
     "data": {
      "application/vnd.jupyter.widget-view+json": {
       "model_id": "b2f916db134645c78adc2d395a956545",
       "version_major": 2,
       "version_minor": 0
      },
      "text/plain": [
       "  0%|          | 0/4033 [00:00<?, ?it/s]"
      ]
     },
     "metadata": {},
     "output_type": "display_data"
    },
    {
     "data": {
      "application/vnd.jupyter.widget-view+json": {
       "model_id": "441e306b6ed84f7a93d76773d9fd574a",
       "version_major": 2,
       "version_minor": 0
      },
      "text/plain": [
       "  0%|          | 0/4033 [00:00<?, ?it/s]"
      ]
     },
     "metadata": {},
     "output_type": "display_data"
    },
    {
     "data": {
      "application/vnd.jupyter.widget-view+json": {
       "model_id": "cd2e28bb36b24471a3d3569110a260da",
       "version_major": 2,
       "version_minor": 0
      },
      "text/plain": [
       "  0%|          | 0/4033 [00:00<?, ?it/s]"
      ]
     },
     "metadata": {},
     "output_type": "display_data"
    },
    {
     "name": "stderr",
     "output_type": "stream",
     "text": [
      "[I 2024-01-30 18:10:42,063] Trial 65 finished with value: 0.18450044095516205 and parameters: {'sampler': False, 'batch_size': 32, 'epochs': 3, 'lr': 0.00023413799295220005, 'gamma': 0.5, 'weight': False, 'n_layers': 2, 'n_units_l0': 14, 'dr': 0.30000000000000004, 'n_units_l1': 102}. Best is trial 45 with value: 0.9188078045845032.\n"
     ]
    },
    {
     "data": {
      "application/vnd.jupyter.widget-view+json": {
       "model_id": "1ddeef195c544915bbe5546dab89bfd4",
       "version_major": 2,
       "version_minor": 0
      },
      "text/plain": [
       "  0%|          | 0/16129 [00:00<?, ?it/s]"
      ]
     },
     "metadata": {},
     "output_type": "display_data"
    },
    {
     "data": {
      "application/vnd.jupyter.widget-view+json": {
       "model_id": "7d8d679641aa43d888344ba6d36dad70",
       "version_major": 2,
       "version_minor": 0
      },
      "text/plain": [
       "  0%|          | 0/16129 [00:00<?, ?it/s]"
      ]
     },
     "metadata": {},
     "output_type": "display_data"
    },
    {
     "data": {
      "application/vnd.jupyter.widget-view+json": {
       "model_id": "4e48f5ab3ce54a608b990610da01db87",
       "version_major": 2,
       "version_minor": 0
      },
      "text/plain": [
       "  0%|          | 0/16129 [00:00<?, ?it/s]"
      ]
     },
     "metadata": {},
     "output_type": "display_data"
    },
    {
     "name": "stderr",
     "output_type": "stream",
     "text": [
      "[I 2024-01-30 18:12:56,329] Trial 66 finished with value: 0.9166380763053894 and parameters: {'sampler': False, 'batch_size': 8, 'epochs': 3, 'lr': 0.00040235745473632964, 'gamma': 0, 'weight': False, 'n_layers': 3, 'n_units_l0': 17, 'dr': 0.2, 'n_units_l1': 158, 'n_units_l2': 12}. Best is trial 45 with value: 0.9188078045845032.\n"
     ]
    },
    {
     "data": {
      "application/vnd.jupyter.widget-view+json": {
       "model_id": "dd6f5671b8974bd18992d54293118737",
       "version_major": 2,
       "version_minor": 0
      },
      "text/plain": [
       "  0%|          | 0/16129 [00:00<?, ?it/s]"
      ]
     },
     "metadata": {},
     "output_type": "display_data"
    },
    {
     "data": {
      "application/vnd.jupyter.widget-view+json": {
       "model_id": "e8a95327192f40fdb24b60dd93413267",
       "version_major": 2,
       "version_minor": 0
      },
      "text/plain": [
       "  0%|          | 0/16129 [00:00<?, ?it/s]"
      ]
     },
     "metadata": {},
     "output_type": "display_data"
    },
    {
     "data": {
      "application/vnd.jupyter.widget-view+json": {
       "model_id": "fba47c73a94341f68628de78d4ac6f6c",
       "version_major": 2,
       "version_minor": 0
      },
      "text/plain": [
       "  0%|          | 0/16129 [00:00<?, ?it/s]"
      ]
     },
     "metadata": {},
     "output_type": "display_data"
    },
    {
     "name": "stderr",
     "output_type": "stream",
     "text": [
      "[I 2024-01-30 18:15:09,796] Trial 67 finished with value: 0.915687620639801 and parameters: {'sampler': False, 'batch_size': 8, 'epochs': 3, 'lr': 0.0003997071254663578, 'gamma': 0, 'weight': False, 'n_layers': 3, 'n_units_l0': 88, 'dr': 0.30000000000000004, 'n_units_l1': 218, 'n_units_l2': 13}. Best is trial 45 with value: 0.9188078045845032.\n"
     ]
    },
    {
     "data": {
      "application/vnd.jupyter.widget-view+json": {
       "model_id": "082058f178164e9ab7750ab86de73953",
       "version_major": 2,
       "version_minor": 0
      },
      "text/plain": [
       "  0%|          | 0/16129 [00:00<?, ?it/s]"
      ]
     },
     "metadata": {},
     "output_type": "display_data"
    },
    {
     "data": {
      "application/vnd.jupyter.widget-view+json": {
       "model_id": "c1d41618ceb841938aef54bc1df0e3f1",
       "version_major": 2,
       "version_minor": 0
      },
      "text/plain": [
       "  0%|          | 0/16129 [00:00<?, ?it/s]"
      ]
     },
     "metadata": {},
     "output_type": "display_data"
    },
    {
     "data": {
      "application/vnd.jupyter.widget-view+json": {
       "model_id": "3522c18b271b4bffa65443cb059da97f",
       "version_major": 2,
       "version_minor": 0
      },
      "text/plain": [
       "  0%|          | 0/16129 [00:00<?, ?it/s]"
      ]
     },
     "metadata": {},
     "output_type": "display_data"
    },
    {
     "name": "stderr",
     "output_type": "stream",
     "text": [
      "[I 2024-01-30 18:17:07,804] Trial 68 finished with value: 0.9167230725288391 and parameters: {'sampler': False, 'batch_size': 8, 'epochs': 3, 'lr': 0.0002694743128846185, 'gamma': 0, 'weight': True, 'n_layers': 2, 'n_units_l0': 8, 'dr': 0.2, 'n_units_l1': 155}. Best is trial 45 with value: 0.9188078045845032.\n"
     ]
    },
    {
     "data": {
      "application/vnd.jupyter.widget-view+json": {
       "model_id": "5b7db3da3fba4d648bfe429149b73a0a",
       "version_major": 2,
       "version_minor": 0
      },
      "text/plain": [
       "  0%|          | 0/16129 [00:00<?, ?it/s]"
      ]
     },
     "metadata": {},
     "output_type": "display_data"
    },
    {
     "data": {
      "application/vnd.jupyter.widget-view+json": {
       "model_id": "2e75b04916cb409bacc8a5f3ca0b5f08",
       "version_major": 2,
       "version_minor": 0
      },
      "text/plain": [
       "  0%|          | 0/16129 [00:00<?, ?it/s]"
      ]
     },
     "metadata": {},
     "output_type": "display_data"
    },
    {
     "name": "stderr",
     "output_type": "stream",
     "text": [
      "[I 2024-01-30 18:18:36,743] Trial 69 finished with value: 0.9111111760139465 and parameters: {'sampler': False, 'batch_size': 8, 'epochs': 2, 'lr': 5.327963329389659e-06, 'gamma': 0, 'weight': True, 'n_layers': 3, 'n_units_l0': 8, 'dr': 0.2, 'n_units_l1': 176, 'n_units_l2': 7}. Best is trial 45 with value: 0.9188078045845032.\n"
     ]
    },
    {
     "data": {
      "application/vnd.jupyter.widget-view+json": {
       "model_id": "54e4beb6262a484ca1c9cee872d42986",
       "version_major": 2,
       "version_minor": 0
      },
      "text/plain": [
       "  0%|          | 0/16129 [00:00<?, ?it/s]"
      ]
     },
     "metadata": {},
     "output_type": "display_data"
    },
    {
     "data": {
      "application/vnd.jupyter.widget-view+json": {
       "model_id": "985d499a9399454681a78dae720ae5f7",
       "version_major": 2,
       "version_minor": 0
      },
      "text/plain": [
       "  0%|          | 0/16129 [00:00<?, ?it/s]"
      ]
     },
     "metadata": {},
     "output_type": "display_data"
    },
    {
     "data": {
      "application/vnd.jupyter.widget-view+json": {
       "model_id": "1f22a717266c470f8d016559eb18da35",
       "version_major": 2,
       "version_minor": 0
      },
      "text/plain": [
       "  0%|          | 0/16129 [00:00<?, ?it/s]"
      ]
     },
     "metadata": {},
     "output_type": "display_data"
    },
    {
     "name": "stderr",
     "output_type": "stream",
     "text": [
      "[I 2024-01-30 18:20:37,529] Trial 70 finished with value: 0.8294796943664551 and parameters: {'sampler': True, 'batch_size': 8, 'epochs': 3, 'lr': 0.00020574708514348297, 'gamma': 0, 'weight': True, 'n_layers': 2, 'n_units_l0': 6, 'dr': 0.2, 'n_units_l1': 146}. Best is trial 45 with value: 0.9188078045845032.\n"
     ]
    },
    {
     "data": {
      "application/vnd.jupyter.widget-view+json": {
       "model_id": "59b3f561344f49c69ece243983402cc2",
       "version_major": 2,
       "version_minor": 0
      },
      "text/plain": [
       "  0%|          | 0/16129 [00:00<?, ?it/s]"
      ]
     },
     "metadata": {},
     "output_type": "display_data"
    },
    {
     "data": {
      "application/vnd.jupyter.widget-view+json": {
       "model_id": "0d022d4da6d7473cb53b2f420f1d12c1",
       "version_major": 2,
       "version_minor": 0
      },
      "text/plain": [
       "  0%|          | 0/16129 [00:00<?, ?it/s]"
      ]
     },
     "metadata": {},
     "output_type": "display_data"
    },
    {
     "data": {
      "application/vnd.jupyter.widget-view+json": {
       "model_id": "344d2c5472434a6382facd0811fc9a6b",
       "version_major": 2,
       "version_minor": 0
      },
      "text/plain": [
       "  0%|          | 0/16129 [00:00<?, ?it/s]"
      ]
     },
     "metadata": {},
     "output_type": "display_data"
    },
    {
     "name": "stderr",
     "output_type": "stream",
     "text": [
      "[I 2024-01-30 18:22:36,343] Trial 71 finished with value: 0.9163292646408081 and parameters: {'sampler': False, 'batch_size': 8, 'epochs': 3, 'lr': 0.0002833415326016476, 'gamma': 0, 'weight': True, 'n_layers': 2, 'n_units_l0': 10, 'dr': 0.30000000000000004, 'n_units_l1': 294}. Best is trial 45 with value: 0.9188078045845032.\n"
     ]
    },
    {
     "data": {
      "application/vnd.jupyter.widget-view+json": {
       "model_id": "2048fe0b95494c08a9d48fd01ce401e6",
       "version_major": 2,
       "version_minor": 0
      },
      "text/plain": [
       "  0%|          | 0/16129 [00:00<?, ?it/s]"
      ]
     },
     "metadata": {},
     "output_type": "display_data"
    },
    {
     "data": {
      "application/vnd.jupyter.widget-view+json": {
       "model_id": "0330d50c9b8f4dada725e768c0e6e011",
       "version_major": 2,
       "version_minor": 0
      },
      "text/plain": [
       "  0%|          | 0/16129 [00:00<?, ?it/s]"
      ]
     },
     "metadata": {},
     "output_type": "display_data"
    },
    {
     "data": {
      "application/vnd.jupyter.widget-view+json": {
       "model_id": "8ab3c7fbd879407bafe5cca3db2f224c",
       "version_major": 2,
       "version_minor": 0
      },
      "text/plain": [
       "  0%|          | 0/16129 [00:00<?, ?it/s]"
      ]
     },
     "metadata": {},
     "output_type": "display_data"
    },
    {
     "name": "stderr",
     "output_type": "stream",
     "text": [
      "[I 2024-01-30 18:24:34,676] Trial 72 finished with value: 0.9166101813316345 and parameters: {'sampler': False, 'batch_size': 8, 'epochs': 3, 'lr': 8.160648410444822e-05, 'gamma': 0, 'weight': True, 'n_layers': 2, 'n_units_l0': 11, 'dr': 0.2, 'n_units_l1': 111}. Best is trial 45 with value: 0.9188078045845032.\n"
     ]
    },
    {
     "data": {
      "application/vnd.jupyter.widget-view+json": {
       "model_id": "7d5520dba565494eba091bfefc430bd7",
       "version_major": 2,
       "version_minor": 0
      },
      "text/plain": [
       "  0%|          | 0/16129 [00:00<?, ?it/s]"
      ]
     },
     "metadata": {},
     "output_type": "display_data"
    },
    {
     "data": {
      "application/vnd.jupyter.widget-view+json": {
       "model_id": "da1ef3ddf8e64b239ef54764dddc6675",
       "version_major": 2,
       "version_minor": 0
      },
      "text/plain": [
       "  0%|          | 0/16129 [00:00<?, ?it/s]"
      ]
     },
     "metadata": {},
     "output_type": "display_data"
    },
    {
     "data": {
      "application/vnd.jupyter.widget-view+json": {
       "model_id": "d438317ea4624a73a812aa4469bfbe9d",
       "version_major": 2,
       "version_minor": 0
      },
      "text/plain": [
       "  0%|          | 0/16129 [00:00<?, ?it/s]"
      ]
     },
     "metadata": {},
     "output_type": "display_data"
    },
    {
     "name": "stderr",
     "output_type": "stream",
     "text": [
      "[I 2024-01-30 18:26:32,708] Trial 73 finished with value: 0.9155405759811401 and parameters: {'sampler': False, 'batch_size': 8, 'epochs': 3, 'lr': 8.003601339628054e-05, 'gamma': 0, 'weight': True, 'n_layers': 2, 'n_units_l0': 8, 'dr': 0.2, 'n_units_l1': 111}. Best is trial 45 with value: 0.9188078045845032.\n"
     ]
    },
    {
     "data": {
      "application/vnd.jupyter.widget-view+json": {
       "model_id": "1a2f8df2d78d4e5f9e3994c9e4378a61",
       "version_major": 2,
       "version_minor": 0
      },
      "text/plain": [
       "  0%|          | 0/16129 [00:00<?, ?it/s]"
      ]
     },
     "metadata": {},
     "output_type": "display_data"
    },
    {
     "data": {
      "application/vnd.jupyter.widget-view+json": {
       "model_id": "49224f067de248d3be6c52a7dc0d7820",
       "version_major": 2,
       "version_minor": 0
      },
      "text/plain": [
       "  0%|          | 0/16129 [00:00<?, ?it/s]"
      ]
     },
     "metadata": {},
     "output_type": "display_data"
    },
    {
     "data": {
      "application/vnd.jupyter.widget-view+json": {
       "model_id": "be947d6754b8488b9270e3f2fbc83049",
       "version_major": 2,
       "version_minor": 0
      },
      "text/plain": [
       "  0%|          | 0/16129 [00:00<?, ?it/s]"
      ]
     },
     "metadata": {},
     "output_type": "display_data"
    },
    {
     "name": "stderr",
     "output_type": "stream",
     "text": [
      "[I 2024-01-30 18:28:30,969] Trial 74 finished with value: 0.9155645966529846 and parameters: {'sampler': False, 'batch_size': 8, 'epochs': 3, 'lr': 6.016534780859986e-05, 'gamma': 0, 'weight': True, 'n_layers': 2, 'n_units_l0': 11, 'dr': 0.2, 'n_units_l1': 81}. Best is trial 45 with value: 0.9188078045845032.\n"
     ]
    },
    {
     "data": {
      "application/vnd.jupyter.widget-view+json": {
       "model_id": "821b87d78eee472d96e7c4cc24a78d85",
       "version_major": 2,
       "version_minor": 0
      },
      "text/plain": [
       "  0%|          | 0/16129 [00:00<?, ?it/s]"
      ]
     },
     "metadata": {},
     "output_type": "display_data"
    },
    {
     "data": {
      "application/vnd.jupyter.widget-view+json": {
       "model_id": "6cd37b9a86284f8fa0a11d1ee70fb772",
       "version_major": 2,
       "version_minor": 0
      },
      "text/plain": [
       "  0%|          | 0/16129 [00:00<?, ?it/s]"
      ]
     },
     "metadata": {},
     "output_type": "display_data"
    },
    {
     "data": {
      "application/vnd.jupyter.widget-view+json": {
       "model_id": "21db121909d64eb2959f399e9583bc21",
       "version_major": 2,
       "version_minor": 0
      },
      "text/plain": [
       "  0%|          | 0/16129 [00:00<?, ?it/s]"
      ]
     },
     "metadata": {},
     "output_type": "display_data"
    },
    {
     "name": "stderr",
     "output_type": "stream",
     "text": [
      "[I 2024-01-30 18:30:29,485] Trial 75 finished with value: 0.9148648977279663 and parameters: {'sampler': False, 'batch_size': 8, 'epochs': 3, 'lr': 0.00010875536505340723, 'gamma': 0, 'weight': True, 'n_layers': 2, 'n_units_l0': 9, 'dr': 0.2, 'n_units_l1': 160}. Best is trial 45 with value: 0.9188078045845032.\n"
     ]
    },
    {
     "data": {
      "application/vnd.jupyter.widget-view+json": {
       "model_id": "46987b7387104e69b7c75d9c1c2547b0",
       "version_major": 2,
       "version_minor": 0
      },
      "text/plain": [
       "  0%|          | 0/16129 [00:00<?, ?it/s]"
      ]
     },
     "metadata": {},
     "output_type": "display_data"
    },
    {
     "data": {
      "application/vnd.jupyter.widget-view+json": {
       "model_id": "6a0bc2633fe74070a0a58beca1664a15",
       "version_major": 2,
       "version_minor": 0
      },
      "text/plain": [
       "  0%|          | 0/16129 [00:00<?, ?it/s]"
      ]
     },
     "metadata": {},
     "output_type": "display_data"
    },
    {
     "data": {
      "application/vnd.jupyter.widget-view+json": {
       "model_id": "e609913223784716a1540716987e7f66",
       "version_major": 2,
       "version_minor": 0
      },
      "text/plain": [
       "  0%|          | 0/16129 [00:00<?, ?it/s]"
      ]
     },
     "metadata": {},
     "output_type": "display_data"
    },
    {
     "name": "stderr",
     "output_type": "stream",
     "text": [
      "[I 2024-01-30 18:32:27,500] Trial 76 finished with value: 0.9154262542724609 and parameters: {'sampler': False, 'batch_size': 8, 'epochs': 3, 'lr': 5.716050511481733e-05, 'gamma': 0, 'weight': True, 'n_layers': 2, 'n_units_l0': 13, 'dr': 0.1, 'n_units_l1': 134}. Best is trial 45 with value: 0.9188078045845032.\n"
     ]
    },
    {
     "data": {
      "application/vnd.jupyter.widget-view+json": {
       "model_id": "d57d832325b7437d92a0b23bf291e8b8",
       "version_major": 2,
       "version_minor": 0
      },
      "text/plain": [
       "  0%|          | 0/16129 [00:00<?, ?it/s]"
      ]
     },
     "metadata": {},
     "output_type": "display_data"
    },
    {
     "data": {
      "application/vnd.jupyter.widget-view+json": {
       "model_id": "e08fbe01b0864a7f827c87ecfb02d91c",
       "version_major": 2,
       "version_minor": 0
      },
      "text/plain": [
       "  0%|          | 0/16129 [00:00<?, ?it/s]"
      ]
     },
     "metadata": {},
     "output_type": "display_data"
    },
    {
     "data": {
      "application/vnd.jupyter.widget-view+json": {
       "model_id": "a2e7288948824a56aa9685055a660398",
       "version_major": 2,
       "version_minor": 0
      },
      "text/plain": [
       "  0%|          | 0/16129 [00:00<?, ?it/s]"
      ]
     },
     "metadata": {},
     "output_type": "display_data"
    },
    {
     "name": "stderr",
     "output_type": "stream",
     "text": [
      "[I 2024-01-30 18:34:41,194] Trial 77 finished with value: 0.9160149693489075 and parameters: {'sampler': False, 'batch_size': 8, 'epochs': 3, 'lr': 4.287545725920319e-05, 'gamma': 0, 'weight': True, 'n_layers': 3, 'n_units_l0': 7, 'dr': 0.2, 'n_units_l1': 430, 'n_units_l2': 28}. Best is trial 45 with value: 0.9188078045845032.\n"
     ]
    },
    {
     "data": {
      "application/vnd.jupyter.widget-view+json": {
       "model_id": "87197c8b9ae54b0cab4881701e0424d8",
       "version_major": 2,
       "version_minor": 0
      },
      "text/plain": [
       "  0%|          | 0/16129 [00:00<?, ?it/s]"
      ]
     },
     "metadata": {},
     "output_type": "display_data"
    },
    {
     "data": {
      "application/vnd.jupyter.widget-view+json": {
       "model_id": "d26c3070041b4c2380a38d1af8b3d2f1",
       "version_major": 2,
       "version_minor": 0
      },
      "text/plain": [
       "  0%|          | 0/16129 [00:00<?, ?it/s]"
      ]
     },
     "metadata": {},
     "output_type": "display_data"
    },
    {
     "data": {
      "application/vnd.jupyter.widget-view+json": {
       "model_id": "544672ab9abb482fa247d14647a14426",
       "version_major": 2,
       "version_minor": 0
      },
      "text/plain": [
       "  0%|          | 0/16129 [00:00<?, ?it/s]"
      ]
     },
     "metadata": {},
     "output_type": "display_data"
    },
    {
     "name": "stderr",
     "output_type": "stream",
     "text": [
      "[I 2024-01-30 18:36:39,248] Trial 78 finished with value: 0.9164969325065613 and parameters: {'sampler': False, 'batch_size': 8, 'epochs': 3, 'lr': 9.172679185082579e-05, 'gamma': 0, 'weight': True, 'n_layers': 2, 'n_units_l0': 10, 'dr': 0.2, 'n_units_l1': 236}. Best is trial 45 with value: 0.9188078045845032.\n"
     ]
    },
    {
     "data": {
      "application/vnd.jupyter.widget-view+json": {
       "model_id": "8ecfc9c32d6e4ed8b342a28bedf1b4dd",
       "version_major": 2,
       "version_minor": 0
      },
      "text/plain": [
       "  0%|          | 0/16129 [00:00<?, ?it/s]"
      ]
     },
     "metadata": {},
     "output_type": "display_data"
    },
    {
     "data": {
      "application/vnd.jupyter.widget-view+json": {
       "model_id": "31d06e11f221437fbcdde8d36d481b7e",
       "version_major": 2,
       "version_minor": 0
      },
      "text/plain": [
       "  0%|          | 0/16129 [00:00<?, ?it/s]"
      ]
     },
     "metadata": {},
     "output_type": "display_data"
    },
    {
     "data": {
      "application/vnd.jupyter.widget-view+json": {
       "model_id": "0b6263a5be334a6dbd20aff99d07bd05",
       "version_major": 2,
       "version_minor": 0
      },
      "text/plain": [
       "  0%|          | 0/16129 [00:00<?, ?it/s]"
      ]
     },
     "metadata": {},
     "output_type": "display_data"
    },
    {
     "name": "stderr",
     "output_type": "stream",
     "text": [
      "[I 2024-01-30 18:38:38,236] Trial 79 finished with value: 0.9164997339248657 and parameters: {'sampler': False, 'batch_size': 8, 'epochs': 3, 'lr': 0.00012525984244648496, 'gamma': 0, 'weight': True, 'n_layers': 2, 'n_units_l0': 175, 'dr': 0.2, 'n_units_l1': 224}. Best is trial 45 with value: 0.9188078045845032.\n"
     ]
    },
    {
     "data": {
      "application/vnd.jupyter.widget-view+json": {
       "model_id": "cc258e60be2340fba3c926735d2f84c1",
       "version_major": 2,
       "version_minor": 0
      },
      "text/plain": [
       "  0%|          | 0/16129 [00:00<?, ?it/s]"
      ]
     },
     "metadata": {},
     "output_type": "display_data"
    },
    {
     "data": {
      "application/vnd.jupyter.widget-view+json": {
       "model_id": "d82453e1b44c40ad8197d80b92180182",
       "version_major": 2,
       "version_minor": 0
      },
      "text/plain": [
       "  0%|          | 0/16129 [00:00<?, ?it/s]"
      ]
     },
     "metadata": {},
     "output_type": "display_data"
    },
    {
     "data": {
      "application/vnd.jupyter.widget-view+json": {
       "model_id": "0854ab8d520a4d808596c68c9f039f81",
       "version_major": 2,
       "version_minor": 0
      },
      "text/plain": [
       "  0%|          | 0/16129 [00:00<?, ?it/s]"
      ]
     },
     "metadata": {},
     "output_type": "display_data"
    },
    {
     "name": "stderr",
     "output_type": "stream",
     "text": [
      "[I 2024-01-30 18:40:37,020] Trial 80 finished with value: 0.9163879752159119 and parameters: {'sampler': False, 'batch_size': 8, 'epochs': 3, 'lr': 0.00012156055316859008, 'gamma': 0, 'weight': True, 'n_layers': 2, 'n_units_l0': 281, 'dr': 0.2, 'n_units_l1': 235}. Best is trial 45 with value: 0.9188078045845032.\n"
     ]
    },
    {
     "data": {
      "application/vnd.jupyter.widget-view+json": {
       "model_id": "2eba413f9a7c4c8398a6ab6889a6a4f4",
       "version_major": 2,
       "version_minor": 0
      },
      "text/plain": [
       "  0%|          | 0/16129 [00:00<?, ?it/s]"
      ]
     },
     "metadata": {},
     "output_type": "display_data"
    },
    {
     "data": {
      "application/vnd.jupyter.widget-view+json": {
       "model_id": "60a4527ea4fd4ac2b019c083932835f5",
       "version_major": 2,
       "version_minor": 0
      },
      "text/plain": [
       "  0%|          | 0/16129 [00:00<?, ?it/s]"
      ]
     },
     "metadata": {},
     "output_type": "display_data"
    },
    {
     "data": {
      "application/vnd.jupyter.widget-view+json": {
       "model_id": "2479b502ce8443d195b4612e7668cdf8",
       "version_major": 2,
       "version_minor": 0
      },
      "text/plain": [
       "  0%|          | 0/16129 [00:00<?, ?it/s]"
      ]
     },
     "metadata": {},
     "output_type": "display_data"
    },
    {
     "name": "stderr",
     "output_type": "stream",
     "text": [
      "[I 2024-01-30 18:42:36,048] Trial 81 finished with value: 0.9163879752159119 and parameters: {'sampler': False, 'batch_size': 8, 'epochs': 3, 'lr': 9.331340052206582e-05, 'gamma': 0, 'weight': True, 'n_layers': 2, 'n_units_l0': 164, 'dr': 0.2, 'n_units_l1': 200}. Best is trial 45 with value: 0.9188078045845032.\n"
     ]
    },
    {
     "data": {
      "application/vnd.jupyter.widget-view+json": {
       "model_id": "f9a69ff4889847778231a43f65bf5afa",
       "version_major": 2,
       "version_minor": 0
      },
      "text/plain": [
       "  0%|          | 0/16129 [00:00<?, ?it/s]"
      ]
     },
     "metadata": {},
     "output_type": "display_data"
    },
    {
     "data": {
      "application/vnd.jupyter.widget-view+json": {
       "model_id": "87b8be1ddeba4b298ef0143499f2f59e",
       "version_major": 2,
       "version_minor": 0
      },
      "text/plain": [
       "  0%|          | 0/16129 [00:00<?, ?it/s]"
      ]
     },
     "metadata": {},
     "output_type": "display_data"
    },
    {
     "data": {
      "application/vnd.jupyter.widget-view+json": {
       "model_id": "fbca300632f1448282915fa45ec410f4",
       "version_major": 2,
       "version_minor": 0
      },
      "text/plain": [
       "  0%|          | 0/16129 [00:00<?, ?it/s]"
      ]
     },
     "metadata": {},
     "output_type": "display_data"
    },
    {
     "name": "stderr",
     "output_type": "stream",
     "text": [
      "[I 2024-01-30 18:44:34,874] Trial 82 finished with value: 0.9155495762825012 and parameters: {'sampler': False, 'batch_size': 8, 'epochs': 3, 'lr': 0.00016146200576518577, 'gamma': 0, 'weight': True, 'n_layers': 2, 'n_units_l0': 255, 'dr': 0.2, 'n_units_l1': 307}. Best is trial 45 with value: 0.9188078045845032.\n"
     ]
    },
    {
     "data": {
      "application/vnd.jupyter.widget-view+json": {
       "model_id": "f758907cd3a54647a3ea7629417cdfe3",
       "version_major": 2,
       "version_minor": 0
      },
      "text/plain": [
       "  0%|          | 0/16129 [00:00<?, ?it/s]"
      ]
     },
     "metadata": {},
     "output_type": "display_data"
    },
    {
     "data": {
      "application/vnd.jupyter.widget-view+json": {
       "model_id": "7abf3e85cff04df9a86d8929d862bdf7",
       "version_major": 2,
       "version_minor": 0
      },
      "text/plain": [
       "  0%|          | 0/16129 [00:00<?, ?it/s]"
      ]
     },
     "metadata": {},
     "output_type": "display_data"
    },
    {
     "data": {
      "application/vnd.jupyter.widget-view+json": {
       "model_id": "fd445b5c77e045d3b135823dad689aae",
       "version_major": 2,
       "version_minor": 0
      },
      "text/plain": [
       "  0%|          | 0/16129 [00:00<?, ?it/s]"
      ]
     },
     "metadata": {},
     "output_type": "display_data"
    },
    {
     "name": "stderr",
     "output_type": "stream",
     "text": [
      "[I 2024-01-30 18:46:32,973] Trial 83 finished with value: 0.9168081879615784 and parameters: {'sampler': False, 'batch_size': 8, 'epochs': 3, 'lr': 8.469268592605048e-05, 'gamma': 0, 'weight': True, 'n_layers': 2, 'n_units_l0': 6, 'dr': 0.2, 'n_units_l1': 248}. Best is trial 45 with value: 0.9188078045845032.\n"
     ]
    },
    {
     "data": {
      "application/vnd.jupyter.widget-view+json": {
       "model_id": "c4e312e26d27493cb241042d508a639e",
       "version_major": 2,
       "version_minor": 0
      },
      "text/plain": [
       "  0%|          | 0/16129 [00:00<?, ?it/s]"
      ]
     },
     "metadata": {},
     "output_type": "display_data"
    },
    {
     "data": {
      "application/vnd.jupyter.widget-view+json": {
       "model_id": "bc4de2595ecc4be8861127b8658063c3",
       "version_major": 2,
       "version_minor": 0
      },
      "text/plain": [
       "  0%|          | 0/16129 [00:00<?, ?it/s]"
      ]
     },
     "metadata": {},
     "output_type": "display_data"
    },
    {
     "data": {
      "application/vnd.jupyter.widget-view+json": {
       "model_id": "010bfb58a3b5476095526df6feabf4f6",
       "version_major": 2,
       "version_minor": 0
      },
      "text/plain": [
       "  0%|          | 0/16129 [00:00<?, ?it/s]"
      ]
     },
     "metadata": {},
     "output_type": "display_data"
    },
    {
     "name": "stderr",
     "output_type": "stream",
     "text": [
      "[I 2024-01-30 18:48:32,400] Trial 84 finished with value: 0.9142091274261475 and parameters: {'sampler': False, 'batch_size': 8, 'epochs': 3, 'lr': 0.00013984739868023023, 'gamma': 0, 'weight': True, 'n_layers': 2, 'n_units_l0': 421, 'dr': 0.2, 'n_units_l1': 163}. Best is trial 45 with value: 0.9188078045845032.\n"
     ]
    },
    {
     "data": {
      "application/vnd.jupyter.widget-view+json": {
       "model_id": "a096f904bfb542f184641daec1115436",
       "version_major": 2,
       "version_minor": 0
      },
      "text/plain": [
       "  0%|          | 0/16129 [00:00<?, ?it/s]"
      ]
     },
     "metadata": {},
     "output_type": "display_data"
    },
    {
     "data": {
      "application/vnd.jupyter.widget-view+json": {
       "model_id": "24ead9eb59ef4d32baec748496772760",
       "version_major": 2,
       "version_minor": 0
      },
      "text/plain": [
       "  0%|          | 0/16129 [00:00<?, ?it/s]"
      ]
     },
     "metadata": {},
     "output_type": "display_data"
    },
    {
     "data": {
      "application/vnd.jupyter.widget-view+json": {
       "model_id": "f6baf0a3c5de4b0e93cc12928da9af9b",
       "version_major": 2,
       "version_minor": 0
      },
      "text/plain": [
       "  0%|          | 0/16129 [00:00<?, ?it/s]"
      ]
     },
     "metadata": {},
     "output_type": "display_data"
    },
    {
     "name": "stderr",
     "output_type": "stream",
     "text": [
      "[I 2024-01-30 18:50:31,874] Trial 85 finished with value: 0.9175432920455933 and parameters: {'sampler': False, 'batch_size': 8, 'epochs': 3, 'lr': 8.774669802763685e-05, 'gamma': 0, 'weight': True, 'n_layers': 2, 'n_units_l0': 6, 'dr': 0.2, 'n_units_l1': 236}. Best is trial 45 with value: 0.9188078045845032.\n"
     ]
    },
    {
     "data": {
      "application/vnd.jupyter.widget-view+json": {
       "model_id": "d20bad2f9fa142c0bc0fab64203fa8b1",
       "version_major": 2,
       "version_minor": 0
      },
      "text/plain": [
       "  0%|          | 0/16129 [00:00<?, ?it/s]"
      ]
     },
     "metadata": {},
     "output_type": "display_data"
    },
    {
     "data": {
      "application/vnd.jupyter.widget-view+json": {
       "model_id": "8bfb62dab6304a74adcfbd0942cbf585",
       "version_major": 2,
       "version_minor": 0
      },
      "text/plain": [
       "  0%|          | 0/16129 [00:00<?, ?it/s]"
      ]
     },
     "metadata": {},
     "output_type": "display_data"
    },
    {
     "data": {
      "application/vnd.jupyter.widget-view+json": {
       "model_id": "838875e04ec2479296922d3b1ffe1778",
       "version_major": 2,
       "version_minor": 0
      },
      "text/plain": [
       "  0%|          | 0/16129 [00:00<?, ?it/s]"
      ]
     },
     "metadata": {},
     "output_type": "display_data"
    },
    {
     "name": "stderr",
     "output_type": "stream",
     "text": [
      "[I 2024-01-30 18:52:30,381] Trial 86 finished with value: 0.9143824577331543 and parameters: {'sampler': False, 'batch_size': 8, 'epochs': 3, 'lr': 6.348007886990561e-05, 'gamma': 0, 'weight': True, 'n_layers': 2, 'n_units_l0': 6, 'dr': 0.2, 'n_units_l1': 109}. Best is trial 45 with value: 0.9188078045845032.\n"
     ]
    },
    {
     "data": {
      "application/vnd.jupyter.widget-view+json": {
       "model_id": "523376c7eda149e1961cf452c1263e67",
       "version_major": 2,
       "version_minor": 0
      },
      "text/plain": [
       "  0%|          | 0/16129 [00:00<?, ?it/s]"
      ]
     },
     "metadata": {},
     "output_type": "display_data"
    },
    {
     "data": {
      "application/vnd.jupyter.widget-view+json": {
       "model_id": "c34d9ee9d9d14c88aebe2129948b697c",
       "version_major": 2,
       "version_minor": 0
      },
      "text/plain": [
       "  0%|          | 0/16129 [00:00<?, ?it/s]"
      ]
     },
     "metadata": {},
     "output_type": "display_data"
    },
    {
     "name": "stderr",
     "output_type": "stream",
     "text": [
      "[I 2024-01-30 18:53:49,773] Trial 87 finished with value: 0.9149223566055298 and parameters: {'sampler': False, 'batch_size': 8, 'epochs': 2, 'lr': 0.00025225327454381257, 'gamma': 0, 'weight': True, 'n_layers': 2, 'n_units_l0': 5, 'dr': 0.2, 'n_units_l1': 206}. Best is trial 45 with value: 0.9188078045845032.\n"
     ]
    },
    {
     "data": {
      "application/vnd.jupyter.widget-view+json": {
       "model_id": "3a2add208416463d81171543601ec9d2",
       "version_major": 2,
       "version_minor": 0
      },
      "text/plain": [
       "  0%|          | 0/16129 [00:00<?, ?it/s]"
      ]
     },
     "metadata": {},
     "output_type": "display_data"
    },
    {
     "data": {
      "application/vnd.jupyter.widget-view+json": {
       "model_id": "aa086e35a44b48c4b6c0f4c0c072791e",
       "version_major": 2,
       "version_minor": 0
      },
      "text/plain": [
       "  0%|          | 0/16129 [00:00<?, ?it/s]"
      ]
     },
     "metadata": {},
     "output_type": "display_data"
    },
    {
     "data": {
      "application/vnd.jupyter.widget-view+json": {
       "model_id": "5da185e7ce47411cb115ebeed137a791",
       "version_major": 2,
       "version_minor": 0
      },
      "text/plain": [
       "  0%|          | 0/16129 [00:00<?, ?it/s]"
      ]
     },
     "metadata": {},
     "output_type": "display_data"
    },
    {
     "name": "stderr",
     "output_type": "stream",
     "text": [
      "[I 2024-01-30 18:55:51,312] Trial 88 finished with value: 0.799889087677002 and parameters: {'sampler': True, 'batch_size': 8, 'epochs': 3, 'lr': 0.00044236322175749245, 'gamma': 0, 'weight': True, 'n_layers': 2, 'n_units_l0': 4, 'dr': 0.2, 'n_units_l1': 127}. Best is trial 45 with value: 0.9188078045845032.\n"
     ]
    },
    {
     "data": {
      "application/vnd.jupyter.widget-view+json": {
       "model_id": "b4ee9ff9a0e4484aaedbb799adafd0f7",
       "version_major": 2,
       "version_minor": 0
      },
      "text/plain": [
       "  0%|          | 0/8065 [00:00<?, ?it/s]"
      ]
     },
     "metadata": {},
     "output_type": "display_data"
    },
    {
     "data": {
      "application/vnd.jupyter.widget-view+json": {
       "model_id": "bd8b850f249f41928e93fe8540572d52",
       "version_major": 2,
       "version_minor": 0
      },
      "text/plain": [
       "  0%|          | 0/8065 [00:00<?, ?it/s]"
      ]
     },
     "metadata": {},
     "output_type": "display_data"
    },
    {
     "data": {
      "application/vnd.jupyter.widget-view+json": {
       "model_id": "bbdfd48af20b405f9068dbffa8921a55",
       "version_major": 2,
       "version_minor": 0
      },
      "text/plain": [
       "  0%|          | 0/8065 [00:00<?, ?it/s]"
      ]
     },
     "metadata": {},
     "output_type": "display_data"
    },
    {
     "name": "stderr",
     "output_type": "stream",
     "text": [
      "[I 2024-01-30 18:56:55,232] Trial 89 finished with value: 0.8946195244789124 and parameters: {'sampler': False, 'batch_size': 16, 'epochs': 3, 'lr': 8.205406240288112e-05, 'gamma': 1, 'weight': True, 'n_layers': 2, 'n_units_l0': 197, 'dr': 0.2, 'n_units_l1': 35}. Best is trial 45 with value: 0.9188078045845032.\n"
     ]
    },
    {
     "data": {
      "application/vnd.jupyter.widget-view+json": {
       "model_id": "108f61dd1a4f4257b0add8b6b8c8c96e",
       "version_major": 2,
       "version_minor": 0
      },
      "text/plain": [
       "  0%|          | 0/16129 [00:00<?, ?it/s]"
      ]
     },
     "metadata": {},
     "output_type": "display_data"
    },
    {
     "data": {
      "application/vnd.jupyter.widget-view+json": {
       "model_id": "5b9f25acce054327bd74e56e82cfa252",
       "version_major": 2,
       "version_minor": 0
      },
      "text/plain": [
       "  0%|          | 0/16129 [00:00<?, ?it/s]"
      ]
     },
     "metadata": {},
     "output_type": "display_data"
    },
    {
     "data": {
      "application/vnd.jupyter.widget-view+json": {
       "model_id": "b30359c75d404da7926b4a3feb4d3b60",
       "version_major": 2,
       "version_minor": 0
      },
      "text/plain": [
       "  0%|          | 0/16129 [00:00<?, ?it/s]"
      ]
     },
     "metadata": {},
     "output_type": "display_data"
    },
    {
     "name": "stderr",
     "output_type": "stream",
     "text": [
      "[I 2024-01-30 18:58:54,878] Trial 90 finished with value: 0.9166101813316345 and parameters: {'sampler': False, 'batch_size': 8, 'epochs': 3, 'lr': 0.0003608673831892179, 'gamma': 0, 'weight': True, 'n_layers': 2, 'n_units_l0': 387, 'dr': 0.2, 'n_units_l1': 151}. Best is trial 45 with value: 0.9188078045845032.\n"
     ]
    },
    {
     "data": {
      "application/vnd.jupyter.widget-view+json": {
       "model_id": "98366286a1dc4582a127ccd2838fda8a",
       "version_major": 2,
       "version_minor": 0
      },
      "text/plain": [
       "  0%|          | 0/16129 [00:00<?, ?it/s]"
      ]
     },
     "metadata": {},
     "output_type": "display_data"
    },
    {
     "data": {
      "application/vnd.jupyter.widget-view+json": {
       "model_id": "ff8bd82967af4883ae31b3cc258c8880",
       "version_major": 2,
       "version_minor": 0
      },
      "text/plain": [
       "  0%|          | 0/16129 [00:00<?, ?it/s]"
      ]
     },
     "metadata": {},
     "output_type": "display_data"
    },
    {
     "data": {
      "application/vnd.jupyter.widget-view+json": {
       "model_id": "601e781e4fc54e0da4abaf6cd629af74",
       "version_major": 2,
       "version_minor": 0
      },
      "text/plain": [
       "  0%|          | 0/16129 [00:00<?, ?it/s]"
      ]
     },
     "metadata": {},
     "output_type": "display_data"
    },
    {
     "name": "stderr",
     "output_type": "stream",
     "text": [
      "[I 2024-01-30 19:00:54,082] Trial 91 finished with value: 0.916216254234314 and parameters: {'sampler': False, 'batch_size': 8, 'epochs': 3, 'lr': 0.0003762919031913385, 'gamma': 0, 'weight': True, 'n_layers': 2, 'n_units_l0': 305, 'dr': 0.2, 'n_units_l1': 150}. Best is trial 45 with value: 0.9188078045845032.\n"
     ]
    },
    {
     "data": {
      "application/vnd.jupyter.widget-view+json": {
       "model_id": "cf352e059d174d47b28409df8e20a1f6",
       "version_major": 2,
       "version_minor": 0
      },
      "text/plain": [
       "  0%|          | 0/16129 [00:00<?, ?it/s]"
      ]
     },
     "metadata": {},
     "output_type": "display_data"
    },
    {
     "data": {
      "application/vnd.jupyter.widget-view+json": {
       "model_id": "024de823115c4683bb70fb65aa070060",
       "version_major": 2,
       "version_minor": 0
      },
      "text/plain": [
       "  0%|          | 0/16129 [00:00<?, ?it/s]"
      ]
     },
     "metadata": {},
     "output_type": "display_data"
    },
    {
     "data": {
      "application/vnd.jupyter.widget-view+json": {
       "model_id": "8c0de6256e534618bd51a59645b0c3d3",
       "version_major": 2,
       "version_minor": 0
      },
      "text/plain": [
       "  0%|          | 0/16129 [00:00<?, ?it/s]"
      ]
     },
     "metadata": {},
     "output_type": "display_data"
    },
    {
     "name": "stderr",
     "output_type": "stream",
     "text": [
      "[I 2024-01-30 19:02:53,041] Trial 92 finished with value: 0.9150370359420776 and parameters: {'sampler': False, 'batch_size': 8, 'epochs': 3, 'lr': 0.0001899445044203173, 'gamma': 0, 'weight': True, 'n_layers': 2, 'n_units_l0': 354, 'dr': 0.2, 'n_units_l1': 249}. Best is trial 45 with value: 0.9188078045845032.\n"
     ]
    },
    {
     "data": {
      "application/vnd.jupyter.widget-view+json": {
       "model_id": "f9977adfcddc454cbe254b1afa1e50fc",
       "version_major": 2,
       "version_minor": 0
      },
      "text/plain": [
       "  0%|          | 0/16129 [00:00<?, ?it/s]"
      ]
     },
     "metadata": {},
     "output_type": "display_data"
    },
    {
     "data": {
      "application/vnd.jupyter.widget-view+json": {
       "model_id": "3168d422a2aa4247aae63091ca348e11",
       "version_major": 2,
       "version_minor": 0
      },
      "text/plain": [
       "  0%|          | 0/16129 [00:00<?, ?it/s]"
      ]
     },
     "metadata": {},
     "output_type": "display_data"
    },
    {
     "data": {
      "application/vnd.jupyter.widget-view+json": {
       "model_id": "d1a9e4876ee1434cbc3e5fb48592d633",
       "version_major": 2,
       "version_minor": 0
      },
      "text/plain": [
       "  0%|          | 0/16129 [00:00<?, ?it/s]"
      ]
     },
     "metadata": {},
     "output_type": "display_data"
    },
    {
     "name": "stderr",
     "output_type": "stream",
     "text": [
      "[I 2024-01-30 19:04:52,432] Trial 93 finished with value: 0.9159891605377197 and parameters: {'sampler': False, 'batch_size': 8, 'epochs': 3, 'lr': 0.0003319533537942444, 'gamma': 0, 'weight': True, 'n_layers': 2, 'n_units_l0': 373, 'dr': 0.2, 'n_units_l1': 172}. Best is trial 45 with value: 0.9188078045845032.\n"
     ]
    },
    {
     "data": {
      "application/vnd.jupyter.widget-view+json": {
       "model_id": "d57a70790aac46e09c64838650ecc53c",
       "version_major": 2,
       "version_minor": 0
      },
      "text/plain": [
       "  0%|          | 0/16129 [00:00<?, ?it/s]"
      ]
     },
     "metadata": {},
     "output_type": "display_data"
    },
    {
     "data": {
      "application/vnd.jupyter.widget-view+json": {
       "model_id": "e729b8916eaa4f12a2ddcd48ee6208fd",
       "version_major": 2,
       "version_minor": 0
      },
      "text/plain": [
       "  0%|          | 0/16129 [00:00<?, ?it/s]"
      ]
     },
     "metadata": {},
     "output_type": "display_data"
    },
    {
     "data": {
      "application/vnd.jupyter.widget-view+json": {
       "model_id": "fe3bb2fa20c04994b57dd99d42a4e7a5",
       "version_major": 2,
       "version_minor": 0
      },
      "text/plain": [
       "  0%|          | 0/16129 [00:00<?, ?it/s]"
      ]
     },
     "metadata": {},
     "output_type": "display_data"
    },
    {
     "name": "stderr",
     "output_type": "stream",
     "text": [
      "[I 2024-01-30 19:06:52,686] Trial 94 finished with value: 0.9159891605377197 and parameters: {'sampler': False, 'batch_size': 8, 'epochs': 3, 'lr': 0.00026644655830934314, 'gamma': 0, 'weight': True, 'n_layers': 2, 'n_units_l0': 434, 'dr': 0.2, 'n_units_l1': 194}. Best is trial 45 with value: 0.9188078045845032.\n"
     ]
    },
    {
     "data": {
      "application/vnd.jupyter.widget-view+json": {
       "model_id": "e77a9b6355d7497c83745157b038ed66",
       "version_major": 2,
       "version_minor": 0
      },
      "text/plain": [
       "  0%|          | 0/16129 [00:00<?, ?it/s]"
      ]
     },
     "metadata": {},
     "output_type": "display_data"
    },
    {
     "data": {
      "application/vnd.jupyter.widget-view+json": {
       "model_id": "ce254ce1e29242469de11f2e399b42dc",
       "version_major": 2,
       "version_minor": 0
      },
      "text/plain": [
       "  0%|          | 0/16129 [00:00<?, ?it/s]"
      ]
     },
     "metadata": {},
     "output_type": "display_data"
    },
    {
     "data": {
      "application/vnd.jupyter.widget-view+json": {
       "model_id": "4a55d14af192434a92ad0416af222dad",
       "version_major": 2,
       "version_minor": 0
      },
      "text/plain": [
       "  0%|          | 0/16129 [00:00<?, ?it/s]"
      ]
     },
     "metadata": {},
     "output_type": "display_data"
    },
    {
     "name": "stderr",
     "output_type": "stream",
     "text": [
      "[I 2024-01-30 19:08:35,930] Trial 95 finished with value: 0.9154027700424194 and parameters: {'sampler': False, 'batch_size': 8, 'epochs': 3, 'lr': 0.0004419596970385067, 'gamma': 0, 'weight': True, 'n_layers': 1, 'n_units_l0': 501, 'dr': 0.2}. Best is trial 45 with value: 0.9188078045845032.\n"
     ]
    },
    {
     "data": {
      "application/vnd.jupyter.widget-view+json": {
       "model_id": "3b2b4cd53bd44ac286c02a48c748d23b",
       "version_major": 2,
       "version_minor": 0
      },
      "text/plain": [
       "  0%|          | 0/16129 [00:00<?, ?it/s]"
      ]
     },
     "metadata": {},
     "output_type": "display_data"
    },
    {
     "data": {
      "application/vnd.jupyter.widget-view+json": {
       "model_id": "54cd214413a0444ab490db0c232916d2",
       "version_major": 2,
       "version_minor": 0
      },
      "text/plain": [
       "  0%|          | 0/16129 [00:00<?, ?it/s]"
      ]
     },
     "metadata": {},
     "output_type": "display_data"
    },
    {
     "data": {
      "application/vnd.jupyter.widget-view+json": {
       "model_id": "dab6bcbcf8544dc4a8cdaa22316faca8",
       "version_major": 2,
       "version_minor": 0
      },
      "text/plain": [
       "  0%|          | 0/16129 [00:00<?, ?it/s]"
      ]
     },
     "metadata": {},
     "output_type": "display_data"
    },
    {
     "name": "stderr",
     "output_type": "stream",
     "text": [
      "[I 2024-01-30 19:10:35,630] Trial 96 finished with value: 0.9153562784194946 and parameters: {'sampler': False, 'batch_size': 8, 'epochs': 3, 'lr': 0.00011931070560101865, 'gamma': 0, 'weight': True, 'n_layers': 2, 'n_units_l0': 155, 'dr': 0.2, 'n_units_l1': 269}. Best is trial 45 with value: 0.9188078045845032.\n"
     ]
    },
    {
     "data": {
      "application/vnd.jupyter.widget-view+json": {
       "model_id": "407f272942b14a5aaf1f580289d65393",
       "version_major": 2,
       "version_minor": 0
      },
      "text/plain": [
       "  0%|          | 0/16129 [00:00<?, ?it/s]"
      ]
     },
     "metadata": {},
     "output_type": "display_data"
    },
    {
     "data": {
      "application/vnd.jupyter.widget-view+json": {
       "model_id": "31a8d116566444ad807ea6674e1b99ef",
       "version_major": 2,
       "version_minor": 0
      },
      "text/plain": [
       "  0%|          | 0/16129 [00:00<?, ?it/s]"
      ]
     },
     "metadata": {},
     "output_type": "display_data"
    },
    {
     "data": {
      "application/vnd.jupyter.widget-view+json": {
       "model_id": "c94d34296c874d0ca165ef9943e149b0",
       "version_major": 2,
       "version_minor": 0
      },
      "text/plain": [
       "  0%|          | 0/16129 [00:00<?, ?it/s]"
      ]
     },
     "metadata": {},
     "output_type": "display_data"
    },
    {
     "name": "stderr",
     "output_type": "stream",
     "text": [
      "[I 2024-01-30 19:12:34,823] Trial 97 finished with value: 0.9147802591323853 and parameters: {'sampler': False, 'batch_size': 8, 'epochs': 3, 'lr': 0.00021823674876139462, 'gamma': 0, 'weight': True, 'n_layers': 2, 'n_units_l0': 233, 'dr': 0.2, 'n_units_l1': 23}. Best is trial 45 with value: 0.9188078045845032.\n"
     ]
    },
    {
     "data": {
      "application/vnd.jupyter.widget-view+json": {
       "model_id": "cc0ab3b3c40740aa8bb43016afa18341",
       "version_major": 2,
       "version_minor": 0
      },
      "text/plain": [
       "  0%|          | 0/16129 [00:00<?, ?it/s]"
      ]
     },
     "metadata": {},
     "output_type": "display_data"
    },
    {
     "data": {
      "application/vnd.jupyter.widget-view+json": {
       "model_id": "f86ab78eec184fcd998c0bcc60ce894e",
       "version_major": 2,
       "version_minor": 0
      },
      "text/plain": [
       "  0%|          | 0/16129 [00:00<?, ?it/s]"
      ]
     },
     "metadata": {},
     "output_type": "display_data"
    },
    {
     "data": {
      "application/vnd.jupyter.widget-view+json": {
       "model_id": "e38eab85026a446b91486729bb4cf51d",
       "version_major": 2,
       "version_minor": 0
      },
      "text/plain": [
       "  0%|          | 0/16129 [00:00<?, ?it/s]"
      ]
     },
     "metadata": {},
     "output_type": "display_data"
    },
    {
     "name": "stderr",
     "output_type": "stream",
     "text": [
      "[I 2024-01-30 19:14:33,215] Trial 98 finished with value: 0.9146711230278015 and parameters: {'sampler': False, 'batch_size': 8, 'epochs': 3, 'lr': 0.00034318065550021986, 'gamma': 0, 'weight': True, 'n_layers': 2, 'n_units_l0': 7, 'dr': 0.30000000000000004, 'n_units_l1': 113}. Best is trial 45 with value: 0.9188078045845032.\n"
     ]
    },
    {
     "data": {
      "application/vnd.jupyter.widget-view+json": {
       "model_id": "fb2c24851bd445f0b188dd8f35697fdf",
       "version_major": 2,
       "version_minor": 0
      },
      "text/plain": [
       "  0%|          | 0/8065 [00:00<?, ?it/s]"
      ]
     },
     "metadata": {},
     "output_type": "display_data"
    },
    {
     "data": {
      "application/vnd.jupyter.widget-view+json": {
       "model_id": "9e2008eae78a4f9fba103a5c1345ca0f",
       "version_major": 2,
       "version_minor": 0
      },
      "text/plain": [
       "  0%|          | 0/8065 [00:00<?, ?it/s]"
      ]
     },
     "metadata": {},
     "output_type": "display_data"
    },
    {
     "data": {
      "application/vnd.jupyter.widget-view+json": {
       "model_id": "d3ae1f188fed4d67af9995876f024cf5",
       "version_major": 2,
       "version_minor": 0
      },
      "text/plain": [
       "  0%|          | 0/8065 [00:00<?, ?it/s]"
      ]
     },
     "metadata": {},
     "output_type": "display_data"
    },
    {
     "name": "stderr",
     "output_type": "stream",
     "text": [
      "[I 2024-01-30 19:15:28,227] Trial 99 finished with value: 0.8992297649383545 and parameters: {'sampler': False, 'batch_size': 16, 'epochs': 3, 'lr': 0.0003014110859592933, 'gamma': 0, 'weight': True, 'n_layers': 1, 'n_units_l0': 15, 'dr': 0.2}. Best is trial 45 with value: 0.9188078045845032.\n"
     ]
    },
    {
     "data": {
      "application/vnd.jupyter.widget-view+json": {
       "model_id": "a6adc200d1864b078eb2aaededee7061",
       "version_major": 2,
       "version_minor": 0
      },
      "text/plain": [
       "  0%|          | 0/16129 [00:00<?, ?it/s]"
      ]
     },
     "metadata": {},
     "output_type": "display_data"
    },
    {
     "data": {
      "application/vnd.jupyter.widget-view+json": {
       "model_id": "7643e416172f4a77b0c0fefe08747576",
       "version_major": 2,
       "version_minor": 0
      },
      "text/plain": [
       "  0%|          | 0/16129 [00:00<?, ?it/s]"
      ]
     },
     "metadata": {},
     "output_type": "display_data"
    },
    {
     "name": "stderr",
     "output_type": "stream",
     "text": [
      "[I 2024-01-30 19:16:48,925] Trial 100 finished with value: 0.9078947305679321 and parameters: {'sampler': False, 'batch_size': 8, 'epochs': 2, 'lr': 0.000392967107441435, 'gamma': 1, 'weight': True, 'n_layers': 2, 'n_units_l0': 192, 'dr': 0.30000000000000004, 'n_units_l1': 64}. Best is trial 45 with value: 0.9188078045845032.\n"
     ]
    },
    {
     "data": {
      "application/vnd.jupyter.widget-view+json": {
       "model_id": "318504b07af645b19fb26ff6dc74bcb4",
       "version_major": 2,
       "version_minor": 0
      },
      "text/plain": [
       "  0%|          | 0/16129 [00:00<?, ?it/s]"
      ]
     },
     "metadata": {},
     "output_type": "display_data"
    },
    {
     "data": {
      "application/vnd.jupyter.widget-view+json": {
       "model_id": "71cc191ce90f42febe5cb0e9a3dedb14",
       "version_major": 2,
       "version_minor": 0
      },
      "text/plain": [
       "  0%|          | 0/16129 [00:00<?, ?it/s]"
      ]
     },
     "metadata": {},
     "output_type": "display_data"
    },
    {
     "data": {
      "application/vnd.jupyter.widget-view+json": {
       "model_id": "f6ebf08f46d9434988da05a3f6a6e8ad",
       "version_major": 2,
       "version_minor": 0
      },
      "text/plain": [
       "  0%|          | 0/16129 [00:00<?, ?it/s]"
      ]
     },
     "metadata": {},
     "output_type": "display_data"
    },
    {
     "name": "stderr",
     "output_type": "stream",
     "text": [
      "[I 2024-01-30 19:18:47,850] Trial 101 finished with value: 0.9160460233688354 and parameters: {'sampler': False, 'batch_size': 8, 'epochs': 3, 'lr': 8.929024728003302e-05, 'gamma': 0, 'weight': True, 'n_layers': 2, 'n_units_l0': 10, 'dr': 0.2, 'n_units_l1': 239}. Best is trial 45 with value: 0.9188078045845032.\n"
     ]
    },
    {
     "data": {
      "application/vnd.jupyter.widget-view+json": {
       "model_id": "fa0ca6657d394c3eaab6420041a60236",
       "version_major": 2,
       "version_minor": 0
      },
      "text/plain": [
       "  0%|          | 0/16129 [00:00<?, ?it/s]"
      ]
     },
     "metadata": {},
     "output_type": "display_data"
    },
    {
     "data": {
      "application/vnd.jupyter.widget-view+json": {
       "model_id": "5a82f61462ec4cdcbf409db6bbb666b9",
       "version_major": 2,
       "version_minor": 0
      },
      "text/plain": [
       "  0%|          | 0/16129 [00:00<?, ?it/s]"
      ]
     },
     "metadata": {},
     "output_type": "display_data"
    },
    {
     "data": {
      "application/vnd.jupyter.widget-view+json": {
       "model_id": "81d6c19fc0f042289981720412344023",
       "version_major": 2,
       "version_minor": 0
      },
      "text/plain": [
       "  0%|          | 0/16129 [00:00<?, ?it/s]"
      ]
     },
     "metadata": {},
     "output_type": "display_data"
    },
    {
     "name": "stderr",
     "output_type": "stream",
     "text": [
      "[I 2024-01-30 19:20:47,237] Trial 102 finished with value: 0.9170013070106506 and parameters: {'sampler': False, 'batch_size': 8, 'epochs': 3, 'lr': 9.461160024459478e-05, 'gamma': 0, 'weight': True, 'n_layers': 2, 'n_units_l0': 332, 'dr': 0.2, 'n_units_l1': 89}. Best is trial 45 with value: 0.9188078045845032.\n"
     ]
    },
    {
     "data": {
      "application/vnd.jupyter.widget-view+json": {
       "model_id": "1c638f62448146ca806e027248d953be",
       "version_major": 2,
       "version_minor": 0
      },
      "text/plain": [
       "  0%|          | 0/16129 [00:00<?, ?it/s]"
      ]
     },
     "metadata": {},
     "output_type": "display_data"
    },
    {
     "data": {
      "application/vnd.jupyter.widget-view+json": {
       "model_id": "0a0e7f480be645e18d958e665cff3ec9",
       "version_major": 2,
       "version_minor": 0
      },
      "text/plain": [
       "  0%|          | 0/16129 [00:00<?, ?it/s]"
      ]
     },
     "metadata": {},
     "output_type": "display_data"
    },
    {
     "data": {
      "application/vnd.jupyter.widget-view+json": {
       "model_id": "3571acbd02064d92ad7a09f11cfcab26",
       "version_major": 2,
       "version_minor": 0
      },
      "text/plain": [
       "  0%|          | 0/16129 [00:00<?, ?it/s]"
      ]
     },
     "metadata": {},
     "output_type": "display_data"
    },
    {
     "name": "stderr",
     "output_type": "stream",
     "text": [
      "[I 2024-01-30 19:22:46,678] Trial 103 finished with value: 0.9170567989349365 and parameters: {'sampler': False, 'batch_size': 8, 'epochs': 3, 'lr': 7.675229430049337e-05, 'gamma': 0, 'weight': True, 'n_layers': 2, 'n_units_l0': 328, 'dr': 0.2, 'n_units_l1': 86}. Best is trial 45 with value: 0.9188078045845032.\n"
     ]
    },
    {
     "data": {
      "application/vnd.jupyter.widget-view+json": {
       "model_id": "a5ace3b3840f4e679581bd4f9992e458",
       "version_major": 2,
       "version_minor": 0
      },
      "text/plain": [
       "  0%|          | 0/16129 [00:00<?, ?it/s]"
      ]
     },
     "metadata": {},
     "output_type": "display_data"
    },
    {
     "data": {
      "application/vnd.jupyter.widget-view+json": {
       "model_id": "aeb383e830474203aa88ec231eea6647",
       "version_major": 2,
       "version_minor": 0
      },
      "text/plain": [
       "  0%|          | 0/16129 [00:00<?, ?it/s]"
      ]
     },
     "metadata": {},
     "output_type": "display_data"
    },
    {
     "data": {
      "application/vnd.jupyter.widget-view+json": {
       "model_id": "d71cf9066ee345ed82bd47a5d628c618",
       "version_major": 2,
       "version_minor": 0
      },
      "text/plain": [
       "  0%|          | 0/16129 [00:00<?, ?it/s]"
      ]
     },
     "metadata": {},
     "output_type": "display_data"
    },
    {
     "name": "stderr",
     "output_type": "stream",
     "text": [
      "[I 2024-01-30 19:24:46,386] Trial 104 finished with value: 0.9159946441650391 and parameters: {'sampler': False, 'batch_size': 8, 'epochs': 3, 'lr': 4.8379986845958783e-05, 'gamma': 0, 'weight': True, 'n_layers': 2, 'n_units_l0': 334, 'dr': 0.2, 'n_units_l1': 88}. Best is trial 45 with value: 0.9188078045845032.\n"
     ]
    },
    {
     "data": {
      "application/vnd.jupyter.widget-view+json": {
       "model_id": "cd004568dca147d2a82c5df05760cfba",
       "version_major": 2,
       "version_minor": 0
      },
      "text/plain": [
       "  0%|          | 0/16129 [00:00<?, ?it/s]"
      ]
     },
     "metadata": {},
     "output_type": "display_data"
    },
    {
     "data": {
      "application/vnd.jupyter.widget-view+json": {
       "model_id": "3db8419d3aeb469a892abef3ffc5c258",
       "version_major": 2,
       "version_minor": 0
      },
      "text/plain": [
       "  0%|          | 0/16129 [00:00<?, ?it/s]"
      ]
     },
     "metadata": {},
     "output_type": "display_data"
    },
    {
     "data": {
      "application/vnd.jupyter.widget-view+json": {
       "model_id": "78a19d668bf541f48b7f77370d490946",
       "version_major": 2,
       "version_minor": 0
      },
      "text/plain": [
       "  0%|          | 0/16129 [00:00<?, ?it/s]"
      ]
     },
     "metadata": {},
     "output_type": "display_data"
    },
    {
     "name": "stderr",
     "output_type": "stream",
     "text": [
      "[I 2024-01-30 19:26:44,814] Trial 105 finished with value: 0.9017080068588257 and parameters: {'sampler': False, 'batch_size': 8, 'epochs': 3, 'lr': 7.462740798201453e-05, 'gamma': 2, 'weight': True, 'n_layers': 2, 'n_units_l0': 249, 'dr': 0.30000000000000004, 'n_units_l1': 78}. Best is trial 45 with value: 0.9188078045845032.\n"
     ]
    },
    {
     "data": {
      "application/vnd.jupyter.widget-view+json": {
       "model_id": "a814c4467e3f436688093563735e94c2",
       "version_major": 2,
       "version_minor": 0
      },
      "text/plain": [
       "  0%|          | 0/16129 [00:00<?, ?it/s]"
      ]
     },
     "metadata": {},
     "output_type": "display_data"
    },
    {
     "data": {
      "application/vnd.jupyter.widget-view+json": {
       "model_id": "f1a8b8dca5914d4781b86dc756a9c160",
       "version_major": 2,
       "version_minor": 0
      },
      "text/plain": [
       "  0%|          | 0/16129 [00:00<?, ?it/s]"
      ]
     },
     "metadata": {},
     "output_type": "display_data"
    },
    {
     "data": {
      "application/vnd.jupyter.widget-view+json": {
       "model_id": "8c00d6187a634682ac034342d1f0f590",
       "version_major": 2,
       "version_minor": 0
      },
      "text/plain": [
       "  0%|          | 0/16129 [00:00<?, ?it/s]"
      ]
     },
     "metadata": {},
     "output_type": "display_data"
    },
    {
     "name": "stderr",
     "output_type": "stream",
     "text": [
      "[I 2024-01-30 19:28:43,118] Trial 106 finished with value: 0.8081769347190857 and parameters: {'sampler': True, 'batch_size': 8, 'epochs': 3, 'lr': 6.938859451699474e-05, 'gamma': 0, 'weight': True, 'n_layers': 2, 'n_units_l0': 419, 'dr': 0.2, 'n_units_l1': 121}. Best is trial 45 with value: 0.9188078045845032.\n"
     ]
    },
    {
     "data": {
      "application/vnd.jupyter.widget-view+json": {
       "model_id": "a5ebbe8a839641ab8ebb8333046aa5d8",
       "version_major": 2,
       "version_minor": 0
      },
      "text/plain": [
       "  0%|          | 0/16129 [00:00<?, ?it/s]"
      ]
     },
     "metadata": {},
     "output_type": "display_data"
    },
    {
     "data": {
      "application/vnd.jupyter.widget-view+json": {
       "model_id": "f193353d444b43fda36409b0e9134798",
       "version_major": 2,
       "version_minor": 0
      },
      "text/plain": [
       "  0%|          | 0/16129 [00:00<?, ?it/s]"
      ]
     },
     "metadata": {},
     "output_type": "display_data"
    },
    {
     "data": {
      "application/vnd.jupyter.widget-view+json": {
       "model_id": "6c3f538dc5804dd790fe0e6d1c9cd7b0",
       "version_major": 2,
       "version_minor": 0
      },
      "text/plain": [
       "  0%|          | 0/16129 [00:00<?, ?it/s]"
      ]
     },
     "metadata": {},
     "output_type": "display_data"
    },
    {
     "name": "stderr",
     "output_type": "stream",
     "text": [
      "[I 2024-01-30 19:30:39,242] Trial 107 finished with value: 0.9155734777450562 and parameters: {'sampler': False, 'batch_size': 8, 'epochs': 3, 'lr': 0.0001045453988460737, 'gamma': 0, 'weight': True, 'n_layers': 2, 'n_units_l0': 320, 'dr': 0.30000000000000004, 'n_units_l1': 98}. Best is trial 45 with value: 0.9188078045845032.\n"
     ]
    },
    {
     "data": {
      "application/vnd.jupyter.widget-view+json": {
       "model_id": "145a47db430b4cc59233fb60f9abd824",
       "version_major": 2,
       "version_minor": 0
      },
      "text/plain": [
       "  0%|          | 0/16129 [00:00<?, ?it/s]"
      ]
     },
     "metadata": {},
     "output_type": "display_data"
    },
    {
     "data": {
      "application/vnd.jupyter.widget-view+json": {
       "model_id": "3e5f59e29bfa4bb18db58ceaa34e3d5c",
       "version_major": 2,
       "version_minor": 0
      },
      "text/plain": [
       "  0%|          | 0/16129 [00:00<?, ?it/s]"
      ]
     },
     "metadata": {},
     "output_type": "display_data"
    },
    {
     "data": {
      "application/vnd.jupyter.widget-view+json": {
       "model_id": "f42028bd14044632b8479ff057fc8d85",
       "version_major": 2,
       "version_minor": 0
      },
      "text/plain": [
       "  0%|          | 0/16129 [00:00<?, ?it/s]"
      ]
     },
     "metadata": {},
     "output_type": "display_data"
    },
    {
     "name": "stderr",
     "output_type": "stream",
     "text": [
      "[I 2024-01-30 19:32:36,937] Trial 108 finished with value: 0.9045912623405457 and parameters: {'sampler': False, 'batch_size': 8, 'epochs': 3, 'lr': 0.000357204001343996, 'gamma': 2, 'weight': True, 'n_layers': 2, 'n_units_l0': 378, 'dr': 0.1, 'n_units_l1': 49}. Best is trial 45 with value: 0.9188078045845032.\n"
     ]
    },
    {
     "data": {
      "application/vnd.jupyter.widget-view+json": {
       "model_id": "d9a706776c3b42c3a6e0f1ca721e1885",
       "version_major": 2,
       "version_minor": 0
      },
      "text/plain": [
       "  0%|          | 0/16129 [00:00<?, ?it/s]"
      ]
     },
     "metadata": {},
     "output_type": "display_data"
    },
    {
     "data": {
      "application/vnd.jupyter.widget-view+json": {
       "model_id": "2d6493d69dea4ede8d4158bc61119c6e",
       "version_major": 2,
       "version_minor": 0
      },
      "text/plain": [
       "  0%|          | 0/16129 [00:00<?, ?it/s]"
      ]
     },
     "metadata": {},
     "output_type": "display_data"
    },
    {
     "data": {
      "application/vnd.jupyter.widget-view+json": {
       "model_id": "8880a98420e0447496052aa28d46cef4",
       "version_major": 2,
       "version_minor": 0
      },
      "text/plain": [
       "  0%|          | 0/16129 [00:00<?, ?it/s]"
      ]
     },
     "metadata": {},
     "output_type": "display_data"
    },
    {
     "name": "stderr",
     "output_type": "stream",
     "text": [
      "[I 2024-01-30 19:34:32,815] Trial 109 finished with value: 0.916469395160675 and parameters: {'sampler': False, 'batch_size': 8, 'epochs': 3, 'lr': 6.522396442090144e-05, 'gamma': 0, 'weight': True, 'n_layers': 2, 'n_units_l0': 12, 'dr': 0.2, 'n_units_l1': 146}. Best is trial 45 with value: 0.9188078045845032.\n"
     ]
    },
    {
     "data": {
      "application/vnd.jupyter.widget-view+json": {
       "model_id": "769fae6b30b74255a051b0078cc85e23",
       "version_major": 2,
       "version_minor": 0
      },
      "text/plain": [
       "  0%|          | 0/16129 [00:00<?, ?it/s]"
      ]
     },
     "metadata": {},
     "output_type": "display_data"
    },
    {
     "data": {
      "application/vnd.jupyter.widget-view+json": {
       "model_id": "7061f21feec4444880d2d339f8dba8db",
       "version_major": 2,
       "version_minor": 0
      },
      "text/plain": [
       "  0%|          | 0/16129 [00:00<?, ?it/s]"
      ]
     },
     "metadata": {},
     "output_type": "display_data"
    },
    {
     "data": {
      "application/vnd.jupyter.widget-view+json": {
       "model_id": "bb89630a695a4a30950955dee2503317",
       "version_major": 2,
       "version_minor": 0
      },
      "text/plain": [
       "  0%|          | 0/16129 [00:00<?, ?it/s]"
      ]
     },
     "metadata": {},
     "output_type": "display_data"
    },
    {
     "name": "stderr",
     "output_type": "stream",
     "text": [
      "[I 2024-01-30 19:36:27,779] Trial 110 finished with value: 0.9099368453025818 and parameters: {'sampler': False, 'batch_size': 8, 'epochs': 3, 'lr': 3.035361211712382e-05, 'gamma': 0, 'weight': True, 'n_layers': 2, 'n_units_l0': 6, 'dr': 0.2, 'n_units_l1': 4}. Best is trial 45 with value: 0.9188078045845032.\n"
     ]
    },
    {
     "data": {
      "application/vnd.jupyter.widget-view+json": {
       "model_id": "912b36fed0b34a46b80b0b1f7350e398",
       "version_major": 2,
       "version_minor": 0
      },
      "text/plain": [
       "  0%|          | 0/16129 [00:00<?, ?it/s]"
      ]
     },
     "metadata": {},
     "output_type": "display_data"
    },
    {
     "data": {
      "application/vnd.jupyter.widget-view+json": {
       "model_id": "df03a68415a64d9180e2a8f7e160688a",
       "version_major": 2,
       "version_minor": 0
      },
      "text/plain": [
       "  0%|          | 0/16129 [00:00<?, ?it/s]"
      ]
     },
     "metadata": {},
     "output_type": "display_data"
    },
    {
     "data": {
      "application/vnd.jupyter.widget-view+json": {
       "model_id": "00ec198fa82d4689b729b370dcc19efc",
       "version_major": 2,
       "version_minor": 0
      },
      "text/plain": [
       "  0%|          | 0/16129 [00:00<?, ?it/s]"
      ]
     },
     "metadata": {},
     "output_type": "display_data"
    },
    {
     "name": "stderr",
     "output_type": "stream",
     "text": [
      "[I 2024-01-30 19:38:23,786] Trial 111 finished with value: 0.9164438247680664 and parameters: {'sampler': False, 'batch_size': 8, 'epochs': 3, 'lr': 8.353953940151037e-05, 'gamma': 0, 'weight': True, 'n_layers': 2, 'n_units_l0': 462, 'dr': 0.2, 'n_units_l1': 156}. Best is trial 45 with value: 0.9188078045845032.\n"
     ]
    },
    {
     "data": {
      "application/vnd.jupyter.widget-view+json": {
       "model_id": "443ed027985046b6bf541bf48d9ef13f",
       "version_major": 2,
       "version_minor": 0
      },
      "text/plain": [
       "  0%|          | 0/16129 [00:00<?, ?it/s]"
      ]
     },
     "metadata": {},
     "output_type": "display_data"
    },
    {
     "data": {
      "application/vnd.jupyter.widget-view+json": {
       "model_id": "3ef8dd82cdde4c9fab82d7754ea8eae6",
       "version_major": 2,
       "version_minor": 0
      },
      "text/plain": [
       "  0%|          | 0/16129 [00:00<?, ?it/s]"
      ]
     },
     "metadata": {},
     "output_type": "display_data"
    },
    {
     "data": {
      "application/vnd.jupyter.widget-view+json": {
       "model_id": "be51ffd3f64447e68781504e7ec9b8e4",
       "version_major": 2,
       "version_minor": 0
      },
      "text/plain": [
       "  0%|          | 0/16129 [00:00<?, ?it/s]"
      ]
     },
     "metadata": {},
     "output_type": "display_data"
    },
    {
     "name": "stderr",
     "output_type": "stream",
     "text": [
      "[I 2024-01-30 19:40:18,889] Trial 112 finished with value: 0.9145559072494507 and parameters: {'sampler': False, 'batch_size': 8, 'epochs': 3, 'lr': 0.00010137644892452235, 'gamma': 0, 'weight': True, 'n_layers': 2, 'n_units_l0': 9, 'dr': 0.2, 'n_units_l1': 94}. Best is trial 45 with value: 0.9188078045845032.\n"
     ]
    },
    {
     "data": {
      "application/vnd.jupyter.widget-view+json": {
       "model_id": "84c3b7e1ea9244fba8de439e00e6fa88",
       "version_major": 2,
       "version_minor": 0
      },
      "text/plain": [
       "  0%|          | 0/16129 [00:00<?, ?it/s]"
      ]
     },
     "metadata": {},
     "output_type": "display_data"
    },
    {
     "data": {
      "application/vnd.jupyter.widget-view+json": {
       "model_id": "28496d4481c1473d9a95ca71e6e24503",
       "version_major": 2,
       "version_minor": 0
      },
      "text/plain": [
       "  0%|          | 0/16129 [00:00<?, ?it/s]"
      ]
     },
     "metadata": {},
     "output_type": "display_data"
    },
    {
     "data": {
      "application/vnd.jupyter.widget-view+json": {
       "model_id": "6f0c1c75f78a47d49f35330174cb9301",
       "version_major": 2,
       "version_minor": 0
      },
      "text/plain": [
       "  0%|          | 0/16129 [00:00<?, ?it/s]"
      ]
     },
     "metadata": {},
     "output_type": "display_data"
    },
    {
     "name": "stderr",
     "output_type": "stream",
     "text": [
      "[I 2024-01-30 19:42:15,286] Trial 113 finished with value: 0.9156626462936401 and parameters: {'sampler': False, 'batch_size': 8, 'epochs': 3, 'lr': 5.427512682130671e-05, 'gamma': 0, 'weight': True, 'n_layers': 2, 'n_units_l0': 388, 'dr': 0.2, 'n_units_l1': 182}. Best is trial 45 with value: 0.9188078045845032.\n"
     ]
    },
    {
     "data": {
      "application/vnd.jupyter.widget-view+json": {
       "model_id": "9c476b31fb6645bca5d025e38aa7f46a",
       "version_major": 2,
       "version_minor": 0
      },
      "text/plain": [
       "  0%|          | 0/16129 [00:00<?, ?it/s]"
      ]
     },
     "metadata": {},
     "output_type": "display_data"
    },
    {
     "data": {
      "application/vnd.jupyter.widget-view+json": {
       "model_id": "d975138063f744239931291cb4704472",
       "version_major": 2,
       "version_minor": 0
      },
      "text/plain": [
       "  0%|          | 0/16129 [00:00<?, ?it/s]"
      ]
     },
     "metadata": {},
     "output_type": "display_data"
    },
    {
     "data": {
      "application/vnd.jupyter.widget-view+json": {
       "model_id": "62bc8a22751e4ce0be58aab779d4d0a6",
       "version_major": 2,
       "version_minor": 0
      },
      "text/plain": [
       "  0%|          | 0/16129 [00:00<?, ?it/s]"
      ]
     },
     "metadata": {},
     "output_type": "display_data"
    },
    {
     "name": "stderr",
     "output_type": "stream",
     "text": [
      "[I 2024-01-30 19:44:10,731] Trial 114 finished with value: 0.9154694080352783 and parameters: {'sampler': False, 'batch_size': 8, 'epochs': 3, 'lr': 0.00012651971132241185, 'gamma': 0, 'weight': True, 'n_layers': 2, 'n_units_l0': 260, 'dr': 0.2, 'n_units_l1': 67}. Best is trial 45 with value: 0.9188078045845032.\n"
     ]
    },
    {
     "data": {
      "application/vnd.jupyter.widget-view+json": {
       "model_id": "ac09534dff5c475e827c349bef86d5d9",
       "version_major": 2,
       "version_minor": 0
      },
      "text/plain": [
       "  0%|          | 0/16129 [00:00<?, ?it/s]"
      ]
     },
     "metadata": {},
     "output_type": "display_data"
    },
    {
     "data": {
      "application/vnd.jupyter.widget-view+json": {
       "model_id": "642206abba6646fa9155944d846c8c71",
       "version_major": 2,
       "version_minor": 0
      },
      "text/plain": [
       "  0%|          | 0/16129 [00:00<?, ?it/s]"
      ]
     },
     "metadata": {},
     "output_type": "display_data"
    },
    {
     "data": {
      "application/vnd.jupyter.widget-view+json": {
       "model_id": "6b356e4ea18f443b9767c0e4b5627f7e",
       "version_major": 2,
       "version_minor": 0
      },
      "text/plain": [
       "  0%|          | 0/16129 [00:00<?, ?it/s]"
      ]
     },
     "metadata": {},
     "output_type": "display_data"
    },
    {
     "name": "stderr",
     "output_type": "stream",
     "text": [
      "[I 2024-01-30 19:46:05,938] Trial 115 finished with value: 0.9155495762825012 and parameters: {'sampler': False, 'batch_size': 8, 'epochs': 3, 'lr': 8.037370893484129e-05, 'gamma': 0, 'weight': True, 'n_layers': 2, 'n_units_l0': 85, 'dr': 0.2, 'n_units_l1': 128}. Best is trial 45 with value: 0.9188078045845032.\n"
     ]
    },
    {
     "data": {
      "application/vnd.jupyter.widget-view+json": {
       "model_id": "dde961fe1e194c48ad9dfc074b2672c7",
       "version_major": 2,
       "version_minor": 0
      },
      "text/plain": [
       "  0%|          | 0/8065 [00:00<?, ?it/s]"
      ]
     },
     "metadata": {},
     "output_type": "display_data"
    },
    {
     "data": {
      "application/vnd.jupyter.widget-view+json": {
       "model_id": "d5c6fb69c2734f5ea71c19afee34b7f1",
       "version_major": 2,
       "version_minor": 0
      },
      "text/plain": [
       "  0%|          | 0/8065 [00:00<?, ?it/s]"
      ]
     },
     "metadata": {},
     "output_type": "display_data"
    },
    {
     "data": {
      "application/vnd.jupyter.widget-view+json": {
       "model_id": "f210dbe79cb24410af064dfd6ae2daf7",
       "version_major": 2,
       "version_minor": 0
      },
      "text/plain": [
       "  0%|          | 0/8065 [00:00<?, ?it/s]"
      ]
     },
     "metadata": {},
     "output_type": "display_data"
    },
    {
     "name": "stderr",
     "output_type": "stream",
     "text": [
      "[I 2024-01-30 19:47:08,105] Trial 116 finished with value: 0.9189560413360596 and parameters: {'sampler': False, 'batch_size': 16, 'epochs': 3, 'lr': 0.00014173780281799572, 'gamma': 3, 'weight': False, 'n_layers': 2, 'n_units_l0': 289, 'dr': 0.2, 'n_units_l1': 298}. Best is trial 116 with value: 0.9189560413360596.\n"
     ]
    },
    {
     "data": {
      "application/vnd.jupyter.widget-view+json": {
       "model_id": "dcaa573427dc4f21bb0a164c5c941af1",
       "version_major": 2,
       "version_minor": 0
      },
      "text/plain": [
       "  0%|          | 0/8065 [00:00<?, ?it/s]"
      ]
     },
     "metadata": {},
     "output_type": "display_data"
    },
    {
     "data": {
      "application/vnd.jupyter.widget-view+json": {
       "model_id": "5ea9c0b09dc14a2b88ca404347dd54e3",
       "version_major": 2,
       "version_minor": 0
      },
      "text/plain": [
       "  0%|          | 0/8065 [00:00<?, ?it/s]"
      ]
     },
     "metadata": {},
     "output_type": "display_data"
    },
    {
     "data": {
      "application/vnd.jupyter.widget-view+json": {
       "model_id": "49c12df5917f4b71a7af2fdc7b68341e",
       "version_major": 2,
       "version_minor": 0
      },
      "text/plain": [
       "  0%|          | 0/8065 [00:00<?, ?it/s]"
      ]
     },
     "metadata": {},
     "output_type": "display_data"
    },
    {
     "name": "stderr",
     "output_type": "stream",
     "text": [
      "[I 2024-01-30 19:48:10,328] Trial 117 finished with value: 0.9173808097839355 and parameters: {'sampler': False, 'batch_size': 16, 'epochs': 3, 'lr': 0.00014018636460925033, 'gamma': 3, 'weight': False, 'n_layers': 2, 'n_units_l0': 223, 'dr': 0.30000000000000004, 'n_units_l1': 300}. Best is trial 116 with value: 0.9189560413360596.\n"
     ]
    },
    {
     "data": {
      "application/vnd.jupyter.widget-view+json": {
       "model_id": "7b5b13cc86044de087549e4aefffbfca",
       "version_major": 2,
       "version_minor": 0
      },
      "text/plain": [
       "  0%|          | 0/8065 [00:00<?, ?it/s]"
      ]
     },
     "metadata": {},
     "output_type": "display_data"
    },
    {
     "data": {
      "application/vnd.jupyter.widget-view+json": {
       "model_id": "312c916d375f4d8d978b68d3996e2833",
       "version_major": 2,
       "version_minor": 0
      },
      "text/plain": [
       "  0%|          | 0/8065 [00:00<?, ?it/s]"
      ]
     },
     "metadata": {},
     "output_type": "display_data"
    },
    {
     "data": {
      "application/vnd.jupyter.widget-view+json": {
       "model_id": "8800b539954a428791efd35dc5184597",
       "version_major": 2,
       "version_minor": 0
      },
      "text/plain": [
       "  0%|          | 0/8065 [00:00<?, ?it/s]"
      ]
     },
     "metadata": {},
     "output_type": "display_data"
    },
    {
     "name": "stderr",
     "output_type": "stream",
     "text": [
      "[I 2024-01-30 19:49:12,628] Trial 118 finished with value: 0.9169526696205139 and parameters: {'sampler': False, 'batch_size': 16, 'epochs': 3, 'lr': 0.0001415459571159381, 'gamma': 3, 'weight': False, 'n_layers': 2, 'n_units_l0': 228, 'dr': 0.30000000000000004, 'n_units_l1': 300}. Best is trial 116 with value: 0.9189560413360596.\n"
     ]
    },
    {
     "data": {
      "application/vnd.jupyter.widget-view+json": {
       "model_id": "e26c1f08c7054e43b5d8faeb07cd9e6b",
       "version_major": 2,
       "version_minor": 0
      },
      "text/plain": [
       "  0%|          | 0/8065 [00:00<?, ?it/s]"
      ]
     },
     "metadata": {},
     "output_type": "display_data"
    },
    {
     "data": {
      "application/vnd.jupyter.widget-view+json": {
       "model_id": "cb1f534c3cf246f08e9aa08f2e3f8f74",
       "version_major": 2,
       "version_minor": 0
      },
      "text/plain": [
       "  0%|          | 0/8065 [00:00<?, ?it/s]"
      ]
     },
     "metadata": {},
     "output_type": "display_data"
    },
    {
     "name": "stderr",
     "output_type": "stream",
     "text": [
      "[I 2024-01-30 19:49:54,145] Trial 119 finished with value: 0.9159519672393799 and parameters: {'sampler': False, 'batch_size': 16, 'epochs': 2, 'lr': 0.000143901273597201, 'gamma': 3, 'weight': False, 'n_layers': 2, 'n_units_l0': 224, 'dr': 0.30000000000000004, 'n_units_l1': 323}. Best is trial 116 with value: 0.9189560413360596.\n"
     ]
    },
    {
     "data": {
      "application/vnd.jupyter.widget-view+json": {
       "model_id": "4e111ac5c2a547a4acb245c73c66b9de",
       "version_major": 2,
       "version_minor": 0
      },
      "text/plain": [
       "  0%|          | 0/8065 [00:00<?, ?it/s]"
      ]
     },
     "metadata": {},
     "output_type": "display_data"
    },
    {
     "data": {
      "application/vnd.jupyter.widget-view+json": {
       "model_id": "ec6802f2b9704d348fecc9633e2d9103",
       "version_major": 2,
       "version_minor": 0
      },
      "text/plain": [
       "  0%|          | 0/8065 [00:00<?, ?it/s]"
      ]
     },
     "metadata": {},
     "output_type": "display_data"
    },
    {
     "data": {
      "application/vnd.jupyter.widget-view+json": {
       "model_id": "771b86c33fb54aa5a6a5028f3631fa64",
       "version_major": 2,
       "version_minor": 0
      },
      "text/plain": [
       "  0%|          | 0/8065 [00:00<?, ?it/s]"
      ]
     },
     "metadata": {},
     "output_type": "display_data"
    },
    {
     "name": "stderr",
     "output_type": "stream",
     "text": [
      "[I 2024-01-30 19:50:58,502] Trial 120 finished with value: 0.8738876581192017 and parameters: {'sampler': True, 'batch_size': 16, 'epochs': 3, 'lr': 0.00017004586483789494, 'gamma': 3, 'weight': False, 'n_layers': 2, 'n_units_l0': 275, 'dr': 0.30000000000000004, 'n_units_l1': 410}. Best is trial 116 with value: 0.9189560413360596.\n"
     ]
    },
    {
     "data": {
      "application/vnd.jupyter.widget-view+json": {
       "model_id": "236787d2699747aebd6a938dbda8bee2",
       "version_major": 2,
       "version_minor": 0
      },
      "text/plain": [
       "  0%|          | 0/8065 [00:00<?, ?it/s]"
      ]
     },
     "metadata": {},
     "output_type": "display_data"
    },
    {
     "data": {
      "application/vnd.jupyter.widget-view+json": {
       "model_id": "b4c141827dfb4692b1784c5e44908b63",
       "version_major": 2,
       "version_minor": 0
      },
      "text/plain": [
       "  0%|          | 0/8065 [00:00<?, ?it/s]"
      ]
     },
     "metadata": {},
     "output_type": "display_data"
    },
    {
     "data": {
      "application/vnd.jupyter.widget-view+json": {
       "model_id": "5578307d87bf435c90383b0142eaa1bb",
       "version_major": 2,
       "version_minor": 0
      },
      "text/plain": [
       "  0%|          | 0/8065 [00:00<?, ?it/s]"
      ]
     },
     "metadata": {},
     "output_type": "display_data"
    },
    {
     "name": "stderr",
     "output_type": "stream",
     "text": [
      "[I 2024-01-30 19:52:00,822] Trial 121 finished with value: 0.9173241257667542 and parameters: {'sampler': False, 'batch_size': 16, 'epochs': 3, 'lr': 0.00015623864883793743, 'gamma': 3, 'weight': False, 'n_layers': 2, 'n_units_l0': 299, 'dr': 0.30000000000000004, 'n_units_l1': 289}. Best is trial 116 with value: 0.9189560413360596.\n"
     ]
    },
    {
     "data": {
      "application/vnd.jupyter.widget-view+json": {
       "model_id": "20aff47b1149492aaf610e746afeb9af",
       "version_major": 2,
       "version_minor": 0
      },
      "text/plain": [
       "  0%|          | 0/8065 [00:00<?, ?it/s]"
      ]
     },
     "metadata": {},
     "output_type": "display_data"
    },
    {
     "data": {
      "application/vnd.jupyter.widget-view+json": {
       "model_id": "f2796c85e296413384b3f2c76d002ede",
       "version_major": 2,
       "version_minor": 0
      },
      "text/plain": [
       "  0%|          | 0/8065 [00:00<?, ?it/s]"
      ]
     },
     "metadata": {},
     "output_type": "display_data"
    },
    {
     "data": {
      "application/vnd.jupyter.widget-view+json": {
       "model_id": "8724a2f93ef2402481b07f58b910c5c1",
       "version_major": 2,
       "version_minor": 0
      },
      "text/plain": [
       "  0%|          | 0/8065 [00:00<?, ?it/s]"
      ]
     },
     "metadata": {},
     "output_type": "display_data"
    },
    {
     "name": "stderr",
     "output_type": "stream",
     "text": [
      "[I 2024-01-30 19:53:03,256] Trial 122 finished with value: 0.9167523384094238 and parameters: {'sampler': False, 'batch_size': 16, 'epochs': 3, 'lr': 0.00015195371078304906, 'gamma': 3, 'weight': False, 'n_layers': 2, 'n_units_l0': 293, 'dr': 0.30000000000000004, 'n_units_l1': 279}. Best is trial 116 with value: 0.9189560413360596.\n"
     ]
    },
    {
     "data": {
      "application/vnd.jupyter.widget-view+json": {
       "model_id": "7d807ce3cbcf4695ab8702b2ae580da1",
       "version_major": 2,
       "version_minor": 0
      },
      "text/plain": [
       "  0%|          | 0/8065 [00:00<?, ?it/s]"
      ]
     },
     "metadata": {},
     "output_type": "display_data"
    },
    {
     "data": {
      "application/vnd.jupyter.widget-view+json": {
       "model_id": "0b1c67b91902458fb9f98d5ae7e9441b",
       "version_major": 2,
       "version_minor": 0
      },
      "text/plain": [
       "  0%|          | 0/8065 [00:00<?, ?it/s]"
      ]
     },
     "metadata": {},
     "output_type": "display_data"
    },
    {
     "data": {
      "application/vnd.jupyter.widget-view+json": {
       "model_id": "1384e0d1245b42febff2dedc18962967",
       "version_major": 2,
       "version_minor": 0
      },
      "text/plain": [
       "  0%|          | 0/8065 [00:00<?, ?it/s]"
      ]
     },
     "metadata": {},
     "output_type": "display_data"
    },
    {
     "name": "stderr",
     "output_type": "stream",
     "text": [
      "[I 2024-01-30 19:54:05,495] Trial 123 finished with value: 0.9186405539512634 and parameters: {'sampler': False, 'batch_size': 16, 'epochs': 3, 'lr': 0.0001829615833674851, 'gamma': 3, 'weight': False, 'n_layers': 2, 'n_units_l0': 308, 'dr': 0.30000000000000004, 'n_units_l1': 292}. Best is trial 116 with value: 0.9189560413360596.\n"
     ]
    },
    {
     "data": {
      "application/vnd.jupyter.widget-view+json": {
       "model_id": "ba59dc2e0de24ed3baff23e52ce2d774",
       "version_major": 2,
       "version_minor": 0
      },
      "text/plain": [
       "  0%|          | 0/8065 [00:00<?, ?it/s]"
      ]
     },
     "metadata": {},
     "output_type": "display_data"
    },
    {
     "data": {
      "application/vnd.jupyter.widget-view+json": {
       "model_id": "3a784073db694a41be341548c4a98fdd",
       "version_major": 2,
       "version_minor": 0
      },
      "text/plain": [
       "  0%|          | 0/8065 [00:00<?, ?it/s]"
      ]
     },
     "metadata": {},
     "output_type": "display_data"
    },
    {
     "data": {
      "application/vnd.jupyter.widget-view+json": {
       "model_id": "50f459064068424d90c12f4d9fdadd86",
       "version_major": 2,
       "version_minor": 0
      },
      "text/plain": [
       "  0%|          | 0/8065 [00:00<?, ?it/s]"
      ]
     },
     "metadata": {},
     "output_type": "display_data"
    },
    {
     "name": "stderr",
     "output_type": "stream",
     "text": [
      "[I 2024-01-30 19:55:08,040] Trial 124 finished with value: 0.9174374938011169 and parameters: {'sampler': False, 'batch_size': 16, 'epochs': 3, 'lr': 0.0001579665116550163, 'gamma': 3, 'weight': False, 'n_layers': 2, 'n_units_l0': 315, 'dr': 0.30000000000000004, 'n_units_l1': 293}. Best is trial 116 with value: 0.9189560413360596.\n"
     ]
    },
    {
     "data": {
      "application/vnd.jupyter.widget-view+json": {
       "model_id": "56ef3b782c7247618ac414b561ec1fe4",
       "version_major": 2,
       "version_minor": 0
      },
      "text/plain": [
       "  0%|          | 0/8065 [00:00<?, ?it/s]"
      ]
     },
     "metadata": {},
     "output_type": "display_data"
    },
    {
     "data": {
      "application/vnd.jupyter.widget-view+json": {
       "model_id": "6660cb99133548d5beb2a22e4e98ad30",
       "version_major": 2,
       "version_minor": 0
      },
      "text/plain": [
       "  0%|          | 0/8065 [00:00<?, ?it/s]"
      ]
     },
     "metadata": {},
     "output_type": "display_data"
    },
    {
     "data": {
      "application/vnd.jupyter.widget-view+json": {
       "model_id": "ca9204425c4c485e9d212265aed5dc8e",
       "version_major": 2,
       "version_minor": 0
      },
      "text/plain": [
       "  0%|          | 0/8065 [00:00<?, ?it/s]"
      ]
     },
     "metadata": {},
     "output_type": "display_data"
    },
    {
     "name": "stderr",
     "output_type": "stream",
     "text": [
      "[I 2024-01-30 19:56:10,235] Trial 125 finished with value: 0.918826699256897 and parameters: {'sampler': False, 'batch_size': 16, 'epochs': 3, 'lr': 0.00015387533768537786, 'gamma': 3, 'weight': False, 'n_layers': 2, 'n_units_l0': 331, 'dr': 0.30000000000000004, 'n_units_l1': 292}. Best is trial 116 with value: 0.9189560413360596.\n"
     ]
    },
    {
     "data": {
      "application/vnd.jupyter.widget-view+json": {
       "model_id": "88326c7062c54ae8a85f622f18fe28c7",
       "version_major": 2,
       "version_minor": 0
      },
      "text/plain": [
       "  0%|          | 0/8065 [00:00<?, ?it/s]"
      ]
     },
     "metadata": {},
     "output_type": "display_data"
    },
    {
     "data": {
      "application/vnd.jupyter.widget-view+json": {
       "model_id": "d1af4f95df66479fb15cecefa2809c74",
       "version_major": 2,
       "version_minor": 0
      },
      "text/plain": [
       "  0%|          | 0/8065 [00:00<?, ?it/s]"
      ]
     },
     "metadata": {},
     "output_type": "display_data"
    },
    {
     "data": {
      "application/vnd.jupyter.widget-view+json": {
       "model_id": "f624edff851d465389a99dff25022d54",
       "version_major": 2,
       "version_minor": 0
      },
      "text/plain": [
       "  0%|          | 0/8065 [00:00<?, ?it/s]"
      ]
     },
     "metadata": {},
     "output_type": "display_data"
    },
    {
     "name": "stderr",
     "output_type": "stream",
     "text": [
      "[I 2024-01-30 19:57:12,410] Trial 126 finished with value: 0.9182905554771423 and parameters: {'sampler': False, 'batch_size': 16, 'epochs': 3, 'lr': 0.00017450728332276059, 'gamma': 3, 'weight': False, 'n_layers': 2, 'n_units_l0': 337, 'dr': 0.30000000000000004, 'n_units_l1': 340}. Best is trial 116 with value: 0.9189560413360596.\n"
     ]
    },
    {
     "data": {
      "application/vnd.jupyter.widget-view+json": {
       "model_id": "14169e7a49554ca088ca7e77cdefc0e4",
       "version_major": 2,
       "version_minor": 0
      },
      "text/plain": [
       "  0%|          | 0/8065 [00:00<?, ?it/s]"
      ]
     },
     "metadata": {},
     "output_type": "display_data"
    },
    {
     "data": {
      "application/vnd.jupyter.widget-view+json": {
       "model_id": "1f0ec66651cf442da70e403272f2fe5b",
       "version_major": 2,
       "version_minor": 0
      },
      "text/plain": [
       "  0%|          | 0/8065 [00:00<?, ?it/s]"
      ]
     },
     "metadata": {},
     "output_type": "display_data"
    },
    {
     "data": {
      "application/vnd.jupyter.widget-view+json": {
       "model_id": "030bfc4164cd4d04a544faed8a3d5fe6",
       "version_major": 2,
       "version_minor": 0
      },
      "text/plain": [
       "  0%|          | 0/8065 [00:00<?, ?it/s]"
      ]
     },
     "metadata": {},
     "output_type": "display_data"
    },
    {
     "name": "stderr",
     "output_type": "stream",
     "text": [
      "[I 2024-01-30 19:58:14,638] Trial 127 finished with value: 0.9182003736495972 and parameters: {'sampler': False, 'batch_size': 16, 'epochs': 3, 'lr': 0.00016655027553310003, 'gamma': 3, 'weight': False, 'n_layers': 2, 'n_units_l0': 333, 'dr': 0.30000000000000004, 'n_units_l1': 348}. Best is trial 116 with value: 0.9189560413360596.\n"
     ]
    },
    {
     "data": {
      "application/vnd.jupyter.widget-view+json": {
       "model_id": "62e3f0a12a3f4f439fa3710d1dc50d30",
       "version_major": 2,
       "version_minor": 0
      },
      "text/plain": [
       "  0%|          | 0/8065 [00:00<?, ?it/s]"
      ]
     },
     "metadata": {},
     "output_type": "display_data"
    },
    {
     "data": {
      "application/vnd.jupyter.widget-view+json": {
       "model_id": "5796f8530f704020b42842c80399838d",
       "version_major": 2,
       "version_minor": 0
      },
      "text/plain": [
       "  0%|          | 0/8065 [00:00<?, ?it/s]"
      ]
     },
     "metadata": {},
     "output_type": "display_data"
    },
    {
     "data": {
      "application/vnd.jupyter.widget-view+json": {
       "model_id": "006552c7562f4d3ba66214e7cd4487b0",
       "version_major": 2,
       "version_minor": 0
      },
      "text/plain": [
       "  0%|          | 0/8065 [00:00<?, ?it/s]"
      ]
     },
     "metadata": {},
     "output_type": "display_data"
    },
    {
     "name": "stderr",
     "output_type": "stream",
     "text": [
      "[I 2024-01-30 19:59:16,733] Trial 128 finished with value: 0.9180551171302795 and parameters: {'sampler': False, 'batch_size': 16, 'epochs': 3, 'lr': 0.00016566250418059857, 'gamma': 3, 'weight': False, 'n_layers': 2, 'n_units_l0': 336, 'dr': 0.30000000000000004, 'n_units_l1': 466}. Best is trial 116 with value: 0.9189560413360596.\n"
     ]
    },
    {
     "data": {
      "application/vnd.jupyter.widget-view+json": {
       "model_id": "daf243e6cd0c4ad38480a8687c21fb3a",
       "version_major": 2,
       "version_minor": 0
      },
      "text/plain": [
       "  0%|          | 0/8065 [00:00<?, ?it/s]"
      ]
     },
     "metadata": {},
     "output_type": "display_data"
    },
    {
     "data": {
      "application/vnd.jupyter.widget-view+json": {
       "model_id": "3118250d34994709a4bf583a293ab0cf",
       "version_major": 2,
       "version_minor": 0
      },
      "text/plain": [
       "  0%|          | 0/8065 [00:00<?, ?it/s]"
      ]
     },
     "metadata": {},
     "output_type": "display_data"
    },
    {
     "data": {
      "application/vnd.jupyter.widget-view+json": {
       "model_id": "2a51d215c18e446a83294c0e8a96d1a3",
       "version_major": 2,
       "version_minor": 0
      },
      "text/plain": [
       "  0%|          | 0/8065 [00:00<?, ?it/s]"
      ]
     },
     "metadata": {},
     "output_type": "display_data"
    },
    {
     "name": "stderr",
     "output_type": "stream",
     "text": [
      "[I 2024-01-30 20:00:18,993] Trial 129 finished with value: 0.9172931909561157 and parameters: {'sampler': False, 'batch_size': 16, 'epochs': 3, 'lr': 0.00017435133687368866, 'gamma': 3, 'weight': False, 'n_layers': 2, 'n_units_l0': 332, 'dr': 0.30000000000000004, 'n_units_l1': 511}. Best is trial 116 with value: 0.9189560413360596.\n"
     ]
    },
    {
     "data": {
      "application/vnd.jupyter.widget-view+json": {
       "model_id": "e816edf3906b4a0988aeafcff842a3f8",
       "version_major": 2,
       "version_minor": 0
      },
      "text/plain": [
       "  0%|          | 0/8065 [00:00<?, ?it/s]"
      ]
     },
     "metadata": {},
     "output_type": "display_data"
    },
    {
     "data": {
      "application/vnd.jupyter.widget-view+json": {
       "model_id": "eed4c99ecffe4eeb920ece8418468b54",
       "version_major": 2,
       "version_minor": 0
      },
      "text/plain": [
       "  0%|          | 0/8065 [00:00<?, ?it/s]"
      ]
     },
     "metadata": {},
     "output_type": "display_data"
    },
    {
     "data": {
      "application/vnd.jupyter.widget-view+json": {
       "model_id": "f322e8d5607949dd8ef0c3b8e3e2236f",
       "version_major": 2,
       "version_minor": 0
      },
      "text/plain": [
       "  0%|          | 0/8065 [00:00<?, ?it/s]"
      ]
     },
     "metadata": {},
     "output_type": "display_data"
    },
    {
     "name": "stderr",
     "output_type": "stream",
     "text": [
      "[I 2024-01-30 20:01:21,469] Trial 130 finished with value: 0.9156378507614136 and parameters: {'sampler': False, 'batch_size': 16, 'epochs': 3, 'lr': 0.0001799704696490518, 'gamma': 3, 'weight': False, 'n_layers': 2, 'n_units_l0': 339, 'dr': 0.30000000000000004, 'n_units_l1': 337}. Best is trial 116 with value: 0.9189560413360596.\n"
     ]
    },
    {
     "data": {
      "application/vnd.jupyter.widget-view+json": {
       "model_id": "ee05113c0cd142b3829b85997542d7d4",
       "version_major": 2,
       "version_minor": 0
      },
      "text/plain": [
       "  0%|          | 0/8065 [00:00<?, ?it/s]"
      ]
     },
     "metadata": {},
     "output_type": "display_data"
    },
    {
     "data": {
      "application/vnd.jupyter.widget-view+json": {
       "model_id": "3753225430044c609e551537603887f0",
       "version_major": 2,
       "version_minor": 0
      },
      "text/plain": [
       "  0%|          | 0/8065 [00:00<?, ?it/s]"
      ]
     },
     "metadata": {},
     "output_type": "display_data"
    },
    {
     "data": {
      "application/vnd.jupyter.widget-view+json": {
       "model_id": "f2f0ff35676a482d8a6b5fde279669e9",
       "version_major": 2,
       "version_minor": 0
      },
      "text/plain": [
       "  0%|          | 0/8065 [00:00<?, ?it/s]"
      ]
     },
     "metadata": {},
     "output_type": "display_data"
    },
    {
     "name": "stderr",
     "output_type": "stream",
     "text": [
      "[I 2024-01-30 20:02:23,853] Trial 131 finished with value: 0.9176068902015686 and parameters: {'sampler': False, 'batch_size': 16, 'epochs': 3, 'lr': 0.00016495835132875582, 'gamma': 3, 'weight': False, 'n_layers': 2, 'n_units_l0': 345, 'dr': 0.30000000000000004, 'n_units_l1': 363}. Best is trial 116 with value: 0.9189560413360596.\n"
     ]
    },
    {
     "data": {
      "application/vnd.jupyter.widget-view+json": {
       "model_id": "5a6d27b0648d415d8811393ab3abc861",
       "version_major": 2,
       "version_minor": 0
      },
      "text/plain": [
       "  0%|          | 0/8065 [00:00<?, ?it/s]"
      ]
     },
     "metadata": {},
     "output_type": "display_data"
    },
    {
     "data": {
      "application/vnd.jupyter.widget-view+json": {
       "model_id": "84da0da016484a0888778445f6b28168",
       "version_major": 2,
       "version_minor": 0
      },
      "text/plain": [
       "  0%|          | 0/8065 [00:00<?, ?it/s]"
      ]
     },
     "metadata": {},
     "output_type": "display_data"
    },
    {
     "data": {
      "application/vnd.jupyter.widget-view+json": {
       "model_id": "a4151384b2914c4384f7b9eeadb0409b",
       "version_major": 2,
       "version_minor": 0
      },
      "text/plain": [
       "  0%|          | 0/8065 [00:00<?, ?it/s]"
      ]
     },
     "metadata": {},
     "output_type": "display_data"
    },
    {
     "name": "stderr",
     "output_type": "stream",
     "text": [
      "[I 2024-01-30 20:03:25,959] Trial 132 finished with value: 0.9179540276527405 and parameters: {'sampler': False, 'batch_size': 16, 'epochs': 3, 'lr': 0.00015877732650801258, 'gamma': 3, 'weight': False, 'n_layers': 2, 'n_units_l0': 307, 'dr': 0.30000000000000004, 'n_units_l1': 473}. Best is trial 116 with value: 0.9189560413360596.\n"
     ]
    },
    {
     "data": {
      "application/vnd.jupyter.widget-view+json": {
       "model_id": "ee8f638322554962a568b65a47020a3d",
       "version_major": 2,
       "version_minor": 0
      },
      "text/plain": [
       "  0%|          | 0/8065 [00:00<?, ?it/s]"
      ]
     },
     "metadata": {},
     "output_type": "display_data"
    },
    {
     "data": {
      "application/vnd.jupyter.widget-view+json": {
       "model_id": "a832c364a3774dcab9a8df1e985d65c0",
       "version_major": 2,
       "version_minor": 0
      },
      "text/plain": [
       "  0%|          | 0/8065 [00:00<?, ?it/s]"
      ]
     },
     "metadata": {},
     "output_type": "display_data"
    },
    {
     "data": {
      "application/vnd.jupyter.widget-view+json": {
       "model_id": "f0456327b318496ca0f765d8c28eeb3c",
       "version_major": 2,
       "version_minor": 0
      },
      "text/plain": [
       "  0%|          | 0/8065 [00:00<?, ?it/s]"
      ]
     },
     "metadata": {},
     "output_type": "display_data"
    },
    {
     "name": "stderr",
     "output_type": "stream",
     "text": [
      "[I 2024-01-30 20:04:27,766] Trial 133 finished with value: 0.9187713861465454 and parameters: {'sampler': False, 'batch_size': 16, 'epochs': 3, 'lr': 0.00016589728410060283, 'gamma': 3, 'weight': False, 'n_layers': 2, 'n_units_l0': 264, 'dr': 0.30000000000000004, 'n_units_l1': 501}. Best is trial 116 with value: 0.9189560413360596.\n"
     ]
    },
    {
     "data": {
      "application/vnd.jupyter.widget-view+json": {
       "model_id": "3aa455b628f541428002862c11341621",
       "version_major": 2,
       "version_minor": 0
      },
      "text/plain": [
       "  0%|          | 0/8065 [00:00<?, ?it/s]"
      ]
     },
     "metadata": {},
     "output_type": "display_data"
    },
    {
     "data": {
      "application/vnd.jupyter.widget-view+json": {
       "model_id": "13b661e7c4a2417f9dfacb42ef3c8261",
       "version_major": 2,
       "version_minor": 0
      },
      "text/plain": [
       "  0%|          | 0/8065 [00:00<?, ?it/s]"
      ]
     },
     "metadata": {},
     "output_type": "display_data"
    },
    {
     "data": {
      "application/vnd.jupyter.widget-view+json": {
       "model_id": "88e4d44883c145a9adf20b3faf7e4621",
       "version_major": 2,
       "version_minor": 0
      },
      "text/plain": [
       "  0%|          | 0/8065 [00:00<?, ?it/s]"
      ]
     },
     "metadata": {},
     "output_type": "display_data"
    },
    {
     "name": "stderr",
     "output_type": "stream",
     "text": [
      "[I 2024-01-30 20:05:29,715] Trial 134 finished with value: 0.9179540276527405 and parameters: {'sampler': False, 'batch_size': 16, 'epochs': 3, 'lr': 0.00016149432204915694, 'gamma': 3, 'weight': False, 'n_layers': 2, 'n_units_l0': 272, 'dr': 0.30000000000000004, 'n_units_l1': 451}. Best is trial 116 with value: 0.9189560413360596.\n"
     ]
    },
    {
     "data": {
      "application/vnd.jupyter.widget-view+json": {
       "model_id": "7fc03f4b2f4640b3998d89f240794971",
       "version_major": 2,
       "version_minor": 0
      },
      "text/plain": [
       "  0%|          | 0/8065 [00:00<?, ?it/s]"
      ]
     },
     "metadata": {},
     "output_type": "display_data"
    },
    {
     "data": {
      "application/vnd.jupyter.widget-view+json": {
       "model_id": "b59852b0582548358c12798ca8cd1444",
       "version_major": 2,
       "version_minor": 0
      },
      "text/plain": [
       "  0%|          | 0/8065 [00:00<?, ?it/s]"
      ]
     },
     "metadata": {},
     "output_type": "display_data"
    },
    {
     "data": {
      "application/vnd.jupyter.widget-view+json": {
       "model_id": "604269ba523a40759829645a736d7f8a",
       "version_major": 2,
       "version_minor": 0
      },
      "text/plain": [
       "  0%|          | 0/8065 [00:00<?, ?it/s]"
      ]
     },
     "metadata": {},
     "output_type": "display_data"
    },
    {
     "name": "stderr",
     "output_type": "stream",
     "text": [
      "[I 2024-01-30 20:06:31,765] Trial 135 finished with value: 0.9160358309745789 and parameters: {'sampler': False, 'batch_size': 16, 'epochs': 3, 'lr': 0.00019682408312483344, 'gamma': 3, 'weight': False, 'n_layers': 2, 'n_units_l0': 267, 'dr': 0.30000000000000004, 'n_units_l1': 469}. Best is trial 116 with value: 0.9189560413360596.\n"
     ]
    },
    {
     "data": {
      "application/vnd.jupyter.widget-view+json": {
       "model_id": "6b9c53017dd34ec093804aaa06dd97ff",
       "version_major": 2,
       "version_minor": 0
      },
      "text/plain": [
       "  0%|          | 0/8065 [00:00<?, ?it/s]"
      ]
     },
     "metadata": {},
     "output_type": "display_data"
    },
    {
     "data": {
      "application/vnd.jupyter.widget-view+json": {
       "model_id": "9babebf258b149b0bf2f4448fc62dba9",
       "version_major": 2,
       "version_minor": 0
      },
      "text/plain": [
       "  0%|          | 0/8065 [00:00<?, ?it/s]"
      ]
     },
     "metadata": {},
     "output_type": "display_data"
    },
    {
     "data": {
      "application/vnd.jupyter.widget-view+json": {
       "model_id": "c67611de5a194617a1d858d583c348f4",
       "version_major": 2,
       "version_minor": 0
      },
      "text/plain": [
       "  0%|          | 0/8065 [00:00<?, ?it/s]"
      ]
     },
     "metadata": {},
     "output_type": "display_data"
    },
    {
     "name": "stderr",
     "output_type": "stream",
     "text": [
      "[I 2024-01-30 20:07:34,131] Trial 136 finished with value: 0.9166380763053894 and parameters: {'sampler': False, 'batch_size': 16, 'epochs': 3, 'lr': 0.00016542000378806304, 'gamma': 3, 'weight': False, 'n_layers': 2, 'n_units_l0': 247, 'dr': 0.30000000000000004, 'n_units_l1': 437}. Best is trial 116 with value: 0.9189560413360596.\n"
     ]
    },
    {
     "data": {
      "application/vnd.jupyter.widget-view+json": {
       "model_id": "f6a83a3a093745d9995f388c6119ecb2",
       "version_major": 2,
       "version_minor": 0
      },
      "text/plain": [
       "  0%|          | 0/8065 [00:00<?, ?it/s]"
      ]
     },
     "metadata": {},
     "output_type": "display_data"
    },
    {
     "data": {
      "application/vnd.jupyter.widget-view+json": {
       "model_id": "6a3c2bc5b81f4bfb800f91aa74c9e2e6",
       "version_major": 2,
       "version_minor": 0
      },
      "text/plain": [
       "  0%|          | 0/8065 [00:00<?, ?it/s]"
      ]
     },
     "metadata": {},
     "output_type": "display_data"
    },
    {
     "data": {
      "application/vnd.jupyter.widget-view+json": {
       "model_id": "d446a1899cef4744951e54e66706620b",
       "version_major": 2,
       "version_minor": 0
      },
      "text/plain": [
       "  0%|          | 0/8065 [00:00<?, ?it/s]"
      ]
     },
     "metadata": {},
     "output_type": "display_data"
    },
    {
     "name": "stderr",
     "output_type": "stream",
     "text": [
      "[I 2024-01-30 20:08:36,464] Trial 137 finished with value: 0.9177193641662598 and parameters: {'sampler': False, 'batch_size': 16, 'epochs': 3, 'lr': 0.00013091181867218977, 'gamma': 3, 'weight': False, 'n_layers': 2, 'n_units_l0': 408, 'dr': 0.30000000000000004, 'n_units_l1': 373}. Best is trial 116 with value: 0.9189560413360596.\n"
     ]
    },
    {
     "data": {
      "application/vnd.jupyter.widget-view+json": {
       "model_id": "868e2de33a37480497d4da9b478c0aba",
       "version_major": 2,
       "version_minor": 0
      },
      "text/plain": [
       "  0%|          | 0/8065 [00:00<?, ?it/s]"
      ]
     },
     "metadata": {},
     "output_type": "display_data"
    },
    {
     "data": {
      "application/vnd.jupyter.widget-view+json": {
       "model_id": "ee2c76d2780545bf9fc065ac9f905c76",
       "version_major": 2,
       "version_minor": 0
      },
      "text/plain": [
       "  0%|          | 0/8065 [00:00<?, ?it/s]"
      ]
     },
     "metadata": {},
     "output_type": "display_data"
    },
    {
     "data": {
      "application/vnd.jupyter.widget-view+json": {
       "model_id": "32148fcfe74d4ee9b14fa81709ee72bb",
       "version_major": 2,
       "version_minor": 0
      },
      "text/plain": [
       "  0%|          | 0/8065 [00:00<?, ?it/s]"
      ]
     },
     "metadata": {},
     "output_type": "display_data"
    },
    {
     "name": "stderr",
     "output_type": "stream",
     "text": [
      "[I 2024-01-30 20:09:39,015] Trial 138 finished with value: 0.9187158942222595 and parameters: {'sampler': False, 'batch_size': 16, 'epochs': 3, 'lr': 0.00018981959696717012, 'gamma': 3, 'weight': False, 'n_layers': 2, 'n_units_l0': 370, 'dr': 0.30000000000000004, 'n_units_l1': 366}. Best is trial 116 with value: 0.9189560413360596.\n"
     ]
    },
    {
     "data": {
      "application/vnd.jupyter.widget-view+json": {
       "model_id": "9aabb983f17f4c969de4df12bb7ebd3e",
       "version_major": 2,
       "version_minor": 0
      },
      "text/plain": [
       "  0%|          | 0/8065 [00:00<?, ?it/s]"
      ]
     },
     "metadata": {},
     "output_type": "display_data"
    },
    {
     "data": {
      "application/vnd.jupyter.widget-view+json": {
       "model_id": "5ab9113a1f9a44948e14273d47eca64a",
       "version_major": 2,
       "version_minor": 0
      },
      "text/plain": [
       "  0%|          | 0/8065 [00:00<?, ?it/s]"
      ]
     },
     "metadata": {},
     "output_type": "display_data"
    },
    {
     "data": {
      "application/vnd.jupyter.widget-view+json": {
       "model_id": "7e156a7593cd4ea4b75255d01b8ece71",
       "version_major": 2,
       "version_minor": 0
      },
      "text/plain": [
       "  0%|          | 0/8065 [00:00<?, ?it/s]"
      ]
     },
     "metadata": {},
     "output_type": "display_data"
    },
    {
     "name": "stderr",
     "output_type": "stream",
     "text": [
      "[I 2024-01-30 20:10:41,722] Trial 139 finished with value: 0.9164941906929016 and parameters: {'sampler': False, 'batch_size': 16, 'epochs': 3, 'lr': 0.00011642247039224472, 'gamma': 3, 'weight': False, 'n_layers': 2, 'n_units_l0': 437, 'dr': 0.30000000000000004, 'n_units_l1': 370}. Best is trial 116 with value: 0.9189560413360596.\n"
     ]
    },
    {
     "data": {
      "application/vnd.jupyter.widget-view+json": {
       "model_id": "04bd64d751454497944ff91572ad1197",
       "version_major": 2,
       "version_minor": 0
      },
      "text/plain": [
       "  0%|          | 0/8065 [00:00<?, ?it/s]"
      ]
     },
     "metadata": {},
     "output_type": "display_data"
    },
    {
     "data": {
      "application/vnd.jupyter.widget-view+json": {
       "model_id": "0ec75de50aeb4a8790325808d7ba4839",
       "version_major": 2,
       "version_minor": 0
      },
      "text/plain": [
       "  0%|          | 0/8065 [00:00<?, ?it/s]"
      ]
     },
     "metadata": {},
     "output_type": "display_data"
    },
    {
     "data": {
      "application/vnd.jupyter.widget-view+json": {
       "model_id": "3c3c0f1336dd42299462924e02d6d979",
       "version_major": 2,
       "version_minor": 0
      },
      "text/plain": [
       "  0%|          | 0/8065 [00:00<?, ?it/s]"
      ]
     },
     "metadata": {},
     "output_type": "display_data"
    },
    {
     "name": "stderr",
     "output_type": "stream",
     "text": [
      "[I 2024-01-30 20:11:43,751] Trial 140 finished with value: 0.9186046719551086 and parameters: {'sampler': False, 'batch_size': 16, 'epochs': 3, 'lr': 0.0001871386027081734, 'gamma': 3, 'weight': False, 'n_layers': 2, 'n_units_l0': 373, 'dr': 0.30000000000000004, 'n_units_l1': 461}. Best is trial 116 with value: 0.9189560413360596.\n"
     ]
    },
    {
     "data": {
      "application/vnd.jupyter.widget-view+json": {
       "model_id": "c4866bc967e84d65b16667d53576017a",
       "version_major": 2,
       "version_minor": 0
      },
      "text/plain": [
       "  0%|          | 0/8065 [00:00<?, ?it/s]"
      ]
     },
     "metadata": {},
     "output_type": "display_data"
    },
    {
     "data": {
      "application/vnd.jupyter.widget-view+json": {
       "model_id": "ea23d43783674ee3aecb9a64d93e578d",
       "version_major": 2,
       "version_minor": 0
      },
      "text/plain": [
       "  0%|          | 0/8065 [00:00<?, ?it/s]"
      ]
     },
     "metadata": {},
     "output_type": "display_data"
    },
    {
     "data": {
      "application/vnd.jupyter.widget-view+json": {
       "model_id": "bac0d7de927c4cac8644b3d8591810a9",
       "version_major": 2,
       "version_minor": 0
      },
      "text/plain": [
       "  0%|          | 0/8065 [00:00<?, ?it/s]"
      ]
     },
     "metadata": {},
     "output_type": "display_data"
    },
    {
     "name": "stderr",
     "output_type": "stream",
     "text": [
      "[I 2024-01-30 20:12:45,811] Trial 141 finished with value: 0.9176631569862366 and parameters: {'sampler': False, 'batch_size': 16, 'epochs': 3, 'lr': 0.00019139884102437236, 'gamma': 3, 'weight': False, 'n_layers': 2, 'n_units_l0': 372, 'dr': 0.30000000000000004, 'n_units_l1': 440}. Best is trial 116 with value: 0.9189560413360596.\n"
     ]
    },
    {
     "data": {
      "application/vnd.jupyter.widget-view+json": {
       "model_id": "3d7e9f7b01f8460da202b5a06593cc26",
       "version_major": 2,
       "version_minor": 0
      },
      "text/plain": [
       "  0%|          | 0/8065 [00:00<?, ?it/s]"
      ]
     },
     "metadata": {},
     "output_type": "display_data"
    },
    {
     "data": {
      "application/vnd.jupyter.widget-view+json": {
       "model_id": "f5d7a2d4d04d47e9bf31fcf38962e450",
       "version_major": 2,
       "version_minor": 0
      },
      "text/plain": [
       "  0%|          | 0/8065 [00:00<?, ?it/s]"
      ]
     },
     "metadata": {},
     "output_type": "display_data"
    },
    {
     "data": {
      "application/vnd.jupyter.widget-view+json": {
       "model_id": "03afd2a0669e43eda2c82a89c028fe3a",
       "version_major": 2,
       "version_minor": 0
      },
      "text/plain": [
       "  0%|          | 0/8065 [00:00<?, ?it/s]"
      ]
     },
     "metadata": {},
     "output_type": "display_data"
    },
    {
     "name": "stderr",
     "output_type": "stream",
     "text": [
      "[I 2024-01-30 20:13:48,301] Trial 142 finished with value: 0.9180102944374084 and parameters: {'sampler': False, 'batch_size': 16, 'epochs': 3, 'lr': 0.00020334640316936421, 'gamma': 3, 'weight': False, 'n_layers': 2, 'n_units_l0': 368, 'dr': 0.30000000000000004, 'n_units_l1': 461}. Best is trial 116 with value: 0.9189560413360596.\n"
     ]
    },
    {
     "data": {
      "application/vnd.jupyter.widget-view+json": {
       "model_id": "bbf8e44d3c35405388d7b0227d4cfd3d",
       "version_major": 2,
       "version_minor": 0
      },
      "text/plain": [
       "  0%|          | 0/8065 [00:00<?, ?it/s]"
      ]
     },
     "metadata": {},
     "output_type": "display_data"
    },
    {
     "data": {
      "application/vnd.jupyter.widget-view+json": {
       "model_id": "9701ffbc589c4e4b8f5c6c8675700970",
       "version_major": 2,
       "version_minor": 0
      },
      "text/plain": [
       "  0%|          | 0/8065 [00:00<?, ?it/s]"
      ]
     },
     "metadata": {},
     "output_type": "display_data"
    },
    {
     "data": {
      "application/vnd.jupyter.widget-view+json": {
       "model_id": "6a70c8b2f54649568dd8aa4c7af502af",
       "version_major": 2,
       "version_minor": 0
      },
      "text/plain": [
       "  0%|          | 0/8065 [00:00<?, ?it/s]"
      ]
     },
     "metadata": {},
     "output_type": "display_data"
    },
    {
     "name": "stderr",
     "output_type": "stream",
     "text": [
      "[I 2024-01-30 20:14:50,703] Trial 143 finished with value: 0.9173241257667542 and parameters: {'sampler': False, 'batch_size': 16, 'epochs': 3, 'lr': 0.00019751398160324822, 'gamma': 3, 'weight': False, 'n_layers': 2, 'n_units_l0': 388, 'dr': 0.30000000000000004, 'n_units_l1': 455}. Best is trial 116 with value: 0.9189560413360596.\n"
     ]
    },
    {
     "data": {
      "application/vnd.jupyter.widget-view+json": {
       "model_id": "3e00eca7429946a291f1f28ae891da28",
       "version_major": 2,
       "version_minor": 0
      },
      "text/plain": [
       "  0%|          | 0/8065 [00:00<?, ?it/s]"
      ]
     },
     "metadata": {},
     "output_type": "display_data"
    },
    {
     "data": {
      "application/vnd.jupyter.widget-view+json": {
       "model_id": "40a3e32daeb444ba97a4420e0775353b",
       "version_major": 2,
       "version_minor": 0
      },
      "text/plain": [
       "  0%|          | 0/8065 [00:00<?, ?it/s]"
      ]
     },
     "metadata": {},
     "output_type": "display_data"
    },
    {
     "data": {
      "application/vnd.jupyter.widget-view+json": {
       "model_id": "454edaa53cb0476e9efba30aeef245f0",
       "version_major": 2,
       "version_minor": 0
      },
      "text/plain": [
       "  0%|          | 0/8065 [00:00<?, ?it/s]"
      ]
     },
     "metadata": {},
     "output_type": "display_data"
    },
    {
     "name": "stderr",
     "output_type": "stream",
     "text": [
      "[I 2024-01-30 20:15:53,052] Trial 144 finished with value: 0.9169526696205139 and parameters: {'sampler': False, 'batch_size': 16, 'epochs': 3, 'lr': 0.00018099717291869527, 'gamma': 3, 'weight': False, 'n_layers': 2, 'n_units_l0': 496, 'dr': 0.30000000000000004, 'n_units_l1': 412}. Best is trial 116 with value: 0.9189560413360596.\n"
     ]
    },
    {
     "data": {
      "application/vnd.jupyter.widget-view+json": {
       "model_id": "cb8fba7cf66b472d8c1e735b7af07279",
       "version_major": 2,
       "version_minor": 0
      },
      "text/plain": [
       "  0%|          | 0/8065 [00:00<?, ?it/s]"
      ]
     },
     "metadata": {},
     "output_type": "display_data"
    },
    {
     "data": {
      "application/vnd.jupyter.widget-view+json": {
       "model_id": "691b7be49edf4dd480bd4dfe957fcdc4",
       "version_major": 2,
       "version_minor": 0
      },
      "text/plain": [
       "  0%|          | 0/8065 [00:00<?, ?it/s]"
      ]
     },
     "metadata": {},
     "output_type": "display_data"
    },
    {
     "data": {
      "application/vnd.jupyter.widget-view+json": {
       "model_id": "8138bbc48a1c484dbcd2acc6516a62d8",
       "version_major": 2,
       "version_minor": 0
      },
      "text/plain": [
       "  0%|          | 0/8065 [00:00<?, ?it/s]"
      ]
     },
     "metadata": {},
     "output_type": "display_data"
    },
    {
     "name": "stderr",
     "output_type": "stream",
     "text": [
      "[I 2024-01-30 20:16:55,858] Trial 145 finished with value: 0.9181786775588989 and parameters: {'sampler': False, 'batch_size': 16, 'epochs': 3, 'lr': 0.00020922631948253962, 'gamma': 3, 'weight': False, 'n_layers': 2, 'n_units_l0': 405, 'dr': 0.30000000000000004, 'n_units_l1': 500}. Best is trial 116 with value: 0.9189560413360596.\n"
     ]
    },
    {
     "data": {
      "application/vnd.jupyter.widget-view+json": {
       "model_id": "4a1065a8cfea4f42ac6bf8fb6f784a2e",
       "version_major": 2,
       "version_minor": 0
      },
      "text/plain": [
       "  0%|          | 0/8065 [00:00<?, ?it/s]"
      ]
     },
     "metadata": {},
     "output_type": "display_data"
    },
    {
     "data": {
      "application/vnd.jupyter.widget-view+json": {
       "model_id": "9521b724aa4c462b83a936792345ec76",
       "version_major": 2,
       "version_minor": 0
      },
      "text/plain": [
       "  0%|          | 0/8065 [00:00<?, ?it/s]"
      ]
     },
     "metadata": {},
     "output_type": "display_data"
    },
    {
     "data": {
      "application/vnd.jupyter.widget-view+json": {
       "model_id": "639a8aed0ffb4fb9a1966886fa7a56ba",
       "version_major": 2,
       "version_minor": 0
      },
      "text/plain": [
       "  0%|          | 0/8065 [00:00<?, ?it/s]"
      ]
     },
     "metadata": {},
     "output_type": "display_data"
    },
    {
     "name": "stderr",
     "output_type": "stream",
     "text": [
      "[I 2024-01-30 20:17:59,765] Trial 146 finished with value: 0.9186046719551086 and parameters: {'sampler': False, 'batch_size': 16, 'epochs': 3, 'lr': 0.00021822511490591197, 'gamma': 3, 'weight': False, 'n_layers': 2, 'n_units_l0': 410, 'dr': 0.30000000000000004, 'n_units_l1': 496}. Best is trial 116 with value: 0.9189560413360596.\n"
     ]
    },
    {
     "data": {
      "application/vnd.jupyter.widget-view+json": {
       "model_id": "52e2c9ff0c93428b84e21675c196f487",
       "version_major": 2,
       "version_minor": 0
      },
      "text/plain": [
       "  0%|          | 0/8065 [00:00<?, ?it/s]"
      ]
     },
     "metadata": {},
     "output_type": "display_data"
    },
    {
     "data": {
      "application/vnd.jupyter.widget-view+json": {
       "model_id": "dddf71af636044e397ac556d29a2f33a",
       "version_major": 2,
       "version_minor": 0
      },
      "text/plain": [
       "  0%|          | 0/8065 [00:00<?, ?it/s]"
      ]
     },
     "metadata": {},
     "output_type": "display_data"
    },
    {
     "data": {
      "application/vnd.jupyter.widget-view+json": {
       "model_id": "c390964972184e3bbb81999bac5410cc",
       "version_major": 2,
       "version_minor": 0
      },
      "text/plain": [
       "  0%|          | 0/8065 [00:00<?, ?it/s]"
      ]
     },
     "metadata": {},
     "output_type": "display_data"
    },
    {
     "name": "stderr",
     "output_type": "stream",
     "text": [
      "[I 2024-01-30 20:19:03,421] Trial 147 finished with value: 0.9171497225761414 and parameters: {'sampler': False, 'batch_size': 16, 'epochs': 3, 'lr': 0.0002368359801103047, 'gamma': 3, 'weight': False, 'n_layers': 2, 'n_units_l0': 279, 'dr': 0.30000000000000004, 'n_units_l1': 511}. Best is trial 116 with value: 0.9189560413360596.\n"
     ]
    },
    {
     "data": {
      "application/vnd.jupyter.widget-view+json": {
       "model_id": "09d8d4f8733f4d1d874c53beebed4257",
       "version_major": 2,
       "version_minor": 0
      },
      "text/plain": [
       "  0%|          | 0/8065 [00:00<?, ?it/s]"
      ]
     },
     "metadata": {},
     "output_type": "display_data"
    },
    {
     "data": {
      "application/vnd.jupyter.widget-view+json": {
       "model_id": "7a09649a8f184cf2812529355a2a69cb",
       "version_major": 2,
       "version_minor": 0
      },
      "text/plain": [
       "  0%|          | 0/8065 [00:00<?, ?it/s]"
      ]
     },
     "metadata": {},
     "output_type": "display_data"
    },
    {
     "name": "stderr",
     "output_type": "stream",
     "text": [
      "[I 2024-01-30 20:19:46,047] Trial 148 finished with value: 0.9179205894470215 and parameters: {'sampler': False, 'batch_size': 16, 'epochs': 2, 'lr': 0.00021046881395034815, 'gamma': 3, 'weight': False, 'n_layers': 2, 'n_units_l0': 461, 'dr': 0.30000000000000004, 'n_units_l1': 466}. Best is trial 116 with value: 0.9189560413360596.\n"
     ]
    },
    {
     "data": {
      "application/vnd.jupyter.widget-view+json": {
       "model_id": "7afcb382d6164893a232f2645cbf4770",
       "version_major": 2,
       "version_minor": 0
      },
      "text/plain": [
       "  0%|          | 0/8065 [00:00<?, ?it/s]"
      ]
     },
     "metadata": {},
     "output_type": "display_data"
    },
    {
     "data": {
      "application/vnd.jupyter.widget-view+json": {
       "model_id": "2f7ecd71ac684b53966ad6eb552b793d",
       "version_major": 2,
       "version_minor": 0
      },
      "text/plain": [
       "  0%|          | 0/8065 [00:00<?, ?it/s]"
      ]
     },
     "metadata": {},
     "output_type": "display_data"
    },
    {
     "data": {
      "application/vnd.jupyter.widget-view+json": {
       "model_id": "41b9d98e1b194621ae8bbe296160dc7e",
       "version_major": 2,
       "version_minor": 0
      },
      "text/plain": [
       "  0%|          | 0/8065 [00:00<?, ?it/s]"
      ]
     },
     "metadata": {},
     "output_type": "display_data"
    },
    {
     "name": "stderr",
     "output_type": "stream",
     "text": [
      "[I 2024-01-30 20:20:51,922] Trial 149 finished with value: 0.8702290058135986 and parameters: {'sampler': True, 'batch_size': 16, 'epochs': 3, 'lr': 0.0002254382784539121, 'gamma': 3, 'weight': False, 'n_layers': 2, 'n_units_l0': 363, 'dr': 0.30000000000000004, 'n_units_l1': 341}. Best is trial 116 with value: 0.9189560413360596.\n"
     ]
    }
   ],
   "source": [
    "study = optuna.create_study(direction='maximize')\n",
    "study.optimize(objective, n_trials=150)"
   ]
  },
  {
   "cell_type": "code",
   "execution_count": null,
   "metadata": {
    "colab": {
     "base_uri": "https://localhost:8080/"
    },
    "execution": {
     "iopub.execute_input": "2024-01-30T20:21:36.767226Z",
     "iopub.status.busy": "2024-01-30T20:21:36.766827Z",
     "iopub.status.idle": "2024-01-30T20:21:36.773606Z",
     "shell.execute_reply": "2024-01-30T20:21:36.772816Z",
     "shell.execute_reply.started": "2024-01-30T20:21:36.767200Z"
    },
    "id": "y_jS5ien5Vx_",
    "outputId": "e66fd5b3-de7c-4ab9-c9ef-693db2b24eac",
    "tags": []
   },
   "outputs": [
    {
     "name": "stdout",
     "output_type": "stream",
     "text": [
      "Best F1:  0.9189560413360596\n",
      "Best hyperparams:\n"
     ]
    },
    {
     "data": {
      "text/plain": [
       "{'sampler': False,\n",
       " 'batch_size': 16,\n",
       " 'epochs': 3,\n",
       " 'lr': 0.00014173780281799572,\n",
       " 'gamma': 3,\n",
       " 'weight': False,\n",
       " 'n_layers': 2,\n",
       " 'n_units_l0': 289,\n",
       " 'dr': 0.2,\n",
       " 'n_units_l1': 298}"
      ]
     },
     "execution_count": 183,
     "metadata": {},
     "output_type": "execute_result"
    }
   ],
   "source": [
    "print('Best F1: ', study.best_value)\n",
    "print('Best hyperparams:')\n",
    "study.best_params"
   ]
  },
  {
   "cell_type": "markdown",
   "metadata": {
    "id": "_EjkjV61E4e4"
   },
   "source": [
    "**Так же как и с линейной регрессией, лучший результат показала модель, не использущая ни веса, ни семплинг. Создадим модель с похожими гиперпараметрами и посмотрим на результат валидации**"
   ]
  },
  {
   "cell_type": "code",
   "execution_count": null,
   "metadata": {
    "execution": {
     "iopub.execute_input": "2024-01-30T21:26:22.169703Z",
     "iopub.status.busy": "2024-01-30T21:26:22.169305Z",
     "iopub.status.idle": "2024-01-30T21:26:22.173186Z",
     "shell.execute_reply": "2024-01-30T21:26:22.172558Z",
     "shell.execute_reply.started": "2024-01-30T21:26:22.169676Z"
    },
    "id": "IRaCnjYMge0q",
    "tags": []
   },
   "outputs": [],
   "source": [
    "BATCH_SIZE = 16\n",
    "\n",
    "train_data_loader = create_data_loader(X_train_torch, y_train_torch, BATCH_SIZE)\n",
    "val_data_loader = create_data_loader(X_val, y_val, BATCH_SIZE)\n",
    "test_data_loader = create_data_loader(X_test, y_test, BATCH_SIZE)"
   ]
  },
  {
   "cell_type": "code",
   "execution_count": null,
   "metadata": {
    "execution": {
     "iopub.execute_input": "2024-01-30T21:26:14.792746Z",
     "iopub.status.busy": "2024-01-30T21:26:14.792286Z",
     "iopub.status.idle": "2024-01-30T21:26:14.798025Z",
     "shell.execute_reply": "2024-01-30T21:26:14.797253Z",
     "shell.execute_reply.started": "2024-01-30T21:26:14.792717Z"
    },
    "id": "VVQbf3Axm_MJ",
    "tags": []
   },
   "outputs": [],
   "source": [
    "class ToxicClassifier(nn.Module):\n",
    "\n",
    "    def __init__(self):\n",
    "        super(ToxicClassifier, self).__init__()\n",
    "        self.drop1 = nn.Dropout(0.1)\n",
    "        self.drop2 = nn.Dropout(0.2)\n",
    "        self.relu1 =  nn.ReLU()\n",
    "        self.relu2 =  nn.ReLU()\n",
    "        self.fc1 = nn.Linear(768, 512)\n",
    "        self.fc2 = nn.Linear(512, 256)\n",
    "        self.out = nn.Linear(256, 2)\n",
    "\n",
    "    def forward(self, inputs):\n",
    "        output = self.fc1(inputs)\n",
    "        output = self.relu1(output)\n",
    "        output = self.drop1(output)\n",
    "        output = self.fc2(output)\n",
    "        output = self.relu2(output)\n",
    "        output = self.drop2(output)\n",
    "        return self.out(output)"
   ]
  },
  {
   "cell_type": "code",
   "execution_count": null,
   "metadata": {
    "execution": {
     "iopub.execute_input": "2024-01-30T21:26:15.626921Z",
     "iopub.status.busy": "2024-01-30T21:26:15.626543Z",
     "iopub.status.idle": "2024-01-30T21:26:15.636043Z",
     "shell.execute_reply": "2024-01-30T21:26:15.635456Z",
     "shell.execute_reply.started": "2024-01-30T21:26:15.626892Z"
    },
    "id": "R9P3nCzbob1t",
    "tags": []
   },
   "outputs": [],
   "source": [
    "model = ToxicClassifier()\n",
    "model = model.to(device)"
   ]
  },
  {
   "cell_type": "code",
   "execution_count": null,
   "metadata": {
    "execution": {
     "iopub.execute_input": "2024-01-30T21:35:18.778493Z",
     "iopub.status.busy": "2024-01-30T21:35:18.778114Z",
     "iopub.status.idle": "2024-01-30T21:35:18.785251Z",
     "shell.execute_reply": "2024-01-30T21:35:18.784665Z",
     "shell.execute_reply.started": "2024-01-30T21:35:18.778463Z"
    },
    "id": "BY7d-kRKpYE-",
    "tags": []
   },
   "outputs": [],
   "source": [
    "EPOCHS = 3\n",
    "\n",
    "optimizer = AdamW(model.parameters(), lr=1e-4, correct_bias=False)\n",
    "total_steps = len(train_data_loader) * EPOCHS\n",
    "\n",
    "scheduler = get_linear_schedule_with_warmup(\n",
    "    optimizer,\n",
    "    num_warmup_steps=0,\n",
    "    num_training_steps=total_steps\n",
    ")\n",
    "\n",
    "loss_fn = FocalLoss(weight=None, gamma=3).to(device)\n",
    "f1 = BinaryF1Score().to(device)\n",
    "acc = BinaryAccuracy().to(device)"
   ]
  },
  {
   "cell_type": "code",
   "execution_count": null,
   "metadata": {
    "colab": {
     "base_uri": "https://localhost:8080/",
     "height": 405,
     "referenced_widgets": [
      "03deb3172a964247894484541c665ebb",
      "758d812e0e174480bb59bd9a70efd4a2",
      "09cc3b18f8864b1cb7862017f0262850",
      "eca9ba36157b47038f1e0368e88892af",
      "fb8af5b4074148edbcc5796c45523748",
      "9909ff8410844ac5b7b56d1974581cad",
      "bf2aa34485184443ab818d768e2c138a",
      "f53fa9a880664c2198bb51b677c9e0f2",
      "5bf248797f7b40bea4b3d51d938cd1d2",
      "ab8c7e14ee7a44938d8a6e9054b44ff0",
      "de5ba2fc1a4e4d66b22aac6f5edb91f2",
      "be60de1a20c0452e91a7fddd3461f257",
      "b08f2d173ff041feb0baa2bc583fef69",
      "1424ea9917444bf293c63a6d29ab166e",
      "44d05d1828284e45823afdd0fbdf7959",
      "96711b75cd2e4f0f8b167cf1c45652eb",
      "8cef847239844048a3c6e27d4dc9eb3e",
      "9fe443c12b12491fac7a58040ce7299d",
      "b1b8498fb81b44ff97fd2b67449ab557",
      "19d83f1bd1b142b7b3b7ca87c3c02bcd",
      "89e664fad0d6432faca87fa3974e187f",
      "486c87861512454f89e22e03bc7dcd0f",
      "1dd396d1b2a44e0dbac411b887fe5918",
      "c9ff847dc8154acdb9797347c14a06ae",
      "a14bbd24cc9b4b76aad87565066976c3",
      "a348ff06c4ab4c9c93f03bd3149ed725",
      "68ae35aa9561405bbebd918f2d158f9b",
      "98c00aae201d483dba959d5b61fcab9f",
      "d4af465512f545298d094bc31b4641db",
      "8432010db2e640ad890e93070eb8011b",
      "fb2738af70974333a4a8fd5906ee3b27",
      "dff17286ff2f4113aacb5e7408d2e9ae",
      "961880392cd14f399a729010e1d2a509",
      "65849f1a382a4e1f9ae1d9c5b551fa7d",
      "f36ed835e76e43d39e2696f6f064dacb",
      "ad13579dc9684d5e8ed061b20b39d682",
      "7549679e33144563950dbaea6ec9293a",
      "006971320d824e279d02968768bd73b0",
      "09dc9cee2e5f4b0f82f12b1e11358f92",
      "caff44c484ff4748a605285aa2651556",
      "6651f6b36ff642a3a583c29b2f049a0f",
      "2cc859a56b404a8fa99b14d0cd3bbe0c",
      "e3cee6ba1aa7452d818b70ef12829f2d",
      "ca41bc9dd644486795b31fb6305802fe"
     ]
    },
    "execution": {
     "iopub.execute_input": "2024-01-30T21:35:19.814195Z",
     "iopub.status.busy": "2024-01-30T21:35:19.813783Z",
     "iopub.status.idle": "2024-01-30T21:36:22.739989Z",
     "shell.execute_reply": "2024-01-30T21:36:22.739361Z",
     "shell.execute_reply.started": "2024-01-30T21:35:19.814165Z"
    },
    "id": "UE7f2I4at-R3",
    "outputId": "1005ae74-97ff-409d-8e5f-f4d00dd527a9",
    "tags": []
   },
   "outputs": [
    {
     "data": {
      "application/vnd.jupyter.widget-view+json": {
       "model_id": "03deb3172a964247894484541c665ebb",
       "version_major": 2,
       "version_minor": 0
      },
      "text/plain": [
       "  0%|          | 0/3 [00:00<?, ?it/s]"
      ]
     },
     "metadata": {},
     "output_type": "display_data"
    },
    {
     "name": "stdout",
     "output_type": "stream",
     "text": [
      "Epoch 1/3\n",
      "---------\n"
     ]
    },
    {
     "data": {
      "application/vnd.jupyter.widget-view+json": {
       "model_id": "be60de1a20c0452e91a7fddd3461f257",
       "version_major": 2,
       "version_minor": 0
      },
      "text/plain": [
       "  0%|          | 0/8065 [00:00<?, ?it/s]"
      ]
     },
     "metadata": {},
     "output_type": "display_data"
    },
    {
     "name": "stdout",
     "output_type": "stream",
     "text": [
      "Train loss: 0.0062375667788341855; f1-score: 0.9218569993972778; acc: 0.9841890931129456\n",
      "Val loss: 0.006332561750840164; f1-score: 0.9203354716300964; acc: 0.9840970635414124\n",
      "\n",
      "Epoch 2/3\n",
      "---------\n"
     ]
    },
    {
     "data": {
      "application/vnd.jupyter.widget-view+json": {
       "model_id": "1dd396d1b2a44e0dbac411b887fe5918",
       "version_major": 2,
       "version_minor": 0
      },
      "text/plain": [
       "  0%|          | 0/8065 [00:00<?, ?it/s]"
      ]
     },
     "metadata": {},
     "output_type": "display_data"
    },
    {
     "name": "stdout",
     "output_type": "stream",
     "text": [
      "Train loss: 0.005813438700893053; f1-score: 0.9252736568450928; acc: 0.9848711490631104\n",
      "Val loss: 0.005967366853420291; f1-score: 0.920427143573761; acc: 0.9838878512382507\n",
      "\n",
      "Epoch 3/3\n",
      "---------\n"
     ]
    },
    {
     "data": {
      "application/vnd.jupyter.widget-view+json": {
       "model_id": "65849f1a382a4e1f9ae1d9c5b551fa7d",
       "version_major": 2,
       "version_minor": 0
      },
      "text/plain": [
       "  0%|          | 0/8065 [00:00<?, ?it/s]"
      ]
     },
     "metadata": {},
     "output_type": "display_data"
    },
    {
     "name": "stdout",
     "output_type": "stream",
     "text": [
      "Train loss: 0.005586646631197085; f1-score: 0.92702317237854; acc: 0.9852043986320496\n",
      "Val loss: 0.005859523020184514; f1-score: 0.9206458330154419; acc: 0.9838878512382507\n",
      "\n"
     ]
    }
   ],
   "source": [
    "history = defaultdict(list)\n",
    "\n",
    "for epoch in notebook.tqdm(range(EPOCHS)):\n",
    "\n",
    "    print(f'Epoch {epoch + 1}/{EPOCHS}')\n",
    "    print('-' * 9)\n",
    "\n",
    "    train_f1, train_acc, train_loss = train_epoch(\n",
    "        model,\n",
    "        train_data_loader,\n",
    "        loss_fn,\n",
    "        optimizer,\n",
    "        device,\n",
    "        scheduler,\n",
    "        f1,\n",
    "        acc\n",
    "    )\n",
    "\n",
    "    print(f'Train loss: {train_loss}; f1-score: {train_f1}; acc: {train_acc}')\n",
    "\n",
    "    val_f1, val_acc, val_loss = eval_model(\n",
    "        model,\n",
    "        val_data_loader,\n",
    "        loss_fn,\n",
    "        device,\n",
    "        f1,\n",
    "        acc\n",
    "    )\n",
    "\n",
    "    print(f'Val loss: {val_loss}; f1-score: {val_f1}; acc: {val_acc}')\n",
    "    print()\n",
    "\n",
    "    history['train_f1'].append(train_f1.item())\n",
    "    history['train_loss'].append(train_loss.item())\n",
    "    history['val_f1'].append(val_f1.item())\n",
    "    history['val_loss'].append(val_loss.item())\n"
   ]
  },
  {
   "cell_type": "code",
   "execution_count": null,
   "metadata": {
    "colab": {
     "base_uri": "https://localhost:8080/",
     "height": 707
    },
    "id": "M-cIUJnxFIS_",
    "outputId": "cf4e7a52-0bc5-45ce-d1ce-b45ae4c6064c"
   },
   "outputs": [
    {
     "data": {
      "image/png": "[encoded data removed]",
      "text/plain": [
       "<Figure size 700x700 with 2 Axes>"
      ]
     },
     "metadata": {},
     "output_type": "display_data"
    }
   ],
   "source": [
    "fig, axs = plt.subplots(2, 1, figsize=(7, 7))\n",
    "fig.suptitle('Training history')\n",
    "\n",
    "sns.lineplot(history['train_f1'], label='train f1', ax=axs[0])\n",
    "sns.lineplot(history['val_f1'], label='validation f1', ax=axs[0])\n",
    "\n",
    "sns.lineplot(history['train_loss'], label='train loss', ax=axs[1])\n",
    "sns.lineplot(history['val_loss'], label='validation loss', ax=axs[1])\n",
    "\n",
    "axs[0].set_ylabel('F1-score')\n",
    "axs[1].set_ylabel('loss')\n",
    "plt.xlabel('Epoch')\n",
    "axs[0].grid()\n",
    "axs[1].grid()\n",
    "plt.legend()\n",
    "plt.tight_layout()\n",
    "plt.show()"
   ]
  },
  {
   "cell_type": "markdown",
   "metadata": {
    "id": "-jELIV8MH21X"
   },
   "source": [
    "### Вывод"
   ]
  },
  {
   "cell_type": "markdown",
   "metadata": {
    "id": "H-AOgQOiIAj7"
   },
   "source": [
    "| Model | F1-score |\n",
    "| ----- | -------- |\n",
    "| Logistic Regression with SMOTE | 0.8958 |\n",
    "| Logistic Regression without SMOTE | 0.9263 |\n",
    "| Pytorch Sequential Neural Network | 0.9206 |"
   ]
  },
  {
   "cell_type": "markdown",
   "metadata": {
    "id": "GV5MtlysIh2I"
   },
   "source": [
    "**На валидации лучше себя показала Logistic Regression без SMOTE. Протестируем ее.**"
   ]
  },
  {
   "cell_type": "markdown",
   "metadata": {
    "id": "cuJMF_Ob7OCQ"
   },
   "source": [
    "## Тестирование"
   ]
  },
  {
   "cell_type": "code",
   "execution_count": null,
   "metadata": {
    "colab": {
     "base_uri": "https://localhost:8080/"
    },
    "execution": {
     "iopub.execute_input": "2024-01-30T21:41:56.408927Z",
     "iopub.status.busy": "2024-01-30T21:41:56.408536Z",
     "iopub.status.idle": "2024-01-30T21:41:56.443589Z",
     "shell.execute_reply": "2024-01-30T21:41:56.442936Z",
     "shell.execute_reply.started": "2024-01-30T21:41:56.408901Z"
    },
    "id": "OuKaBSA47OCW",
    "outputId": "27fa7189-5dbe-4634-8f05-f8ce8cc31f11",
    "tags": []
   },
   "outputs": [
    {
     "data": {
      "text/plain": [
       "0.9243126351560085"
      ]
     },
     "execution_count": 252,
     "metadata": {},
     "output_type": "execute_result"
    }
   ],
   "source": [
    "predicntions = grid_log.predict(X_test)\n",
    "f1_score(y_test, predicntions)"
   ]
  },
  {
   "cell_type": "code",
   "execution_count": null,
   "metadata": {
    "colab": {
     "base_uri": "https://localhost:8080/"
    },
    "id": "lGcJUxcf7OCW",
    "outputId": "c0433477-cf11-405f-e187-25cc94fa8adc"
   },
   "outputs": [
    {
     "data": {
      "text/plain": [
       "0.18451193800216537"
      ]
     },
     "execution_count": 162,
     "metadata": {},
     "output_type": "execute_result"
    }
   ],
   "source": [
    "# sanity check\n",
    "dummy = DummyClassifier(strategy = 'constant', constant = 1)\n",
    "dummy.fit(X_train, y_train)\n",
    "f1_score(y_test, dummy.predict(X_test))"
   ]
  },
  {
   "cell_type": "markdown",
   "metadata": {
    "id": "wBvntbJhniJS"
   },
   "source": [
    "## Вывод"
   ]
  },
  {
   "cell_type": "markdown",
   "metadata": {
    "id": "dEvHGSX-nmeT"
   },
   "source": [
    "1. При изучении выявлен дисбаланс классов, но впоследствии выяснилось, что качество модели это не ухудшает.\n",
    "\n",
    "2. Комментарии были обработаны: приведены к нижнему регистру, удалены ссылки и лишние символы, удалены повторения слов в одном комментарии больше, чем 84 (так как были комментарии, состоящие из многократного повторения одной и той же фразы)\n",
    "\n",
    "3. Для классификации тектов были созданы эмбеддинги с помощью предобученной модели 'unitary/toxic-bert'\n",
    "\n",
    "4. Для обучения ипользовались LogisticRegression и Pytorch Sequential Neural Network. Лучше себя на валидации показала LogisticRegression без техники оверсемплинга. На тестировании использовали эту модель, получено значение F1-score 0.9243.\n",
    "\n",
    "Заданное значение метрики (F1 > 0.75) достигнуто. Для наиболее оптимального решения рекомендуем модель LogisticRegression, она показала лучший результат по метрике и оптимальна по затратам времени."
   ]
  }
 ],
 "metadata": {
  "accelerator": "GPU",
  "colab": {
   "gpuType": "T4",
   "machine_shape": "hm",
   "provenance": [],
   "toc_visible": true
  },
  "kernelspec": {
   "display_name": "Python 3 (ipykernel)",
   "language": "python",
   "name": "python3"
  },
  "language_info": {
   "codemirror_mode": {
    "name": "ipython",
    "version": 3
   },
   "file_extension": ".py",
   "mimetype": "text/x-python",
   "name": "python",
   "nbconvert_exporter": "python",
   "pygments_lexer": "ipython3",
   "version": "3.9.5"
  },
  "toc": {
   "base_numbering": 1,
   "nav_menu": {},
   "number_sections": true,
   "sideBar": true,
   "skip_h1_title": true,
   "title_cell": "Table of Contents",
   "title_sidebar": "Contents",
   "toc_cell": true,
   "toc_position": {
    "height": "calc(100% - 180px)",
    "left": "10px",
    "top": "150px",
    "width": "307.2px"
   },
   "toc_section_display": true,
   "toc_window_display": true
  },
  "widgets": {
   "application/vnd.jupyter.widget-state+json": {
    "006971320d824e279d02968768bd73b0": {
     "model_module": "@jupyter-widgets/base",
     "model_module_version": "1.2.0",
     "model_name": "LayoutModel",
     "state": {
      "_model_module": "@jupyter-widgets/base",
      "_model_module_version": "1.2.0",
      "_model_name": "LayoutModel",
      "_view_count": null,
      "_view_module": "@jupyter-widgets/base",
      "_view_module_version": "1.2.0",
      "_view_name": "LayoutView",
      "align_content": null,
      "align_items": null,
      "align_self": null,
      "border": null,
      "bottom": null,
      "display": null,
      "flex": null,
      "flex_flow": null,
      "grid_area": null,
      "grid_auto_columns": null,
      "grid_auto_flow": null,
      "grid_auto_rows": null,
      "grid_column": null,
      "grid_gap": null,
      "grid_row": null,
      "grid_template_areas": null,
      "grid_template_columns": null,
      "grid_template_rows": null,
      "height": null,
      "justify_content": null,
      "justify_items": null,
      "left": null,
      "margin": null,
      "max_height": null,
      "max_width": null,
      "min_height": null,
      "min_width": null,
      "object_fit": null,
      "object_position": null,
      "order": null,
      "overflow": null,
      "overflow_x": null,
      "overflow_y": null,
      "padding": null,
      "right": null,
      "top": null,
      "visibility": null,
      "width": null
     }
    },
    "023de29781014915adccdc4854397ea5": {
     "model_module": "@jupyter-widgets/controls",
     "model_module_version": "1.5.0",
     "model_name": "FloatProgressModel",
     "state": {
      "_dom_classes": [],
      "_model_module": "@jupyter-widgets/controls",
      "_model_module_version": "1.5.0",
      "_model_name": "FloatProgressModel",
      "_view_count": null,
      "_view_module": "@jupyter-widgets/controls",
      "_view_module_version": "1.5.0",
      "_view_name": "ProgressView",
      "bar_style": "success",
      "description": "",
      "description_tooltip": null,
      "layout": "IPY_MODEL_8b387572e9df4f1288ebf52822b11364",
      "max": 996,
      "min": 0,
      "orientation": "horizontal",
      "style": "IPY_MODEL_4d567d6196e6462b875b4e4d8ccf96f2",
      "value": 996
     }
    },
    "037a96f8803445be8d4309c2d9abeebc": {
     "model_module": "@jupyter-widgets/controls",
     "model_module_version": "1.5.0",
     "model_name": "DescriptionStyleModel",
     "state": {
      "_model_module": "@jupyter-widgets/controls",
      "_model_module_version": "1.5.0",
      "_model_name": "DescriptionStyleModel",
      "_view_count": null,
      "_view_module": "@jupyter-widgets/base",
      "_view_module_version": "1.2.0",
      "_view_name": "StyleView",
      "description_width": ""
     }
    },
    "03deb3172a964247894484541c665ebb": {
     "model_module": "@jupyter-widgets/controls",
     "model_module_version": "1.5.0",
     "model_name": "HBoxModel",
     "state": {
      "_dom_classes": [],
      "_model_module": "@jupyter-widgets/controls",
      "_model_module_version": "1.5.0",
      "_model_name": "HBoxModel",
      "_view_count": null,
      "_view_module": "@jupyter-widgets/controls",
      "_view_module_version": "1.5.0",
      "_view_name": "HBoxView",
      "box_style": "",
      "children": [
       "IPY_MODEL_758d812e0e174480bb59bd9a70efd4a2",
       "IPY_MODEL_09cc3b18f8864b1cb7862017f0262850",
       "IPY_MODEL_eca9ba36157b47038f1e0368e88892af"
      ],
      "layout": "IPY_MODEL_fb8af5b4074148edbcc5796c45523748"
     }
    },
    "09cc3b18f8864b1cb7862017f0262850": {
     "model_module": "@jupyter-widgets/controls",
     "model_module_version": "1.5.0",
     "model_name": "FloatProgressModel",
     "state": {
      "_dom_classes": [],
      "_model_module": "@jupyter-widgets/controls",
      "_model_module_version": "1.5.0",
      "_model_name": "FloatProgressModel",
      "_view_count": null,
      "_view_module": "@jupyter-widgets/controls",
      "_view_module_version": "1.5.0",
      "_view_name": "ProgressView",
      "bar_style": "success",
      "description": "",
      "description_tooltip": null,
      "layout": "IPY_MODEL_f53fa9a880664c2198bb51b677c9e0f2",
      "max": 3,
      "min": 0,
      "orientation": "horizontal",
      "style": "IPY_MODEL_5bf248797f7b40bea4b3d51d938cd1d2",
      "value": 3
     }
    },
    "09dc9cee2e5f4b0f82f12b1e11358f92": {
     "model_module": "@jupyter-widgets/base",
     "model_module_version": "1.2.0",
     "model_name": "LayoutModel",
     "state": {
      "_model_module": "@jupyter-widgets/base",
      "_model_module_version": "1.2.0",
      "_model_name": "LayoutModel",
      "_view_count": null,
      "_view_module": "@jupyter-widgets/base",
      "_view_module_version": "1.2.0",
      "_view_name": "LayoutView",
      "align_content": null,
      "align_items": null,
      "align_self": null,
      "border": null,
      "bottom": null,
      "display": null,
      "flex": null,
      "flex_flow": null,
      "grid_area": null,
      "grid_auto_columns": null,
      "grid_auto_flow": null,
      "grid_auto_rows": null,
      "grid_column": null,
      "grid_gap": null,
      "grid_row": null,
      "grid_template_areas": null,
      "grid_template_columns": null,
      "grid_template_rows": null,
      "height": null,
      "justify_content": null,
      "justify_items": null,
      "left": null,
      "margin": null,
      "max_height": null,
      "max_width": null,
      "min_height": null,
      "min_width": null,
      "object_fit": null,
      "object_position": null,
      "order": null,
      "overflow": null,
      "overflow_x": null,
      "overflow_y": null,
      "padding": null,
      "right": null,
      "top": null,
      "visibility": null,
      "width": null
     }
    },
    "1424ea9917444bf293c63a6d29ab166e": {
     "model_module": "@jupyter-widgets/controls",
     "model_module_version": "1.5.0",
     "model_name": "FloatProgressModel",
     "state": {
      "_dom_classes": [],
      "_model_module": "@jupyter-widgets/controls",
      "_model_module_version": "1.5.0",
      "_model_name": "FloatProgressModel",
      "_view_count": null,
      "_view_module": "@jupyter-widgets/controls",
      "_view_module_version": "1.5.0",
      "_view_name": "ProgressView",
      "bar_style": "success",
      "description": "",
      "description_tooltip": null,
      "layout": "IPY_MODEL_b1b8498fb81b44ff97fd2b67449ab557",
      "max": 8065,
      "min": 0,
      "orientation": "horizontal",
      "style": "IPY_MODEL_19d83f1bd1b142b7b3b7ca87c3c02bcd",
      "value": 8065
     }
    },
    "1976668374f9444fa2d9dff42950da83": {
     "model_module": "@jupyter-widgets/controls",
     "model_module_version": "1.5.0",
     "model_name": "HBoxModel",
     "state": {
      "_dom_classes": [],
      "_model_module": "@jupyter-widgets/controls",
      "_model_module_version": "1.5.0",
      "_model_name": "HBoxModel",
      "_view_count": null,
      "_view_module": "@jupyter-widgets/controls",
      "_view_module_version": "1.5.0",
      "_view_name": "HBoxView",
      "box_style": "",
      "children": [
       "IPY_MODEL_86d1f71d507f40ffaff029871a6bad6d",
       "IPY_MODEL_023de29781014915adccdc4854397ea5",
       "IPY_MODEL_3a4ab6782cb643ae8c904170e4a1ff87"
      ],
      "layout": "IPY_MODEL_541f634127504c71b7831f660c6eb7fe"
     }
    },
    "19d83f1bd1b142b7b3b7ca87c3c02bcd": {
     "model_module": "@jupyter-widgets/controls",
     "model_module_version": "1.5.0",
     "model_name": "ProgressStyleModel",
     "state": {
      "_model_module": "@jupyter-widgets/controls",
      "_model_module_version": "1.5.0",
      "_model_name": "ProgressStyleModel",
      "_view_count": null,
      "_view_module": "@jupyter-widgets/base",
      "_view_module_version": "1.2.0",
      "_view_name": "StyleView",
      "bar_color": null,
      "description_width": ""
     }
    },
    "1dd396d1b2a44e0dbac411b887fe5918": {
     "model_module": "@jupyter-widgets/controls",
     "model_module_version": "1.5.0",
     "model_name": "HBoxModel",
     "state": {
      "_dom_classes": [],
      "_model_module": "@jupyter-widgets/controls",
      "_model_module_version": "1.5.0",
      "_model_name": "HBoxModel",
      "_view_count": null,
      "_view_module": "@jupyter-widgets/controls",
      "_view_module_version": "1.5.0",
      "_view_name": "HBoxView",
      "box_style": "",
      "children": [
       "IPY_MODEL_c9ff847dc8154acdb9797347c14a06ae",
       "IPY_MODEL_a14bbd24cc9b4b76aad87565066976c3",
       "IPY_MODEL_a348ff06c4ab4c9c93f03bd3149ed725"
      ],
      "layout": "IPY_MODEL_68ae35aa9561405bbebd918f2d158f9b"
     }
    },
    "2cc859a56b404a8fa99b14d0cd3bbe0c": {
     "model_module": "@jupyter-widgets/controls",
     "model_module_version": "1.5.0",
     "model_name": "ProgressStyleModel",
     "state": {
      "_model_module": "@jupyter-widgets/controls",
      "_model_module_version": "1.5.0",
      "_model_name": "ProgressStyleModel",
      "_view_count": null,
      "_view_module": "@jupyter-widgets/base",
      "_view_module_version": "1.2.0",
      "_view_name": "StyleView",
      "bar_color": null,
      "description_width": ""
     }
    },
    "311198ad950c4348867e656ca5314812": {
     "model_module": "@jupyter-widgets/controls",
     "model_module_version": "1.5.0",
     "model_name": "DescriptionStyleModel",
     "state": {
      "_model_module": "@jupyter-widgets/controls",
      "_model_module_version": "1.5.0",
      "_model_name": "DescriptionStyleModel",
      "_view_count": null,
      "_view_module": "@jupyter-widgets/base",
      "_view_module_version": "1.2.0",
      "_view_name": "StyleView",
      "description_width": ""
     }
    },
    "3a4ab6782cb643ae8c904170e4a1ff87": {
     "model_module": "@jupyter-widgets/controls",
     "model_module_version": "1.5.0",
     "model_name": "HTMLModel",
     "state": {
      "_dom_classes": [],
      "_model_module": "@jupyter-widgets/controls",
      "_model_module_version": "1.5.0",
      "_model_name": "HTMLModel",
      "_view_count": null,
      "_view_module": "@jupyter-widgets/controls",
      "_view_module_version": "1.5.0",
      "_view_name": "HTMLView",
      "description": "",
      "description_tooltip": null,
      "layout": "IPY_MODEL_c7d1ab8d9c634f55a84ff676be11987b",
      "placeholder": "​",
      "style": "IPY_MODEL_688699db137544ceb36c0157e1d70f30",
      "value": " 996/996 [08:53&lt;00:00,  2.12it/s]"
     }
    },
    "44d05d1828284e45823afdd0fbdf7959": {
     "model_module": "@jupyter-widgets/controls",
     "model_module_version": "1.5.0",
     "model_name": "HTMLModel",
     "state": {
      "_dom_classes": [],
      "_model_module": "@jupyter-widgets/controls",
      "_model_module_version": "1.5.0",
      "_model_name": "HTMLModel",
      "_view_count": null,
      "_view_module": "@jupyter-widgets/controls",
      "_view_module_version": "1.5.0",
      "_view_name": "HTMLView",
      "description": "",
      "description_tooltip": null,
      "layout": "IPY_MODEL_89e664fad0d6432faca87fa3974e187f",
      "placeholder": "​",
      "style": "IPY_MODEL_486c87861512454f89e22e03bc7dcd0f",
      "value": " 8065/8065 [00:23&lt;00:00, 341.55it/s]"
     }
    },
    "486c87861512454f89e22e03bc7dcd0f": {
     "model_module": "@jupyter-widgets/controls",
     "model_module_version": "1.5.0",
     "model_name": "DescriptionStyleModel",
     "state": {
      "_model_module": "@jupyter-widgets/controls",
      "_model_module_version": "1.5.0",
      "_model_name": "DescriptionStyleModel",
      "_view_count": null,
      "_view_module": "@jupyter-widgets/base",
      "_view_module_version": "1.2.0",
      "_view_name": "StyleView",
      "description_width": ""
     }
    },
    "4d567d6196e6462b875b4e4d8ccf96f2": {
     "model_module": "@jupyter-widgets/controls",
     "model_module_version": "1.5.0",
     "model_name": "ProgressStyleModel",
     "state": {
      "_model_module": "@jupyter-widgets/controls",
      "_model_module_version": "1.5.0",
      "_model_name": "ProgressStyleModel",
      "_view_count": null,
      "_view_module": "@jupyter-widgets/base",
      "_view_module_version": "1.2.0",
      "_view_name": "StyleView",
      "bar_color": null,
      "description_width": ""
     }
    },
    "4ee8d3e143ab4096900bf6ed372da6ce": {
     "model_module": "@jupyter-widgets/base",
     "model_module_version": "1.2.0",
     "model_name": "LayoutModel",
     "state": {
      "_model_module": "@jupyter-widgets/base",
      "_model_module_version": "1.2.0",
      "_model_name": "LayoutModel",
      "_view_count": null,
      "_view_module": "@jupyter-widgets/base",
      "_view_module_version": "1.2.0",
      "_view_name": "LayoutView",
      "align_content": null,
      "align_items": null,
      "align_self": null,
      "border": null,
      "bottom": null,
      "display": null,
      "flex": null,
      "flex_flow": null,
      "grid_area": null,
      "grid_auto_columns": null,
      "grid_auto_flow": null,
      "grid_auto_rows": null,
      "grid_column": null,
      "grid_gap": null,
      "grid_row": null,
      "grid_template_areas": null,
      "grid_template_columns": null,
      "grid_template_rows": null,
      "height": null,
      "justify_content": null,
      "justify_items": null,
      "left": null,
      "margin": null,
      "max_height": null,
      "max_width": null,
      "min_height": null,
      "min_width": null,
      "object_fit": null,
      "object_position": null,
      "order": null,
      "overflow": null,
      "overflow_x": null,
      "overflow_y": null,
      "padding": null,
      "right": null,
      "top": null,
      "visibility": null,
      "width": null
     }
    },
    "541f634127504c71b7831f660c6eb7fe": {
     "model_module": "@jupyter-widgets/base",
     "model_module_version": "1.2.0",
     "model_name": "LayoutModel",
     "state": {
      "_model_module": "@jupyter-widgets/base",
      "_model_module_version": "1.2.0",
      "_model_name": "LayoutModel",
      "_view_count": null,
      "_view_module": "@jupyter-widgets/base",
      "_view_module_version": "1.2.0",
      "_view_name": "LayoutView",
      "align_content": null,
      "align_items": null,
      "align_self": null,
      "border": null,
      "bottom": null,
      "display": null,
      "flex": null,
      "flex_flow": null,
      "grid_area": null,
      "grid_auto_columns": null,
      "grid_auto_flow": null,
      "grid_auto_rows": null,
      "grid_column": null,
      "grid_gap": null,
      "grid_row": null,
      "grid_template_areas": null,
      "grid_template_columns": null,
      "grid_template_rows": null,
      "height": null,
      "justify_content": null,
      "justify_items": null,
      "left": null,
      "margin": null,
      "max_height": null,
      "max_width": null,
      "min_height": null,
      "min_width": null,
      "object_fit": null,
      "object_position": null,
      "order": null,
      "overflow": null,
      "overflow_x": null,
      "overflow_y": null,
      "padding": null,
      "right": null,
      "top": null,
      "visibility": null,
      "width": null
     }
    },
    "56988e12342843f794c524ad9d5845d4": {
     "model_module": "@jupyter-widgets/base",
     "model_module_version": "1.2.0",
     "model_name": "LayoutModel",
     "state": {
      "_model_module": "@jupyter-widgets/base",
      "_model_module_version": "1.2.0",
      "_model_name": "LayoutModel",
      "_view_count": null,
      "_view_module": "@jupyter-widgets/base",
      "_view_module_version": "1.2.0",
      "_view_name": "LayoutView",
      "align_content": null,
      "align_items": null,
      "align_self": null,
      "border": null,
      "bottom": null,
      "display": null,
      "flex": null,
      "flex_flow": null,
      "grid_area": null,
      "grid_auto_columns": null,
      "grid_auto_flow": null,
      "grid_auto_rows": null,
      "grid_column": null,
      "grid_gap": null,
      "grid_row": null,
      "grid_template_areas": null,
      "grid_template_columns": null,
      "grid_template_rows": null,
      "height": null,
      "justify_content": null,
      "justify_items": null,
      "left": null,
      "margin": null,
      "max_height": null,
      "max_width": null,
      "min_height": null,
      "min_width": null,
      "object_fit": null,
      "object_position": null,
      "order": null,
      "overflow": null,
      "overflow_x": null,
      "overflow_y": null,
      "padding": null,
      "right": null,
      "top": null,
      "visibility": null,
      "width": null
     }
    },
    "5bf248797f7b40bea4b3d51d938cd1d2": {
     "model_module": "@jupyter-widgets/controls",
     "model_module_version": "1.5.0",
     "model_name": "ProgressStyleModel",
     "state": {
      "_model_module": "@jupyter-widgets/controls",
      "_model_module_version": "1.5.0",
      "_model_name": "ProgressStyleModel",
      "_view_count": null,
      "_view_module": "@jupyter-widgets/base",
      "_view_module_version": "1.2.0",
      "_view_name": "StyleView",
      "bar_color": null,
      "description_width": ""
     }
    },
    "65849f1a382a4e1f9ae1d9c5b551fa7d": {
     "model_module": "@jupyter-widgets/controls",
     "model_module_version": "1.5.0",
     "model_name": "HBoxModel",
     "state": {
      "_dom_classes": [],
      "_model_module": "@jupyter-widgets/controls",
      "_model_module_version": "1.5.0",
      "_model_name": "HBoxModel",
      "_view_count": null,
      "_view_module": "@jupyter-widgets/controls",
      "_view_module_version": "1.5.0",
      "_view_name": "HBoxView",
      "box_style": "",
      "children": [
       "IPY_MODEL_f36ed835e76e43d39e2696f6f064dacb",
       "IPY_MODEL_ad13579dc9684d5e8ed061b20b39d682",
       "IPY_MODEL_7549679e33144563950dbaea6ec9293a"
      ],
      "layout": "IPY_MODEL_006971320d824e279d02968768bd73b0"
     }
    },
    "6651f6b36ff642a3a583c29b2f049a0f": {
     "model_module": "@jupyter-widgets/base",
     "model_module_version": "1.2.0",
     "model_name": "LayoutModel",
     "state": {
      "_model_module": "@jupyter-widgets/base",
      "_model_module_version": "1.2.0",
      "_model_name": "LayoutModel",
      "_view_count": null,
      "_view_module": "@jupyter-widgets/base",
      "_view_module_version": "1.2.0",
      "_view_name": "LayoutView",
      "align_content": null,
      "align_items": null,
      "align_self": null,
      "border": null,
      "bottom": null,
      "display": null,
      "flex": null,
      "flex_flow": null,
      "grid_area": null,
      "grid_auto_columns": null,
      "grid_auto_flow": null,
      "grid_auto_rows": null,
      "grid_column": null,
      "grid_gap": null,
      "grid_row": null,
      "grid_template_areas": null,
      "grid_template_columns": null,
      "grid_template_rows": null,
      "height": null,
      "justify_content": null,
      "justify_items": null,
      "left": null,
      "margin": null,
      "max_height": null,
      "max_width": null,
      "min_height": null,
      "min_width": null,
      "object_fit": null,
      "object_position": null,
      "order": null,
      "overflow": null,
      "overflow_x": null,
      "overflow_y": null,
      "padding": null,
      "right": null,
      "top": null,
      "visibility": null,
      "width": null
     }
    },
    "688699db137544ceb36c0157e1d70f30": {
     "model_module": "@jupyter-widgets/controls",
     "model_module_version": "1.5.0",
     "model_name": "DescriptionStyleModel",
     "state": {
      "_model_module": "@jupyter-widgets/controls",
      "_model_module_version": "1.5.0",
      "_model_name": "DescriptionStyleModel",
      "_view_count": null,
      "_view_module": "@jupyter-widgets/base",
      "_view_module_version": "1.2.0",
      "_view_name": "StyleView",
      "description_width": ""
     }
    },
    "68ae35aa9561405bbebd918f2d158f9b": {
     "model_module": "@jupyter-widgets/base",
     "model_module_version": "1.2.0",
     "model_name": "LayoutModel",
     "state": {
      "_model_module": "@jupyter-widgets/base",
      "_model_module_version": "1.2.0",
      "_model_name": "LayoutModel",
      "_view_count": null,
      "_view_module": "@jupyter-widgets/base",
      "_view_module_version": "1.2.0",
      "_view_name": "LayoutView",
      "align_content": null,
      "align_items": null,
      "align_self": null,
      "border": null,
      "bottom": null,
      "display": null,
      "flex": null,
      "flex_flow": null,
      "grid_area": null,
      "grid_auto_columns": null,
      "grid_auto_flow": null,
      "grid_auto_rows": null,
      "grid_column": null,
      "grid_gap": null,
      "grid_row": null,
      "grid_template_areas": null,
      "grid_template_columns": null,
      "grid_template_rows": null,
      "height": null,
      "justify_content": null,
      "justify_items": null,
      "left": null,
      "margin": null,
      "max_height": null,
      "max_width": null,
      "min_height": null,
      "min_width": null,
      "object_fit": null,
      "object_position": null,
      "order": null,
      "overflow": null,
      "overflow_x": null,
      "overflow_y": null,
      "padding": null,
      "right": null,
      "top": null,
      "visibility": null,
      "width": null
     }
    },
    "7549679e33144563950dbaea6ec9293a": {
     "model_module": "@jupyter-widgets/controls",
     "model_module_version": "1.5.0",
     "model_name": "HTMLModel",
     "state": {
      "_dom_classes": [],
      "_model_module": "@jupyter-widgets/controls",
      "_model_module_version": "1.5.0",
      "_model_name": "HTMLModel",
      "_view_count": null,
      "_view_module": "@jupyter-widgets/controls",
      "_view_module_version": "1.5.0",
      "_view_name": "HTMLView",
      "description": "",
      "description_tooltip": null,
      "layout": "IPY_MODEL_e3cee6ba1aa7452d818b70ef12829f2d",
      "placeholder": "​",
      "style": "IPY_MODEL_ca41bc9dd644486795b31fb6305802fe",
      "value": " 8065/8065 [00:23&lt;00:00, 343.42it/s]"
     }
    },
    "758d812e0e174480bb59bd9a70efd4a2": {
     "model_module": "@jupyter-widgets/controls",
     "model_module_version": "1.5.0",
     "model_name": "HTMLModel",
     "state": {
      "_dom_classes": [],
      "_model_module": "@jupyter-widgets/controls",
      "_model_module_version": "1.5.0",
      "_model_name": "HTMLModel",
      "_view_count": null,
      "_view_module": "@jupyter-widgets/controls",
      "_view_module_version": "1.5.0",
      "_view_name": "HTMLView",
      "description": "",
      "description_tooltip": null,
      "layout": "IPY_MODEL_9909ff8410844ac5b7b56d1974581cad",
      "placeholder": "​",
      "style": "IPY_MODEL_bf2aa34485184443ab818d768e2c138a",
      "value": "100%"
     }
    },
    "8432010db2e640ad890e93070eb8011b": {
     "model_module": "@jupyter-widgets/base",
     "model_module_version": "1.2.0",
     "model_name": "LayoutModel",
     "state": {
      "_model_module": "@jupyter-widgets/base",
      "_model_module_version": "1.2.0",
      "_model_name": "LayoutModel",
      "_view_count": null,
      "_view_module": "@jupyter-widgets/base",
      "_view_module_version": "1.2.0",
      "_view_name": "LayoutView",
      "align_content": null,
      "align_items": null,
      "align_self": null,
      "border": null,
      "bottom": null,
      "display": null,
      "flex": null,
      "flex_flow": null,
      "grid_area": null,
      "grid_auto_columns": null,
      "grid_auto_flow": null,
      "grid_auto_rows": null,
      "grid_column": null,
      "grid_gap": null,
      "grid_row": null,
      "grid_template_areas": null,
      "grid_template_columns": null,
      "grid_template_rows": null,
      "height": null,
      "justify_content": null,
      "justify_items": null,
      "left": null,
      "margin": null,
      "max_height": null,
      "max_width": null,
      "min_height": null,
      "min_width": null,
      "object_fit": null,
      "object_position": null,
      "order": null,
      "overflow": null,
      "overflow_x": null,
      "overflow_y": null,
      "padding": null,
      "right": null,
      "top": null,
      "visibility": null,
      "width": null
     }
    },
    "86d1f71d507f40ffaff029871a6bad6d": {
     "model_module": "@jupyter-widgets/controls",
     "model_module_version": "1.5.0",
     "model_name": "HTMLModel",
     "state": {
      "_dom_classes": [],
      "_model_module": "@jupyter-widgets/controls",
      "_model_module_version": "1.5.0",
      "_model_name": "HTMLModel",
      "_view_count": null,
      "_view_module": "@jupyter-widgets/controls",
      "_view_module_version": "1.5.0",
      "_view_name": "HTMLView",
      "description": "",
      "description_tooltip": null,
      "layout": "IPY_MODEL_b6fb520a8cc146aa86817cd6fbf34ad1",
      "placeholder": "​",
      "style": "IPY_MODEL_037a96f8803445be8d4309c2d9abeebc",
      "value": "100%"
     }
    },
    "89e664fad0d6432faca87fa3974e187f": {
     "model_module": "@jupyter-widgets/base",
     "model_module_version": "1.2.0",
     "model_name": "LayoutModel",
     "state": {
      "_model_module": "@jupyter-widgets/base",
      "_model_module_version": "1.2.0",
      "_model_name": "LayoutModel",
      "_view_count": null,
      "_view_module": "@jupyter-widgets/base",
      "_view_module_version": "1.2.0",
      "_view_name": "LayoutView",
      "align_content": null,
      "align_items": null,
      "align_self": null,
      "border": null,
      "bottom": null,
      "display": null,
      "flex": null,
      "flex_flow": null,
      "grid_area": null,
      "grid_auto_columns": null,
      "grid_auto_flow": null,
      "grid_auto_rows": null,
      "grid_column": null,
      "grid_gap": null,
      "grid_row": null,
      "grid_template_areas": null,
      "grid_template_columns": null,
      "grid_template_rows": null,
      "height": null,
      "justify_content": null,
      "justify_items": null,
      "left": null,
      "margin": null,
      "max_height": null,
      "max_width": null,
      "min_height": null,
      "min_width": null,
      "object_fit": null,
      "object_position": null,
      "order": null,
      "overflow": null,
      "overflow_x": null,
      "overflow_y": null,
      "padding": null,
      "right": null,
      "top": null,
      "visibility": null,
      "width": null
     }
    },
    "8b387572e9df4f1288ebf52822b11364": {
     "model_module": "@jupyter-widgets/base",
     "model_module_version": "1.2.0",
     "model_name": "LayoutModel",
     "state": {
      "_model_module": "@jupyter-widgets/base",
      "_model_module_version": "1.2.0",
      "_model_name": "LayoutModel",
      "_view_count": null,
      "_view_module": "@jupyter-widgets/base",
      "_view_module_version": "1.2.0",
      "_view_name": "LayoutView",
      "align_content": null,
      "align_items": null,
      "align_self": null,
      "border": null,
      "bottom": null,
      "display": null,
      "flex": null,
      "flex_flow": null,
      "grid_area": null,
      "grid_auto_columns": null,
      "grid_auto_flow": null,
      "grid_auto_rows": null,
      "grid_column": null,
      "grid_gap": null,
      "grid_row": null,
      "grid_template_areas": null,
      "grid_template_columns": null,
      "grid_template_rows": null,
      "height": null,
      "justify_content": null,
      "justify_items": null,
      "left": null,
      "margin": null,
      "max_height": null,
      "max_width": null,
      "min_height": null,
      "min_width": null,
      "object_fit": null,
      "object_position": null,
      "order": null,
      "overflow": null,
      "overflow_x": null,
      "overflow_y": null,
      "padding": null,
      "right": null,
      "top": null,
      "visibility": null,
      "width": null
     }
    },
    "8cef847239844048a3c6e27d4dc9eb3e": {
     "model_module": "@jupyter-widgets/base",
     "model_module_version": "1.2.0",
     "model_name": "LayoutModel",
     "state": {
      "_model_module": "@jupyter-widgets/base",
      "_model_module_version": "1.2.0",
      "_model_name": "LayoutModel",
      "_view_count": null,
      "_view_module": "@jupyter-widgets/base",
      "_view_module_version": "1.2.0",
      "_view_name": "LayoutView",
      "align_content": null,
      "align_items": null,
      "align_self": null,
      "border": null,
      "bottom": null,
      "display": null,
      "flex": null,
      "flex_flow": null,
      "grid_area": null,
      "grid_auto_columns": null,
      "grid_auto_flow": null,
      "grid_auto_rows": null,
      "grid_column": null,
      "grid_gap": null,
      "grid_row": null,
      "grid_template_areas": null,
      "grid_template_columns": null,
      "grid_template_rows": null,
      "height": null,
      "justify_content": null,
      "justify_items": null,
      "left": null,
      "margin": null,
      "max_height": null,
      "max_width": null,
      "min_height": null,
      "min_width": null,
      "object_fit": null,
      "object_position": null,
      "order": null,
      "overflow": null,
      "overflow_x": null,
      "overflow_y": null,
      "padding": null,
      "right": null,
      "top": null,
      "visibility": null,
      "width": null
     }
    },
    "961880392cd14f399a729010e1d2a509": {
     "model_module": "@jupyter-widgets/controls",
     "model_module_version": "1.5.0",
     "model_name": "DescriptionStyleModel",
     "state": {
      "_model_module": "@jupyter-widgets/controls",
      "_model_module_version": "1.5.0",
      "_model_name": "DescriptionStyleModel",
      "_view_count": null,
      "_view_module": "@jupyter-widgets/base",
      "_view_module_version": "1.2.0",
      "_view_name": "StyleView",
      "description_width": ""
     }
    },
    "96711b75cd2e4f0f8b167cf1c45652eb": {
     "model_module": "@jupyter-widgets/base",
     "model_module_version": "1.2.0",
     "model_name": "LayoutModel",
     "state": {
      "_model_module": "@jupyter-widgets/base",
      "_model_module_version": "1.2.0",
      "_model_name": "LayoutModel",
      "_view_count": null,
      "_view_module": "@jupyter-widgets/base",
      "_view_module_version": "1.2.0",
      "_view_name": "LayoutView",
      "align_content": null,
      "align_items": null,
      "align_self": null,
      "border": null,
      "bottom": null,
      "display": null,
      "flex": null,
      "flex_flow": null,
      "grid_area": null,
      "grid_auto_columns": null,
      "grid_auto_flow": null,
      "grid_auto_rows": null,
      "grid_column": null,
      "grid_gap": null,
      "grid_row": null,
      "grid_template_areas": null,
      "grid_template_columns": null,
      "grid_template_rows": null,
      "height": null,
      "justify_content": null,
      "justify_items": null,
      "left": null,
      "margin": null,
      "max_height": null,
      "max_width": null,
      "min_height": null,
      "min_width": null,
      "object_fit": null,
      "object_position": null,
      "order": null,
      "overflow": null,
      "overflow_x": null,
      "overflow_y": null,
      "padding": null,
      "right": null,
      "top": null,
      "visibility": null,
      "width": null
     }
    },
    "9816e42f89de4fe8b47da035adb8ebce": {
     "model_module": "@jupyter-widgets/controls",
     "model_module_version": "1.5.0",
     "model_name": "DescriptionStyleModel",
     "state": {
      "_model_module": "@jupyter-widgets/controls",
      "_model_module_version": "1.5.0",
      "_model_name": "DescriptionStyleModel",
      "_view_count": null,
      "_view_module": "@jupyter-widgets/base",
      "_view_module_version": "1.2.0",
      "_view_name": "StyleView",
      "description_width": ""
     }
    },
    "98c00aae201d483dba959d5b61fcab9f": {
     "model_module": "@jupyter-widgets/base",
     "model_module_version": "1.2.0",
     "model_name": "LayoutModel",
     "state": {
      "_model_module": "@jupyter-widgets/base",
      "_model_module_version": "1.2.0",
      "_model_name": "LayoutModel",
      "_view_count": null,
      "_view_module": "@jupyter-widgets/base",
      "_view_module_version": "1.2.0",
      "_view_name": "LayoutView",
      "align_content": null,
      "align_items": null,
      "align_self": null,
      "border": null,
      "bottom": null,
      "display": null,
      "flex": null,
      "flex_flow": null,
      "grid_area": null,
      "grid_auto_columns": null,
      "grid_auto_flow": null,
      "grid_auto_rows": null,
      "grid_column": null,
      "grid_gap": null,
      "grid_row": null,
      "grid_template_areas": null,
      "grid_template_columns": null,
      "grid_template_rows": null,
      "height": null,
      "justify_content": null,
      "justify_items": null,
      "left": null,
      "margin": null,
      "max_height": null,
      "max_width": null,
      "min_height": null,
      "min_width": null,
      "object_fit": null,
      "object_position": null,
      "order": null,
      "overflow": null,
      "overflow_x": null,
      "overflow_y": null,
      "padding": null,
      "right": null,
      "top": null,
      "visibility": null,
      "width": null
     }
    },
    "9909ff8410844ac5b7b56d1974581cad": {
     "model_module": "@jupyter-widgets/base",
     "model_module_version": "1.2.0",
     "model_name": "LayoutModel",
     "state": {
      "_model_module": "@jupyter-widgets/base",
      "_model_module_version": "1.2.0",
      "_model_name": "LayoutModel",
      "_view_count": null,
      "_view_module": "@jupyter-widgets/base",
      "_view_module_version": "1.2.0",
      "_view_name": "LayoutView",
      "align_content": null,
      "align_items": null,
      "align_self": null,
      "border": null,
      "bottom": null,
      "display": null,
      "flex": null,
      "flex_flow": null,
      "grid_area": null,
      "grid_auto_columns": null,
      "grid_auto_flow": null,
      "grid_auto_rows": null,
      "grid_column": null,
      "grid_gap": null,
      "grid_row": null,
      "grid_template_areas": null,
      "grid_template_columns": null,
      "grid_template_rows": null,
      "height": null,
      "justify_content": null,
      "justify_items": null,
      "left": null,
      "margin": null,
      "max_height": null,
      "max_width": null,
      "min_height": null,
      "min_width": null,
      "object_fit": null,
      "object_position": null,
      "order": null,
      "overflow": null,
      "overflow_x": null,
      "overflow_y": null,
      "padding": null,
      "right": null,
      "top": null,
      "visibility": null,
      "width": null
     }
    },
    "9fe443c12b12491fac7a58040ce7299d": {
     "model_module": "@jupyter-widgets/controls",
     "model_module_version": "1.5.0",
     "model_name": "DescriptionStyleModel",
     "state": {
      "_model_module": "@jupyter-widgets/controls",
      "_model_module_version": "1.5.0",
      "_model_name": "DescriptionStyleModel",
      "_view_count": null,
      "_view_module": "@jupyter-widgets/base",
      "_view_module_version": "1.2.0",
      "_view_name": "StyleView",
      "description_width": ""
     }
    },
    "a14bbd24cc9b4b76aad87565066976c3": {
     "model_module": "@jupyter-widgets/controls",
     "model_module_version": "1.5.0",
     "model_name": "FloatProgressModel",
     "state": {
      "_dom_classes": [],
      "_model_module": "@jupyter-widgets/controls",
      "_model_module_version": "1.5.0",
      "_model_name": "FloatProgressModel",
      "_view_count": null,
      "_view_module": "@jupyter-widgets/controls",
      "_view_module_version": "1.5.0",
      "_view_name": "ProgressView",
      "bar_style": "success",
      "description": "",
      "description_tooltip": null,
      "layout": "IPY_MODEL_8432010db2e640ad890e93070eb8011b",
      "max": 8065,
      "min": 0,
      "orientation": "horizontal",
      "style": "IPY_MODEL_fb2738af70974333a4a8fd5906ee3b27",
      "value": 8065
     }
    },
    "a348ff06c4ab4c9c93f03bd3149ed725": {
     "model_module": "@jupyter-widgets/controls",
     "model_module_version": "1.5.0",
     "model_name": "HTMLModel",
     "state": {
      "_dom_classes": [],
      "_model_module": "@jupyter-widgets/controls",
      "_model_module_version": "1.5.0",
      "_model_name": "HTMLModel",
      "_view_count": null,
      "_view_module": "@jupyter-widgets/controls",
      "_view_module_version": "1.5.0",
      "_view_name": "HTMLView",
      "description": "",
      "description_tooltip": null,
      "layout": "IPY_MODEL_dff17286ff2f4113aacb5e7408d2e9ae",
      "placeholder": "​",
      "style": "IPY_MODEL_961880392cd14f399a729010e1d2a509",
      "value": " 8065/8065 [00:23&lt;00:00, 344.08it/s]"
     }
    },
    "ab29c0e913e94ca49da2614203419166": {
     "model_module": "@jupyter-widgets/controls",
     "model_module_version": "1.5.0",
     "model_name": "ProgressStyleModel",
     "state": {
      "_model_module": "@jupyter-widgets/controls",
      "_model_module_version": "1.5.0",
      "_model_name": "ProgressStyleModel",
      "_view_count": null,
      "_view_module": "@jupyter-widgets/base",
      "_view_module_version": "1.2.0",
      "_view_name": "StyleView",
      "bar_color": null,
      "description_width": ""
     }
    },
    "ab8c7e14ee7a44938d8a6e9054b44ff0": {
     "model_module": "@jupyter-widgets/base",
     "model_module_version": "1.2.0",
     "model_name": "LayoutModel",
     "state": {
      "_model_module": "@jupyter-widgets/base",
      "_model_module_version": "1.2.0",
      "_model_name": "LayoutModel",
      "_view_count": null,
      "_view_module": "@jupyter-widgets/base",
      "_view_module_version": "1.2.0",
      "_view_name": "LayoutView",
      "align_content": null,
      "align_items": null,
      "align_self": null,
      "border": null,
      "bottom": null,
      "display": null,
      "flex": null,
      "flex_flow": null,
      "grid_area": null,
      "grid_auto_columns": null,
      "grid_auto_flow": null,
      "grid_auto_rows": null,
      "grid_column": null,
      "grid_gap": null,
      "grid_row": null,
      "grid_template_areas": null,
      "grid_template_columns": null,
      "grid_template_rows": null,
      "height": null,
      "justify_content": null,
      "justify_items": null,
      "left": null,
      "margin": null,
      "max_height": null,
      "max_width": null,
      "min_height": null,
      "min_width": null,
      "object_fit": null,
      "object_position": null,
      "order": null,
      "overflow": null,
      "overflow_x": null,
      "overflow_y": null,
      "padding": null,
      "right": null,
      "top": null,
      "visibility": null,
      "width": null
     }
    },
    "ad13579dc9684d5e8ed061b20b39d682": {
     "model_module": "@jupyter-widgets/controls",
     "model_module_version": "1.5.0",
     "model_name": "FloatProgressModel",
     "state": {
      "_dom_classes": [],
      "_model_module": "@jupyter-widgets/controls",
      "_model_module_version": "1.5.0",
      "_model_name": "FloatProgressModel",
      "_view_count": null,
      "_view_module": "@jupyter-widgets/controls",
      "_view_module_version": "1.5.0",
      "_view_name": "ProgressView",
      "bar_style": "success",
      "description": "",
      "description_tooltip": null,
      "layout": "IPY_MODEL_6651f6b36ff642a3a583c29b2f049a0f",
      "max": 8065,
      "min": 0,
      "orientation": "horizontal",
      "style": "IPY_MODEL_2cc859a56b404a8fa99b14d0cd3bbe0c",
      "value": 8065
     }
    },
    "b08f2d173ff041feb0baa2bc583fef69": {
     "model_module": "@jupyter-widgets/controls",
     "model_module_version": "1.5.0",
     "model_name": "HTMLModel",
     "state": {
      "_dom_classes": [],
      "_model_module": "@jupyter-widgets/controls",
      "_model_module_version": "1.5.0",
      "_model_name": "HTMLModel",
      "_view_count": null,
      "_view_module": "@jupyter-widgets/controls",
      "_view_module_version": "1.5.0",
      "_view_name": "HTMLView",
      "description": "",
      "description_tooltip": null,
      "layout": "IPY_MODEL_8cef847239844048a3c6e27d4dc9eb3e",
      "placeholder": "​",
      "style": "IPY_MODEL_9fe443c12b12491fac7a58040ce7299d",
      "value": "100%"
     }
    },
    "b1b8498fb81b44ff97fd2b67449ab557": {
     "model_module": "@jupyter-widgets/base",
     "model_module_version": "1.2.0",
     "model_name": "LayoutModel",
     "state": {
      "_model_module": "@jupyter-widgets/base",
      "_model_module_version": "1.2.0",
      "_model_name": "LayoutModel",
      "_view_count": null,
      "_view_module": "@jupyter-widgets/base",
      "_view_module_version": "1.2.0",
      "_view_name": "LayoutView",
      "align_content": null,
      "align_items": null,
      "align_self": null,
      "border": null,
      "bottom": null,
      "display": null,
      "flex": null,
      "flex_flow": null,
      "grid_area": null,
      "grid_auto_columns": null,
      "grid_auto_flow": null,
      "grid_auto_rows": null,
      "grid_column": null,
      "grid_gap": null,
      "grid_row": null,
      "grid_template_areas": null,
      "grid_template_columns": null,
      "grid_template_rows": null,
      "height": null,
      "justify_content": null,
      "justify_items": null,
      "left": null,
      "margin": null,
      "max_height": null,
      "max_width": null,
      "min_height": null,
      "min_width": null,
      "object_fit": null,
      "object_position": null,
      "order": null,
      "overflow": null,
      "overflow_x": null,
      "overflow_y": null,
      "padding": null,
      "right": null,
      "top": null,
      "visibility": null,
      "width": null
     }
    },
    "b4ab625b12eb439d8a2e776a4dec377d": {
     "model_module": "@jupyter-widgets/controls",
     "model_module_version": "1.5.0",
     "model_name": "HTMLModel",
     "state": {
      "_dom_classes": [],
      "_model_module": "@jupyter-widgets/controls",
      "_model_module_version": "1.5.0",
      "_model_name": "HTMLModel",
      "_view_count": null,
      "_view_module": "@jupyter-widgets/controls",
      "_view_module_version": "1.5.0",
      "_view_name": "HTMLView",
      "description": "",
      "description_tooltip": null,
      "layout": "IPY_MODEL_df9649359b4146ed94a8789f8968b4a6",
      "placeholder": "​",
      "style": "IPY_MODEL_311198ad950c4348867e656ca5314812",
      "value": "100%"
     }
    },
    "b6fb520a8cc146aa86817cd6fbf34ad1": {
     "model_module": "@jupyter-widgets/base",
     "model_module_version": "1.2.0",
     "model_name": "LayoutModel",
     "state": {
      "_model_module": "@jupyter-widgets/base",
      "_model_module_version": "1.2.0",
      "_model_name": "LayoutModel",
      "_view_count": null,
      "_view_module": "@jupyter-widgets/base",
      "_view_module_version": "1.2.0",
      "_view_name": "LayoutView",
      "align_content": null,
      "align_items": null,
      "align_self": null,
      "border": null,
      "bottom": null,
      "display": null,
      "flex": null,
      "flex_flow": null,
      "grid_area": null,
      "grid_auto_columns": null,
      "grid_auto_flow": null,
      "grid_auto_rows": null,
      "grid_column": null,
      "grid_gap": null,
      "grid_row": null,
      "grid_template_areas": null,
      "grid_template_columns": null,
      "grid_template_rows": null,
      "height": null,
      "justify_content": null,
      "justify_items": null,
      "left": null,
      "margin": null,
      "max_height": null,
      "max_width": null,
      "min_height": null,
      "min_width": null,
      "object_fit": null,
      "object_position": null,
      "order": null,
      "overflow": null,
      "overflow_x": null,
      "overflow_y": null,
      "padding": null,
      "right": null,
      "top": null,
      "visibility": null,
      "width": null
     }
    },
    "be60de1a20c0452e91a7fddd3461f257": {
     "model_module": "@jupyter-widgets/controls",
     "model_module_version": "1.5.0",
     "model_name": "HBoxModel",
     "state": {
      "_dom_classes": [],
      "_model_module": "@jupyter-widgets/controls",
      "_model_module_version": "1.5.0",
      "_model_name": "HBoxModel",
      "_view_count": null,
      "_view_module": "@jupyter-widgets/controls",
      "_view_module_version": "1.5.0",
      "_view_name": "HBoxView",
      "box_style": "",
      "children": [
       "IPY_MODEL_b08f2d173ff041feb0baa2bc583fef69",
       "IPY_MODEL_1424ea9917444bf293c63a6d29ab166e",
       "IPY_MODEL_44d05d1828284e45823afdd0fbdf7959"
      ],
      "layout": "IPY_MODEL_96711b75cd2e4f0f8b167cf1c45652eb"
     }
    },
    "bf2aa34485184443ab818d768e2c138a": {
     "model_module": "@jupyter-widgets/controls",
     "model_module_version": "1.5.0",
     "model_name": "DescriptionStyleModel",
     "state": {
      "_model_module": "@jupyter-widgets/controls",
      "_model_module_version": "1.5.0",
      "_model_name": "DescriptionStyleModel",
      "_view_count": null,
      "_view_module": "@jupyter-widgets/base",
      "_view_module_version": "1.2.0",
      "_view_name": "StyleView",
      "description_width": ""
     }
    },
    "c7d1ab8d9c634f55a84ff676be11987b": {
     "model_module": "@jupyter-widgets/base",
     "model_module_version": "1.2.0",
     "model_name": "LayoutModel",
     "state": {
      "_model_module": "@jupyter-widgets/base",
      "_model_module_version": "1.2.0",
      "_model_name": "LayoutModel",
      "_view_count": null,
      "_view_module": "@jupyter-widgets/base",
      "_view_module_version": "1.2.0",
      "_view_name": "LayoutView",
      "align_content": null,
      "align_items": null,
      "align_self": null,
      "border": null,
      "bottom": null,
      "display": null,
      "flex": null,
      "flex_flow": null,
      "grid_area": null,
      "grid_auto_columns": null,
      "grid_auto_flow": null,
      "grid_auto_rows": null,
      "grid_column": null,
      "grid_gap": null,
      "grid_row": null,
      "grid_template_areas": null,
      "grid_template_columns": null,
      "grid_template_rows": null,
      "height": null,
      "justify_content": null,
      "justify_items": null,
      "left": null,
      "margin": null,
      "max_height": null,
      "max_width": null,
      "min_height": null,
      "min_width": null,
      "object_fit": null,
      "object_position": null,
      "order": null,
      "overflow": null,
      "overflow_x": null,
      "overflow_y": null,
      "padding": null,
      "right": null,
      "top": null,
      "visibility": null,
      "width": null
     }
    },
    "c94fddc76a9341cc97d87ea43edaa8fb": {
     "model_module": "@jupyter-widgets/base",
     "model_module_version": "1.2.0",
     "model_name": "LayoutModel",
     "state": {
      "_model_module": "@jupyter-widgets/base",
      "_model_module_version": "1.2.0",
      "_model_name": "LayoutModel",
      "_view_count": null,
      "_view_module": "@jupyter-widgets/base",
      "_view_module_version": "1.2.0",
      "_view_name": "LayoutView",
      "align_content": null,
      "align_items": null,
      "align_self": null,
      "border": null,
      "bottom": null,
      "display": null,
      "flex": null,
      "flex_flow": null,
      "grid_area": null,
      "grid_auto_columns": null,
      "grid_auto_flow": null,
      "grid_auto_rows": null,
      "grid_column": null,
      "grid_gap": null,
      "grid_row": null,
      "grid_template_areas": null,
      "grid_template_columns": null,
      "grid_template_rows": null,
      "height": null,
      "justify_content": null,
      "justify_items": null,
      "left": null,
      "margin": null,
      "max_height": null,
      "max_width": null,
      "min_height": null,
      "min_width": null,
      "object_fit": null,
      "object_position": null,
      "order": null,
      "overflow": null,
      "overflow_x": null,
      "overflow_y": null,
      "padding": null,
      "right": null,
      "top": null,
      "visibility": null,
      "width": null
     }
    },
    "c9ff847dc8154acdb9797347c14a06ae": {
     "model_module": "@jupyter-widgets/controls",
     "model_module_version": "1.5.0",
     "model_name": "HTMLModel",
     "state": {
      "_dom_classes": [],
      "_model_module": "@jupyter-widgets/controls",
      "_model_module_version": "1.5.0",
      "_model_name": "HTMLModel",
      "_view_count": null,
      "_view_module": "@jupyter-widgets/controls",
      "_view_module_version": "1.5.0",
      "_view_name": "HTMLView",
      "description": "",
      "description_tooltip": null,
      "layout": "IPY_MODEL_98c00aae201d483dba959d5b61fcab9f",
      "placeholder": "​",
      "style": "IPY_MODEL_d4af465512f545298d094bc31b4641db",
      "value": "100%"
     }
    },
    "ca41bc9dd644486795b31fb6305802fe": {
     "model_module": "@jupyter-widgets/controls",
     "model_module_version": "1.5.0",
     "model_name": "DescriptionStyleModel",
     "state": {
      "_model_module": "@jupyter-widgets/controls",
      "_model_module_version": "1.5.0",
      "_model_name": "DescriptionStyleModel",
      "_view_count": null,
      "_view_module": "@jupyter-widgets/base",
      "_view_module_version": "1.2.0",
      "_view_name": "StyleView",
      "description_width": ""
     }
    },
    "caff44c484ff4748a605285aa2651556": {
     "model_module": "@jupyter-widgets/controls",
     "model_module_version": "1.5.0",
     "model_name": "DescriptionStyleModel",
     "state": {
      "_model_module": "@jupyter-widgets/controls",
      "_model_module_version": "1.5.0",
      "_model_name": "DescriptionStyleModel",
      "_view_count": null,
      "_view_module": "@jupyter-widgets/base",
      "_view_module_version": "1.2.0",
      "_view_name": "StyleView",
      "description_width": ""
     }
    },
    "ccf9a41a100144d1bae86665899bf4d7": {
     "model_module": "@jupyter-widgets/controls",
     "model_module_version": "1.5.0",
     "model_name": "HBoxModel",
     "state": {
      "_dom_classes": [],
      "_model_module": "@jupyter-widgets/controls",
      "_model_module_version": "1.5.0",
      "_model_name": "HBoxModel",
      "_view_count": null,
      "_view_module": "@jupyter-widgets/controls",
      "_view_module_version": "1.5.0",
      "_view_name": "HBoxView",
      "box_style": "",
      "children": [
       "IPY_MODEL_b4ab625b12eb439d8a2e776a4dec377d",
       "IPY_MODEL_cfa009d5f567477381ec6ad5ef656239",
       "IPY_MODEL_f881c80fc128475c9dc95fea0b3fa0bf"
      ],
      "layout": "IPY_MODEL_4ee8d3e143ab4096900bf6ed372da6ce"
     }
    },
    "cfa009d5f567477381ec6ad5ef656239": {
     "model_module": "@jupyter-widgets/controls",
     "model_module_version": "1.5.0",
     "model_name": "FloatProgressModel",
     "state": {
      "_dom_classes": [],
      "_model_module": "@jupyter-widgets/controls",
      "_model_module_version": "1.5.0",
      "_model_name": "FloatProgressModel",
      "_view_count": null,
      "_view_module": "@jupyter-widgets/controls",
      "_view_module_version": "1.5.0",
      "_view_name": "ProgressView",
      "bar_style": "success",
      "description": "",
      "description_tooltip": null,
      "layout": "IPY_MODEL_c94fddc76a9341cc97d87ea43edaa8fb",
      "max": 8961,
      "min": 0,
      "orientation": "horizontal",
      "style": "IPY_MODEL_ab29c0e913e94ca49da2614203419166",
      "value": 8961
     }
    },
    "d4af465512f545298d094bc31b4641db": {
     "model_module": "@jupyter-widgets/controls",
     "model_module_version": "1.5.0",
     "model_name": "DescriptionStyleModel",
     "state": {
      "_model_module": "@jupyter-widgets/controls",
      "_model_module_version": "1.5.0",
      "_model_name": "DescriptionStyleModel",
      "_view_count": null,
      "_view_module": "@jupyter-widgets/base",
      "_view_module_version": "1.2.0",
      "_view_name": "StyleView",
      "description_width": ""
     }
    },
    "de5ba2fc1a4e4d66b22aac6f5edb91f2": {
     "model_module": "@jupyter-widgets/controls",
     "model_module_version": "1.5.0",
     "model_name": "DescriptionStyleModel",
     "state": {
      "_model_module": "@jupyter-widgets/controls",
      "_model_module_version": "1.5.0",
      "_model_name": "DescriptionStyleModel",
      "_view_count": null,
      "_view_module": "@jupyter-widgets/base",
      "_view_module_version": "1.2.0",
      "_view_name": "StyleView",
      "description_width": ""
     }
    },
    "df9649359b4146ed94a8789f8968b4a6": {
     "model_module": "@jupyter-widgets/base",
     "model_module_version": "1.2.0",
     "model_name": "LayoutModel",
     "state": {
      "_model_module": "@jupyter-widgets/base",
      "_model_module_version": "1.2.0",
      "_model_name": "LayoutModel",
      "_view_count": null,
      "_view_module": "@jupyter-widgets/base",
      "_view_module_version": "1.2.0",
      "_view_name": "LayoutView",
      "align_content": null,
      "align_items": null,
      "align_self": null,
      "border": null,
      "bottom": null,
      "display": null,
      "flex": null,
      "flex_flow": null,
      "grid_area": null,
      "grid_auto_columns": null,
      "grid_auto_flow": null,
      "grid_auto_rows": null,
      "grid_column": null,
      "grid_gap": null,
      "grid_row": null,
      "grid_template_areas": null,
      "grid_template_columns": null,
      "grid_template_rows": null,
      "height": null,
      "justify_content": null,
      "justify_items": null,
      "left": null,
      "margin": null,
      "max_height": null,
      "max_width": null,
      "min_height": null,
      "min_width": null,
      "object_fit": null,
      "object_position": null,
      "order": null,
      "overflow": null,
      "overflow_x": null,
      "overflow_y": null,
      "padding": null,
      "right": null,
      "top": null,
      "visibility": null,
      "width": null
     }
    },
    "dff17286ff2f4113aacb5e7408d2e9ae": {
     "model_module": "@jupyter-widgets/base",
     "model_module_version": "1.2.0",
     "model_name": "LayoutModel",
     "state": {
      "_model_module": "@jupyter-widgets/base",
      "_model_module_version": "1.2.0",
      "_model_name": "LayoutModel",
      "_view_count": null,
      "_view_module": "@jupyter-widgets/base",
      "_view_module_version": "1.2.0",
      "_view_name": "LayoutView",
      "align_content": null,
      "align_items": null,
      "align_self": null,
      "border": null,
      "bottom": null,
      "display": null,
      "flex": null,
      "flex_flow": null,
      "grid_area": null,
      "grid_auto_columns": null,
      "grid_auto_flow": null,
      "grid_auto_rows": null,
      "grid_column": null,
      "grid_gap": null,
      "grid_row": null,
      "grid_template_areas": null,
      "grid_template_columns": null,
      "grid_template_rows": null,
      "height": null,
      "justify_content": null,
      "justify_items": null,
      "left": null,
      "margin": null,
      "max_height": null,
      "max_width": null,
      "min_height": null,
      "min_width": null,
      "object_fit": null,
      "object_position": null,
      "order": null,
      "overflow": null,
      "overflow_x": null,
      "overflow_y": null,
      "padding": null,
      "right": null,
      "top": null,
      "visibility": null,
      "width": null
     }
    },
    "e3cee6ba1aa7452d818b70ef12829f2d": {
     "model_module": "@jupyter-widgets/base",
     "model_module_version": "1.2.0",
     "model_name": "LayoutModel",
     "state": {
      "_model_module": "@jupyter-widgets/base",
      "_model_module_version": "1.2.0",
      "_model_name": "LayoutModel",
      "_view_count": null,
      "_view_module": "@jupyter-widgets/base",
      "_view_module_version": "1.2.0",
      "_view_name": "LayoutView",
      "align_content": null,
      "align_items": null,
      "align_self": null,
      "border": null,
      "bottom": null,
      "display": null,
      "flex": null,
      "flex_flow": null,
      "grid_area": null,
      "grid_auto_columns": null,
      "grid_auto_flow": null,
      "grid_auto_rows": null,
      "grid_column": null,
      "grid_gap": null,
      "grid_row": null,
      "grid_template_areas": null,
      "grid_template_columns": null,
      "grid_template_rows": null,
      "height": null,
      "justify_content": null,
      "justify_items": null,
      "left": null,
      "margin": null,
      "max_height": null,
      "max_width": null,
      "min_height": null,
      "min_width": null,
      "object_fit": null,
      "object_position": null,
      "order": null,
      "overflow": null,
      "overflow_x": null,
      "overflow_y": null,
      "padding": null,
      "right": null,
      "top": null,
      "visibility": null,
      "width": null
     }
    },
    "eca9ba36157b47038f1e0368e88892af": {
     "model_module": "@jupyter-widgets/controls",
     "model_module_version": "1.5.0",
     "model_name": "HTMLModel",
     "state": {
      "_dom_classes": [],
      "_model_module": "@jupyter-widgets/controls",
      "_model_module_version": "1.5.0",
      "_model_name": "HTMLModel",
      "_view_count": null,
      "_view_module": "@jupyter-widgets/controls",
      "_view_module_version": "1.5.0",
      "_view_name": "HTMLView",
      "description": "",
      "description_tooltip": null,
      "layout": "IPY_MODEL_ab8c7e14ee7a44938d8a6e9054b44ff0",
      "placeholder": "​",
      "style": "IPY_MODEL_de5ba2fc1a4e4d66b22aac6f5edb91f2",
      "value": " 3/3 [01:14&lt;00:00, 24.63s/it]"
     }
    },
    "f36ed835e76e43d39e2696f6f064dacb": {
     "model_module": "@jupyter-widgets/controls",
     "model_module_version": "1.5.0",
     "model_name": "HTMLModel",
     "state": {
      "_dom_classes": [],
      "_model_module": "@jupyter-widgets/controls",
      "_model_module_version": "1.5.0",
      "_model_name": "HTMLModel",
      "_view_count": null,
      "_view_module": "@jupyter-widgets/controls",
      "_view_module_version": "1.5.0",
      "_view_name": "HTMLView",
      "description": "",
      "description_tooltip": null,
      "layout": "IPY_MODEL_09dc9cee2e5f4b0f82f12b1e11358f92",
      "placeholder": "​",
      "style": "IPY_MODEL_caff44c484ff4748a605285aa2651556",
      "value": "100%"
     }
    },
    "f53fa9a880664c2198bb51b677c9e0f2": {
     "model_module": "@jupyter-widgets/base",
     "model_module_version": "1.2.0",
     "model_name": "LayoutModel",
     "state": {
      "_model_module": "@jupyter-widgets/base",
      "_model_module_version": "1.2.0",
      "_model_name": "LayoutModel",
      "_view_count": null,
      "_view_module": "@jupyter-widgets/base",
      "_view_module_version": "1.2.0",
      "_view_name": "LayoutView",
      "align_content": null,
      "align_items": null,
      "align_self": null,
      "border": null,
      "bottom": null,
      "display": null,
      "flex": null,
      "flex_flow": null,
      "grid_area": null,
      "grid_auto_columns": null,
      "grid_auto_flow": null,
      "grid_auto_rows": null,
      "grid_column": null,
      "grid_gap": null,
      "grid_row": null,
      "grid_template_areas": null,
      "grid_template_columns": null,
      "grid_template_rows": null,
      "height": null,
      "justify_content": null,
      "justify_items": null,
      "left": null,
      "margin": null,
      "max_height": null,
      "max_width": null,
      "min_height": null,
      "min_width": null,
      "object_fit": null,
      "object_position": null,
      "order": null,
      "overflow": null,
      "overflow_x": null,
      "overflow_y": null,
      "padding": null,
      "right": null,
      "top": null,
      "visibility": null,
      "width": null
     }
    },
    "f881c80fc128475c9dc95fea0b3fa0bf": {
     "model_module": "@jupyter-widgets/controls",
     "model_module_version": "1.5.0",
     "model_name": "HTMLModel",
     "state": {
      "_dom_classes": [],
      "_model_module": "@jupyter-widgets/controls",
      "_model_module_version": "1.5.0",
      "_model_name": "HTMLModel",
      "_view_count": null,
      "_view_module": "@jupyter-widgets/controls",
      "_view_module_version": "1.5.0",
      "_view_name": "HTMLView",
      "description": "",
      "description_tooltip": null,
      "layout": "IPY_MODEL_56988e12342843f794c524ad9d5845d4",
      "placeholder": "​",
      "style": "IPY_MODEL_9816e42f89de4fe8b47da035adb8ebce",
      "value": " 8961/8961 [1:20:02&lt;00:00,  1.87it/s]"
     }
    },
    "fb2738af70974333a4a8fd5906ee3b27": {
     "model_module": "@jupyter-widgets/controls",
     "model_module_version": "1.5.0",
     "model_name": "ProgressStyleModel",
     "state": {
      "_model_module": "@jupyter-widgets/controls",
      "_model_module_version": "1.5.0",
      "_model_name": "ProgressStyleModel",
      "_view_count": null,
      "_view_module": "@jupyter-widgets/base",
      "_view_module_version": "1.2.0",
      "_view_name": "StyleView",
      "bar_color": null,
      "description_width": ""
     }
    },
    "fb8af5b4074148edbcc5796c45523748": {
     "model_module": "@jupyter-widgets/base",
     "model_module_version": "1.2.0",
     "model_name": "LayoutModel",
     "state": {
      "_model_module": "@jupyter-widgets/base",
      "_model_module_version": "1.2.0",
      "_model_name": "LayoutModel",
      "_view_count": null,
      "_view_module": "@jupyter-widgets/base",
      "_view_module_version": "1.2.0",
      "_view_name": "LayoutView",
      "align_content": null,
      "align_items": null,
      "align_self": null,
      "border": null,
      "bottom": null,
      "display": null,
      "flex": null,
      "flex_flow": null,
      "grid_area": null,
      "grid_auto_columns": null,
      "grid_auto_flow": null,
      "grid_auto_rows": null,
      "grid_column": null,
      "grid_gap": null,
      "grid_row": null,
      "grid_template_areas": null,
      "grid_template_columns": null,
      "grid_template_rows": null,
      "height": null,
      "justify_content": null,
      "justify_items": null,
      "left": null,
      "margin": null,
      "max_height": null,
      "max_width": null,
      "min_height": null,
      "min_width": null,
      "object_fit": null,
      "object_position": null,
      "order": null,
      "overflow": null,
      "overflow_x": null,
      "overflow_y": null,
      "padding": null,
      "right": null,
      "top": null,
      "visibility": null,
      "width": null
     }
    }
   }
  }
 },
 "nbformat": 4,
 "nbformat_minor": 1
}
