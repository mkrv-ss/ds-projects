{
 "cells": [
  {
   "cell_type": "markdown",
   "metadata": {
    "id": "JTPmBAwpEats"
   },
   "source": [
    "# Определение стоимости автомобилей"
   ]
  },
  {
   "cell_type": "markdown",
   "metadata": {
    "id": "yQNYWan6Eats"
   },
   "source": [
    "В распоряжении исторические данные: технические характеристики, комплектации и цены автомобилей. Нужно построить модель для определения стоимости.\n",
    "\n",
    "Важныe критерии:\n",
    "\n",
    "- качество предсказания (RMSE < 2500);\n",
    "- скорость предсказания;\n",
    "- время обучения."
   ]
  },
  {
   "cell_type": "markdown",
   "metadata": {
    "id": "pXXlFlkwEatt"
   },
   "source": [
    "## Подготовка данных"
   ]
  },
  {
   "cell_type": "code",
   "execution_count": 1,
   "metadata": {
    "id": "w9bbnZB-Eatt"
   },
   "outputs": [],
   "source": [
    "from time import time\n",
    "import pprint\n",
    "\n",
    "import pandas as pd\n",
    "import matplotlib.pyplot as plt\n",
    "import numpy as np\n",
    "\n",
    "import lightgbm as lgb\n",
    "\n",
    "from sklearn.preprocessing import OneHotEncoder, StandardScaler\n",
    "from sklearn.model_selection import train_test_split, StratifiedKFold\n",
    "from sklearn.compose import ColumnTransformer\n",
    "from sklearn.pipeline import Pipeline\n",
    "from sklearn.metrics import mean_squared_error\n",
    "from sklearn.linear_model import RidgeCV, Ridge\n",
    "\n",
    "from skopt import BayesSearchCV\n",
    "from skopt.callbacks import DeadlineStopper, DeltaYStopper\n",
    "from skopt.space import Real, Categorical, Integer"
   ]
  },
  {
   "cell_type": "code",
   "execution_count": 2,
   "metadata": {
    "id": "RXS6CZ7dEatt"
   },
   "outputs": [],
   "source": [
    "import warnings\n",
    "warnings.filterwarnings('ignore')"
   ]
  },
  {
   "cell_type": "code",
   "execution_count": 3,
   "metadata": {
    "id": "bvff6pKhEatt"
   },
   "outputs": [],
   "source": [
    "RANDOM_STATE=42"
   ]
  },
  {
   "cell_type": "markdown",
   "metadata": {
    "id": "dKsDTOfVEatu"
   },
   "source": [
    "### Загрузка и изучение данных"
   ]
  },
  {
   "cell_type": "code",
   "execution_count": 4,
   "metadata": {
    "id": "x-9fzDN_Eatu"
   },
   "outputs": [],
   "source": [
    "try:\n",
    "    df = pd.read_csv('/datasets/autos.csv', parse_dates=['DateCrawled', 'DateCreated','LastSeen'], dayfirst=True)\n",
    "except:\n",
    "    df = pd.read_csv('https://code.s3.yandex.net/datasets/autos.csv', parse_dates=['DateCrawled', 'DateCreated','LastSeen'], dayfirst=True)"
   ]
  },
  {
   "cell_type": "markdown",
   "metadata": {
    "id": "2LpkYiECEatu"
   },
   "source": [
    "**Признаки:**\n",
    "- DateCrawled — дата скачивания анкеты из базы\n",
    "- VehicleType — тип автомобильного кузова\n",
    "- RegistrationYear — год регистрации автомобиля\n",
    "- Gearbox — тип коробки передач\n",
    "- Power — мощность (л. с.)\n",
    "- Model — модель автомобиля\n",
    "- Kilometer — пробег (км)\n",
    "- RegistrationMonth — месяц регистрации автомобиля\n",
    "- FuelType — тип топлива\n",
    "- Brand — марка автомобиля\n",
    "- Repaired — была машина в ремонте или нет\n",
    "- DateCreated — дата создания анкеты\n",
    "- NumberOfPictures — количество фотографий автомобиля\n",
    "- PostalCode — почтовый индекс владельца анкеты (пользователя)\n",
    "- LastSeen — дата последней активности пользователя\n",
    "\n",
    "**Целевой признак:**\n",
    "- Price — цена (евро)"
   ]
  },
  {
   "cell_type": "code",
   "execution_count": 5,
   "metadata": {
    "colab": {
     "base_uri": "https://localhost:8080/"
    },
    "id": "RiBCYRnHEatu",
    "outputId": "b54374c9-7741-4f15-ce9f-f67c485ea365"
   },
   "outputs": [
    {
     "name": "stdout",
     "output_type": "stream",
     "text": [
      "<class 'pandas.core.frame.DataFrame'>\n",
      "RangeIndex: 354369 entries, 0 to 354368\n",
      "Data columns (total 16 columns):\n",
      " #   Column             Non-Null Count   Dtype         \n",
      "---  ------             --------------   -----         \n",
      " 0   DateCrawled        354369 non-null  datetime64[ns]\n",
      " 1   Price              354369 non-null  int64         \n",
      " 2   VehicleType        316879 non-null  object        \n",
      " 3   RegistrationYear   354369 non-null  int64         \n",
      " 4   Gearbox            334536 non-null  object        \n",
      " 5   Power              354369 non-null  int64         \n",
      " 6   Model              334664 non-null  object        \n",
      " 7   Kilometer          354369 non-null  int64         \n",
      " 8   RegistrationMonth  354369 non-null  int64         \n",
      " 9   FuelType           321474 non-null  object        \n",
      " 10  Brand              354369 non-null  object        \n",
      " 11  Repaired           283215 non-null  object        \n",
      " 12  DateCreated        354369 non-null  datetime64[ns]\n",
      " 13  NumberOfPictures   354369 non-null  int64         \n",
      " 14  PostalCode         354369 non-null  int64         \n",
      " 15  LastSeen           354369 non-null  datetime64[ns]\n",
      "dtypes: datetime64[ns](3), int64(7), object(6)\n",
      "memory usage: 43.3+ MB\n"
     ]
    }
   ],
   "source": [
    "df.info()"
   ]
  },
  {
   "cell_type": "code",
   "execution_count": 6,
   "metadata": {
    "colab": {
     "base_uri": "https://localhost:8080/",
     "height": 400
    },
    "id": "vqTjmjVSEatu",
    "outputId": "18c8045a-b8bf-45da-91cf-4452e2b959fc"
   },
   "outputs": [
    {
     "data": {
      "text/html": [
       "\n",
       "  <div id=\"df-848af9cf-d109-4435-9b38-0040c68264f3\" class=\"colab-df-container\">\n",
       "    <div>\n",
       "<style scoped>\n",
       "    .dataframe tbody tr th:only-of-type {\n",
       "        vertical-align: middle;\n",
       "    }\n",
       "\n",
       "    .dataframe tbody tr th {\n",
       "        vertical-align: top;\n",
       "    }\n",
       "\n",
       "    .dataframe thead th {\n",
       "        text-align: right;\n",
       "    }\n",
       "</style>\n",
       "<table border=\"1\" class=\"dataframe\">\n",
       "  <thead>\n",
       "    <tr style=\"text-align: right;\">\n",
       "      <th></th>\n",
       "      <th>DateCrawled</th>\n",
       "      <th>Price</th>\n",
       "      <th>VehicleType</th>\n",
       "      <th>RegistrationYear</th>\n",
       "      <th>Gearbox</th>\n",
       "      <th>Power</th>\n",
       "      <th>Model</th>\n",
       "      <th>Kilometer</th>\n",
       "      <th>RegistrationMonth</th>\n",
       "      <th>FuelType</th>\n",
       "      <th>Brand</th>\n",
       "      <th>Repaired</th>\n",
       "      <th>DateCreated</th>\n",
       "      <th>NumberOfPictures</th>\n",
       "      <th>PostalCode</th>\n",
       "      <th>LastSeen</th>\n",
       "    </tr>\n",
       "  </thead>\n",
       "  <tbody>\n",
       "    <tr>\n",
       "      <th>325935</th>\n",
       "      <td>2016-03-26 19:51:55</td>\n",
       "      <td>600</td>\n",
       "      <td>small</td>\n",
       "      <td>1998</td>\n",
       "      <td>manual</td>\n",
       "      <td>60</td>\n",
       "      <td>punto</td>\n",
       "      <td>150000</td>\n",
       "      <td>9</td>\n",
       "      <td>petrol</td>\n",
       "      <td>fiat</td>\n",
       "      <td>no</td>\n",
       "      <td>2016-03-26</td>\n",
       "      <td>0</td>\n",
       "      <td>15711</td>\n",
       "      <td>2016-04-06 09:47:02</td>\n",
       "    </tr>\n",
       "    <tr>\n",
       "      <th>170281</th>\n",
       "      <td>2016-03-24 13:55:49</td>\n",
       "      <td>17999</td>\n",
       "      <td>coupe</td>\n",
       "      <td>2009</td>\n",
       "      <td>auto</td>\n",
       "      <td>239</td>\n",
       "      <td>a5</td>\n",
       "      <td>150000</td>\n",
       "      <td>6</td>\n",
       "      <td>gasoline</td>\n",
       "      <td>audi</td>\n",
       "      <td>no</td>\n",
       "      <td>2016-03-24</td>\n",
       "      <td>0</td>\n",
       "      <td>21075</td>\n",
       "      <td>2016-04-07 05:46:45</td>\n",
       "    </tr>\n",
       "    <tr>\n",
       "      <th>237392</th>\n",
       "      <td>2016-03-24 19:53:37</td>\n",
       "      <td>6999</td>\n",
       "      <td>coupe</td>\n",
       "      <td>2005</td>\n",
       "      <td>manual</td>\n",
       "      <td>163</td>\n",
       "      <td>c_klasse</td>\n",
       "      <td>100000</td>\n",
       "      <td>4</td>\n",
       "      <td>petrol</td>\n",
       "      <td>mercedes_benz</td>\n",
       "      <td>no</td>\n",
       "      <td>2016-03-24</td>\n",
       "      <td>0</td>\n",
       "      <td>72461</td>\n",
       "      <td>2016-04-05 13:16:44</td>\n",
       "    </tr>\n",
       "    <tr>\n",
       "      <th>171694</th>\n",
       "      <td>2016-03-10 20:52:58</td>\n",
       "      <td>6500</td>\n",
       "      <td>convertible</td>\n",
       "      <td>1991</td>\n",
       "      <td>manual</td>\n",
       "      <td>113</td>\n",
       "      <td>3er</td>\n",
       "      <td>150000</td>\n",
       "      <td>3</td>\n",
       "      <td>petrol</td>\n",
       "      <td>bmw</td>\n",
       "      <td>no</td>\n",
       "      <td>2016-03-10</td>\n",
       "      <td>0</td>\n",
       "      <td>12247</td>\n",
       "      <td>2016-03-19 10:16:40</td>\n",
       "    </tr>\n",
       "    <tr>\n",
       "      <th>27092</th>\n",
       "      <td>2016-03-07 22:52:55</td>\n",
       "      <td>14390</td>\n",
       "      <td>suv</td>\n",
       "      <td>2009</td>\n",
       "      <td>auto</td>\n",
       "      <td>141</td>\n",
       "      <td>qashqai</td>\n",
       "      <td>40000</td>\n",
       "      <td>12</td>\n",
       "      <td>petrol</td>\n",
       "      <td>nissan</td>\n",
       "      <td>no</td>\n",
       "      <td>2016-03-07</td>\n",
       "      <td>0</td>\n",
       "      <td>82515</td>\n",
       "      <td>2016-03-29 10:44:36</td>\n",
       "    </tr>\n",
       "  </tbody>\n",
       "</table>\n",
       "</div>\n",
       "    <div class=\"colab-df-buttons\">\n",
       "\n",
       "  <div class=\"colab-df-container\">\n",
       "    <button class=\"colab-df-convert\" onclick=\"convertToInteractive('df-848af9cf-d109-4435-9b38-0040c68264f3')\"\n",
       "            title=\"Convert this dataframe to an interactive table.\"\n",
       "            style=\"display:none;\">\n",
       "\n",
       "  <svg xmlns=\"http://www.w3.org/2000/svg\" height=\"24px\" viewBox=\"0 -960 960 960\">\n",
       "    <path d=\"M120-120v-720h720v720H120Zm60-500h600v-160H180v160Zm220 220h160v-160H400v160Zm0 220h160v-160H400v160ZM180-400h160v-160H180v160Zm440 0h160v-160H620v160ZM180-180h160v-160H180v160Zm440 0h160v-160H620v160Z\"/>\n",
       "  </svg>\n",
       "    </button>\n",
       "\n",
       "  <style>\n",
       "    .colab-df-container {\n",
       "      display:flex;\n",
       "      gap: 12px;\n",
       "    }\n",
       "\n",
       "    .colab-df-convert {\n",
       "      background-color: #E8F0FE;\n",
       "      border: none;\n",
       "      border-radius: 50%;\n",
       "      cursor: pointer;\n",
       "      display: none;\n",
       "      fill: #1967D2;\n",
       "      height: 32px;\n",
       "      padding: 0 0 0 0;\n",
       "      width: 32px;\n",
       "    }\n",
       "\n",
       "    .colab-df-convert:hover {\n",
       "      background-color: #E2EBFA;\n",
       "      box-shadow: 0px 1px 2px rgba(60, 64, 67, 0.3), 0px 1px 3px 1px rgba(60, 64, 67, 0.15);\n",
       "      fill: #174EA6;\n",
       "    }\n",
       "\n",
       "    .colab-df-buttons div {\n",
       "      margin-bottom: 4px;\n",
       "    }\n",
       "\n",
       "    [theme=dark] .colab-df-convert {\n",
       "      background-color: #3B4455;\n",
       "      fill: #D2E3FC;\n",
       "    }\n",
       "\n",
       "    [theme=dark] .colab-df-convert:hover {\n",
       "      background-color: #434B5C;\n",
       "      box-shadow: 0px 1px 3px 1px rgba(0, 0, 0, 0.15);\n",
       "      filter: drop-shadow(0px 1px 2px rgba(0, 0, 0, 0.3));\n",
       "      fill: #FFFFFF;\n",
       "    }\n",
       "  </style>\n",
       "\n",
       "    <script>\n",
       "      const buttonEl =\n",
       "        document.querySelector('#df-848af9cf-d109-4435-9b38-0040c68264f3 button.colab-df-convert');\n",
       "      buttonEl.style.display =\n",
       "        google.colab.kernel.accessAllowed ? 'block' : 'none';\n",
       "\n",
       "      async function convertToInteractive(key) {\n",
       "        const element = document.querySelector('#df-848af9cf-d109-4435-9b38-0040c68264f3');\n",
       "        const dataTable =\n",
       "          await google.colab.kernel.invokeFunction('convertToInteractive',\n",
       "                                                    [key], {});\n",
       "        if (!dataTable) return;\n",
       "\n",
       "        const docLinkHtml = 'Like what you see? Visit the ' +\n",
       "          '<a target=\"_blank\" href=https://colab.research.google.com/notebooks/data_table.ipynb>data table notebook</a>'\n",
       "          + ' to learn more about interactive tables.';\n",
       "        element.innerHTML = '';\n",
       "        dataTable['output_type'] = 'display_data';\n",
       "        await google.colab.output.renderOutput(dataTable, element);\n",
       "        const docLink = document.createElement('div');\n",
       "        docLink.innerHTML = docLinkHtml;\n",
       "        element.appendChild(docLink);\n",
       "      }\n",
       "    </script>\n",
       "  </div>\n",
       "\n",
       "\n",
       "<div id=\"df-8ece6946-9b52-49db-ac74-315ae2cf7873\">\n",
       "  <button class=\"colab-df-quickchart\" onclick=\"quickchart('df-8ece6946-9b52-49db-ac74-315ae2cf7873')\"\n",
       "            title=\"Suggest charts\"\n",
       "            style=\"display:none;\">\n",
       "\n",
       "<svg xmlns=\"http://www.w3.org/2000/svg\" height=\"24px\"viewBox=\"0 0 24 24\"\n",
       "     width=\"24px\">\n",
       "    <g>\n",
       "        <path d=\"M19 3H5c-1.1 0-2 .9-2 2v14c0 1.1.9 2 2 2h14c1.1 0 2-.9 2-2V5c0-1.1-.9-2-2-2zM9 17H7v-7h2v7zm4 0h-2V7h2v10zm4 0h-2v-4h2v4z\"/>\n",
       "    </g>\n",
       "</svg>\n",
       "  </button>\n",
       "\n",
       "<style>\n",
       "  .colab-df-quickchart {\n",
       "      --bg-color: #E8F0FE;\n",
       "      --fill-color: #1967D2;\n",
       "      --hover-bg-color: #E2EBFA;\n",
       "      --hover-fill-color: #174EA6;\n",
       "      --disabled-fill-color: #AAA;\n",
       "      --disabled-bg-color: #DDD;\n",
       "  }\n",
       "\n",
       "  [theme=dark] .colab-df-quickchart {\n",
       "      --bg-color: #3B4455;\n",
       "      --fill-color: #D2E3FC;\n",
       "      --hover-bg-color: #434B5C;\n",
       "      --hover-fill-color: #FFFFFF;\n",
       "      --disabled-bg-color: #3B4455;\n",
       "      --disabled-fill-color: #666;\n",
       "  }\n",
       "\n",
       "  .colab-df-quickchart {\n",
       "    background-color: var(--bg-color);\n",
       "    border: none;\n",
       "    border-radius: 50%;\n",
       "    cursor: pointer;\n",
       "    display: none;\n",
       "    fill: var(--fill-color);\n",
       "    height: 32px;\n",
       "    padding: 0;\n",
       "    width: 32px;\n",
       "  }\n",
       "\n",
       "  .colab-df-quickchart:hover {\n",
       "    background-color: var(--hover-bg-color);\n",
       "    box-shadow: 0 1px 2px rgba(60, 64, 67, 0.3), 0 1px 3px 1px rgba(60, 64, 67, 0.15);\n",
       "    fill: var(--button-hover-fill-color);\n",
       "  }\n",
       "\n",
       "  .colab-df-quickchart-complete:disabled,\n",
       "  .colab-df-quickchart-complete:disabled:hover {\n",
       "    background-color: var(--disabled-bg-color);\n",
       "    fill: var(--disabled-fill-color);\n",
       "    box-shadow: none;\n",
       "  }\n",
       "\n",
       "  .colab-df-spinner {\n",
       "    border: 2px solid var(--fill-color);\n",
       "    border-color: transparent;\n",
       "    border-bottom-color: var(--fill-color);\n",
       "    animation:\n",
       "      spin 1s steps(1) infinite;\n",
       "  }\n",
       "\n",
       "  @keyframes spin {\n",
       "    0% {\n",
       "      border-color: transparent;\n",
       "      border-bottom-color: var(--fill-color);\n",
       "      border-left-color: var(--fill-color);\n",
       "    }\n",
       "    20% {\n",
       "      border-color: transparent;\n",
       "      border-left-color: var(--fill-color);\n",
       "      border-top-color: var(--fill-color);\n",
       "    }\n",
       "    30% {\n",
       "      border-color: transparent;\n",
       "      border-left-color: var(--fill-color);\n",
       "      border-top-color: var(--fill-color);\n",
       "      border-right-color: var(--fill-color);\n",
       "    }\n",
       "    40% {\n",
       "      border-color: transparent;\n",
       "      border-right-color: var(--fill-color);\n",
       "      border-top-color: var(--fill-color);\n",
       "    }\n",
       "    60% {\n",
       "      border-color: transparent;\n",
       "      border-right-color: var(--fill-color);\n",
       "    }\n",
       "    80% {\n",
       "      border-color: transparent;\n",
       "      border-right-color: var(--fill-color);\n",
       "      border-bottom-color: var(--fill-color);\n",
       "    }\n",
       "    90% {\n",
       "      border-color: transparent;\n",
       "      border-bottom-color: var(--fill-color);\n",
       "    }\n",
       "  }\n",
       "</style>\n",
       "\n",
       "  <script>\n",
       "    async function quickchart(key) {\n",
       "      const quickchartButtonEl =\n",
       "        document.querySelector('#' + key + ' button');\n",
       "      quickchartButtonEl.disabled = true;  // To prevent multiple clicks.\n",
       "      quickchartButtonEl.classList.add('colab-df-spinner');\n",
       "      try {\n",
       "        const charts = await google.colab.kernel.invokeFunction(\n",
       "            'suggestCharts', [key], {});\n",
       "      } catch (error) {\n",
       "        console.error('Error during call to suggestCharts:', error);\n",
       "      }\n",
       "      quickchartButtonEl.classList.remove('colab-df-spinner');\n",
       "      quickchartButtonEl.classList.add('colab-df-quickchart-complete');\n",
       "    }\n",
       "    (() => {\n",
       "      let quickchartButtonEl =\n",
       "        document.querySelector('#df-8ece6946-9b52-49db-ac74-315ae2cf7873 button');\n",
       "      quickchartButtonEl.style.display =\n",
       "        google.colab.kernel.accessAllowed ? 'block' : 'none';\n",
       "    })();\n",
       "  </script>\n",
       "</div>\n",
       "    </div>\n",
       "  </div>\n"
      ],
      "text/plain": [
       "               DateCrawled  Price  VehicleType  RegistrationYear Gearbox  \\\n",
       "325935 2016-03-26 19:51:55    600        small              1998  manual   \n",
       "170281 2016-03-24 13:55:49  17999        coupe              2009    auto   \n",
       "237392 2016-03-24 19:53:37   6999        coupe              2005  manual   \n",
       "171694 2016-03-10 20:52:58   6500  convertible              1991  manual   \n",
       "27092  2016-03-07 22:52:55  14390          suv              2009    auto   \n",
       "\n",
       "        Power     Model  Kilometer  RegistrationMonth  FuelType  \\\n",
       "325935     60     punto     150000                  9    petrol   \n",
       "170281    239        a5     150000                  6  gasoline   \n",
       "237392    163  c_klasse     100000                  4    petrol   \n",
       "171694    113       3er     150000                  3    petrol   \n",
       "27092     141   qashqai      40000                 12    petrol   \n",
       "\n",
       "                Brand Repaired DateCreated  NumberOfPictures  PostalCode  \\\n",
       "325935           fiat       no  2016-03-26                 0       15711   \n",
       "170281           audi       no  2016-03-24                 0       21075   \n",
       "237392  mercedes_benz       no  2016-03-24                 0       72461   \n",
       "171694            bmw       no  2016-03-10                 0       12247   \n",
       "27092          nissan       no  2016-03-07                 0       82515   \n",
       "\n",
       "                  LastSeen  \n",
       "325935 2016-04-06 09:47:02  \n",
       "170281 2016-04-07 05:46:45  \n",
       "237392 2016-04-05 13:16:44  \n",
       "171694 2016-03-19 10:16:40  \n",
       "27092  2016-03-29 10:44:36  "
      ]
     },
     "execution_count": 6,
     "metadata": {},
     "output_type": "execute_result"
    }
   ],
   "source": [
    "df.sample(5)"
   ]
  },
  {
   "cell_type": "code",
   "execution_count": 7,
   "metadata": {
    "colab": {
     "base_uri": "https://localhost:8080/",
     "height": 518
    },
    "id": "ZI1lUzpKEatu",
    "outputId": "d8d62f78-8cc3-4b88-b6e2-c617beb087b0"
   },
   "outputs": [
    {
     "data": {
      "text/html": [
       "\n",
       "  <div id=\"df-c6de3e08-e161-4fc9-bce3-4585d63a40d8\" class=\"colab-df-container\">\n",
       "    <div>\n",
       "<style scoped>\n",
       "    .dataframe tbody tr th:only-of-type {\n",
       "        vertical-align: middle;\n",
       "    }\n",
       "\n",
       "    .dataframe tbody tr th {\n",
       "        vertical-align: top;\n",
       "    }\n",
       "\n",
       "    .dataframe thead th {\n",
       "        text-align: right;\n",
       "    }\n",
       "</style>\n",
       "<table border=\"1\" class=\"dataframe\">\n",
       "  <thead>\n",
       "    <tr style=\"text-align: right;\">\n",
       "      <th></th>\n",
       "      <th>DateCrawled</th>\n",
       "      <th>Price</th>\n",
       "      <th>VehicleType</th>\n",
       "      <th>RegistrationYear</th>\n",
       "      <th>Gearbox</th>\n",
       "      <th>Power</th>\n",
       "      <th>Model</th>\n",
       "      <th>Kilometer</th>\n",
       "      <th>RegistrationMonth</th>\n",
       "      <th>FuelType</th>\n",
       "      <th>Brand</th>\n",
       "      <th>Repaired</th>\n",
       "      <th>DateCreated</th>\n",
       "      <th>NumberOfPictures</th>\n",
       "      <th>PostalCode</th>\n",
       "      <th>LastSeen</th>\n",
       "    </tr>\n",
       "  </thead>\n",
       "  <tbody>\n",
       "    <tr>\n",
       "      <th>count</th>\n",
       "      <td>354369</td>\n",
       "      <td>354369.000000</td>\n",
       "      <td>316879</td>\n",
       "      <td>354369.000000</td>\n",
       "      <td>334536</td>\n",
       "      <td>354369.000000</td>\n",
       "      <td>334664</td>\n",
       "      <td>354369.000000</td>\n",
       "      <td>354369.000000</td>\n",
       "      <td>321474</td>\n",
       "      <td>354369</td>\n",
       "      <td>283215</td>\n",
       "      <td>354369</td>\n",
       "      <td>354369.0</td>\n",
       "      <td>354369.000000</td>\n",
       "      <td>354369</td>\n",
       "    </tr>\n",
       "    <tr>\n",
       "      <th>unique</th>\n",
       "      <td>NaN</td>\n",
       "      <td>NaN</td>\n",
       "      <td>8</td>\n",
       "      <td>NaN</td>\n",
       "      <td>2</td>\n",
       "      <td>NaN</td>\n",
       "      <td>250</td>\n",
       "      <td>NaN</td>\n",
       "      <td>NaN</td>\n",
       "      <td>7</td>\n",
       "      <td>40</td>\n",
       "      <td>2</td>\n",
       "      <td>NaN</td>\n",
       "      <td>NaN</td>\n",
       "      <td>NaN</td>\n",
       "      <td>NaN</td>\n",
       "    </tr>\n",
       "    <tr>\n",
       "      <th>top</th>\n",
       "      <td>NaN</td>\n",
       "      <td>NaN</td>\n",
       "      <td>sedan</td>\n",
       "      <td>NaN</td>\n",
       "      <td>manual</td>\n",
       "      <td>NaN</td>\n",
       "      <td>golf</td>\n",
       "      <td>NaN</td>\n",
       "      <td>NaN</td>\n",
       "      <td>petrol</td>\n",
       "      <td>volkswagen</td>\n",
       "      <td>no</td>\n",
       "      <td>NaN</td>\n",
       "      <td>NaN</td>\n",
       "      <td>NaN</td>\n",
       "      <td>NaN</td>\n",
       "    </tr>\n",
       "    <tr>\n",
       "      <th>freq</th>\n",
       "      <td>NaN</td>\n",
       "      <td>NaN</td>\n",
       "      <td>91457</td>\n",
       "      <td>NaN</td>\n",
       "      <td>268251</td>\n",
       "      <td>NaN</td>\n",
       "      <td>29232</td>\n",
       "      <td>NaN</td>\n",
       "      <td>NaN</td>\n",
       "      <td>216352</td>\n",
       "      <td>77013</td>\n",
       "      <td>247161</td>\n",
       "      <td>NaN</td>\n",
       "      <td>NaN</td>\n",
       "      <td>NaN</td>\n",
       "      <td>NaN</td>\n",
       "    </tr>\n",
       "    <tr>\n",
       "      <th>mean</th>\n",
       "      <td>2016-03-21 12:58:10.450648320</td>\n",
       "      <td>4416.656776</td>\n",
       "      <td>NaN</td>\n",
       "      <td>2004.234448</td>\n",
       "      <td>NaN</td>\n",
       "      <td>110.094337</td>\n",
       "      <td>NaN</td>\n",
       "      <td>128211.172535</td>\n",
       "      <td>5.714645</td>\n",
       "      <td>NaN</td>\n",
       "      <td>NaN</td>\n",
       "      <td>NaN</td>\n",
       "      <td>2016-03-20 19:12:07.753274112</td>\n",
       "      <td>0.0</td>\n",
       "      <td>50508.689087</td>\n",
       "      <td>2016-03-29 23:51:00.667456768</td>\n",
       "    </tr>\n",
       "    <tr>\n",
       "      <th>min</th>\n",
       "      <td>2016-03-05 14:06:22</td>\n",
       "      <td>0.000000</td>\n",
       "      <td>NaN</td>\n",
       "      <td>1000.000000</td>\n",
       "      <td>NaN</td>\n",
       "      <td>0.000000</td>\n",
       "      <td>NaN</td>\n",
       "      <td>5000.000000</td>\n",
       "      <td>0.000000</td>\n",
       "      <td>NaN</td>\n",
       "      <td>NaN</td>\n",
       "      <td>NaN</td>\n",
       "      <td>2014-03-10 00:00:00</td>\n",
       "      <td>0.0</td>\n",
       "      <td>1067.000000</td>\n",
       "      <td>2016-03-05 14:15:08</td>\n",
       "    </tr>\n",
       "    <tr>\n",
       "      <th>25%</th>\n",
       "      <td>2016-03-13 11:52:33</td>\n",
       "      <td>1050.000000</td>\n",
       "      <td>NaN</td>\n",
       "      <td>1999.000000</td>\n",
       "      <td>NaN</td>\n",
       "      <td>69.000000</td>\n",
       "      <td>NaN</td>\n",
       "      <td>125000.000000</td>\n",
       "      <td>3.000000</td>\n",
       "      <td>NaN</td>\n",
       "      <td>NaN</td>\n",
       "      <td>NaN</td>\n",
       "      <td>2016-03-13 00:00:00</td>\n",
       "      <td>0.0</td>\n",
       "      <td>30165.000000</td>\n",
       "      <td>2016-03-23 02:50:03</td>\n",
       "    </tr>\n",
       "    <tr>\n",
       "      <th>50%</th>\n",
       "      <td>2016-03-21 17:50:55</td>\n",
       "      <td>2700.000000</td>\n",
       "      <td>NaN</td>\n",
       "      <td>2003.000000</td>\n",
       "      <td>NaN</td>\n",
       "      <td>105.000000</td>\n",
       "      <td>NaN</td>\n",
       "      <td>150000.000000</td>\n",
       "      <td>6.000000</td>\n",
       "      <td>NaN</td>\n",
       "      <td>NaN</td>\n",
       "      <td>NaN</td>\n",
       "      <td>2016-03-21 00:00:00</td>\n",
       "      <td>0.0</td>\n",
       "      <td>49413.000000</td>\n",
       "      <td>2016-04-03 15:15:51</td>\n",
       "    </tr>\n",
       "    <tr>\n",
       "      <th>75%</th>\n",
       "      <td>2016-03-29 14:37:20</td>\n",
       "      <td>6400.000000</td>\n",
       "      <td>NaN</td>\n",
       "      <td>2008.000000</td>\n",
       "      <td>NaN</td>\n",
       "      <td>143.000000</td>\n",
       "      <td>NaN</td>\n",
       "      <td>150000.000000</td>\n",
       "      <td>9.000000</td>\n",
       "      <td>NaN</td>\n",
       "      <td>NaN</td>\n",
       "      <td>NaN</td>\n",
       "      <td>2016-03-29 00:00:00</td>\n",
       "      <td>0.0</td>\n",
       "      <td>71083.000000</td>\n",
       "      <td>2016-04-06 10:15:19</td>\n",
       "    </tr>\n",
       "    <tr>\n",
       "      <th>max</th>\n",
       "      <td>2016-04-07 14:36:58</td>\n",
       "      <td>20000.000000</td>\n",
       "      <td>NaN</td>\n",
       "      <td>9999.000000</td>\n",
       "      <td>NaN</td>\n",
       "      <td>20000.000000</td>\n",
       "      <td>NaN</td>\n",
       "      <td>150000.000000</td>\n",
       "      <td>12.000000</td>\n",
       "      <td>NaN</td>\n",
       "      <td>NaN</td>\n",
       "      <td>NaN</td>\n",
       "      <td>2016-04-07 00:00:00</td>\n",
       "      <td>0.0</td>\n",
       "      <td>99998.000000</td>\n",
       "      <td>2016-04-07 14:58:51</td>\n",
       "    </tr>\n",
       "    <tr>\n",
       "      <th>std</th>\n",
       "      <td>NaN</td>\n",
       "      <td>4514.158514</td>\n",
       "      <td>NaN</td>\n",
       "      <td>90.227958</td>\n",
       "      <td>NaN</td>\n",
       "      <td>189.850405</td>\n",
       "      <td>NaN</td>\n",
       "      <td>37905.341530</td>\n",
       "      <td>3.726421</td>\n",
       "      <td>NaN</td>\n",
       "      <td>NaN</td>\n",
       "      <td>NaN</td>\n",
       "      <td>NaN</td>\n",
       "      <td>0.0</td>\n",
       "      <td>25783.096248</td>\n",
       "      <td>NaN</td>\n",
       "    </tr>\n",
       "  </tbody>\n",
       "</table>\n",
       "</div>\n",
       "    <div class=\"colab-df-buttons\">\n",
       "\n",
       "  <div class=\"colab-df-container\">\n",
       "    <button class=\"colab-df-convert\" onclick=\"convertToInteractive('df-c6de3e08-e161-4fc9-bce3-4585d63a40d8')\"\n",
       "            title=\"Convert this dataframe to an interactive table.\"\n",
       "            style=\"display:none;\">\n",
       "\n",
       "  <svg xmlns=\"http://www.w3.org/2000/svg\" height=\"24px\" viewBox=\"0 -960 960 960\">\n",
       "    <path d=\"M120-120v-720h720v720H120Zm60-500h600v-160H180v160Zm220 220h160v-160H400v160Zm0 220h160v-160H400v160ZM180-400h160v-160H180v160Zm440 0h160v-160H620v160ZM180-180h160v-160H180v160Zm440 0h160v-160H620v160Z\"/>\n",
       "  </svg>\n",
       "    </button>\n",
       "\n",
       "  <style>\n",
       "    .colab-df-container {\n",
       "      display:flex;\n",
       "      gap: 12px;\n",
       "    }\n",
       "\n",
       "    .colab-df-convert {\n",
       "      background-color: #E8F0FE;\n",
       "      border: none;\n",
       "      border-radius: 50%;\n",
       "      cursor: pointer;\n",
       "      display: none;\n",
       "      fill: #1967D2;\n",
       "      height: 32px;\n",
       "      padding: 0 0 0 0;\n",
       "      width: 32px;\n",
       "    }\n",
       "\n",
       "    .colab-df-convert:hover {\n",
       "      background-color: #E2EBFA;\n",
       "      box-shadow: 0px 1px 2px rgba(60, 64, 67, 0.3), 0px 1px 3px 1px rgba(60, 64, 67, 0.15);\n",
       "      fill: #174EA6;\n",
       "    }\n",
       "\n",
       "    .colab-df-buttons div {\n",
       "      margin-bottom: 4px;\n",
       "    }\n",
       "\n",
       "    [theme=dark] .colab-df-convert {\n",
       "      background-color: #3B4455;\n",
       "      fill: #D2E3FC;\n",
       "    }\n",
       "\n",
       "    [theme=dark] .colab-df-convert:hover {\n",
       "      background-color: #434B5C;\n",
       "      box-shadow: 0px 1px 3px 1px rgba(0, 0, 0, 0.15);\n",
       "      filter: drop-shadow(0px 1px 2px rgba(0, 0, 0, 0.3));\n",
       "      fill: #FFFFFF;\n",
       "    }\n",
       "  </style>\n",
       "\n",
       "    <script>\n",
       "      const buttonEl =\n",
       "        document.querySelector('#df-c6de3e08-e161-4fc9-bce3-4585d63a40d8 button.colab-df-convert');\n",
       "      buttonEl.style.display =\n",
       "        google.colab.kernel.accessAllowed ? 'block' : 'none';\n",
       "\n",
       "      async function convertToInteractive(key) {\n",
       "        const element = document.querySelector('#df-c6de3e08-e161-4fc9-bce3-4585d63a40d8');\n",
       "        const dataTable =\n",
       "          await google.colab.kernel.invokeFunction('convertToInteractive',\n",
       "                                                    [key], {});\n",
       "        if (!dataTable) return;\n",
       "\n",
       "        const docLinkHtml = 'Like what you see? Visit the ' +\n",
       "          '<a target=\"_blank\" href=https://colab.research.google.com/notebooks/data_table.ipynb>data table notebook</a>'\n",
       "          + ' to learn more about interactive tables.';\n",
       "        element.innerHTML = '';\n",
       "        dataTable['output_type'] = 'display_data';\n",
       "        await google.colab.output.renderOutput(dataTable, element);\n",
       "        const docLink = document.createElement('div');\n",
       "        docLink.innerHTML = docLinkHtml;\n",
       "        element.appendChild(docLink);\n",
       "      }\n",
       "    </script>\n",
       "  </div>\n",
       "\n",
       "\n",
       "<div id=\"df-7b8273f2-2366-4f1e-b3fb-4fbf4ae1dd6d\">\n",
       "  <button class=\"colab-df-quickchart\" onclick=\"quickchart('df-7b8273f2-2366-4f1e-b3fb-4fbf4ae1dd6d')\"\n",
       "            title=\"Suggest charts\"\n",
       "            style=\"display:none;\">\n",
       "\n",
       "<svg xmlns=\"http://www.w3.org/2000/svg\" height=\"24px\"viewBox=\"0 0 24 24\"\n",
       "     width=\"24px\">\n",
       "    <g>\n",
       "        <path d=\"M19 3H5c-1.1 0-2 .9-2 2v14c0 1.1.9 2 2 2h14c1.1 0 2-.9 2-2V5c0-1.1-.9-2-2-2zM9 17H7v-7h2v7zm4 0h-2V7h2v10zm4 0h-2v-4h2v4z\"/>\n",
       "    </g>\n",
       "</svg>\n",
       "  </button>\n",
       "\n",
       "<style>\n",
       "  .colab-df-quickchart {\n",
       "      --bg-color: #E8F0FE;\n",
       "      --fill-color: #1967D2;\n",
       "      --hover-bg-color: #E2EBFA;\n",
       "      --hover-fill-color: #174EA6;\n",
       "      --disabled-fill-color: #AAA;\n",
       "      --disabled-bg-color: #DDD;\n",
       "  }\n",
       "\n",
       "  [theme=dark] .colab-df-quickchart {\n",
       "      --bg-color: #3B4455;\n",
       "      --fill-color: #D2E3FC;\n",
       "      --hover-bg-color: #434B5C;\n",
       "      --hover-fill-color: #FFFFFF;\n",
       "      --disabled-bg-color: #3B4455;\n",
       "      --disabled-fill-color: #666;\n",
       "  }\n",
       "\n",
       "  .colab-df-quickchart {\n",
       "    background-color: var(--bg-color);\n",
       "    border: none;\n",
       "    border-radius: 50%;\n",
       "    cursor: pointer;\n",
       "    display: none;\n",
       "    fill: var(--fill-color);\n",
       "    height: 32px;\n",
       "    padding: 0;\n",
       "    width: 32px;\n",
       "  }\n",
       "\n",
       "  .colab-df-quickchart:hover {\n",
       "    background-color: var(--hover-bg-color);\n",
       "    box-shadow: 0 1px 2px rgba(60, 64, 67, 0.3), 0 1px 3px 1px rgba(60, 64, 67, 0.15);\n",
       "    fill: var(--button-hover-fill-color);\n",
       "  }\n",
       "\n",
       "  .colab-df-quickchart-complete:disabled,\n",
       "  .colab-df-quickchart-complete:disabled:hover {\n",
       "    background-color: var(--disabled-bg-color);\n",
       "    fill: var(--disabled-fill-color);\n",
       "    box-shadow: none;\n",
       "  }\n",
       "\n",
       "  .colab-df-spinner {\n",
       "    border: 2px solid var(--fill-color);\n",
       "    border-color: transparent;\n",
       "    border-bottom-color: var(--fill-color);\n",
       "    animation:\n",
       "      spin 1s steps(1) infinite;\n",
       "  }\n",
       "\n",
       "  @keyframes spin {\n",
       "    0% {\n",
       "      border-color: transparent;\n",
       "      border-bottom-color: var(--fill-color);\n",
       "      border-left-color: var(--fill-color);\n",
       "    }\n",
       "    20% {\n",
       "      border-color: transparent;\n",
       "      border-left-color: var(--fill-color);\n",
       "      border-top-color: var(--fill-color);\n",
       "    }\n",
       "    30% {\n",
       "      border-color: transparent;\n",
       "      border-left-color: var(--fill-color);\n",
       "      border-top-color: var(--fill-color);\n",
       "      border-right-color: var(--fill-color);\n",
       "    }\n",
       "    40% {\n",
       "      border-color: transparent;\n",
       "      border-right-color: var(--fill-color);\n",
       "      border-top-color: var(--fill-color);\n",
       "    }\n",
       "    60% {\n",
       "      border-color: transparent;\n",
       "      border-right-color: var(--fill-color);\n",
       "    }\n",
       "    80% {\n",
       "      border-color: transparent;\n",
       "      border-right-color: var(--fill-color);\n",
       "      border-bottom-color: var(--fill-color);\n",
       "    }\n",
       "    90% {\n",
       "      border-color: transparent;\n",
       "      border-bottom-color: var(--fill-color);\n",
       "    }\n",
       "  }\n",
       "</style>\n",
       "\n",
       "  <script>\n",
       "    async function quickchart(key) {\n",
       "      const quickchartButtonEl =\n",
       "        document.querySelector('#' + key + ' button');\n",
       "      quickchartButtonEl.disabled = true;  // To prevent multiple clicks.\n",
       "      quickchartButtonEl.classList.add('colab-df-spinner');\n",
       "      try {\n",
       "        const charts = await google.colab.kernel.invokeFunction(\n",
       "            'suggestCharts', [key], {});\n",
       "      } catch (error) {\n",
       "        console.error('Error during call to suggestCharts:', error);\n",
       "      }\n",
       "      quickchartButtonEl.classList.remove('colab-df-spinner');\n",
       "      quickchartButtonEl.classList.add('colab-df-quickchart-complete');\n",
       "    }\n",
       "    (() => {\n",
       "      let quickchartButtonEl =\n",
       "        document.querySelector('#df-7b8273f2-2366-4f1e-b3fb-4fbf4ae1dd6d button');\n",
       "      quickchartButtonEl.style.display =\n",
       "        google.colab.kernel.accessAllowed ? 'block' : 'none';\n",
       "    })();\n",
       "  </script>\n",
       "</div>\n",
       "    </div>\n",
       "  </div>\n"
      ],
      "text/plain": [
       "                          DateCrawled          Price VehicleType  \\\n",
       "count                          354369  354369.000000      316879   \n",
       "unique                            NaN            NaN           8   \n",
       "top                               NaN            NaN       sedan   \n",
       "freq                              NaN            NaN       91457   \n",
       "mean    2016-03-21 12:58:10.450648320    4416.656776         NaN   \n",
       "min               2016-03-05 14:06:22       0.000000         NaN   \n",
       "25%               2016-03-13 11:52:33    1050.000000         NaN   \n",
       "50%               2016-03-21 17:50:55    2700.000000         NaN   \n",
       "75%               2016-03-29 14:37:20    6400.000000         NaN   \n",
       "max               2016-04-07 14:36:58   20000.000000         NaN   \n",
       "std                               NaN    4514.158514         NaN   \n",
       "\n",
       "        RegistrationYear Gearbox          Power   Model      Kilometer  \\\n",
       "count      354369.000000  334536  354369.000000  334664  354369.000000   \n",
       "unique               NaN       2            NaN     250            NaN   \n",
       "top                  NaN  manual            NaN    golf            NaN   \n",
       "freq                 NaN  268251            NaN   29232            NaN   \n",
       "mean         2004.234448     NaN     110.094337     NaN  128211.172535   \n",
       "min          1000.000000     NaN       0.000000     NaN    5000.000000   \n",
       "25%          1999.000000     NaN      69.000000     NaN  125000.000000   \n",
       "50%          2003.000000     NaN     105.000000     NaN  150000.000000   \n",
       "75%          2008.000000     NaN     143.000000     NaN  150000.000000   \n",
       "max          9999.000000     NaN   20000.000000     NaN  150000.000000   \n",
       "std            90.227958     NaN     189.850405     NaN   37905.341530   \n",
       "\n",
       "        RegistrationMonth FuelType       Brand Repaired  \\\n",
       "count       354369.000000   321474      354369   283215   \n",
       "unique                NaN        7          40        2   \n",
       "top                   NaN   petrol  volkswagen       no   \n",
       "freq                  NaN   216352       77013   247161   \n",
       "mean             5.714645      NaN         NaN      NaN   \n",
       "min              0.000000      NaN         NaN      NaN   \n",
       "25%              3.000000      NaN         NaN      NaN   \n",
       "50%              6.000000      NaN         NaN      NaN   \n",
       "75%              9.000000      NaN         NaN      NaN   \n",
       "max             12.000000      NaN         NaN      NaN   \n",
       "std              3.726421      NaN         NaN      NaN   \n",
       "\n",
       "                          DateCreated  NumberOfPictures     PostalCode  \\\n",
       "count                          354369          354369.0  354369.000000   \n",
       "unique                            NaN               NaN            NaN   \n",
       "top                               NaN               NaN            NaN   \n",
       "freq                              NaN               NaN            NaN   \n",
       "mean    2016-03-20 19:12:07.753274112               0.0   50508.689087   \n",
       "min               2014-03-10 00:00:00               0.0    1067.000000   \n",
       "25%               2016-03-13 00:00:00               0.0   30165.000000   \n",
       "50%               2016-03-21 00:00:00               0.0   49413.000000   \n",
       "75%               2016-03-29 00:00:00               0.0   71083.000000   \n",
       "max               2016-04-07 00:00:00               0.0   99998.000000   \n",
       "std                               NaN               0.0   25783.096248   \n",
       "\n",
       "                             LastSeen  \n",
       "count                          354369  \n",
       "unique                            NaN  \n",
       "top                               NaN  \n",
       "freq                              NaN  \n",
       "mean    2016-03-29 23:51:00.667456768  \n",
       "min               2016-03-05 14:15:08  \n",
       "25%               2016-03-23 02:50:03  \n",
       "50%               2016-04-03 15:15:51  \n",
       "75%               2016-04-06 10:15:19  \n",
       "max               2016-04-07 14:58:51  \n",
       "std                               NaN  "
      ]
     },
     "execution_count": 7,
     "metadata": {},
     "output_type": "execute_result"
    }
   ],
   "source": [
    "df.describe(include='all', datetime_is_numeric=True)"
   ]
  },
  {
   "cell_type": "code",
   "execution_count": 8,
   "metadata": {
    "colab": {
     "base_uri": "https://localhost:8080/",
     "height": 1000
    },
    "id": "3MaOIZ-zEatv",
    "outputId": "99f05900-64ca-4dbc-a824-21e95bb81415"
   },
   "outputs": [
    {
     "data": {
      "image/png": "[encoded data removed]",
      "text/plain": [
       "<Figure size 1600x1800 with 12 Axes>"
      ]
     },
     "metadata": {},
     "output_type": "display_data"
    }
   ],
   "source": [
    "df.hist(figsize=(16, 18), bins=50, xrot=30)\n",
    "plt.show()"
   ]
  },
  {
   "cell_type": "markdown",
   "metadata": {
    "id": "44WAVaJNEatv"
   },
   "source": [
    "**Присутствуют аномальные значения**"
   ]
  },
  {
   "cell_type": "code",
   "execution_count": 9,
   "metadata": {
    "colab": {
     "base_uri": "https://localhost:8080/",
     "height": 269
    },
    "id": "LOUzxwJSEatv",
    "outputId": "05018358-ffaf-4280-d786-44ba8bf2062e"
   },
   "outputs": [
    {
     "data": {
      "text/html": [
       "\n",
       "  <div id=\"df-18827134-b76b-408c-9972-ffde6dd17c83\" class=\"colab-df-container\">\n",
       "    <div>\n",
       "<style scoped>\n",
       "    .dataframe tbody tr th:only-of-type {\n",
       "        vertical-align: middle;\n",
       "    }\n",
       "\n",
       "    .dataframe tbody tr th {\n",
       "        vertical-align: top;\n",
       "    }\n",
       "\n",
       "    .dataframe thead th {\n",
       "        text-align: right;\n",
       "    }\n",
       "</style>\n",
       "<table border=\"1\" class=\"dataframe\">\n",
       "  <thead>\n",
       "    <tr style=\"text-align: right;\">\n",
       "      <th></th>\n",
       "      <th>Price</th>\n",
       "      <th>RegistrationYear</th>\n",
       "      <th>Power</th>\n",
       "      <th>Kilometer</th>\n",
       "      <th>RegistrationMonth</th>\n",
       "      <th>NumberOfPictures</th>\n",
       "      <th>PostalCode</th>\n",
       "    </tr>\n",
       "  </thead>\n",
       "  <tbody>\n",
       "    <tr>\n",
       "      <th>Price</th>\n",
       "      <td>1.000000</td>\n",
       "      <td>0.026916</td>\n",
       "      <td>0.158872</td>\n",
       "      <td>-0.333199</td>\n",
       "      <td>0.110581</td>\n",
       "      <td>NaN</td>\n",
       "      <td>0.076055</td>\n",
       "    </tr>\n",
       "    <tr>\n",
       "      <th>RegistrationYear</th>\n",
       "      <td>0.026916</td>\n",
       "      <td>1.000000</td>\n",
       "      <td>-0.000828</td>\n",
       "      <td>-0.053447</td>\n",
       "      <td>-0.011619</td>\n",
       "      <td>NaN</td>\n",
       "      <td>-0.003459</td>\n",
       "    </tr>\n",
       "    <tr>\n",
       "      <th>Power</th>\n",
       "      <td>0.158872</td>\n",
       "      <td>-0.000828</td>\n",
       "      <td>1.000000</td>\n",
       "      <td>0.024002</td>\n",
       "      <td>0.043380</td>\n",
       "      <td>NaN</td>\n",
       "      <td>0.021665</td>\n",
       "    </tr>\n",
       "    <tr>\n",
       "      <th>Kilometer</th>\n",
       "      <td>-0.333199</td>\n",
       "      <td>-0.053447</td>\n",
       "      <td>0.024002</td>\n",
       "      <td>1.000000</td>\n",
       "      <td>0.009571</td>\n",
       "      <td>NaN</td>\n",
       "      <td>-0.007698</td>\n",
       "    </tr>\n",
       "    <tr>\n",
       "      <th>RegistrationMonth</th>\n",
       "      <td>0.110581</td>\n",
       "      <td>-0.011619</td>\n",
       "      <td>0.043380</td>\n",
       "      <td>0.009571</td>\n",
       "      <td>1.000000</td>\n",
       "      <td>NaN</td>\n",
       "      <td>0.013995</td>\n",
       "    </tr>\n",
       "    <tr>\n",
       "      <th>NumberOfPictures</th>\n",
       "      <td>NaN</td>\n",
       "      <td>NaN</td>\n",
       "      <td>NaN</td>\n",
       "      <td>NaN</td>\n",
       "      <td>NaN</td>\n",
       "      <td>NaN</td>\n",
       "      <td>NaN</td>\n",
       "    </tr>\n",
       "    <tr>\n",
       "      <th>PostalCode</th>\n",
       "      <td>0.076055</td>\n",
       "      <td>-0.003459</td>\n",
       "      <td>0.021665</td>\n",
       "      <td>-0.007698</td>\n",
       "      <td>0.013995</td>\n",
       "      <td>NaN</td>\n",
       "      <td>1.000000</td>\n",
       "    </tr>\n",
       "  </tbody>\n",
       "</table>\n",
       "</div>\n",
       "    <div class=\"colab-df-buttons\">\n",
       "\n",
       "  <div class=\"colab-df-container\">\n",
       "    <button class=\"colab-df-convert\" onclick=\"convertToInteractive('df-18827134-b76b-408c-9972-ffde6dd17c83')\"\n",
       "            title=\"Convert this dataframe to an interactive table.\"\n",
       "            style=\"display:none;\">\n",
       "\n",
       "  <svg xmlns=\"http://www.w3.org/2000/svg\" height=\"24px\" viewBox=\"0 -960 960 960\">\n",
       "    <path d=\"M120-120v-720h720v720H120Zm60-500h600v-160H180v160Zm220 220h160v-160H400v160Zm0 220h160v-160H400v160ZM180-400h160v-160H180v160Zm440 0h160v-160H620v160ZM180-180h160v-160H180v160Zm440 0h160v-160H620v160Z\"/>\n",
       "  </svg>\n",
       "    </button>\n",
       "\n",
       "  <style>\n",
       "    .colab-df-container {\n",
       "      display:flex;\n",
       "      gap: 12px;\n",
       "    }\n",
       "\n",
       "    .colab-df-convert {\n",
       "      background-color: #E8F0FE;\n",
       "      border: none;\n",
       "      border-radius: 50%;\n",
       "      cursor: pointer;\n",
       "      display: none;\n",
       "      fill: #1967D2;\n",
       "      height: 32px;\n",
       "      padding: 0 0 0 0;\n",
       "      width: 32px;\n",
       "    }\n",
       "\n",
       "    .colab-df-convert:hover {\n",
       "      background-color: #E2EBFA;\n",
       "      box-shadow: 0px 1px 2px rgba(60, 64, 67, 0.3), 0px 1px 3px 1px rgba(60, 64, 67, 0.15);\n",
       "      fill: #174EA6;\n",
       "    }\n",
       "\n",
       "    .colab-df-buttons div {\n",
       "      margin-bottom: 4px;\n",
       "    }\n",
       "\n",
       "    [theme=dark] .colab-df-convert {\n",
       "      background-color: #3B4455;\n",
       "      fill: #D2E3FC;\n",
       "    }\n",
       "\n",
       "    [theme=dark] .colab-df-convert:hover {\n",
       "      background-color: #434B5C;\n",
       "      box-shadow: 0px 1px 3px 1px rgba(0, 0, 0, 0.15);\n",
       "      filter: drop-shadow(0px 1px 2px rgba(0, 0, 0, 0.3));\n",
       "      fill: #FFFFFF;\n",
       "    }\n",
       "  </style>\n",
       "\n",
       "    <script>\n",
       "      const buttonEl =\n",
       "        document.querySelector('#df-18827134-b76b-408c-9972-ffde6dd17c83 button.colab-df-convert');\n",
       "      buttonEl.style.display =\n",
       "        google.colab.kernel.accessAllowed ? 'block' : 'none';\n",
       "\n",
       "      async function convertToInteractive(key) {\n",
       "        const element = document.querySelector('#df-18827134-b76b-408c-9972-ffde6dd17c83');\n",
       "        const dataTable =\n",
       "          await google.colab.kernel.invokeFunction('convertToInteractive',\n",
       "                                                    [key], {});\n",
       "        if (!dataTable) return;\n",
       "\n",
       "        const docLinkHtml = 'Like what you see? Visit the ' +\n",
       "          '<a target=\"_blank\" href=https://colab.research.google.com/notebooks/data_table.ipynb>data table notebook</a>'\n",
       "          + ' to learn more about interactive tables.';\n",
       "        element.innerHTML = '';\n",
       "        dataTable['output_type'] = 'display_data';\n",
       "        await google.colab.output.renderOutput(dataTable, element);\n",
       "        const docLink = document.createElement('div');\n",
       "        docLink.innerHTML = docLinkHtml;\n",
       "        element.appendChild(docLink);\n",
       "      }\n",
       "    </script>\n",
       "  </div>\n",
       "\n",
       "\n",
       "<div id=\"df-8b12845a-fc30-40e8-ba58-0379d0b9d7c4\">\n",
       "  <button class=\"colab-df-quickchart\" onclick=\"quickchart('df-8b12845a-fc30-40e8-ba58-0379d0b9d7c4')\"\n",
       "            title=\"Suggest charts\"\n",
       "            style=\"display:none;\">\n",
       "\n",
       "<svg xmlns=\"http://www.w3.org/2000/svg\" height=\"24px\"viewBox=\"0 0 24 24\"\n",
       "     width=\"24px\">\n",
       "    <g>\n",
       "        <path d=\"M19 3H5c-1.1 0-2 .9-2 2v14c0 1.1.9 2 2 2h14c1.1 0 2-.9 2-2V5c0-1.1-.9-2-2-2zM9 17H7v-7h2v7zm4 0h-2V7h2v10zm4 0h-2v-4h2v4z\"/>\n",
       "    </g>\n",
       "</svg>\n",
       "  </button>\n",
       "\n",
       "<style>\n",
       "  .colab-df-quickchart {\n",
       "      --bg-color: #E8F0FE;\n",
       "      --fill-color: #1967D2;\n",
       "      --hover-bg-color: #E2EBFA;\n",
       "      --hover-fill-color: #174EA6;\n",
       "      --disabled-fill-color: #AAA;\n",
       "      --disabled-bg-color: #DDD;\n",
       "  }\n",
       "\n",
       "  [theme=dark] .colab-df-quickchart {\n",
       "      --bg-color: #3B4455;\n",
       "      --fill-color: #D2E3FC;\n",
       "      --hover-bg-color: #434B5C;\n",
       "      --hover-fill-color: #FFFFFF;\n",
       "      --disabled-bg-color: #3B4455;\n",
       "      --disabled-fill-color: #666;\n",
       "  }\n",
       "\n",
       "  .colab-df-quickchart {\n",
       "    background-color: var(--bg-color);\n",
       "    border: none;\n",
       "    border-radius: 50%;\n",
       "    cursor: pointer;\n",
       "    display: none;\n",
       "    fill: var(--fill-color);\n",
       "    height: 32px;\n",
       "    padding: 0;\n",
       "    width: 32px;\n",
       "  }\n",
       "\n",
       "  .colab-df-quickchart:hover {\n",
       "    background-color: var(--hover-bg-color);\n",
       "    box-shadow: 0 1px 2px rgba(60, 64, 67, 0.3), 0 1px 3px 1px rgba(60, 64, 67, 0.15);\n",
       "    fill: var(--button-hover-fill-color);\n",
       "  }\n",
       "\n",
       "  .colab-df-quickchart-complete:disabled,\n",
       "  .colab-df-quickchart-complete:disabled:hover {\n",
       "    background-color: var(--disabled-bg-color);\n",
       "    fill: var(--disabled-fill-color);\n",
       "    box-shadow: none;\n",
       "  }\n",
       "\n",
       "  .colab-df-spinner {\n",
       "    border: 2px solid var(--fill-color);\n",
       "    border-color: transparent;\n",
       "    border-bottom-color: var(--fill-color);\n",
       "    animation:\n",
       "      spin 1s steps(1) infinite;\n",
       "  }\n",
       "\n",
       "  @keyframes spin {\n",
       "    0% {\n",
       "      border-color: transparent;\n",
       "      border-bottom-color: var(--fill-color);\n",
       "      border-left-color: var(--fill-color);\n",
       "    }\n",
       "    20% {\n",
       "      border-color: transparent;\n",
       "      border-left-color: var(--fill-color);\n",
       "      border-top-color: var(--fill-color);\n",
       "    }\n",
       "    30% {\n",
       "      border-color: transparent;\n",
       "      border-left-color: var(--fill-color);\n",
       "      border-top-color: var(--fill-color);\n",
       "      border-right-color: var(--fill-color);\n",
       "    }\n",
       "    40% {\n",
       "      border-color: transparent;\n",
       "      border-right-color: var(--fill-color);\n",
       "      border-top-color: var(--fill-color);\n",
       "    }\n",
       "    60% {\n",
       "      border-color: transparent;\n",
       "      border-right-color: var(--fill-color);\n",
       "    }\n",
       "    80% {\n",
       "      border-color: transparent;\n",
       "      border-right-color: var(--fill-color);\n",
       "      border-bottom-color: var(--fill-color);\n",
       "    }\n",
       "    90% {\n",
       "      border-color: transparent;\n",
       "      border-bottom-color: var(--fill-color);\n",
       "    }\n",
       "  }\n",
       "</style>\n",
       "\n",
       "  <script>\n",
       "    async function quickchart(key) {\n",
       "      const quickchartButtonEl =\n",
       "        document.querySelector('#' + key + ' button');\n",
       "      quickchartButtonEl.disabled = true;  // To prevent multiple clicks.\n",
       "      quickchartButtonEl.classList.add('colab-df-spinner');\n",
       "      try {\n",
       "        const charts = await google.colab.kernel.invokeFunction(\n",
       "            'suggestCharts', [key], {});\n",
       "      } catch (error) {\n",
       "        console.error('Error during call to suggestCharts:', error);\n",
       "      }\n",
       "      quickchartButtonEl.classList.remove('colab-df-spinner');\n",
       "      quickchartButtonEl.classList.add('colab-df-quickchart-complete');\n",
       "    }\n",
       "    (() => {\n",
       "      let quickchartButtonEl =\n",
       "        document.querySelector('#df-8b12845a-fc30-40e8-ba58-0379d0b9d7c4 button');\n",
       "      quickchartButtonEl.style.display =\n",
       "        google.colab.kernel.accessAllowed ? 'block' : 'none';\n",
       "    })();\n",
       "  </script>\n",
       "</div>\n",
       "    </div>\n",
       "  </div>\n"
      ],
      "text/plain": [
       "                      Price  RegistrationYear     Power  Kilometer  \\\n",
       "Price              1.000000          0.026916  0.158872  -0.333199   \n",
       "RegistrationYear   0.026916          1.000000 -0.000828  -0.053447   \n",
       "Power              0.158872         -0.000828  1.000000   0.024002   \n",
       "Kilometer         -0.333199         -0.053447  0.024002   1.000000   \n",
       "RegistrationMonth  0.110581         -0.011619  0.043380   0.009571   \n",
       "NumberOfPictures        NaN               NaN       NaN        NaN   \n",
       "PostalCode         0.076055         -0.003459  0.021665  -0.007698   \n",
       "\n",
       "                   RegistrationMonth  NumberOfPictures  PostalCode  \n",
       "Price                       0.110581               NaN    0.076055  \n",
       "RegistrationYear           -0.011619               NaN   -0.003459  \n",
       "Power                       0.043380               NaN    0.021665  \n",
       "Kilometer                   0.009571               NaN   -0.007698  \n",
       "RegistrationMonth           1.000000               NaN    0.013995  \n",
       "NumberOfPictures                 NaN               NaN         NaN  \n",
       "PostalCode                  0.013995               NaN    1.000000  "
      ]
     },
     "execution_count": 9,
     "metadata": {},
     "output_type": "execute_result"
    }
   ],
   "source": [
    "df.corr()"
   ]
  },
  {
   "cell_type": "code",
   "execution_count": 10,
   "metadata": {
    "colab": {
     "base_uri": "https://localhost:8080/",
     "height": 1000
    },
    "id": "FBwkp3XmEatv",
    "outputId": "457be8e7-1f61-4a6a-a796-5861e6ab5c6e"
   },
   "outputs": [
    {
     "data": {
      "image/png": "[encoded data removed]",
      "text/plain": [
       "<Figure size 1900x1500 with 2 Axes>"
      ]
     },
     "metadata": {},
     "output_type": "display_data"
    }
   ],
   "source": [
    "f = plt.figure(figsize=(19, 15))\n",
    "corr_matrix = df.corr()\n",
    "\n",
    "plt.matshow(df.corr(), fignum=0)\n",
    "plt.colorbar(ax=f.axes)\n",
    "plt.xticks(range(corr_matrix.shape[0]), corr_matrix.columns, fontsize=14, rotation=45)\n",
    "plt.yticks(range(corr_matrix.shape[0]), corr_matrix.columns, fontsize=14)\n",
    "plt.title('Correlation Matrix', fontsize=20)\n",
    "\n",
    "plt.show()"
   ]
  },
  {
   "cell_type": "markdown",
   "metadata": {
    "id": "hM1D0ihoEatv"
   },
   "source": [
    "**Признаки связаны слабо**"
   ]
  },
  {
   "cell_type": "markdown",
   "metadata": {
    "id": "1JZXG07-Eatv"
   },
   "source": [
    "**Переименуем столбцы в соответствии с PEP-8**"
   ]
  },
  {
   "cell_type": "code",
   "execution_count": 11,
   "metadata": {
    "id": "hT8M9JEeEatv"
   },
   "outputs": [],
   "source": [
    "df.columns = df.columns.str.replace('\\B([A-Z])', r'_\\1', regex=True).str.lower()"
   ]
  },
  {
   "cell_type": "markdown",
   "metadata": {
    "id": "5h1CpolpEatv"
   },
   "source": [
    "**Доля пропусков в столбцах**"
   ]
  },
  {
   "cell_type": "code",
   "execution_count": 12,
   "metadata": {
    "colab": {
     "base_uri": "https://localhost:8080/"
    },
    "id": "x-tZ0ZMZEatv",
    "outputId": "ad13f516-f445-4f15-998b-c1832b6a15ff"
   },
   "outputs": [
    {
     "data": {
      "text/plain": [
       "repaired              0.200791\n",
       "vehicle_type          0.105794\n",
       "fuel_type             0.092827\n",
       "gearbox               0.055967\n",
       "model                 0.055606\n",
       "date_crawled          0.000000\n",
       "price                 0.000000\n",
       "registration_year     0.000000\n",
       "power                 0.000000\n",
       "kilometer             0.000000\n",
       "registration_month    0.000000\n",
       "brand                 0.000000\n",
       "date_created          0.000000\n",
       "number_of_pictures    0.000000\n",
       "postal_code           0.000000\n",
       "last_seen             0.000000\n",
       "dtype: float64"
      ]
     },
     "execution_count": 12,
     "metadata": {},
     "output_type": "execute_result"
    }
   ],
   "source": [
    "df.isna().mean().sort_values(ascending=False)"
   ]
  },
  {
   "cell_type": "markdown",
   "metadata": {
    "id": "q_iltSx-Eatw"
   },
   "source": [
    "**Обработаем их после устранения аномалий**"
   ]
  },
  {
   "cell_type": "markdown",
   "metadata": {
    "id": "506FLq_ZEatw"
   },
   "source": [
    "**Количество явных дубликатов**"
   ]
  },
  {
   "cell_type": "code",
   "execution_count": 13,
   "metadata": {
    "colab": {
     "base_uri": "https://localhost:8080/"
    },
    "id": "NKtEeM5xEatw",
    "outputId": "46f7db95-068a-4a5a-ee97-f989e62b0bb6"
   },
   "outputs": [
    {
     "data": {
      "text/plain": [
       "4"
      ]
     },
     "execution_count": 13,
     "metadata": {},
     "output_type": "execute_result"
    }
   ],
   "source": [
    "df.duplicated().sum()"
   ]
  },
  {
   "cell_type": "markdown",
   "metadata": {
    "id": "_AruDSdQEatw"
   },
   "source": [
    "### Дубликаты"
   ]
  },
  {
   "cell_type": "markdown",
   "metadata": {
    "id": "UdNlBICXEatw"
   },
   "source": [
    "**Удалим явные дубликаты**"
   ]
  },
  {
   "cell_type": "code",
   "execution_count": 14,
   "metadata": {
    "id": "dCCL8tQLEatw"
   },
   "outputs": [],
   "source": [
    "df = df.drop_duplicates()"
   ]
  },
  {
   "cell_type": "markdown",
   "metadata": {
    "id": "lbZZY2NuEatw"
   },
   "source": [
    "**Проверим на неявные дубликаты**"
   ]
  },
  {
   "cell_type": "code",
   "execution_count": 15,
   "metadata": {
    "colab": {
     "base_uri": "https://localhost:8080/"
    },
    "id": "ZvGjYGp-Eatw",
    "outputId": "50c63a2d-9588-44a7-cc4d-01cfdba47b78"
   },
   "outputs": [
    {
     "name": "stdout",
     "output_type": "stream",
     "text": [
      "['bus' 'convertible' 'coupe' 'other' 'sedan' 'small' 'suv' 'unknown'\n",
      " 'wagon']\n",
      "====================================================================================================\n",
      "['auto' 'manual' 'unknown']\n",
      "====================================================================================================\n",
      "['100' '145' '147' '156' '159' '1_reihe' '1er' '200' '2_reihe' '300c'\n",
      " '3_reihe' '3er' '4_reihe' '500' '5_reihe' '5er' '601' '6_reihe' '6er'\n",
      " '7er' '80' '850' '90' '900' '9000' '911' 'a1' 'a2' 'a3' 'a4' 'a5' 'a6'\n",
      " 'a8' 'a_klasse' 'accord' 'agila' 'alhambra' 'almera' 'altea' 'amarok'\n",
      " 'antara' 'arosa' 'astra' 'auris' 'avensis' 'aveo' 'aygo' 'b_klasse'\n",
      " 'b_max' 'beetle' 'berlingo' 'bora' 'boxster' 'bravo' 'c1' 'c2' 'c3' 'c4'\n",
      " 'c5' 'c_klasse' 'c_max' 'c_reihe' 'caddy' 'calibra' 'captiva' 'carisma'\n",
      " 'carnival' 'cayenne' 'cc' 'ceed' 'charade' 'cherokee' 'citigo' 'civic'\n",
      " 'cl' 'clio' 'clk' 'clubman' 'colt' 'combo' 'cooper' 'cordoba' 'corolla'\n",
      " 'corsa' 'cr_reihe' 'croma' 'crossfire' 'cuore' 'cx_reihe' 'defender'\n",
      " 'delta' 'discovery' 'doblo' 'ducato' 'duster' 'e_klasse' 'elefantino'\n",
      " 'eos' 'escort' 'espace' 'exeo' 'fabia' 'fiesta' 'focus' 'forester'\n",
      " 'forfour' 'fortwo' 'fox' 'freelander' 'fusion' 'g_klasse' 'galant'\n",
      " 'galaxy' 'getz' 'gl' 'glk' 'golf' 'grand' 'i3' 'i_reihe' 'ibiza'\n",
      " 'impreza' 'insignia' 'jazz' 'jetta' 'jimny' 'juke' 'justy' 'ka' 'kadett'\n",
      " 'kaefer' 'kalina' 'kalos' 'kangoo' 'kappa' 'kuga' 'laguna' 'lancer'\n",
      " 'lanos' 'legacy' 'leon' 'lodgy' 'logan' 'lupo' 'lybra' 'm_klasse'\n",
      " 'm_reihe' 'materia' 'matiz' 'megane' 'meriva' 'micra' 'mii' 'modus'\n",
      " 'mondeo' 'move' 'musa' 'mustang' 'mx_reihe' 'navara' 'niva' 'note'\n",
      " 'nubira' 'octavia' 'omega' 'one' 'other' 'outlander' 'pajero' 'panda'\n",
      " 'passat' 'phaeton' 'picanto' 'polo' 'primera' 'ptcruiser' 'punto' 'q3'\n",
      " 'q5' 'q7' 'qashqai' 'r19' 'range_rover' 'range_rover_evoque'\n",
      " 'range_rover_sport' 'rangerover' 'rav' 'rio' 'roadster' 'roomster'\n",
      " 'rx_reihe' 's60' 's_klasse' 's_max' 's_type' 'samara' 'sandero' 'santa'\n",
      " 'scenic' 'scirocco' 'seicento' 'serie_1' 'serie_2' 'serie_3' 'sharan'\n",
      " 'signum' 'sirion' 'sl' 'slk' 'sorento' 'spark' 'spider' 'sportage'\n",
      " 'sprinter' 'stilo' 'superb' 'swift' 'terios' 'tigra' 'tiguan' 'toledo'\n",
      " 'touareg' 'touran' 'transit' 'transporter' 'tt' 'tucson' 'twingo'\n",
      " 'unknown' 'up' 'v40' 'v50' 'v60' 'v70' 'v_klasse' 'vectra' 'verso'\n",
      " 'viano' 'vito' 'vivaro' 'voyager' 'wrangler' 'x_reihe' 'x_trail' 'x_type'\n",
      " 'xc_reihe' 'yaris' 'yeti' 'ypsilon' 'z_reihe' 'zafira']\n",
      "====================================================================================================\n",
      "['cng' 'electric' 'gasoline' 'hybrid' 'lpg' 'other' 'petrol' 'unknown']\n",
      "====================================================================================================\n",
      "['alfa_romeo' 'audi' 'bmw' 'chevrolet' 'chrysler' 'citroen' 'dacia'\n",
      " 'daewoo' 'daihatsu' 'fiat' 'ford' 'honda' 'hyundai' 'jaguar' 'jeep' 'kia'\n",
      " 'lada' 'lancia' 'land_rover' 'mazda' 'mercedes_benz' 'mini' 'mitsubishi'\n",
      " 'nissan' 'opel' 'peugeot' 'porsche' 'renault' 'rover' 'saab' 'seat'\n",
      " 'skoda' 'smart' 'sonstige_autos' 'subaru' 'suzuki' 'toyota' 'trabant'\n",
      " 'volkswagen' 'volvo']\n",
      "====================================================================================================\n",
      "['no' 'unknown' 'yes']\n",
      "====================================================================================================\n"
     ]
    }
   ],
   "source": [
    "for col in df.select_dtypes([object]).columns:\n",
    "    print(np.sort(df[col].fillna('unknown').unique()))\n",
    "    print('=' * 100)"
   ]
  },
  {
   "cell_type": "markdown",
   "metadata": {
    "id": "zW1_nVgmEatw"
   },
   "source": [
    "**Gasoline и petrol - это разные названия одного и того же типа топлива. Оставим только petrol.**"
   ]
  },
  {
   "cell_type": "code",
   "execution_count": 16,
   "metadata": {
    "id": "Ajx1OWoSEatw"
   },
   "outputs": [],
   "source": [
    "df.replace('gasoline', 'petrol', inplace=True)"
   ]
  },
  {
   "cell_type": "markdown",
   "metadata": {
    "id": "YXbJX1NPEatw"
   },
   "source": [
    "### Обработка аномалий"
   ]
  },
  {
   "cell_type": "code",
   "execution_count": 17,
   "metadata": {
    "id": "S6A93jgpEatw"
   },
   "outputs": [],
   "source": [
    "def first_look(df: pd.core.frame.DataFrame, col_name: str) -> None:\n",
    "    display(df[col_name].describe(datetime_is_numeric=True))\n",
    "    print('=' * 110)\n",
    "    df.boxplot(column=[col_name], figsize=(14, 10))\n",
    "    plt.show()"
   ]
  },
  {
   "cell_type": "markdown",
   "metadata": {
    "id": "sfm1wRQCEatx"
   },
   "source": [
    "#### registration_year"
   ]
  },
  {
   "cell_type": "code",
   "execution_count": 18,
   "metadata": {
    "colab": {
     "base_uri": "https://localhost:8080/",
     "height": 1000
    },
    "id": "GZ2XgL7qEatx",
    "outputId": "ba21d350-1c21-40b3-f548-d98472807f8f"
   },
   "outputs": [
    {
     "data": {
      "text/plain": [
       "count    354365.000000\n",
       "mean       2004.234481\n",
       "std          90.228466\n",
       "min        1000.000000\n",
       "25%        1999.000000\n",
       "50%        2003.000000\n",
       "75%        2008.000000\n",
       "max        9999.000000\n",
       "Name: registration_year, dtype: float64"
      ]
     },
     "metadata": {},
     "output_type": "display_data"
    },
    {
     "name": "stdout",
     "output_type": "stream",
     "text": [
      "==============================================================================================================\n"
     ]
    },
    {
     "data": {
      "image/png": "[encoded data removed]",
      "text/plain": [
       "<Figure size 1400x1000 with 1 Axes>"
      ]
     },
     "metadata": {},
     "output_type": "display_data"
    }
   ],
   "source": [
    "first_look(df, 'registration_year')"
   ]
  },
  {
   "cell_type": "markdown",
   "metadata": {
    "id": "JNzNz9txEat2"
   },
   "source": [
    "**Данные собраны в 2016 году, поэтому от объектов с `registration_year > 2016` придется избавиться.**"
   ]
  },
  {
   "cell_type": "code",
   "execution_count": 19,
   "metadata": {
    "id": "RUCGRiwkEat2"
   },
   "outputs": [],
   "source": [
    "data = df.query('registration_year <= 2016')"
   ]
  },
  {
   "cell_type": "markdown",
   "metadata": {
    "id": "YhWwXpS8Eat2"
   },
   "source": [
    "**Разумной нижней границей можно выбрать 1950 год, таких объектов всего 246, и все это скорее всего выбросы.**"
   ]
  },
  {
   "cell_type": "code",
   "execution_count": 20,
   "metadata": {
    "colab": {
     "base_uri": "https://localhost:8080/"
    },
    "id": "2oD4Ji9wEat2",
    "outputId": "47d7ed2d-9665-46b7-b53a-6152f28063ab"
   },
   "outputs": [
    {
     "data": {
      "text/plain": [
       "246"
      ]
     },
     "execution_count": 20,
     "metadata": {},
     "output_type": "execute_result"
    }
   ],
   "source": [
    "data.query('registration_year < 1950').shape[0]"
   ]
  },
  {
   "cell_type": "code",
   "execution_count": 21,
   "metadata": {
    "id": "YRUNiVmgEat2"
   },
   "outputs": [],
   "source": [
    "data = data.query('registration_year >= 1950')"
   ]
  },
  {
   "cell_type": "markdown",
   "metadata": {
    "id": "8wfeY3xREat2"
   },
   "source": [
    "#### price"
   ]
  },
  {
   "cell_type": "code",
   "execution_count": 22,
   "metadata": {
    "colab": {
     "base_uri": "https://localhost:8080/",
     "height": 1000
    },
    "id": "spkABu7zEat2",
    "outputId": "3f6b1e02-1802-481f-ee8c-82dd196b7739"
   },
   "outputs": [
    {
     "data": {
      "text/plain": [
       "count    339589.000000\n",
       "mean       4471.590911\n",
       "std        4545.263723\n",
       "min           0.000000\n",
       "25%        1100.000000\n",
       "50%        2799.000000\n",
       "75%        6500.000000\n",
       "max       20000.000000\n",
       "Name: price, dtype: float64"
      ]
     },
     "metadata": {},
     "output_type": "display_data"
    },
    {
     "name": "stdout",
     "output_type": "stream",
     "text": [
      "==============================================================================================================\n"
     ]
    },
    {
     "data": {
      "image/png": "[encoded data removed]",
      "text/plain": [
       "<Figure size 1400x1000 with 1 Axes>"
      ]
     },
     "metadata": {},
     "output_type": "display_data"
    }
   ],
   "source": [
    "first_look(data, 'price')"
   ]
  },
  {
   "cell_type": "code",
   "execution_count": 23,
   "metadata": {
    "colab": {
     "base_uri": "https://localhost:8080/"
    },
    "id": "s43Mkmc8Eat3",
    "outputId": "c338963f-2f53-4f79-d01e-d7edddab1053"
   },
   "outputs": [
    {
     "data": {
      "text/plain": [
       "9954"
      ]
     },
     "execution_count": 23,
     "metadata": {},
     "output_type": "execute_result"
    }
   ],
   "source": [
    "data.query('price == 0').shape[0]"
   ]
  },
  {
   "cell_type": "code",
   "execution_count": 24,
   "metadata": {
    "colab": {
     "base_uri": "https://localhost:8080/"
    },
    "id": "dztOvP8OEat3",
    "outputId": "a18cfe54-d46f-4ac9-82ac-0e06eccedd63"
   },
   "outputs": [
    {
     "data": {
      "text/plain": [
       "2416"
      ]
     },
     "execution_count": 24,
     "metadata": {},
     "output_type": "execute_result"
    }
   ],
   "source": [
    "data.query('0 < price < 100').shape[0]"
   ]
  },
  {
   "cell_type": "code",
   "execution_count": 25,
   "metadata": {
    "colab": {
     "base_uri": "https://localhost:8080/"
    },
    "id": "EHnu2RjIEat3",
    "outputId": "2e010477-bf4c-4560-ab69-52f0540b15fd"
   },
   "outputs": [
    {
     "data": {
      "text/plain": [
       "0.03642638601368124"
      ]
     },
     "execution_count": 25,
     "metadata": {},
     "output_type": "execute_result"
    }
   ],
   "source": [
    "data.query('price < 100').shape[0] / data.shape[0]"
   ]
  },
  {
   "cell_type": "markdown",
   "metadata": {
    "id": "iaqJXkceEat3"
   },
   "source": [
    "**Удалим из данных объекты с `price == 0`, это точно выбросы. Также `price < 100` тоже кажется выбросами, таких данных мало, поэтому такие объекты тоже уберем.**"
   ]
  },
  {
   "cell_type": "code",
   "execution_count": 26,
   "metadata": {
    "id": "MB6uFR9IEat3"
   },
   "outputs": [],
   "source": [
    "data = data.query('price >= 100')"
   ]
  },
  {
   "cell_type": "markdown",
   "metadata": {
    "id": "urowcNmhEat3"
   },
   "source": [
    "#### power"
   ]
  },
  {
   "cell_type": "code",
   "execution_count": 27,
   "metadata": {
    "colab": {
     "base_uri": "https://localhost:8080/",
     "height": 1000
    },
    "id": "9d5qWTWQEat3",
    "outputId": "5dd668c5-1b9c-44e0-fb76-cec88401749d"
   },
   "outputs": [
    {
     "data": {
      "text/plain": [
       "count    327219.000000\n",
       "mean        112.360407\n",
       "std         185.293720\n",
       "min           0.000000\n",
       "25%          71.000000\n",
       "50%         105.000000\n",
       "75%         143.000000\n",
       "max       20000.000000\n",
       "Name: power, dtype: float64"
      ]
     },
     "metadata": {},
     "output_type": "display_data"
    },
    {
     "name": "stdout",
     "output_type": "stream",
     "text": [
      "==============================================================================================================\n"
     ]
    },
    {
     "data": {
      "image/png": "[encoded data removed]",
      "text/plain": [
       "<Figure size 1400x1000 with 1 Axes>"
      ]
     },
     "metadata": {},
     "output_type": "display_data"
    }
   ],
   "source": [
    "first_look(data, 'power')"
   ]
  },
  {
   "cell_type": "code",
   "execution_count": 28,
   "metadata": {
    "colab": {
     "base_uri": "https://localhost:8080/"
    },
    "id": "MYT8eND7Eat3",
    "outputId": "8d6f28ef-371d-46a3-93d3-6c88156db842"
   },
   "outputs": [
    {
     "data": {
      "text/plain": [
       "31555"
      ]
     },
     "execution_count": 28,
     "metadata": {},
     "output_type": "execute_result"
    }
   ],
   "source": [
    "data.query('power == 0').shape[0]"
   ]
  },
  {
   "cell_type": "markdown",
   "metadata": {
    "id": "z2lYC5pmEat4"
   },
   "source": [
    "**У 31,5 тысячи объектов `power == 0`, можно попробовать после заполнения пропусков заменить эти нули, сгруппировав по брендам, моделям и т.д. и взяв моду. Рациональными границами для устраненяи выбросов выберем 20 и 600 л.с., так как меньше 20 даже для старых и маленьких автомобилей слишком мало, а автомобили с более чем 600 л.с. на 2016 год относятся скорее к эксклюзивным или специальным для таких скорее всего стоит строить отдельную модель (числа больше 5000 л.с. точно нереальные).**"
   ]
  },
  {
   "cell_type": "code",
   "execution_count": 29,
   "metadata": {
    "id": "drOSy2nSEat4"
   },
   "outputs": [],
   "source": [
    "data = data.query('20 <= power <= 600 or power == 0')"
   ]
  },
  {
   "cell_type": "markdown",
   "metadata": {
    "id": "fk17FE2JEat4"
   },
   "source": [
    "#### kilometer"
   ]
  },
  {
   "cell_type": "code",
   "execution_count": 30,
   "metadata": {
    "colab": {
     "base_uri": "https://localhost:8080/",
     "height": 1000
    },
    "id": "J8KyrHDQEat4",
    "outputId": "a95e7c5c-7d35-4618-a0ba-37d0eaff2a64"
   },
   "outputs": [
    {
     "data": {
      "text/plain": [
       "count    326527.000000\n",
       "mean     128463.771755\n",
       "std       37123.069030\n",
       "min        5000.000000\n",
       "25%      125000.000000\n",
       "50%      150000.000000\n",
       "75%      150000.000000\n",
       "max      150000.000000\n",
       "Name: kilometer, dtype: float64"
      ]
     },
     "metadata": {},
     "output_type": "display_data"
    },
    {
     "name": "stdout",
     "output_type": "stream",
     "text": [
      "==============================================================================================================\n"
     ]
    },
    {
     "data": {
      "image/png": "[encoded data removed]",
      "text/plain": [
       "<Figure size 1400x1000 with 1 Axes>"
      ]
     },
     "metadata": {},
     "output_type": "display_data"
    }
   ],
   "source": [
    "first_look(data, 'kilometer')"
   ]
  },
  {
   "cell_type": "markdown",
   "metadata": {
    "id": "hZVkmWlVEat4"
   },
   "source": [
    "**Тут ничего необычного.**"
   ]
  },
  {
   "cell_type": "markdown",
   "metadata": {
    "id": "S7fCcKJFEat4"
   },
   "source": [
    "### Обработка пропусков"
   ]
  },
  {
   "cell_type": "code",
   "execution_count": 31,
   "metadata": {
    "colab": {
     "base_uri": "https://localhost:8080/"
    },
    "id": "A0BVui5NEat4",
    "outputId": "cd1852f4-169d-4070-f1a3-507a7f0d0a85"
   },
   "outputs": [
    {
     "data": {
      "text/plain": [
       "repaired              0.178132\n",
       "fuel_type             0.070374\n",
       "vehicle_type          0.057628\n",
       "model                 0.045623\n",
       "gearbox               0.044477\n",
       "date_crawled          0.000000\n",
       "price                 0.000000\n",
       "registration_year     0.000000\n",
       "power                 0.000000\n",
       "kilometer             0.000000\n",
       "registration_month    0.000000\n",
       "brand                 0.000000\n",
       "date_created          0.000000\n",
       "number_of_pictures    0.000000\n",
       "postal_code           0.000000\n",
       "last_seen             0.000000\n",
       "dtype: float64"
      ]
     },
     "execution_count": 31,
     "metadata": {},
     "output_type": "execute_result"
    }
   ],
   "source": [
    "data.isna().mean().sort_values(ascending=False)"
   ]
  },
  {
   "cell_type": "markdown",
   "metadata": {
    "id": "ANa6wwjMEat5"
   },
   "source": [
    "**1. repaired**"
   ]
  },
  {
   "cell_type": "code",
   "execution_count": 32,
   "metadata": {
    "colab": {
     "base_uri": "https://localhost:8080/"
    },
    "id": "9J_BD7nmEat5",
    "outputId": "93cc75f8-91fa-4119-adb0-ce60b2b8516e"
   },
   "outputs": [
    {
     "data": {
      "text/plain": [
       "no     236030\n",
       "yes     32332\n",
       "Name: repaired, dtype: int64"
      ]
     },
     "execution_count": 32,
     "metadata": {},
     "output_type": "execute_result"
    }
   ],
   "source": [
    "data['repaired'].value_counts()"
   ]
  },
  {
   "cell_type": "markdown",
   "metadata": {
    "id": "hkcIWk0MEat5"
   },
   "source": [
    "**Заполним пропуски значением `unknown`**"
   ]
  },
  {
   "cell_type": "code",
   "execution_count": 33,
   "metadata": {
    "id": "07hARgoHEat5"
   },
   "outputs": [],
   "source": [
    "data['repaired'] = data['repaired'].fillna('unknown')"
   ]
  },
  {
   "cell_type": "code",
   "execution_count": 34,
   "metadata": {
    "colab": {
     "base_uri": "https://localhost:8080/"
    },
    "id": "QgxbFIbcEat5",
    "outputId": "46d53a33-7a32-4ba4-b76e-02b92e4a22d4"
   },
   "outputs": [
    {
     "data": {
      "text/plain": [
       "0"
      ]
     },
     "execution_count": 34,
     "metadata": {},
     "output_type": "execute_result"
    }
   ],
   "source": [
    "data['repaired'].isna().sum()"
   ]
  },
  {
   "cell_type": "markdown",
   "metadata": {
    "id": "sLBzaBG4Eat5"
   },
   "source": [
    "**Для столбцов `fuel_type, vehicle_type, model, gearbox` удалим строки, в которых одновременно пропущено больше 1 значения, а оставшие пропуски заполним значением `unknown`**"
   ]
  },
  {
   "cell_type": "code",
   "execution_count": 35,
   "metadata": {
    "id": "bql_t1C7Eat5"
   },
   "outputs": [],
   "source": [
    "data = data.dropna(subset=['vehicle_type', 'fuel_type', 'model','gearbox'], thresh = 3)"
   ]
  },
  {
   "cell_type": "code",
   "execution_count": 36,
   "metadata": {
    "colab": {
     "base_uri": "https://localhost:8080/"
    },
    "id": "VWHQO_gFEat5",
    "outputId": "e888b51c-8850-4991-9ec9-113d11451140"
   },
   "outputs": [
    {
     "data": {
      "text/plain": [
       "fuel_type             0.033228\n",
       "model                 0.027692\n",
       "vehicle_type          0.023482\n",
       "gearbox               0.021725\n",
       "date_crawled          0.000000\n",
       "price                 0.000000\n",
       "registration_year     0.000000\n",
       "power                 0.000000\n",
       "kilometer             0.000000\n",
       "registration_month    0.000000\n",
       "brand                 0.000000\n",
       "repaired              0.000000\n",
       "date_created          0.000000\n",
       "number_of_pictures    0.000000\n",
       "postal_code           0.000000\n",
       "last_seen             0.000000\n",
       "dtype: float64"
      ]
     },
     "execution_count": 36,
     "metadata": {},
     "output_type": "execute_result"
    }
   ],
   "source": [
    "data.isna().mean().sort_values(ascending=False)"
   ]
  },
  {
   "cell_type": "code",
   "execution_count": 37,
   "metadata": {
    "id": "J6YipTzqEat5"
   },
   "outputs": [],
   "source": [
    "data = data.fillna('unknown')"
   ]
  },
  {
   "cell_type": "markdown",
   "metadata": {
    "id": "j17g-_34Eat5"
   },
   "source": [
    "**Теперь попробуем заменить нули на медианные значения для сгрупированных данных**"
   ]
  },
  {
   "cell_type": "code",
   "execution_count": 38,
   "metadata": {
    "id": "Xm5Qz5dtEat6"
   },
   "outputs": [],
   "source": [
    "#replace zeros with nan for further filling\n",
    "data['power'] = data['power'].replace(0, np.nan)"
   ]
  },
  {
   "cell_type": "code",
   "execution_count": 39,
   "metadata": {
    "colab": {
     "base_uri": "https://localhost:8080/"
    },
    "id": "W0DD_hzGEat6",
    "outputId": "bd4534a5-5e65-46d7-bf75-410e8c9bee7a"
   },
   "outputs": [
    {
     "data": {
      "text/plain": [
       "24010"
      ]
     },
     "execution_count": 39,
     "metadata": {},
     "output_type": "execute_result"
    }
   ],
   "source": [
    "data['power'].isna().sum()"
   ]
  },
  {
   "cell_type": "code",
   "execution_count": 40,
   "metadata": {
    "id": "s9j_Nn7yEat6"
   },
   "outputs": [],
   "source": [
    "data['power'] = data['power'].fillna(data\n",
    "                                     .groupby(['fuel_type',\n",
    "                                               'vehicle_type',\n",
    "                                               'model',\n",
    "                                               'gearbox',\n",
    "                                               'brand',\n",
    "                                               'registration_year',])['power']\n",
    "                                     .transform('median'))"
   ]
  },
  {
   "cell_type": "code",
   "execution_count": 41,
   "metadata": {
    "colab": {
     "base_uri": "https://localhost:8080/"
    },
    "id": "VZHCpdOmEat6",
    "outputId": "334070ed-8d31-48ad-8a49-400a236ecc03"
   },
   "outputs": [
    {
     "data": {
      "text/plain": [
       "3676"
      ]
     },
     "execution_count": 41,
     "metadata": {},
     "output_type": "execute_result"
    }
   ],
   "source": [
    "data['power'].isna().sum()"
   ]
  },
  {
   "cell_type": "markdown",
   "metadata": {
    "id": "IkFwjBvTEat6"
   },
   "source": [
    "**Оставшиеся пропуски удалим.**"
   ]
  },
  {
   "cell_type": "code",
   "execution_count": 42,
   "metadata": {
    "id": "1GrPJcTREat6"
   },
   "outputs": [],
   "source": [
    "data = data.dropna()"
   ]
  },
  {
   "cell_type": "code",
   "execution_count": 43,
   "metadata": {
    "colab": {
     "base_uri": "https://localhost:8080/"
    },
    "id": "P3npikcNEat6",
    "outputId": "14c1ce76-7c5b-4195-a693-8ff27ed1a38b",
    "scrolled": true
   },
   "outputs": [
    {
     "data": {
      "text/plain": [
       "date_crawled          0.0\n",
       "price                 0.0\n",
       "vehicle_type          0.0\n",
       "registration_year     0.0\n",
       "gearbox               0.0\n",
       "power                 0.0\n",
       "model                 0.0\n",
       "kilometer             0.0\n",
       "registration_month    0.0\n",
       "fuel_type             0.0\n",
       "brand                 0.0\n",
       "repaired              0.0\n",
       "date_created          0.0\n",
       "number_of_pictures    0.0\n",
       "postal_code           0.0\n",
       "last_seen             0.0\n",
       "dtype: float64"
      ]
     },
     "execution_count": 43,
     "metadata": {},
     "output_type": "execute_result"
    }
   ],
   "source": [
    "data.isna().mean().sort_values(ascending=False)"
   ]
  },
  {
   "cell_type": "markdown",
   "metadata": {
    "id": "_CxvZSVeEat7"
   },
   "source": [
    "### Удаление неинформативных признаков"
   ]
  },
  {
   "cell_type": "code",
   "execution_count": 44,
   "metadata": {
    "id": "8RyrI7mrEat7"
   },
   "outputs": [],
   "source": [
    "data = data.drop(['number_of_pictures',\n",
    "                  'postal_code',\n",
    "                  'date_created',\n",
    "                  'last_seen',\n",
    "                  'registration_month',\n",
    "                  'date_crawled'], axis=1)"
   ]
  },
  {
   "cell_type": "markdown",
   "metadata": {
    "id": "-ImNk_W2i1UI"
   },
   "source": [
    "**Поменяем тип данных в столбцах.**"
   ]
  },
  {
   "cell_type": "code",
   "execution_count": 45,
   "metadata": {
    "id": "Zro_vvZLEat7"
   },
   "outputs": [],
   "source": [
    "data.reset_index(drop=True, inplace=True)"
   ]
  },
  {
   "cell_type": "code",
   "execution_count": 46,
   "metadata": {
    "id": "Eau-J_YZEat7"
   },
   "outputs": [],
   "source": [
    "data['power'] = data['power'].astype('int64')"
   ]
  },
  {
   "cell_type": "code",
   "execution_count": 47,
   "metadata": {
    "id": "_8CXiOZ_PzAh"
   },
   "outputs": [],
   "source": [
    "cat_features = data.select_dtypes('object').columns\n",
    "data[cat_features] = data[cat_features].astype('category')"
   ]
  },
  {
   "cell_type": "code",
   "execution_count": 48,
   "metadata": {
    "colab": {
     "base_uri": "https://localhost:8080/"
    },
    "id": "_b-etgE9Eat7",
    "outputId": "e54ebf14-55a4-4179-f53a-8f11dd6af576",
    "scrolled": true
   },
   "outputs": [
    {
     "name": "stdout",
     "output_type": "stream",
     "text": [
      "<class 'pandas.core.frame.DataFrame'>\n",
      "RangeIndex: 307027 entries, 0 to 307026\n",
      "Data columns (total 10 columns):\n",
      " #   Column             Non-Null Count   Dtype   \n",
      "---  ------             --------------   -----   \n",
      " 0   price              307027 non-null  int64   \n",
      " 1   vehicle_type       307027 non-null  category\n",
      " 2   registration_year  307027 non-null  int64   \n",
      " 3   gearbox            307027 non-null  category\n",
      " 4   power              307027 non-null  int64   \n",
      " 5   model              307027 non-null  category\n",
      " 6   kilometer          307027 non-null  int64   \n",
      " 7   fuel_type          307027 non-null  category\n",
      " 8   brand              307027 non-null  category\n",
      " 9   repaired           307027 non-null  category\n",
      "dtypes: category(6), int64(4)\n",
      "memory usage: 11.4 MB\n"
     ]
    }
   ],
   "source": [
    "data.info()"
   ]
  },
  {
   "cell_type": "markdown",
   "metadata": {
    "id": "cqda3yqHEat7"
   },
   "source": [
    "### Вывод"
   ]
  },
  {
   "cell_type": "markdown",
   "metadata": {
    "id": "T05ps7rVEat8"
   },
   "source": [
    "- Привели наименования признаков к PEP-8.\n",
    "- Были удалены неинформативные признаки: `'number_of_pictures', 'postal_code', 'date_created', 'last_seen', 'registration_month', 'date_crawled'`.\n",
    "- Удалены 4 явных дубликата.\n",
    "- При обработке аномалий:\n",
    "    - Оставлены объекты с годом регистрации от 1950 до 2016.\n",
    "    - Оставлены объекты с ценой выше 100 евро.\n",
    "    - Оставлены объекты с мощностью от 20 до 600 л.с., после обработки пропусков значения с 0 л.с. были заменены на медианы по сгруппированным данным, которые заменить не удалось - удалены.\n",
    "- Пропуски были в `repaired, vehicle_type, fuel_type, gearbox, model`:\n",
    "    - `repaired` - заменены на значение 'unknown'\n",
    "    - Если у объекта было больше 1 пропуска в оставшихся признаках, то он удалялся. Оставшиеся пропуски заменены на значения 'unknown'\n",
    "\n",
    ">После подготовки осталось 86.6% данных (307027 из 354365)"
   ]
  },
  {
   "cell_type": "markdown",
   "metadata": {
    "id": "HydH5wdJEat8"
   },
   "source": [
    "## Обучение моделей"
   ]
  },
  {
   "cell_type": "markdown",
   "metadata": {
    "id": "VFQwL_9OEat8"
   },
   "source": [
    "**Отделим признаки от целевого признака**"
   ]
  },
  {
   "cell_type": "code",
   "execution_count": 49,
   "metadata": {
    "id": "gfTdgT_DEat8"
   },
   "outputs": [],
   "source": [
    "X = data.drop(['price'], axis=1)\n",
    "y = data['price']"
   ]
  },
  {
   "cell_type": "code",
   "execution_count": 50,
   "metadata": {
    "colab": {
     "base_uri": "https://localhost:8080/"
    },
    "id": "UmtezOZyEat8",
    "outputId": "1d05c579-9bfc-475a-e083-563eeafc081a"
   },
   "outputs": [
    {
     "data": {
      "text/plain": [
       "(307027, 307027)"
      ]
     },
     "execution_count": 50,
     "metadata": {},
     "output_type": "execute_result"
    }
   ],
   "source": [
    "X.shape[0], y.shape[0]"
   ]
  },
  {
   "cell_type": "markdown",
   "metadata": {
    "id": "5QLdR8eFEat8"
   },
   "source": [
    "**Разделим на обучающую и тестовую выборки**"
   ]
  },
  {
   "cell_type": "code",
   "execution_count": 51,
   "metadata": {
    "id": "uPyNCRL3Eat8"
   },
   "outputs": [],
   "source": [
    "X_train, X_test, y_train, y_test = train_test_split(X, y, test_size=0.2, random_state=RANDOM_STATE)"
   ]
  },
  {
   "cell_type": "code",
   "execution_count": 52,
   "metadata": {
    "colab": {
     "base_uri": "https://localhost:8080/"
    },
    "id": "I7TRyzMPEat8",
    "outputId": "d0c9c17b-4bda-40fe-eee8-375a7bc4cde9"
   },
   "outputs": [
    {
     "name": "stdout",
     "output_type": "stream",
     "text": [
      "245621 245621\n"
     ]
    },
    {
     "data": {
      "text/plain": [
       "(61406, 61406)"
      ]
     },
     "execution_count": 52,
     "metadata": {},
     "output_type": "execute_result"
    }
   ],
   "source": [
    "print(X_train.shape[0], y_train.shape[0])\n",
    "X_test.shape[0], y_test.shape[0]"
   ]
  },
  {
   "cell_type": "code",
   "execution_count": 53,
   "metadata": {
    "id": "YMAeOShqEat9"
   },
   "outputs": [],
   "source": [
    "# lists of num and cat feature names\n",
    "numerical_features = X.select_dtypes('number').columns\n",
    "categorical_features = X.select_dtypes('category').columns"
   ]
  },
  {
   "cell_type": "code",
   "execution_count": 54,
   "metadata": {
    "id": "WABAiJj_Eat9"
   },
   "outputs": [],
   "source": [
    "# create transformers\n",
    "numerical_transformer = StandardScaler()\n",
    "categorical_transformer = OneHotEncoder(drop='first', sparse_output=False, handle_unknown='ignore')"
   ]
  },
  {
   "cell_type": "markdown",
   "metadata": {
    "id": "F_2J0sLOEat9"
   },
   "source": [
    "### RidgeCV"
   ]
  },
  {
   "cell_type": "markdown",
   "metadata": {
    "id": "MZUVinNnEat9"
   },
   "source": [
    "**Для линейной модели будем использовать OneHotEncoder для категориальных признаков**"
   ]
  },
  {
   "cell_type": "code",
   "execution_count": 55,
   "metadata": {
    "id": "6-P9ipV9Eat9"
   },
   "outputs": [],
   "source": [
    "# combine scaler and ohe\n",
    "preprocessor = ColumnTransformer(\n",
    "    transformers=[\n",
    "        ('num', numerical_transformer, numerical_features),\n",
    "        ('cat', categorical_transformer, categorical_features),\n",
    "    ]\n",
    ")\n",
    "\n",
    "# combine preprocessing and ridge model\n",
    "ridge_pipeline = Pipeline(\n",
    "    steps=[\n",
    "        ('preprocessor', preprocessor),\n",
    "        ('model', RidgeCV(alphas=np.logspace(-1, 0, 8), scoring='neg_root_mean_squared_error')),\n",
    "    ]\n",
    ")"
   ]
  },
  {
   "cell_type": "code",
   "execution_count": 56,
   "metadata": {
    "colab": {
     "base_uri": "https://localhost:8080/",
     "height": 192
    },
    "id": "XulTSiVIEat9",
    "outputId": "f69929ac-8ac3-42b0-af7f-2c8becf8fe19"
   },
   "outputs": [
    {
     "data": {
      "text/html": [
       "<style>#sk-container-id-1 {color: black;background-color: white;}#sk-container-id-1 pre{padding: 0;}#sk-container-id-1 div.sk-toggleable {background-color: white;}#sk-container-id-1 label.sk-toggleable__label {cursor: pointer;display: block;width: 100%;margin-bottom: 0;padding: 0.3em;box-sizing: border-box;text-align: center;}#sk-container-id-1 label.sk-toggleable__label-arrow:before {content: \"▸\";float: left;margin-right: 0.25em;color: #696969;}#sk-container-id-1 label.sk-toggleable__label-arrow:hover:before {color: black;}#sk-container-id-1 div.sk-estimator:hover label.sk-toggleable__label-arrow:before {color: black;}#sk-container-id-1 div.sk-toggleable__content {max-height: 0;max-width: 0;overflow: hidden;text-align: left;background-color: #f0f8ff;}#sk-container-id-1 div.sk-toggleable__content pre {margin: 0.2em;color: black;border-radius: 0.25em;background-color: #f0f8ff;}#sk-container-id-1 input.sk-toggleable__control:checked~div.sk-toggleable__content {max-height: 200px;max-width: 100%;overflow: auto;}#sk-container-id-1 input.sk-toggleable__control:checked~label.sk-toggleable__label-arrow:before {content: \"▾\";}#sk-container-id-1 div.sk-estimator input.sk-toggleable__control:checked~label.sk-toggleable__label {background-color: #d4ebff;}#sk-container-id-1 div.sk-label input.sk-toggleable__control:checked~label.sk-toggleable__label {background-color: #d4ebff;}#sk-container-id-1 input.sk-hidden--visually {border: 0;clip: rect(1px 1px 1px 1px);clip: rect(1px, 1px, 1px, 1px);height: 1px;margin: -1px;overflow: hidden;padding: 0;position: absolute;width: 1px;}#sk-container-id-1 div.sk-estimator {font-family: monospace;background-color: #f0f8ff;border: 1px dotted black;border-radius: 0.25em;box-sizing: border-box;margin-bottom: 0.5em;}#sk-container-id-1 div.sk-estimator:hover {background-color: #d4ebff;}#sk-container-id-1 div.sk-parallel-item::after {content: \"\";width: 100%;border-bottom: 1px solid gray;flex-grow: 1;}#sk-container-id-1 div.sk-label:hover label.sk-toggleable__label {background-color: #d4ebff;}#sk-container-id-1 div.sk-serial::before {content: \"\";position: absolute;border-left: 1px solid gray;box-sizing: border-box;top: 0;bottom: 0;left: 50%;z-index: 0;}#sk-container-id-1 div.sk-serial {display: flex;flex-direction: column;align-items: center;background-color: white;padding-right: 0.2em;padding-left: 0.2em;position: relative;}#sk-container-id-1 div.sk-item {position: relative;z-index: 1;}#sk-container-id-1 div.sk-parallel {display: flex;align-items: stretch;justify-content: center;background-color: white;position: relative;}#sk-container-id-1 div.sk-item::before, #sk-container-id-1 div.sk-parallel-item::before {content: \"\";position: absolute;border-left: 1px solid gray;box-sizing: border-box;top: 0;bottom: 0;left: 50%;z-index: -1;}#sk-container-id-1 div.sk-parallel-item {display: flex;flex-direction: column;z-index: 1;position: relative;background-color: white;}#sk-container-id-1 div.sk-parallel-item:first-child::after {align-self: flex-end;width: 50%;}#sk-container-id-1 div.sk-parallel-item:last-child::after {align-self: flex-start;width: 50%;}#sk-container-id-1 div.sk-parallel-item:only-child::after {width: 0;}#sk-container-id-1 div.sk-dashed-wrapped {border: 1px dashed gray;margin: 0 0.4em 0.5em 0.4em;box-sizing: border-box;padding-bottom: 0.4em;background-color: white;}#sk-container-id-1 div.sk-label label {font-family: monospace;font-weight: bold;display: inline-block;line-height: 1.2em;}#sk-container-id-1 div.sk-label-container {text-align: center;}#sk-container-id-1 div.sk-container {/* jupyter's `normalize.less` sets `[hidden] { display: none; }` but bootstrap.min.css set `[hidden] { display: none !important; }` so we also need the `!important` here to be able to override the default hidden behavior on the sphinx rendered scikit-learn.org. See: https://github.com/scikit-learn/scikit-learn/issues/21755 */display: inline-block !important;position: relative;}#sk-container-id-1 div.sk-text-repr-fallback {display: none;}</style><div id=\"sk-container-id-1\" class=\"sk-top-container\"><div class=\"sk-text-repr-fallback\"><pre>Pipeline(steps=[(&#x27;preprocessor&#x27;,\n",
       "                 ColumnTransformer(transformers=[(&#x27;num&#x27;, StandardScaler(),\n",
       "                                                  Index([&#x27;registration_year&#x27;, &#x27;power&#x27;, &#x27;kilometer&#x27;], dtype=&#x27;object&#x27;)),\n",
       "                                                 (&#x27;cat&#x27;,\n",
       "                                                  OneHotEncoder(drop=&#x27;first&#x27;,\n",
       "                                                                handle_unknown=&#x27;ignore&#x27;,\n",
       "                                                                sparse_output=False),\n",
       "                                                  Index([&#x27;vehicle_type&#x27;, &#x27;gearbox&#x27;, &#x27;model&#x27;, &#x27;fuel_type&#x27;, &#x27;brand&#x27;, &#x27;repaired&#x27;], dtype=&#x27;object&#x27;))])),\n",
       "                (&#x27;model&#x27;,\n",
       "                 RidgeCV(alphas=array([0.1       , 0.13894955, 0.19306977, 0.26826958, 0.37275937,\n",
       "       0.51794747, 0.71968567, 1.        ]),\n",
       "                         scoring=&#x27;neg_root_mean_squared_error&#x27;))])</pre><b>In a Jupyter environment, please rerun this cell to show the HTML representation or trust the notebook. <br />On GitHub, the HTML representation is unable to render, please try loading this page with nbviewer.org.</b></div><div class=\"sk-container\" hidden><div class=\"sk-item sk-dashed-wrapped\"><div class=\"sk-label-container\"><div class=\"sk-label sk-toggleable\"><input class=\"sk-toggleable__control sk-hidden--visually\" id=\"sk-estimator-id-1\" type=\"checkbox\" ><label for=\"sk-estimator-id-1\" class=\"sk-toggleable__label sk-toggleable__label-arrow\">Pipeline</label><div class=\"sk-toggleable__content\"><pre>Pipeline(steps=[(&#x27;preprocessor&#x27;,\n",
       "                 ColumnTransformer(transformers=[(&#x27;num&#x27;, StandardScaler(),\n",
       "                                                  Index([&#x27;registration_year&#x27;, &#x27;power&#x27;, &#x27;kilometer&#x27;], dtype=&#x27;object&#x27;)),\n",
       "                                                 (&#x27;cat&#x27;,\n",
       "                                                  OneHotEncoder(drop=&#x27;first&#x27;,\n",
       "                                                                handle_unknown=&#x27;ignore&#x27;,\n",
       "                                                                sparse_output=False),\n",
       "                                                  Index([&#x27;vehicle_type&#x27;, &#x27;gearbox&#x27;, &#x27;model&#x27;, &#x27;fuel_type&#x27;, &#x27;brand&#x27;, &#x27;repaired&#x27;], dtype=&#x27;object&#x27;))])),\n",
       "                (&#x27;model&#x27;,\n",
       "                 RidgeCV(alphas=array([0.1       , 0.13894955, 0.19306977, 0.26826958, 0.37275937,\n",
       "       0.51794747, 0.71968567, 1.        ]),\n",
       "                         scoring=&#x27;neg_root_mean_squared_error&#x27;))])</pre></div></div></div><div class=\"sk-serial\"><div class=\"sk-item sk-dashed-wrapped\"><div class=\"sk-label-container\"><div class=\"sk-label sk-toggleable\"><input class=\"sk-toggleable__control sk-hidden--visually\" id=\"sk-estimator-id-2\" type=\"checkbox\" ><label for=\"sk-estimator-id-2\" class=\"sk-toggleable__label sk-toggleable__label-arrow\">preprocessor: ColumnTransformer</label><div class=\"sk-toggleable__content\"><pre>ColumnTransformer(transformers=[(&#x27;num&#x27;, StandardScaler(),\n",
       "                                 Index([&#x27;registration_year&#x27;, &#x27;power&#x27;, &#x27;kilometer&#x27;], dtype=&#x27;object&#x27;)),\n",
       "                                (&#x27;cat&#x27;,\n",
       "                                 OneHotEncoder(drop=&#x27;first&#x27;,\n",
       "                                               handle_unknown=&#x27;ignore&#x27;,\n",
       "                                               sparse_output=False),\n",
       "                                 Index([&#x27;vehicle_type&#x27;, &#x27;gearbox&#x27;, &#x27;model&#x27;, &#x27;fuel_type&#x27;, &#x27;brand&#x27;, &#x27;repaired&#x27;], dtype=&#x27;object&#x27;))])</pre></div></div></div><div class=\"sk-parallel\"><div class=\"sk-parallel-item\"><div class=\"sk-item\"><div class=\"sk-label-container\"><div class=\"sk-label sk-toggleable\"><input class=\"sk-toggleable__control sk-hidden--visually\" id=\"sk-estimator-id-3\" type=\"checkbox\" ><label for=\"sk-estimator-id-3\" class=\"sk-toggleable__label sk-toggleable__label-arrow\">num</label><div class=\"sk-toggleable__content\"><pre>Index([&#x27;registration_year&#x27;, &#x27;power&#x27;, &#x27;kilometer&#x27;], dtype=&#x27;object&#x27;)</pre></div></div></div><div class=\"sk-serial\"><div class=\"sk-item\"><div class=\"sk-estimator sk-toggleable\"><input class=\"sk-toggleable__control sk-hidden--visually\" id=\"sk-estimator-id-4\" type=\"checkbox\" ><label for=\"sk-estimator-id-4\" class=\"sk-toggleable__label sk-toggleable__label-arrow\">StandardScaler</label><div class=\"sk-toggleable__content\"><pre>StandardScaler()</pre></div></div></div></div></div></div><div class=\"sk-parallel-item\"><div class=\"sk-item\"><div class=\"sk-label-container\"><div class=\"sk-label sk-toggleable\"><input class=\"sk-toggleable__control sk-hidden--visually\" id=\"sk-estimator-id-5\" type=\"checkbox\" ><label for=\"sk-estimator-id-5\" class=\"sk-toggleable__label sk-toggleable__label-arrow\">cat</label><div class=\"sk-toggleable__content\"><pre>Index([&#x27;vehicle_type&#x27;, &#x27;gearbox&#x27;, &#x27;model&#x27;, &#x27;fuel_type&#x27;, &#x27;brand&#x27;, &#x27;repaired&#x27;], dtype=&#x27;object&#x27;)</pre></div></div></div><div class=\"sk-serial\"><div class=\"sk-item\"><div class=\"sk-estimator sk-toggleable\"><input class=\"sk-toggleable__control sk-hidden--visually\" id=\"sk-estimator-id-6\" type=\"checkbox\" ><label for=\"sk-estimator-id-6\" class=\"sk-toggleable__label sk-toggleable__label-arrow\">OneHotEncoder</label><div class=\"sk-toggleable__content\"><pre>OneHotEncoder(drop=&#x27;first&#x27;, handle_unknown=&#x27;ignore&#x27;, sparse_output=False)</pre></div></div></div></div></div></div></div></div><div class=\"sk-item\"><div class=\"sk-estimator sk-toggleable\"><input class=\"sk-toggleable__control sk-hidden--visually\" id=\"sk-estimator-id-7\" type=\"checkbox\" ><label for=\"sk-estimator-id-7\" class=\"sk-toggleable__label sk-toggleable__label-arrow\">RidgeCV</label><div class=\"sk-toggleable__content\"><pre>RidgeCV(alphas=array([0.1       , 0.13894955, 0.19306977, 0.26826958, 0.37275937,\n",
       "       0.51794747, 0.71968567, 1.        ]),\n",
       "        scoring=&#x27;neg_root_mean_squared_error&#x27;)</pre></div></div></div></div></div></div></div>"
      ],
      "text/plain": [
       "Pipeline(steps=[('preprocessor',\n",
       "                 ColumnTransformer(transformers=[('num', StandardScaler(),\n",
       "                                                  Index(['registration_year', 'power', 'kilometer'], dtype='object')),\n",
       "                                                 ('cat',\n",
       "                                                  OneHotEncoder(drop='first',\n",
       "                                                                handle_unknown='ignore',\n",
       "                                                                sparse_output=False),\n",
       "                                                  Index(['vehicle_type', 'gearbox', 'model', 'fuel_type', 'brand', 'repaired'], dtype='object'))])),\n",
       "                ('model',\n",
       "                 RidgeCV(alphas=array([0.1       , 0.13894955, 0.19306977, 0.26826958, 0.37275937,\n",
       "       0.51794747, 0.71968567, 1.        ]),\n",
       "                         scoring='neg_root_mean_squared_error'))])"
      ]
     },
     "execution_count": 56,
     "metadata": {},
     "output_type": "execute_result"
    }
   ],
   "source": [
    "ridge_pipeline.fit(X_train, y_train)"
   ]
  },
  {
   "cell_type": "code",
   "execution_count": 57,
   "metadata": {
    "colab": {
     "base_uri": "https://localhost:8080/"
    },
    "id": "6ihR1FCdEat9",
    "outputId": "7fc37b07-3ce4-49ee-fdbe-0708df44b5c1"
   },
   "outputs": [
    {
     "name": "stdout",
     "output_type": "stream",
     "text": [
      "Ridge rmse: 2572.959450899179\n",
      "Ridge alpha: 0.7196856730011519\n"
     ]
    }
   ],
   "source": [
    "print(f'Ridge rmse: {-ridge_pipeline[\"model\"].best_score_}\\n'\n",
    "      f'Ridge alpha: {ridge_pipeline[\"model\"].alpha_}'\n",
    ")"
   ]
  },
  {
   "cell_type": "markdown",
   "metadata": {
    "id": "kpePYQhEEat-"
   },
   "source": [
    "### LightGBM Regressor"
   ]
  },
  {
   "cell_type": "markdown",
   "metadata": {
    "id": "1Z0htdNVEat-"
   },
   "source": [
    "**Для модели LightGBM Regressor будем использовать только StandardScaler, подбор гиперпареметров будем проводить с помощью Байесовской оптимизации.**"
   ]
  },
  {
   "cell_type": "code",
   "execution_count": 58,
   "metadata": {
    "id": "1X8UPed2zp4E"
   },
   "outputs": [],
   "source": [
    "def search_param(optimizer, X, y, callbacks=None):\n",
    "    '''\n",
    "    A wrapper for measuring performances of different optmizers\n",
    "\n",
    "    optimizer = a sklearn or a skopt optimizer\n",
    "    X = the training set\n",
    "    y = our target\n",
    "    callbacks = passed to the optimizer\n",
    "    '''\n",
    "    start = time()\n",
    "\n",
    "    if callbacks is not None:\n",
    "        optimizer.fit(X, y, callback=callbacks)\n",
    "    else:\n",
    "        optimizer.fit(X, y)\n",
    "\n",
    "    best_score = optimizer.best_score_\n",
    "    best_params = optimizer.best_params_\n",
    "\n",
    "    print(f'Took: {(time() - start):.2f} seconds, candidates checked: {len(optimizer.cv_results_[\"params\"])}, best CV score: {-best_score}')\n",
    "    print('Best parameters:')\n",
    "    pprint.pprint(best_params)\n",
    "    print()\n",
    "    return best_params"
   ]
  },
  {
   "cell_type": "code",
   "execution_count": 59,
   "metadata": {
    "id": "lO7tcqxNM5Fb"
   },
   "outputs": [],
   "source": [
    "# setting a 5-fold stratified cross-validation\n",
    "skf = StratifiedKFold(n_splits=3, shuffle=True, random_state=RANDOM_STATE)\n",
    "# define a model\n",
    "lgb_model = lgb.LGBMRegressor(metric='rmse', n_jobs=1, verbose=-1, random_state=RANDOM_STATE)"
   ]
  },
  {
   "cell_type": "code",
   "execution_count": 60,
   "metadata": {
    "id": "lQxD2jfeNWof"
   },
   "outputs": [],
   "source": [
    "search_spaces = {\n",
    "    'learning_rate': Real(0.01, 0.5, 'log-uniform'),\n",
    "    'n_estimators': Integer(100, 5000),\n",
    "    'num_leaves': Integer(2, 128),\n",
    "    'max_depth': Integer(-1, 64),\n",
    "    'min_child_samples': Integer(1, 256),\n",
    "    'max_bin': Integer(256, 1024),\n",
    "    'subsample': Real(0.01, 1.0, 'uniform'),\n",
    "    'subsample_freq': Integer(0, 10),\n",
    "    'colsample_bytree': Real(0.01, 1.0, 'uniform'),\n",
    "    'min_child_weight': Real(0.01, 10.0, 'uniform'),\n",
    "    'reg_lambda': Real(1e-9, 100.0, 'log-uniform'),\n",
    "    'reg_alpha': Real(1e-9, 100.0, 'log-uniform'),\n",
    "        }"
   ]
  },
  {
   "cell_type": "code",
   "execution_count": 61,
   "metadata": {
    "id": "VbLl0fDsPMC5"
   },
   "outputs": [],
   "source": [
    "optimizer = BayesSearchCV(estimator=lgb_model,\n",
    "                          search_spaces=search_spaces,\n",
    "                          scoring='neg_root_mean_squared_error',\n",
    "                          cv=skf,\n",
    "                          n_iter=3000,\n",
    "                          n_points=6,\n",
    "                          n_jobs=-1,\n",
    "                          iid=False,\n",
    "                          return_train_score=False,\n",
    "                          refit=False,\n",
    "                          optimizer_kwargs={'base_estimator': 'GP'},\n",
    "                          random_state=RANDOM_STATE)"
   ]
  },
  {
   "cell_type": "code",
   "execution_count": 62,
   "metadata": {
    "id": "aASBqVEoQsWL"
   },
   "outputs": [],
   "source": [
    "# we stop if the gain of the optimization becomes too small\n",
    "overdone_control = DeltaYStopper(delta=0.0001)\n",
    "# we impose a time limit = 45 min\n",
    "time_limit_control = DeadlineStopper(total_time=60 * 45)"
   ]
  },
  {
   "cell_type": "code",
   "execution_count": 63,
   "metadata": {
    "colab": {
     "base_uri": "https://localhost:8080/"
    },
    "id": "voIeKQjkRF-O",
    "outputId": "0a3d9596-1d41-417a-d42d-615cd3cea5a9"
   },
   "outputs": [
    {
     "name": "stdout",
     "output_type": "stream",
     "text": [
      "Took: 2450.26 seconds, candidates checked: 30, best CV score: 1518.1877301331706\n",
      "Best parameters:\n",
      "OrderedDict([('colsample_bytree', 0.5814586382221002),\n",
      "             ('learning_rate', 0.03461681619260987),\n",
      "             ('max_bin', 1015),\n",
      "             ('max_depth', 15),\n",
      "             ('min_child_samples', 70),\n",
      "             ('min_child_weight', 7.5059277954815125),\n",
      "             ('n_estimators', 3914),\n",
      "             ('num_leaves', 53),\n",
      "             ('reg_alpha', 5.554630759003483e-09),\n",
      "             ('reg_lambda', 0.032499310199422746),\n",
      "             ('subsample', 0.360385402207322),\n",
      "             ('subsample_freq', 2)])\n",
      "\n"
     ]
    }
   ],
   "source": [
    "# standardize features\n",
    "X_train_lgb = X_train.copy()\n",
    "scaler_lgb = StandardScaler()\n",
    "X_train_lgb[numerical_features] = scaler_lgb.fit_transform(X_train_lgb[numerical_features])\n",
    "\n",
    "best_params = search_param(optimizer, X_train_lgb, y_train,\n",
    "                           callbacks=[overdone_control, time_limit_control])"
   ]
  },
  {
   "cell_type": "markdown",
   "metadata": {
    "id": "SNwh9-RGEat-"
   },
   "source": [
    "### Вывод"
   ]
  },
  {
   "cell_type": "markdown",
   "metadata": {
    "id": "vGh_5p5jEat-"
   },
   "source": [
    "Лучший RMSE = 1518.19 на валидации показала модель LGBM Regressor."
   ]
  },
  {
   "cell_type": "markdown",
   "metadata": {
    "id": "CEtuoLjnEat-"
   },
   "source": [
    "## Анализ моделей"
   ]
  },
  {
   "cell_type": "markdown",
   "metadata": {
    "id": "lCUmGsszEat-"
   },
   "source": [
    "**Проверим время обучения и время предсказания моделей**"
   ]
  },
  {
   "cell_type": "code",
   "execution_count": 64,
   "metadata": {
    "colab": {
     "base_uri": "https://localhost:8080/",
     "height": 109
    },
    "id": "gmBwvXzGEat-",
    "outputId": "78c7dff2-d2c8-46e0-b4d1-24f44ce6390a"
   },
   "outputs": [
    {
     "name": "stdout",
     "output_type": "stream",
     "text": [
      "CPU times: user 3.46 s, sys: 1.68 s, total: 5.13 s\n",
      "Wall time: 2.28 s\n"
     ]
    },
    {
     "data": {
      "text/html": [
       "<style>#sk-container-id-2 {color: black;background-color: white;}#sk-container-id-2 pre{padding: 0;}#sk-container-id-2 div.sk-toggleable {background-color: white;}#sk-container-id-2 label.sk-toggleable__label {cursor: pointer;display: block;width: 100%;margin-bottom: 0;padding: 0.3em;box-sizing: border-box;text-align: center;}#sk-container-id-2 label.sk-toggleable__label-arrow:before {content: \"▸\";float: left;margin-right: 0.25em;color: #696969;}#sk-container-id-2 label.sk-toggleable__label-arrow:hover:before {color: black;}#sk-container-id-2 div.sk-estimator:hover label.sk-toggleable__label-arrow:before {color: black;}#sk-container-id-2 div.sk-toggleable__content {max-height: 0;max-width: 0;overflow: hidden;text-align: left;background-color: #f0f8ff;}#sk-container-id-2 div.sk-toggleable__content pre {margin: 0.2em;color: black;border-radius: 0.25em;background-color: #f0f8ff;}#sk-container-id-2 input.sk-toggleable__control:checked~div.sk-toggleable__content {max-height: 200px;max-width: 100%;overflow: auto;}#sk-container-id-2 input.sk-toggleable__control:checked~label.sk-toggleable__label-arrow:before {content: \"▾\";}#sk-container-id-2 div.sk-estimator input.sk-toggleable__control:checked~label.sk-toggleable__label {background-color: #d4ebff;}#sk-container-id-2 div.sk-label input.sk-toggleable__control:checked~label.sk-toggleable__label {background-color: #d4ebff;}#sk-container-id-2 input.sk-hidden--visually {border: 0;clip: rect(1px 1px 1px 1px);clip: rect(1px, 1px, 1px, 1px);height: 1px;margin: -1px;overflow: hidden;padding: 0;position: absolute;width: 1px;}#sk-container-id-2 div.sk-estimator {font-family: monospace;background-color: #f0f8ff;border: 1px dotted black;border-radius: 0.25em;box-sizing: border-box;margin-bottom: 0.5em;}#sk-container-id-2 div.sk-estimator:hover {background-color: #d4ebff;}#sk-container-id-2 div.sk-parallel-item::after {content: \"\";width: 100%;border-bottom: 1px solid gray;flex-grow: 1;}#sk-container-id-2 div.sk-label:hover label.sk-toggleable__label {background-color: #d4ebff;}#sk-container-id-2 div.sk-serial::before {content: \"\";position: absolute;border-left: 1px solid gray;box-sizing: border-box;top: 0;bottom: 0;left: 50%;z-index: 0;}#sk-container-id-2 div.sk-serial {display: flex;flex-direction: column;align-items: center;background-color: white;padding-right: 0.2em;padding-left: 0.2em;position: relative;}#sk-container-id-2 div.sk-item {position: relative;z-index: 1;}#sk-container-id-2 div.sk-parallel {display: flex;align-items: stretch;justify-content: center;background-color: white;position: relative;}#sk-container-id-2 div.sk-item::before, #sk-container-id-2 div.sk-parallel-item::before {content: \"\";position: absolute;border-left: 1px solid gray;box-sizing: border-box;top: 0;bottom: 0;left: 50%;z-index: -1;}#sk-container-id-2 div.sk-parallel-item {display: flex;flex-direction: column;z-index: 1;position: relative;background-color: white;}#sk-container-id-2 div.sk-parallel-item:first-child::after {align-self: flex-end;width: 50%;}#sk-container-id-2 div.sk-parallel-item:last-child::after {align-self: flex-start;width: 50%;}#sk-container-id-2 div.sk-parallel-item:only-child::after {width: 0;}#sk-container-id-2 div.sk-dashed-wrapped {border: 1px dashed gray;margin: 0 0.4em 0.5em 0.4em;box-sizing: border-box;padding-bottom: 0.4em;background-color: white;}#sk-container-id-2 div.sk-label label {font-family: monospace;font-weight: bold;display: inline-block;line-height: 1.2em;}#sk-container-id-2 div.sk-label-container {text-align: center;}#sk-container-id-2 div.sk-container {/* jupyter's `normalize.less` sets `[hidden] { display: none; }` but bootstrap.min.css set `[hidden] { display: none !important; }` so we also need the `!important` here to be able to override the default hidden behavior on the sphinx rendered scikit-learn.org. See: https://github.com/scikit-learn/scikit-learn/issues/21755 */display: inline-block !important;position: relative;}#sk-container-id-2 div.sk-text-repr-fallback {display: none;}</style><div id=\"sk-container-id-2\" class=\"sk-top-container\"><div class=\"sk-text-repr-fallback\"><pre>Ridge(alpha=0.7196856730011519)</pre><b>In a Jupyter environment, please rerun this cell to show the HTML representation or trust the notebook. <br />On GitHub, the HTML representation is unable to render, please try loading this page with nbviewer.org.</b></div><div class=\"sk-container\" hidden><div class=\"sk-item\"><div class=\"sk-estimator sk-toggleable\"><input class=\"sk-toggleable__control sk-hidden--visually\" id=\"sk-estimator-id-8\" type=\"checkbox\" checked><label for=\"sk-estimator-id-8\" class=\"sk-toggleable__label sk-toggleable__label-arrow\">Ridge</label><div class=\"sk-toggleable__content\"><pre>Ridge(alpha=0.7196856730011519)</pre></div></div></div></div></div>"
      ],
      "text/plain": [
       "Ridge(alpha=0.7196856730011519)"
      ]
     },
     "execution_count": 64,
     "metadata": {},
     "output_type": "execute_result"
    }
   ],
   "source": [
    "%%time\n",
    "\n",
    "X_train_ohe = preprocessor.fit_transform(X_train)\n",
    "ridge_best = Ridge(ridge_pipeline['model'].alpha_)\n",
    "ridge_best.fit(X_train_ohe, y_train)"
   ]
  },
  {
   "cell_type": "code",
   "execution_count": 65,
   "metadata": {
    "colab": {
     "base_uri": "https://localhost:8080/"
    },
    "id": "cCYw7SZ9Eat_",
    "outputId": "98cef571-a47e-482a-801e-ee720e3fc01a"
   },
   "outputs": [
    {
     "name": "stdout",
     "output_type": "stream",
     "text": [
      "CPU times: user 252 ms, sys: 574 ms, total: 826 ms\n",
      "Wall time: 117 ms\n"
     ]
    }
   ],
   "source": [
    "%%time\n",
    "\n",
    "pred = ridge_best.predict(X_train_ohe)"
   ]
  },
  {
   "cell_type": "code",
   "execution_count": 66,
   "metadata": {
    "colab": {
     "base_uri": "https://localhost:8080/",
     "height": 214
    },
    "id": "3OPvZybrEat_",
    "outputId": "798e8dab-deb9-4f9c-ec55-ecb8df8b1a59"
   },
   "outputs": [
    {
     "name": "stdout",
     "output_type": "stream",
     "text": [
      "CPU times: user 6min 21s, sys: 444 ms, total: 6min 21s\n",
      "Wall time: 50.2 s\n"
     ]
    },
    {
     "data": {
      "text/html": [
       "<style>#sk-container-id-3 {color: black;background-color: white;}#sk-container-id-3 pre{padding: 0;}#sk-container-id-3 div.sk-toggleable {background-color: white;}#sk-container-id-3 label.sk-toggleable__label {cursor: pointer;display: block;width: 100%;margin-bottom: 0;padding: 0.3em;box-sizing: border-box;text-align: center;}#sk-container-id-3 label.sk-toggleable__label-arrow:before {content: \"▸\";float: left;margin-right: 0.25em;color: #696969;}#sk-container-id-3 label.sk-toggleable__label-arrow:hover:before {color: black;}#sk-container-id-3 div.sk-estimator:hover label.sk-toggleable__label-arrow:before {color: black;}#sk-container-id-3 div.sk-toggleable__content {max-height: 0;max-width: 0;overflow: hidden;text-align: left;background-color: #f0f8ff;}#sk-container-id-3 div.sk-toggleable__content pre {margin: 0.2em;color: black;border-radius: 0.25em;background-color: #f0f8ff;}#sk-container-id-3 input.sk-toggleable__control:checked~div.sk-toggleable__content {max-height: 200px;max-width: 100%;overflow: auto;}#sk-container-id-3 input.sk-toggleable__control:checked~label.sk-toggleable__label-arrow:before {content: \"▾\";}#sk-container-id-3 div.sk-estimator input.sk-toggleable__control:checked~label.sk-toggleable__label {background-color: #d4ebff;}#sk-container-id-3 div.sk-label input.sk-toggleable__control:checked~label.sk-toggleable__label {background-color: #d4ebff;}#sk-container-id-3 input.sk-hidden--visually {border: 0;clip: rect(1px 1px 1px 1px);clip: rect(1px, 1px, 1px, 1px);height: 1px;margin: -1px;overflow: hidden;padding: 0;position: absolute;width: 1px;}#sk-container-id-3 div.sk-estimator {font-family: monospace;background-color: #f0f8ff;border: 1px dotted black;border-radius: 0.25em;box-sizing: border-box;margin-bottom: 0.5em;}#sk-container-id-3 div.sk-estimator:hover {background-color: #d4ebff;}#sk-container-id-3 div.sk-parallel-item::after {content: \"\";width: 100%;border-bottom: 1px solid gray;flex-grow: 1;}#sk-container-id-3 div.sk-label:hover label.sk-toggleable__label {background-color: #d4ebff;}#sk-container-id-3 div.sk-serial::before {content: \"\";position: absolute;border-left: 1px solid gray;box-sizing: border-box;top: 0;bottom: 0;left: 50%;z-index: 0;}#sk-container-id-3 div.sk-serial {display: flex;flex-direction: column;align-items: center;background-color: white;padding-right: 0.2em;padding-left: 0.2em;position: relative;}#sk-container-id-3 div.sk-item {position: relative;z-index: 1;}#sk-container-id-3 div.sk-parallel {display: flex;align-items: stretch;justify-content: center;background-color: white;position: relative;}#sk-container-id-3 div.sk-item::before, #sk-container-id-3 div.sk-parallel-item::before {content: \"\";position: absolute;border-left: 1px solid gray;box-sizing: border-box;top: 0;bottom: 0;left: 50%;z-index: -1;}#sk-container-id-3 div.sk-parallel-item {display: flex;flex-direction: column;z-index: 1;position: relative;background-color: white;}#sk-container-id-3 div.sk-parallel-item:first-child::after {align-self: flex-end;width: 50%;}#sk-container-id-3 div.sk-parallel-item:last-child::after {align-self: flex-start;width: 50%;}#sk-container-id-3 div.sk-parallel-item:only-child::after {width: 0;}#sk-container-id-3 div.sk-dashed-wrapped {border: 1px dashed gray;margin: 0 0.4em 0.5em 0.4em;box-sizing: border-box;padding-bottom: 0.4em;background-color: white;}#sk-container-id-3 div.sk-label label {font-family: monospace;font-weight: bold;display: inline-block;line-height: 1.2em;}#sk-container-id-3 div.sk-label-container {text-align: center;}#sk-container-id-3 div.sk-container {/* jupyter's `normalize.less` sets `[hidden] { display: none; }` but bootstrap.min.css set `[hidden] { display: none !important; }` so we also need the `!important` here to be able to override the default hidden behavior on the sphinx rendered scikit-learn.org. See: https://github.com/scikit-learn/scikit-learn/issues/21755 */display: inline-block !important;position: relative;}#sk-container-id-3 div.sk-text-repr-fallback {display: none;}</style><div id=\"sk-container-id-3\" class=\"sk-top-container\"><div class=\"sk-text-repr-fallback\"><pre>LGBMRegressor(colsample_bytree=0.5814586382221002,\n",
       "              learning_rate=0.03461681619260987, max_bin=1015, max_depth=15,\n",
       "              metric=&#x27;rmse&#x27;, min_child_samples=70,\n",
       "              min_child_weight=7.5059277954815125, n_estimators=3914, n_jobs=-1,\n",
       "              num_leaves=53, random_state=42, reg_alpha=5.554630759003483e-09,\n",
       "              reg_lambda=0.032499310199422746, subsample=0.360385402207322,\n",
       "              subsample_freq=2, verbose=-1)</pre><b>In a Jupyter environment, please rerun this cell to show the HTML representation or trust the notebook. <br />On GitHub, the HTML representation is unable to render, please try loading this page with nbviewer.org.</b></div><div class=\"sk-container\" hidden><div class=\"sk-item\"><div class=\"sk-estimator sk-toggleable\"><input class=\"sk-toggleable__control sk-hidden--visually\" id=\"sk-estimator-id-9\" type=\"checkbox\" checked><label for=\"sk-estimator-id-9\" class=\"sk-toggleable__label sk-toggleable__label-arrow\">LGBMRegressor</label><div class=\"sk-toggleable__content\"><pre>LGBMRegressor(colsample_bytree=0.5814586382221002,\n",
       "              learning_rate=0.03461681619260987, max_bin=1015, max_depth=15,\n",
       "              metric=&#x27;rmse&#x27;, min_child_samples=70,\n",
       "              min_child_weight=7.5059277954815125, n_estimators=3914, n_jobs=-1,\n",
       "              num_leaves=53, random_state=42, reg_alpha=5.554630759003483e-09,\n",
       "              reg_lambda=0.032499310199422746, subsample=0.360385402207322,\n",
       "              subsample_freq=2, verbose=-1)</pre></div></div></div></div></div>"
      ],
      "text/plain": [
       "LGBMRegressor(colsample_bytree=0.5814586382221002,\n",
       "              learning_rate=0.03461681619260987, max_bin=1015, max_depth=15,\n",
       "              metric='rmse', min_child_samples=70,\n",
       "              min_child_weight=7.5059277954815125, n_estimators=3914, n_jobs=-1,\n",
       "              num_leaves=53, random_state=42, reg_alpha=5.554630759003483e-09,\n",
       "              reg_lambda=0.032499310199422746, subsample=0.360385402207322,\n",
       "              subsample_freq=2, verbose=-1)"
      ]
     },
     "execution_count": 66,
     "metadata": {},
     "output_type": "execute_result"
    }
   ],
   "source": [
    "%%time\n",
    "\n",
    "lgb_best = lgb.LGBMRegressor(metric='rmse', n_jobs=-1, verbose=-1, random_state=RANDOM_STATE, **best_params)\n",
    "lgb_best.fit(X_train_lgb, y_train)"
   ]
  },
  {
   "cell_type": "code",
   "execution_count": 67,
   "metadata": {
    "colab": {
     "base_uri": "https://localhost:8080/"
    },
    "id": "ZJYSnluKEat_",
    "outputId": "359dd1d5-9374-4925-cbdb-acff0f4023d2"
   },
   "outputs": [
    {
     "name": "stdout",
     "output_type": "stream",
     "text": [
      "CPU times: user 4min 32s, sys: 0 ns, total: 4min 32s\n",
      "Wall time: 35.9 s\n"
     ]
    }
   ],
   "source": [
    "%%time\n",
    "\n",
    "pred = lgb_best.predict(X_train_lgb)"
   ]
  },
  {
   "cell_type": "code",
   "execution_count": 68,
   "metadata": {
    "colab": {
     "base_uri": "https://localhost:8080/",
     "height": 564
    },
    "id": "vJeoG90Tee_f",
    "outputId": "05b980b8-ce5b-41b6-9bfa-2d86c701f90c"
   },
   "outputs": [
    {
     "data": {
      "image/png": "[encoded data removed]",
      "text/plain": [
       "<Figure size 700x600 with 1 Axes>"
      ]
     },
     "metadata": {},
     "output_type": "display_data"
    }
   ],
   "source": [
    "# Plot feature importance using Gain\n",
    "lgb.plot_importance(lgb_best, importance_type='gain', figsize=(7,6), title='LightGBM Feature Importance (Gain)')\n",
    "plt.show()"
   ]
  },
  {
   "cell_type": "code",
   "execution_count": 69,
   "metadata": {
    "colab": {
     "base_uri": "https://localhost:8080/",
     "height": 564
    },
    "id": "MmWkvbp7elqp",
    "outputId": "2c2c1268-7b61-4a40-df8e-e921737a22a0"
   },
   "outputs": [
    {
     "data": {
      "image/png": "[encoded data removed]",
      "text/plain": [
       "<Figure size 700x600 with 1 Axes>"
      ]
     },
     "metadata": {},
     "output_type": "display_data"
    }
   ],
   "source": [
    "# Plot feature importance using Split\n",
    "lgb.plot_importance(lgb_best, importance_type='split', figsize=(7,6), title='LightGBM Feature Importance (Split)')\n",
    "plt.show()"
   ]
  },
  {
   "cell_type": "code",
   "execution_count": 73,
   "metadata": {
    "colab": {
     "base_uri": "https://localhost:8080/",
     "height": 112
    },
    "id": "YEpttqnhEat_",
    "outputId": "cdd2c7be-87b4-4c5e-e401-169993b69257"
   },
   "outputs": [
    {
     "data": {
      "text/html": [
       "\n",
       "  <div id=\"df-a1d683db-304c-4c10-9f3e-4a438711dda2\" class=\"colab-df-container\">\n",
       "    <div>\n",
       "<style scoped>\n",
       "    .dataframe tbody tr th:only-of-type {\n",
       "        vertical-align: middle;\n",
       "    }\n",
       "\n",
       "    .dataframe tbody tr th {\n",
       "        vertical-align: top;\n",
       "    }\n",
       "\n",
       "    .dataframe thead th {\n",
       "        text-align: right;\n",
       "    }\n",
       "</style>\n",
       "<table border=\"1\" class=\"dataframe\">\n",
       "  <thead>\n",
       "    <tr style=\"text-align: right;\">\n",
       "      <th></th>\n",
       "      <th>RMSE</th>\n",
       "      <th>fit(s)</th>\n",
       "      <th>predict(s)</th>\n",
       "    </tr>\n",
       "  </thead>\n",
       "  <tbody>\n",
       "    <tr>\n",
       "      <th>Ridge</th>\n",
       "      <td>2572.96</td>\n",
       "      <td>2.28</td>\n",
       "      <td>0.117</td>\n",
       "    </tr>\n",
       "    <tr>\n",
       "      <th>LGBMRegressor</th>\n",
       "      <td>1518.19</td>\n",
       "      <td>50.20</td>\n",
       "      <td>35.900</td>\n",
       "    </tr>\n",
       "  </tbody>\n",
       "</table>\n",
       "</div>\n",
       "    <div class=\"colab-df-buttons\">\n",
       "\n",
       "  <div class=\"colab-df-container\">\n",
       "    <button class=\"colab-df-convert\" onclick=\"convertToInteractive('df-a1d683db-304c-4c10-9f3e-4a438711dda2')\"\n",
       "            title=\"Convert this dataframe to an interactive table.\"\n",
       "            style=\"display:none;\">\n",
       "\n",
       "  <svg xmlns=\"http://www.w3.org/2000/svg\" height=\"24px\" viewBox=\"0 -960 960 960\">\n",
       "    <path d=\"M120-120v-720h720v720H120Zm60-500h600v-160H180v160Zm220 220h160v-160H400v160Zm0 220h160v-160H400v160ZM180-400h160v-160H180v160Zm440 0h160v-160H620v160ZM180-180h160v-160H180v160Zm440 0h160v-160H620v160Z\"/>\n",
       "  </svg>\n",
       "    </button>\n",
       "\n",
       "  <style>\n",
       "    .colab-df-container {\n",
       "      display:flex;\n",
       "      gap: 12px;\n",
       "    }\n",
       "\n",
       "    .colab-df-convert {\n",
       "      background-color: #E8F0FE;\n",
       "      border: none;\n",
       "      border-radius: 50%;\n",
       "      cursor: pointer;\n",
       "      display: none;\n",
       "      fill: #1967D2;\n",
       "      height: 32px;\n",
       "      padding: 0 0 0 0;\n",
       "      width: 32px;\n",
       "    }\n",
       "\n",
       "    .colab-df-convert:hover {\n",
       "      background-color: #E2EBFA;\n",
       "      box-shadow: 0px 1px 2px rgba(60, 64, 67, 0.3), 0px 1px 3px 1px rgba(60, 64, 67, 0.15);\n",
       "      fill: #174EA6;\n",
       "    }\n",
       "\n",
       "    .colab-df-buttons div {\n",
       "      margin-bottom: 4px;\n",
       "    }\n",
       "\n",
       "    [theme=dark] .colab-df-convert {\n",
       "      background-color: #3B4455;\n",
       "      fill: #D2E3FC;\n",
       "    }\n",
       "\n",
       "    [theme=dark] .colab-df-convert:hover {\n",
       "      background-color: #434B5C;\n",
       "      box-shadow: 0px 1px 3px 1px rgba(0, 0, 0, 0.15);\n",
       "      filter: drop-shadow(0px 1px 2px rgba(0, 0, 0, 0.3));\n",
       "      fill: #FFFFFF;\n",
       "    }\n",
       "  </style>\n",
       "\n",
       "    <script>\n",
       "      const buttonEl =\n",
       "        document.querySelector('#df-a1d683db-304c-4c10-9f3e-4a438711dda2 button.colab-df-convert');\n",
       "      buttonEl.style.display =\n",
       "        google.colab.kernel.accessAllowed ? 'block' : 'none';\n",
       "\n",
       "      async function convertToInteractive(key) {\n",
       "        const element = document.querySelector('#df-a1d683db-304c-4c10-9f3e-4a438711dda2');\n",
       "        const dataTable =\n",
       "          await google.colab.kernel.invokeFunction('convertToInteractive',\n",
       "                                                    [key], {});\n",
       "        if (!dataTable) return;\n",
       "\n",
       "        const docLinkHtml = 'Like what you see? Visit the ' +\n",
       "          '<a target=\"_blank\" href=https://colab.research.google.com/notebooks/data_table.ipynb>data table notebook</a>'\n",
       "          + ' to learn more about interactive tables.';\n",
       "        element.innerHTML = '';\n",
       "        dataTable['output_type'] = 'display_data';\n",
       "        await google.colab.output.renderOutput(dataTable, element);\n",
       "        const docLink = document.createElement('div');\n",
       "        docLink.innerHTML = docLinkHtml;\n",
       "        element.appendChild(docLink);\n",
       "      }\n",
       "    </script>\n",
       "  </div>\n",
       "\n",
       "\n",
       "<div id=\"df-7f9a7f92-935c-4127-b963-ffc83fee56ee\">\n",
       "  <button class=\"colab-df-quickchart\" onclick=\"quickchart('df-7f9a7f92-935c-4127-b963-ffc83fee56ee')\"\n",
       "            title=\"Suggest charts\"\n",
       "            style=\"display:none;\">\n",
       "\n",
       "<svg xmlns=\"http://www.w3.org/2000/svg\" height=\"24px\"viewBox=\"0 0 24 24\"\n",
       "     width=\"24px\">\n",
       "    <g>\n",
       "        <path d=\"M19 3H5c-1.1 0-2 .9-2 2v14c0 1.1.9 2 2 2h14c1.1 0 2-.9 2-2V5c0-1.1-.9-2-2-2zM9 17H7v-7h2v7zm4 0h-2V7h2v10zm4 0h-2v-4h2v4z\"/>\n",
       "    </g>\n",
       "</svg>\n",
       "  </button>\n",
       "\n",
       "<style>\n",
       "  .colab-df-quickchart {\n",
       "      --bg-color: #E8F0FE;\n",
       "      --fill-color: #1967D2;\n",
       "      --hover-bg-color: #E2EBFA;\n",
       "      --hover-fill-color: #174EA6;\n",
       "      --disabled-fill-color: #AAA;\n",
       "      --disabled-bg-color: #DDD;\n",
       "  }\n",
       "\n",
       "  [theme=dark] .colab-df-quickchart {\n",
       "      --bg-color: #3B4455;\n",
       "      --fill-color: #D2E3FC;\n",
       "      --hover-bg-color: #434B5C;\n",
       "      --hover-fill-color: #FFFFFF;\n",
       "      --disabled-bg-color: #3B4455;\n",
       "      --disabled-fill-color: #666;\n",
       "  }\n",
       "\n",
       "  .colab-df-quickchart {\n",
       "    background-color: var(--bg-color);\n",
       "    border: none;\n",
       "    border-radius: 50%;\n",
       "    cursor: pointer;\n",
       "    display: none;\n",
       "    fill: var(--fill-color);\n",
       "    height: 32px;\n",
       "    padding: 0;\n",
       "    width: 32px;\n",
       "  }\n",
       "\n",
       "  .colab-df-quickchart:hover {\n",
       "    background-color: var(--hover-bg-color);\n",
       "    box-shadow: 0 1px 2px rgba(60, 64, 67, 0.3), 0 1px 3px 1px rgba(60, 64, 67, 0.15);\n",
       "    fill: var(--button-hover-fill-color);\n",
       "  }\n",
       "\n",
       "  .colab-df-quickchart-complete:disabled,\n",
       "  .colab-df-quickchart-complete:disabled:hover {\n",
       "    background-color: var(--disabled-bg-color);\n",
       "    fill: var(--disabled-fill-color);\n",
       "    box-shadow: none;\n",
       "  }\n",
       "\n",
       "  .colab-df-spinner {\n",
       "    border: 2px solid var(--fill-color);\n",
       "    border-color: transparent;\n",
       "    border-bottom-color: var(--fill-color);\n",
       "    animation:\n",
       "      spin 1s steps(1) infinite;\n",
       "  }\n",
       "\n",
       "  @keyframes spin {\n",
       "    0% {\n",
       "      border-color: transparent;\n",
       "      border-bottom-color: var(--fill-color);\n",
       "      border-left-color: var(--fill-color);\n",
       "    }\n",
       "    20% {\n",
       "      border-color: transparent;\n",
       "      border-left-color: var(--fill-color);\n",
       "      border-top-color: var(--fill-color);\n",
       "    }\n",
       "    30% {\n",
       "      border-color: transparent;\n",
       "      border-left-color: var(--fill-color);\n",
       "      border-top-color: var(--fill-color);\n",
       "      border-right-color: var(--fill-color);\n",
       "    }\n",
       "    40% {\n",
       "      border-color: transparent;\n",
       "      border-right-color: var(--fill-color);\n",
       "      border-top-color: var(--fill-color);\n",
       "    }\n",
       "    60% {\n",
       "      border-color: transparent;\n",
       "      border-right-color: var(--fill-color);\n",
       "    }\n",
       "    80% {\n",
       "      border-color: transparent;\n",
       "      border-right-color: var(--fill-color);\n",
       "      border-bottom-color: var(--fill-color);\n",
       "    }\n",
       "    90% {\n",
       "      border-color: transparent;\n",
       "      border-bottom-color: var(--fill-color);\n",
       "    }\n",
       "  }\n",
       "</style>\n",
       "\n",
       "  <script>\n",
       "    async function quickchart(key) {\n",
       "      const quickchartButtonEl =\n",
       "        document.querySelector('#' + key + ' button');\n",
       "      quickchartButtonEl.disabled = true;  // To prevent multiple clicks.\n",
       "      quickchartButtonEl.classList.add('colab-df-spinner');\n",
       "      try {\n",
       "        const charts = await google.colab.kernel.invokeFunction(\n",
       "            'suggestCharts', [key], {});\n",
       "      } catch (error) {\n",
       "        console.error('Error during call to suggestCharts:', error);\n",
       "      }\n",
       "      quickchartButtonEl.classList.remove('colab-df-spinner');\n",
       "      quickchartButtonEl.classList.add('colab-df-quickchart-complete');\n",
       "    }\n",
       "    (() => {\n",
       "      let quickchartButtonEl =\n",
       "        document.querySelector('#df-7f9a7f92-935c-4127-b963-ffc83fee56ee button');\n",
       "      quickchartButtonEl.style.display =\n",
       "        google.colab.kernel.accessAllowed ? 'block' : 'none';\n",
       "    })();\n",
       "  </script>\n",
       "</div>\n",
       "    </div>\n",
       "  </div>\n"
      ],
      "text/plain": [
       "                  RMSE  fit(s)  predict(s)\n",
       "Ridge          2572.96    2.28       0.117\n",
       "LGBMRegressor  1518.19   50.20      35.900"
      ]
     },
     "execution_count": 73,
     "metadata": {},
     "output_type": "execute_result"
    }
   ],
   "source": [
    "result = pd.DataFrame([[2572.96, 2.28, 0.117],\n",
    "              [1518.19, 50.2, 35.9]],\n",
    "             columns=['RMSE', 'fit(s)', 'predict(s)'],\n",
    "             index=['Ridge', 'LGBMRegressor']\n",
    "            )\n",
    "result"
   ]
  },
  {
   "cell_type": "markdown",
   "metadata": {
    "id": "iGldluIHEat_"
   },
   "source": [
    "**Учитывая требования, выберем для тестирвания модель LGBMRegressor. Ridge не обеспечивает достатачного качества, а LGBMRegressor незначительно уступает по времени, зато укладывается в рамки качества.**"
   ]
  },
  {
   "cell_type": "code",
   "execution_count": 71,
   "metadata": {
    "colab": {
     "base_uri": "https://localhost:8080/"
    },
    "id": "I-O5eeF9Eat_",
    "outputId": "0369ca50-3f2a-4a67-8f6a-788c2b6eba30",
    "scrolled": true
   },
   "outputs": [
    {
     "name": "stdout",
     "output_type": "stream",
     "text": [
      "test RMSE: 1483.060864650899\n"
     ]
    }
   ],
   "source": [
    "X_test_lgb = X_test.copy()\n",
    "X_test_lgb[numerical_features] = scaler_lgb.transform(X_test_lgb[numerical_features])\n",
    "\n",
    "pred = lgb_best.predict(X_test_lgb)\n",
    "print(f'test RMSE: {mean_squared_error(y_test, pred, squared=False)}')"
   ]
  },
  {
   "cell_type": "markdown",
   "metadata": {
    "id": "aJgaIp8tEat_"
   },
   "source": [
    "## Вывод"
   ]
  },
  {
   "cell_type": "markdown",
   "metadata": {
    "id": "gtjtC0ALEat_"
   },
   "source": [
    "Для обучения и анализа были выбраны модели Ridge и LGBMRegressor. Подобрав гиперпараметры, были получены следующие результаты:"
   ]
  },
  {
   "cell_type": "code",
   "execution_count": 74,
   "metadata": {
    "colab": {
     "base_uri": "https://localhost:8080/",
     "height": 112
    },
    "id": "964iaax1EauA",
    "outputId": "1d73750c-29d8-4267-91e8-6e28843e8b31"
   },
   "outputs": [
    {
     "data": {
      "text/html": [
       "\n",
       "  <div id=\"df-a22579a0-3257-49c9-af11-155329264a83\" class=\"colab-df-container\">\n",
       "    <div>\n",
       "<style scoped>\n",
       "    .dataframe tbody tr th:only-of-type {\n",
       "        vertical-align: middle;\n",
       "    }\n",
       "\n",
       "    .dataframe tbody tr th {\n",
       "        vertical-align: top;\n",
       "    }\n",
       "\n",
       "    .dataframe thead th {\n",
       "        text-align: right;\n",
       "    }\n",
       "</style>\n",
       "<table border=\"1\" class=\"dataframe\">\n",
       "  <thead>\n",
       "    <tr style=\"text-align: right;\">\n",
       "      <th></th>\n",
       "      <th>RMSE</th>\n",
       "      <th>fit(s)</th>\n",
       "      <th>predict(s)</th>\n",
       "    </tr>\n",
       "  </thead>\n",
       "  <tbody>\n",
       "    <tr>\n",
       "      <th>Ridge</th>\n",
       "      <td>2572.96</td>\n",
       "      <td>2.28</td>\n",
       "      <td>0.117</td>\n",
       "    </tr>\n",
       "    <tr>\n",
       "      <th>LGBMRegressor</th>\n",
       "      <td>1518.19</td>\n",
       "      <td>50.20</td>\n",
       "      <td>35.900</td>\n",
       "    </tr>\n",
       "  </tbody>\n",
       "</table>\n",
       "</div>\n",
       "    <div class=\"colab-df-buttons\">\n",
       "\n",
       "  <div class=\"colab-df-container\">\n",
       "    <button class=\"colab-df-convert\" onclick=\"convertToInteractive('df-a22579a0-3257-49c9-af11-155329264a83')\"\n",
       "            title=\"Convert this dataframe to an interactive table.\"\n",
       "            style=\"display:none;\">\n",
       "\n",
       "  <svg xmlns=\"http://www.w3.org/2000/svg\" height=\"24px\" viewBox=\"0 -960 960 960\">\n",
       "    <path d=\"M120-120v-720h720v720H120Zm60-500h600v-160H180v160Zm220 220h160v-160H400v160Zm0 220h160v-160H400v160ZM180-400h160v-160H180v160Zm440 0h160v-160H620v160ZM180-180h160v-160H180v160Zm440 0h160v-160H620v160Z\"/>\n",
       "  </svg>\n",
       "    </button>\n",
       "\n",
       "  <style>\n",
       "    .colab-df-container {\n",
       "      display:flex;\n",
       "      gap: 12px;\n",
       "    }\n",
       "\n",
       "    .colab-df-convert {\n",
       "      background-color: #E8F0FE;\n",
       "      border: none;\n",
       "      border-radius: 50%;\n",
       "      cursor: pointer;\n",
       "      display: none;\n",
       "      fill: #1967D2;\n",
       "      height: 32px;\n",
       "      padding: 0 0 0 0;\n",
       "      width: 32px;\n",
       "    }\n",
       "\n",
       "    .colab-df-convert:hover {\n",
       "      background-color: #E2EBFA;\n",
       "      box-shadow: 0px 1px 2px rgba(60, 64, 67, 0.3), 0px 1px 3px 1px rgba(60, 64, 67, 0.15);\n",
       "      fill: #174EA6;\n",
       "    }\n",
       "\n",
       "    .colab-df-buttons div {\n",
       "      margin-bottom: 4px;\n",
       "    }\n",
       "\n",
       "    [theme=dark] .colab-df-convert {\n",
       "      background-color: #3B4455;\n",
       "      fill: #D2E3FC;\n",
       "    }\n",
       "\n",
       "    [theme=dark] .colab-df-convert:hover {\n",
       "      background-color: #434B5C;\n",
       "      box-shadow: 0px 1px 3px 1px rgba(0, 0, 0, 0.15);\n",
       "      filter: drop-shadow(0px 1px 2px rgba(0, 0, 0, 0.3));\n",
       "      fill: #FFFFFF;\n",
       "    }\n",
       "  </style>\n",
       "\n",
       "    <script>\n",
       "      const buttonEl =\n",
       "        document.querySelector('#df-a22579a0-3257-49c9-af11-155329264a83 button.colab-df-convert');\n",
       "      buttonEl.style.display =\n",
       "        google.colab.kernel.accessAllowed ? 'block' : 'none';\n",
       "\n",
       "      async function convertToInteractive(key) {\n",
       "        const element = document.querySelector('#df-a22579a0-3257-49c9-af11-155329264a83');\n",
       "        const dataTable =\n",
       "          await google.colab.kernel.invokeFunction('convertToInteractive',\n",
       "                                                    [key], {});\n",
       "        if (!dataTable) return;\n",
       "\n",
       "        const docLinkHtml = 'Like what you see? Visit the ' +\n",
       "          '<a target=\"_blank\" href=https://colab.research.google.com/notebooks/data_table.ipynb>data table notebook</a>'\n",
       "          + ' to learn more about interactive tables.';\n",
       "        element.innerHTML = '';\n",
       "        dataTable['output_type'] = 'display_data';\n",
       "        await google.colab.output.renderOutput(dataTable, element);\n",
       "        const docLink = document.createElement('div');\n",
       "        docLink.innerHTML = docLinkHtml;\n",
       "        element.appendChild(docLink);\n",
       "      }\n",
       "    </script>\n",
       "  </div>\n",
       "\n",
       "\n",
       "<div id=\"df-702ae777-9430-42f8-8814-646aed2707fb\">\n",
       "  <button class=\"colab-df-quickchart\" onclick=\"quickchart('df-702ae777-9430-42f8-8814-646aed2707fb')\"\n",
       "            title=\"Suggest charts\"\n",
       "            style=\"display:none;\">\n",
       "\n",
       "<svg xmlns=\"http://www.w3.org/2000/svg\" height=\"24px\"viewBox=\"0 0 24 24\"\n",
       "     width=\"24px\">\n",
       "    <g>\n",
       "        <path d=\"M19 3H5c-1.1 0-2 .9-2 2v14c0 1.1.9 2 2 2h14c1.1 0 2-.9 2-2V5c0-1.1-.9-2-2-2zM9 17H7v-7h2v7zm4 0h-2V7h2v10zm4 0h-2v-4h2v4z\"/>\n",
       "    </g>\n",
       "</svg>\n",
       "  </button>\n",
       "\n",
       "<style>\n",
       "  .colab-df-quickchart {\n",
       "      --bg-color: #E8F0FE;\n",
       "      --fill-color: #1967D2;\n",
       "      --hover-bg-color: #E2EBFA;\n",
       "      --hover-fill-color: #174EA6;\n",
       "      --disabled-fill-color: #AAA;\n",
       "      --disabled-bg-color: #DDD;\n",
       "  }\n",
       "\n",
       "  [theme=dark] .colab-df-quickchart {\n",
       "      --bg-color: #3B4455;\n",
       "      --fill-color: #D2E3FC;\n",
       "      --hover-bg-color: #434B5C;\n",
       "      --hover-fill-color: #FFFFFF;\n",
       "      --disabled-bg-color: #3B4455;\n",
       "      --disabled-fill-color: #666;\n",
       "  }\n",
       "\n",
       "  .colab-df-quickchart {\n",
       "    background-color: var(--bg-color);\n",
       "    border: none;\n",
       "    border-radius: 50%;\n",
       "    cursor: pointer;\n",
       "    display: none;\n",
       "    fill: var(--fill-color);\n",
       "    height: 32px;\n",
       "    padding: 0;\n",
       "    width: 32px;\n",
       "  }\n",
       "\n",
       "  .colab-df-quickchart:hover {\n",
       "    background-color: var(--hover-bg-color);\n",
       "    box-shadow: 0 1px 2px rgba(60, 64, 67, 0.3), 0 1px 3px 1px rgba(60, 64, 67, 0.15);\n",
       "    fill: var(--button-hover-fill-color);\n",
       "  }\n",
       "\n",
       "  .colab-df-quickchart-complete:disabled,\n",
       "  .colab-df-quickchart-complete:disabled:hover {\n",
       "    background-color: var(--disabled-bg-color);\n",
       "    fill: var(--disabled-fill-color);\n",
       "    box-shadow: none;\n",
       "  }\n",
       "\n",
       "  .colab-df-spinner {\n",
       "    border: 2px solid var(--fill-color);\n",
       "    border-color: transparent;\n",
       "    border-bottom-color: var(--fill-color);\n",
       "    animation:\n",
       "      spin 1s steps(1) infinite;\n",
       "  }\n",
       "\n",
       "  @keyframes spin {\n",
       "    0% {\n",
       "      border-color: transparent;\n",
       "      border-bottom-color: var(--fill-color);\n",
       "      border-left-color: var(--fill-color);\n",
       "    }\n",
       "    20% {\n",
       "      border-color: transparent;\n",
       "      border-left-color: var(--fill-color);\n",
       "      border-top-color: var(--fill-color);\n",
       "    }\n",
       "    30% {\n",
       "      border-color: transparent;\n",
       "      border-left-color: var(--fill-color);\n",
       "      border-top-color: var(--fill-color);\n",
       "      border-right-color: var(--fill-color);\n",
       "    }\n",
       "    40% {\n",
       "      border-color: transparent;\n",
       "      border-right-color: var(--fill-color);\n",
       "      border-top-color: var(--fill-color);\n",
       "    }\n",
       "    60% {\n",
       "      border-color: transparent;\n",
       "      border-right-color: var(--fill-color);\n",
       "    }\n",
       "    80% {\n",
       "      border-color: transparent;\n",
       "      border-right-color: var(--fill-color);\n",
       "      border-bottom-color: var(--fill-color);\n",
       "    }\n",
       "    90% {\n",
       "      border-color: transparent;\n",
       "      border-bottom-color: var(--fill-color);\n",
       "    }\n",
       "  }\n",
       "</style>\n",
       "\n",
       "  <script>\n",
       "    async function quickchart(key) {\n",
       "      const quickchartButtonEl =\n",
       "        document.querySelector('#' + key + ' button');\n",
       "      quickchartButtonEl.disabled = true;  // To prevent multiple clicks.\n",
       "      quickchartButtonEl.classList.add('colab-df-spinner');\n",
       "      try {\n",
       "        const charts = await google.colab.kernel.invokeFunction(\n",
       "            'suggestCharts', [key], {});\n",
       "      } catch (error) {\n",
       "        console.error('Error during call to suggestCharts:', error);\n",
       "      }\n",
       "      quickchartButtonEl.classList.remove('colab-df-spinner');\n",
       "      quickchartButtonEl.classList.add('colab-df-quickchart-complete');\n",
       "    }\n",
       "    (() => {\n",
       "      let quickchartButtonEl =\n",
       "        document.querySelector('#df-702ae777-9430-42f8-8814-646aed2707fb button');\n",
       "      quickchartButtonEl.style.display =\n",
       "        google.colab.kernel.accessAllowed ? 'block' : 'none';\n",
       "    })();\n",
       "  </script>\n",
       "</div>\n",
       "    </div>\n",
       "  </div>\n"
      ],
      "text/plain": [
       "                  RMSE  fit(s)  predict(s)\n",
       "Ridge          2572.96    2.28       0.117\n",
       "LGBMRegressor  1518.19   50.20      35.900"
      ]
     },
     "execution_count": 74,
     "metadata": {},
     "output_type": "execute_result"
    }
   ],
   "source": [
    "result"
   ]
  },
  {
   "cell_type": "markdown",
   "metadata": {
    "id": "O7IIgJaJEauA"
   },
   "source": [
    "1. RMSE - качество предсказания (требование RMSE < 2500)\n",
    "2. fit(s) - скорость обучения модели в секундах\n",
    "3. predict(s) - скорость предсказания модели в секундах"
   ]
  },
  {
   "cell_type": "markdown",
   "metadata": {
    "id": "G8zmSF-NEauA"
   },
   "source": [
    "Исходя из требований по качеству модели, а также по скорости обучения и придсказания, рекомендуем модель LGBMRegressor, как оптимальную. RMSE на тестовой выборке 1483.06.\n",
    "\n",
    "*Возможные дальнейшие улучшения:*\n",
    "\n",
    "*Гипотеза: С определенного возраста машины переходят в категорию \"ретро\", и для них свое ценообразование.*"
   ]
  }
 ],
 "metadata": {
  "ExecuteTimeLog": [
   {
    "duration": 459,
    "start_time": "2023-12-04T19:35:56.660Z"
   },
   {
    "duration": 3018,
    "start_time": "2023-12-04T19:36:09.976Z"
   },
   {
    "duration": 161,
    "start_time": "2023-12-04T19:36:18.382Z"
   },
   {
    "duration": 32,
    "start_time": "2023-12-04T19:36:29.650Z"
   },
   {
    "duration": 27,
    "start_time": "2023-12-04T19:36:36.888Z"
   },
   {
    "duration": 110,
    "start_time": "2023-12-04T19:45:11.189Z"
   },
   {
    "duration": 72,
    "start_time": "2023-12-04T19:45:18.321Z"
   },
   {
    "duration": 491,
    "start_time": "2023-12-04T19:45:22.913Z"
   },
   {
    "duration": 507,
    "start_time": "2023-12-04T19:45:35.425Z"
   },
   {
    "duration": 146,
    "start_time": "2023-12-04T19:46:09.414Z"
   },
   {
    "duration": 165,
    "start_time": "2023-12-04T19:46:28.062Z"
   },
   {
    "duration": 176,
    "start_time": "2023-12-04T19:46:58.832Z"
   },
   {
    "duration": 1083,
    "start_time": "2023-12-04T19:59:45.743Z"
   },
   {
    "duration": 119,
    "start_time": "2023-12-04T19:59:50.601Z"
   },
   {
    "duration": 21,
    "start_time": "2023-12-04T19:59:57.491Z"
   },
   {
    "duration": 660,
    "start_time": "2023-12-04T20:01:00.892Z"
   },
   {
    "duration": 125,
    "start_time": "2023-12-04T20:01:22.314Z"
   },
   {
    "duration": 152,
    "start_time": "2023-12-04T20:01:46.746Z"
   },
   {
    "duration": 110,
    "start_time": "2023-12-04T20:01:53.236Z"
   },
   {
    "duration": 149,
    "start_time": "2023-12-04T20:13:31.471Z"
   },
   {
    "duration": 4,
    "start_time": "2023-12-04T20:13:49.532Z"
   },
   {
    "duration": 6,
    "start_time": "2023-12-04T20:14:14.886Z"
   },
   {
    "duration": 11,
    "start_time": "2023-12-04T20:14:32.173Z"
   },
   {
    "duration": 37,
    "start_time": "2023-12-04T20:14:48.911Z"
   },
   {
    "duration": 10,
    "start_time": "2023-12-04T20:17:38.199Z"
   },
   {
    "duration": 433,
    "start_time": "2023-12-04T20:17:51.925Z"
   },
   {
    "duration": 12,
    "start_time": "2023-12-04T20:18:55.812Z"
   },
   {
    "duration": 827,
    "start_time": "2023-12-04T20:19:26.982Z"
   },
   {
    "duration": 11719,
    "start_time": "2023-12-04T20:20:55.192Z"
   },
   {
    "duration": 1170,
    "start_time": "2023-12-04T20:22:25.993Z"
   },
   {
    "duration": 1448,
    "start_time": "2023-12-04T20:22:36.188Z"
   },
   {
    "duration": 2091,
    "start_time": "2023-12-04T20:23:05.128Z"
   },
   {
    "duration": 90,
    "start_time": "2023-12-04T20:23:59.137Z"
   },
   {
    "duration": 481,
    "start_time": "2023-12-04T20:24:44.310Z"
   },
   {
    "duration": 479,
    "start_time": "2023-12-04T20:25:49.173Z"
   },
   {
    "duration": 10,
    "start_time": "2023-12-04T20:26:55.888Z"
   },
   {
    "duration": 11,
    "start_time": "2023-12-04T20:27:03.489Z"
   },
   {
    "duration": 450,
    "start_time": "2023-12-04T20:28:05.200Z"
   },
   {
    "duration": 495,
    "start_time": "2023-12-04T20:28:22.615Z"
   },
   {
    "duration": 486,
    "start_time": "2023-12-04T20:28:33.782Z"
   },
   {
    "duration": 35,
    "start_time": "2023-12-04T20:29:28.579Z"
   },
   {
    "duration": 14,
    "start_time": "2023-12-04T20:29:40.994Z"
   },
   {
    "duration": 11,
    "start_time": "2023-12-04T20:29:47.851Z"
   },
   {
    "duration": 26,
    "start_time": "2023-12-04T20:30:03.150Z"
   },
   {
    "duration": 59,
    "start_time": "2023-12-04T20:30:14.778Z"
   },
   {
    "duration": 51,
    "start_time": "2023-12-04T20:30:31.554Z"
   },
   {
    "duration": 30,
    "start_time": "2023-12-04T20:30:39.166Z"
   },
   {
    "duration": 12,
    "start_time": "2023-12-04T20:30:44.718Z"
   },
   {
    "duration": 22,
    "start_time": "2023-12-04T20:30:50.856Z"
   },
   {
    "duration": 156,
    "start_time": "2023-12-04T20:32:24.432Z"
   },
   {
    "duration": 524,
    "start_time": "2023-12-04T20:32:52.946Z"
   },
   {
    "duration": 17,
    "start_time": "2023-12-04T20:33:08.270Z"
   },
   {
    "duration": 33,
    "start_time": "2023-12-04T20:34:06.675Z"
   },
   {
    "duration": 29,
    "start_time": "2023-12-04T20:34:16.043Z"
   },
   {
    "duration": 16,
    "start_time": "2023-12-04T20:34:42.313Z"
   },
   {
    "duration": 9,
    "start_time": "2023-12-04T20:35:44.311Z"
   },
   {
    "duration": 13,
    "start_time": "2023-12-04T20:35:48.902Z"
   },
   {
    "duration": 12,
    "start_time": "2023-12-04T20:35:59.943Z"
   },
   {
    "duration": 41,
    "start_time": "2023-12-04T20:36:10.576Z"
   },
   {
    "duration": 36,
    "start_time": "2023-12-04T20:36:33.618Z"
   },
   {
    "duration": 142,
    "start_time": "2023-12-04T20:40:48.777Z"
   },
   {
    "duration": 158,
    "start_time": "2023-12-04T20:41:06.235Z"
   },
   {
    "duration": 542,
    "start_time": "2023-12-04T20:41:54.161Z"
   },
   {
    "duration": 580,
    "start_time": "2023-12-04T20:43:26.834Z"
   },
   {
    "duration": 300,
    "start_time": "2023-12-04T20:44:00.517Z"
   },
   {
    "duration": 35,
    "start_time": "2023-12-04T20:44:30.558Z"
   },
   {
    "duration": 41,
    "start_time": "2023-12-04T20:45:09.885Z"
   },
   {
    "duration": 31,
    "start_time": "2023-12-04T20:45:40.431Z"
   },
   {
    "duration": 8,
    "start_time": "2023-12-04T20:45:58.385Z"
   },
   {
    "duration": 26,
    "start_time": "2023-12-04T20:46:12.312Z"
   },
   {
    "duration": 94,
    "start_time": "2023-12-04T20:46:13.462Z"
   },
   {
    "duration": 436,
    "start_time": "2023-12-04T20:46:41.165Z"
   },
   {
    "duration": 3,
    "start_time": "2023-12-04T20:47:23.890Z"
   },
   {
    "duration": 514,
    "start_time": "2023-12-04T20:47:27.572Z"
   },
   {
    "duration": 491,
    "start_time": "2023-12-04T20:48:12.155Z"
   },
   {
    "duration": 391,
    "start_time": "2023-12-04T20:48:23.750Z"
   },
   {
    "duration": 31,
    "start_time": "2023-12-04T20:48:40.535Z"
   },
   {
    "duration": 31,
    "start_time": "2023-12-04T20:49:11.399Z"
   },
   {
    "duration": 13,
    "start_time": "2023-12-04T20:49:38.034Z"
   },
   {
    "duration": 48,
    "start_time": "2023-12-04T20:49:54.355Z"
   },
   {
    "duration": 26,
    "start_time": "2023-12-04T20:50:07.511Z"
   },
   {
    "duration": 27,
    "start_time": "2023-12-04T20:50:41.316Z"
   },
   {
    "duration": 30,
    "start_time": "2023-12-04T20:50:49.406Z"
   },
   {
    "duration": 31,
    "start_time": "2023-12-04T20:51:11.799Z"
   },
   {
    "duration": 169,
    "start_time": "2023-12-04T20:52:07.193Z"
   },
   {
    "duration": 183,
    "start_time": "2023-12-04T20:52:13.483Z"
   },
   {
    "duration": 224,
    "start_time": "2023-12-04T20:52:42.270Z"
   },
   {
    "duration": 30,
    "start_time": "2023-12-04T20:53:12.507Z"
   },
   {
    "duration": 514,
    "start_time": "2023-12-04T20:54:13.212Z"
   },
   {
    "duration": 27,
    "start_time": "2023-12-04T20:54:50.297Z"
   },
   {
    "duration": 38,
    "start_time": "2023-12-04T20:55:20.118Z"
   },
   {
    "duration": 12,
    "start_time": "2023-12-04T20:55:37.844Z"
   },
   {
    "duration": 55,
    "start_time": "2023-12-04T20:55:56.306Z"
   },
   {
    "duration": 35,
    "start_time": "2023-12-04T20:56:19.886Z"
   },
   {
    "duration": 403,
    "start_time": "2023-12-04T20:56:22.090Z"
   },
   {
    "duration": 396,
    "start_time": "2023-12-04T20:57:29.444Z"
   },
   {
    "duration": 2,
    "start_time": "2023-12-04T20:58:59.291Z"
   },
   {
    "duration": 403,
    "start_time": "2023-12-04T20:59:25.119Z"
   },
   {
    "duration": 412,
    "start_time": "2023-12-04T20:59:30.923Z"
   },
   {
    "duration": 387,
    "start_time": "2023-12-04T20:59:40.621Z"
   },
   {
    "duration": 408,
    "start_time": "2023-12-04T20:59:54.429Z"
   },
   {
    "duration": 25,
    "start_time": "2023-12-04T21:00:23.060Z"
   },
   {
    "duration": 26,
    "start_time": "2023-12-04T21:00:42.525Z"
   },
   {
    "duration": 30,
    "start_time": "2023-12-04T21:01:10.318Z"
   },
   {
    "duration": 364,
    "start_time": "2023-12-04T21:01:48.032Z"
   },
   {
    "duration": 351,
    "start_time": "2023-12-04T21:04:16.007Z"
   },
   {
    "duration": 67,
    "start_time": "2023-12-04T21:04:47.334Z"
   },
   {
    "duration": 28,
    "start_time": "2023-12-04T21:05:01.661Z"
   },
   {
    "duration": 26,
    "start_time": "2023-12-04T21:05:26.634Z"
   },
   {
    "duration": 29,
    "start_time": "2023-12-04T21:05:45.076Z"
   },
   {
    "duration": 24,
    "start_time": "2023-12-04T21:06:03.685Z"
   },
   {
    "duration": 53,
    "start_time": "2023-12-04T21:06:18.405Z"
   },
   {
    "duration": 39,
    "start_time": "2023-12-04T21:06:28.421Z"
   },
   {
    "duration": 361,
    "start_time": "2023-12-04T21:06:39.752Z"
   },
   {
    "duration": 150,
    "start_time": "2023-12-04T21:07:03.697Z"
   },
   {
    "duration": 403,
    "start_time": "2023-12-04T21:07:17.402Z"
   },
   {
    "duration": 364,
    "start_time": "2023-12-04T21:07:25.491Z"
   },
   {
    "duration": 330,
    "start_time": "2023-12-04T21:07:34.585Z"
   },
   {
    "duration": 360,
    "start_time": "2023-12-04T21:07:41.725Z"
   },
   {
    "duration": 33,
    "start_time": "2023-12-04T21:08:18.310Z"
   },
   {
    "duration": 183,
    "start_time": "2023-12-04T21:08:52.992Z"
   },
   {
    "duration": 221,
    "start_time": "2023-12-04T21:08:59.261Z"
   },
   {
    "duration": 238,
    "start_time": "2023-12-04T21:09:06.092Z"
   },
   {
    "duration": 30,
    "start_time": "2023-12-04T21:09:27.277Z"
   },
   {
    "duration": 74,
    "start_time": "2023-12-04T21:09:30.501Z"
   },
   {
    "duration": 28,
    "start_time": "2023-12-04T21:09:33.570Z"
   },
   {
    "duration": 27,
    "start_time": "2023-12-04T21:09:53.766Z"
   },
   {
    "duration": 29,
    "start_time": "2023-12-04T21:11:55.669Z"
   },
   {
    "duration": 249,
    "start_time": "2023-12-04T21:12:10.434Z"
   },
   {
    "duration": 263,
    "start_time": "2023-12-04T21:12:55.305Z"
   },
   {
    "duration": 988,
    "start_time": "2023-12-04T21:13:02.429Z"
   },
   {
    "duration": 820,
    "start_time": "2023-12-04T21:13:23.661Z"
   },
   {
    "duration": 1076,
    "start_time": "2023-12-04T21:13:51.137Z"
   },
   {
    "duration": 845,
    "start_time": "2023-12-04T21:14:16.984Z"
   },
   {
    "duration": 1063,
    "start_time": "2023-12-04T21:14:26.401Z"
   },
   {
    "duration": 863,
    "start_time": "2023-12-04T21:14:34.024Z"
   },
   {
    "duration": 398,
    "start_time": "2023-12-04T21:14:40.356Z"
   },
   {
    "duration": 29,
    "start_time": "2023-12-04T21:15:22.029Z"
   },
   {
    "duration": 51,
    "start_time": "2023-12-04T21:15:54.373Z"
   },
   {
    "duration": 55,
    "start_time": "2023-12-04T21:16:05.907Z"
   },
   {
    "duration": 56,
    "start_time": "2023-12-04T21:16:15.419Z"
   },
   {
    "duration": 58,
    "start_time": "2023-12-04T21:16:21.912Z"
   },
   {
    "duration": 55,
    "start_time": "2023-12-04T21:16:29.905Z"
   },
   {
    "duration": 55,
    "start_time": "2023-12-04T21:16:37.741Z"
   },
   {
    "duration": 37,
    "start_time": "2023-12-04T21:16:49.204Z"
   },
   {
    "duration": 4,
    "start_time": "2023-12-04T21:17:03.954Z"
   },
   {
    "duration": 28,
    "start_time": "2023-12-04T21:29:39.223Z"
   },
   {
    "duration": 328,
    "start_time": "2023-12-04T21:30:20.381Z"
   },
   {
    "duration": 26,
    "start_time": "2023-12-04T21:31:31.520Z"
   },
   {
    "duration": 4,
    "start_time": "2023-12-04T21:32:44.050Z"
   },
   {
    "duration": 5,
    "start_time": "2023-12-04T21:32:51.519Z"
   },
   {
    "duration": 7,
    "start_time": "2023-12-04T21:33:10.239Z"
   },
   {
    "duration": 249,
    "start_time": "2023-12-04T21:33:14.418Z"
   },
   {
    "duration": 247,
    "start_time": "2023-12-04T21:33:22.246Z"
   },
   {
    "duration": 17,
    "start_time": "2023-12-04T21:34:57.812Z"
   },
   {
    "duration": 93,
    "start_time": "2023-12-04T21:35:09.461Z"
   },
   {
    "duration": 111,
    "start_time": "2023-12-04T21:35:37.613Z"
   },
   {
    "duration": 178,
    "start_time": "2023-12-04T21:36:40.802Z"
   },
   {
    "duration": 176,
    "start_time": "2023-12-04T21:36:55.641Z"
   },
   {
    "duration": 185,
    "start_time": "2023-12-04T21:37:38.490Z"
   },
   {
    "duration": 98,
    "start_time": "2023-12-04T21:38:07.893Z"
   },
   {
    "duration": 78,
    "start_time": "2023-12-04T21:38:13.841Z"
   },
   {
    "duration": 5,
    "start_time": "2023-12-04T22:00:29.619Z"
   },
   {
    "duration": 4,
    "start_time": "2023-12-04T22:01:15.104Z"
   },
   {
    "duration": 614,
    "start_time": "2023-12-04T22:23:19.635Z"
   },
   {
    "duration": 1032,
    "start_time": "2023-12-04T22:23:20.251Z"
   },
   {
    "duration": 106,
    "start_time": "2023-12-04T22:23:21.287Z"
   },
   {
    "duration": 23,
    "start_time": "2023-12-04T22:23:21.394Z"
   },
   {
    "duration": 327,
    "start_time": "2023-12-04T22:23:21.419Z"
   },
   {
    "duration": 104,
    "start_time": "2023-12-04T22:23:21.747Z"
   },
   {
    "duration": 150,
    "start_time": "2023-12-04T22:23:21.853Z"
   },
   {
    "duration": 138,
    "start_time": "2023-12-04T22:23:22.005Z"
   },
   {
    "duration": 3,
    "start_time": "2023-12-04T22:23:22.145Z"
   },
   {
    "duration": 2163,
    "start_time": "2023-12-04T22:23:22.150Z"
   },
   {
    "duration": 415,
    "start_time": "2023-12-04T22:23:24.314Z"
   },
   {
    "duration": 486,
    "start_time": "2023-12-04T22:23:24.731Z"
   },
   {
    "duration": 36,
    "start_time": "2023-12-04T22:23:25.219Z"
   },
   {
    "duration": 391,
    "start_time": "2023-12-04T22:23:25.256Z"
   },
   {
    "duration": 43,
    "start_time": "2023-12-04T22:23:25.649Z"
   },
   {
    "duration": 398,
    "start_time": "2023-12-04T22:23:25.694Z"
   },
   {
    "duration": 376,
    "start_time": "2023-12-04T22:23:26.093Z"
   },
   {
    "duration": 41,
    "start_time": "2023-12-04T22:23:26.475Z"
   },
   {
    "duration": 4,
    "start_time": "2023-12-04T22:23:26.517Z"
   },
   {
    "duration": 367,
    "start_time": "2023-12-04T22:23:26.522Z"
   },
   {
    "duration": 88,
    "start_time": "2023-12-04T22:23:26.891Z"
   },
   {
    "duration": 11,
    "start_time": "2023-12-04T22:23:26.980Z"
   },
   {
    "duration": 8,
    "start_time": "2023-12-04T22:25:59.081Z"
   },
   {
    "duration": 3,
    "start_time": "2023-12-04T22:26:53.062Z"
   },
   {
    "duration": 5,
    "start_time": "2023-12-04T22:27:05.024Z"
   },
   {
    "duration": 5,
    "start_time": "2023-12-04T22:27:41.142Z"
   },
   {
    "duration": 7,
    "start_time": "2023-12-04T22:28:05.543Z"
   },
   {
    "duration": 7,
    "start_time": "2023-12-04T22:28:09.484Z"
   },
   {
    "duration": 5,
    "start_time": "2023-12-04T22:28:52.246Z"
   },
   {
    "duration": 82,
    "start_time": "2023-12-04T22:40:34.036Z"
   },
   {
    "duration": 14,
    "start_time": "2023-12-04T22:40:38.170Z"
   },
   {
    "duration": 5,
    "start_time": "2023-12-04T22:40:44.898Z"
   },
   {
    "duration": 5,
    "start_time": "2023-12-04T22:41:05.798Z"
   },
   {
    "duration": 4,
    "start_time": "2023-12-04T22:41:15.040Z"
   },
   {
    "duration": 4,
    "start_time": "2023-12-04T22:42:01.954Z"
   },
   {
    "duration": 6,
    "start_time": "2023-12-04T22:43:05.745Z"
   },
   {
    "duration": 6,
    "start_time": "2023-12-04T22:43:24.555Z"
   },
   {
    "duration": 6,
    "start_time": "2023-12-04T22:46:09.081Z"
   },
   {
    "duration": 5,
    "start_time": "2023-12-04T22:46:13.333Z"
   },
   {
    "duration": 6,
    "start_time": "2023-12-04T22:46:19.906Z"
   },
   {
    "duration": 5,
    "start_time": "2023-12-04T22:46:22.931Z"
   },
   {
    "duration": 5,
    "start_time": "2023-12-04T22:54:28.807Z"
   },
   {
    "duration": 6,
    "start_time": "2023-12-04T22:54:39.466Z"
   },
   {
    "duration": 6,
    "start_time": "2023-12-04T22:55:00.865Z"
   },
   {
    "duration": 5,
    "start_time": "2023-12-04T22:55:07.878Z"
   },
   {
    "duration": 5,
    "start_time": "2023-12-04T22:55:52.020Z"
   },
   {
    "duration": 3,
    "start_time": "2023-12-04T22:56:14.236Z"
   },
   {
    "duration": 4,
    "start_time": "2023-12-04T22:56:25.429Z"
   },
   {
    "duration": 29,
    "start_time": "2023-12-04T22:56:47.994Z"
   },
   {
    "duration": 632,
    "start_time": "2023-12-04T22:58:30.322Z"
   },
   {
    "duration": 985,
    "start_time": "2023-12-04T22:58:30.956Z"
   },
   {
    "duration": 97,
    "start_time": "2023-12-04T22:58:31.943Z"
   },
   {
    "duration": 31,
    "start_time": "2023-12-04T22:58:32.042Z"
   },
   {
    "duration": 8,
    "start_time": "2023-12-04T22:58:32.075Z"
   },
   {
    "duration": 332,
    "start_time": "2023-12-04T22:58:32.085Z"
   },
   {
    "duration": 97,
    "start_time": "2023-12-04T22:58:32.419Z"
   },
   {
    "duration": 136,
    "start_time": "2023-12-04T22:58:32.517Z"
   },
   {
    "duration": 133,
    "start_time": "2023-12-04T22:58:32.654Z"
   },
   {
    "duration": 4,
    "start_time": "2023-12-04T22:58:32.789Z"
   },
   {
    "duration": 1972,
    "start_time": "2023-12-04T22:58:32.794Z"
   },
   {
    "duration": 393,
    "start_time": "2023-12-04T22:58:34.767Z"
   },
   {
    "duration": 426,
    "start_time": "2023-12-04T22:58:35.162Z"
   },
   {
    "duration": 37,
    "start_time": "2023-12-04T22:58:35.590Z"
   },
   {
    "duration": 370,
    "start_time": "2023-12-04T22:58:35.628Z"
   },
   {
    "duration": 35,
    "start_time": "2023-12-04T22:58:36.000Z"
   },
   {
    "duration": 369,
    "start_time": "2023-12-04T22:58:36.036Z"
   },
   {
    "duration": 352,
    "start_time": "2023-12-04T22:58:36.407Z"
   },
   {
    "duration": 40,
    "start_time": "2023-12-04T22:58:36.761Z"
   },
   {
    "duration": 3,
    "start_time": "2023-12-04T22:58:36.803Z"
   },
   {
    "duration": 349,
    "start_time": "2023-12-04T22:58:36.807Z"
   },
   {
    "duration": 81,
    "start_time": "2023-12-04T22:58:37.157Z"
   },
   {
    "duration": 26,
    "start_time": "2023-12-04T23:08:40.635Z"
   },
   {
    "duration": 29,
    "start_time": "2023-12-04T23:08:50.923Z"
   },
   {
    "duration": 30,
    "start_time": "2023-12-04T23:10:13.162Z"
   },
   {
    "duration": 73,
    "start_time": "2023-12-04T23:11:48.540Z"
   },
   {
    "duration": 21,
    "start_time": "2023-12-04T23:37:18.073Z"
   },
   {
    "duration": 21,
    "start_time": "2023-12-04T23:37:35.008Z"
   },
   {
    "duration": 19,
    "start_time": "2023-12-04T23:38:12.602Z"
   },
   {
    "duration": 18,
    "start_time": "2023-12-04T23:38:42.949Z"
   },
   {
    "duration": 83,
    "start_time": "2023-12-04T23:38:51.232Z"
   },
   {
    "duration": 22,
    "start_time": "2023-12-04T23:39:07.969Z"
   },
   {
    "duration": 20,
    "start_time": "2023-12-04T23:40:13.114Z"
   },
   {
    "duration": 18,
    "start_time": "2023-12-04T23:40:20.908Z"
   },
   {
    "duration": 22,
    "start_time": "2023-12-04T23:40:24.441Z"
   },
   {
    "duration": 17,
    "start_time": "2023-12-04T23:41:08.695Z"
   },
   {
    "duration": 19,
    "start_time": "2023-12-04T23:41:35.798Z"
   },
   {
    "duration": 120,
    "start_time": "2023-12-04T23:41:53.762Z"
   },
   {
    "duration": 65,
    "start_time": "2023-12-04T23:42:05.359Z"
   },
   {
    "duration": 17,
    "start_time": "2023-12-04T23:42:16.208Z"
   },
   {
    "duration": 19,
    "start_time": "2023-12-04T23:42:28.866Z"
   },
   {
    "duration": 19,
    "start_time": "2023-12-04T23:42:31.985Z"
   },
   {
    "duration": 19,
    "start_time": "2023-12-04T23:42:50.170Z"
   },
   {
    "duration": 2,
    "start_time": "2023-12-04T23:43:28.366Z"
   },
   {
    "duration": 20,
    "start_time": "2023-12-04T23:43:48.173Z"
   },
   {
    "duration": 20,
    "start_time": "2023-12-04T23:43:57.128Z"
   },
   {
    "duration": 84,
    "start_time": "2023-12-04T23:45:58.288Z"
   },
   {
    "duration": 27,
    "start_time": "2023-12-04T23:46:18.705Z"
   },
   {
    "duration": 346,
    "start_time": "2023-12-04T23:47:49.685Z"
   },
   {
    "duration": 89,
    "start_time": "2023-12-04T23:48:19.479Z"
   },
   {
    "duration": 44,
    "start_time": "2023-12-04T23:48:52.667Z"
   },
   {
    "duration": 28,
    "start_time": "2023-12-04T23:49:15.777Z"
   },
   {
    "duration": 8,
    "start_time": "2023-12-04T23:49:43.452Z"
   },
   {
    "duration": 12,
    "start_time": "2023-12-04T23:49:59.158Z"
   },
   {
    "duration": 32,
    "start_time": "2023-12-04T23:50:25.854Z"
   },
   {
    "duration": 31,
    "start_time": "2023-12-04T23:50:36.111Z"
   },
   {
    "duration": 36,
    "start_time": "2023-12-04T23:51:55.176Z"
   },
   {
    "duration": 787,
    "start_time": "2023-12-05T14:59:53.484Z"
   },
   {
    "duration": 1348,
    "start_time": "2023-12-05T14:59:54.273Z"
   },
   {
    "duration": 114,
    "start_time": "2023-12-05T14:59:55.623Z"
   },
   {
    "duration": 40,
    "start_time": "2023-12-05T14:59:55.739Z"
   },
   {
    "duration": 6,
    "start_time": "2023-12-05T14:59:55.782Z"
   },
   {
    "duration": 375,
    "start_time": "2023-12-05T14:59:55.790Z"
   },
   {
    "duration": 110,
    "start_time": "2023-12-05T14:59:56.166Z"
   },
   {
    "duration": 145,
    "start_time": "2023-12-05T14:59:56.278Z"
   },
   {
    "duration": 140,
    "start_time": "2023-12-05T14:59:56.425Z"
   },
   {
    "duration": 4,
    "start_time": "2023-12-05T14:59:56.567Z"
   },
   {
    "duration": 2255,
    "start_time": "2023-12-05T14:59:56.572Z"
   },
   {
    "duration": 455,
    "start_time": "2023-12-05T14:59:58.828Z"
   },
   {
    "duration": 516,
    "start_time": "2023-12-05T14:59:59.285Z"
   },
   {
    "duration": 53,
    "start_time": "2023-12-05T14:59:59.803Z"
   },
   {
    "duration": 453,
    "start_time": "2023-12-05T14:59:59.858Z"
   },
   {
    "duration": 45,
    "start_time": "2023-12-05T15:00:00.313Z"
   },
   {
    "duration": 414,
    "start_time": "2023-12-05T15:00:00.360Z"
   },
   {
    "duration": 410,
    "start_time": "2023-12-05T15:00:00.776Z"
   },
   {
    "duration": 34,
    "start_time": "2023-12-05T15:00:01.187Z"
   },
   {
    "duration": 106,
    "start_time": "2023-12-05T15:00:01.223Z"
   },
   {
    "duration": 38,
    "start_time": "2023-12-05T15:00:01.330Z"
   },
   {
    "duration": 28,
    "start_time": "2023-12-05T15:00:01.370Z"
   },
   {
    "duration": 476,
    "start_time": "2023-12-05T15:00:01.400Z"
   },
   {
    "duration": 98,
    "start_time": "2023-12-05T15:00:01.878Z"
   },
   {
    "duration": 19,
    "start_time": "2023-12-05T15:00:01.978Z"
   },
   {
    "duration": 71,
    "start_time": "2023-12-05T15:00:01.999Z"
   },
   {
    "duration": 59,
    "start_time": "2023-12-05T15:00:02.072Z"
   },
   {
    "duration": 85,
    "start_time": "2023-12-05T15:00:02.133Z"
   },
   {
    "duration": 55,
    "start_time": "2023-12-05T15:00:02.220Z"
   },
   {
    "duration": 105,
    "start_time": "2023-12-05T15:02:50.487Z"
   },
   {
    "duration": 23,
    "start_time": "2023-12-05T15:02:53.860Z"
   },
   {
    "duration": 93,
    "start_time": "2023-12-05T15:07:47.462Z"
   },
   {
    "duration": 172,
    "start_time": "2023-12-05T15:07:58.690Z"
   },
   {
    "duration": 100,
    "start_time": "2023-12-05T15:08:06.502Z"
   },
   {
    "duration": 108,
    "start_time": "2023-12-05T15:08:18.260Z"
   },
   {
    "duration": 413,
    "start_time": "2023-12-05T15:08:57.480Z"
   },
   {
    "duration": 2131,
    "start_time": "2023-12-05T15:09:53.027Z"
   },
   {
    "duration": 1127,
    "start_time": "2023-12-05T15:10:13.482Z"
   },
   {
    "duration": 2218,
    "start_time": "2023-12-05T15:10:44.522Z"
   },
   {
    "duration": 2267,
    "start_time": "2023-12-05T15:11:07.342Z"
   },
   {
    "duration": 946,
    "start_time": "2023-12-05T15:11:45.475Z"
   },
   {
    "duration": 942,
    "start_time": "2023-12-05T15:11:49.664Z"
   },
   {
    "duration": 2192,
    "start_time": "2023-12-05T15:12:09.431Z"
   },
   {
    "duration": 2200,
    "start_time": "2023-12-05T15:12:20.500Z"
   },
   {
    "duration": 2346,
    "start_time": "2023-12-05T15:12:32.617Z"
   },
   {
    "duration": 2096,
    "start_time": "2023-12-05T15:12:44.226Z"
   },
   {
    "duration": 2131,
    "start_time": "2023-12-05T15:16:08.841Z"
   },
   {
    "duration": 2181,
    "start_time": "2023-12-05T15:16:15.985Z"
   },
   {
    "duration": 2227,
    "start_time": "2023-12-05T15:17:52.076Z"
   },
   {
    "duration": 8,
    "start_time": "2023-12-05T15:18:29.460Z"
   },
   {
    "duration": 7,
    "start_time": "2023-12-05T15:18:36.744Z"
   },
   {
    "duration": 9,
    "start_time": "2023-12-05T15:19:46.772Z"
   },
   {
    "duration": 48108,
    "start_time": "2023-12-05T15:20:29.758Z"
   },
   {
    "duration": 2102,
    "start_time": "2023-12-05T15:22:05.783Z"
   },
   {
    "duration": 2121,
    "start_time": "2023-12-05T15:22:18.723Z"
   },
   {
    "duration": 2139,
    "start_time": "2023-12-05T15:22:28.751Z"
   },
   {
    "duration": 2262,
    "start_time": "2023-12-05T15:22:41.861Z"
   },
   {
    "duration": 2236,
    "start_time": "2023-12-05T15:22:46.062Z"
   },
   {
    "duration": 2105,
    "start_time": "2023-12-05T15:23:21.330Z"
   },
   {
    "duration": 2086,
    "start_time": "2023-12-05T15:23:28.532Z"
   },
   {
    "duration": 1960,
    "start_time": "2023-12-05T15:23:41.733Z"
   },
   {
    "duration": 2287,
    "start_time": "2023-12-05T15:23:48.559Z"
   },
   {
    "duration": 2254,
    "start_time": "2023-12-05T15:24:00.207Z"
   },
   {
    "duration": 2269,
    "start_time": "2023-12-05T15:24:08.087Z"
   },
   {
    "duration": 2375,
    "start_time": "2023-12-05T15:24:16.653Z"
   },
   {
    "duration": 75,
    "start_time": "2023-12-05T15:24:48.268Z"
   },
   {
    "duration": 9,
    "start_time": "2023-12-05T15:25:56.928Z"
   },
   {
    "duration": 381,
    "start_time": "2023-12-05T15:26:01.985Z"
   },
   {
    "duration": 656,
    "start_time": "2023-12-05T15:26:39.262Z"
   },
   {
    "duration": 2345,
    "start_time": "2023-12-05T15:27:13.099Z"
   },
   {
    "duration": 668,
    "start_time": "2023-12-05T15:30:24.099Z"
   },
   {
    "duration": 641,
    "start_time": "2023-12-05T15:30:54.955Z"
   },
   {
    "duration": 630,
    "start_time": "2023-12-05T15:34:09.819Z"
   },
   {
    "duration": 702,
    "start_time": "2023-12-05T15:34:26.862Z"
   },
   {
    "duration": 655,
    "start_time": "2023-12-05T15:34:44.539Z"
   },
   {
    "duration": 577,
    "start_time": "2023-12-05T15:35:21.284Z"
   },
   {
    "duration": 610,
    "start_time": "2023-12-05T15:35:29.647Z"
   },
   {
    "duration": 643,
    "start_time": "2023-12-05T15:35:32.954Z"
   },
   {
    "duration": 638,
    "start_time": "2023-12-05T15:36:19.154Z"
   },
   {
    "duration": 675,
    "start_time": "2023-12-05T15:36:26.720Z"
   },
   {
    "duration": 711,
    "start_time": "2023-12-05T15:36:39.566Z"
   },
   {
    "duration": 743,
    "start_time": "2023-12-05T15:38:39.160Z"
   },
   {
    "duration": 754,
    "start_time": "2023-12-05T15:38:57.441Z"
   },
   {
    "duration": 750,
    "start_time": "2023-12-05T15:39:07.671Z"
   },
   {
    "duration": 691,
    "start_time": "2023-12-05T15:39:27.502Z"
   },
   {
    "duration": 773,
    "start_time": "2023-12-05T15:39:54.942Z"
   },
   {
    "duration": 882,
    "start_time": "2023-12-05T15:40:06.320Z"
   },
   {
    "duration": 700,
    "start_time": "2023-12-05T15:40:11.695Z"
   },
   {
    "duration": 736,
    "start_time": "2023-12-05T15:40:33.661Z"
   },
   {
    "duration": 730,
    "start_time": "2023-12-05T15:40:41.457Z"
   },
   {
    "duration": 712,
    "start_time": "2023-12-05T15:40:48.885Z"
   },
   {
    "duration": 292,
    "start_time": "2023-12-05T15:51:46.143Z"
   },
   {
    "duration": 315,
    "start_time": "2023-12-05T15:52:43.788Z"
   },
   {
    "duration": 292,
    "start_time": "2023-12-05T15:52:51.892Z"
   },
   {
    "duration": 4,
    "start_time": "2023-12-05T15:58:11.324Z"
   },
   {
    "duration": 24,
    "start_time": "2023-12-05T16:00:35.679Z"
   },
   {
    "duration": 125,
    "start_time": "2023-12-05T16:00:44.695Z"
   },
   {
    "duration": 147,
    "start_time": "2023-12-05T16:00:59.343Z"
   },
   {
    "duration": 136,
    "start_time": "2023-12-05T16:01:51.352Z"
   },
   {
    "duration": 5,
    "start_time": "2023-12-05T16:03:08.847Z"
   },
   {
    "duration": 51,
    "start_time": "2023-12-05T16:03:22.353Z"
   },
   {
    "duration": 22,
    "start_time": "2023-12-05T16:03:50.490Z"
   },
   {
    "duration": 4,
    "start_time": "2023-12-05T16:06:49.607Z"
   },
   {
    "duration": 3,
    "start_time": "2023-12-05T16:10:04.645Z"
   },
   {
    "duration": 8,
    "start_time": "2023-12-05T16:10:35.640Z"
   },
   {
    "duration": 532,
    "start_time": "2023-12-05T16:10:42.431Z"
   },
   {
    "duration": 3,
    "start_time": "2023-12-05T16:11:01.045Z"
   },
   {
    "duration": 499,
    "start_time": "2023-12-05T16:11:02.875Z"
   },
   {
    "duration": 29,
    "start_time": "2023-12-05T16:12:22.233Z"
   },
   {
    "duration": 25,
    "start_time": "2023-12-05T16:12:43.250Z"
   },
   {
    "duration": 27,
    "start_time": "2023-12-05T16:13:31.124Z"
   },
   {
    "duration": 29,
    "start_time": "2023-12-05T16:16:45.307Z"
   },
   {
    "duration": 28,
    "start_time": "2023-12-05T16:17:11.170Z"
   },
   {
    "duration": 39,
    "start_time": "2023-12-05T16:18:00.195Z"
   },
   {
    "duration": 35,
    "start_time": "2023-12-05T16:18:37.671Z"
   },
   {
    "duration": 646,
    "start_time": "2023-12-05T16:19:04.363Z"
   },
   {
    "duration": 1063,
    "start_time": "2023-12-05T16:19:05.011Z"
   },
   {
    "duration": 122,
    "start_time": "2023-12-05T16:19:06.076Z"
   },
   {
    "duration": 25,
    "start_time": "2023-12-05T16:19:06.200Z"
   },
   {
    "duration": 422,
    "start_time": "2023-12-05T16:19:06.227Z"
   },
   {
    "duration": 2312,
    "start_time": "2023-12-05T16:19:06.650Z"
   },
   {
    "duration": 80,
    "start_time": "2023-12-05T16:19:08.964Z"
   },
   {
    "duration": 1002,
    "start_time": "2023-12-05T16:19:09.046Z"
   },
   {
    "duration": 4,
    "start_time": "2023-12-05T16:19:10.049Z"
   },
   {
    "duration": 213,
    "start_time": "2023-12-05T16:19:10.055Z"
   },
   {
    "duration": 616,
    "start_time": "2023-12-05T16:19:10.270Z"
   },
   {
    "duration": 401,
    "start_time": "2023-12-05T16:19:10.888Z"
   },
   {
    "duration": 140,
    "start_time": "2023-12-05T16:19:11.291Z"
   },
   {
    "duration": 8,
    "start_time": "2023-12-05T16:19:11.434Z"
   },
   {
    "duration": 34,
    "start_time": "2023-12-05T16:19:11.444Z"
   },
   {
    "duration": 518,
    "start_time": "2023-12-05T16:19:11.480Z"
   },
   {
    "duration": 35,
    "start_time": "2023-12-05T16:19:17.323Z"
   },
   {
    "duration": 481,
    "start_time": "2023-12-05T16:19:39.055Z"
   },
   {
    "duration": 704,
    "start_time": "2023-12-05T16:20:12.650Z"
   },
   {
    "duration": 434,
    "start_time": "2023-12-05T16:20:53.133Z"
   },
   {
    "duration": 25,
    "start_time": "2023-12-05T16:21:43.612Z"
   },
   {
    "duration": 24,
    "start_time": "2023-12-05T16:21:47.083Z"
   },
   {
    "duration": 25,
    "start_time": "2023-12-05T16:21:53.118Z"
   },
   {
    "duration": 24,
    "start_time": "2023-12-05T16:22:22.436Z"
   },
   {
    "duration": 9,
    "start_time": "2023-12-05T16:23:32.690Z"
   },
   {
    "duration": 37,
    "start_time": "2023-12-05T16:23:53.439Z"
   },
   {
    "duration": 475,
    "start_time": "2023-12-05T16:25:16.848Z"
   },
   {
    "duration": 43,
    "start_time": "2023-12-05T16:32:26.863Z"
   },
   {
    "duration": 22,
    "start_time": "2023-12-05T16:32:39.717Z"
   },
   {
    "duration": 618,
    "start_time": "2023-12-05T16:33:07.886Z"
   },
   {
    "duration": 1073,
    "start_time": "2023-12-05T16:33:08.506Z"
   },
   {
    "duration": 109,
    "start_time": "2023-12-05T16:33:09.581Z"
   },
   {
    "duration": 29,
    "start_time": "2023-12-05T16:33:09.692Z"
   },
   {
    "duration": 453,
    "start_time": "2023-12-05T16:33:09.723Z"
   },
   {
    "duration": 2408,
    "start_time": "2023-12-05T16:33:10.178Z"
   },
   {
    "duration": 78,
    "start_time": "2023-12-05T16:33:12.588Z"
   },
   {
    "duration": 760,
    "start_time": "2023-12-05T16:33:12.668Z"
   },
   {
    "duration": 4,
    "start_time": "2023-12-05T16:33:13.430Z"
   },
   {
    "duration": 104,
    "start_time": "2023-12-05T16:33:13.442Z"
   },
   {
    "duration": 306,
    "start_time": "2023-12-05T16:33:13.547Z"
   },
   {
    "duration": 323,
    "start_time": "2023-12-05T16:33:13.855Z"
   },
   {
    "duration": 143,
    "start_time": "2023-12-05T16:33:14.180Z"
   },
   {
    "duration": 47,
    "start_time": "2023-12-05T16:33:14.325Z"
   },
   {
    "duration": 3,
    "start_time": "2023-12-05T16:33:14.374Z"
   },
   {
    "duration": 488,
    "start_time": "2023-12-05T16:33:14.378Z"
   },
   {
    "duration": 74,
    "start_time": "2023-12-05T16:33:14.868Z"
   },
   {
    "duration": 8,
    "start_time": "2023-12-05T16:33:14.944Z"
   },
   {
    "duration": 77,
    "start_time": "2023-12-05T16:33:14.953Z"
   },
   {
    "duration": 34,
    "start_time": "2023-12-05T16:33:15.032Z"
   },
   {
    "duration": 505,
    "start_time": "2023-12-05T16:33:19.351Z"
   },
   {
    "duration": 30,
    "start_time": "2023-12-05T16:44:35.571Z"
   },
   {
    "duration": 11,
    "start_time": "2023-12-05T16:44:46.210Z"
   },
   {
    "duration": 26,
    "start_time": "2023-12-05T16:45:07.040Z"
   },
   {
    "duration": 12,
    "start_time": "2023-12-05T16:45:33.522Z"
   },
   {
    "duration": 10,
    "start_time": "2023-12-05T16:49:11.568Z"
   },
   {
    "duration": 32,
    "start_time": "2023-12-05T16:52:01.346Z"
   },
   {
    "duration": 27,
    "start_time": "2023-12-05T16:52:21.418Z"
   },
   {
    "duration": 639,
    "start_time": "2023-12-05T16:52:33.604Z"
   },
   {
    "duration": 1125,
    "start_time": "2023-12-05T16:52:34.245Z"
   },
   {
    "duration": 115,
    "start_time": "2023-12-05T16:52:35.371Z"
   },
   {
    "duration": 27,
    "start_time": "2023-12-05T16:52:35.487Z"
   },
   {
    "duration": 438,
    "start_time": "2023-12-05T16:52:35.516Z"
   },
   {
    "duration": 3155,
    "start_time": "2023-12-05T16:52:35.955Z"
   },
   {
    "duration": 74,
    "start_time": "2023-12-05T16:52:39.112Z"
   },
   {
    "duration": 758,
    "start_time": "2023-12-05T16:52:39.188Z"
   },
   {
    "duration": 4,
    "start_time": "2023-12-05T16:52:39.947Z"
   },
   {
    "duration": 103,
    "start_time": "2023-12-05T16:52:39.953Z"
   },
   {
    "duration": 311,
    "start_time": "2023-12-05T16:52:40.058Z"
   },
   {
    "duration": 336,
    "start_time": "2023-12-05T16:52:40.371Z"
   },
   {
    "duration": 145,
    "start_time": "2023-12-05T16:52:40.709Z"
   },
   {
    "duration": 44,
    "start_time": "2023-12-05T16:52:40.857Z"
   },
   {
    "duration": 9,
    "start_time": "2023-12-05T16:52:40.903Z"
   },
   {
    "duration": 514,
    "start_time": "2023-12-05T16:52:40.914Z"
   },
   {
    "duration": 78,
    "start_time": "2023-12-05T16:52:41.430Z"
   },
   {
    "duration": 10,
    "start_time": "2023-12-05T16:52:41.510Z"
   },
   {
    "duration": 55,
    "start_time": "2023-12-05T16:52:41.522Z"
   },
   {
    "duration": 479,
    "start_time": "2023-12-05T16:52:41.579Z"
   },
   {
    "duration": 12,
    "start_time": "2023-12-05T16:52:42.060Z"
   },
   {
    "duration": 32,
    "start_time": "2023-12-05T16:52:42.074Z"
   },
   {
    "duration": 20,
    "start_time": "2023-12-05T16:52:42.108Z"
   },
   {
    "duration": 34,
    "start_time": "2023-12-05T16:52:46.564Z"
   },
   {
    "duration": 399,
    "start_time": "2023-12-05T16:53:58.729Z"
   },
   {
    "duration": 27,
    "start_time": "2023-12-05T16:54:24.622Z"
   },
   {
    "duration": 27,
    "start_time": "2023-12-05T16:55:35.440Z"
   },
   {
    "duration": 88,
    "start_time": "2023-12-05T16:55:56.664Z"
   },
   {
    "duration": 127,
    "start_time": "2023-12-05T16:55:59.625Z"
   },
   {
    "duration": 31,
    "start_time": "2023-12-05T16:56:07.667Z"
   },
   {
    "duration": 30,
    "start_time": "2023-12-05T16:56:47.215Z"
   },
   {
    "duration": 28,
    "start_time": "2023-12-05T16:57:24.475Z"
   },
   {
    "duration": 28,
    "start_time": "2023-12-05T16:58:15.577Z"
   },
   {
    "duration": 27,
    "start_time": "2023-12-05T16:58:21.970Z"
   },
   {
    "duration": 26,
    "start_time": "2023-12-05T16:58:42.004Z"
   },
   {
    "duration": 25,
    "start_time": "2023-12-05T16:59:04.814Z"
   },
   {
    "duration": 25,
    "start_time": "2023-12-05T17:00:48.834Z"
   },
   {
    "duration": 31,
    "start_time": "2023-12-05T17:03:00.547Z"
   },
   {
    "duration": 40,
    "start_time": "2023-12-05T17:03:12.558Z"
   },
   {
    "duration": 72,
    "start_time": "2023-12-05T17:05:10.685Z"
   },
   {
    "duration": 98,
    "start_time": "2023-12-05T17:05:16.312Z"
   },
   {
    "duration": 92,
    "start_time": "2023-12-05T17:06:00.822Z"
   },
   {
    "duration": 14,
    "start_time": "2023-12-05T17:06:38.458Z"
   },
   {
    "duration": 19,
    "start_time": "2023-12-05T17:07:16.892Z"
   },
   {
    "duration": 20,
    "start_time": "2023-12-05T17:07:47.196Z"
   },
   {
    "duration": 4,
    "start_time": "2023-12-05T17:07:58.051Z"
   },
   {
    "duration": 99,
    "start_time": "2023-12-05T17:09:53.273Z"
   },
   {
    "duration": 106,
    "start_time": "2023-12-05T17:10:15.768Z"
   },
   {
    "duration": 43,
    "start_time": "2023-12-05T17:10:29.863Z"
   },
   {
    "duration": 97,
    "start_time": "2023-12-05T17:10:31.291Z"
   },
   {
    "duration": 216,
    "start_time": "2023-12-05T17:15:55.963Z"
   },
   {
    "duration": 229,
    "start_time": "2023-12-05T17:16:24.537Z"
   },
   {
    "duration": 95,
    "start_time": "2023-12-05T17:16:36.569Z"
   },
   {
    "duration": 231,
    "start_time": "2023-12-05T17:16:40.911Z"
   },
   {
    "duration": 22,
    "start_time": "2023-12-05T17:17:40.872Z"
   },
   {
    "duration": 91,
    "start_time": "2023-12-05T17:17:43.227Z"
   },
   {
    "duration": 94,
    "start_time": "2023-12-05T17:20:08.260Z"
   },
   {
    "duration": 4,
    "start_time": "2023-12-05T17:20:26.699Z"
   },
   {
    "duration": 84,
    "start_time": "2023-12-05T17:20:52.631Z"
   },
   {
    "duration": 190,
    "start_time": "2023-12-05T17:25:12.975Z"
   },
   {
    "duration": 8,
    "start_time": "2023-12-05T17:25:29.877Z"
   },
   {
    "duration": 178,
    "start_time": "2023-12-05T17:26:36.290Z"
   },
   {
    "duration": 215,
    "start_time": "2023-12-05T17:27:20.046Z"
   },
   {
    "duration": 184,
    "start_time": "2023-12-05T17:27:31.563Z"
   },
   {
    "duration": 307,
    "start_time": "2023-12-05T17:27:46.028Z"
   },
   {
    "duration": 176,
    "start_time": "2023-12-05T17:27:53.341Z"
   },
   {
    "duration": 196,
    "start_time": "2023-12-05T17:28:05.384Z"
   },
   {
    "duration": 7,
    "start_time": "2023-12-05T17:28:38.054Z"
   },
   {
    "duration": 458,
    "start_time": "2023-12-05T17:28:43.549Z"
   },
   {
    "duration": 322,
    "start_time": "2023-12-05T17:31:47.643Z"
   },
   {
    "duration": 17,
    "start_time": "2023-12-05T17:34:54.572Z"
   },
   {
    "duration": 93,
    "start_time": "2023-12-05T17:35:05.860Z"
   },
   {
    "duration": 21,
    "start_time": "2023-12-05T17:35:17.479Z"
   },
   {
    "duration": 94,
    "start_time": "2023-12-05T17:35:22.758Z"
   },
   {
    "duration": 82,
    "start_time": "2023-12-05T17:35:35.470Z"
   },
   {
    "duration": 88,
    "start_time": "2023-12-05T17:35:39.425Z"
   },
   {
    "duration": 16,
    "start_time": "2023-12-05T21:20:37.275Z"
   },
   {
    "duration": 495,
    "start_time": "2023-12-05T21:29:50.910Z"
   },
   {
    "duration": 4,
    "start_time": "2023-12-05T21:31:12.250Z"
   },
   {
    "duration": 5,
    "start_time": "2023-12-05T21:31:25.469Z"
   },
   {
    "duration": 620,
    "start_time": "2023-12-05T21:31:41.957Z"
   },
   {
    "duration": 1069,
    "start_time": "2023-12-05T21:31:42.579Z"
   },
   {
    "duration": 110,
    "start_time": "2023-12-05T21:31:43.650Z"
   },
   {
    "duration": 28,
    "start_time": "2023-12-05T21:31:43.762Z"
   },
   {
    "duration": 421,
    "start_time": "2023-12-05T21:31:43.793Z"
   },
   {
    "duration": 3126,
    "start_time": "2023-12-05T21:31:44.216Z"
   },
   {
    "duration": 77,
    "start_time": "2023-12-05T21:31:47.344Z"
   },
   {
    "duration": 756,
    "start_time": "2023-12-05T21:31:47.422Z"
   },
   {
    "duration": 4,
    "start_time": "2023-12-05T21:31:48.179Z"
   },
   {
    "duration": 125,
    "start_time": "2023-12-05T21:31:48.185Z"
   },
   {
    "duration": 304,
    "start_time": "2023-12-05T21:31:48.311Z"
   },
   {
    "duration": 358,
    "start_time": "2023-12-05T21:31:48.617Z"
   },
   {
    "duration": 236,
    "start_time": "2023-12-05T21:31:48.977Z"
   },
   {
    "duration": 51,
    "start_time": "2023-12-05T21:31:49.217Z"
   },
   {
    "duration": 24,
    "start_time": "2023-12-05T21:31:49.270Z"
   },
   {
    "duration": 473,
    "start_time": "2023-12-05T21:31:49.296Z"
   },
   {
    "duration": 78,
    "start_time": "2023-12-05T21:31:49.771Z"
   },
   {
    "duration": 9,
    "start_time": "2023-12-05T21:31:49.850Z"
   },
   {
    "duration": 55,
    "start_time": "2023-12-05T21:31:49.861Z"
   },
   {
    "duration": 469,
    "start_time": "2023-12-05T21:31:49.917Z"
   },
   {
    "duration": 12,
    "start_time": "2023-12-05T21:31:50.387Z"
   },
   {
    "duration": 16,
    "start_time": "2023-12-05T21:31:50.400Z"
   },
   {
    "duration": 33,
    "start_time": "2023-12-05T21:31:50.418Z"
   },
   {
    "duration": 60,
    "start_time": "2023-12-05T21:31:50.452Z"
   },
   {
    "duration": 413,
    "start_time": "2023-12-05T21:31:50.514Z"
   },
   {
    "duration": 23,
    "start_time": "2023-12-05T21:31:50.929Z"
   },
   {
    "duration": 40,
    "start_time": "2023-12-05T21:31:50.954Z"
   },
   {
    "duration": 574,
    "start_time": "2023-12-05T21:31:50.996Z"
   },
   {
    "duration": 4,
    "start_time": "2023-12-05T21:32:19.918Z"
   },
   {
    "duration": 92,
    "start_time": "2023-12-05T21:32:37.402Z"
   },
   {
    "duration": 33,
    "start_time": "2023-12-05T21:33:17.627Z"
   },
   {
    "duration": 70,
    "start_time": "2023-12-05T21:34:49.470Z"
   },
   {
    "duration": 24,
    "start_time": "2023-12-05T21:36:25.735Z"
   },
   {
    "duration": 19,
    "start_time": "2023-12-05T21:36:42.491Z"
   },
   {
    "duration": 14,
    "start_time": "2023-12-05T21:41:10.004Z"
   },
   {
    "duration": 129,
    "start_time": "2023-12-05T21:41:18.373Z"
   },
   {
    "duration": 35,
    "start_time": "2023-12-05T21:42:30.957Z"
   },
   {
    "duration": 44,
    "start_time": "2023-12-05T21:43:47.846Z"
   },
   {
    "duration": 69,
    "start_time": "2023-12-05T21:47:10.092Z"
   },
   {
    "duration": 130,
    "start_time": "2023-12-05T21:47:19.486Z"
   },
   {
    "duration": 140,
    "start_time": "2023-12-05T21:47:29.755Z"
   },
   {
    "duration": 16,
    "start_time": "2023-12-05T21:48:13.980Z"
   },
   {
    "duration": 4949,
    "start_time": "2023-12-05T21:48:31.691Z"
   },
   {
    "duration": 450,
    "start_time": "2023-12-05T21:49:11.476Z"
   },
   {
    "duration": 25379,
    "start_time": "2023-12-05T21:54:25.932Z"
   },
   {
    "duration": 4916,
    "start_time": "2023-12-05T21:55:25.879Z"
   },
   {
    "duration": 71,
    "start_time": "2023-12-05T21:56:26.817Z"
   },
   {
    "duration": 46,
    "start_time": "2023-12-05T21:56:38.202Z"
   },
   {
    "duration": 45,
    "start_time": "2023-12-05T21:56:49.210Z"
   },
   {
    "duration": 59,
    "start_time": "2023-12-05T21:57:01.349Z"
   },
   {
    "duration": 4,
    "start_time": "2023-12-05T21:57:52.502Z"
   },
   {
    "duration": 52,
    "start_time": "2023-12-05T21:58:53.518Z"
   },
   {
    "duration": 43,
    "start_time": "2023-12-05T21:59:02.534Z"
   },
   {
    "duration": 5,
    "start_time": "2023-12-05T21:59:42.161Z"
   },
   {
    "duration": 175,
    "start_time": "2023-12-05T22:01:51.006Z"
   },
   {
    "duration": 166,
    "start_time": "2023-12-05T22:02:02.817Z"
   },
   {
    "duration": 92,
    "start_time": "2023-12-05T22:07:56.787Z"
   },
   {
    "duration": 88,
    "start_time": "2023-12-05T22:08:10.979Z"
   },
   {
    "duration": 6,
    "start_time": "2023-12-05T22:08:49.629Z"
   },
   {
    "duration": 41,
    "start_time": "2023-12-05T22:09:06.469Z"
   },
   {
    "duration": 85,
    "start_time": "2023-12-05T22:09:11.294Z"
   },
   {
    "duration": 72,
    "start_time": "2023-12-05T22:09:18.883Z"
   },
   {
    "duration": 4,
    "start_time": "2023-12-05T22:09:21.586Z"
   },
   {
    "duration": 90,
    "start_time": "2023-12-05T22:09:24.783Z"
   },
   {
    "duration": 92,
    "start_time": "2023-12-05T22:09:35.006Z"
   },
   {
    "duration": 87,
    "start_time": "2023-12-05T22:09:36.976Z"
   },
   {
    "duration": 16,
    "start_time": "2023-12-05T22:09:47.225Z"
   },
   {
    "duration": 5,
    "start_time": "2023-12-05T22:09:51.970Z"
   },
   {
    "duration": 89,
    "start_time": "2023-12-05T22:09:53.784Z"
   },
   {
    "duration": 83,
    "start_time": "2023-12-05T22:09:58.648Z"
   },
   {
    "duration": 87,
    "start_time": "2023-12-05T22:09:59.975Z"
   },
   {
    "duration": 5,
    "start_time": "2023-12-05T22:10:22.289Z"
   },
   {
    "duration": 97,
    "start_time": "2023-12-05T22:10:58.232Z"
   },
   {
    "duration": 84,
    "start_time": "2023-12-05T22:11:01.527Z"
   },
   {
    "duration": 68,
    "start_time": "2023-12-05T22:11:07.250Z"
   },
   {
    "duration": 4,
    "start_time": "2023-12-05T22:11:08.470Z"
   },
   {
    "duration": 88,
    "start_time": "2023-12-05T22:11:18.880Z"
   },
   {
    "duration": 119,
    "start_time": "2023-12-05T22:11:38.084Z"
   },
   {
    "duration": 123,
    "start_time": "2023-12-05T22:11:49.990Z"
   },
   {
    "duration": 122,
    "start_time": "2023-12-05T22:14:23.360Z"
   },
   {
    "duration": 5,
    "start_time": "2023-12-05T22:14:27.662Z"
   },
   {
    "duration": 425,
    "start_time": "2023-12-05T22:14:57.694Z"
   },
   {
    "duration": 35,
    "start_time": "2023-12-05T22:16:08.273Z"
   },
   {
    "duration": 243,
    "start_time": "2023-12-05T22:19:08.941Z"
   },
   {
    "duration": 40,
    "start_time": "2023-12-05T22:19:44.338Z"
   },
   {
    "duration": 70,
    "start_time": "2023-12-05T22:20:22.056Z"
   },
   {
    "duration": 42,
    "start_time": "2023-12-05T22:20:48.646Z"
   },
   {
    "duration": 3,
    "start_time": "2023-12-05T22:23:29.015Z"
   },
   {
    "duration": 113,
    "start_time": "2023-12-05T22:23:52.052Z"
   },
   {
    "duration": 3,
    "start_time": "2023-12-05T22:25:32.513Z"
   },
   {
    "duration": 41,
    "start_time": "2023-12-05T22:25:33.779Z"
   },
   {
    "duration": 3,
    "start_time": "2023-12-05T22:25:41.208Z"
   },
   {
    "duration": 110,
    "start_time": "2023-12-05T22:25:42.734Z"
   },
   {
    "duration": 3,
    "start_time": "2023-12-05T22:26:11.156Z"
   },
   {
    "duration": 68,
    "start_time": "2023-12-05T22:26:12.210Z"
   },
   {
    "duration": 2,
    "start_time": "2023-12-05T22:27:49.957Z"
   },
   {
    "duration": 104,
    "start_time": "2023-12-05T22:27:50.851Z"
   },
   {
    "duration": 111,
    "start_time": "2023-12-05T22:28:07.295Z"
   },
   {
    "duration": 91,
    "start_time": "2023-12-05T22:28:18.422Z"
   },
   {
    "duration": 91,
    "start_time": "2023-12-05T22:28:26.959Z"
   },
   {
    "duration": 88,
    "start_time": "2023-12-05T22:28:32.617Z"
   },
   {
    "duration": 5564,
    "start_time": "2023-12-05T22:29:13.890Z"
   },
   {
    "duration": 6119,
    "start_time": "2023-12-05T22:29:37.758Z"
   },
   {
    "duration": 93,
    "start_time": "2023-12-05T22:37:47.485Z"
   },
   {
    "duration": 82,
    "start_time": "2023-12-05T22:37:48.645Z"
   },
   {
    "duration": 91,
    "start_time": "2023-12-05T22:37:58.472Z"
   },
   {
    "duration": 72,
    "start_time": "2023-12-05T22:41:53.896Z"
   },
   {
    "duration": 4,
    "start_time": "2023-12-05T22:41:54.986Z"
   },
   {
    "duration": 68,
    "start_time": "2023-12-05T22:42:13.156Z"
   },
   {
    "duration": 5,
    "start_time": "2023-12-05T22:42:14.671Z"
   },
   {
    "duration": 150,
    "start_time": "2023-12-05T22:42:47.094Z"
   },
   {
    "duration": 5,
    "start_time": "2023-12-05T22:42:56.155Z"
   },
   {
    "duration": 670,
    "start_time": "2023-12-05T22:43:29.015Z"
   },
   {
    "duration": 1072,
    "start_time": "2023-12-05T22:43:29.687Z"
   },
   {
    "duration": 112,
    "start_time": "2023-12-05T22:43:30.760Z"
   },
   {
    "duration": 27,
    "start_time": "2023-12-05T22:43:30.873Z"
   },
   {
    "duration": 444,
    "start_time": "2023-12-05T22:43:30.902Z"
   },
   {
    "duration": 2314,
    "start_time": "2023-12-05T22:43:31.348Z"
   },
   {
    "duration": 72,
    "start_time": "2023-12-05T22:43:33.664Z"
   },
   {
    "duration": 738,
    "start_time": "2023-12-05T22:43:33.738Z"
   },
   {
    "duration": 4,
    "start_time": "2023-12-05T22:43:34.477Z"
   },
   {
    "duration": 101,
    "start_time": "2023-12-05T22:43:34.482Z"
   },
   {
    "duration": 284,
    "start_time": "2023-12-05T22:43:34.585Z"
   },
   {
    "duration": 306,
    "start_time": "2023-12-05T22:43:34.870Z"
   },
   {
    "duration": 238,
    "start_time": "2023-12-05T22:43:35.178Z"
   },
   {
    "duration": 46,
    "start_time": "2023-12-05T22:43:35.419Z"
   },
   {
    "duration": 5,
    "start_time": "2023-12-05T22:43:35.466Z"
   },
   {
    "duration": 477,
    "start_time": "2023-12-05T22:43:35.473Z"
   },
   {
    "duration": 67,
    "start_time": "2023-12-05T22:43:35.952Z"
   },
   {
    "duration": 8,
    "start_time": "2023-12-05T22:43:36.021Z"
   },
   {
    "duration": 43,
    "start_time": "2023-12-05T22:43:36.041Z"
   },
   {
    "duration": 474,
    "start_time": "2023-12-05T22:43:36.085Z"
   },
   {
    "duration": 12,
    "start_time": "2023-12-05T22:43:36.560Z"
   },
   {
    "duration": 9,
    "start_time": "2023-12-05T22:43:36.574Z"
   },
   {
    "duration": 11,
    "start_time": "2023-12-05T22:43:36.585Z"
   },
   {
    "duration": 57,
    "start_time": "2023-12-05T22:43:36.597Z"
   },
   {
    "duration": 388,
    "start_time": "2023-12-05T22:43:36.656Z"
   },
   {
    "duration": 14,
    "start_time": "2023-12-05T22:43:37.045Z"
   },
   {
    "duration": 26,
    "start_time": "2023-12-05T22:43:37.061Z"
   },
   {
    "duration": 568,
    "start_time": "2023-12-05T22:43:37.089Z"
   },
   {
    "duration": 93,
    "start_time": "2023-12-05T22:43:37.658Z"
   },
   {
    "duration": 33,
    "start_time": "2023-12-05T22:43:37.753Z"
   },
   {
    "duration": 22,
    "start_time": "2023-12-05T22:43:37.788Z"
   },
   {
    "duration": 33,
    "start_time": "2023-12-05T22:43:37.812Z"
   },
   {
    "duration": 96,
    "start_time": "2023-12-05T22:43:37.846Z"
   },
   {
    "duration": 81,
    "start_time": "2023-12-05T22:43:37.944Z"
   },
   {
    "duration": 104,
    "start_time": "2023-12-05T22:43:38.027Z"
   },
   {
    "duration": 75,
    "start_time": "2023-12-05T22:43:38.132Z"
   },
   {
    "duration": 4,
    "start_time": "2023-12-05T22:43:38.209Z"
   },
   {
    "duration": 78,
    "start_time": "2023-12-05T22:43:38.215Z"
   },
   {
    "duration": 125,
    "start_time": "2023-12-05T22:43:50.458Z"
   },
   {
    "duration": 5,
    "start_time": "2023-12-05T22:43:55.089Z"
   },
   {
    "duration": 83,
    "start_time": "2023-12-05T22:44:50.340Z"
   },
   {
    "duration": 135,
    "start_time": "2023-12-05T22:44:54.995Z"
   },
   {
    "duration": 83,
    "start_time": "2023-12-05T22:44:57.285Z"
   },
   {
    "duration": 16,
    "start_time": "2023-12-05T22:48:46.470Z"
   },
   {
    "duration": 9,
    "start_time": "2023-12-05T22:48:54.050Z"
   },
   {
    "duration": 85,
    "start_time": "2023-12-05T22:48:57.064Z"
   },
   {
    "duration": 4,
    "start_time": "2023-12-05T22:50:50.040Z"
   },
   {
    "duration": 89,
    "start_time": "2023-12-05T22:50:55.462Z"
   },
   {
    "duration": 2,
    "start_time": "2023-12-05T22:51:21.230Z"
   },
   {
    "duration": 89,
    "start_time": "2023-12-05T22:51:22.277Z"
   },
   {
    "duration": 609,
    "start_time": "2023-12-05T22:51:40.182Z"
   },
   {
    "duration": 1102,
    "start_time": "2023-12-05T22:51:40.793Z"
   },
   {
    "duration": 103,
    "start_time": "2023-12-05T22:51:41.896Z"
   },
   {
    "duration": 24,
    "start_time": "2023-12-05T22:51:42.001Z"
   },
   {
    "duration": 407,
    "start_time": "2023-12-05T22:51:42.026Z"
   },
   {
    "duration": 2223,
    "start_time": "2023-12-05T22:51:42.435Z"
   },
   {
    "duration": 73,
    "start_time": "2023-12-05T22:51:44.660Z"
   },
   {
    "duration": 713,
    "start_time": "2023-12-05T22:51:44.735Z"
   },
   {
    "duration": 4,
    "start_time": "2023-12-05T22:51:45.450Z"
   },
   {
    "duration": 99,
    "start_time": "2023-12-05T22:51:45.455Z"
   },
   {
    "duration": 300,
    "start_time": "2023-12-05T22:51:45.556Z"
   },
   {
    "duration": 299,
    "start_time": "2023-12-05T22:51:45.857Z"
   },
   {
    "duration": 243,
    "start_time": "2023-12-05T22:51:46.157Z"
   },
   {
    "duration": 45,
    "start_time": "2023-12-05T22:51:46.403Z"
   },
   {
    "duration": 3,
    "start_time": "2023-12-05T22:51:46.450Z"
   },
   {
    "duration": 467,
    "start_time": "2023-12-05T22:51:46.454Z"
   },
   {
    "duration": 75,
    "start_time": "2023-12-05T22:51:46.922Z"
   },
   {
    "duration": 7,
    "start_time": "2023-12-05T22:51:46.999Z"
   },
   {
    "duration": 48,
    "start_time": "2023-12-05T22:51:47.008Z"
   },
   {
    "duration": 467,
    "start_time": "2023-12-05T22:51:47.057Z"
   },
   {
    "duration": 17,
    "start_time": "2023-12-05T22:51:47.526Z"
   },
   {
    "duration": 10,
    "start_time": "2023-12-05T22:51:47.544Z"
   },
   {
    "duration": 11,
    "start_time": "2023-12-05T22:51:47.555Z"
   },
   {
    "duration": 31,
    "start_time": "2023-12-05T22:51:47.568Z"
   },
   {
    "duration": 400,
    "start_time": "2023-12-05T22:51:47.601Z"
   },
   {
    "duration": 14,
    "start_time": "2023-12-05T22:51:48.003Z"
   },
   {
    "duration": 39,
    "start_time": "2023-12-05T22:51:48.018Z"
   },
   {
    "duration": 547,
    "start_time": "2023-12-05T22:51:48.059Z"
   },
   {
    "duration": 90,
    "start_time": "2023-12-05T22:51:48.607Z"
   },
   {
    "duration": 31,
    "start_time": "2023-12-05T22:51:48.699Z"
   },
   {
    "duration": 20,
    "start_time": "2023-12-05T22:51:48.743Z"
   },
   {
    "duration": 20,
    "start_time": "2023-12-05T22:51:48.764Z"
   },
   {
    "duration": 96,
    "start_time": "2023-12-05T22:51:48.785Z"
   },
   {
    "duration": 92,
    "start_time": "2023-12-05T22:51:48.883Z"
   },
   {
    "duration": 98,
    "start_time": "2023-12-05T22:51:48.977Z"
   },
   {
    "duration": 80,
    "start_time": "2023-12-05T22:51:49.077Z"
   },
   {
    "duration": 4,
    "start_time": "2023-12-05T22:51:49.159Z"
   },
   {
    "duration": 130,
    "start_time": "2023-12-05T22:51:49.165Z"
   },
   {
    "duration": 5,
    "start_time": "2023-12-05T22:51:49.296Z"
   },
   {
    "duration": 154,
    "start_time": "2023-12-05T22:51:49.302Z"
   },
   {
    "duration": 86,
    "start_time": "2023-12-05T22:51:49.459Z"
   },
   {
    "duration": 22,
    "start_time": "2023-12-05T22:51:49.547Z"
   },
   {
    "duration": 4,
    "start_time": "2023-12-05T22:51:49.571Z"
   },
   {
    "duration": 68,
    "start_time": "2023-12-05T23:14:18.852Z"
   },
   {
    "duration": 685,
    "start_time": "2023-12-05T23:14:30.249Z"
   },
   {
    "duration": 828,
    "start_time": "2023-12-06T17:56:11.366Z"
   },
   {
    "duration": 1267,
    "start_time": "2023-12-06T17:56:12.196Z"
   },
   {
    "duration": 99,
    "start_time": "2023-12-06T17:56:13.465Z"
   },
   {
    "duration": 28,
    "start_time": "2023-12-06T17:56:13.566Z"
   },
   {
    "duration": 400,
    "start_time": "2023-12-06T17:56:13.596Z"
   },
   {
    "duration": 2206,
    "start_time": "2023-12-06T17:56:13.998Z"
   },
   {
    "duration": 76,
    "start_time": "2023-12-06T17:56:16.206Z"
   },
   {
    "duration": 768,
    "start_time": "2023-12-06T17:56:16.292Z"
   },
   {
    "duration": 4,
    "start_time": "2023-12-06T17:56:17.062Z"
   },
   {
    "duration": 107,
    "start_time": "2023-12-06T17:56:17.067Z"
   },
   {
    "duration": 312,
    "start_time": "2023-12-06T17:56:17.175Z"
   },
   {
    "duration": 301,
    "start_time": "2023-12-06T17:56:17.488Z"
   },
   {
    "duration": 243,
    "start_time": "2023-12-06T17:56:17.790Z"
   },
   {
    "duration": 51,
    "start_time": "2023-12-06T17:56:18.035Z"
   },
   {
    "duration": 3,
    "start_time": "2023-12-06T17:56:18.087Z"
   },
   {
    "duration": 462,
    "start_time": "2023-12-06T17:56:18.092Z"
   },
   {
    "duration": 72,
    "start_time": "2023-12-06T17:56:18.556Z"
   },
   {
    "duration": 9,
    "start_time": "2023-12-06T17:56:18.629Z"
   },
   {
    "duration": 50,
    "start_time": "2023-12-06T17:56:18.640Z"
   },
   {
    "duration": 452,
    "start_time": "2023-12-06T17:56:18.691Z"
   },
   {
    "duration": 11,
    "start_time": "2023-12-06T17:56:19.145Z"
   },
   {
    "duration": 9,
    "start_time": "2023-12-06T17:56:19.157Z"
   },
   {
    "duration": 11,
    "start_time": "2023-12-06T17:56:19.182Z"
   },
   {
    "duration": 34,
    "start_time": "2023-12-06T17:56:19.194Z"
   },
   {
    "duration": 387,
    "start_time": "2023-12-06T17:56:19.229Z"
   },
   {
    "duration": 14,
    "start_time": "2023-12-06T17:56:19.618Z"
   },
   {
    "duration": 26,
    "start_time": "2023-12-06T17:56:19.634Z"
   },
   {
    "duration": 591,
    "start_time": "2023-12-06T17:56:19.662Z"
   },
   {
    "duration": 90,
    "start_time": "2023-12-06T17:56:20.255Z"
   },
   {
    "duration": 37,
    "start_time": "2023-12-06T17:56:20.347Z"
   },
   {
    "duration": 31,
    "start_time": "2023-12-06T17:56:20.386Z"
   },
   {
    "duration": 66,
    "start_time": "2023-12-06T17:56:20.419Z"
   },
   {
    "duration": 116,
    "start_time": "2023-12-06T17:56:20.487Z"
   },
   {
    "duration": 87,
    "start_time": "2023-12-06T17:56:20.605Z"
   },
   {
    "duration": 99,
    "start_time": "2023-12-06T17:56:20.693Z"
   },
   {
    "duration": 68,
    "start_time": "2023-12-06T17:56:20.794Z"
   },
   {
    "duration": 19,
    "start_time": "2023-12-06T17:56:20.864Z"
   },
   {
    "duration": 131,
    "start_time": "2023-12-06T17:56:20.885Z"
   },
   {
    "duration": 5,
    "start_time": "2023-12-06T17:56:21.018Z"
   },
   {
    "duration": 141,
    "start_time": "2023-12-06T17:56:21.025Z"
   },
   {
    "duration": 85,
    "start_time": "2023-12-06T17:56:21.171Z"
   },
   {
    "duration": 26,
    "start_time": "2023-12-06T17:56:21.258Z"
   },
   {
    "duration": 3,
    "start_time": "2023-12-06T17:56:21.286Z"
   },
   {
    "duration": 96,
    "start_time": "2023-12-06T17:56:21.291Z"
   },
   {
    "duration": 827,
    "start_time": "2023-12-06T17:58:11.892Z"
   },
   {
    "duration": 3,
    "start_time": "2023-12-06T17:58:49.576Z"
   },
   {
    "duration": 4,
    "start_time": "2023-12-06T18:55:10.745Z"
   },
   {
    "duration": 129,
    "start_time": "2023-12-06T19:03:49.334Z"
   },
   {
    "duration": 13,
    "start_time": "2023-12-06T19:04:04.873Z"
   },
   {
    "duration": 16,
    "start_time": "2023-12-06T19:04:11.507Z"
   },
   {
    "duration": 6,
    "start_time": "2023-12-06T19:04:19.892Z"
   },
   {
    "duration": 90,
    "start_time": "2023-12-06T19:04:26.827Z"
   },
   {
    "duration": 233,
    "start_time": "2023-12-06T19:04:31.226Z"
   },
   {
    "duration": 11,
    "start_time": "2023-12-06T19:04:35.459Z"
   },
   {
    "duration": 4,
    "start_time": "2023-12-06T19:04:45.821Z"
   },
   {
    "duration": 3,
    "start_time": "2023-12-06T19:06:31.030Z"
   },
   {
    "duration": 52,
    "start_time": "2023-12-06T19:06:40.631Z"
   },
   {
    "duration": 4,
    "start_time": "2023-12-06T19:06:52.922Z"
   },
   {
    "duration": 4,
    "start_time": "2023-12-06T19:09:28.379Z"
   },
   {
    "duration": 3,
    "start_time": "2023-12-06T19:10:04.225Z"
   },
   {
    "duration": 5,
    "start_time": "2023-12-06T19:10:50.381Z"
   },
   {
    "duration": 18,
    "start_time": "2023-12-06T19:17:39.169Z"
   },
   {
    "duration": 5,
    "start_time": "2023-12-06T19:18:41.989Z"
   },
   {
    "duration": 84,
    "start_time": "2023-12-06T19:18:43.960Z"
   },
   {
    "duration": 27,
    "start_time": "2023-12-06T19:20:03.112Z"
   },
   {
    "duration": 195,
    "start_time": "2023-12-06T19:20:28.428Z"
   },
   {
    "duration": 4,
    "start_time": "2023-12-06T19:20:30.005Z"
   },
   {
    "duration": 24,
    "start_time": "2023-12-06T19:20:31.854Z"
   },
   {
    "duration": 5,
    "start_time": "2023-12-06T19:20:50.164Z"
   },
   {
    "duration": 24,
    "start_time": "2023-12-06T19:20:51.128Z"
   },
   {
    "duration": 4,
    "start_time": "2023-12-06T19:20:54.482Z"
   },
   {
    "duration": 32,
    "start_time": "2023-12-06T19:20:57.266Z"
   },
   {
    "duration": 5,
    "start_time": "2023-12-06T19:20:58.559Z"
   },
   {
    "duration": 18,
    "start_time": "2023-12-06T19:23:05.869Z"
   },
   {
    "duration": 6,
    "start_time": "2023-12-06T19:52:32.120Z"
   },
   {
    "duration": 4,
    "start_time": "2023-12-06T19:53:07.183Z"
   },
   {
    "duration": 14,
    "start_time": "2023-12-06T20:12:50.779Z"
   },
   {
    "duration": 6,
    "start_time": "2023-12-06T20:13:00.838Z"
   },
   {
    "duration": 15,
    "start_time": "2023-12-06T20:13:59.419Z"
   },
   {
    "duration": 5,
    "start_time": "2023-12-06T20:14:28.493Z"
   },
   {
    "duration": 22,
    "start_time": "2023-12-06T20:14:29.549Z"
   },
   {
    "duration": 4,
    "start_time": "2023-12-06T20:14:33.248Z"
   },
   {
    "duration": 32,
    "start_time": "2023-12-06T20:14:36.319Z"
   },
   {
    "duration": 6,
    "start_time": "2023-12-06T20:14:37.122Z"
   },
   {
    "duration": 14,
    "start_time": "2023-12-06T20:14:40.083Z"
   },
   {
    "duration": 18,
    "start_time": "2023-12-06T20:16:37.705Z"
   },
   {
    "duration": 15,
    "start_time": "2023-12-06T20:16:51.082Z"
   },
   {
    "duration": 98586,
    "start_time": "2023-12-06T20:16:53.309Z"
   },
   {
    "duration": 4,
    "start_time": "2023-12-06T20:18:54.482Z"
   },
   {
    "duration": 8,
    "start_time": "2023-12-06T20:19:06.916Z"
   },
   {
    "duration": 9,
    "start_time": "2023-12-06T20:19:12.373Z"
   },
   {
    "duration": 4,
    "start_time": "2023-12-06T20:19:31.668Z"
   },
   {
    "duration": 4,
    "start_time": "2023-12-06T20:19:45.969Z"
   },
   {
    "duration": 16,
    "start_time": "2023-12-06T20:20:09.811Z"
   },
   {
    "duration": 58721,
    "start_time": "2023-12-06T20:20:11.892Z"
   },
   {
    "duration": 4,
    "start_time": "2023-12-06T20:21:18.416Z"
   },
   {
    "duration": 8,
    "start_time": "2023-12-06T20:21:25.298Z"
   },
   {
    "duration": 4,
    "start_time": "2023-12-06T20:22:04.512Z"
   },
   {
    "duration": 10,
    "start_time": "2023-12-06T20:24:47.989Z"
   },
   {
    "duration": 4,
    "start_time": "2023-12-06T20:25:01.199Z"
   },
   {
    "duration": 12,
    "start_time": "2023-12-06T20:25:05.845Z"
   },
   {
    "duration": 4,
    "start_time": "2023-12-06T20:25:18.137Z"
   },
   {
    "duration": 3,
    "start_time": "2023-12-06T20:25:24.120Z"
   },
   {
    "duration": 18525,
    "start_time": "2023-12-06T20:26:12.464Z"
   },
   {
    "duration": 14,
    "start_time": "2023-12-06T20:29:09.240Z"
   },
   {
    "duration": 4,
    "start_time": "2023-12-06T20:29:14.840Z"
   },
   {
    "duration": 18583,
    "start_time": "2023-12-06T20:29:30.208Z"
   },
   {
    "duration": 192,
    "start_time": "2023-12-06T20:29:48.794Z"
   },
   {
    "duration": 3,
    "start_time": "2023-12-06T20:29:52.038Z"
   },
   {
    "duration": 136,
    "start_time": "2023-12-06T20:29:54.344Z"
   },
   {
    "duration": 129,
    "start_time": "2023-12-06T20:30:10.449Z"
   },
   {
    "duration": 3,
    "start_time": "2023-12-06T20:30:16.308Z"
   },
   {
    "duration": 128,
    "start_time": "2023-12-06T20:30:18.837Z"
   },
   {
    "duration": 3,
    "start_time": "2023-12-06T20:30:40.874Z"
   },
   {
    "duration": 21,
    "start_time": "2023-12-06T20:30:52.072Z"
   },
   {
    "duration": 3,
    "start_time": "2023-12-06T20:30:55.144Z"
   },
   {
    "duration": 19688,
    "start_time": "2023-12-06T20:30:56.197Z"
   },
   {
    "duration": 4,
    "start_time": "2023-12-06T20:31:18.711Z"
   },
   {
    "duration": 4,
    "start_time": "2023-12-06T20:31:26.725Z"
   },
   {
    "duration": 60837,
    "start_time": "2023-12-06T20:31:45.158Z"
   },
   {
    "duration": 4,
    "start_time": "2023-12-06T20:33:26.429Z"
   },
   {
    "duration": 4,
    "start_time": "2023-12-06T20:34:28.785Z"
   },
   {
    "duration": 14,
    "start_time": "2023-12-06T20:35:06.093Z"
   },
   {
    "duration": 55533,
    "start_time": "2023-12-06T20:35:07.358Z"
   },
   {
    "duration": 13090,
    "start_time": "2023-12-06T20:36:02.893Z"
   },
   {
    "duration": 5,
    "start_time": "2023-12-06T20:36:15.985Z"
   },
   {
    "duration": 92,
    "start_time": "2023-12-06T20:36:15.992Z"
   },
   {
    "duration": 15,
    "start_time": "2023-12-06T20:37:58.240Z"
   },
   {
    "duration": 13,
    "start_time": "2023-12-06T20:38:05.098Z"
   },
   {
    "duration": 57993,
    "start_time": "2023-12-06T20:38:06.300Z"
   },
   {
    "duration": 4,
    "start_time": "2023-12-06T20:39:46.270Z"
   },
   {
    "duration": 4,
    "start_time": "2023-12-06T20:39:58.209Z"
   },
   {
    "duration": 5,
    "start_time": "2023-12-06T20:40:21.393Z"
   },
   {
    "duration": 4,
    "start_time": "2023-12-06T20:40:47.262Z"
   },
   {
    "duration": 5,
    "start_time": "2023-12-06T20:40:51.914Z"
   },
   {
    "duration": 14,
    "start_time": "2023-12-06T20:41:28.545Z"
   },
   {
    "duration": 63014,
    "start_time": "2023-12-06T20:41:29.688Z"
   },
   {
    "duration": 18,
    "start_time": "2023-12-06T20:56:12.506Z"
   },
   {
    "duration": 3,
    "start_time": "2023-12-06T20:56:43.171Z"
   },
   {
    "duration": 3,
    "start_time": "2023-12-06T20:57:10.432Z"
   },
   {
    "duration": 3,
    "start_time": "2023-12-06T20:59:02.857Z"
   },
   {
    "duration": 4,
    "start_time": "2023-12-06T20:59:24.074Z"
   },
   {
    "duration": 4,
    "start_time": "2023-12-06T20:59:39.639Z"
   },
   {
    "duration": 3,
    "start_time": "2023-12-06T21:06:22.960Z"
   },
   {
    "duration": 4,
    "start_time": "2023-12-06T21:06:51.997Z"
   },
   {
    "duration": 5,
    "start_time": "2023-12-06T21:07:51.072Z"
   },
   {
    "duration": 46,
    "start_time": "2023-12-06T21:08:27.357Z"
   },
   {
    "duration": 38,
    "start_time": "2023-12-06T21:17:55.748Z"
   },
   {
    "duration": 5,
    "start_time": "2023-12-06T21:19:35.231Z"
   },
   {
    "duration": 8,
    "start_time": "2023-12-06T21:20:35.552Z"
   },
   {
    "duration": 6,
    "start_time": "2023-12-06T21:23:50.368Z"
   },
   {
    "duration": 5,
    "start_time": "2023-12-06T21:24:17.572Z"
   },
   {
    "duration": 39,
    "start_time": "2023-12-06T21:24:18.720Z"
   },
   {
    "duration": 8,
    "start_time": "2023-12-06T21:26:36.860Z"
   },
   {
    "duration": 3,
    "start_time": "2023-12-06T21:26:45.164Z"
   },
   {
    "duration": 4,
    "start_time": "2023-12-06T21:27:13.518Z"
   },
   {
    "duration": 7,
    "start_time": "2023-12-06T21:29:27.028Z"
   },
   {
    "duration": 34,
    "start_time": "2023-12-06T21:34:29.889Z"
   },
   {
    "duration": 28,
    "start_time": "2023-12-06T21:35:16.168Z"
   },
   {
    "duration": 5,
    "start_time": "2023-12-06T21:35:26.159Z"
   },
   {
    "duration": 1305,
    "start_time": "2023-12-06T21:35:27.281Z"
   },
   {
    "duration": 117735,
    "start_time": "2023-12-06T21:36:18.877Z"
   },
   {
    "duration": 3,
    "start_time": "2023-12-06T21:38:22.750Z"
   },
   {
    "duration": 4,
    "start_time": "2023-12-06T21:38:35.701Z"
   },
   {
    "duration": 4,
    "start_time": "2023-12-06T21:40:53.202Z"
   },
   {
    "duration": 8,
    "start_time": "2023-12-06T21:42:01.853Z"
   },
   {
    "duration": 8,
    "start_time": "2023-12-06T21:42:06.632Z"
   },
   {
    "duration": 10,
    "start_time": "2023-12-06T21:46:27.989Z"
   },
   {
    "duration": 8,
    "start_time": "2023-12-06T21:46:38.530Z"
   },
   {
    "duration": 1381,
    "start_time": "2023-12-06T21:46:45.762Z"
   },
   {
    "duration": 1350,
    "start_time": "2023-12-06T21:47:02.264Z"
   },
   {
    "duration": 7,
    "start_time": "2023-12-06T21:47:14.647Z"
   },
   {
    "duration": 8,
    "start_time": "2023-12-06T21:47:59.712Z"
   },
   {
    "duration": 5983,
    "start_time": "2023-12-06T21:48:30.086Z"
   },
   {
    "duration": 5741,
    "start_time": "2023-12-06T21:48:52.407Z"
   },
   {
    "duration": 4,
    "start_time": "2023-12-06T21:49:07.671Z"
   },
   {
    "duration": 1186,
    "start_time": "2023-12-06T21:49:54.486Z"
   },
   {
    "duration": 2,
    "start_time": "2023-12-06T21:49:55.674Z"
   },
   {
    "duration": 1027,
    "start_time": "2023-12-06T21:49:55.677Z"
   },
   {
    "duration": 103,
    "start_time": "2023-12-06T21:49:56.705Z"
   },
   {
    "duration": 23,
    "start_time": "2023-12-06T21:49:56.810Z"
   },
   {
    "duration": 407,
    "start_time": "2023-12-06T21:49:56.834Z"
   },
   {
    "duration": 2142,
    "start_time": "2023-12-06T21:49:57.242Z"
   },
   {
    "duration": 71,
    "start_time": "2023-12-06T21:49:59.386Z"
   },
   {
    "duration": 670,
    "start_time": "2023-12-06T21:49:59.459Z"
   },
   {
    "duration": 4,
    "start_time": "2023-12-06T21:50:00.130Z"
   },
   {
    "duration": 124,
    "start_time": "2023-12-06T21:50:00.136Z"
   },
   {
    "duration": 279,
    "start_time": "2023-12-06T21:50:00.262Z"
   },
   {
    "duration": 299,
    "start_time": "2023-12-06T21:50:00.542Z"
   },
   {
    "duration": 227,
    "start_time": "2023-12-06T21:50:00.844Z"
   },
   {
    "duration": 47,
    "start_time": "2023-12-06T21:50:01.073Z"
   },
   {
    "duration": 25,
    "start_time": "2023-12-06T21:50:01.122Z"
   },
   {
    "duration": 464,
    "start_time": "2023-12-06T21:50:01.148Z"
   },
   {
    "duration": 74,
    "start_time": "2023-12-06T21:50:01.614Z"
   },
   {
    "duration": 7,
    "start_time": "2023-12-06T21:50:01.690Z"
   },
   {
    "duration": 50,
    "start_time": "2023-12-06T21:50:01.699Z"
   },
   {
    "duration": 449,
    "start_time": "2023-12-06T21:50:01.750Z"
   },
   {
    "duration": 12,
    "start_time": "2023-12-06T21:50:02.201Z"
   },
   {
    "duration": 35,
    "start_time": "2023-12-06T21:50:02.214Z"
   },
   {
    "duration": 23,
    "start_time": "2023-12-06T21:50:02.251Z"
   },
   {
    "duration": 65,
    "start_time": "2023-12-06T21:50:02.276Z"
   },
   {
    "duration": 377,
    "start_time": "2023-12-06T21:50:02.343Z"
   },
   {
    "duration": 14,
    "start_time": "2023-12-06T21:50:02.722Z"
   },
   {
    "duration": 40,
    "start_time": "2023-12-06T21:50:02.738Z"
   },
   {
    "duration": 611,
    "start_time": "2023-12-06T21:50:02.782Z"
   },
   {
    "duration": 97,
    "start_time": "2023-12-06T21:50:03.395Z"
   },
   {
    "duration": 32,
    "start_time": "2023-12-06T21:50:03.494Z"
   },
   {
    "duration": 25,
    "start_time": "2023-12-06T21:50:03.528Z"
   },
   {
    "duration": 16,
    "start_time": "2023-12-06T21:50:03.555Z"
   },
   {
    "duration": 83,
    "start_time": "2023-12-06T21:50:03.582Z"
   },
   {
    "duration": 92,
    "start_time": "2023-12-06T21:50:03.666Z"
   },
   {
    "duration": 99,
    "start_time": "2023-12-06T21:50:03.760Z"
   },
   {
    "duration": 76,
    "start_time": "2023-12-06T21:50:03.861Z"
   },
   {
    "duration": 4,
    "start_time": "2023-12-06T21:50:03.939Z"
   },
   {
    "duration": 125,
    "start_time": "2023-12-06T21:50:03.945Z"
   },
   {
    "duration": 10,
    "start_time": "2023-12-06T21:50:04.072Z"
   },
   {
    "duration": 136,
    "start_time": "2023-12-06T21:50:04.086Z"
   },
   {
    "duration": 88,
    "start_time": "2023-12-06T21:50:04.223Z"
   },
   {
    "duration": 16,
    "start_time": "2023-12-06T21:50:04.312Z"
   },
   {
    "duration": 91,
    "start_time": "2023-12-06T21:50:04.330Z"
   },
   {
    "duration": 2,
    "start_time": "2023-12-06T21:50:04.423Z"
   },
   {
    "duration": 186,
    "start_time": "2023-12-06T21:50:04.426Z"
   },
   {
    "duration": 4,
    "start_time": "2023-12-06T21:50:04.614Z"
   },
   {
    "duration": 11,
    "start_time": "2023-12-06T21:50:04.619Z"
   },
   {
    "duration": 22,
    "start_time": "2023-12-06T21:50:04.631Z"
   },
   {
    "duration": 3,
    "start_time": "2023-12-06T21:50:04.654Z"
   },
   {
    "duration": 49,
    "start_time": "2023-12-06T21:50:04.659Z"
   },
   {
    "duration": 5,
    "start_time": "2023-12-06T21:50:04.709Z"
   },
   {
    "duration": 18,
    "start_time": "2023-12-06T21:50:04.715Z"
   },
   {
    "duration": 15,
    "start_time": "2023-12-06T21:50:04.735Z"
   },
   {
    "duration": 13,
    "start_time": "2023-12-06T21:50:04.751Z"
   },
   {
    "duration": 128,
    "start_time": "2023-12-06T21:50:04.765Z"
   },
   {
    "duration": 0,
    "start_time": "2023-12-06T21:50:04.894Z"
   },
   {
    "duration": 0,
    "start_time": "2023-12-06T21:50:04.895Z"
   },
   {
    "duration": 0,
    "start_time": "2023-12-06T21:50:04.896Z"
   },
   {
    "duration": 48844,
    "start_time": "2023-12-06T21:50:25.364Z"
   },
   {
    "duration": 75,
    "start_time": "2023-12-06T21:51:14.211Z"
   },
   {
    "duration": 0,
    "start_time": "2023-12-06T21:51:14.287Z"
   },
   {
    "duration": 0,
    "start_time": "2023-12-06T21:51:14.289Z"
   },
   {
    "duration": 0,
    "start_time": "2023-12-06T21:51:14.289Z"
   },
   {
    "duration": 4,
    "start_time": "2023-12-06T21:52:48.177Z"
   },
   {
    "duration": 5,
    "start_time": "2023-12-06T21:52:50.995Z"
   },
   {
    "duration": 1358,
    "start_time": "2023-12-06T21:52:55.108Z"
   },
   {
    "duration": 3,
    "start_time": "2023-12-06T21:53:00.875Z"
   },
   {
    "duration": 5,
    "start_time": "2023-12-06T21:53:27.858Z"
   },
   {
    "duration": 10141,
    "start_time": "2023-12-06T21:56:52.228Z"
   },
   {
    "duration": 3,
    "start_time": "2023-12-06T21:57:24.347Z"
   },
   {
    "duration": 5,
    "start_time": "2023-12-06T21:57:28.845Z"
   },
   {
    "duration": 36900,
    "start_time": "2023-12-06T21:57:30.723Z"
   },
   {
    "duration": 4,
    "start_time": "2023-12-06T22:04:54.757Z"
   },
   {
    "duration": 4,
    "start_time": "2023-12-06T22:05:01.528Z"
   },
   {
    "duration": 1600774,
    "start_time": "2023-12-06T22:05:17.222Z"
   },
   {
    "duration": 10,
    "start_time": "2023-12-06T22:34:25.722Z"
   },
   {
    "duration": 4,
    "start_time": "2023-12-06T22:34:32.166Z"
   },
   {
    "duration": 377,
    "start_time": "2023-12-06T22:36:34.191Z"
   },
   {
    "duration": 378,
    "start_time": "2023-12-06T22:36:48.668Z"
   },
   {
    "duration": 379,
    "start_time": "2023-12-06T22:38:01.941Z"
   },
   {
    "duration": 381,
    "start_time": "2023-12-06T22:39:11.612Z"
   },
   {
    "duration": 4,
    "start_time": "2023-12-06T22:39:15.566Z"
   },
   {
    "duration": 380,
    "start_time": "2023-12-06T22:39:23.602Z"
   },
   {
    "duration": 4,
    "start_time": "2023-12-06T22:39:27.731Z"
   },
   {
    "duration": 446,
    "start_time": "2023-12-06T22:39:29.488Z"
   },
   {
    "duration": 4,
    "start_time": "2023-12-06T22:39:31.608Z"
   },
   {
    "duration": 4,
    "start_time": "2023-12-06T22:39:40.997Z"
   },
   {
    "duration": 331,
    "start_time": "2023-12-06T22:40:09.826Z"
   },
   {
    "duration": 3,
    "start_time": "2023-12-06T22:40:11.696Z"
   },
   {
    "duration": 4,
    "start_time": "2023-12-06T22:40:16.909Z"
   },
   {
    "duration": 314,
    "start_time": "2023-12-06T22:40:18.623Z"
   },
   {
    "duration": 3,
    "start_time": "2023-12-06T22:40:20.115Z"
   },
   {
    "duration": 9,
    "start_time": "2023-12-06T22:40:44.571Z"
   },
   {
    "duration": 8,
    "start_time": "2023-12-06T22:42:34.840Z"
   },
   {
    "duration": 4,
    "start_time": "2023-12-06T22:45:14.013Z"
   },
   {
    "duration": 1136,
    "start_time": "2023-12-06T22:45:59.035Z"
   },
   {
    "duration": 2,
    "start_time": "2023-12-06T22:46:00.173Z"
   },
   {
    "duration": 1020,
    "start_time": "2023-12-06T22:46:00.181Z"
   },
   {
    "duration": 103,
    "start_time": "2023-12-06T22:46:01.202Z"
   },
   {
    "duration": 24,
    "start_time": "2023-12-06T22:46:01.307Z"
   },
   {
    "duration": 400,
    "start_time": "2023-12-06T22:46:01.332Z"
   },
   {
    "duration": 2222,
    "start_time": "2023-12-06T22:46:01.734Z"
   },
   {
    "duration": 74,
    "start_time": "2023-12-06T22:46:03.958Z"
   },
   {
    "duration": 685,
    "start_time": "2023-12-06T22:46:04.034Z"
   },
   {
    "duration": 4,
    "start_time": "2023-12-06T22:46:04.721Z"
   },
   {
    "duration": 132,
    "start_time": "2023-12-06T22:46:04.727Z"
   },
   {
    "duration": 290,
    "start_time": "2023-12-06T22:46:04.861Z"
   },
   {
    "duration": 296,
    "start_time": "2023-12-06T22:46:05.153Z"
   },
   {
    "duration": 225,
    "start_time": "2023-12-06T22:46:05.452Z"
   },
   {
    "duration": 40,
    "start_time": "2023-12-06T22:46:05.682Z"
   },
   {
    "duration": 3,
    "start_time": "2023-12-06T22:46:05.724Z"
   },
   {
    "duration": 496,
    "start_time": "2023-12-06T22:46:05.729Z"
   },
   {
    "duration": 76,
    "start_time": "2023-12-06T22:46:06.227Z"
   },
   {
    "duration": 9,
    "start_time": "2023-12-06T22:46:06.304Z"
   },
   {
    "duration": 38,
    "start_time": "2023-12-06T22:46:06.314Z"
   },
   {
    "duration": 449,
    "start_time": "2023-12-06T22:46:06.354Z"
   },
   {
    "duration": 11,
    "start_time": "2023-12-06T22:46:06.805Z"
   },
   {
    "duration": 9,
    "start_time": "2023-12-06T22:46:06.817Z"
   },
   {
    "duration": 10,
    "start_time": "2023-12-06T22:46:06.828Z"
   },
   {
    "duration": 53,
    "start_time": "2023-12-06T22:46:06.839Z"
   },
   {
    "duration": 379,
    "start_time": "2023-12-06T22:46:06.893Z"
   },
   {
    "duration": 16,
    "start_time": "2023-12-06T22:46:07.274Z"
   },
   {
    "duration": 27,
    "start_time": "2023-12-06T22:46:07.291Z"
   },
   {
    "duration": 560,
    "start_time": "2023-12-06T22:46:07.319Z"
   },
   {
    "duration": 87,
    "start_time": "2023-12-06T22:46:07.881Z"
   },
   {
    "duration": 43,
    "start_time": "2023-12-06T22:46:07.969Z"
   },
   {
    "duration": 23,
    "start_time": "2023-12-06T22:46:08.013Z"
   },
   {
    "duration": 29,
    "start_time": "2023-12-06T22:46:08.038Z"
   },
   {
    "duration": 91,
    "start_time": "2023-12-06T22:46:08.069Z"
   },
   {
    "duration": 78,
    "start_time": "2023-12-06T22:46:08.161Z"
   },
   {
    "duration": 94,
    "start_time": "2023-12-06T22:46:08.241Z"
   },
   {
    "duration": 73,
    "start_time": "2023-12-06T22:46:08.337Z"
   },
   {
    "duration": 5,
    "start_time": "2023-12-06T22:46:08.411Z"
   },
   {
    "duration": 130,
    "start_time": "2023-12-06T22:46:08.417Z"
   },
   {
    "duration": 4,
    "start_time": "2023-12-06T22:46:08.549Z"
   },
   {
    "duration": 146,
    "start_time": "2023-12-06T22:46:08.557Z"
   },
   {
    "duration": 85,
    "start_time": "2023-12-06T22:46:08.705Z"
   },
   {
    "duration": 16,
    "start_time": "2023-12-06T22:46:08.791Z"
   },
   {
    "duration": 86,
    "start_time": "2023-12-06T22:46:08.809Z"
   },
   {
    "duration": 25,
    "start_time": "2023-12-06T22:46:08.897Z"
   },
   {
    "duration": 157,
    "start_time": "2023-12-06T22:46:08.923Z"
   },
   {
    "duration": 4,
    "start_time": "2023-12-06T22:46:09.081Z"
   },
   {
    "duration": 12,
    "start_time": "2023-12-06T22:46:09.087Z"
   },
   {
    "duration": 28,
    "start_time": "2023-12-06T22:46:09.101Z"
   },
   {
    "duration": 4,
    "start_time": "2023-12-06T22:46:09.130Z"
   },
   {
    "duration": 32,
    "start_time": "2023-12-06T22:46:09.136Z"
   },
   {
    "duration": 5,
    "start_time": "2023-12-06T22:46:09.181Z"
   },
   {
    "duration": 13,
    "start_time": "2023-12-06T22:46:09.187Z"
   },
   {
    "duration": 8,
    "start_time": "2023-12-06T22:46:09.201Z"
   },
   {
    "duration": 5,
    "start_time": "2023-12-06T22:46:09.210Z"
   },
   {
    "duration": 50088,
    "start_time": "2023-12-06T22:46:09.216Z"
   },
   {
    "duration": 4,
    "start_time": "2023-12-06T22:46:59.305Z"
   },
   {
    "duration": 5,
    "start_time": "2023-12-06T22:47:15.833Z"
   },
   {
    "duration": 4,
    "start_time": "2023-12-06T22:47:25.460Z"
   },
   {
    "duration": 4,
    "start_time": "2023-12-06T22:47:45.712Z"
   },
   {
    "duration": 386,
    "start_time": "2023-12-06T22:50:35.663Z"
   },
   {
    "duration": 334,
    "start_time": "2023-12-06T22:50:42.991Z"
   },
   {
    "duration": 113337,
    "start_time": "2023-12-06T22:51:22.563Z"
   },
   {
    "duration": 4,
    "start_time": "2023-12-06T22:56:16.800Z"
   },
   {
    "duration": 801223,
    "start_time": "2023-12-06T22:56:23.007Z"
   },
   {
    "duration": 0,
    "start_time": "2023-12-06T23:09:44.232Z"
   },
   {
    "duration": 4,
    "start_time": "2023-12-06T23:09:47.175Z"
   },
   {
    "duration": 333,
    "start_time": "2023-12-06T23:09:48.831Z"
   },
   {
    "duration": 308,
    "start_time": "2023-12-06T23:10:35.934Z"
   },
   {
    "duration": 18,
    "start_time": "2023-12-06T23:12:10.916Z"
   },
   {
    "duration": 23,
    "start_time": "2023-12-06T23:12:35.988Z"
   },
   {
    "duration": 1204,
    "start_time": "2023-12-06T23:13:19.733Z"
   },
   {
    "duration": 3,
    "start_time": "2023-12-06T23:13:20.938Z"
   },
   {
    "duration": 1068,
    "start_time": "2023-12-06T23:13:20.942Z"
   },
   {
    "duration": 109,
    "start_time": "2023-12-06T23:13:22.012Z"
   },
   {
    "duration": 25,
    "start_time": "2023-12-06T23:13:22.123Z"
   },
   {
    "duration": 444,
    "start_time": "2023-12-06T23:13:22.150Z"
   },
   {
    "duration": 2348,
    "start_time": "2023-12-06T23:13:22.596Z"
   },
   {
    "duration": 79,
    "start_time": "2023-12-06T23:13:24.946Z"
   },
   {
    "duration": 728,
    "start_time": "2023-12-06T23:13:25.026Z"
   },
   {
    "duration": 3,
    "start_time": "2023-12-06T23:13:25.757Z"
   },
   {
    "duration": 130,
    "start_time": "2023-12-06T23:13:25.761Z"
   },
   {
    "duration": 297,
    "start_time": "2023-12-06T23:13:25.896Z"
   },
   {
    "duration": 305,
    "start_time": "2023-12-06T23:13:26.195Z"
   },
   {
    "duration": 236,
    "start_time": "2023-12-06T23:13:26.502Z"
   },
   {
    "duration": 53,
    "start_time": "2023-12-06T23:13:26.740Z"
   },
   {
    "duration": 3,
    "start_time": "2023-12-06T23:13:26.794Z"
   },
   {
    "duration": 467,
    "start_time": "2023-12-06T23:13:26.798Z"
   },
   {
    "duration": 73,
    "start_time": "2023-12-06T23:13:27.267Z"
   },
   {
    "duration": 7,
    "start_time": "2023-12-06T23:13:27.342Z"
   },
   {
    "duration": 54,
    "start_time": "2023-12-06T23:13:27.350Z"
   },
   {
    "duration": 472,
    "start_time": "2023-12-06T23:13:27.406Z"
   },
   {
    "duration": 16,
    "start_time": "2023-12-06T23:13:27.881Z"
   },
   {
    "duration": 10,
    "start_time": "2023-12-06T23:13:27.898Z"
   },
   {
    "duration": 10,
    "start_time": "2023-12-06T23:13:27.909Z"
   },
   {
    "duration": 38,
    "start_time": "2023-12-06T23:13:27.920Z"
   },
   {
    "duration": 419,
    "start_time": "2023-12-06T23:13:27.960Z"
   },
   {
    "duration": 18,
    "start_time": "2023-12-06T23:13:28.380Z"
   },
   {
    "duration": 30,
    "start_time": "2023-12-06T23:13:28.401Z"
   },
   {
    "duration": 625,
    "start_time": "2023-12-06T23:13:28.433Z"
   },
   {
    "duration": 109,
    "start_time": "2023-12-06T23:13:29.059Z"
   },
   {
    "duration": 52,
    "start_time": "2023-12-06T23:13:29.170Z"
   },
   {
    "duration": 22,
    "start_time": "2023-12-06T23:13:29.224Z"
   },
   {
    "duration": 39,
    "start_time": "2023-12-06T23:13:29.248Z"
   },
   {
    "duration": 123,
    "start_time": "2023-12-06T23:13:29.288Z"
   },
   {
    "duration": 102,
    "start_time": "2023-12-06T23:13:29.413Z"
   },
   {
    "duration": 115,
    "start_time": "2023-12-06T23:13:29.517Z"
   },
   {
    "duration": 92,
    "start_time": "2023-12-06T23:13:29.634Z"
   },
   {
    "duration": 4,
    "start_time": "2023-12-06T23:13:29.728Z"
   },
   {
    "duration": 158,
    "start_time": "2023-12-06T23:13:29.734Z"
   },
   {
    "duration": 5,
    "start_time": "2023-12-06T23:13:29.894Z"
   },
   {
    "duration": 163,
    "start_time": "2023-12-06T23:13:29.900Z"
   },
   {
    "duration": 101,
    "start_time": "2023-12-06T23:13:30.064Z"
   },
   {
    "duration": 31,
    "start_time": "2023-12-06T23:13:30.166Z"
   },
   {
    "duration": 99,
    "start_time": "2023-12-06T23:13:30.198Z"
   },
   {
    "duration": 3,
    "start_time": "2023-12-06T23:13:30.299Z"
   },
   {
    "duration": 24,
    "start_time": "2023-12-06T23:13:30.303Z"
   },
   {
    "duration": 45,
    "start_time": "2023-12-06T23:13:30.329Z"
   },
   {
    "duration": 125,
    "start_time": "2023-12-06T23:13:30.376Z"
   },
   {
    "duration": 40,
    "start_time": "2023-12-06T23:13:30.503Z"
   },
   {
    "duration": 86,
    "start_time": "2023-12-06T23:13:30.545Z"
   },
   {
    "duration": 4,
    "start_time": "2023-12-06T23:13:30.633Z"
   },
   {
    "duration": 76,
    "start_time": "2023-12-06T23:13:30.639Z"
   },
   {
    "duration": 20,
    "start_time": "2023-12-06T23:13:30.717Z"
   },
   {
    "duration": 35,
    "start_time": "2023-12-06T23:13:30.739Z"
   },
   {
    "duration": 103,
    "start_time": "2023-12-06T23:14:34.890Z"
   },
   {
    "duration": 4,
    "start_time": "2023-12-06T23:14:52.064Z"
   },
   {
    "duration": 380,
    "start_time": "2023-12-06T23:15:13.453Z"
   },
   {
    "duration": 378,
    "start_time": "2023-12-06T23:15:25.066Z"
   },
   {
    "duration": 400,
    "start_time": "2023-12-06T23:15:33.193Z"
   },
   {
    "duration": 8,
    "start_time": "2023-12-06T23:16:07.104Z"
   },
   {
    "duration": 9,
    "start_time": "2023-12-06T23:16:22.503Z"
   },
   {
    "duration": 4,
    "start_time": "2023-12-06T23:17:21.040Z"
   },
   {
    "duration": 414,
    "start_time": "2023-12-06T23:17:35.031Z"
   },
   {
    "duration": 347,
    "start_time": "2023-12-06T23:17:42.547Z"
   },
   {
    "duration": 4,
    "start_time": "2023-12-06T23:17:52.151Z"
   },
   {
    "duration": 1968855,
    "start_time": "2023-12-06T23:20:08.329Z"
   },
   {
    "duration": 0,
    "start_time": "2023-12-06T23:52:57.187Z"
   },
   {
    "duration": 0,
    "start_time": "2023-12-06T23:52:57.191Z"
   },
   {
    "duration": 4,
    "start_time": "2023-12-06T23:53:23.302Z"
   },
   {
    "duration": 477635,
    "start_time": "2023-12-06T23:53:27.158Z"
   },
   {
    "duration": 102,
    "start_time": "2023-12-07T00:01:35.583Z"
   },
   {
    "duration": 97,
    "start_time": "2023-12-07T00:01:37.211Z"
   },
   {
    "duration": 88,
    "start_time": "2023-12-07T00:01:44.794Z"
   },
   {
    "duration": 4,
    "start_time": "2023-12-07T00:02:35.355Z"
   },
   {
    "duration": 5,
    "start_time": "2023-12-07T00:02:52.480Z"
   },
   {
    "duration": 4,
    "start_time": "2023-12-07T00:03:59.568Z"
   },
   {
    "duration": 3,
    "start_time": "2023-12-07T00:05:47.202Z"
   },
   {
    "duration": 3,
    "start_time": "2023-12-07T00:06:07.859Z"
   },
   {
    "duration": 2,
    "start_time": "2023-12-07T00:06:35.873Z"
   },
   {
    "duration": 106,
    "start_time": "2023-12-07T00:11:03.728Z"
   },
   {
    "duration": 10,
    "start_time": "2023-12-07T00:11:22.125Z"
   },
   {
    "duration": 4,
    "start_time": "2023-12-07T00:11:42.634Z"
   },
   {
    "duration": 67391,
    "start_time": "2023-12-07T00:11:43.928Z"
   },
   {
    "duration": 3,
    "start_time": "2023-12-07T00:12:51.321Z"
   },
   {
    "duration": 9,
    "start_time": "2023-12-07T00:15:30.123Z"
   },
   {
    "duration": 2,
    "start_time": "2023-12-07T00:15:54.403Z"
   },
   {
    "duration": 360,
    "start_time": "2023-12-07T00:17:46.488Z"
   },
   {
    "duration": 107,
    "start_time": "2023-12-07T00:17:55.272Z"
   },
   {
    "duration": 30,
    "start_time": "2023-12-07T00:18:31.942Z"
   },
   {
    "duration": 4,
    "start_time": "2023-12-07T00:18:48.924Z"
   },
   {
    "duration": 8,
    "start_time": "2023-12-07T00:19:14.874Z"
   },
   {
    "duration": 4,
    "start_time": "2023-12-07T00:19:29.986Z"
   },
   {
    "duration": 43138,
    "start_time": "2023-12-07T00:21:28.881Z"
   },
   {
    "duration": 101,
    "start_time": "2023-12-07T00:23:46.780Z"
   },
   {
    "duration": 118,
    "start_time": "2023-12-07T00:23:56.280Z"
   },
   {
    "duration": 4,
    "start_time": "2023-12-07T00:24:10.254Z"
   },
   {
    "duration": 51827,
    "start_time": "2023-12-07T00:24:58.076Z"
   },
   {
    "duration": 1447,
    "start_time": "2023-12-07T00:28:24.048Z"
   },
   {
    "duration": 3,
    "start_time": "2023-12-07T00:29:07.320Z"
   },
   {
    "duration": 3,
    "start_time": "2023-12-07T00:30:10.962Z"
   },
   {
    "duration": 70942,
    "start_time": "2023-12-07T00:30:13.064Z"
   },
   {
    "duration": 4,
    "start_time": "2023-12-07T00:31:26.873Z"
   },
   {
    "duration": 4,
    "start_time": "2023-12-07T00:31:43.122Z"
   },
   {
    "duration": 4,
    "start_time": "2023-12-07T00:32:18.479Z"
   },
   {
    "duration": 384,
    "start_time": "2023-12-07T00:32:41.724Z"
   },
   {
    "duration": 14,
    "start_time": "2023-12-07T00:35:04.385Z"
   },
   {
    "duration": 12,
    "start_time": "2023-12-07T00:35:48.316Z"
   },
   {
    "duration": 12,
    "start_time": "2023-12-07T00:35:49.376Z"
   },
   {
    "duration": 437,
    "start_time": "2023-12-07T00:35:51.653Z"
   },
   {
    "duration": 14,
    "start_time": "2023-12-07T00:35:54.166Z"
   },
   {
    "duration": 372,
    "start_time": "2023-12-07T00:35:57.415Z"
   },
   {
    "duration": 11,
    "start_time": "2023-12-07T00:35:58.818Z"
   },
   {
    "duration": 399,
    "start_time": "2023-12-07T00:36:04.924Z"
   },
   {
    "duration": 53,
    "start_time": "2023-12-07T00:36:08.434Z"
   },
   {
    "duration": 1748,
    "start_time": "2023-12-07T00:38:04.151Z"
   },
   {
    "duration": 1836,
    "start_time": "2023-12-07T00:38:16.249Z"
   },
   {
    "duration": 1588,
    "start_time": "2023-12-07T00:38:20.796Z"
   },
   {
    "duration": 13,
    "start_time": "2023-12-07T00:38:34.518Z"
   },
   {
    "duration": 3,
    "start_time": "2023-12-07T00:38:56.541Z"
   },
   {
    "duration": 72479,
    "start_time": "2023-12-07T00:38:57.628Z"
   },
   {
    "duration": 12,
    "start_time": "2023-12-07T00:40:26.563Z"
   },
   {
    "duration": 5272,
    "start_time": "2023-12-07T00:41:26.731Z"
   },
   {
    "duration": 240,
    "start_time": "2023-12-07T00:41:45.743Z"
   },
   {
    "duration": 214,
    "start_time": "2023-12-07T00:42:02.482Z"
   },
   {
    "duration": 207,
    "start_time": "2023-12-07T00:42:55.377Z"
   },
   {
    "duration": 53146,
    "start_time": "2023-12-07T00:43:21.946Z"
   },
   {
    "duration": 2808,
    "start_time": "2023-12-07T00:45:08.766Z"
   },
   {
    "duration": 3,
    "start_time": "2023-12-07T00:46:38.607Z"
   },
   {
    "duration": 2442,
    "start_time": "2023-12-07T00:46:48.972Z"
   },
   {
    "duration": 13,
    "start_time": "2023-12-07T00:51:52.561Z"
   },
   {
    "duration": 477,
    "start_time": "2023-12-07T00:56:10.527Z"
   },
   {
    "duration": 78,
    "start_time": "2023-12-07T00:57:03.747Z"
   },
   {
    "duration": 566,
    "start_time": "2023-12-07T00:57:12.733Z"
   },
   {
    "duration": 15,
    "start_time": "2023-12-07T01:03:58.078Z"
   },
   {
    "duration": 9,
    "start_time": "2023-12-07T01:04:03.505Z"
   },
   {
    "duration": 2736,
    "start_time": "2023-12-07T01:08:07.661Z"
   },
   {
    "duration": 1244,
    "start_time": "2023-12-07T01:08:10.401Z"
   },
   {
    "duration": 2,
    "start_time": "2023-12-07T01:08:11.647Z"
   },
   {
    "duration": 11,
    "start_time": "2023-12-07T01:08:11.651Z"
   },
   {
    "duration": 1100,
    "start_time": "2023-12-07T01:08:11.663Z"
   },
   {
    "duration": 134,
    "start_time": "2023-12-07T01:08:12.764Z"
   },
   {
    "duration": 27,
    "start_time": "2023-12-07T01:08:12.901Z"
   },
   {
    "duration": 429,
    "start_time": "2023-12-07T01:08:12.930Z"
   },
   {
    "duration": 2282,
    "start_time": "2023-12-07T01:08:13.361Z"
   },
   {
    "duration": 97,
    "start_time": "2023-12-07T01:08:15.646Z"
   },
   {
    "duration": 710,
    "start_time": "2023-12-07T01:08:15.745Z"
   },
   {
    "duration": 3,
    "start_time": "2023-12-07T01:08:16.457Z"
   },
   {
    "duration": 108,
    "start_time": "2023-12-07T01:08:16.461Z"
   },
   {
    "duration": 286,
    "start_time": "2023-12-07T01:08:16.570Z"
   },
   {
    "duration": 304,
    "start_time": "2023-12-07T01:08:16.858Z"
   },
   {
    "duration": 234,
    "start_time": "2023-12-07T01:08:17.164Z"
   },
   {
    "duration": 39,
    "start_time": "2023-12-07T01:08:17.399Z"
   },
   {
    "duration": 4,
    "start_time": "2023-12-07T01:08:17.439Z"
   },
   {
    "duration": 467,
    "start_time": "2023-12-07T01:08:17.444Z"
   },
   {
    "duration": 83,
    "start_time": "2023-12-07T01:08:17.913Z"
   },
   {
    "duration": 8,
    "start_time": "2023-12-07T01:08:17.997Z"
   },
   {
    "duration": 39,
    "start_time": "2023-12-07T01:08:18.006Z"
   },
   {
    "duration": 456,
    "start_time": "2023-12-07T01:08:18.047Z"
   },
   {
    "duration": 11,
    "start_time": "2023-12-07T01:08:18.505Z"
   },
   {
    "duration": 8,
    "start_time": "2023-12-07T01:08:18.518Z"
   },
   {
    "duration": 10,
    "start_time": "2023-12-07T01:08:18.528Z"
   },
   {
    "duration": 60,
    "start_time": "2023-12-07T01:08:18.539Z"
   },
   {
    "duration": 398,
    "start_time": "2023-12-07T01:08:18.603Z"
   },
   {
    "duration": 21,
    "start_time": "2023-12-07T01:08:19.003Z"
   },
   {
    "duration": 27,
    "start_time": "2023-12-07T01:08:19.026Z"
   },
   {
    "duration": 583,
    "start_time": "2023-12-07T01:08:19.055Z"
   },
   {
    "duration": 95,
    "start_time": "2023-12-07T01:08:19.639Z"
   },
   {
    "duration": 31,
    "start_time": "2023-12-07T01:08:19.736Z"
   },
   {
    "duration": 38,
    "start_time": "2023-12-07T01:08:19.768Z"
   },
   {
    "duration": 43,
    "start_time": "2023-12-07T01:08:19.807Z"
   },
   {
    "duration": 105,
    "start_time": "2023-12-07T01:08:19.852Z"
   },
   {
    "duration": 89,
    "start_time": "2023-12-07T01:08:19.958Z"
   },
   {
    "duration": 111,
    "start_time": "2023-12-07T01:08:20.049Z"
   },
   {
    "duration": 84,
    "start_time": "2023-12-07T01:08:20.161Z"
   },
   {
    "duration": 6,
    "start_time": "2023-12-07T01:08:20.246Z"
   },
   {
    "duration": 149,
    "start_time": "2023-12-07T01:08:20.253Z"
   },
   {
    "duration": 6,
    "start_time": "2023-12-07T01:08:20.404Z"
   },
   {
    "duration": 148,
    "start_time": "2023-12-07T01:08:20.411Z"
   },
   {
    "duration": 95,
    "start_time": "2023-12-07T01:08:20.561Z"
   },
   {
    "duration": 26,
    "start_time": "2023-12-07T01:08:20.658Z"
   },
   {
    "duration": 3,
    "start_time": "2023-12-07T01:08:20.696Z"
   },
   {
    "duration": 13,
    "start_time": "2023-12-07T01:08:20.700Z"
   },
   {
    "duration": 82,
    "start_time": "2023-12-07T01:08:20.714Z"
   },
   {
    "duration": 16,
    "start_time": "2023-12-07T01:08:20.797Z"
   },
   {
    "duration": 5,
    "start_time": "2023-12-07T01:08:20.815Z"
   },
   {
    "duration": 72,
    "start_time": "2023-12-07T01:08:20.821Z"
   },
   {
    "duration": 7,
    "start_time": "2023-12-07T01:08:20.895Z"
   },
   {
    "duration": 18,
    "start_time": "2023-12-07T01:08:20.904Z"
   },
   {
    "duration": 3,
    "start_time": "2023-12-07T01:08:20.924Z"
   },
   {
    "duration": 13,
    "start_time": "2023-12-07T01:08:20.928Z"
   },
   {
    "duration": 67667,
    "start_time": "2023-12-07T01:08:20.942Z"
   },
   {
    "duration": 4,
    "start_time": "2023-12-07T01:09:28.611Z"
   },
   {
    "duration": 14,
    "start_time": "2023-12-07T01:09:28.616Z"
   },
   {
    "duration": 461673,
    "start_time": "2023-12-07T01:09:28.632Z"
   },
   {
    "duration": 3,
    "start_time": "2023-12-07T01:17:10.306Z"
   },
   {
    "duration": 5990,
    "start_time": "2023-12-07T01:17:10.311Z"
   },
   {
    "duration": 302,
    "start_time": "2023-12-07T01:17:16.381Z"
   },
   {
    "duration": 47506,
    "start_time": "2023-12-07T01:17:16.685Z"
   },
   {
    "duration": 2389,
    "start_time": "2023-12-07T01:18:04.196Z"
   },
   {
    "duration": 10,
    "start_time": "2023-12-07T01:18:06.592Z"
   },
   {
    "duration": 698,
    "start_time": "2023-12-07T01:18:06.604Z"
   },
   {
    "duration": 7,
    "start_time": "2023-12-07T01:18:07.303Z"
   },
   {
    "duration": 46,
    "start_time": "2023-12-07T10:06:12.486Z"
   },
   {
    "duration": 6473,
    "start_time": "2023-12-07T10:07:58.089Z"
   },
   {
    "duration": 1351,
    "start_time": "2023-12-07T10:08:04.564Z"
   },
   {
    "duration": 2,
    "start_time": "2023-12-07T10:08:05.917Z"
   },
   {
    "duration": 28,
    "start_time": "2023-12-07T10:08:05.921Z"
   },
   {
    "duration": 3133,
    "start_time": "2023-12-07T10:08:05.950Z"
   },
   {
    "duration": 102,
    "start_time": "2023-12-07T10:08:09.085Z"
   },
   {
    "duration": 32,
    "start_time": "2023-12-07T10:08:09.189Z"
   },
   {
    "duration": 389,
    "start_time": "2023-12-07T10:08:09.223Z"
   },
   {
    "duration": 2307,
    "start_time": "2023-12-07T10:08:09.614Z"
   },
   {
    "duration": 73,
    "start_time": "2023-12-07T10:08:11.924Z"
   },
   {
    "duration": 764,
    "start_time": "2023-12-07T10:08:11.998Z"
   },
   {
    "duration": 3,
    "start_time": "2023-12-07T10:08:12.764Z"
   },
   {
    "duration": 151,
    "start_time": "2023-12-07T10:08:12.769Z"
   },
   {
    "duration": 277,
    "start_time": "2023-12-07T10:08:12.922Z"
   },
   {
    "duration": 298,
    "start_time": "2023-12-07T10:08:13.201Z"
   },
   {
    "duration": 234,
    "start_time": "2023-12-07T10:08:13.501Z"
   },
   {
    "duration": 39,
    "start_time": "2023-12-07T10:08:13.737Z"
   },
   {
    "duration": 24,
    "start_time": "2023-12-07T10:08:13.778Z"
   },
   {
    "duration": 458,
    "start_time": "2023-12-07T10:08:13.803Z"
   },
   {
    "duration": 67,
    "start_time": "2023-12-07T10:08:14.262Z"
   },
   {
    "duration": 7,
    "start_time": "2023-12-07T10:08:14.331Z"
   },
   {
    "duration": 53,
    "start_time": "2023-12-07T10:08:14.340Z"
   },
   {
    "duration": 459,
    "start_time": "2023-12-07T10:08:14.395Z"
   },
   {
    "duration": 12,
    "start_time": "2023-12-07T10:08:14.855Z"
   },
   {
    "duration": 14,
    "start_time": "2023-12-07T10:08:14.868Z"
   },
   {
    "duration": 34,
    "start_time": "2023-12-07T10:08:14.883Z"
   },
   {
    "duration": 36,
    "start_time": "2023-12-07T10:08:14.918Z"
   },
   {
    "duration": 504,
    "start_time": "2023-12-07T10:08:14.957Z"
   },
   {
    "duration": 14,
    "start_time": "2023-12-07T10:08:15.463Z"
   },
   {
    "duration": 40,
    "start_time": "2023-12-07T10:08:15.479Z"
   },
   {
    "duration": 499,
    "start_time": "2023-12-07T10:08:15.521Z"
   },
   {
    "duration": 99,
    "start_time": "2023-12-07T10:08:16.022Z"
   },
   {
    "duration": 33,
    "start_time": "2023-12-07T10:08:16.122Z"
   },
   {
    "duration": 53,
    "start_time": "2023-12-07T10:08:16.156Z"
   },
   {
    "duration": 36,
    "start_time": "2023-12-07T10:08:16.211Z"
   },
   {
    "duration": 94,
    "start_time": "2023-12-07T10:08:16.248Z"
   },
   {
    "duration": 83,
    "start_time": "2023-12-07T10:08:16.343Z"
   },
   {
    "duration": 95,
    "start_time": "2023-12-07T10:08:16.428Z"
   },
   {
    "duration": 63,
    "start_time": "2023-12-07T10:08:16.525Z"
   },
   {
    "duration": 12,
    "start_time": "2023-12-07T10:08:16.589Z"
   },
   {
    "duration": 140,
    "start_time": "2023-12-07T10:08:16.603Z"
   },
   {
    "duration": 5,
    "start_time": "2023-12-07T10:08:16.744Z"
   },
   {
    "duration": 154,
    "start_time": "2023-12-07T10:08:16.750Z"
   },
   {
    "duration": 87,
    "start_time": "2023-12-07T10:08:16.905Z"
   },
   {
    "duration": 17,
    "start_time": "2023-12-07T10:08:16.999Z"
   },
   {
    "duration": 2,
    "start_time": "2023-12-07T10:08:17.018Z"
   },
   {
    "duration": 31,
    "start_time": "2023-12-07T10:08:17.021Z"
   },
   {
    "duration": 106,
    "start_time": "2023-12-07T10:08:17.054Z"
   },
   {
    "duration": 23,
    "start_time": "2023-12-07T10:08:17.162Z"
   },
   {
    "duration": 12,
    "start_time": "2023-12-07T10:08:17.187Z"
   },
   {
    "duration": 69,
    "start_time": "2023-12-07T10:08:17.200Z"
   },
   {
    "duration": 4,
    "start_time": "2023-12-07T10:08:17.271Z"
   },
   {
    "duration": 62,
    "start_time": "2023-12-07T10:08:17.276Z"
   },
   {
    "duration": 8,
    "start_time": "2023-12-07T10:08:17.340Z"
   },
   {
    "duration": 29,
    "start_time": "2023-12-07T10:08:17.350Z"
   },
   {
    "duration": 56552,
    "start_time": "2023-12-07T10:08:39.872Z"
   },
   {
    "duration": 3,
    "start_time": "2023-12-07T10:09:57.252Z"
   },
   {
    "duration": 4,
    "start_time": "2023-12-07T10:10:00.716Z"
   },
   {
    "duration": 2842,
    "start_time": "2023-12-07T10:10:23.627Z"
   },
   {
    "duration": 1258,
    "start_time": "2023-12-07T10:10:26.471Z"
   },
   {
    "duration": 3,
    "start_time": "2023-12-07T10:10:27.731Z"
   },
   {
    "duration": 1073,
    "start_time": "2023-12-07T10:10:27.736Z"
   },
   {
    "duration": 102,
    "start_time": "2023-12-07T10:10:28.811Z"
   },
   {
    "duration": 24,
    "start_time": "2023-12-07T10:10:28.914Z"
   },
   {
    "duration": 407,
    "start_time": "2023-12-07T10:10:28.939Z"
   },
   {
    "duration": 2317,
    "start_time": "2023-12-07T10:10:29.348Z"
   },
   {
    "duration": 83,
    "start_time": "2023-12-07T10:10:31.667Z"
   },
   {
    "duration": 791,
    "start_time": "2023-12-07T10:10:31.753Z"
   },
   {
    "duration": 56,
    "start_time": "2023-12-07T10:10:32.545Z"
   },
   {
    "duration": 232,
    "start_time": "2023-12-07T10:10:32.604Z"
   },
   {
    "duration": 675,
    "start_time": "2023-12-07T10:10:32.837Z"
   },
   {
    "duration": 521,
    "start_time": "2023-12-07T10:10:33.514Z"
   },
   {
    "duration": 254,
    "start_time": "2023-12-07T10:10:34.036Z"
   },
   {
    "duration": 46,
    "start_time": "2023-12-07T10:10:34.291Z"
   },
   {
    "duration": 19,
    "start_time": "2023-12-07T10:10:34.339Z"
   },
   {
    "duration": 464,
    "start_time": "2023-12-07T10:10:34.359Z"
   },
   {
    "duration": 79,
    "start_time": "2023-12-07T10:10:34.825Z"
   },
   {
    "duration": 8,
    "start_time": "2023-12-07T10:10:34.905Z"
   },
   {
    "duration": 92,
    "start_time": "2023-12-07T10:10:34.915Z"
   },
   {
    "duration": 1024,
    "start_time": "2023-12-07T10:10:35.009Z"
   },
   {
    "duration": 66,
    "start_time": "2023-12-07T10:10:36.034Z"
   },
   {
    "duration": 11,
    "start_time": "2023-12-07T10:10:36.101Z"
   },
   {
    "duration": 14,
    "start_time": "2023-12-07T10:10:36.113Z"
   },
   {
    "duration": 91,
    "start_time": "2023-12-07T10:10:36.128Z"
   },
   {
    "duration": 717,
    "start_time": "2023-12-07T10:10:36.220Z"
   },
   {
    "duration": 67,
    "start_time": "2023-12-07T10:10:36.940Z"
   },
   {
    "duration": 28,
    "start_time": "2023-12-07T10:10:37.008Z"
   },
   {
    "duration": 1195,
    "start_time": "2023-12-07T10:10:37.038Z"
   },
   {
    "duration": 199,
    "start_time": "2023-12-07T10:10:38.235Z"
   },
   {
    "duration": 83,
    "start_time": "2023-12-07T10:10:38.435Z"
   },
   {
    "duration": 24,
    "start_time": "2023-12-07T10:10:38.520Z"
   },
   {
    "duration": 19,
    "start_time": "2023-12-07T10:10:38.599Z"
   },
   {
    "duration": 188,
    "start_time": "2023-12-07T10:10:38.620Z"
   },
   {
    "duration": 191,
    "start_time": "2023-12-07T10:10:38.809Z"
   },
   {
    "duration": 197,
    "start_time": "2023-12-07T10:10:39.002Z"
   },
   {
    "duration": 121,
    "start_time": "2023-12-07T10:10:39.201Z"
   },
   {
    "duration": 5,
    "start_time": "2023-12-07T10:10:39.324Z"
   },
   {
    "duration": 201,
    "start_time": "2023-12-07T10:10:39.330Z"
   },
   {
    "duration": 5,
    "start_time": "2023-12-07T10:10:39.533Z"
   },
   {
    "duration": 154,
    "start_time": "2023-12-07T10:10:39.539Z"
   },
   {
    "duration": 85,
    "start_time": "2023-12-07T10:10:39.706Z"
   },
   {
    "duration": 17,
    "start_time": "2023-12-07T10:10:39.798Z"
   },
   {
    "duration": 5,
    "start_time": "2023-12-07T10:10:39.817Z"
   },
   {
    "duration": 15,
    "start_time": "2023-12-07T10:10:39.823Z"
   },
   {
    "duration": 102,
    "start_time": "2023-12-07T10:10:39.840Z"
   },
   {
    "duration": 26,
    "start_time": "2023-12-07T10:10:39.944Z"
   },
   {
    "duration": 5,
    "start_time": "2023-12-07T10:10:39.971Z"
   },
   {
    "duration": 72,
    "start_time": "2023-12-07T10:10:39.978Z"
   },
   {
    "duration": 6,
    "start_time": "2023-12-07T10:10:40.052Z"
   },
   {
    "duration": 30,
    "start_time": "2023-12-07T10:10:40.060Z"
   },
   {
    "duration": 17,
    "start_time": "2023-12-07T10:10:40.092Z"
   },
   {
    "duration": 25,
    "start_time": "2023-12-07T10:10:40.111Z"
   },
   {
    "duration": 53744,
    "start_time": "2023-12-07T10:10:49.375Z"
   },
   {
    "duration": 2852,
    "start_time": "2023-12-07T10:25:41.904Z"
   },
   {
    "duration": 48,
    "start_time": "2023-12-07T10:25:44.758Z"
   },
   {
    "duration": 0,
    "start_time": "2023-12-07T10:25:44.809Z"
   },
   {
    "duration": 0,
    "start_time": "2023-12-07T10:25:44.811Z"
   },
   {
    "duration": 0,
    "start_time": "2023-12-07T10:25:44.812Z"
   },
   {
    "duration": 0,
    "start_time": "2023-12-07T10:25:44.813Z"
   },
   {
    "duration": 0,
    "start_time": "2023-12-07T10:25:44.814Z"
   },
   {
    "duration": 0,
    "start_time": "2023-12-07T10:25:44.815Z"
   },
   {
    "duration": 0,
    "start_time": "2023-12-07T10:25:44.816Z"
   },
   {
    "duration": 0,
    "start_time": "2023-12-07T10:25:44.817Z"
   },
   {
    "duration": 0,
    "start_time": "2023-12-07T10:25:44.818Z"
   },
   {
    "duration": 0,
    "start_time": "2023-12-07T10:25:44.819Z"
   },
   {
    "duration": 0,
    "start_time": "2023-12-07T10:25:44.820Z"
   },
   {
    "duration": 0,
    "start_time": "2023-12-07T10:25:44.821Z"
   },
   {
    "duration": 0,
    "start_time": "2023-12-07T10:25:44.822Z"
   },
   {
    "duration": 0,
    "start_time": "2023-12-07T10:25:44.823Z"
   },
   {
    "duration": 0,
    "start_time": "2023-12-07T10:25:44.824Z"
   },
   {
    "duration": 0,
    "start_time": "2023-12-07T10:25:44.824Z"
   },
   {
    "duration": 0,
    "start_time": "2023-12-07T10:25:44.826Z"
   },
   {
    "duration": 0,
    "start_time": "2023-12-07T10:25:44.826Z"
   },
   {
    "duration": 0,
    "start_time": "2023-12-07T10:25:44.828Z"
   },
   {
    "duration": 0,
    "start_time": "2023-12-07T10:25:44.829Z"
   },
   {
    "duration": 0,
    "start_time": "2023-12-07T10:25:44.829Z"
   },
   {
    "duration": 0,
    "start_time": "2023-12-07T10:25:44.830Z"
   },
   {
    "duration": 0,
    "start_time": "2023-12-07T10:25:44.831Z"
   },
   {
    "duration": 0,
    "start_time": "2023-12-07T10:25:44.832Z"
   },
   {
    "duration": 0,
    "start_time": "2023-12-07T10:25:44.834Z"
   },
   {
    "duration": 0,
    "start_time": "2023-12-07T10:25:44.835Z"
   },
   {
    "duration": 0,
    "start_time": "2023-12-07T10:25:44.836Z"
   },
   {
    "duration": 0,
    "start_time": "2023-12-07T10:25:44.837Z"
   },
   {
    "duration": 0,
    "start_time": "2023-12-07T10:25:44.838Z"
   },
   {
    "duration": 0,
    "start_time": "2023-12-07T10:25:44.839Z"
   },
   {
    "duration": 0,
    "start_time": "2023-12-07T10:25:44.840Z"
   },
   {
    "duration": 0,
    "start_time": "2023-12-07T10:25:44.840Z"
   },
   {
    "duration": 0,
    "start_time": "2023-12-07T10:25:44.841Z"
   },
   {
    "duration": 0,
    "start_time": "2023-12-07T10:25:44.842Z"
   },
   {
    "duration": 0,
    "start_time": "2023-12-07T10:25:44.843Z"
   },
   {
    "duration": 0,
    "start_time": "2023-12-07T10:25:44.844Z"
   },
   {
    "duration": 0,
    "start_time": "2023-12-07T10:25:44.845Z"
   },
   {
    "duration": 0,
    "start_time": "2023-12-07T10:25:44.846Z"
   },
   {
    "duration": 0,
    "start_time": "2023-12-07T10:25:44.847Z"
   },
   {
    "duration": 0,
    "start_time": "2023-12-07T10:25:44.899Z"
   },
   {
    "duration": 0,
    "start_time": "2023-12-07T10:25:44.901Z"
   },
   {
    "duration": 0,
    "start_time": "2023-12-07T10:25:44.901Z"
   },
   {
    "duration": 0,
    "start_time": "2023-12-07T10:25:44.902Z"
   },
   {
    "duration": 0,
    "start_time": "2023-12-07T10:25:44.903Z"
   },
   {
    "duration": 0,
    "start_time": "2023-12-07T10:25:44.904Z"
   },
   {
    "duration": 0,
    "start_time": "2023-12-07T10:25:44.905Z"
   },
   {
    "duration": 0,
    "start_time": "2023-12-07T10:25:44.906Z"
   },
   {
    "duration": 0,
    "start_time": "2023-12-07T10:25:44.907Z"
   },
   {
    "duration": 0,
    "start_time": "2023-12-07T10:25:44.908Z"
   },
   {
    "duration": 0,
    "start_time": "2023-12-07T10:25:44.909Z"
   },
   {
    "duration": 0,
    "start_time": "2023-12-07T10:25:44.910Z"
   },
   {
    "duration": 0,
    "start_time": "2023-12-07T10:25:44.911Z"
   },
   {
    "duration": 0,
    "start_time": "2023-12-07T10:25:44.912Z"
   },
   {
    "duration": 0,
    "start_time": "2023-12-07T10:25:44.912Z"
   },
   {
    "duration": 0,
    "start_time": "2023-12-07T10:25:44.913Z"
   },
   {
    "duration": 0,
    "start_time": "2023-12-07T10:25:44.915Z"
   },
   {
    "duration": 0,
    "start_time": "2023-12-07T10:25:44.916Z"
   },
   {
    "duration": 0,
    "start_time": "2023-12-07T10:25:44.916Z"
   },
   {
    "duration": 0,
    "start_time": "2023-12-07T10:25:44.917Z"
   },
   {
    "duration": 0,
    "start_time": "2023-12-07T10:25:44.918Z"
   },
   {
    "duration": 0,
    "start_time": "2023-12-07T10:25:44.919Z"
   },
   {
    "duration": 0,
    "start_time": "2023-12-07T10:25:44.920Z"
   },
   {
    "duration": 0,
    "start_time": "2023-12-07T10:25:44.921Z"
   },
   {
    "duration": 0,
    "start_time": "2023-12-07T10:25:44.922Z"
   },
   {
    "duration": 0,
    "start_time": "2023-12-07T10:25:44.923Z"
   },
   {
    "duration": 2975,
    "start_time": "2023-12-07T10:26:08.678Z"
   },
   {
    "duration": 1204,
    "start_time": "2023-12-07T10:26:11.655Z"
   },
   {
    "duration": 3,
    "start_time": "2023-12-07T10:26:12.861Z"
   },
   {
    "duration": 4,
    "start_time": "2023-12-07T10:26:12.865Z"
   },
   {
    "duration": 1090,
    "start_time": "2023-12-07T10:26:12.870Z"
   },
   {
    "duration": 98,
    "start_time": "2023-12-07T10:26:13.962Z"
   },
   {
    "duration": 25,
    "start_time": "2023-12-07T10:26:14.061Z"
   },
   {
    "duration": 404,
    "start_time": "2023-12-07T10:26:14.099Z"
   },
   {
    "duration": 2308,
    "start_time": "2023-12-07T10:26:14.505Z"
   },
   {
    "duration": 74,
    "start_time": "2023-12-07T10:26:16.816Z"
   },
   {
    "duration": 733,
    "start_time": "2023-12-07T10:26:16.891Z"
   },
   {
    "duration": 4,
    "start_time": "2023-12-07T10:26:17.625Z"
   },
   {
    "duration": 117,
    "start_time": "2023-12-07T10:26:17.630Z"
   },
   {
    "duration": 297,
    "start_time": "2023-12-07T10:26:17.749Z"
   },
   {
    "duration": 309,
    "start_time": "2023-12-07T10:26:18.047Z"
   },
   {
    "duration": 238,
    "start_time": "2023-12-07T10:26:18.358Z"
   },
   {
    "duration": 41,
    "start_time": "2023-12-07T10:26:18.598Z"
   },
   {
    "duration": 26,
    "start_time": "2023-12-07T10:26:18.641Z"
   },
   {
    "duration": 493,
    "start_time": "2023-12-07T10:26:18.669Z"
   },
   {
    "duration": 74,
    "start_time": "2023-12-07T10:26:19.164Z"
   },
   {
    "duration": 8,
    "start_time": "2023-12-07T10:26:19.240Z"
   },
   {
    "duration": 62,
    "start_time": "2023-12-07T10:26:19.249Z"
   },
   {
    "duration": 495,
    "start_time": "2023-12-07T10:26:19.312Z"
   },
   {
    "duration": 12,
    "start_time": "2023-12-07T10:26:19.809Z"
   },
   {
    "duration": 9,
    "start_time": "2023-12-07T10:26:19.822Z"
   },
   {
    "duration": 11,
    "start_time": "2023-12-07T10:26:19.833Z"
   },
   {
    "duration": 60,
    "start_time": "2023-12-07T10:26:19.845Z"
   },
   {
    "duration": 380,
    "start_time": "2023-12-07T10:26:19.909Z"
   },
   {
    "duration": 17,
    "start_time": "2023-12-07T10:26:20.291Z"
   },
   {
    "duration": 31,
    "start_time": "2023-12-07T10:26:20.310Z"
   },
   {
    "duration": 616,
    "start_time": "2023-12-07T10:26:20.342Z"
   },
   {
    "duration": 92,
    "start_time": "2023-12-07T10:26:20.960Z"
   },
   {
    "duration": 32,
    "start_time": "2023-12-07T10:26:21.053Z"
   },
   {
    "duration": 20,
    "start_time": "2023-12-07T10:26:21.099Z"
   },
   {
    "duration": 41,
    "start_time": "2023-12-07T10:26:21.120Z"
   },
   {
    "duration": 89,
    "start_time": "2023-12-07T10:26:21.163Z"
   },
   {
    "duration": 84,
    "start_time": "2023-12-07T10:26:21.254Z"
   },
   {
    "duration": 96,
    "start_time": "2023-12-07T10:26:21.339Z"
   },
   {
    "duration": 75,
    "start_time": "2023-12-07T10:26:21.437Z"
   },
   {
    "duration": 5,
    "start_time": "2023-12-07T10:26:21.513Z"
   },
   {
    "duration": 131,
    "start_time": "2023-12-07T10:26:21.519Z"
   },
   {
    "duration": 4,
    "start_time": "2023-12-07T10:26:21.652Z"
   },
   {
    "duration": 160,
    "start_time": "2023-12-07T10:26:21.658Z"
   },
   {
    "duration": 92,
    "start_time": "2023-12-07T10:26:21.820Z"
   },
   {
    "duration": 17,
    "start_time": "2023-12-07T10:26:21.913Z"
   },
   {
    "duration": 3,
    "start_time": "2023-12-07T10:26:21.932Z"
   },
   {
    "duration": 9,
    "start_time": "2023-12-07T10:26:21.936Z"
   },
   {
    "duration": 102,
    "start_time": "2023-12-07T10:26:21.947Z"
   },
   {
    "duration": 19,
    "start_time": "2023-12-07T10:26:22.051Z"
   },
   {
    "duration": 8,
    "start_time": "2023-12-07T10:26:22.072Z"
   },
   {
    "duration": 72,
    "start_time": "2023-12-07T10:26:22.082Z"
   },
   {
    "duration": 5,
    "start_time": "2023-12-07T10:26:22.156Z"
   },
   {
    "duration": 36,
    "start_time": "2023-12-07T10:26:22.163Z"
   },
   {
    "duration": 3,
    "start_time": "2023-12-07T10:26:22.201Z"
   },
   {
    "duration": 15,
    "start_time": "2023-12-07T10:26:22.206Z"
   },
   {
    "duration": 62508,
    "start_time": "2023-12-07T10:26:22.223Z"
   },
   {
    "duration": 3,
    "start_time": "2023-12-07T10:27:24.733Z"
   },
   {
    "duration": 16,
    "start_time": "2023-12-07T10:27:24.737Z"
   },
   {
    "duration": 1674010,
    "start_time": "2023-12-07T10:27:24.755Z"
   },
   {
    "duration": 3,
    "start_time": "2023-12-07T10:55:18.767Z"
   },
   {
    "duration": 4147,
    "start_time": "2023-12-07T10:55:18.771Z"
   },
   {
    "duration": 377,
    "start_time": "2023-12-07T10:55:22.922Z"
   },
   {
    "duration": 39209,
    "start_time": "2023-12-07T10:55:23.301Z"
   },
   {
    "duration": 2597,
    "start_time": "2023-12-07T10:56:02.511Z"
   },
   {
    "duration": 13,
    "start_time": "2023-12-07T10:56:05.111Z"
   },
   {
    "duration": 787,
    "start_time": "2023-12-07T10:56:05.125Z"
   },
   {
    "duration": 7,
    "start_time": "2023-12-07T10:56:05.915Z"
   }
  ],
  "colab": {
   "gpuType": "V100",
   "machine_shape": "hm",
   "provenance": [],
   "toc_visible": true
  },
  "kernelspec": {
   "display_name": "Python 3 (ipykernel)",
   "language": "python",
   "name": "python3"
  },
  "language_info": {
   "codemirror_mode": {
    "name": "ipython",
    "version": 3
   },
   "file_extension": ".py",
   "mimetype": "text/x-python",
   "name": "python",
   "nbconvert_exporter": "python",
   "pygments_lexer": "ipython3",
   "version": "3.9.5"
  },
  "toc": {
   "base_numbering": 1,
   "nav_menu": {},
   "number_sections": true,
   "sideBar": true,
   "skip_h1_title": true,
   "title_cell": "Table of Contents",
   "title_sidebar": "Contents",
   "toc_cell": false,
   "toc_position": {
    "height": "calc(100% - 180px)",
    "left": "10px",
    "top": "150px",
    "width": "371px"
   },
   "toc_section_display": true,
   "toc_window_display": true
  }
 },
 "nbformat": 4,
 "nbformat_minor": 1
}
