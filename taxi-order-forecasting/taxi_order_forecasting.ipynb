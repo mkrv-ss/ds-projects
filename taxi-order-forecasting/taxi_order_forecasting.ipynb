{
 "cells": [
  {
   "cell_type": "markdown",
   "metadata": {
    "id": "FBxRWzDqz5RO"
   },
   "source": [
    "#  Прогнозирование заказов такси"
   ]
  },
  {
   "cell_type": "markdown",
   "metadata": {
    "id": "w97I50Gez5RO"
   },
   "source": [
    "Предоставлены исторические данные о заказах такси в аэропортах. Необходимо построить модель для прогнозирования количества заказов такси на следующий час.\n",
    "\n",
    "Значение метрики *RMSE* на тестовой выборке должно быть не больше 48."
   ]
  },
  {
   "cell_type": "markdown",
   "metadata": {
    "id": "whFbIz9Dz5RO"
   },
   "source": [
    "## Подготовка"
   ]
  },
  {
   "cell_type": "code",
   "execution_count": 2,
   "metadata": {
    "id": "RrvI74O9z5RO"
   },
   "outputs": [],
   "source": [
    "import pprint\n",
    "\n",
    "import pandas as pd\n",
    "import matplotlib.pyplot as plt\n",
    "import numpy as np\n",
    "\n",
    "from statsmodels.tsa.seasonal import seasonal_decompose\n",
    "from statsmodels.graphics.tsaplots import plot_acf\n",
    "\n",
    "import lightgbm as lgb\n",
    "\n",
    "from sklearn.preprocessing import StandardScaler, OneHotEncoder\n",
    "from sklearn.model_selection import train_test_split, TimeSeriesSplit, cross_val_score\n",
    "from sklearn.compose import ColumnTransformer\n",
    "from sklearn.pipeline import Pipeline\n",
    "from sklearn.metrics import mean_squared_error\n",
    "from sklearn.linear_model import RidgeCV\n",
    "\n",
    "import optuna"
   ]
  },
  {
   "cell_type": "code",
   "execution_count": 3,
   "metadata": {
    "id": "eGhyxFjxz5RO"
   },
   "outputs": [],
   "source": [
    "RANDOM_STATE = 42"
   ]
  },
  {
   "cell_type": "code",
   "execution_count": 4,
   "metadata": {
    "id": "Z2jFQP0Kz5RP"
   },
   "outputs": [],
   "source": [
    "data = pd.read_csv('https://code.s3.yandex.net/datasets/taxi.csv', index_col=[0], parse_dates=[0])"
   ]
  },
  {
   "cell_type": "code",
   "execution_count": 5,
   "metadata": {
    "id": "vYlFVLRWz5RP"
   },
   "outputs": [],
   "source": [
    "data = data.sort_index().resample('1H').sum()"
   ]
  },
  {
   "cell_type": "code",
   "execution_count": 6,
   "metadata": {
    "colab": {
     "base_uri": "https://localhost:8080/",
     "height": 238
    },
    "id": "banuyqPkz5RP",
    "outputId": "2f43b864-962a-4ef9-dc78-1290477cf6f6"
   },
   "outputs": [
    {
     "data": {
      "text/html": [
       "\n",
       "  <div id=\"df-d2e0486a-9b47-4d7a-b130-2c7eef28a03b\" class=\"colab-df-container\">\n",
       "    <div>\n",
       "<style scoped>\n",
       "    .dataframe tbody tr th:only-of-type {\n",
       "        vertical-align: middle;\n",
       "    }\n",
       "\n",
       "    .dataframe tbody tr th {\n",
       "        vertical-align: top;\n",
       "    }\n",
       "\n",
       "    .dataframe thead th {\n",
       "        text-align: right;\n",
       "    }\n",
       "</style>\n",
       "<table border=\"1\" class=\"dataframe\">\n",
       "  <thead>\n",
       "    <tr style=\"text-align: right;\">\n",
       "      <th></th>\n",
       "      <th>num_orders</th>\n",
       "    </tr>\n",
       "    <tr>\n",
       "      <th>datetime</th>\n",
       "      <th></th>\n",
       "    </tr>\n",
       "  </thead>\n",
       "  <tbody>\n",
       "    <tr>\n",
       "      <th>2018-07-11 09:00:00</th>\n",
       "      <td>104</td>\n",
       "    </tr>\n",
       "    <tr>\n",
       "      <th>2018-06-10 22:00:00</th>\n",
       "      <td>66</td>\n",
       "    </tr>\n",
       "    <tr>\n",
       "      <th>2018-08-20 20:00:00</th>\n",
       "      <td>77</td>\n",
       "    </tr>\n",
       "    <tr>\n",
       "      <th>2018-08-29 13:00:00</th>\n",
       "      <td>135</td>\n",
       "    </tr>\n",
       "    <tr>\n",
       "      <th>2018-07-02 23:00:00</th>\n",
       "      <td>121</td>\n",
       "    </tr>\n",
       "  </tbody>\n",
       "</table>\n",
       "</div>\n",
       "    <div class=\"colab-df-buttons\">\n",
       "\n",
       "  <div class=\"colab-df-container\">\n",
       "    <button class=\"colab-df-convert\" onclick=\"convertToInteractive('df-d2e0486a-9b47-4d7a-b130-2c7eef28a03b')\"\n",
       "            title=\"Convert this dataframe to an interactive table.\"\n",
       "            style=\"display:none;\">\n",
       "\n",
       "  <svg xmlns=\"http://www.w3.org/2000/svg\" height=\"24px\" viewBox=\"0 -960 960 960\">\n",
       "    <path d=\"M120-120v-720h720v720H120Zm60-500h600v-160H180v160Zm220 220h160v-160H400v160Zm0 220h160v-160H400v160ZM180-400h160v-160H180v160Zm440 0h160v-160H620v160ZM180-180h160v-160H180v160Zm440 0h160v-160H620v160Z\"/>\n",
       "  </svg>\n",
       "    </button>\n",
       "\n",
       "  <style>\n",
       "    .colab-df-container {\n",
       "      display:flex;\n",
       "      gap: 12px;\n",
       "    }\n",
       "\n",
       "    .colab-df-convert {\n",
       "      background-color: #E8F0FE;\n",
       "      border: none;\n",
       "      border-radius: 50%;\n",
       "      cursor: pointer;\n",
       "      display: none;\n",
       "      fill: #1967D2;\n",
       "      height: 32px;\n",
       "      padding: 0 0 0 0;\n",
       "      width: 32px;\n",
       "    }\n",
       "\n",
       "    .colab-df-convert:hover {\n",
       "      background-color: #E2EBFA;\n",
       "      box-shadow: 0px 1px 2px rgba(60, 64, 67, 0.3), 0px 1px 3px 1px rgba(60, 64, 67, 0.15);\n",
       "      fill: #174EA6;\n",
       "    }\n",
       "\n",
       "    .colab-df-buttons div {\n",
       "      margin-bottom: 4px;\n",
       "    }\n",
       "\n",
       "    [theme=dark] .colab-df-convert {\n",
       "      background-color: #3B4455;\n",
       "      fill: #D2E3FC;\n",
       "    }\n",
       "\n",
       "    [theme=dark] .colab-df-convert:hover {\n",
       "      background-color: #434B5C;\n",
       "      box-shadow: 0px 1px 3px 1px rgba(0, 0, 0, 0.15);\n",
       "      filter: drop-shadow(0px 1px 2px rgba(0, 0, 0, 0.3));\n",
       "      fill: #FFFFFF;\n",
       "    }\n",
       "  </style>\n",
       "\n",
       "    <script>\n",
       "      const buttonEl =\n",
       "        document.querySelector('#df-d2e0486a-9b47-4d7a-b130-2c7eef28a03b button.colab-df-convert');\n",
       "      buttonEl.style.display =\n",
       "        google.colab.kernel.accessAllowed ? 'block' : 'none';\n",
       "\n",
       "      async function convertToInteractive(key) {\n",
       "        const element = document.querySelector('#df-d2e0486a-9b47-4d7a-b130-2c7eef28a03b');\n",
       "        const dataTable =\n",
       "          await google.colab.kernel.invokeFunction('convertToInteractive',\n",
       "                                                    [key], {});\n",
       "        if (!dataTable) return;\n",
       "\n",
       "        const docLinkHtml = 'Like what you see? Visit the ' +\n",
       "          '<a target=\"_blank\" href=https://colab.research.google.com/notebooks/data_table.ipynb>data table notebook</a>'\n",
       "          + ' to learn more about interactive tables.';\n",
       "        element.innerHTML = '';\n",
       "        dataTable['output_type'] = 'display_data';\n",
       "        await google.colab.output.renderOutput(dataTable, element);\n",
       "        const docLink = document.createElement('div');\n",
       "        docLink.innerHTML = docLinkHtml;\n",
       "        element.appendChild(docLink);\n",
       "      }\n",
       "    </script>\n",
       "  </div>\n",
       "\n",
       "\n",
       "<div id=\"df-4e4d5c6d-4f46-4f9e-bb8e-a65e963f8257\">\n",
       "  <button class=\"colab-df-quickchart\" onclick=\"quickchart('df-4e4d5c6d-4f46-4f9e-bb8e-a65e963f8257')\"\n",
       "            title=\"Suggest charts\"\n",
       "            style=\"display:none;\">\n",
       "\n",
       "<svg xmlns=\"http://www.w3.org/2000/svg\" height=\"24px\"viewBox=\"0 0 24 24\"\n",
       "     width=\"24px\">\n",
       "    <g>\n",
       "        <path d=\"M19 3H5c-1.1 0-2 .9-2 2v14c0 1.1.9 2 2 2h14c1.1 0 2-.9 2-2V5c0-1.1-.9-2-2-2zM9 17H7v-7h2v7zm4 0h-2V7h2v10zm4 0h-2v-4h2v4z\"/>\n",
       "    </g>\n",
       "</svg>\n",
       "  </button>\n",
       "\n",
       "<style>\n",
       "  .colab-df-quickchart {\n",
       "      --bg-color: #E8F0FE;\n",
       "      --fill-color: #1967D2;\n",
       "      --hover-bg-color: #E2EBFA;\n",
       "      --hover-fill-color: #174EA6;\n",
       "      --disabled-fill-color: #AAA;\n",
       "      --disabled-bg-color: #DDD;\n",
       "  }\n",
       "\n",
       "  [theme=dark] .colab-df-quickchart {\n",
       "      --bg-color: #3B4455;\n",
       "      --fill-color: #D2E3FC;\n",
       "      --hover-bg-color: #434B5C;\n",
       "      --hover-fill-color: #FFFFFF;\n",
       "      --disabled-bg-color: #3B4455;\n",
       "      --disabled-fill-color: #666;\n",
       "  }\n",
       "\n",
       "  .colab-df-quickchart {\n",
       "    background-color: var(--bg-color);\n",
       "    border: none;\n",
       "    border-radius: 50%;\n",
       "    cursor: pointer;\n",
       "    display: none;\n",
       "    fill: var(--fill-color);\n",
       "    height: 32px;\n",
       "    padding: 0;\n",
       "    width: 32px;\n",
       "  }\n",
       "\n",
       "  .colab-df-quickchart:hover {\n",
       "    background-color: var(--hover-bg-color);\n",
       "    box-shadow: 0 1px 2px rgba(60, 64, 67, 0.3), 0 1px 3px 1px rgba(60, 64, 67, 0.15);\n",
       "    fill: var(--button-hover-fill-color);\n",
       "  }\n",
       "\n",
       "  .colab-df-quickchart-complete:disabled,\n",
       "  .colab-df-quickchart-complete:disabled:hover {\n",
       "    background-color: var(--disabled-bg-color);\n",
       "    fill: var(--disabled-fill-color);\n",
       "    box-shadow: none;\n",
       "  }\n",
       "\n",
       "  .colab-df-spinner {\n",
       "    border: 2px solid var(--fill-color);\n",
       "    border-color: transparent;\n",
       "    border-bottom-color: var(--fill-color);\n",
       "    animation:\n",
       "      spin 1s steps(1) infinite;\n",
       "  }\n",
       "\n",
       "  @keyframes spin {\n",
       "    0% {\n",
       "      border-color: transparent;\n",
       "      border-bottom-color: var(--fill-color);\n",
       "      border-left-color: var(--fill-color);\n",
       "    }\n",
       "    20% {\n",
       "      border-color: transparent;\n",
       "      border-left-color: var(--fill-color);\n",
       "      border-top-color: var(--fill-color);\n",
       "    }\n",
       "    30% {\n",
       "      border-color: transparent;\n",
       "      border-left-color: var(--fill-color);\n",
       "      border-top-color: var(--fill-color);\n",
       "      border-right-color: var(--fill-color);\n",
       "    }\n",
       "    40% {\n",
       "      border-color: transparent;\n",
       "      border-right-color: var(--fill-color);\n",
       "      border-top-color: var(--fill-color);\n",
       "    }\n",
       "    60% {\n",
       "      border-color: transparent;\n",
       "      border-right-color: var(--fill-color);\n",
       "    }\n",
       "    80% {\n",
       "      border-color: transparent;\n",
       "      border-right-color: var(--fill-color);\n",
       "      border-bottom-color: var(--fill-color);\n",
       "    }\n",
       "    90% {\n",
       "      border-color: transparent;\n",
       "      border-bottom-color: var(--fill-color);\n",
       "    }\n",
       "  }\n",
       "</style>\n",
       "\n",
       "  <script>\n",
       "    async function quickchart(key) {\n",
       "      const quickchartButtonEl =\n",
       "        document.querySelector('#' + key + ' button');\n",
       "      quickchartButtonEl.disabled = true;  // To prevent multiple clicks.\n",
       "      quickchartButtonEl.classList.add('colab-df-spinner');\n",
       "      try {\n",
       "        const charts = await google.colab.kernel.invokeFunction(\n",
       "            'suggestCharts', [key], {});\n",
       "      } catch (error) {\n",
       "        console.error('Error during call to suggestCharts:', error);\n",
       "      }\n",
       "      quickchartButtonEl.classList.remove('colab-df-spinner');\n",
       "      quickchartButtonEl.classList.add('colab-df-quickchart-complete');\n",
       "    }\n",
       "    (() => {\n",
       "      let quickchartButtonEl =\n",
       "        document.querySelector('#df-4e4d5c6d-4f46-4f9e-bb8e-a65e963f8257 button');\n",
       "      quickchartButtonEl.style.display =\n",
       "        google.colab.kernel.accessAllowed ? 'block' : 'none';\n",
       "    })();\n",
       "  </script>\n",
       "</div>\n",
       "    </div>\n",
       "  </div>\n"
      ],
      "text/plain": [
       "                     num_orders\n",
       "datetime                       \n",
       "2018-07-11 09:00:00         104\n",
       "2018-06-10 22:00:00          66\n",
       "2018-08-20 20:00:00          77\n",
       "2018-08-29 13:00:00         135\n",
       "2018-07-02 23:00:00         121"
      ]
     },
     "execution_count": 6,
     "metadata": {},
     "output_type": "execute_result"
    }
   ],
   "source": [
    "data.sample(5)"
   ]
  },
  {
   "cell_type": "code",
   "execution_count": 7,
   "metadata": {
    "colab": {
     "base_uri": "https://localhost:8080/"
    },
    "id": "tggRGb5mz5RP",
    "outputId": "e4afcf67-7b01-46a9-f123-171d31aaa56e"
   },
   "outputs": [
    {
     "name": "stdout",
     "output_type": "stream",
     "text": [
      "<class 'pandas.core.frame.DataFrame'>\n",
      "DatetimeIndex: 4416 entries, 2018-03-01 00:00:00 to 2018-08-31 23:00:00\n",
      "Freq: H\n",
      "Data columns (total 1 columns):\n",
      " #   Column      Non-Null Count  Dtype\n",
      "---  ------      --------------  -----\n",
      " 0   num_orders  4416 non-null   int64\n",
      "dtypes: int64(1)\n",
      "memory usage: 69.0 KB\n"
     ]
    }
   ],
   "source": [
    "data.info()"
   ]
  },
  {
   "cell_type": "code",
   "execution_count": 8,
   "metadata": {
    "colab": {
     "base_uri": "https://localhost:8080/"
    },
    "id": "Jkqpcepuz5RP",
    "outputId": "f67dd952-3166-48ee-e80d-395043713d19"
   },
   "outputs": [
    {
     "name": "stderr",
     "output_type": "stream",
     "text": [
      "<ipython-input-8-888b7429bc83>:1: FutureWarning: is_monotonic is deprecated and will be removed in a future version. Use is_monotonic_increasing instead.\n",
      "  data.index.is_monotonic\n"
     ]
    },
    {
     "data": {
      "text/plain": [
       "True"
      ]
     },
     "execution_count": 8,
     "metadata": {},
     "output_type": "execute_result"
    }
   ],
   "source": [
    "data.index.is_monotonic"
   ]
  },
  {
   "cell_type": "code",
   "execution_count": 9,
   "metadata": {
    "colab": {
     "base_uri": "https://localhost:8080/"
    },
    "id": "zd3HHjJ9z5RP",
    "outputId": "eabb0692-4cb4-4963-b1f4-d04fdb2047cb"
   },
   "outputs": [
    {
     "data": {
      "text/plain": [
       "num_orders    0\n",
       "dtype: int64"
      ]
     },
     "execution_count": 9,
     "metadata": {},
     "output_type": "execute_result"
    }
   ],
   "source": [
    "data.isna().sum()"
   ]
  },
  {
   "cell_type": "code",
   "execution_count": 10,
   "metadata": {
    "colab": {
     "base_uri": "https://localhost:8080/",
     "height": 300
    },
    "id": "juv2Lmz5z5RP",
    "outputId": "0533201f-da8a-48f4-c96d-35795cecf1a2"
   },
   "outputs": [
    {
     "data": {
      "text/html": [
       "\n",
       "  <div id=\"df-5204e5c0-1c04-4818-91cb-2bc4011cba8e\" class=\"colab-df-container\">\n",
       "    <div>\n",
       "<style scoped>\n",
       "    .dataframe tbody tr th:only-of-type {\n",
       "        vertical-align: middle;\n",
       "    }\n",
       "\n",
       "    .dataframe tbody tr th {\n",
       "        vertical-align: top;\n",
       "    }\n",
       "\n",
       "    .dataframe thead th {\n",
       "        text-align: right;\n",
       "    }\n",
       "</style>\n",
       "<table border=\"1\" class=\"dataframe\">\n",
       "  <thead>\n",
       "    <tr style=\"text-align: right;\">\n",
       "      <th></th>\n",
       "      <th>num_orders</th>\n",
       "    </tr>\n",
       "  </thead>\n",
       "  <tbody>\n",
       "    <tr>\n",
       "      <th>count</th>\n",
       "      <td>4416.000000</td>\n",
       "    </tr>\n",
       "    <tr>\n",
       "      <th>mean</th>\n",
       "      <td>84.422781</td>\n",
       "    </tr>\n",
       "    <tr>\n",
       "      <th>std</th>\n",
       "      <td>45.023853</td>\n",
       "    </tr>\n",
       "    <tr>\n",
       "      <th>min</th>\n",
       "      <td>0.000000</td>\n",
       "    </tr>\n",
       "    <tr>\n",
       "      <th>25%</th>\n",
       "      <td>54.000000</td>\n",
       "    </tr>\n",
       "    <tr>\n",
       "      <th>50%</th>\n",
       "      <td>78.000000</td>\n",
       "    </tr>\n",
       "    <tr>\n",
       "      <th>75%</th>\n",
       "      <td>107.000000</td>\n",
       "    </tr>\n",
       "    <tr>\n",
       "      <th>max</th>\n",
       "      <td>462.000000</td>\n",
       "    </tr>\n",
       "  </tbody>\n",
       "</table>\n",
       "</div>\n",
       "    <div class=\"colab-df-buttons\">\n",
       "\n",
       "  <div class=\"colab-df-container\">\n",
       "    <button class=\"colab-df-convert\" onclick=\"convertToInteractive('df-5204e5c0-1c04-4818-91cb-2bc4011cba8e')\"\n",
       "            title=\"Convert this dataframe to an interactive table.\"\n",
       "            style=\"display:none;\">\n",
       "\n",
       "  <svg xmlns=\"http://www.w3.org/2000/svg\" height=\"24px\" viewBox=\"0 -960 960 960\">\n",
       "    <path d=\"M120-120v-720h720v720H120Zm60-500h600v-160H180v160Zm220 220h160v-160H400v160Zm0 220h160v-160H400v160ZM180-400h160v-160H180v160Zm440 0h160v-160H620v160ZM180-180h160v-160H180v160Zm440 0h160v-160H620v160Z\"/>\n",
       "  </svg>\n",
       "    </button>\n",
       "\n",
       "  <style>\n",
       "    .colab-df-container {\n",
       "      display:flex;\n",
       "      gap: 12px;\n",
       "    }\n",
       "\n",
       "    .colab-df-convert {\n",
       "      background-color: #E8F0FE;\n",
       "      border: none;\n",
       "      border-radius: 50%;\n",
       "      cursor: pointer;\n",
       "      display: none;\n",
       "      fill: #1967D2;\n",
       "      height: 32px;\n",
       "      padding: 0 0 0 0;\n",
       "      width: 32px;\n",
       "    }\n",
       "\n",
       "    .colab-df-convert:hover {\n",
       "      background-color: #E2EBFA;\n",
       "      box-shadow: 0px 1px 2px rgba(60, 64, 67, 0.3), 0px 1px 3px 1px rgba(60, 64, 67, 0.15);\n",
       "      fill: #174EA6;\n",
       "    }\n",
       "\n",
       "    .colab-df-buttons div {\n",
       "      margin-bottom: 4px;\n",
       "    }\n",
       "\n",
       "    [theme=dark] .colab-df-convert {\n",
       "      background-color: #3B4455;\n",
       "      fill: #D2E3FC;\n",
       "    }\n",
       "\n",
       "    [theme=dark] .colab-df-convert:hover {\n",
       "      background-color: #434B5C;\n",
       "      box-shadow: 0px 1px 3px 1px rgba(0, 0, 0, 0.15);\n",
       "      filter: drop-shadow(0px 1px 2px rgba(0, 0, 0, 0.3));\n",
       "      fill: #FFFFFF;\n",
       "    }\n",
       "  </style>\n",
       "\n",
       "    <script>\n",
       "      const buttonEl =\n",
       "        document.querySelector('#df-5204e5c0-1c04-4818-91cb-2bc4011cba8e button.colab-df-convert');\n",
       "      buttonEl.style.display =\n",
       "        google.colab.kernel.accessAllowed ? 'block' : 'none';\n",
       "\n",
       "      async function convertToInteractive(key) {\n",
       "        const element = document.querySelector('#df-5204e5c0-1c04-4818-91cb-2bc4011cba8e');\n",
       "        const dataTable =\n",
       "          await google.colab.kernel.invokeFunction('convertToInteractive',\n",
       "                                                    [key], {});\n",
       "        if (!dataTable) return;\n",
       "\n",
       "        const docLinkHtml = 'Like what you see? Visit the ' +\n",
       "          '<a target=\"_blank\" href=https://colab.research.google.com/notebooks/data_table.ipynb>data table notebook</a>'\n",
       "          + ' to learn more about interactive tables.';\n",
       "        element.innerHTML = '';\n",
       "        dataTable['output_type'] = 'display_data';\n",
       "        await google.colab.output.renderOutput(dataTable, element);\n",
       "        const docLink = document.createElement('div');\n",
       "        docLink.innerHTML = docLinkHtml;\n",
       "        element.appendChild(docLink);\n",
       "      }\n",
       "    </script>\n",
       "  </div>\n",
       "\n",
       "\n",
       "<div id=\"df-e2b47978-453e-4781-9f24-79e73bd45b2d\">\n",
       "  <button class=\"colab-df-quickchart\" onclick=\"quickchart('df-e2b47978-453e-4781-9f24-79e73bd45b2d')\"\n",
       "            title=\"Suggest charts\"\n",
       "            style=\"display:none;\">\n",
       "\n",
       "<svg xmlns=\"http://www.w3.org/2000/svg\" height=\"24px\"viewBox=\"0 0 24 24\"\n",
       "     width=\"24px\">\n",
       "    <g>\n",
       "        <path d=\"M19 3H5c-1.1 0-2 .9-2 2v14c0 1.1.9 2 2 2h14c1.1 0 2-.9 2-2V5c0-1.1-.9-2-2-2zM9 17H7v-7h2v7zm4 0h-2V7h2v10zm4 0h-2v-4h2v4z\"/>\n",
       "    </g>\n",
       "</svg>\n",
       "  </button>\n",
       "\n",
       "<style>\n",
       "  .colab-df-quickchart {\n",
       "      --bg-color: #E8F0FE;\n",
       "      --fill-color: #1967D2;\n",
       "      --hover-bg-color: #E2EBFA;\n",
       "      --hover-fill-color: #174EA6;\n",
       "      --disabled-fill-color: #AAA;\n",
       "      --disabled-bg-color: #DDD;\n",
       "  }\n",
       "\n",
       "  [theme=dark] .colab-df-quickchart {\n",
       "      --bg-color: #3B4455;\n",
       "      --fill-color: #D2E3FC;\n",
       "      --hover-bg-color: #434B5C;\n",
       "      --hover-fill-color: #FFFFFF;\n",
       "      --disabled-bg-color: #3B4455;\n",
       "      --disabled-fill-color: #666;\n",
       "  }\n",
       "\n",
       "  .colab-df-quickchart {\n",
       "    background-color: var(--bg-color);\n",
       "    border: none;\n",
       "    border-radius: 50%;\n",
       "    cursor: pointer;\n",
       "    display: none;\n",
       "    fill: var(--fill-color);\n",
       "    height: 32px;\n",
       "    padding: 0;\n",
       "    width: 32px;\n",
       "  }\n",
       "\n",
       "  .colab-df-quickchart:hover {\n",
       "    background-color: var(--hover-bg-color);\n",
       "    box-shadow: 0 1px 2px rgba(60, 64, 67, 0.3), 0 1px 3px 1px rgba(60, 64, 67, 0.15);\n",
       "    fill: var(--button-hover-fill-color);\n",
       "  }\n",
       "\n",
       "  .colab-df-quickchart-complete:disabled,\n",
       "  .colab-df-quickchart-complete:disabled:hover {\n",
       "    background-color: var(--disabled-bg-color);\n",
       "    fill: var(--disabled-fill-color);\n",
       "    box-shadow: none;\n",
       "  }\n",
       "\n",
       "  .colab-df-spinner {\n",
       "    border: 2px solid var(--fill-color);\n",
       "    border-color: transparent;\n",
       "    border-bottom-color: var(--fill-color);\n",
       "    animation:\n",
       "      spin 1s steps(1) infinite;\n",
       "  }\n",
       "\n",
       "  @keyframes spin {\n",
       "    0% {\n",
       "      border-color: transparent;\n",
       "      border-bottom-color: var(--fill-color);\n",
       "      border-left-color: var(--fill-color);\n",
       "    }\n",
       "    20% {\n",
       "      border-color: transparent;\n",
       "      border-left-color: var(--fill-color);\n",
       "      border-top-color: var(--fill-color);\n",
       "    }\n",
       "    30% {\n",
       "      border-color: transparent;\n",
       "      border-left-color: var(--fill-color);\n",
       "      border-top-color: var(--fill-color);\n",
       "      border-right-color: var(--fill-color);\n",
       "    }\n",
       "    40% {\n",
       "      border-color: transparent;\n",
       "      border-right-color: var(--fill-color);\n",
       "      border-top-color: var(--fill-color);\n",
       "    }\n",
       "    60% {\n",
       "      border-color: transparent;\n",
       "      border-right-color: var(--fill-color);\n",
       "    }\n",
       "    80% {\n",
       "      border-color: transparent;\n",
       "      border-right-color: var(--fill-color);\n",
       "      border-bottom-color: var(--fill-color);\n",
       "    }\n",
       "    90% {\n",
       "      border-color: transparent;\n",
       "      border-bottom-color: var(--fill-color);\n",
       "    }\n",
       "  }\n",
       "</style>\n",
       "\n",
       "  <script>\n",
       "    async function quickchart(key) {\n",
       "      const quickchartButtonEl =\n",
       "        document.querySelector('#' + key + ' button');\n",
       "      quickchartButtonEl.disabled = true;  // To prevent multiple clicks.\n",
       "      quickchartButtonEl.classList.add('colab-df-spinner');\n",
       "      try {\n",
       "        const charts = await google.colab.kernel.invokeFunction(\n",
       "            'suggestCharts', [key], {});\n",
       "      } catch (error) {\n",
       "        console.error('Error during call to suggestCharts:', error);\n",
       "      }\n",
       "      quickchartButtonEl.classList.remove('colab-df-spinner');\n",
       "      quickchartButtonEl.classList.add('colab-df-quickchart-complete');\n",
       "    }\n",
       "    (() => {\n",
       "      let quickchartButtonEl =\n",
       "        document.querySelector('#df-e2b47978-453e-4781-9f24-79e73bd45b2d button');\n",
       "      quickchartButtonEl.style.display =\n",
       "        google.colab.kernel.accessAllowed ? 'block' : 'none';\n",
       "    })();\n",
       "  </script>\n",
       "</div>\n",
       "    </div>\n",
       "  </div>\n"
      ],
      "text/plain": [
       "        num_orders\n",
       "count  4416.000000\n",
       "mean     84.422781\n",
       "std      45.023853\n",
       "min       0.000000\n",
       "25%      54.000000\n",
       "50%      78.000000\n",
       "75%     107.000000\n",
       "max     462.000000"
      ]
     },
     "execution_count": 10,
     "metadata": {},
     "output_type": "execute_result"
    }
   ],
   "source": [
    "data.describe()"
   ]
  },
  {
   "cell_type": "markdown",
   "metadata": {
    "id": "vyF-N77Iz5RQ"
   },
   "source": [
    "**Вывод**:\n",
    "\n",
    "1. Выполнили ресемплирование по одному часу.\n",
    "2. Порядок дат соблюден.\n",
    "3. Данные без пропусков.\n",
    "4. Аномальные значения отсутствуют."
   ]
  },
  {
   "cell_type": "markdown",
   "metadata": {
    "id": "fcm2H3vRz5RQ"
   },
   "source": [
    "## Анализ"
   ]
  },
  {
   "cell_type": "code",
   "execution_count": 11,
   "metadata": {
    "colab": {
     "base_uri": "https://localhost:8080/",
     "height": 1000
    },
    "id": "bu0Bw_64z5RQ",
    "outputId": "0b85e3c1-a88f-42d5-fbeb-086deba4a5ab",
    "scrolled": false
   },
   "outputs": [
    {
     "data": {
      "image/png": "[encoded data removed]",
      "text/plain": [
       "<Figure size 1200x2200 with 4 Axes>"
      ]
     },
     "metadata": {},
     "output_type": "display_data"
    }
   ],
   "source": [
    "data['rolling_mean24'] = data.rolling(24, closed='left').mean()\n",
    "decomposed = seasonal_decompose(data.drop('rolling_mean24', axis=1))\n",
    "\n",
    "fig, axs = plt.subplots(4, 1, figsize=(12, 22))\n",
    "\n",
    "data.plot(ax=axs[0], grid=True)\n",
    "axs[0].set_title('Time series', fontsize=16)\n",
    "\n",
    "decomposed.trend.plot(ax=axs[1], grid=True)\n",
    "axs[1].set_title('Trend', fontsize=16)\n",
    "\n",
    "decomposed.seasonal['2018-03-20':'2018-03-22'].plot(ax=axs[2], grid=True)\n",
    "axs[2].set_title('Seasonality 2018-03-20 : 2018-03-22', fontsize=16)\n",
    "\n",
    "decomposed.resid.plot(ax=axs[3], grid=True)\n",
    "axs[3].set_title('Residuals', fontsize=16)\n",
    "\n",
    "plt.tight_layout()\n",
    "plt.show()"
   ]
  },
  {
   "cell_type": "code",
   "execution_count": 12,
   "metadata": {
    "colab": {
     "base_uri": "https://localhost:8080/",
     "height": 493
    },
    "id": "U_5EE08Cz5RQ",
    "outputId": "bfa17dc7-068d-42d0-fe41-96d07a7e2c86"
   },
   "outputs": [
    {
     "data": {
      "image/png": "[encoded data removed]",
      "text/plain": [
       "<Figure size 1500x500 with 1 Axes>"
      ]
     },
     "metadata": {},
     "output_type": "display_data"
    }
   ],
   "source": [
    "data_1d = data.drop('rolling_mean24', axis=1).resample('1D').sum()\n",
    "decomposed_1 = seasonal_decompose(data_1d)\n",
    "\n",
    "decomposed_1.seasonal['2018-04'].plot(figsize=(15, 5), grid=True)\n",
    "plt.xticks(data_1d.loc['2018-04'].index, labels=data_1d.loc['2018-04'].index.dayofweek)\n",
    "plt.title('Seasonality for 1Day resample 2018-04', fontsize=16)\n",
    "plt.xlabel('Day of week, 0 - monday', fontsize=12)\n",
    "plt.show()"
   ]
  },
  {
   "cell_type": "markdown",
   "metadata": {
    "id": "LYmxqjeYz5RQ"
   },
   "source": [
    "**Вывод**:\n",
    "\n",
    "1. Среднее количество заказов такси в аэропортах в час с марта 2018 года по август выросло примерно в 3 раза.\n",
    "   \n",
    "   *Возможно, это связано с увеличением количества перелетов, которые в свою очередь увеличились за счет отпусков в летнее время.*\n",
    "   \n",
    "   \n",
    "2. Период сезонности равен примерно суткам и количество заказов в час растет в среднем около 9 часов утра, 6 часов вечера и в полночь (больше всего).\n",
    "   \n",
    "   *Это может быть связано с временными промежутками, в которых люди больше передвигаются: утро, вечер, а также много перелетов происходит около полуночи.*\n",
    "   \n",
    "\n",
    "3. Если ресемплировать ряд по дню, то можно заметить также и недельную сезонность. Количество заказов растет в понедельник и пятницу."
   ]
  },
  {
   "cell_type": "markdown",
   "metadata": {
    "id": "1tAJ86QKz5RR"
   },
   "source": [
    "## Обучение"
   ]
  },
  {
   "cell_type": "code",
   "execution_count": 13,
   "metadata": {
    "id": "M0J_UIgmz5RR"
   },
   "outputs": [],
   "source": [
    "# delete useless col\n",
    "data = data.drop('rolling_mean24', axis=1)"
   ]
  },
  {
   "cell_type": "markdown",
   "metadata": {
    "id": "_vrIQ3daz5RR"
   },
   "source": [
    "**Функция для добавления новых признаков (сдвиги целевой переменной, скользящее среднее, даты и время)**"
   ]
  },
  {
   "cell_type": "code",
   "execution_count": 14,
   "metadata": {
    "id": "A8PXMII6z5RR"
   },
   "outputs": [],
   "source": [
    "def make_features(data, lags, rolling_mean_size):\n",
    "    data['hour'] = data.index.hour\n",
    "    data['dayofweek'] = data.index.dayofweek\n",
    "\n",
    "    for lag in lags:\n",
    "        data[f'lag_{lag}'] = data['num_orders'].shift(lag)\n",
    "\n",
    "    data['rolling_mean'] = data['num_orders'].rolling(rolling_mean_size, closed='left').mean()"
   ]
  },
  {
   "cell_type": "markdown",
   "metadata": {
    "id": "qZzrM-HOz5RR"
   },
   "source": [
    "**Построим график автокорреляционной функции для выбора количества сдвигов**"
   ]
  },
  {
   "cell_type": "code",
   "execution_count": 15,
   "metadata": {
    "colab": {
     "base_uri": "https://localhost:8080/",
     "height": 435
    },
    "id": "mGseN2YKz5RR",
    "outputId": "d9b0d31a-e8ea-4657-9335-23c638ae55d3"
   },
   "outputs": [
    {
     "data": {
      "image/png": "[encoded data removed]",
      "text/plain": [
       "<Figure size 2000x500 with 1 Axes>"
      ]
     },
     "metadata": {},
     "output_type": "display_data"
    }
   ],
   "source": [
    "plt.figure(figsize=(20, 5))\n",
    "plot_acf(data.values.squeeze(), lags=72, ax=plt.gca())\n",
    "plt.xticks(range(73), rotation=90)\n",
    "plt.grid()\n",
    "plt.show()"
   ]
  },
  {
   "cell_type": "markdown",
   "metadata": {
    "id": "e_l1Iuv4z5RS"
   },
   "source": [
    "**Добавим в признаки 1, 2, 24, 48, 72 сдвиги и выберем окно для скользящего среднего в 12 часов**"
   ]
  },
  {
   "cell_type": "markdown",
   "metadata": {
    "id": "bMf2wXBIz5RS"
   },
   "source": [
    "**Разделим на обучающую и тестовую выборки и отделим целевой признак**"
   ]
  },
  {
   "cell_type": "code",
   "execution_count": 16,
   "metadata": {
    "id": "vJ7Z5Nucz5RS"
   },
   "outputs": [],
   "source": [
    "data_copy = data.copy()\n",
    "make_features(data_copy, [1, 2, 24, 48, 72], 12)\n",
    "data_copy[['hour', 'dayofweek']] = data_copy[['hour', 'dayofweek']].astype('category')\n",
    "\n",
    "train, test = train_test_split(data_copy, shuffle=False, test_size=0.1)\n",
    "train = train.dropna()\n",
    "\n",
    "X_train = train.drop('num_orders', axis=1)\n",
    "y_train = train['num_orders']\n",
    "X_test = test.drop('num_orders', axis=1)\n",
    "y_test = test['num_orders']"
   ]
  },
  {
   "cell_type": "markdown",
   "metadata": {
    "id": "HfBNG730z5RT"
   },
   "source": [
    "### RidgeCV"
   ]
  },
  {
   "cell_type": "markdown",
   "metadata": {
    "id": "piA013RFz5RT"
   },
   "source": [
    "**Генератор фолдов для кросс-валидации временных рядов**"
   ]
  },
  {
   "cell_type": "code",
   "execution_count": 17,
   "metadata": {
    "id": "Nx1kB8-Mz5RT"
   },
   "outputs": [],
   "source": [
    "cv = TimeSeriesSplit(test_size=X_train.shape[0]//50).split(X_train)"
   ]
  },
  {
   "cell_type": "code",
   "execution_count": 18,
   "metadata": {
    "id": "8uGitDUvz5RT"
   },
   "outputs": [],
   "source": [
    "# lists of num and cat feature names\n",
    "numerical_features = X_train.select_dtypes('number').columns\n",
    "categorical_features = X_train.select_dtypes('category').columns\n",
    "\n",
    "# create transformers\n",
    "numerical_transformer = StandardScaler()\n",
    "categorical_transformer = OneHotEncoder(drop='first', sparse_output=False, handle_unknown='ignore')\n",
    "\n",
    "# define ridge model\n",
    "ridge = RidgeCV(alphas=np.logspace(-3, 1, 20),\n",
    "                scoring='neg_root_mean_squared_error',\n",
    "                cv=cv,\n",
    "               )\n",
    "\n",
    "# combine scaler and ohe\n",
    "preprocessor = ColumnTransformer(\n",
    "    transformers=[\n",
    "        ('num', numerical_transformer, numerical_features),\n",
    "        ('cat', categorical_transformer, categorical_features),\n",
    "    ]\n",
    ")\n",
    "\n",
    "# combine preprocessing and model\n",
    "ridge_pipeline = Pipeline(\n",
    "    steps=[\n",
    "        ('preprocessor', preprocessor),\n",
    "        ('model', ridge),\n",
    "    ]\n",
    ")"
   ]
  },
  {
   "cell_type": "code",
   "execution_count": 19,
   "metadata": {
    "colab": {
     "base_uri": "https://localhost:8080/",
     "height": 192
    },
    "id": "iN7Tivb4z5RT",
    "outputId": "58908b20-2552-4e76-ec4a-e05404e32504"
   },
   "outputs": [
    {
     "data": {
      "text/html": [
       "<style>#sk-container-id-1 {color: black;background-color: white;}#sk-container-id-1 pre{padding: 0;}#sk-container-id-1 div.sk-toggleable {background-color: white;}#sk-container-id-1 label.sk-toggleable__label {cursor: pointer;display: block;width: 100%;margin-bottom: 0;padding: 0.3em;box-sizing: border-box;text-align: center;}#sk-container-id-1 label.sk-toggleable__label-arrow:before {content: \"▸\";float: left;margin-right: 0.25em;color: #696969;}#sk-container-id-1 label.sk-toggleable__label-arrow:hover:before {color: black;}#sk-container-id-1 div.sk-estimator:hover label.sk-toggleable__label-arrow:before {color: black;}#sk-container-id-1 div.sk-toggleable__content {max-height: 0;max-width: 0;overflow: hidden;text-align: left;background-color: #f0f8ff;}#sk-container-id-1 div.sk-toggleable__content pre {margin: 0.2em;color: black;border-radius: 0.25em;background-color: #f0f8ff;}#sk-container-id-1 input.sk-toggleable__control:checked~div.sk-toggleable__content {max-height: 200px;max-width: 100%;overflow: auto;}#sk-container-id-1 input.sk-toggleable__control:checked~label.sk-toggleable__label-arrow:before {content: \"▾\";}#sk-container-id-1 div.sk-estimator input.sk-toggleable__control:checked~label.sk-toggleable__label {background-color: #d4ebff;}#sk-container-id-1 div.sk-label input.sk-toggleable__control:checked~label.sk-toggleable__label {background-color: #d4ebff;}#sk-container-id-1 input.sk-hidden--visually {border: 0;clip: rect(1px 1px 1px 1px);clip: rect(1px, 1px, 1px, 1px);height: 1px;margin: -1px;overflow: hidden;padding: 0;position: absolute;width: 1px;}#sk-container-id-1 div.sk-estimator {font-family: monospace;background-color: #f0f8ff;border: 1px dotted black;border-radius: 0.25em;box-sizing: border-box;margin-bottom: 0.5em;}#sk-container-id-1 div.sk-estimator:hover {background-color: #d4ebff;}#sk-container-id-1 div.sk-parallel-item::after {content: \"\";width: 100%;border-bottom: 1px solid gray;flex-grow: 1;}#sk-container-id-1 div.sk-label:hover label.sk-toggleable__label {background-color: #d4ebff;}#sk-container-id-1 div.sk-serial::before {content: \"\";position: absolute;border-left: 1px solid gray;box-sizing: border-box;top: 0;bottom: 0;left: 50%;z-index: 0;}#sk-container-id-1 div.sk-serial {display: flex;flex-direction: column;align-items: center;background-color: white;padding-right: 0.2em;padding-left: 0.2em;position: relative;}#sk-container-id-1 div.sk-item {position: relative;z-index: 1;}#sk-container-id-1 div.sk-parallel {display: flex;align-items: stretch;justify-content: center;background-color: white;position: relative;}#sk-container-id-1 div.sk-item::before, #sk-container-id-1 div.sk-parallel-item::before {content: \"\";position: absolute;border-left: 1px solid gray;box-sizing: border-box;top: 0;bottom: 0;left: 50%;z-index: -1;}#sk-container-id-1 div.sk-parallel-item {display: flex;flex-direction: column;z-index: 1;position: relative;background-color: white;}#sk-container-id-1 div.sk-parallel-item:first-child::after {align-self: flex-end;width: 50%;}#sk-container-id-1 div.sk-parallel-item:last-child::after {align-self: flex-start;width: 50%;}#sk-container-id-1 div.sk-parallel-item:only-child::after {width: 0;}#sk-container-id-1 div.sk-dashed-wrapped {border: 1px dashed gray;margin: 0 0.4em 0.5em 0.4em;box-sizing: border-box;padding-bottom: 0.4em;background-color: white;}#sk-container-id-1 div.sk-label label {font-family: monospace;font-weight: bold;display: inline-block;line-height: 1.2em;}#sk-container-id-1 div.sk-label-container {text-align: center;}#sk-container-id-1 div.sk-container {/* jupyter's `normalize.less` sets `[hidden] { display: none; }` but bootstrap.min.css set `[hidden] { display: none !important; }` so we also need the `!important` here to be able to override the default hidden behavior on the sphinx rendered scikit-learn.org. See: https://github.com/scikit-learn/scikit-learn/issues/21755 */display: inline-block !important;position: relative;}#sk-container-id-1 div.sk-text-repr-fallback {display: none;}</style><div id=\"sk-container-id-1\" class=\"sk-top-container\"><div class=\"sk-text-repr-fallback\"><pre>Pipeline(steps=[(&#x27;preprocessor&#x27;,\n",
       "                 ColumnTransformer(transformers=[(&#x27;num&#x27;, StandardScaler(),\n",
       "                                                  Index([&#x27;lag_1&#x27;, &#x27;lag_2&#x27;, &#x27;lag_24&#x27;, &#x27;lag_48&#x27;, &#x27;lag_72&#x27;, &#x27;rolling_mean&#x27;], dtype=&#x27;object&#x27;)),\n",
       "                                                 (&#x27;cat&#x27;,\n",
       "                                                  OneHotEncoder(drop=&#x27;first&#x27;,\n",
       "                                                                handle_unknown=&#x27;ignore&#x27;,\n",
       "                                                                sparse_output=False),\n",
       "                                                  Index([&#x27;hour&#x27;, &#x27;dayofweek&#x27;], dtype=&#x27;object&#x27;))])),\n",
       "                (&#x27;model&#x27;,\n",
       "                 RidgeCV(alphas=array([1.00000000e-03, 1.62377...3240e-03,\n",
       "       6.95192796e-03, 1.12883789e-02, 1.83298071e-02, 2.97635144e-02,\n",
       "       4.83293024e-02, 7.84759970e-02, 1.27427499e-01, 2.06913808e-01,\n",
       "       3.35981829e-01, 5.45559478e-01, 8.85866790e-01, 1.43844989e+00,\n",
       "       2.33572147e+00, 3.79269019e+00, 6.15848211e+00, 1.00000000e+01]),\n",
       "                         cv=&lt;generator object TimeSeriesSplit.split at 0x7edd683a2570&gt;,\n",
       "                         scoring=&#x27;neg_root_mean_squared_error&#x27;))])</pre><b>In a Jupyter environment, please rerun this cell to show the HTML representation or trust the notebook. <br />On GitHub, the HTML representation is unable to render, please try loading this page with nbviewer.org.</b></div><div class=\"sk-container\" hidden><div class=\"sk-item sk-dashed-wrapped\"><div class=\"sk-label-container\"><div class=\"sk-label sk-toggleable\"><input class=\"sk-toggleable__control sk-hidden--visually\" id=\"sk-estimator-id-1\" type=\"checkbox\" ><label for=\"sk-estimator-id-1\" class=\"sk-toggleable__label sk-toggleable__label-arrow\">Pipeline</label><div class=\"sk-toggleable__content\"><pre>Pipeline(steps=[(&#x27;preprocessor&#x27;,\n",
       "                 ColumnTransformer(transformers=[(&#x27;num&#x27;, StandardScaler(),\n",
       "                                                  Index([&#x27;lag_1&#x27;, &#x27;lag_2&#x27;, &#x27;lag_24&#x27;, &#x27;lag_48&#x27;, &#x27;lag_72&#x27;, &#x27;rolling_mean&#x27;], dtype=&#x27;object&#x27;)),\n",
       "                                                 (&#x27;cat&#x27;,\n",
       "                                                  OneHotEncoder(drop=&#x27;first&#x27;,\n",
       "                                                                handle_unknown=&#x27;ignore&#x27;,\n",
       "                                                                sparse_output=False),\n",
       "                                                  Index([&#x27;hour&#x27;, &#x27;dayofweek&#x27;], dtype=&#x27;object&#x27;))])),\n",
       "                (&#x27;model&#x27;,\n",
       "                 RidgeCV(alphas=array([1.00000000e-03, 1.62377...3240e-03,\n",
       "       6.95192796e-03, 1.12883789e-02, 1.83298071e-02, 2.97635144e-02,\n",
       "       4.83293024e-02, 7.84759970e-02, 1.27427499e-01, 2.06913808e-01,\n",
       "       3.35981829e-01, 5.45559478e-01, 8.85866790e-01, 1.43844989e+00,\n",
       "       2.33572147e+00, 3.79269019e+00, 6.15848211e+00, 1.00000000e+01]),\n",
       "                         cv=&lt;generator object TimeSeriesSplit.split at 0x7edd683a2570&gt;,\n",
       "                         scoring=&#x27;neg_root_mean_squared_error&#x27;))])</pre></div></div></div><div class=\"sk-serial\"><div class=\"sk-item sk-dashed-wrapped\"><div class=\"sk-label-container\"><div class=\"sk-label sk-toggleable\"><input class=\"sk-toggleable__control sk-hidden--visually\" id=\"sk-estimator-id-2\" type=\"checkbox\" ><label for=\"sk-estimator-id-2\" class=\"sk-toggleable__label sk-toggleable__label-arrow\">preprocessor: ColumnTransformer</label><div class=\"sk-toggleable__content\"><pre>ColumnTransformer(transformers=[(&#x27;num&#x27;, StandardScaler(),\n",
       "                                 Index([&#x27;lag_1&#x27;, &#x27;lag_2&#x27;, &#x27;lag_24&#x27;, &#x27;lag_48&#x27;, &#x27;lag_72&#x27;, &#x27;rolling_mean&#x27;], dtype=&#x27;object&#x27;)),\n",
       "                                (&#x27;cat&#x27;,\n",
       "                                 OneHotEncoder(drop=&#x27;first&#x27;,\n",
       "                                               handle_unknown=&#x27;ignore&#x27;,\n",
       "                                               sparse_output=False),\n",
       "                                 Index([&#x27;hour&#x27;, &#x27;dayofweek&#x27;], dtype=&#x27;object&#x27;))])</pre></div></div></div><div class=\"sk-parallel\"><div class=\"sk-parallel-item\"><div class=\"sk-item\"><div class=\"sk-label-container\"><div class=\"sk-label sk-toggleable\"><input class=\"sk-toggleable__control sk-hidden--visually\" id=\"sk-estimator-id-3\" type=\"checkbox\" ><label for=\"sk-estimator-id-3\" class=\"sk-toggleable__label sk-toggleable__label-arrow\">num</label><div class=\"sk-toggleable__content\"><pre>Index([&#x27;lag_1&#x27;, &#x27;lag_2&#x27;, &#x27;lag_24&#x27;, &#x27;lag_48&#x27;, &#x27;lag_72&#x27;, &#x27;rolling_mean&#x27;], dtype=&#x27;object&#x27;)</pre></div></div></div><div class=\"sk-serial\"><div class=\"sk-item\"><div class=\"sk-estimator sk-toggleable\"><input class=\"sk-toggleable__control sk-hidden--visually\" id=\"sk-estimator-id-4\" type=\"checkbox\" ><label for=\"sk-estimator-id-4\" class=\"sk-toggleable__label sk-toggleable__label-arrow\">StandardScaler</label><div class=\"sk-toggleable__content\"><pre>StandardScaler()</pre></div></div></div></div></div></div><div class=\"sk-parallel-item\"><div class=\"sk-item\"><div class=\"sk-label-container\"><div class=\"sk-label sk-toggleable\"><input class=\"sk-toggleable__control sk-hidden--visually\" id=\"sk-estimator-id-5\" type=\"checkbox\" ><label for=\"sk-estimator-id-5\" class=\"sk-toggleable__label sk-toggleable__label-arrow\">cat</label><div class=\"sk-toggleable__content\"><pre>Index([&#x27;hour&#x27;, &#x27;dayofweek&#x27;], dtype=&#x27;object&#x27;)</pre></div></div></div><div class=\"sk-serial\"><div class=\"sk-item\"><div class=\"sk-estimator sk-toggleable\"><input class=\"sk-toggleable__control sk-hidden--visually\" id=\"sk-estimator-id-6\" type=\"checkbox\" ><label for=\"sk-estimator-id-6\" class=\"sk-toggleable__label sk-toggleable__label-arrow\">OneHotEncoder</label><div class=\"sk-toggleable__content\"><pre>OneHotEncoder(drop=&#x27;first&#x27;, handle_unknown=&#x27;ignore&#x27;, sparse_output=False)</pre></div></div></div></div></div></div></div></div><div class=\"sk-item\"><div class=\"sk-estimator sk-toggleable\"><input class=\"sk-toggleable__control sk-hidden--visually\" id=\"sk-estimator-id-7\" type=\"checkbox\" ><label for=\"sk-estimator-id-7\" class=\"sk-toggleable__label sk-toggleable__label-arrow\">RidgeCV</label><div class=\"sk-toggleable__content\"><pre>RidgeCV(alphas=array([1.00000000e-03, 1.62377674e-03, 2.63665090e-03, 4.28133240e-03,\n",
       "       6.95192796e-03, 1.12883789e-02, 1.83298071e-02, 2.97635144e-02,\n",
       "       4.83293024e-02, 7.84759970e-02, 1.27427499e-01, 2.06913808e-01,\n",
       "       3.35981829e-01, 5.45559478e-01, 8.85866790e-01, 1.43844989e+00,\n",
       "       2.33572147e+00, 3.79269019e+00, 6.15848211e+00, 1.00000000e+01]),\n",
       "        cv=&lt;generator object TimeSeriesSplit.split at 0x7edd683a2570&gt;,\n",
       "        scoring=&#x27;neg_root_mean_squared_error&#x27;)</pre></div></div></div></div></div></div></div>"
      ],
      "text/plain": [
       "Pipeline(steps=[('preprocessor',\n",
       "                 ColumnTransformer(transformers=[('num', StandardScaler(),\n",
       "                                                  Index(['lag_1', 'lag_2', 'lag_24', 'lag_48', 'lag_72', 'rolling_mean'], dtype='object')),\n",
       "                                                 ('cat',\n",
       "                                                  OneHotEncoder(drop='first',\n",
       "                                                                handle_unknown='ignore',\n",
       "                                                                sparse_output=False),\n",
       "                                                  Index(['hour', 'dayofweek'], dtype='object'))])),\n",
       "                ('model',\n",
       "                 RidgeCV(alphas=array([1.00000000e-03, 1.62377...3240e-03,\n",
       "       6.95192796e-03, 1.12883789e-02, 1.83298071e-02, 2.97635144e-02,\n",
       "       4.83293024e-02, 7.84759970e-02, 1.27427499e-01, 2.06913808e-01,\n",
       "       3.35981829e-01, 5.45559478e-01, 8.85866790e-01, 1.43844989e+00,\n",
       "       2.33572147e+00, 3.79269019e+00, 6.15848211e+00, 1.00000000e+01]),\n",
       "                         cv=<generator object TimeSeriesSplit.split at 0x7edd683a2570>,\n",
       "                         scoring='neg_root_mean_squared_error'))])"
      ]
     },
     "execution_count": 19,
     "metadata": {},
     "output_type": "execute_result"
    }
   ],
   "source": [
    "ridge_pipeline.fit(X_train, y_train)"
   ]
  },
  {
   "cell_type": "code",
   "execution_count": 20,
   "metadata": {
    "colab": {
     "base_uri": "https://localhost:8080/"
    },
    "id": "QoR5ly6Gz5RT",
    "outputId": "dac0a3a6-b55a-4658-9807-4934d29e8962"
   },
   "outputs": [
    {
     "name": "stdout",
     "output_type": "stream",
     "text": [
      "Ridge rmse: 29.436530220167175\n",
      "Ridge alpha: 0.8858667904100823\n"
     ]
    }
   ],
   "source": [
    "print(f'Ridge rmse: {-ridge_pipeline[\"model\"].best_score_}\\n'\n",
    "      f'Ridge alpha: {ridge_pipeline[\"model\"].alpha_}'\n",
    ")"
   ]
  },
  {
   "cell_type": "markdown",
   "metadata": {
    "id": "Z9AONOTAz5RU"
   },
   "source": [
    "### LightGBMRegressor"
   ]
  },
  {
   "cell_type": "markdown",
   "metadata": {
    "id": "caiMAvCwz5RU"
   },
   "source": [
    "**Для подбора гиперпараметров воспользуемся средствами библиотеки `optuna`**"
   ]
  },
  {
   "cell_type": "code",
   "execution_count": 21,
   "metadata": {
    "id": "KQj0P13lz5RU"
   },
   "outputs": [],
   "source": [
    "def objective(trial):\n",
    "    params = {\n",
    "        'objective': 'regression',\n",
    "        'metric': 'rmse',\n",
    "        'random_state': RANDOM_STATE,\n",
    "        'n_estimators': 1000,\n",
    "        'verbosity': -1,\n",
    "        'bagging_freq': 1,\n",
    "        'learning_rate': trial.suggest_float('learning_rate', 1e-3, 0.1, log=True),\n",
    "        'num_leaves': trial.suggest_int('num_leaves', 2, 2**10),\n",
    "        'subsample': trial.suggest_float('subsample', 0.05, 1.0),\n",
    "        'colsample_bytree': trial.suggest_float('colsample_bytree', 0.05, 1.0),\n",
    "        'min_data_in_leaf': trial.suggest_int('min_data_in_leaf', 1, 100),\n",
    "        'max_bin': trial.suggest_int('max_bin', 256, 1024)\n",
    "    }\n",
    "    cv = TimeSeriesSplit(test_size=X_train.shape[0]//50).split(X_train)\n",
    "    model = lgb.LGBMRegressor(**params)\n",
    "    scores = cross_val_score(model, X_train, y_train, cv=cv, scoring='neg_root_mean_squared_error',)\n",
    "    return -scores.mean()"
   ]
  },
  {
   "cell_type": "code",
   "execution_count": 22,
   "metadata": {
    "colab": {
     "base_uri": "https://localhost:8080/"
    },
    "id": "StV9giLKz5RU",
    "outputId": "d3f5c443-1c52-4627-b8f1-9f9c0c7cea5f"
   },
   "outputs": [
    {
     "name": "stderr",
     "output_type": "stream",
     "text": [
      "[I 2023-12-24 00:54:14,218] A new study created in memory with name: no-name-5318b6d5-bf76-4814-a0a3-66abd541563f\n",
      "[I 2023-12-24 00:54:16,041] Trial 0 finished with value: 28.059365550041356 and parameters: {'learning_rate': 0.09295201070370579, 'num_leaves': 553, 'subsample': 0.3045669009721367, 'colsample_bytree': 0.5933073955498697, 'min_data_in_leaf': 74, 'max_bin': 956}. Best is trial 0 with value: 28.059365550041356.\n",
      "[I 2023-12-24 00:54:19,353] Trial 1 finished with value: 30.288836677739795 and parameters: {'learning_rate': 0.00795825858663006, 'num_leaves': 425, 'subsample': 0.08145311056830362, 'colsample_bytree': 0.2349127964239957, 'min_data_in_leaf': 6, 'max_bin': 419}. Best is trial 0 with value: 28.059365550041356.\n",
      "[I 2023-12-24 00:54:22,586] Trial 2 finished with value: 27.426259262248387 and parameters: {'learning_rate': 0.012618677049268834, 'num_leaves': 44, 'subsample': 0.6616443825154811, 'colsample_bytree': 0.8672655930153799, 'min_data_in_leaf': 74, 'max_bin': 376}. Best is trial 2 with value: 27.426259262248387.\n",
      "[I 2023-12-24 00:54:23,715] Trial 3 finished with value: 36.381487335064804 and parameters: {'learning_rate': 0.0016333694938901492, 'num_leaves': 87, 'subsample': 0.05860992404185031, 'colsample_bytree': 0.5003471600489915, 'min_data_in_leaf': 22, 'max_bin': 523}. Best is trial 2 with value: 27.426259262248387.\n",
      "[I 2023-12-24 00:54:26,997] Trial 4 finished with value: 28.113310472636094 and parameters: {'learning_rate': 0.06582382401719572, 'num_leaves': 812, 'subsample': 0.5289128689618032, 'colsample_bytree': 0.7774672589302086, 'min_data_in_leaf': 75, 'max_bin': 492}. Best is trial 2 with value: 27.426259262248387.\n",
      "[I 2023-12-24 00:54:36,404] Trial 5 finished with value: 31.07467896531694 and parameters: {'learning_rate': 0.0019399905576299988, 'num_leaves': 356, 'subsample': 0.366773122048499, 'colsample_bytree': 0.6295103712014322, 'min_data_in_leaf': 9, 'max_bin': 378}. Best is trial 2 with value: 27.426259262248387.\n",
      "[I 2023-12-24 00:54:45,316] Trial 6 finished with value: 32.02248648917579 and parameters: {'learning_rate': 0.0015563703455578359, 'num_leaves': 917, 'subsample': 0.9239202523848322, 'colsample_bytree': 0.9916070289177562, 'min_data_in_leaf': 37, 'max_bin': 894}. Best is trial 2 with value: 27.426259262248387.\n",
      "[I 2023-12-24 00:54:46,643] Trial 7 finished with value: 28.275830223730345 and parameters: {'learning_rate': 0.08653933102143661, 'num_leaves': 361, 'subsample': 0.244309817361341, 'colsample_bytree': 0.4369544477087284, 'min_data_in_leaf': 89, 'max_bin': 906}. Best is trial 2 with value: 27.426259262248387.\n",
      "[I 2023-12-24 00:54:48,351] Trial 8 finished with value: 30.57190743597717 and parameters: {'learning_rate': 0.00623415537743855, 'num_leaves': 412, 'subsample': 0.20192112268793783, 'colsample_bytree': 0.28618194068103747, 'min_data_in_leaf': 51, 'max_bin': 582}. Best is trial 2 with value: 27.426259262248387.\n",
      "[I 2023-12-24 00:54:51,425] Trial 9 finished with value: 28.517017979213716 and parameters: {'learning_rate': 0.006356716001679229, 'num_leaves': 785, 'subsample': 0.5905348842647616, 'colsample_bytree': 0.7460142265429418, 'min_data_in_leaf': 97, 'max_bin': 666}. Best is trial 2 with value: 27.426259262248387.\n",
      "[I 2023-12-24 00:54:54,158] Trial 10 finished with value: 27.22799804367016 and parameters: {'learning_rate': 0.021716813545118095, 'num_leaves': 17, 'subsample': 0.8349750857170257, 'colsample_bytree': 0.9750062687861801, 'min_data_in_leaf': 58, 'max_bin': 306}. Best is trial 10 with value: 27.22799804367016.\n",
      "[I 2023-12-24 00:54:56,080] Trial 11 finished with value: 27.004859644464467 and parameters: {'learning_rate': 0.023503479897192796, 'num_leaves': 10, 'subsample': 0.8146651707797327, 'colsample_bytree': 0.9651861690338105, 'min_data_in_leaf': 54, 'max_bin': 276}. Best is trial 11 with value: 27.004859644464467.\n",
      "[I 2023-12-24 00:55:00,845] Trial 12 finished with value: 28.046689658318975 and parameters: {'learning_rate': 0.02911908245954813, 'num_leaves': 189, 'subsample': 0.917031622288982, 'colsample_bytree': 0.9844748508650052, 'min_data_in_leaf': 52, 'max_bin': 266}. Best is trial 11 with value: 27.004859644464467.\n",
      "[I 2023-12-24 00:55:04,899] Trial 13 finished with value: 27.554609326744668 and parameters: {'learning_rate': 0.02340902849194645, 'num_leaves': 184, 'subsample': 0.7673476342898458, 'colsample_bytree': 0.8602699202455026, 'min_data_in_leaf': 57, 'max_bin': 705}. Best is trial 11 with value: 27.004859644464467.\n",
      "[I 2023-12-24 00:55:08,330] Trial 14 finished with value: 31.535992584763743 and parameters: {'learning_rate': 0.03051980025920082, 'num_leaves': 204, 'subsample': 0.7776454138162356, 'colsample_bytree': 0.11486833008202108, 'min_data_in_leaf': 35, 'max_bin': 276}. Best is trial 11 with value: 27.004859644464467.\n",
      "[I 2023-12-24 00:55:09,215] Trial 15 finished with value: 28.70221630464395 and parameters: {'learning_rate': 0.015282333746744184, 'num_leaves': 3, 'subsample': 0.9772553239243478, 'colsample_bytree': 0.7171300226941166, 'min_data_in_leaf': 63, 'max_bin': 784}. Best is trial 11 with value: 27.004859644464467.\n",
      "[I 2023-12-24 00:55:14,869] Trial 16 finished with value: 28.680328168751224 and parameters: {'learning_rate': 0.05083706992945346, 'num_leaves': 602, 'subsample': 0.7866825976335319, 'colsample_bytree': 0.8914618839053003, 'min_data_in_leaf': 36, 'max_bin': 322}. Best is trial 11 with value: 27.004859644464467.\n",
      "[I 2023-12-24 00:55:18,164] Trial 17 finished with value: 28.688849430423993 and parameters: {'learning_rate': 0.0035618591002954574, 'num_leaves': 261, 'subsample': 0.7034949955500339, 'colsample_bytree': 0.9908978253662452, 'min_data_in_leaf': 64, 'max_bin': 473}. Best is trial 11 with value: 27.004859644464467.\n",
      "[I 2023-12-24 00:55:22,072] Trial 18 finished with value: 29.49220721372553 and parameters: {'learning_rate': 0.042764439083918665, 'num_leaves': 119, 'subsample': 0.4136620780893847, 'colsample_bytree': 0.40321977852388746, 'min_data_in_leaf': 28, 'max_bin': 571}. Best is trial 11 with value: 27.004859644464467.\n",
      "[I 2023-12-24 00:55:27,501] Trial 19 finished with value: 27.817207844468264 and parameters: {'learning_rate': 0.017996479409587846, 'num_leaves': 631, 'subsample': 0.8710955061030768, 'colsample_bytree': 0.6613140350306267, 'min_data_in_leaf': 45, 'max_bin': 341}. Best is trial 11 with value: 27.004859644464467.\n",
      "[I 2023-12-24 00:55:30,309] Trial 20 finished with value: 29.132103944950302 and parameters: {'learning_rate': 0.0038465351504212157, 'num_leaves': 283, 'subsample': 0.6290695956856256, 'colsample_bytree': 0.8253820486786849, 'min_data_in_leaf': 85, 'max_bin': 768}. Best is trial 11 with value: 27.004859644464467.\n",
      "[I 2023-12-24 00:55:33,399] Trial 21 finished with value: 27.283889098972686 and parameters: {'learning_rate': 0.011870817490478748, 'num_leaves': 48, 'subsample': 0.6773917618986015, 'colsample_bytree': 0.9179851563739752, 'min_data_in_leaf': 73, 'max_bin': 416}. Best is trial 11 with value: 27.004859644464467.\n",
      "[I 2023-12-24 00:55:36,964] Trial 22 finished with value: 27.25848454323553 and parameters: {'learning_rate': 0.01028953611136203, 'num_leaves': 111, 'subsample': 0.8083644497530069, 'colsample_bytree': 0.9173801254865902, 'min_data_in_leaf': 66, 'max_bin': 434}. Best is trial 11 with value: 27.004859644464467.\n",
      "[I 2023-12-24 00:55:41,082] Trial 23 finished with value: 27.506713174427574 and parameters: {'learning_rate': 0.021718430927803314, 'num_leaves': 139, 'subsample': 0.827012540324655, 'colsample_bytree': 0.7979651159098913, 'min_data_in_leaf': 63, 'max_bin': 261}. Best is trial 11 with value: 27.004859644464467.\n",
      "[I 2023-12-24 00:55:44,345] Trial 24 finished with value: 27.87448820576854 and parameters: {'learning_rate': 0.03829850809348771, 'num_leaves': 23, 'subsample': 0.49868688659953564, 'colsample_bytree': 0.9285673867275993, 'min_data_in_leaf': 57, 'max_bin': 442}. Best is trial 11 with value: 27.004859644464467.\n",
      "[I 2023-12-24 00:55:50,366] Trial 25 finished with value: 27.658332996983376 and parameters: {'learning_rate': 0.008647741426401227, 'num_leaves': 274, 'subsample': 0.9747825049235227, 'colsample_bytree': 0.7067874498786666, 'min_data_in_leaf': 43, 'max_bin': 327}. Best is trial 11 with value: 27.004859644464467.\n",
      "[I 2023-12-24 00:55:53,629] Trial 26 finished with value: 28.177796685510373 and parameters: {'learning_rate': 0.00462319295117168, 'num_leaves': 119, 'subsample': 0.8676113317986165, 'colsample_bytree': 0.9290285733703217, 'min_data_in_leaf': 82, 'max_bin': 545}. Best is trial 11 with value: 27.004859644464467.\n",
      "[I 2023-12-24 00:55:56,974] Trial 27 finished with value: 27.176794945531547 and parameters: {'learning_rate': 0.015380916916519893, 'num_leaves': 92, 'subsample': 0.7195618649947882, 'colsample_bytree': 0.8269528254660463, 'min_data_in_leaf': 66, 'max_bin': 369}. Best is trial 11 with value: 27.004859644464467.\n",
      "[I 2023-12-24 00:56:01,306] Trial 28 finished with value: 27.525587996942058 and parameters: {'learning_rate': 0.01796111985320379, 'num_leaves': 210, 'subsample': 0.7416032083237024, 'colsample_bytree': 0.8256081836811959, 'min_data_in_leaf': 47, 'max_bin': 327}. Best is trial 11 with value: 27.004859644464467.\n",
      "[I 2023-12-24 00:56:04,502] Trial 29 finished with value: 27.521366363197945 and parameters: {'learning_rate': 0.027135997803521446, 'num_leaves': 540, 'subsample': 0.5571245307964627, 'colsample_bytree': 0.5716702781575946, 'min_data_in_leaf': 58, 'max_bin': 990}. Best is trial 11 with value: 27.004859644464467.\n",
      "[I 2023-12-24 00:56:05,364] Trial 30 finished with value: 43.75022349742467 and parameters: {'learning_rate': 0.001032462652221749, 'num_leaves': 3, 'subsample': 0.45907593117571965, 'colsample_bytree': 0.6648999873584988, 'min_data_in_leaf': 69, 'max_bin': 371}. Best is trial 11 with value: 27.004859644464467.\n",
      "[I 2023-12-24 00:56:08,994] Trial 31 finished with value: 27.14163030836975 and parameters: {'learning_rate': 0.011545829159402122, 'num_leaves': 92, 'subsample': 0.8423695979764928, 'colsample_bytree': 0.9367926118508111, 'min_data_in_leaf': 68, 'max_bin': 294}. Best is trial 11 with value: 27.004859644464467.\n",
      "[I 2023-12-24 00:56:12,505] Trial 32 finished with value: 27.163177367941046 and parameters: {'learning_rate': 0.014997871770760372, 'num_leaves': 84, 'subsample': 0.8716978322230765, 'colsample_bytree': 0.9569065826662545, 'min_data_in_leaf': 77, 'max_bin': 308}. Best is trial 11 with value: 27.004859644464467.\n",
      "[I 2023-12-24 00:56:15,359] Trial 33 finished with value: 27.18105106829181 and parameters: {'learning_rate': 0.013808538439169973, 'num_leaves': 79, 'subsample': 0.7273594603979328, 'colsample_bytree': 0.836118597475041, 'min_data_in_leaf': 78, 'max_bin': 379}. Best is trial 11 with value: 27.004859644464467.\n",
      "[I 2023-12-24 00:56:18,366] Trial 34 finished with value: 27.616832843114963 and parameters: {'learning_rate': 0.007422371191888418, 'num_leaves': 161, 'subsample': 0.9023452484278132, 'colsample_bytree': 0.7700257273446554, 'min_data_in_leaf': 90, 'max_bin': 257}. Best is trial 11 with value: 27.004859644464467.\n",
      "[I 2023-12-24 00:56:22,517] Trial 35 finished with value: 27.663136021063195 and parameters: {'learning_rate': 0.011586153349875106, 'num_leaves': 248, 'subsample': 0.9997524425448346, 'colsample_bytree': 0.8806100342796616, 'min_data_in_leaf': 69, 'max_bin': 401}. Best is trial 11 with value: 27.004859644464467.\n",
      "[I 2023-12-24 00:56:25,049] Trial 36 finished with value: 27.315319243925074 and parameters: {'learning_rate': 0.01648522370696053, 'num_leaves': 66, 'subsample': 0.6049798449200456, 'colsample_bytree': 0.9606045802432548, 'min_data_in_leaf': 80, 'max_bin': 300}. Best is trial 11 with value: 27.004859644464467.\n",
      "[I 2023-12-24 00:56:27,564] Trial 37 finished with value: 27.623990375683793 and parameters: {'learning_rate': 0.010243810057973628, 'num_leaves': 333, 'subsample': 0.6808252873870273, 'colsample_bytree': 0.8714521101490487, 'min_data_in_leaf': 99, 'max_bin': 488}. Best is trial 11 with value: 27.004859644464467.\n",
      "[I 2023-12-24 00:56:31,073] Trial 38 finished with value: 28.090544392705702 and parameters: {'learning_rate': 0.034071980778127134, 'num_leaves': 472, 'subsample': 0.9382654846839502, 'colsample_bytree': 0.5024376673666104, 'min_data_in_leaf': 73, 'max_bin': 354}. Best is trial 11 with value: 27.004859644464467.\n",
      "[I 2023-12-24 00:56:37,931] Trial 39 finished with value: 28.293461072617852 and parameters: {'learning_rate': 0.06381648050596676, 'num_leaves': 78, 'subsample': 0.8598544643721641, 'colsample_bytree': 0.7981551002718446, 'min_data_in_leaf': 3, 'max_bin': 461}. Best is trial 11 with value: 27.004859644464467.\n",
      "[I 2023-12-24 00:56:40,519] Trial 40 finished with value: 28.5033495182828 and parameters: {'learning_rate': 0.006107509771043394, 'num_leaves': 716, 'subsample': 0.6518877424112415, 'colsample_bytree': 0.5661977649862355, 'min_data_in_leaf': 91, 'max_bin': 407}. Best is trial 11 with value: 27.004859644464467.\n",
      "[I 2023-12-24 00:56:43,476] Trial 41 finished with value: 27.18645435464996 and parameters: {'learning_rate': 0.015473793886387255, 'num_leaves': 88, 'subsample': 0.7418312610967029, 'colsample_bytree': 0.8382798019543399, 'min_data_in_leaf': 78, 'max_bin': 357}. Best is trial 11 with value: 27.004859644464467.\n",
      "[I 2023-12-24 00:56:47,438] Trial 42 finished with value: 27.139927202614466 and parameters: {'learning_rate': 0.01328953823583474, 'num_leaves': 1012, 'subsample': 0.7349854014451029, 'colsample_bytree': 0.9398066337911968, 'min_data_in_leaf': 71, 'max_bin': 384}. Best is trial 11 with value: 27.004859644464467.\n",
      "[I 2023-12-24 00:56:51,193] Trial 43 finished with value: 27.263907929443214 and parameters: {'learning_rate': 0.008115164204387692, 'num_leaves': 1014, 'subsample': 0.8095581688639935, 'colsample_bytree': 0.9470077695144006, 'min_data_in_leaf': 70, 'max_bin': 299}. Best is trial 11 with value: 27.004859644464467.\n",
      "[I 2023-12-24 00:56:56,173] Trial 44 finished with value: 27.64529980273942 and parameters: {'learning_rate': 0.023204773838770305, 'num_leaves': 954, 'subsample': 0.8881692360532534, 'colsample_bytree': 0.9899137044908888, 'min_data_in_leaf': 53, 'max_bin': 297}. Best is trial 11 with value: 27.004859644464467.\n",
      "[I 2023-12-24 00:57:00,122] Trial 45 finished with value: 27.261424746525357 and parameters: {'learning_rate': 0.01911566854311773, 'num_leaves': 779, 'subsample': 0.9401033223530911, 'colsample_bytree': 0.896498570492479, 'min_data_in_leaf': 84, 'max_bin': 522}. Best is trial 11 with value: 27.004859644464467.\n",
      "[I 2023-12-24 00:57:01,054] Trial 46 finished with value: 30.37118709689082 and parameters: {'learning_rate': 0.01339191508048636, 'num_leaves': 382, 'subsample': 0.13538759305354509, 'colsample_bytree': 0.949604138572126, 'min_data_in_leaf': 74, 'max_bin': 395}. Best is trial 11 with value: 27.004859644464467.\n",
      "[I 2023-12-24 00:57:16,797] Trial 47 finished with value: 28.462545811475444 and parameters: {'learning_rate': 0.009375325139133084, 'num_leaves': 874, 'subsample': 0.7700639069868402, 'colsample_bytree': 0.743158283560171, 'min_data_in_leaf': 12, 'max_bin': 645}. Best is trial 11 with value: 27.004859644464467.\n",
      "[I 2023-12-24 00:57:20,314] Trial 48 finished with value: 28.704449277305457 and parameters: {'learning_rate': 0.02622222037846278, 'num_leaves': 466, 'subsample': 0.8268594898049475, 'colsample_bytree': 0.39555649827681005, 'min_data_in_leaf': 62, 'max_bin': 284}. Best is trial 11 with value: 27.004859644464467.\n",
      "[I 2023-12-24 00:57:22,012] Trial 49 finished with value: 32.32122623980877 and parameters: {'learning_rate': 0.004974701282992617, 'num_leaves': 320, 'subsample': 0.3276888515165468, 'colsample_bytree': 0.1085881159522144, 'min_data_in_leaf': 59, 'max_bin': 348}. Best is trial 11 with value: 27.004859644464467.\n"
     ]
    }
   ],
   "source": [
    "study = optuna.create_study(direction='minimize')\n",
    "study.optimize(objective, n_trials=50)"
   ]
  },
  {
   "cell_type": "code",
   "execution_count": 23,
   "metadata": {
    "colab": {
     "base_uri": "https://localhost:8080/"
    },
    "id": "BZ0pAemwz5RU",
    "outputId": "68433262-0e74-414a-82f9-71d4f135c1bc"
   },
   "outputs": [
    {
     "name": "stdout",
     "output_type": "stream",
     "text": [
      "Best RMSE:  27.004859644464467\n",
      "Best hyperparams:\n"
     ]
    },
    {
     "data": {
      "text/plain": [
       "{'learning_rate': 0.023503479897192796,\n",
       " 'num_leaves': 10,\n",
       " 'subsample': 0.8146651707797327,\n",
       " 'colsample_bytree': 0.9651861690338105,\n",
       " 'min_data_in_leaf': 54,\n",
       " 'max_bin': 276}"
      ]
     },
     "execution_count": 23,
     "metadata": {},
     "output_type": "execute_result"
    }
   ],
   "source": [
    "print('Best RMSE: ', study.best_value)\n",
    "print('Best hyperparams:')\n",
    "study.best_params"
   ]
  },
  {
   "cell_type": "code",
   "execution_count": 24,
   "metadata": {
    "id": "jnX4Dxsv1La1"
   },
   "outputs": [],
   "source": [
    "best_params = {\n",
    "        'objective': 'regression',\n",
    "        'metric': 'rmse',\n",
    "        'random_state': RANDOM_STATE,\n",
    "        'n_estimators': 1000,\n",
    "        'verbosity': -1,\n",
    "        'bagging_freq': 1,\n",
    "}\n",
    "best_params.update(study.best_params)"
   ]
  },
  {
   "cell_type": "code",
   "execution_count": 25,
   "metadata": {
    "colab": {
     "base_uri": "https://localhost:8080/",
     "height": 144
    },
    "id": "nO9eTedU1fIC",
    "outputId": "e9f82e69-b375-492e-8075-c86ff0089032"
   },
   "outputs": [
    {
     "data": {
      "text/html": [
       "<style>#sk-container-id-2 {color: black;background-color: white;}#sk-container-id-2 pre{padding: 0;}#sk-container-id-2 div.sk-toggleable {background-color: white;}#sk-container-id-2 label.sk-toggleable__label {cursor: pointer;display: block;width: 100%;margin-bottom: 0;padding: 0.3em;box-sizing: border-box;text-align: center;}#sk-container-id-2 label.sk-toggleable__label-arrow:before {content: \"▸\";float: left;margin-right: 0.25em;color: #696969;}#sk-container-id-2 label.sk-toggleable__label-arrow:hover:before {color: black;}#sk-container-id-2 div.sk-estimator:hover label.sk-toggleable__label-arrow:before {color: black;}#sk-container-id-2 div.sk-toggleable__content {max-height: 0;max-width: 0;overflow: hidden;text-align: left;background-color: #f0f8ff;}#sk-container-id-2 div.sk-toggleable__content pre {margin: 0.2em;color: black;border-radius: 0.25em;background-color: #f0f8ff;}#sk-container-id-2 input.sk-toggleable__control:checked~div.sk-toggleable__content {max-height: 200px;max-width: 100%;overflow: auto;}#sk-container-id-2 input.sk-toggleable__control:checked~label.sk-toggleable__label-arrow:before {content: \"▾\";}#sk-container-id-2 div.sk-estimator input.sk-toggleable__control:checked~label.sk-toggleable__label {background-color: #d4ebff;}#sk-container-id-2 div.sk-label input.sk-toggleable__control:checked~label.sk-toggleable__label {background-color: #d4ebff;}#sk-container-id-2 input.sk-hidden--visually {border: 0;clip: rect(1px 1px 1px 1px);clip: rect(1px, 1px, 1px, 1px);height: 1px;margin: -1px;overflow: hidden;padding: 0;position: absolute;width: 1px;}#sk-container-id-2 div.sk-estimator {font-family: monospace;background-color: #f0f8ff;border: 1px dotted black;border-radius: 0.25em;box-sizing: border-box;margin-bottom: 0.5em;}#sk-container-id-2 div.sk-estimator:hover {background-color: #d4ebff;}#sk-container-id-2 div.sk-parallel-item::after {content: \"\";width: 100%;border-bottom: 1px solid gray;flex-grow: 1;}#sk-container-id-2 div.sk-label:hover label.sk-toggleable__label {background-color: #d4ebff;}#sk-container-id-2 div.sk-serial::before {content: \"\";position: absolute;border-left: 1px solid gray;box-sizing: border-box;top: 0;bottom: 0;left: 50%;z-index: 0;}#sk-container-id-2 div.sk-serial {display: flex;flex-direction: column;align-items: center;background-color: white;padding-right: 0.2em;padding-left: 0.2em;position: relative;}#sk-container-id-2 div.sk-item {position: relative;z-index: 1;}#sk-container-id-2 div.sk-parallel {display: flex;align-items: stretch;justify-content: center;background-color: white;position: relative;}#sk-container-id-2 div.sk-item::before, #sk-container-id-2 div.sk-parallel-item::before {content: \"\";position: absolute;border-left: 1px solid gray;box-sizing: border-box;top: 0;bottom: 0;left: 50%;z-index: -1;}#sk-container-id-2 div.sk-parallel-item {display: flex;flex-direction: column;z-index: 1;position: relative;background-color: white;}#sk-container-id-2 div.sk-parallel-item:first-child::after {align-self: flex-end;width: 50%;}#sk-container-id-2 div.sk-parallel-item:last-child::after {align-self: flex-start;width: 50%;}#sk-container-id-2 div.sk-parallel-item:only-child::after {width: 0;}#sk-container-id-2 div.sk-dashed-wrapped {border: 1px dashed gray;margin: 0 0.4em 0.5em 0.4em;box-sizing: border-box;padding-bottom: 0.4em;background-color: white;}#sk-container-id-2 div.sk-label label {font-family: monospace;font-weight: bold;display: inline-block;line-height: 1.2em;}#sk-container-id-2 div.sk-label-container {text-align: center;}#sk-container-id-2 div.sk-container {/* jupyter's `normalize.less` sets `[hidden] { display: none; }` but bootstrap.min.css set `[hidden] { display: none !important; }` so we also need the `!important` here to be able to override the default hidden behavior on the sphinx rendered scikit-learn.org. See: https://github.com/scikit-learn/scikit-learn/issues/21755 */display: inline-block !important;position: relative;}#sk-container-id-2 div.sk-text-repr-fallback {display: none;}</style><div id=\"sk-container-id-2\" class=\"sk-top-container\"><div class=\"sk-text-repr-fallback\"><pre>LGBMRegressor(bagging_freq=1, colsample_bytree=0.9651861690338105,\n",
       "              learning_rate=0.023503479897192796, max_bin=276, metric=&#x27;rmse&#x27;,\n",
       "              min_data_in_leaf=54, n_estimators=1000, num_leaves=10,\n",
       "              objective=&#x27;regression&#x27;, random_state=42,\n",
       "              subsample=0.8146651707797327, verbosity=-1)</pre><b>In a Jupyter environment, please rerun this cell to show the HTML representation or trust the notebook. <br />On GitHub, the HTML representation is unable to render, please try loading this page with nbviewer.org.</b></div><div class=\"sk-container\" hidden><div class=\"sk-item\"><div class=\"sk-estimator sk-toggleable\"><input class=\"sk-toggleable__control sk-hidden--visually\" id=\"sk-estimator-id-8\" type=\"checkbox\" checked><label for=\"sk-estimator-id-8\" class=\"sk-toggleable__label sk-toggleable__label-arrow\">LGBMRegressor</label><div class=\"sk-toggleable__content\"><pre>LGBMRegressor(bagging_freq=1, colsample_bytree=0.9651861690338105,\n",
       "              learning_rate=0.023503479897192796, max_bin=276, metric=&#x27;rmse&#x27;,\n",
       "              min_data_in_leaf=54, n_estimators=1000, num_leaves=10,\n",
       "              objective=&#x27;regression&#x27;, random_state=42,\n",
       "              subsample=0.8146651707797327, verbosity=-1)</pre></div></div></div></div></div>"
      ],
      "text/plain": [
       "LGBMRegressor(bagging_freq=1, colsample_bytree=0.9651861690338105,\n",
       "              learning_rate=0.023503479897192796, max_bin=276, metric='rmse',\n",
       "              min_data_in_leaf=54, n_estimators=1000, num_leaves=10,\n",
       "              objective='regression', random_state=42,\n",
       "              subsample=0.8146651707797327, verbosity=-1)"
      ]
     },
     "execution_count": 25,
     "metadata": {},
     "output_type": "execute_result"
    }
   ],
   "source": [
    "model = lgb.LGBMRegressor(**best_params)\n",
    "model.fit(X_train, y_train)"
   ]
  },
  {
   "cell_type": "code",
   "execution_count": 26,
   "metadata": {
    "colab": {
     "base_uri": "https://localhost:8080/",
     "height": 564
    },
    "id": "ASZBTSVK2JVO",
    "outputId": "6ba6999e-3b09-45c8-cf92-dc50c747c304"
   },
   "outputs": [
    {
     "data": {
      "image/png": "[encoded data removed]",
      "text/plain": [
       "<Figure size 700x600 with 1 Axes>"
      ]
     },
     "metadata": {},
     "output_type": "display_data"
    }
   ],
   "source": [
    "# plot feature importance using Gain\n",
    "lgb.plot_importance(model, importance_type='gain', figsize=(7,6), title='LightGBM Feature Importance (Gain)')\n",
    "plt.show()"
   ]
  },
  {
   "cell_type": "code",
   "execution_count": 27,
   "metadata": {
    "colab": {
     "base_uri": "https://localhost:8080/",
     "height": 564
    },
    "id": "Kq51GZw824lW",
    "outputId": "d16d0d65-8eac-446c-9474-c42c8afff6d2"
   },
   "outputs": [
    {
     "data": {
      "image/png": "[encoded data removed]",
      "text/plain": [
       "<Figure size 700x600 with 1 Axes>"
      ]
     },
     "metadata": {},
     "output_type": "display_data"
    }
   ],
   "source": [
    "# plot feature importance using Split\n",
    "lgb.plot_importance(model, importance_type='split', figsize=(7,6), title='LightGBM Feature Importance (Split)')\n",
    "plt.show()"
   ]
  },
  {
   "cell_type": "markdown",
   "metadata": {
    "id": "xS9xCf8zz5RU"
   },
   "source": [
    "**Вывод**:\n",
    "\n",
    "Лучше себя показал LGBMRegressor с RMSE = 27.005. Тестирование будем проводить на этой модели."
   ]
  },
  {
   "cell_type": "markdown",
   "metadata": {
    "id": "BdnofRzyz5RU"
   },
   "source": [
    "## Тестирование"
   ]
  },
  {
   "cell_type": "code",
   "execution_count": 28,
   "metadata": {
    "colab": {
     "base_uri": "https://localhost:8080/"
    },
    "id": "CRoHUBcxz5RU",
    "outputId": "34add931-eb27-4392-c176-7b9210221857",
    "scrolled": true
   },
   "outputs": [
    {
     "name": "stdout",
     "output_type": "stream",
     "text": [
      "RMSE: 37.48404616589057\n"
     ]
    }
   ],
   "source": [
    "pred = model.predict(X_test)\n",
    "print('RMSE:', mean_squared_error(y_test, pred, squared=False))"
   ]
  },
  {
   "cell_type": "markdown",
   "metadata": {
    "id": "R8_B_U_oz5RV"
   },
   "source": [
    "Сравним результат с моделью, прогнозирующей новое значение по предыдущему."
   ]
  },
  {
   "cell_type": "code",
   "execution_count": 29,
   "metadata": {
    "colab": {
     "base_uri": "https://localhost:8080/"
    },
    "id": "K91PPmgGz5RV",
    "outputId": "927c3db9-fccb-4a6d-cff4-906b924dfb4c"
   },
   "outputs": [
    {
     "name": "stdout",
     "output_type": "stream",
     "text": [
      "RMSE: 58.856486242815066\n"
     ]
    }
   ],
   "source": [
    "pred_previous = y_test.shift()\n",
    "pred_previous.iloc[0] = y_train.iloc[-1]\n",
    "\n",
    "print('RMSE:', mean_squared_error(y_test, pred_previous, squared=False))"
   ]
  },
  {
   "cell_type": "markdown",
   "metadata": {
    "id": "lT9QhviSz5RV"
   },
   "source": [
    "## Вывод"
   ]
  },
  {
   "cell_type": "markdown",
   "metadata": {
    "id": "wJlKnYzQz5RV"
   },
   "source": [
    "При подготовке:    \n",
    "   1. Данные были ресемплированы по одному часу.\n",
    "   2. Пропуски отсутствовали.\n",
    "   3. Аномальные значения отсутствали."
   ]
  },
  {
   "cell_type": "markdown",
   "metadata": {
    "id": "S-Mle71Tz5RV"
   },
   "source": [
    "В резульате анализа выявлено:\n",
    "   1. Среднее количество заказов такси в аэропортах в час с марта 2018 года по август выросло примерно в 3 раза.\n",
    "      \n",
    "      *Возможно, это связано с увеличением количества перелетов, которые в свою очередь увеличились за счет отпусков в летнее время.*\n",
    "\n",
    "\n",
    "   2. Период сезонности равен примерно суткам и количество заказов в час растет в среднем около 9 часов утра, 6 часов вечера и в полночь (больше всего).\n",
    "\n",
    "      *Это может быть связано с временными промежутками, в которых люди больше передвигаются: утро, вечер, а также много перелетов происходит около полуночи.*\n",
    "      \n",
    "\n",
    "   3. Если ресемплировать ряд по дню, то можно заметить также и недельную сезонность. Количество заказов растет в понедельник и пятницу."
   ]
  },
  {
   "cell_type": "markdown",
   "metadata": {
    "id": "Unkh4HBnz5RV"
   },
   "source": [
    "После обучения и сравнения была выбрана модель LGBMRegressor. В ходе тестирования было получено значение RMSE = 37.48. Требования соблюдены."
   ]
  }
 ],
 "metadata": {
  "ExecuteTimeLog": [
   {
    "duration": 413,
    "start_time": "2023-12-08T16:12:26.556Z"
   },
   {
    "duration": 70,
    "start_time": "2023-12-08T16:12:46.059Z"
   },
   {
    "duration": 2,
    "start_time": "2023-12-08T16:12:50.302Z"
   },
   {
    "duration": 48,
    "start_time": "2023-12-08T16:12:52.104Z"
   },
   {
    "duration": 114,
    "start_time": "2023-12-08T16:13:02.244Z"
   },
   {
    "duration": 15,
    "start_time": "2023-12-08T16:13:07.346Z"
   },
   {
    "duration": 52,
    "start_time": "2023-12-08T16:14:28.553Z"
   },
   {
    "duration": 5,
    "start_time": "2023-12-08T16:14:29.479Z"
   },
   {
    "duration": 56,
    "start_time": "2023-12-08T16:15:03.169Z"
   },
   {
    "duration": 47,
    "start_time": "2023-12-08T16:15:13.075Z"
   },
   {
    "duration": 7,
    "start_time": "2023-12-08T16:15:21.288Z"
   },
   {
    "duration": 6,
    "start_time": "2023-12-08T16:15:26.007Z"
   },
   {
    "duration": 12,
    "start_time": "2023-12-08T16:15:45.452Z"
   },
   {
    "duration": 5,
    "start_time": "2023-12-08T16:19:03.212Z"
   },
   {
    "duration": 10,
    "start_time": "2023-12-08T16:19:15.752Z"
   },
   {
    "duration": 5,
    "start_time": "2023-12-08T16:19:21.776Z"
   },
   {
    "duration": 9,
    "start_time": "2023-12-08T16:19:46.263Z"
   },
   {
    "duration": 12,
    "start_time": "2023-12-08T16:19:58.383Z"
   },
   {
    "duration": 725,
    "start_time": "2023-12-08T16:22:41.837Z"
   },
   {
    "duration": 5,
    "start_time": "2023-12-08T16:23:10.223Z"
   },
   {
    "duration": 16,
    "start_time": "2023-12-08T16:23:18.781Z"
   },
   {
    "duration": 3,
    "start_time": "2023-12-08T16:24:22.804Z"
   },
   {
    "duration": 8,
    "start_time": "2023-12-08T16:25:41.289Z"
   },
   {
    "duration": 8,
    "start_time": "2023-12-08T16:25:45.681Z"
   },
   {
    "duration": 7,
    "start_time": "2023-12-08T16:25:49.216Z"
   },
   {
    "duration": 3,
    "start_time": "2023-12-08T16:25:56.497Z"
   },
   {
    "duration": 78,
    "start_time": "2023-12-08T16:26:19.004Z"
   },
   {
    "duration": 469,
    "start_time": "2023-12-08T16:26:27.646Z"
   },
   {
    "duration": 364,
    "start_time": "2023-12-08T16:26:58.586Z"
   },
   {
    "duration": 336,
    "start_time": "2023-12-08T16:27:14.970Z"
   },
   {
    "duration": 289,
    "start_time": "2023-12-08T16:28:39.953Z"
   },
   {
    "duration": 304,
    "start_time": "2023-12-08T16:28:44.947Z"
   },
   {
    "duration": 321,
    "start_time": "2023-12-08T16:29:05.955Z"
   },
   {
    "duration": 292,
    "start_time": "2023-12-08T16:29:09.368Z"
   },
   {
    "duration": 294,
    "start_time": "2023-12-08T16:32:20.413Z"
   },
   {
    "duration": 304,
    "start_time": "2023-12-08T16:32:26.415Z"
   },
   {
    "duration": 309,
    "start_time": "2023-12-08T16:32:45.588Z"
   },
   {
    "duration": 263,
    "start_time": "2023-12-08T16:35:10.549Z"
   },
   {
    "duration": 345,
    "start_time": "2023-12-08T16:35:49.780Z"
   },
   {
    "duration": 437,
    "start_time": "2023-12-08T16:36:55.612Z"
   },
   {
    "duration": 39,
    "start_time": "2023-12-08T16:37:11.904Z"
   },
   {
    "duration": 8,
    "start_time": "2023-12-08T16:38:10.530Z"
   },
   {
    "duration": 696,
    "start_time": "2023-12-08T16:38:52.456Z"
   },
   {
    "duration": 746,
    "start_time": "2023-12-08T16:39:02.734Z"
   },
   {
    "duration": 990,
    "start_time": "2023-12-08T16:39:44.559Z"
   },
   {
    "duration": 938,
    "start_time": "2023-12-08T16:39:53.509Z"
   },
   {
    "duration": 880,
    "start_time": "2023-12-08T16:39:59.049Z"
   },
   {
    "duration": 8,
    "start_time": "2023-12-08T16:46:19.683Z"
   },
   {
    "duration": 230,
    "start_time": "2023-12-08T16:46:42.055Z"
   },
   {
    "duration": 367,
    "start_time": "2023-12-08T16:47:32.723Z"
   },
   {
    "duration": 213,
    "start_time": "2023-12-08T16:48:18.508Z"
   },
   {
    "duration": 285,
    "start_time": "2023-12-08T16:49:00.404Z"
   },
   {
    "duration": 184,
    "start_time": "2023-12-08T16:49:05.136Z"
   },
   {
    "duration": 175,
    "start_time": "2023-12-08T16:51:17.317Z"
   },
   {
    "duration": 596,
    "start_time": "2023-12-08T17:00:41.328Z"
   },
   {
    "duration": 803,
    "start_time": "2023-12-08T17:00:56.311Z"
   },
   {
    "duration": 729,
    "start_time": "2023-12-08T17:01:17.060Z"
   },
   {
    "duration": 694,
    "start_time": "2023-12-08T17:01:21.074Z"
   },
   {
    "duration": 416,
    "start_time": "2023-12-08T17:02:28.744Z"
   },
   {
    "duration": 388,
    "start_time": "2023-12-08T17:06:11.908Z"
   },
   {
    "duration": 842,
    "start_time": "2023-12-08T17:06:18.206Z"
   },
   {
    "duration": 1007,
    "start_time": "2023-12-08T17:06:28.107Z"
   },
   {
    "duration": 1068,
    "start_time": "2023-12-08T17:07:48.299Z"
   },
   {
    "duration": 1201,
    "start_time": "2023-12-08T17:08:06.631Z"
   },
   {
    "duration": 1104,
    "start_time": "2023-12-08T17:09:14.895Z"
   },
   {
    "duration": 1007,
    "start_time": "2023-12-08T17:09:22.078Z"
   },
   {
    "duration": 1085,
    "start_time": "2023-12-08T17:09:38.957Z"
   },
   {
    "duration": 1080,
    "start_time": "2023-12-08T17:09:46.453Z"
   },
   {
    "duration": 1163,
    "start_time": "2023-12-08T17:09:58.126Z"
   },
   {
    "duration": 1097,
    "start_time": "2023-12-08T17:10:23.899Z"
   },
   {
    "duration": 1209,
    "start_time": "2023-12-08T17:13:04.715Z"
   },
   {
    "duration": 1084,
    "start_time": "2023-12-08T17:13:43.520Z"
   },
   {
    "duration": 49,
    "start_time": "2023-12-08T17:13:44.606Z"
   },
   {
    "duration": 11,
    "start_time": "2023-12-08T17:13:44.657Z"
   },
   {
    "duration": 13,
    "start_time": "2023-12-08T17:13:44.672Z"
   },
   {
    "duration": 26,
    "start_time": "2023-12-08T17:13:44.687Z"
   },
   {
    "duration": 17,
    "start_time": "2023-12-08T17:13:44.715Z"
   },
   {
    "duration": 23,
    "start_time": "2023-12-08T17:13:44.733Z"
   },
   {
    "duration": 28,
    "start_time": "2023-12-08T17:13:44.758Z"
   },
   {
    "duration": 1163,
    "start_time": "2023-12-08T17:13:44.788Z"
   },
   {
    "duration": 1152,
    "start_time": "2023-12-08T17:14:53.941Z"
   },
   {
    "duration": 48,
    "start_time": "2023-12-08T17:14:55.095Z"
   },
   {
    "duration": 9,
    "start_time": "2023-12-08T17:14:55.144Z"
   },
   {
    "duration": 36,
    "start_time": "2023-12-08T17:14:55.154Z"
   },
   {
    "duration": 33,
    "start_time": "2023-12-08T17:14:55.192Z"
   },
   {
    "duration": 22,
    "start_time": "2023-12-08T17:14:55.227Z"
   },
   {
    "duration": 36,
    "start_time": "2023-12-08T17:14:55.251Z"
   },
   {
    "duration": 23,
    "start_time": "2023-12-08T17:14:55.288Z"
   },
   {
    "duration": 1170,
    "start_time": "2023-12-08T17:14:55.312Z"
   },
   {
    "duration": 1158,
    "start_time": "2023-12-08T17:15:27.850Z"
   },
   {
    "duration": 1096,
    "start_time": "2023-12-08T17:15:35.411Z"
   },
   {
    "duration": 1131,
    "start_time": "2023-12-08T17:19:48.077Z"
   },
   {
    "duration": 976,
    "start_time": "2023-12-08T17:26:21.946Z"
   },
   {
    "duration": 862,
    "start_time": "2023-12-08T17:26:56.944Z"
   },
   {
    "duration": 1023,
    "start_time": "2023-12-08T17:27:34.880Z"
   },
   {
    "duration": 838,
    "start_time": "2023-12-08T17:27:53.074Z"
   },
   {
    "duration": 959,
    "start_time": "2023-12-08T17:29:11.262Z"
   },
   {
    "duration": 3,
    "start_time": "2023-12-08T17:29:17.143Z"
   },
   {
    "duration": 0,
    "start_time": "2023-12-08T17:30:19.115Z"
   },
   {
    "duration": 1116,
    "start_time": "2023-12-08T17:30:28.344Z"
   },
   {
    "duration": 54,
    "start_time": "2023-12-08T17:30:29.462Z"
   },
   {
    "duration": 8,
    "start_time": "2023-12-08T17:30:29.518Z"
   },
   {
    "duration": 12,
    "start_time": "2023-12-08T17:30:29.527Z"
   },
   {
    "duration": 27,
    "start_time": "2023-12-08T17:30:29.541Z"
   },
   {
    "duration": 14,
    "start_time": "2023-12-08T17:30:29.571Z"
   },
   {
    "duration": 6,
    "start_time": "2023-12-08T17:30:29.587Z"
   },
   {
    "duration": 23,
    "start_time": "2023-12-08T17:30:29.595Z"
   },
   {
    "duration": 10,
    "start_time": "2023-12-08T17:30:29.619Z"
   },
   {
    "duration": 5577,
    "start_time": "2023-12-08T17:30:29.630Z"
   },
   {
    "duration": 5664,
    "start_time": "2023-12-08T17:32:02.233Z"
   },
   {
    "duration": 1145,
    "start_time": "2023-12-08T17:32:45.475Z"
   },
   {
    "duration": 2,
    "start_time": "2023-12-08T17:32:48.913Z"
   },
   {
    "duration": 1094,
    "start_time": "2023-12-08T17:32:49.925Z"
   },
   {
    "duration": 1089,
    "start_time": "2023-12-08T17:33:23.552Z"
   },
   {
    "duration": 2,
    "start_time": "2023-12-08T17:35:33.313Z"
   },
   {
    "duration": 1363,
    "start_time": "2023-12-08T17:35:34.118Z"
   },
   {
    "duration": 21,
    "start_time": "2023-12-08T17:37:38.591Z"
   },
   {
    "duration": 1401,
    "start_time": "2023-12-08T17:38:06.392Z"
   },
   {
    "duration": 1268,
    "start_time": "2023-12-08T17:40:18.829Z"
   },
   {
    "duration": 1374,
    "start_time": "2023-12-08T17:40:36.164Z"
   },
   {
    "duration": 9,
    "start_time": "2023-12-08T17:42:33.873Z"
   },
   {
    "duration": 77,
    "start_time": "2023-12-08T17:42:51.791Z"
   },
   {
    "duration": 1171,
    "start_time": "2023-12-08T17:42:55.261Z"
   },
   {
    "duration": 1137,
    "start_time": "2023-12-08T17:45:49.978Z"
   },
   {
    "duration": 2329,
    "start_time": "2023-12-08T17:46:17.272Z"
   },
   {
    "duration": 2013,
    "start_time": "2023-12-08T17:47:04.285Z"
   },
   {
    "duration": 1847,
    "start_time": "2023-12-08T17:47:12.155Z"
   },
   {
    "duration": 1927,
    "start_time": "2023-12-08T17:47:19.878Z"
   },
   {
    "duration": 1860,
    "start_time": "2023-12-08T17:48:21.346Z"
   },
   {
    "duration": 1868,
    "start_time": "2023-12-08T17:48:56.135Z"
   },
   {
    "duration": 1356,
    "start_time": "2023-12-08T17:49:01.972Z"
   },
   {
    "duration": 2517,
    "start_time": "2023-12-08T17:51:11.479Z"
   },
   {
    "duration": 2398,
    "start_time": "2023-12-08T17:51:25.919Z"
   },
   {
    "duration": 993,
    "start_time": "2023-12-08T17:53:59.065Z"
   },
   {
    "duration": 2,
    "start_time": "2023-12-08T17:54:03.992Z"
   },
   {
    "duration": 2316,
    "start_time": "2023-12-08T17:54:05.277Z"
   },
   {
    "duration": 2179,
    "start_time": "2023-12-08T17:54:17.740Z"
   },
   {
    "duration": 2158,
    "start_time": "2023-12-08T17:55:17.726Z"
   },
   {
    "duration": 2222,
    "start_time": "2023-12-08T17:55:51.665Z"
   },
   {
    "duration": 1092,
    "start_time": "2023-12-08T17:55:58.745Z"
   },
   {
    "duration": 1174,
    "start_time": "2023-12-08T17:56:36.133Z"
   },
   {
    "duration": 1055,
    "start_time": "2023-12-08T17:57:11.080Z"
   },
   {
    "duration": 1146,
    "start_time": "2023-12-08T17:57:22.755Z"
   },
   {
    "duration": 16,
    "start_time": "2023-12-08T18:14:36.364Z"
   },
   {
    "duration": 4,
    "start_time": "2023-12-08T18:15:17.776Z"
   },
   {
    "duration": 8,
    "start_time": "2023-12-08T18:15:21.200Z"
   },
   {
    "duration": 17,
    "start_time": "2023-12-08T18:49:26.322Z"
   },
   {
    "duration": 8,
    "start_time": "2023-12-08T18:53:41.151Z"
   },
   {
    "duration": 4,
    "start_time": "2023-12-08T18:54:08.727Z"
   },
   {
    "duration": 20,
    "start_time": "2023-12-08T18:54:40.166Z"
   },
   {
    "duration": 223,
    "start_time": "2023-12-08T18:54:56.932Z"
   },
   {
    "duration": 14,
    "start_time": "2023-12-08T18:55:01.239Z"
   },
   {
    "duration": 20,
    "start_time": "2023-12-08T18:55:06.890Z"
   },
   {
    "duration": 21,
    "start_time": "2023-12-08T18:55:27.343Z"
   },
   {
    "duration": 21,
    "start_time": "2023-12-08T18:55:37.367Z"
   },
   {
    "duration": 18,
    "start_time": "2023-12-08T19:21:44.751Z"
   },
   {
    "duration": 64,
    "start_time": "2023-12-08T19:23:05.640Z"
   },
   {
    "duration": 3,
    "start_time": "2023-12-08T19:23:11.679Z"
   },
   {
    "duration": 209,
    "start_time": "2023-12-08T19:23:27.866Z"
   },
   {
    "duration": 4,
    "start_time": "2023-12-08T19:23:45.011Z"
   },
   {
    "duration": 3,
    "start_time": "2023-12-08T19:24:08.599Z"
   },
   {
    "duration": 297,
    "start_time": "2023-12-08T19:24:09.670Z"
   },
   {
    "duration": 3,
    "start_time": "2023-12-08T19:24:21.613Z"
   },
   {
    "duration": 3,
    "start_time": "2023-12-08T19:24:34.657Z"
   },
   {
    "duration": 154,
    "start_time": "2023-12-08T19:24:36.420Z"
   },
   {
    "duration": 3,
    "start_time": "2023-12-08T19:24:37.877Z"
   },
   {
    "duration": 3,
    "start_time": "2023-12-08T19:24:47.363Z"
   },
   {
    "duration": 124,
    "start_time": "2023-12-08T19:24:48.643Z"
   },
   {
    "duration": 3,
    "start_time": "2023-12-08T19:24:50.283Z"
   },
   {
    "duration": 15,
    "start_time": "2023-12-08T19:26:22.188Z"
   },
   {
    "duration": 8,
    "start_time": "2023-12-08T19:26:36.842Z"
   },
   {
    "duration": 3,
    "start_time": "2023-12-08T19:27:24.741Z"
   },
   {
    "duration": 8,
    "start_time": "2023-12-08T19:27:41.472Z"
   },
   {
    "duration": 13,
    "start_time": "2023-12-08T19:27:52.035Z"
   },
   {
    "duration": 9,
    "start_time": "2023-12-08T19:27:54.701Z"
   },
   {
    "duration": 4,
    "start_time": "2023-12-08T19:28:01.593Z"
   },
   {
    "duration": 8,
    "start_time": "2023-12-08T19:28:07.725Z"
   },
   {
    "duration": 9,
    "start_time": "2023-12-08T19:28:19.877Z"
   },
   {
    "duration": 4,
    "start_time": "2023-12-08T19:28:23.040Z"
   },
   {
    "duration": 13,
    "start_time": "2023-12-08T19:28:46.468Z"
   },
   {
    "duration": 4,
    "start_time": "2023-12-08T19:28:54.190Z"
   },
   {
    "duration": 20,
    "start_time": "2023-12-08T19:29:01.917Z"
   },
   {
    "duration": 1356,
    "start_time": "2023-12-08T19:29:31.647Z"
   },
   {
    "duration": 48,
    "start_time": "2023-12-08T19:29:33.005Z"
   },
   {
    "duration": 8,
    "start_time": "2023-12-08T19:29:33.055Z"
   },
   {
    "duration": 19,
    "start_time": "2023-12-08T19:29:33.064Z"
   },
   {
    "duration": 17,
    "start_time": "2023-12-08T19:29:33.084Z"
   },
   {
    "duration": 17,
    "start_time": "2023-12-08T19:29:33.103Z"
   },
   {
    "duration": 12,
    "start_time": "2023-12-08T19:29:33.122Z"
   },
   {
    "duration": 22,
    "start_time": "2023-12-08T19:29:33.136Z"
   },
   {
    "duration": 1095,
    "start_time": "2023-12-08T19:29:33.160Z"
   },
   {
    "duration": 4,
    "start_time": "2023-12-08T19:29:34.256Z"
   },
   {
    "duration": 7,
    "start_time": "2023-12-08T19:29:34.261Z"
   },
   {
    "duration": 19,
    "start_time": "2023-12-08T19:29:34.269Z"
   },
   {
    "duration": 4,
    "start_time": "2023-12-08T19:29:50.145Z"
   },
   {
    "duration": 4,
    "start_time": "2023-12-08T19:29:54.654Z"
   },
   {
    "duration": 183,
    "start_time": "2023-12-08T19:29:55.690Z"
   },
   {
    "duration": 3,
    "start_time": "2023-12-08T19:30:01.600Z"
   },
   {
    "duration": 4,
    "start_time": "2023-12-08T19:30:22.128Z"
   },
   {
    "duration": 166,
    "start_time": "2023-12-08T19:30:23.203Z"
   },
   {
    "duration": 4,
    "start_time": "2023-12-08T19:30:24.796Z"
   },
   {
    "duration": 3,
    "start_time": "2023-12-08T19:30:30.404Z"
   },
   {
    "duration": 248,
    "start_time": "2023-12-08T19:30:31.318Z"
   },
   {
    "duration": 3,
    "start_time": "2023-12-08T19:30:32.306Z"
   },
   {
    "duration": 3,
    "start_time": "2023-12-08T19:30:34.290Z"
   },
   {
    "duration": 220,
    "start_time": "2023-12-08T19:30:35.153Z"
   },
   {
    "duration": 3,
    "start_time": "2023-12-08T19:30:36.400Z"
   },
   {
    "duration": 3,
    "start_time": "2023-12-08T19:30:47.254Z"
   },
   {
    "duration": 401,
    "start_time": "2023-12-08T19:30:48.266Z"
   },
   {
    "duration": 3,
    "start_time": "2023-12-08T19:30:49.377Z"
   },
   {
    "duration": 7,
    "start_time": "2023-12-08T19:30:55.544Z"
   },
   {
    "duration": 3,
    "start_time": "2023-12-08T19:31:15.173Z"
   },
   {
    "duration": 210,
    "start_time": "2023-12-08T19:31:29.157Z"
   },
   {
    "duration": 6,
    "start_time": "2023-12-08T19:31:47.055Z"
   },
   {
    "duration": 113,
    "start_time": "2023-12-08T19:33:56.465Z"
   },
   {
    "duration": 5,
    "start_time": "2023-12-08T19:34:15.363Z"
   },
   {
    "duration": 5,
    "start_time": "2023-12-08T19:35:34.030Z"
   },
   {
    "duration": 4,
    "start_time": "2023-12-08T19:36:38.569Z"
   },
   {
    "duration": 5,
    "start_time": "2023-12-08T19:37:01.911Z"
   },
   {
    "duration": 2,
    "start_time": "2023-12-08T19:39:13.193Z"
   },
   {
    "duration": 9,
    "start_time": "2023-12-08T19:39:34.935Z"
   },
   {
    "duration": 3,
    "start_time": "2023-12-08T19:39:41.413Z"
   },
   {
    "duration": 48977,
    "start_time": "2023-12-08T19:39:54.189Z"
   },
   {
    "duration": 3,
    "start_time": "2023-12-08T19:42:14.672Z"
   },
   {
    "duration": 3,
    "start_time": "2023-12-08T19:42:52.846Z"
   },
   {
    "duration": 251267,
    "start_time": "2023-12-08T19:42:54.017Z"
   },
   {
    "duration": 3,
    "start_time": "2023-12-08T19:49:19.097Z"
   },
   {
    "duration": 4,
    "start_time": "2023-12-08T19:58:56.120Z"
   },
   {
    "duration": 3,
    "start_time": "2023-12-08T19:59:03.718Z"
   },
   {
    "duration": 3,
    "start_time": "2023-12-08T19:59:13.443Z"
   },
   {
    "duration": 4,
    "start_time": "2023-12-08T19:59:30.932Z"
   },
   {
    "duration": 4,
    "start_time": "2023-12-08T20:02:07.550Z"
   },
   {
    "duration": 4,
    "start_time": "2023-12-08T20:04:38.168Z"
   },
   {
    "duration": 3367,
    "start_time": "2023-12-08T20:04:39.700Z"
   },
   {
    "duration": 3,
    "start_time": "2023-12-08T20:04:55.551Z"
   },
   {
    "duration": 3,
    "start_time": "2023-12-08T20:05:10.962Z"
   },
   {
    "duration": 3231,
    "start_time": "2023-12-08T20:05:13.343Z"
   },
   {
    "duration": 4,
    "start_time": "2023-12-08T20:05:20.284Z"
   },
   {
    "duration": 3,
    "start_time": "2023-12-08T20:05:27.732Z"
   },
   {
    "duration": 3412,
    "start_time": "2023-12-08T20:05:28.856Z"
   },
   {
    "duration": 2,
    "start_time": "2023-12-08T20:05:34.127Z"
   },
   {
    "duration": 3,
    "start_time": "2023-12-08T20:05:52.649Z"
   },
   {
    "duration": 5,
    "start_time": "2023-12-08T20:05:56.202Z"
   },
   {
    "duration": 3,
    "start_time": "2023-12-08T20:06:00.506Z"
   },
   {
    "duration": 3,
    "start_time": "2023-12-08T20:06:13.523Z"
   },
   {
    "duration": 3,
    "start_time": "2023-12-08T20:06:15.369Z"
   },
   {
    "duration": 3374,
    "start_time": "2023-12-08T20:06:17.093Z"
   },
   {
    "duration": 3,
    "start_time": "2023-12-08T20:06:35.715Z"
   },
   {
    "duration": 4,
    "start_time": "2023-12-08T20:06:45.543Z"
   },
   {
    "duration": 248873,
    "start_time": "2023-12-08T20:06:46.803Z"
   },
   {
    "duration": 2,
    "start_time": "2023-12-08T20:12:22.545Z"
   },
   {
    "duration": 6,
    "start_time": "2023-12-08T20:21:04.267Z"
   },
   {
    "duration": 8,
    "start_time": "2023-12-08T20:21:21.725Z"
   },
   {
    "duration": 4,
    "start_time": "2023-12-08T20:29:20.890Z"
   },
   {
    "duration": 3,
    "start_time": "2023-12-08T20:30:08.644Z"
   },
   {
    "duration": 4,
    "start_time": "2023-12-08T20:30:15.511Z"
   },
   {
    "duration": 1299,
    "start_time": "2023-12-08T20:42:53.503Z"
   },
   {
    "duration": 2,
    "start_time": "2023-12-08T20:42:54.804Z"
   },
   {
    "duration": 78,
    "start_time": "2023-12-08T20:42:54.807Z"
   },
   {
    "duration": 7,
    "start_time": "2023-12-08T20:42:54.887Z"
   },
   {
    "duration": 32,
    "start_time": "2023-12-08T20:42:54.896Z"
   },
   {
    "duration": 27,
    "start_time": "2023-12-08T20:42:54.930Z"
   },
   {
    "duration": 34,
    "start_time": "2023-12-08T20:42:54.958Z"
   },
   {
    "duration": 39,
    "start_time": "2023-12-08T20:42:54.994Z"
   },
   {
    "duration": 49,
    "start_time": "2023-12-08T20:42:55.035Z"
   },
   {
    "duration": 1197,
    "start_time": "2023-12-08T20:42:55.086Z"
   },
   {
    "duration": 4,
    "start_time": "2023-12-08T20:42:56.285Z"
   },
   {
    "duration": 32,
    "start_time": "2023-12-08T20:42:56.291Z"
   },
   {
    "duration": 31,
    "start_time": "2023-12-08T20:42:56.325Z"
   },
   {
    "duration": 8,
    "start_time": "2023-12-08T20:42:56.358Z"
   },
   {
    "duration": 51,
    "start_time": "2023-12-08T20:42:56.367Z"
   },
   {
    "duration": 2853,
    "start_time": "2023-12-08T20:42:56.420Z"
   },
   {
    "duration": 92,
    "start_time": "2023-12-08T20:42:59.275Z"
   },
   {
    "duration": 6,
    "start_time": "2023-12-08T20:42:59.368Z"
   },
   {
    "duration": 120,
    "start_time": "2023-12-08T20:42:59.375Z"
   },
   {
    "duration": 0,
    "start_time": "2023-12-08T20:42:59.496Z"
   },
   {
    "duration": 0,
    "start_time": "2023-12-08T20:42:59.497Z"
   },
   {
    "duration": 0,
    "start_time": "2023-12-08T20:42:59.499Z"
   },
   {
    "duration": 2,
    "start_time": "2023-12-08T20:43:47.716Z"
   },
   {
    "duration": 3,
    "start_time": "2023-12-08T20:43:52.143Z"
   },
   {
    "duration": 3493,
    "start_time": "2023-12-08T20:43:53.293Z"
   },
   {
    "duration": 1278,
    "start_time": "2023-12-08T20:44:13.816Z"
   },
   {
    "duration": 2,
    "start_time": "2023-12-08T20:44:15.096Z"
   },
   {
    "duration": 62,
    "start_time": "2023-12-08T20:44:15.100Z"
   },
   {
    "duration": 9,
    "start_time": "2023-12-08T20:44:15.164Z"
   },
   {
    "duration": 10,
    "start_time": "2023-12-08T20:44:15.175Z"
   },
   {
    "duration": 9,
    "start_time": "2023-12-08T20:44:15.187Z"
   },
   {
    "duration": 8,
    "start_time": "2023-12-08T20:44:15.197Z"
   },
   {
    "duration": 5,
    "start_time": "2023-12-08T20:44:15.206Z"
   },
   {
    "duration": 15,
    "start_time": "2023-12-08T20:44:15.212Z"
   },
   {
    "duration": 1173,
    "start_time": "2023-12-08T20:44:15.230Z"
   },
   {
    "duration": 4,
    "start_time": "2023-12-08T20:44:16.404Z"
   },
   {
    "duration": 5,
    "start_time": "2023-12-08T20:44:16.409Z"
   },
   {
    "duration": 20,
    "start_time": "2023-12-08T20:44:16.415Z"
   },
   {
    "duration": 3,
    "start_time": "2023-12-08T20:44:16.436Z"
   },
   {
    "duration": 5,
    "start_time": "2023-12-08T20:44:16.440Z"
   },
   {
    "duration": 3522,
    "start_time": "2023-12-08T20:44:16.447Z"
   },
   {
    "duration": 4,
    "start_time": "2023-12-08T20:44:19.971Z"
   },
   {
    "duration": 5,
    "start_time": "2023-12-08T20:44:19.977Z"
   },
   {
    "duration": 84,
    "start_time": "2023-12-08T20:44:19.983Z"
   },
   {
    "duration": 61304,
    "start_time": "2023-12-08T20:44:20.068Z"
   },
   {
    "duration": 3,
    "start_time": "2023-12-08T20:45:21.373Z"
   },
   {
    "duration": 90,
    "start_time": "2023-12-08T20:45:21.377Z"
   },
   {
    "duration": 4,
    "start_time": "2023-12-08T20:45:21.469Z"
   },
   {
    "duration": 74,
    "start_time": "2023-12-08T20:49:20.280Z"
   },
   {
    "duration": 5,
    "start_time": "2023-12-08T20:49:55.859Z"
   },
   {
    "duration": 4,
    "start_time": "2023-12-08T20:51:57.117Z"
   },
   {
    "duration": 111,
    "start_time": "2023-12-08T20:51:59.122Z"
   },
   {
    "duration": 2,
    "start_time": "2023-12-08T20:52:15.650Z"
   },
   {
    "duration": 3,
    "start_time": "2023-12-08T20:52:16.561Z"
   },
   {
    "duration": 44766,
    "start_time": "2023-12-08T20:52:17.635Z"
   },
   {
    "duration": 3,
    "start_time": "2023-12-08T20:54:23.085Z"
   },
   {
    "duration": 1350,
    "start_time": "2023-12-08T20:55:14.116Z"
   },
   {
    "duration": 2,
    "start_time": "2023-12-08T20:55:15.468Z"
   },
   {
    "duration": 64,
    "start_time": "2023-12-08T20:55:15.472Z"
   },
   {
    "duration": 8,
    "start_time": "2023-12-08T20:55:15.538Z"
   },
   {
    "duration": 21,
    "start_time": "2023-12-08T20:55:15.548Z"
   },
   {
    "duration": 20,
    "start_time": "2023-12-08T20:55:15.570Z"
   },
   {
    "duration": 44,
    "start_time": "2023-12-08T20:55:15.592Z"
   },
   {
    "duration": 28,
    "start_time": "2023-12-08T20:55:15.637Z"
   },
   {
    "duration": 17,
    "start_time": "2023-12-08T20:55:15.667Z"
   },
   {
    "duration": 1136,
    "start_time": "2023-12-08T20:55:15.687Z"
   },
   {
    "duration": 3,
    "start_time": "2023-12-08T20:55:16.824Z"
   },
   {
    "duration": 18,
    "start_time": "2023-12-08T20:55:16.829Z"
   },
   {
    "duration": 44,
    "start_time": "2023-12-08T20:55:16.848Z"
   },
   {
    "duration": 32,
    "start_time": "2023-12-08T20:55:16.894Z"
   },
   {
    "duration": 5,
    "start_time": "2023-12-08T20:55:16.928Z"
   },
   {
    "duration": 3338,
    "start_time": "2023-12-08T20:55:16.934Z"
   },
   {
    "duration": 92,
    "start_time": "2023-12-08T20:55:20.274Z"
   },
   {
    "duration": 16,
    "start_time": "2023-12-08T20:55:20.368Z"
   },
   {
    "duration": 8,
    "start_time": "2023-12-08T20:55:20.385Z"
   },
   {
    "duration": 61776,
    "start_time": "2023-12-08T20:55:20.395Z"
   },
   {
    "duration": 2,
    "start_time": "2023-12-08T20:56:22.173Z"
   },
   {
    "duration": 37,
    "start_time": "2023-12-08T20:56:22.177Z"
   },
   {
    "duration": 5,
    "start_time": "2023-12-08T20:56:22.266Z"
   },
   {
    "duration": 1340,
    "start_time": "2023-12-08T20:57:35.972Z"
   },
   {
    "duration": 1394,
    "start_time": "2023-12-08T20:58:01.177Z"
   },
   {
    "duration": 3,
    "start_time": "2023-12-08T20:58:02.572Z"
   },
   {
    "duration": 63,
    "start_time": "2023-12-08T20:58:02.576Z"
   },
   {
    "duration": 9,
    "start_time": "2023-12-08T20:58:02.641Z"
   },
   {
    "duration": 26,
    "start_time": "2023-12-08T20:58:02.651Z"
   },
   {
    "duration": 35,
    "start_time": "2023-12-08T20:58:02.679Z"
   },
   {
    "duration": 10,
    "start_time": "2023-12-08T20:58:02.715Z"
   },
   {
    "duration": 5,
    "start_time": "2023-12-08T20:58:02.727Z"
   },
   {
    "duration": 28,
    "start_time": "2023-12-08T20:58:02.733Z"
   },
   {
    "duration": 1109,
    "start_time": "2023-12-08T20:58:05.502Z"
   },
   {
    "duration": 1059,
    "start_time": "2023-12-08T20:58:24.414Z"
   },
   {
    "duration": 1090,
    "start_time": "2023-12-08T20:59:07.427Z"
   },
   {
    "duration": 4,
    "start_time": "2023-12-08T20:59:44.826Z"
   },
   {
    "duration": 4,
    "start_time": "2023-12-08T20:59:46.861Z"
   },
   {
    "duration": 16,
    "start_time": "2023-12-08T20:59:53.067Z"
   },
   {
    "duration": 18,
    "start_time": "2023-12-08T20:59:55.942Z"
   },
   {
    "duration": 3,
    "start_time": "2023-12-08T21:00:35.107Z"
   },
   {
    "duration": 6,
    "start_time": "2023-12-08T21:03:23.109Z"
   },
   {
    "duration": 10,
    "start_time": "2023-12-08T21:04:59.219Z"
   },
   {
    "duration": 1411,
    "start_time": "2023-12-08T21:06:51.235Z"
   },
   {
    "duration": 16,
    "start_time": "2023-12-08T21:07:14.003Z"
   },
   {
    "duration": 12,
    "start_time": "2023-12-08T21:07:20.934Z"
   },
   {
    "duration": 14,
    "start_time": "2023-12-08T21:07:37.979Z"
   },
   {
    "duration": 9,
    "start_time": "2023-12-08T21:07:53.146Z"
   },
   {
    "duration": 8,
    "start_time": "2023-12-08T21:08:11.233Z"
   },
   {
    "duration": 4,
    "start_time": "2023-12-08T21:08:20.418Z"
   },
   {
    "duration": 9,
    "start_time": "2023-12-08T21:08:31.990Z"
   },
   {
    "duration": 8,
    "start_time": "2023-12-08T21:08:35.764Z"
   },
   {
    "duration": 4,
    "start_time": "2023-12-08T21:08:37.378Z"
   },
   {
    "duration": 4,
    "start_time": "2023-12-08T21:08:44.890Z"
   },
   {
    "duration": 10,
    "start_time": "2023-12-08T21:10:05.545Z"
   },
   {
    "duration": 3,
    "start_time": "2023-12-08T21:10:15.085Z"
   },
   {
    "duration": 3,
    "start_time": "2023-12-08T21:11:19.617Z"
   },
   {
    "duration": 4,
    "start_time": "2023-12-08T21:11:20.788Z"
   },
   {
    "duration": 29,
    "start_time": "2023-12-08T21:11:25.405Z"
   },
   {
    "duration": 6316,
    "start_time": "2023-12-08T21:11:52.857Z"
   },
   {
    "duration": 21,
    "start_time": "2023-12-08T21:12:07.672Z"
   },
   {
    "duration": 10,
    "start_time": "2023-12-08T21:12:08.571Z"
   },
   {
    "duration": 3,
    "start_time": "2023-12-08T21:12:09.581Z"
   },
   {
    "duration": 3,
    "start_time": "2023-12-08T21:12:10.806Z"
   },
   {
    "duration": 4,
    "start_time": "2023-12-08T21:12:11.705Z"
   },
   {
    "duration": 33,
    "start_time": "2023-12-08T21:12:12.877Z"
   },
   {
    "duration": 2687,
    "start_time": "2023-12-08T21:12:45.334Z"
   },
   {
    "duration": 1190,
    "start_time": "2023-12-08T21:12:48.023Z"
   },
   {
    "duration": 3,
    "start_time": "2023-12-08T21:12:49.214Z"
   },
   {
    "duration": 72,
    "start_time": "2023-12-08T21:12:49.218Z"
   },
   {
    "duration": 8,
    "start_time": "2023-12-08T21:12:49.292Z"
   },
   {
    "duration": 37,
    "start_time": "2023-12-08T21:12:49.301Z"
   },
   {
    "duration": 33,
    "start_time": "2023-12-08T21:12:49.339Z"
   },
   {
    "duration": 19,
    "start_time": "2023-12-08T21:12:49.373Z"
   },
   {
    "duration": 26,
    "start_time": "2023-12-08T21:12:49.393Z"
   },
   {
    "duration": 18,
    "start_time": "2023-12-08T21:12:49.421Z"
   },
   {
    "duration": 1127,
    "start_time": "2023-12-08T21:12:49.440Z"
   },
   {
    "duration": 4,
    "start_time": "2023-12-08T21:12:50.569Z"
   },
   {
    "duration": 34,
    "start_time": "2023-12-08T21:12:50.575Z"
   },
   {
    "duration": 37,
    "start_time": "2023-12-08T21:12:50.611Z"
   },
   {
    "duration": 9,
    "start_time": "2023-12-08T21:12:50.650Z"
   },
   {
    "duration": 30,
    "start_time": "2023-12-08T21:12:50.661Z"
   },
   {
    "duration": 18,
    "start_time": "2023-12-08T21:12:50.693Z"
   },
   {
    "duration": 17,
    "start_time": "2023-12-08T21:12:50.712Z"
   },
   {
    "duration": 6912,
    "start_time": "2023-12-08T21:12:55.375Z"
   },
   {
    "duration": 3,
    "start_time": "2023-12-08T21:13:04.979Z"
   },
   {
    "duration": 2,
    "start_time": "2023-12-08T21:13:23.956Z"
   },
   {
    "duration": 4,
    "start_time": "2023-12-08T21:13:28.591Z"
   },
   {
    "duration": 69187,
    "start_time": "2023-12-08T21:13:30.189Z"
   },
   {
    "duration": 17,
    "start_time": "2023-12-08T21:15:18.617Z"
   },
   {
    "duration": 3,
    "start_time": "2023-12-08T21:15:35.513Z"
   },
   {
    "duration": 15,
    "start_time": "2023-12-08T21:16:04.628Z"
   },
   {
    "duration": 11,
    "start_time": "2023-12-08T21:19:52.576Z"
   },
   {
    "duration": 3,
    "start_time": "2023-12-08T21:20:29.810Z"
   },
   {
    "duration": 3,
    "start_time": "2023-12-08T21:20:30.637Z"
   },
   {
    "duration": 83036,
    "start_time": "2023-12-08T21:20:35.949Z"
   },
   {
    "duration": 3,
    "start_time": "2023-12-08T21:22:13.274Z"
   },
   {
    "duration": 3,
    "start_time": "2023-12-08T21:22:14.504Z"
   },
   {
    "duration": 3,
    "start_time": "2023-12-08T21:22:15.066Z"
   },
   {
    "duration": 4,
    "start_time": "2023-12-08T21:22:15.477Z"
   },
   {
    "duration": 124,
    "start_time": "2023-12-08T21:25:09.019Z"
   },
   {
    "duration": 5,
    "start_time": "2023-12-08T21:25:16.651Z"
   },
   {
    "duration": 3,
    "start_time": "2023-12-08T21:25:37.136Z"
   },
   {
    "duration": 4,
    "start_time": "2023-12-08T21:25:39.130Z"
   },
   {
    "duration": 3,
    "start_time": "2023-12-08T21:25:40.601Z"
   },
   {
    "duration": 4,
    "start_time": "2023-12-08T21:25:41.613Z"
   },
   {
    "duration": 3,
    "start_time": "2023-12-08T21:25:55.594Z"
   },
   {
    "duration": 2,
    "start_time": "2023-12-08T21:26:14.943Z"
   },
   {
    "duration": 6,
    "start_time": "2023-12-08T21:26:15.928Z"
   },
   {
    "duration": 2,
    "start_time": "2023-12-08T21:26:19.479Z"
   },
   {
    "duration": 3,
    "start_time": "2023-12-08T21:26:21.061Z"
   },
   {
    "duration": 4,
    "start_time": "2023-12-08T21:26:21.825Z"
   },
   {
    "duration": 102,
    "start_time": "2023-12-08T21:27:01.787Z"
   },
   {
    "duration": 14,
    "start_time": "2023-12-08T21:27:10.919Z"
   },
   {
    "duration": 3,
    "start_time": "2023-12-08T21:27:18.320Z"
   },
   {
    "duration": 3,
    "start_time": "2023-12-08T21:27:20.685Z"
   },
   {
    "duration": 4,
    "start_time": "2023-12-08T21:27:22.630Z"
   },
   {
    "duration": 66990,
    "start_time": "2023-12-08T21:27:24.407Z"
   },
   {
    "duration": 3,
    "start_time": "2023-12-08T21:28:35.389Z"
   },
   {
    "duration": 12,
    "start_time": "2023-12-08T21:28:43.035Z"
   },
   {
    "duration": 2743,
    "start_time": "2023-12-08T21:31:08.499Z"
   },
   {
    "duration": 1851,
    "start_time": "2023-12-08T21:31:11.244Z"
   },
   {
    "duration": 2,
    "start_time": "2023-12-08T21:31:13.096Z"
   },
   {
    "duration": 102,
    "start_time": "2023-12-08T21:31:13.100Z"
   },
   {
    "duration": 63,
    "start_time": "2023-12-08T21:31:13.204Z"
   },
   {
    "duration": 10,
    "start_time": "2023-12-08T21:31:13.268Z"
   },
   {
    "duration": 27,
    "start_time": "2023-12-08T21:31:13.279Z"
   },
   {
    "duration": 26,
    "start_time": "2023-12-08T21:31:13.307Z"
   },
   {
    "duration": 32,
    "start_time": "2023-12-08T21:31:13.334Z"
   },
   {
    "duration": 37,
    "start_time": "2023-12-08T21:31:13.368Z"
   },
   {
    "duration": 1128,
    "start_time": "2023-12-08T21:31:13.407Z"
   },
   {
    "duration": 4,
    "start_time": "2023-12-08T21:31:14.536Z"
   },
   {
    "duration": 12,
    "start_time": "2023-12-08T21:31:14.541Z"
   },
   {
    "duration": 24,
    "start_time": "2023-12-08T21:31:14.554Z"
   },
   {
    "duration": 2,
    "start_time": "2023-12-08T21:31:14.580Z"
   },
   {
    "duration": 16,
    "start_time": "2023-12-08T21:31:14.583Z"
   },
   {
    "duration": 10190,
    "start_time": "2023-12-08T21:31:14.600Z"
   },
   {
    "duration": 2,
    "start_time": "2023-12-08T21:31:24.792Z"
   },
   {
    "duration": 49,
    "start_time": "2023-12-08T21:31:24.796Z"
   },
   {
    "duration": 25,
    "start_time": "2023-12-08T21:31:24.846Z"
   },
   {
    "duration": 14845,
    "start_time": "2023-12-08T21:31:24.872Z"
   },
   {
    "duration": 0,
    "start_time": "2023-12-08T21:31:39.719Z"
   },
   {
    "duration": 0,
    "start_time": "2023-12-08T21:31:39.720Z"
   },
   {
    "duration": 0,
    "start_time": "2023-12-08T21:31:39.722Z"
   },
   {
    "duration": 2729,
    "start_time": "2023-12-08T21:31:52.164Z"
   },
   {
    "duration": 1208,
    "start_time": "2023-12-08T21:31:54.895Z"
   },
   {
    "duration": 2,
    "start_time": "2023-12-08T21:31:56.105Z"
   },
   {
    "duration": 51,
    "start_time": "2023-12-08T21:31:56.108Z"
   },
   {
    "duration": 8,
    "start_time": "2023-12-08T21:31:56.161Z"
   },
   {
    "duration": 33,
    "start_time": "2023-12-08T21:31:56.171Z"
   },
   {
    "duration": 42,
    "start_time": "2023-12-08T21:31:56.205Z"
   },
   {
    "duration": 32,
    "start_time": "2023-12-08T21:31:56.248Z"
   },
   {
    "duration": 18,
    "start_time": "2023-12-08T21:31:56.282Z"
   },
   {
    "duration": 16,
    "start_time": "2023-12-08T21:31:56.301Z"
   },
   {
    "duration": 1152,
    "start_time": "2023-12-08T21:31:56.319Z"
   },
   {
    "duration": 4,
    "start_time": "2023-12-08T21:31:57.472Z"
   },
   {
    "duration": 14,
    "start_time": "2023-12-08T21:31:57.477Z"
   },
   {
    "duration": 34,
    "start_time": "2023-12-08T21:31:57.493Z"
   },
   {
    "duration": 2,
    "start_time": "2023-12-08T21:31:57.529Z"
   },
   {
    "duration": 14,
    "start_time": "2023-12-08T21:31:57.532Z"
   },
   {
    "duration": 7637,
    "start_time": "2023-12-08T21:31:57.548Z"
   },
   {
    "duration": 3,
    "start_time": "2023-12-08T21:32:05.187Z"
   },
   {
    "duration": 12,
    "start_time": "2023-12-08T21:32:05.191Z"
   },
   {
    "duration": 12,
    "start_time": "2023-12-08T21:32:05.204Z"
   },
   {
    "duration": 69868,
    "start_time": "2023-12-08T21:32:05.217Z"
   },
   {
    "duration": 3,
    "start_time": "2023-12-08T21:33:15.166Z"
   },
   {
    "duration": 43,
    "start_time": "2023-12-08T21:33:15.171Z"
   },
   {
    "duration": 52,
    "start_time": "2023-12-08T21:33:15.215Z"
   },
   {
    "duration": 47,
    "start_time": "2023-12-09T10:13:01.893Z"
   },
   {
    "duration": 5940,
    "start_time": "2023-12-09T10:13:07.339Z"
   },
   {
    "duration": 1407,
    "start_time": "2023-12-09T10:13:13.282Z"
   },
   {
    "duration": 3,
    "start_time": "2023-12-09T10:13:14.690Z"
   },
   {
    "duration": 117,
    "start_time": "2023-12-09T10:13:14.694Z"
   },
   {
    "duration": 9,
    "start_time": "2023-12-09T10:13:14.813Z"
   },
   {
    "duration": 17,
    "start_time": "2023-12-09T10:13:14.823Z"
   },
   {
    "duration": 9,
    "start_time": "2023-12-09T10:13:14.841Z"
   },
   {
    "duration": 22,
    "start_time": "2023-12-09T10:13:14.851Z"
   },
   {
    "duration": 5,
    "start_time": "2023-12-09T10:13:14.874Z"
   },
   {
    "duration": 10,
    "start_time": "2023-12-09T10:13:14.880Z"
   },
   {
    "duration": 1156,
    "start_time": "2023-12-09T10:13:18.460Z"
   },
   {
    "duration": 190,
    "start_time": "2023-12-09T10:13:54.165Z"
   },
   {
    "duration": 3,
    "start_time": "2023-12-09T10:14:06.485Z"
   },
   {
    "duration": 185,
    "start_time": "2023-12-09T10:14:09.827Z"
   },
   {
    "duration": 189,
    "start_time": "2023-12-09T10:14:54.456Z"
   },
   {
    "duration": 264,
    "start_time": "2023-12-09T10:15:19.016Z"
   },
   {
    "duration": 249,
    "start_time": "2023-12-09T10:15:32.935Z"
   },
   {
    "duration": 336,
    "start_time": "2023-12-09T10:17:16.508Z"
   },
   {
    "duration": 292,
    "start_time": "2023-12-09T10:17:25.119Z"
   },
   {
    "duration": 359,
    "start_time": "2023-12-09T10:17:32.128Z"
   },
   {
    "duration": 299,
    "start_time": "2023-12-09T10:17:37.427Z"
   },
   {
    "duration": 279,
    "start_time": "2023-12-09T10:17:45.613Z"
   },
   {
    "duration": 283,
    "start_time": "2023-12-09T10:19:45.869Z"
   },
   {
    "duration": 268,
    "start_time": "2023-12-09T10:20:09.094Z"
   },
   {
    "duration": 279,
    "start_time": "2023-12-09T10:20:14.914Z"
   },
   {
    "duration": 357,
    "start_time": "2023-12-09T10:22:12.800Z"
   },
   {
    "duration": 235,
    "start_time": "2023-12-09T10:22:46.583Z"
   },
   {
    "duration": 225,
    "start_time": "2023-12-09T10:22:57.905Z"
   },
   {
    "duration": 12,
    "start_time": "2023-12-09T10:23:16.446Z"
   },
   {
    "duration": 232,
    "start_time": "2023-12-09T10:23:26.064Z"
   },
   {
    "duration": 327,
    "start_time": "2023-12-09T10:23:52.710Z"
   },
   {
    "duration": 13,
    "start_time": "2023-12-09T10:24:09.760Z"
   },
   {
    "duration": 149,
    "start_time": "2023-12-09T10:25:13.932Z"
   },
   {
    "duration": 152,
    "start_time": "2023-12-09T10:25:21.438Z"
   },
   {
    "duration": 211,
    "start_time": "2023-12-09T10:27:37.194Z"
   },
   {
    "duration": 289,
    "start_time": "2023-12-09T10:27:58.490Z"
   },
   {
    "duration": 204,
    "start_time": "2023-12-09T10:28:12.796Z"
   },
   {
    "duration": 218,
    "start_time": "2023-12-09T10:29:05.549Z"
   },
   {
    "duration": 197,
    "start_time": "2023-12-09T10:29:14.492Z"
   },
   {
    "duration": 194,
    "start_time": "2023-12-09T10:31:05.145Z"
   },
   {
    "duration": 206,
    "start_time": "2023-12-09T10:31:11.503Z"
   },
   {
    "duration": 385,
    "start_time": "2023-12-09T10:33:27.900Z"
   },
   {
    "duration": 215,
    "start_time": "2023-12-09T10:33:42.519Z"
   },
   {
    "duration": 272,
    "start_time": "2023-12-09T10:34:33.693Z"
   },
   {
    "duration": 276,
    "start_time": "2023-12-09T10:40:25.886Z"
   },
   {
    "duration": 271,
    "start_time": "2023-12-09T10:40:37.655Z"
   },
   {
    "duration": 259,
    "start_time": "2023-12-09T10:40:59.318Z"
   },
   {
    "duration": 290,
    "start_time": "2023-12-09T10:41:07.924Z"
   },
   {
    "duration": 281,
    "start_time": "2023-12-09T10:41:59.682Z"
   },
   {
    "duration": 279,
    "start_time": "2023-12-09T10:42:29.544Z"
   },
   {
    "duration": 375,
    "start_time": "2023-12-09T10:42:42.545Z"
   },
   {
    "duration": 275,
    "start_time": "2023-12-09T10:42:49.989Z"
   },
   {
    "duration": 268,
    "start_time": "2023-12-09T10:42:57.200Z"
   },
   {
    "duration": 24,
    "start_time": "2023-12-09T10:47:17.752Z"
   },
   {
    "duration": 332,
    "start_time": "2023-12-09T10:47:33.826Z"
   },
   {
    "duration": 8,
    "start_time": "2023-12-09T10:48:23.049Z"
   },
   {
    "duration": 308,
    "start_time": "2023-12-09T10:49:43.851Z"
   },
   {
    "duration": 348,
    "start_time": "2023-12-09T10:51:18.691Z"
   },
   {
    "duration": 191,
    "start_time": "2023-12-09T10:51:30.963Z"
   },
   {
    "duration": 196,
    "start_time": "2023-12-09T10:52:10.961Z"
   },
   {
    "duration": 211,
    "start_time": "2023-12-09T10:52:16.644Z"
   },
   {
    "duration": 229,
    "start_time": "2023-12-09T10:52:34.850Z"
   },
   {
    "duration": 216,
    "start_time": "2023-12-09T11:01:24.450Z"
   },
   {
    "duration": 306,
    "start_time": "2023-12-09T11:01:49.886Z"
   },
   {
    "duration": 414,
    "start_time": "2023-12-09T11:02:07.168Z"
   },
   {
    "duration": 2694,
    "start_time": "2023-12-09T11:08:16.554Z"
   },
   {
    "duration": 1196,
    "start_time": "2023-12-09T11:08:19.250Z"
   },
   {
    "duration": 3,
    "start_time": "2023-12-09T11:08:20.448Z"
   },
   {
    "duration": 58,
    "start_time": "2023-12-09T11:08:20.453Z"
   },
   {
    "duration": 9,
    "start_time": "2023-12-09T11:08:20.512Z"
   },
   {
    "duration": 9,
    "start_time": "2023-12-09T11:08:20.522Z"
   },
   {
    "duration": 9,
    "start_time": "2023-12-09T11:08:20.532Z"
   },
   {
    "duration": 11,
    "start_time": "2023-12-09T11:08:20.542Z"
   },
   {
    "duration": 16,
    "start_time": "2023-12-09T11:08:20.554Z"
   },
   {
    "duration": 22,
    "start_time": "2023-12-09T11:08:20.573Z"
   },
   {
    "duration": 1111,
    "start_time": "2023-12-09T11:08:20.597Z"
   },
   {
    "duration": 135,
    "start_time": "2023-12-09T11:08:21.710Z"
   },
   {
    "duration": 0,
    "start_time": "2023-12-09T11:08:21.847Z"
   },
   {
    "duration": 0,
    "start_time": "2023-12-09T11:08:21.849Z"
   },
   {
    "duration": 0,
    "start_time": "2023-12-09T11:08:21.850Z"
   },
   {
    "duration": 0,
    "start_time": "2023-12-09T11:08:21.851Z"
   },
   {
    "duration": 0,
    "start_time": "2023-12-09T11:08:21.852Z"
   },
   {
    "duration": 0,
    "start_time": "2023-12-09T11:08:21.853Z"
   },
   {
    "duration": 0,
    "start_time": "2023-12-09T11:08:21.854Z"
   },
   {
    "duration": 0,
    "start_time": "2023-12-09T11:08:21.855Z"
   },
   {
    "duration": 0,
    "start_time": "2023-12-09T11:08:21.856Z"
   },
   {
    "duration": 0,
    "start_time": "2023-12-09T11:08:21.857Z"
   },
   {
    "duration": 0,
    "start_time": "2023-12-09T11:08:21.858Z"
   },
   {
    "duration": 0,
    "start_time": "2023-12-09T11:08:21.859Z"
   },
   {
    "duration": 0,
    "start_time": "2023-12-09T11:08:21.860Z"
   },
   {
    "duration": 0,
    "start_time": "2023-12-09T11:08:21.861Z"
   },
   {
    "duration": 282,
    "start_time": "2023-12-09T11:09:15.306Z"
   },
   {
    "duration": 2618,
    "start_time": "2023-12-09T11:09:21.121Z"
   },
   {
    "duration": 1206,
    "start_time": "2023-12-09T11:09:23.742Z"
   },
   {
    "duration": 3,
    "start_time": "2023-12-09T11:09:24.949Z"
   },
   {
    "duration": 49,
    "start_time": "2023-12-09T11:09:24.953Z"
   },
   {
    "duration": 8,
    "start_time": "2023-12-09T11:09:25.004Z"
   },
   {
    "duration": 9,
    "start_time": "2023-12-09T11:09:25.013Z"
   },
   {
    "duration": 9,
    "start_time": "2023-12-09T11:09:25.024Z"
   },
   {
    "duration": 5,
    "start_time": "2023-12-09T11:09:25.035Z"
   },
   {
    "duration": 6,
    "start_time": "2023-12-09T11:09:25.041Z"
   },
   {
    "duration": 14,
    "start_time": "2023-12-09T11:09:25.048Z"
   },
   {
    "duration": 1184,
    "start_time": "2023-12-09T11:09:25.064Z"
   },
   {
    "duration": 270,
    "start_time": "2023-12-09T11:09:26.249Z"
   },
   {
    "duration": 3,
    "start_time": "2023-12-09T11:09:26.521Z"
   },
   {
    "duration": 4,
    "start_time": "2023-12-09T11:09:26.526Z"
   },
   {
    "duration": 345,
    "start_time": "2023-12-09T11:09:26.531Z"
   },
   {
    "duration": 16,
    "start_time": "2023-12-09T11:09:26.878Z"
   },
   {
    "duration": 3,
    "start_time": "2023-12-09T11:09:26.895Z"
   },
   {
    "duration": 17,
    "start_time": "2023-12-09T11:09:26.899Z"
   },
   {
    "duration": 5014,
    "start_time": "2023-12-09T11:09:26.917Z"
   },
   {
    "duration": 3,
    "start_time": "2023-12-09T11:09:31.932Z"
   },
   {
    "duration": 14,
    "start_time": "2023-12-09T11:09:31.937Z"
   },
   {
    "duration": 19,
    "start_time": "2023-12-09T11:09:31.952Z"
   },
   {
    "duration": 78146,
    "start_time": "2023-12-09T11:09:31.973Z"
   },
   {
    "duration": 2,
    "start_time": "2023-12-09T11:10:50.121Z"
   },
   {
    "duration": 18,
    "start_time": "2023-12-09T11:10:50.125Z"
   },
   {
    "duration": 70,
    "start_time": "2023-12-09T11:10:50.144Z"
   }
  ],
  "colab": {
   "machine_shape": "hm",
   "provenance": [],
   "toc_visible": true
  },
  "kernelspec": {
   "display_name": "Python 3 (ipykernel)",
   "language": "python",
   "name": "python3"
  },
  "language_info": {
   "codemirror_mode": {
    "name": "ipython",
    "version": 3
   },
   "file_extension": ".py",
   "mimetype": "text/x-python",
   "name": "python",
   "nbconvert_exporter": "python",
   "pygments_lexer": "ipython3",
   "version": "3.9.5"
  },
  "toc": {
   "base_numbering": 1,
   "nav_menu": {},
   "number_sections": true,
   "sideBar": true,
   "skip_h1_title": true,
   "title_cell": "Содержание",
   "title_sidebar": "Contents",
   "toc_cell": true,
   "toc_position": {
    "height": "calc(100% - 180px)",
    "left": "10px",
    "top": "150px",
    "width": "214.72px"
   },
   "toc_section_display": true,
   "toc_window_display": true
  }
 },
 "nbformat": 4,
 "nbformat_minor": 1
}
